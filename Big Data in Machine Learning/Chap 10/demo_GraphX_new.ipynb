{
 "cells": [
  {
   "cell_type": "markdown",
   "metadata": {},
   "source": [
    "# Chapter 14: GraphX"
   ]
  },
  {
   "cell_type": "markdown",
   "metadata": {},
   "source": [
    "![img](graphx_logo.png)"
   ]
  },
  {
   "cell_type": "markdown",
   "metadata": {},
   "source": [
    "![graph_comp](GraphX_comp.png)"
   ]
  },
  {
   "cell_type": "markdown",
   "metadata": {},
   "source": [
    "- GraphX là một thành phần mới trong Spark dành cho đồ thị và tính toán song song đồ thị. \n",
    "- GraphX mở rộng Spark RDD bằng cách giới thiệu một bản tóm tắt Graph mới: một multigraph có hướng với các thuộc tính được gắn vào mỗi vertex và edge. \n",
    "- Để hỗ trợ tính toán biểu đồ, GraphX cung cấp một tập hợp các toán tử cơ bản (ví dụ như: subgraph, joinVertices, và aggregateMessages...)\n",
    "- Ngoài ra, GraphX bao gồm một bộ sưu tập các thuật toán và trình xây dựng để đơn giản hóa các tác vụ phân tích biểu đồ."
   ]
  },
  {
   "cell_type": "markdown",
   "metadata": {},
   "source": [
    "## Graph Theory - Lý thuyết đồ thị\n",
    "- Lý thuyết đồ thị là một nghiên cứu toàn diện và tiện dụng trong đó thảo luận về các cấu trúc đa dạng của đồ thị. \n",
    "- Mỗi đồ thị bao gồm các đỉnh (vertices hoặc node) được kết nối bởi các cạnh (edges). Thông thường các điểm dữ liệu (data points) hình thành các nút  (nodes) và bất kỳ kết nối hoặc mối quan hệ giữa các nút tạo nên các cạnh. \n",
    "- Một ví dụ điển hình của đồ thị là một tập hợp người dùng (node) trên Twitter được kết nối với nhau thông qua mối quan hệ \"theo dõi“ (\"following“) hoặc \"người theo dõi“ (\"follower\" ). Mỗi node và edge có thể nhận được các thuộc tính phân loại và số (categorical and numerical attributes). \n",
    "- Sử dụng lý thuyết đồ thị, chúng ta có thể xác định các cấu trúc tiện dụng như phát hiện các cộng đồng, tìm các node được kết nối mạnh mẽ, tìm các node có ảnh hưởng nhất và nhiều cấu trúc khác. "
   ]
  },
  {
   "cell_type": "code",
   "execution_count": 1,
   "metadata": {},
   "outputs": [],
   "source": [
    "import findspark\n",
    "findspark.init()"
   ]
  },
  {
   "cell_type": "code",
   "execution_count": 2,
   "metadata": {},
   "outputs": [],
   "source": [
    "import pyspark\n",
    "import os"
   ]
  },
  {
   "cell_type": "code",
   "execution_count": 3,
   "metadata": {},
   "outputs": [],
   "source": [
    "from pyspark.sql import *"
   ]
  },
  {
   "cell_type": "code",
   "execution_count": 4,
   "metadata": {},
   "outputs": [],
   "source": [
    "# Cài đặt và thiết lập biến môi trường"
   ]
  },
  {
   "cell_type": "code",
   "execution_count": 5,
   "metadata": {},
   "outputs": [],
   "source": [
    "SUBMIT_ARGS = \"--packages graphframes:graphframes:0.7.0-spark2.4-s_2.11 pyspark-shell\"\n",
    "os.environ[\"PYSPARK_SUBMIT_ARGS\"] = SUBMIT_ARGS"
   ]
  },
  {
   "cell_type": "code",
   "execution_count": 6,
   "metadata": {},
   "outputs": [
    {
     "name": "stdout",
     "output_type": "stream",
     "text": [
      "[('spark.repl.local.jars', 'file:///C:/Users/hv/.ivy2/jars/graphframes_graphframes-0.7.0-spark2.4-s_2.11.jar,file:///C:/Users/hv/.ivy2/jars/org.slf4j_slf4j-api-1.7.16.jar'), ('spark.executor.id', 'driver'), ('spark.app.name', 'pyspark-shell'), ('spark.driver.host', 'PM503-GV'), ('spark.driver.port', '50469'), ('spark.submit.pyFiles', 'C:/Users/hv/.ivy2/jars/graphframes_graphframes-0.7.0-spark2.4-s_2.11.jar,C:/Users/hv/.ivy2/jars/org.slf4j_slf4j-api-1.7.16.jar'), ('spark.rdd.compress', 'True'), ('spark.app.id', 'local-1603587027550'), ('spark.serializer.objectStreamReset', '100'), ('spark.master', 'local[*]'), ('spark.files', 'file:///C:/Users/hv/.ivy2/jars/graphframes_graphframes-0.7.0-spark2.4-s_2.11.jar,file:///C:/Users/hv/.ivy2/jars/org.slf4j_slf4j-api-1.7.16.jar'), ('spark.submit.deployMode', 'client'), ('spark.jars', 'file:///C:/Users/hv/.ivy2/jars/graphframes_graphframes-0.7.0-spark2.4-s_2.11.jar,file:///C:/Users/hv/.ivy2/jars/org.slf4j_slf4j-api-1.7.16.jar'), ('spark.ui.showConsoleProgress', 'true')]\n"
     ]
    }
   ],
   "source": [
    "conf = pyspark.SparkConf()\n",
    "sc = pyspark.SparkContext(conf=conf)\n",
    "print(sc._conf.getAll())"
   ]
  },
  {
   "cell_type": "markdown",
   "metadata": {},
   "source": [
    "### Tạo graph"
   ]
  },
  {
   "cell_type": "code",
   "execution_count": 7,
   "metadata": {},
   "outputs": [],
   "source": [
    "from graphframes import *"
   ]
  },
  {
   "cell_type": "code",
   "execution_count": 8,
   "metadata": {},
   "outputs": [],
   "source": [
    "spark = SparkSession(sc)"
   ]
  },
  {
   "cell_type": "code",
   "execution_count": 9,
   "metadata": {},
   "outputs": [],
   "source": [
    "vertices = spark.createDataFrame([('1', 'Carter', 50), \n",
    "                                  ('2', 'May', 26),\n",
    "                                 ('3', 'Mills', 80),\n",
    "                                  ('4', 'Hood', 65),\n",
    "                                  ('5', 'Banks', 93),\n",
    "                                 ('98', 'Berg', 28),\n",
    "                                 ('99', 'Page', 16)],\n",
    "                                 ['id', 'name', 'age'])\n",
    "edges = spark.createDataFrame([('1', '2', 'friend'),\n",
    "                               ('1', '98', 'friend'), \n",
    "                               ('2', '1', 'friend'),\n",
    "                              ('3', '1', 'friend'),\n",
    "                              ('1', '3', 'friend'),\n",
    "                               ('2', '3', 'follows'),\n",
    "                               ('3', '4', 'friend'),\n",
    "                               ('4', '3', 'friend'),\n",
    "                               ('5', '3', 'friend'),\n",
    "                               ('3', '5', 'friend'),\n",
    "                               ('4', '5', 'follows'),\n",
    "                              ('98', '99', 'friend'),\n",
    "                              ('99', '98', 'friend')],\n",
    "                              ['src', 'dst', 'type'])"
   ]
  },
  {
   "cell_type": "code",
   "execution_count": 10,
   "metadata": {},
   "outputs": [],
   "source": [
    "g = GraphFrame(vertices, edges)"
   ]
  },
  {
   "cell_type": "code",
   "execution_count": 11,
   "metadata": {},
   "outputs": [
    {
     "name": "stdout",
     "output_type": "stream",
     "text": [
      "+---+------+---+\n",
      "| id|  name|age|\n",
      "+---+------+---+\n",
      "|  1|Carter| 50|\n",
      "|  2|   May| 26|\n",
      "|  3| Mills| 80|\n",
      "|  4|  Hood| 65|\n",
      "|  5| Banks| 93|\n",
      "| 98|  Berg| 28|\n",
      "| 99|  Page| 16|\n",
      "+---+------+---+\n",
      "\n"
     ]
    }
   ],
   "source": [
    "## Take a look at the DataFrames\n",
    "g.vertices.show()"
   ]
  },
  {
   "cell_type": "code",
   "execution_count": 12,
   "metadata": {},
   "outputs": [
    {
     "name": "stdout",
     "output_type": "stream",
     "text": [
      "+---+---+-------+\n",
      "|src|dst|   type|\n",
      "+---+---+-------+\n",
      "|  1|  2| friend|\n",
      "|  1| 98| friend|\n",
      "|  2|  1| friend|\n",
      "|  3|  1| friend|\n",
      "|  1|  3| friend|\n",
      "|  2|  3|follows|\n",
      "|  3|  4| friend|\n",
      "|  4|  3| friend|\n",
      "|  5|  3| friend|\n",
      "|  3|  5| friend|\n",
      "|  4|  5|follows|\n",
      "| 98| 99| friend|\n",
      "| 99| 98| friend|\n",
      "+---+---+-------+\n",
      "\n"
     ]
    }
   ],
   "source": [
    "g.edges.show()"
   ]
  },
  {
   "cell_type": "code",
   "execution_count": 13,
   "metadata": {},
   "outputs": [
    {
     "name": "stdout",
     "output_type": "stream",
     "text": [
      "+---+------+\n",
      "| id|degree|\n",
      "+---+------+\n",
      "|  3|     7|\n",
      "| 98|     3|\n",
      "| 99|     2|\n",
      "|  5|     3|\n",
      "|  1|     5|\n",
      "|  4|     3|\n",
      "|  2|     3|\n",
      "+---+------+\n",
      "\n"
     ]
    }
   ],
   "source": [
    "## Check the number of edges of each vertex\n",
    "g.degrees.show()"
   ]
  },
  {
   "cell_type": "code",
   "execution_count": 14,
   "metadata": {},
   "outputs": [],
   "source": [
    "import networkx as nx"
   ]
  },
  {
   "cell_type": "code",
   "execution_count": 15,
   "metadata": {},
   "outputs": [],
   "source": [
    "import matplotlib.pyplot as plt"
   ]
  },
  {
   "cell_type": "code",
   "execution_count": 16,
   "metadata": {},
   "outputs": [],
   "source": [
    "def PlotGraph(edge_list):\n",
    "    Gplot=nx.Graph()\n",
    "    for row in edge_list.select('src','dst').take(1000):\n",
    "        Gplot.add_edge(row['src'],row['dst'])        \n",
    "    plt.subplot(121)\n",
    "    nx.draw(Gplot, with_labels=True, font_weight='bold')"
   ]
  },
  {
   "cell_type": "code",
   "execution_count": 17,
   "metadata": {},
   "outputs": [
    {
     "name": "stderr",
     "output_type": "stream",
     "text": [
      "c:\\program files\\python36\\lib\\site-packages\\networkx\\drawing\\nx_pylab.py:579: MatplotlibDeprecationWarning: \n",
      "The iterable function was deprecated in Matplotlib 3.1 and will be removed in 3.3. Use np.iterable instead.\n",
      "  if not cb.iterable(width):\n"
     ]
    },
    {
     "data": {
      "image/png": "[encoded data removed]",
      "text/plain": [
       "<Figure size 432x288 with 1 Axes>"
      ]
     },
     "metadata": {},
     "output_type": "display_data"
    }
   ],
   "source": [
    "PlotGraph(g.edges)"
   ]
  },
  {
   "cell_type": "markdown",
   "metadata": {},
   "source": [
    "### Filtering"
   ]
  },
  {
   "cell_type": "code",
   "execution_count": 18,
   "metadata": {},
   "outputs": [
    {
     "data": {
      "text/plain": [
       "graphframes.graphframe.GraphFrame"
      ]
     },
     "execution_count": 18,
     "metadata": {},
     "output_type": "execute_result"
    }
   ],
   "source": [
    "type(g)"
   ]
  },
  {
   "cell_type": "code",
   "execution_count": 19,
   "metadata": {},
   "outputs": [
    {
     "name": "stdout",
     "output_type": "stream",
     "text": [
      "+---+------+---+\n",
      "| id|  name|age|\n",
      "+---+------+---+\n",
      "|  1|Carter| 50|\n",
      "|  3| Mills| 80|\n",
      "|  4|  Hood| 65|\n",
      "|  5| Banks| 93|\n",
      "+---+------+---+\n",
      "\n"
     ]
    }
   ],
   "source": [
    "g.vertices.filter(\"age > 30\").show()"
   ]
  },
  {
   "cell_type": "code",
   "execution_count": 20,
   "metadata": {},
   "outputs": [
    {
     "name": "stdout",
     "output_type": "stream",
     "text": [
      "+---+--------+\n",
      "| id|inDegree|\n",
      "+---+--------+\n",
      "|  3|       4|\n",
      "| 98|       2|\n",
      "|  5|       2|\n",
      "|  1|       2|\n",
      "+---+--------+\n",
      "\n"
     ]
    }
   ],
   "source": [
    "g.inDegrees.filter(\"inDegree >= 2\")\\\n",
    "                    .sort(\"inDegree\", ascending=False)\\\n",
    "                    .show()"
   ]
  },
  {
   "cell_type": "code",
   "execution_count": 21,
   "metadata": {},
   "outputs": [
    {
     "name": "stdout",
     "output_type": "stream",
     "text": [
      "+---+---+------+\n",
      "|src|dst|  type|\n",
      "+---+---+------+\n",
      "|  1|  2|friend|\n",
      "|  1| 98|friend|\n",
      "|  2|  1|friend|\n",
      "|  3|  1|friend|\n",
      "|  1|  3|friend|\n",
      "|  3|  4|friend|\n",
      "|  4|  3|friend|\n",
      "|  5|  3|friend|\n",
      "|  3|  5|friend|\n",
      "| 98| 99|friend|\n",
      "| 99| 98|friend|\n",
      "+---+---+------+\n",
      "\n"
     ]
    }
   ],
   "source": [
    "g.edges.filter('type == \"friend\"').show()"
   ]
  },
  {
   "cell_type": "markdown",
   "metadata": {},
   "source": [
    "### Connecting"
   ]
  },
  {
   "cell_type": "code",
   "execution_count": 22,
   "metadata": {},
   "outputs": [],
   "source": [
    "# GraphFrames requires you to set \n",
    "# a directory where it can save checkpoints\n",
    "sc.setCheckpointDir('graphframes_cps')"
   ]
  },
  {
   "cell_type": "code",
   "execution_count": 23,
   "metadata": {},
   "outputs": [
    {
     "name": "stdout",
     "output_type": "stream",
     "text": [
      "+---+------+---+------------+\n",
      "| id|  name|age|   component|\n",
      "+---+------+---+------------+\n",
      "|  1|Carter| 50|154618822656|\n",
      "|  2|   May| 26|154618822656|\n",
      "|  3| Mills| 80|154618822656|\n",
      "|  4|  Hood| 65|154618822656|\n",
      "|  5| Banks| 93|154618822656|\n",
      "| 98|  Berg| 28|154618822656|\n",
      "| 99|  Page| 16|154618822656|\n",
      "+---+------+---+------------+\n",
      "\n"
     ]
    }
   ],
   "source": [
    "g.connectedComponents().show()"
   ]
  },
  {
   "cell_type": "markdown",
   "metadata": {},
   "source": [
    "- Chỉ có một componenet trong đồ thị."
   ]
  },
  {
   "cell_type": "markdown",
   "metadata": {},
   "source": [
    "### Motif finding\n",
    "- Khi tìm từng cặp vertice a,b được nối với nhau bằng edge e, và cặp  vertice b,c được nối với nhau bằng edge e2 => trả về DataFrame tất cả các cấu trúc như vậy trong có biểu đồ, với các cột cho từng thành phần được đặt tên (vertices hoặc edges) trong mô-đun của tất cả các cấu trúc như vậy trong biểu đồ:\n",
    "- g.find(\"(a)-[e]->(b); (b)-[e2]->(a)\").show()\n",
    "- Nếu edges và/hoặc vertices không có tên (anonymous), chúng sẽ không được hiển thị trong DataFrame kết quả. Mô-đun có thể được nối bằng dấu chấm phẩy (;) và có thể được phủ định bằng dấu chấm than(!)."
   ]
  },
  {
   "cell_type": "code",
   "execution_count": 24,
   "metadata": {},
   "outputs": [],
   "source": [
    "mutualFriends = g.find(\"(a)-[]->(b); (b)-[]->(c); (c)-[]->(b); (b)-[]->(a)\")\\\n",
    "                                                                .dropDuplicates()"
   ]
  },
  {
   "cell_type": "code",
   "execution_count": 25,
   "metadata": {},
   "outputs": [
    {
     "name": "stdout",
     "output_type": "stream",
     "text": [
      "+------------+---------------+--------------+\n",
      "|           a|              b|             c|\n",
      "+------------+---------------+--------------+\n",
      "|[2, May, 26]|[1, Carter, 50]|[3, Mills, 80]|\n",
      "+------------+---------------+--------------+\n",
      "\n"
     ]
    }
   ],
   "source": [
    "mutualFriends.filter('a.id == 2 and c.id == 3').show()"
   ]
  },
  {
   "cell_type": "markdown",
   "metadata": {},
   "source": [
    "### TriangleCount "
   ]
  },
  {
   "cell_type": "markdown",
   "metadata": {},
   "source": [
    "- Đếm số lượng hình tam giác đi qua mỗi đỉnh trong đồ thị. Một tam giác có thể được định nghĩa là một nhóm gồm ba đỉnh có liên quan với nhau. Ví dụ: Tam giác abc: a có cạnh với b, b có cạnh với c và c có cạnh với a."
   ]
  },
  {
   "cell_type": "code",
   "execution_count": 26,
   "metadata": {},
   "outputs": [
    {
     "name": "stdout",
     "output_type": "stream",
     "text": [
      "+-----+---+------+---+\n",
      "|count| id|  name|age|\n",
      "+-----+---+------+---+\n",
      "|    2|  3| Mills| 80|\n",
      "|    0| 98|  Berg| 28|\n",
      "|    0| 99|  Page| 16|\n",
      "|    1|  5| Banks| 93|\n",
      "|    1|  1|Carter| 50|\n",
      "|    1|  4|  Hood| 65|\n",
      "|    1|  2|   May| 26|\n",
      "+-----+---+------+---+\n",
      "\n"
     ]
    }
   ],
   "source": [
    "g.triangleCount().show()"
   ]
  },
  {
   "cell_type": "markdown",
   "metadata": {},
   "source": [
    "### PageRank\n",
    "- PageRank hoạt động bằng cách đếm số lượng (number) và chất lượng (quality) của các liên kết (link) đến một trang để xác định ước tính sơ bộ về tầm quan trọng của trang web. Giả định là các trang web quan trọng hơn có khả năng nhận được nhiều link hơn từ các trang web khác.\n",
    "- Thuật toán PageRank cho rằng một người lướt web đang click ngẫu nhiên vào các link cuối cùng sẽ dừng click. Xác suất, ở bất kỳ bước nào, người đó sẽ tiếp tục là một yếu tố giảm tốc độ click (damping factor). Có thể đặt hệ số damping factor bằng cách thay đổi tham số resetProbability. Các tham số quan trọng khác là độ dung sai(tolerance - tol) và số lần lặp tối đa (maxIter).\n",
    "https://medium.com/@jentekllc8888/page-rank-with-apache-spark-graphx-a51964467c56\n"
   ]
  },
  {
   "cell_type": "code",
   "execution_count": 27,
   "metadata": {},
   "outputs": [],
   "source": [
    "pr = g.pageRank(resetProbability=0.15, tol=0.01)"
   ]
  },
  {
   "cell_type": "code",
   "execution_count": 28,
   "metadata": {},
   "outputs": [
    {
     "name": "stdout",
     "output_type": "stream",
     "text": [
      "+---+------+---+------------------+\n",
      "| id|  name|age|          pagerank|\n",
      "+---+------+---+------------------+\n",
      "|  1|Carter| 50|0.6799541646597174|\n",
      "|  3| Mills| 80| 1.360269120202177|\n",
      "|  2|   May| 26|0.3505290564027432|\n",
      "|  4|  Hood| 65|0.5442781769957595|\n",
      "| 98|  Berg| 28| 1.693795983443179|\n",
      "|  5| Banks| 93|0.7695218034237804|\n",
      "| 99|  Page| 16|1.6016516948726431|\n",
      "+---+------+---+------------------+\n",
      "\n"
     ]
    }
   ],
   "source": [
    "# look at the pagerank score for every vertex\n",
    "pr.vertices.show()"
   ]
  },
  {
   "cell_type": "code",
   "execution_count": 29,
   "metadata": {},
   "outputs": [
    {
     "name": "stdout",
     "output_type": "stream",
     "text": [
      "+---+---+-------+------------------+\n",
      "|src|dst|   type|            weight|\n",
      "+---+---+-------+------------------+\n",
      "|  1|  2| friend|0.3333333333333333|\n",
      "| 99| 98| friend|               1.0|\n",
      "|  1|  3| friend|0.3333333333333333|\n",
      "|  4|  5|follows|               0.5|\n",
      "|  5|  3| friend|               1.0|\n",
      "| 98| 99| friend|               1.0|\n",
      "|  3|  5| friend|0.3333333333333333|\n",
      "|  4|  3| friend|               0.5|\n",
      "|  2|  1| friend|               0.5|\n",
      "|  3|  4| friend|0.3333333333333333|\n",
      "|  1| 98| friend|0.3333333333333333|\n",
      "|  3|  1| friend|0.3333333333333333|\n",
      "|  2|  3|follows|               0.5|\n",
      "+---+---+-------+------------------+\n",
      "\n"
     ]
    }
   ],
   "source": [
    "# look at the weight of every edge\n",
    "pr.edges.show()"
   ]
  }
 ],
 "metadata": {
  "kernelspec": {
   "display_name": "Python 3",
   "language": "python",
   "name": "python3"
  },
  "language_info": {
   "codemirror_mode": {
    "name": "ipython",
    "version": 3
   },
   "file_extension": ".py",
   "mimetype": "text/x-python",
   "name": "python",
   "nbconvert_exporter": "python",
   "pygments_lexer": "ipython3",
   "version": "3.6.8"
  }
 },
 "nbformat": 4,
 "nbformat_minor": 4
}
