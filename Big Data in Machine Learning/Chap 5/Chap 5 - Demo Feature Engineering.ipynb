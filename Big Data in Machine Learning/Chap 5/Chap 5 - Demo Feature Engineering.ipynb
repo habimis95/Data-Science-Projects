{
 "cells": [
  {
   "cell_type": "code",
   "execution_count": 1,
   "metadata": {},
   "outputs": [],
   "source": [
    "import findspark\n",
    "findspark.init()"
   ]
  },
  {
   "cell_type": "code",
   "execution_count": 2,
   "metadata": {},
   "outputs": [],
   "source": [
    "import pyspark\n",
    "from pyspark import SparkContext\n",
    "sc = SparkContext(master=\"local\", appName=\"New Spark Context\")"
   ]
  },
  {
   "cell_type": "code",
   "execution_count": 3,
   "metadata": {},
   "outputs": [],
   "source": [
    "from pyspark.sql import Row, SQLContext\n",
    "from pyspark.sql import SparkSession\n",
    "spark = SparkSession(sc)"
   ]
  },
  {
   "cell_type": "code",
   "execution_count": 4,
   "metadata": {},
   "outputs": [],
   "source": [
    "from pyspark import SparkContext\n",
    "from pyspark.conf import SparkConf\n",
    "from pyspark.sql import SparkSession\n",
    "import matplotlib.pyplot as plt\n",
    "import seaborn as sns\n",
    "from pyspark.sql.functions import mean, stddev, col, log\n",
    "from pyspark.sql.functions import to_date, dayofweek, to_timestamp\n",
    "from pyspark.sql import types \n",
    "from pyspark.sql.functions import col, udf\n",
    "from datetime import datetime\n",
    "from pyspark.sql.types import DateType\n",
    "from pyspark.sql.functions import year, month\n",
    "from pyspark.sql.functions import dayofmonth, weekofyear\n",
    "from pyspark.sql.functions import split, explode\n",
    "from pyspark.sql.functions import coalesce, first, lit\n",
    "from pyspark.ml.feature import Binarizer\n",
    "from pyspark.ml.feature import Bucketizer\n",
    "from pyspark.ml.feature import OneHotEncoder, StringIndexer\n",
    "from pyspark.sql.functions import regexp_extract, col"
   ]
  },
  {
   "cell_type": "code",
   "execution_count": 5,
   "metadata": {},
   "outputs": [],
   "source": [
    "df = spark.read.csv(\"Cung cap du lieu buoi 4/2017_StPaul_MN_Real_Estate.csv\", header=True, inferSchema=True)"
   ]
  },
  {
   "cell_type": "code",
   "execution_count": 8,
   "metadata": {},
   "outputs": [
    {
     "name": "stdout",
     "output_type": "stream",
     "text": [
      "root\n",
      " |-- No: integer (nullable = true)\n",
      " |-- MLSID: string (nullable = true)\n",
      " |-- StreetNumberNumeric: integer (nullable = true)\n",
      " |-- streetaddress: string (nullable = true)\n",
      " |-- STREETNAME: string (nullable = true)\n",
      " |-- PostalCode: integer (nullable = true)\n",
      " |-- StateOrProvince: string (nullable = true)\n",
      " |-- City: string (nullable = true)\n",
      " |-- SalesClosePrice: integer (nullable = true)\n",
      " |-- LISTDATE: string (nullable = true)\n",
      " |-- LISTPRICE: integer (nullable = true)\n",
      " |-- LISTTYPE: string (nullable = true)\n",
      " |-- OriginalListPrice: integer (nullable = true)\n",
      " |-- PricePerTSFT: double (nullable = true)\n",
      " |-- FOUNDATIONSIZE: integer (nullable = true)\n",
      " |-- FENCE: string (nullable = true)\n",
      " |-- MapLetter: string (nullable = true)\n",
      " |-- LotSizeDimensions: string (nullable = true)\n",
      " |-- SchoolDistrictNumber: string (nullable = true)\n",
      " |-- DAYSONMARKET: integer (nullable = true)\n",
      " |-- offmarketdate: string (nullable = true)\n",
      " |-- Fireplaces: integer (nullable = true)\n",
      " |-- RoomArea4: string (nullable = true)\n",
      " |-- roomtype: string (nullable = true)\n",
      " |-- ROOF: string (nullable = true)\n",
      " |-- RoomFloor4: string (nullable = true)\n",
      " |-- PotentialShortSale: string (nullable = true)\n",
      " |-- PoolDescription: string (nullable = true)\n",
      " |-- PDOM: integer (nullable = true)\n",
      " |-- GarageDescription: string (nullable = true)\n",
      " |-- SQFTABOVEGROUND: integer (nullable = true)\n",
      " |-- Taxes: integer (nullable = true)\n",
      " |-- RoomFloor1: string (nullable = true)\n",
      " |-- RoomArea1: string (nullable = true)\n",
      " |-- TAXWITHASSESSMENTS: double (nullable = true)\n",
      " |-- TAXYEAR: integer (nullable = true)\n",
      " |-- LivingArea: integer (nullable = true)\n",
      " |-- UNITNUMBER: string (nullable = true)\n",
      " |-- YEARBUILT: integer (nullable = true)\n",
      " |-- ZONING: string (nullable = true)\n",
      " |-- STYLE: string (nullable = true)\n",
      " |-- ACRES: double (nullable = true)\n",
      " |-- CoolingDescription: string (nullable = true)\n",
      " |-- APPLIANCES: string (nullable = true)\n",
      " |-- backonmarketdate: string (nullable = true)\n",
      " |-- ROOMFAMILYCHAR: string (nullable = true)\n",
      " |-- RoomArea3: string (nullable = true)\n",
      " |-- EXTERIOR: string (nullable = true)\n",
      " |-- RoomFloor3: string (nullable = true)\n",
      " |-- RoomFloor2: string (nullable = true)\n",
      " |-- RoomArea2: string (nullable = true)\n",
      " |-- DiningRoomDescription: string (nullable = true)\n",
      " |-- BASEMENT: string (nullable = true)\n",
      " |-- BathsFull: integer (nullable = true)\n",
      " |-- BathsHalf: integer (nullable = true)\n",
      " |-- BATHQUARTER: integer (nullable = true)\n",
      " |-- BATHSTHREEQUARTER: integer (nullable = true)\n",
      " |-- Class: string (nullable = true)\n",
      " |-- BATHSTOTAL: integer (nullable = true)\n",
      " |-- BATHDESC: string (nullable = true)\n",
      " |-- RoomArea5: string (nullable = true)\n",
      " |-- RoomFloor5: string (nullable = true)\n",
      " |-- RoomArea6: string (nullable = true)\n",
      " |-- RoomFloor6: string (nullable = true)\n",
      " |-- RoomArea7: string (nullable = true)\n",
      " |-- RoomFloor7: string (nullable = true)\n",
      " |-- RoomArea8: string (nullable = true)\n",
      " |-- RoomFloor8: string (nullable = true)\n",
      " |-- Bedrooms: integer (nullable = true)\n",
      " |-- SQFTBELOWGROUND: integer (nullable = true)\n",
      " |-- AssumableMortgage: string (nullable = true)\n",
      " |-- AssociationFee: integer (nullable = true)\n",
      " |-- ASSESSMENTPENDING: string (nullable = true)\n",
      " |-- AssessedValuation: double (nullable = true)\n",
      "\n"
     ]
    }
   ],
   "source": [
    "df.printSchema()"
   ]
  },
  {
   "cell_type": "code",
   "execution_count": 9,
   "metadata": {},
   "outputs": [],
   "source": [
    "from pyspark.sql.functions import datediff"
   ]
  },
  {
   "cell_type": "code",
   "execution_count": 10,
   "metadata": {},
   "outputs": [],
   "source": [
    "# Sum two columns\n",
    "df = df.withColumn('TSQFT', (df['SQFTBELOWGROUND'] + df['SQFTABOVEGROUND']))\n",
    "\n",
    "# Divide two columns\n",
    "df = df.withColumn('PRICEPERTSQFT', (df['LISTPRICE']/ df['TSQFT']))\n",
    "\n",
    "# Difference two columns\n",
    "df = df.withColumn('DAYSONMARKET', datediff('OFFMARKETDATE', 'LISTDATE'))"
   ]
  },
  {
   "cell_type": "code",
   "execution_count": 11,
   "metadata": {},
   "outputs": [
    {
     "name": "stdout",
     "output_type": "stream",
     "text": [
      "Corr of FOUNDATIONSIZE vs SalesClosePrice:0.6152231695664401\n"
     ]
    }
   ],
   "source": [
    "# Lot size in square feet\n",
    "acres_to_sqfeet = 43560\n",
    "df = df.withColumn('LOT_SIZE_SQFT', df['ACRES'] * acres_to_sqfeet)\n",
    "\n",
    "# Create new column YARD_SIZE\n",
    "df = df.withColumn('YARD_SIZE', df['LOT_SIZE_SQFT'] - df['FOUNDATIONSIZE'])\n",
    "\n",
    "# Corr of FOUNDATIONSIZE vs SALESCLOSEPRICE\n",
    "print('Corr of FOUNDATIONSIZE vs SalesClosePrice:' + str(df.corr('FOUNDATIONSIZE', 'SalesClosePrice')))\n"
   ]
  },
  {
   "cell_type": "code",
   "execution_count": 13,
   "metadata": {},
   "outputs": [
    {
     "name": "stdout",
     "output_type": "stream",
     "text": [
      "+------------------+--------+----------+\n",
      "|      BED_TO_BATHS|BEDROOMS|BATHSTOTAL|\n",
      "+------------------+--------+----------+\n",
      "|               1.5|       3|         2|\n",
      "|1.3333333333333333|       4|         3|\n",
      "|               2.0|       2|         1|\n",
      "|               1.0|       2|         2|\n",
      "|               1.5|       3|         2|\n",
      "+------------------+--------+----------+\n",
      "only showing top 5 rows\n",
      "\n"
     ]
    }
   ],
   "source": [
    "# Ratio: BED_TO_BATHS\n",
    "df = df.withColumn('BED_TO_BATHS', df['BEDROOMS']/df['BATHSTOTAL'])\n",
    "df[['BED_TO_BATHS', 'BEDROOMS', 'BATHSTOTAL']].show(5)"
   ]
  },
  {
   "cell_type": "code",
   "execution_count": 16,
   "metadata": {},
   "outputs": [],
   "source": [
    "# https://docs.oracle.com/javase/7/docs/api/java/util/regex/Pattern.html\n",
    "# https://docs.data.world/documentation/sql/reference/functions/regexp_extract.html"
   ]
  },
  {
   "cell_type": "code",
   "execution_count": 18,
   "metadata": {},
   "outputs": [],
   "source": [
    "# Convert to date type\n",
    "func =  udf (lambda x: datetime.strptime(x, '%m/%d/%Y %H:%M'), DateType())\n",
    "df = df.withColumn('LISTDATE_new', func(col('LISTDATE')))\n",
    "# df = df.withColumn('LISTDATE_new', to_date('LISTDATE'))\n",
    "\n",
    "# Get the day of the week\n",
    "df = df.withColumn('List_Day_of_Week', dayofweek('LISTDATE_new'))\n",
    "\n",
    "# Sample and convert to pandas dataframe\n",
    "sample_df = df.sample(False, 0.5, 42).toPandas()"
   ]
  },
  {
   "cell_type": "code",
   "execution_count": 19,
   "metadata": {},
   "outputs": [
    {
     "data": {
      "text/html": [
       "<div>\n",
       "<style scoped>\n",
       "    .dataframe tbody tr th:only-of-type {\n",
       "        vertical-align: middle;\n",
       "    }\n",
       "\n",
       "    .dataframe tbody tr th {\n",
       "        vertical-align: top;\n",
       "    }\n",
       "\n",
       "    .dataframe thead th {\n",
       "        text-align: right;\n",
       "    }\n",
       "</style>\n",
       "<table border=\"1\" class=\"dataframe\">\n",
       "  <thead>\n",
       "    <tr style=\"text-align: right;\">\n",
       "      <th></th>\n",
       "      <th>LISTDATE</th>\n",
       "      <th>LISTDATE_new</th>\n",
       "      <th>List_Day_of_Week</th>\n",
       "    </tr>\n",
       "  </thead>\n",
       "  <tbody>\n",
       "    <tr>\n",
       "      <th>0</th>\n",
       "      <td>9/12/2017 0:00</td>\n",
       "      <td>2017-09-12</td>\n",
       "      <td>3</td>\n",
       "    </tr>\n",
       "    <tr>\n",
       "      <th>1</th>\n",
       "      <td>6/8/2017 0:00</td>\n",
       "      <td>2017-06-08</td>\n",
       "      <td>5</td>\n",
       "    </tr>\n",
       "    <tr>\n",
       "      <th>2</th>\n",
       "      <td>11/5/2017 0:00</td>\n",
       "      <td>2017-11-05</td>\n",
       "      <td>1</td>\n",
       "    </tr>\n",
       "    <tr>\n",
       "      <th>3</th>\n",
       "      <td>10/12/2017 0:00</td>\n",
       "      <td>2017-10-12</td>\n",
       "      <td>5</td>\n",
       "    </tr>\n",
       "    <tr>\n",
       "      <th>4</th>\n",
       "      <td>5/19/2017 0:00</td>\n",
       "      <td>2017-05-19</td>\n",
       "      <td>6</td>\n",
       "    </tr>\n",
       "  </tbody>\n",
       "</table>\n",
       "</div>"
      ],
      "text/plain": [
       "          LISTDATE LISTDATE_new  List_Day_of_Week\n",
       "0   9/12/2017 0:00   2017-09-12                 3\n",
       "1    6/8/2017 0:00   2017-06-08                 5\n",
       "2   11/5/2017 0:00   2017-11-05                 1\n",
       "3  10/12/2017 0:00   2017-10-12                 5\n",
       "4   5/19/2017 0:00   2017-05-19                 6"
      ]
     },
     "execution_count": 19,
     "metadata": {},
     "output_type": "execute_result"
    }
   ],
   "source": [
    "sample_df[['LISTDATE', 'LISTDATE_new', 'List_Day_of_Week']].head(5)"
   ]
  },
  {
   "cell_type": "code",
   "execution_count": 20,
   "metadata": {},
   "outputs": [
    {
     "data": {
      "image/png": "[encoded data removed]",
      "text/plain": [
       "<Figure size 432x288 with 1 Axes>"
      ]
     },
     "metadata": {
      "needs_background": "light"
     },
     "output_type": "display_data"
    }
   ],
   "source": [
    "# Plot count plot of day of week\n",
    "ax = sns.countplot(x='List_Day_of_Week', data=sample_df)\n",
    "plt.show()"
   ]
  },
  {
   "cell_type": "code",
   "execution_count": 22,
   "metadata": {},
   "outputs": [
    {
     "data": {
      "image/png": "[encoded data removed]",
      "text/plain": [
       "<Figure size 432x288 with 1 Axes>"
      ]
     },
     "metadata": {
      "needs_background": "light"
     },
     "output_type": "display_data"
    }
   ],
   "source": [
    "ax = sns.countplot(x='List_Day_of_Week', data=df.toPandas())\n",
    "plt.show()"
   ]
  },
  {
   "cell_type": "markdown",
   "metadata": {},
   "source": [
    "- Extracting Feature"
   ]
  },
  {
   "cell_type": "code",
   "execution_count": 23,
   "metadata": {},
   "outputs": [
    {
     "name": "stdout",
     "output_type": "stream",
     "text": [
      "+--------------------------------------------------+-------------------+\n",
      "|                                 GARAGEDESCRIPTION|has_attached_garage|\n",
      "+--------------------------------------------------+-------------------+\n",
      "|                                   Attached Garage|                  1|\n",
      "|Attached Garage, Driveway - Asphalt, Garage Doo...|                  1|\n",
      "|                                   Attached Garage|                  1|\n",
      "+--------------------------------------------------+-------------------+\n",
      "only showing top 3 rows\n",
      "\n"
     ]
    }
   ],
   "source": [
    "# Import needed functions\n",
    "from pyspark.sql.functions import when\n",
    "# Create boolean conditions for string matches\n",
    "has_attached_garage = df['GARAGEDESCRIPTION'].like('%Attached Garage%')\n",
    "has_detached_garage = df['GARAGEDESCRIPTION'].like('%Detached Garage%')\n",
    "# Conditional value assignment\n",
    "df = df.withColumn('has_attached_garage', (when(has_attached_garage,1)\n",
    "                                          .when(has_detached_garage,0)\n",
    "                                          .otherwise(None)))\n",
    "# Inspect results\n",
    "df[['GARAGEDESCRIPTION', 'has_attached_garage']].show(truncate=50, n=3)"
   ]
  },
  {
   "cell_type": "markdown",
   "metadata": {},
   "source": [
    "- Splitting"
   ]
  },
  {
   "cell_type": "code",
   "execution_count": 24,
   "metadata": {},
   "outputs": [
    {
     "name": "stdout",
     "output_type": "stream",
     "text": [
      "+----------------------------------------------+----------------+\n",
      "|                                          ROOF|   Roof_Material|\n",
      "+----------------------------------------------+----------------+\n",
      "|                                          null|            null|\n",
      "|Asphalt Shingles, Pitched, Age 8 Years or Less|Asphalt Shingles|\n",
      "|                                          null|            null|\n",
      "|Asphalt Shingles, Pitched, Age 8 Years or Less|Asphalt Shingles|\n",
      "|            Asphalt Shingles, Age Over 8 Years|Asphalt Shingles|\n",
      "+----------------------------------------------+----------------+\n",
      "only showing top 5 rows\n",
      "\n"
     ]
    }
   ],
   "source": [
    "from pyspark.sql.functions import split\n",
    "# Split the column on commas into a list\n",
    "split_col = split(df['ROOF'], ',')\n",
    "# Put the first value of the list into a new column\n",
    "df = df.withColumn('Roof_Material', split_col.getItem(0))\n",
    "# Inspect results\n",
    "df[['ROOF', 'Roof_Material']].show(5, truncate=100)"
   ]
  },
  {
   "cell_type": "markdown",
   "metadata": {},
   "source": [
    "- Exploding"
   ]
  },
  {
   "cell_type": "code",
   "execution_count": 25,
   "metadata": {},
   "outputs": [
    {
     "name": "stdout",
     "output_type": "stream",
     "text": [
      "+---+--------------------------------------------------+\n",
      "| No|                                         roof_list|\n",
      "+---+--------------------------------------------------+\n",
      "|  1|                                              null|\n",
      "|  2|[Asphalt Shingles,  Pitched,  Age 8 Years or Less]|\n",
      "|  3|                                              null|\n",
      "|  4|[Asphalt Shingles,  Pitched,  Age 8 Years or Less]|\n",
      "+---+--------------------------------------------------+\n",
      "only showing top 4 rows\n",
      "\n",
      "+---+--------------------+\n",
      "| No|        ex_roof_list|\n",
      "+---+--------------------+\n",
      "|  2|    Asphalt Shingles|\n",
      "|  2|             Pitched|\n",
      "|  2| Age 8 Years or Less|\n",
      "|  4|    Asphalt Shingles|\n",
      "|  4|             Pitched|\n",
      "+---+--------------------+\n",
      "only showing top 5 rows\n",
      "\n"
     ]
    }
   ],
   "source": [
    "# Import needed functions\n",
    "from pyspark.sql.functions import split, explode\n",
    "# Convert string to list-like array\n",
    "df = df.withColumn('roof_list', split(df['ROOF'], ','))\n",
    "df[['No', 'roof_list']].show(4, truncate=50)\n",
    "\n",
    "# Explode the values into new records\n",
    "roof_df = df.withColumn('ex_roof_list', explode(df['roof_list']))\n",
    "\n",
    "# Inspect the values\n",
    "roof_df[['No', 'ex_roof_list']].show(n=5, truncate=50)"
   ]
  },
  {
   "cell_type": "markdown",
   "metadata": {},
   "source": [
    "- Pivot"
   ]
  },
  {
   "cell_type": "code",
   "execution_count": 26,
   "metadata": {},
   "outputs": [],
   "source": [
    "from pyspark.sql.functions import split, explode, lit, coalesce, first"
   ]
  },
  {
   "cell_type": "code",
   "execution_count": 27,
   "metadata": {},
   "outputs": [
    {
     "name": "stdout",
     "output_type": "stream",
     "text": [
      "+---+--------------------+------------+\n",
      "| No|        ex_roof_list|constant_val|\n",
      "+---+--------------------+------------+\n",
      "|  2|    Asphalt Shingles|           1|\n",
      "|  2|             Pitched|           1|\n",
      "|  2| Age 8 Years or Less|           1|\n",
      "|  4|    Asphalt Shingles|           1|\n",
      "|  4|             Pitched|           1|\n",
      "+---+--------------------+------------+\n",
      "only showing top 5 rows\n",
      "\n"
     ]
    }
   ],
   "source": [
    "# Create a dummy column of constant value\n",
    "roof_df = roof_df.withColumn('constant_val', lit(1))\n",
    "\n",
    "roof_df[['No','ex_roof_list', 'constant_val']].show(5)"
   ]
  },
  {
   "cell_type": "code",
   "execution_count": 28,
   "metadata": {},
   "outputs": [],
   "source": [
    "# Pivot the values into boolean columns\n",
    "roof_piv_df = roof_df.groupBy('No').pivot('ex_roof_list')\\\n",
    "                        .agg(coalesce(first('constant_val')))"
   ]
  },
  {
   "cell_type": "code",
   "execution_count": 29,
   "metadata": {},
   "outputs": [
    {
     "name": "stdout",
     "output_type": "stream",
     "text": [
      "+---+--------------------+-----------------+-----+------+------+--------+-------+-------+------+-----------+-----+--------------------+--------------+-------------------+----------------+----------------+----+-----+-----+-------+------+------+-----+----------+----+-------------------+-------------+\n",
      "| No| Age 8 Years or Less| Age Over 8 Years| Flat| Metal| Other| Pitched| Rubber| Shakes| Slate| Tar/Gravel| Tile| Unspecified Shingle| Wood Shingles|Age 8 Years or Less|Age Over 8 Years|Asphalt Shingles|Flat|Metal|Other|Pitched|Rubber|Shakes|Slate|Tar/Gravel|Tile|Unspecified Shingle|Wood Shingles|\n",
      "+---+--------------------+-----------------+-----+------+------+--------+-------+-------+------+-----------+-----+--------------------+--------------+-------------------+----------------+----------------+----+-----+-----+-------+------+------+-----+----------+----+-------------------+-------------+\n",
      "|  2|                   1|             null| null|  null|  null|       1|   null|   null|  null|       null| null|                null|          null|               null|            null|               1|null| null| null|   null|  null|  null| null|      null|null|               null|         null|\n",
      "|  4|                   1|             null| null|  null|  null|       1|   null|   null|  null|       null| null|                null|          null|               null|            null|               1|null| null| null|   null|  null|  null| null|      null|null|               null|         null|\n",
      "|  5|                null|                1| null|  null|  null|    null|   null|   null|  null|       null| null|                null|          null|               null|            null|               1|null| null| null|   null|  null|  null| null|      null|null|               null|         null|\n",
      "|  6|                   1|             null| null|  null|  null|    null|   null|   null|  null|       null| null|                null|          null|               null|            null|               1|null| null| null|   null|  null|  null| null|      null|null|               null|         null|\n",
      "|  7|                   1|             null| null|  null|  null|    null|   null|   null|  null|       null| null|                null|          null|               null|            null|               1|null| null| null|   null|  null|  null| null|      null|null|               null|         null|\n",
      "+---+--------------------+-----------------+-----+------+------+--------+-------+-------+------+-----------+-----+--------------------+--------------+-------------------+----------------+----------------+----+-----+-----+-------+------+------+-----+----------+----+-------------------+-------------+\n",
      "only showing top 5 rows\n",
      "\n"
     ]
    }
   ],
   "source": [
    "roof_piv_df.orderBy('No').show(5)"
   ]
  },
  {
   "cell_type": "code",
   "execution_count": 31,
   "metadata": {},
   "outputs": [],
   "source": [
    "roof_piv_df = roof_piv_df.fillna(0)"
   ]
  },
  {
   "cell_type": "code",
   "execution_count": 32,
   "metadata": {},
   "outputs": [
    {
     "name": "stdout",
     "output_type": "stream",
     "text": [
      "+---+--------------------+-----------------+-----+------+------+--------+-------+-------+------+-----------+-----+--------------------+--------------+-------------------+----------------+----------------+----+-----+-----+-------+------+------+-----+----------+----+-------------------+-------------+\n",
      "| No| Age 8 Years or Less| Age Over 8 Years| Flat| Metal| Other| Pitched| Rubber| Shakes| Slate| Tar/Gravel| Tile| Unspecified Shingle| Wood Shingles|Age 8 Years or Less|Age Over 8 Years|Asphalt Shingles|Flat|Metal|Other|Pitched|Rubber|Shakes|Slate|Tar/Gravel|Tile|Unspecified Shingle|Wood Shingles|\n",
      "+---+--------------------+-----------------+-----+------+------+--------+-------+-------+------+-----------+-----+--------------------+--------------+-------------------+----------------+----------------+----+-----+-----+-------+------+------+-----+----------+----+-------------------+-------------+\n",
      "|  2|                   1|                0|    0|     0|     0|       1|      0|      0|     0|          0|    0|                   0|             0|                  0|               0|               1|   0|    0|    0|      0|     0|     0|    0|         0|   0|                  0|            0|\n",
      "|  4|                   1|                0|    0|     0|     0|       1|      0|      0|     0|          0|    0|                   0|             0|                  0|               0|               1|   0|    0|    0|      0|     0|     0|    0|         0|   0|                  0|            0|\n",
      "|  5|                   0|                1|    0|     0|     0|       0|      0|      0|     0|          0|    0|                   0|             0|                  0|               0|               1|   0|    0|    0|      0|     0|     0|    0|         0|   0|                  0|            0|\n",
      "|  6|                   1|                0|    0|     0|     0|       0|      0|      0|     0|          0|    0|                   0|             0|                  0|               0|               1|   0|    0|    0|      0|     0|     0|    0|         0|   0|                  0|            0|\n",
      "|  7|                   1|                0|    0|     0|     0|       0|      0|      0|     0|          0|    0|                   0|             0|                  0|               0|               1|   0|    0|    0|      0|     0|     0|    0|         0|   0|                  0|            0|\n",
      "+---+--------------------+-----------------+-----+------+------+--------+-------+-------+------+-----------+-----+--------------------+--------------+-------------------+----------------+----------------+----+-----+-----+-------+------+------+-----+----------+----+-------------------+-------------+\n",
      "only showing top 5 rows\n",
      "\n"
     ]
    }
   ],
   "source": [
    "roof_piv_df.orderBy('No').show(5)"
   ]
  },
  {
   "cell_type": "markdown",
   "metadata": {},
   "source": [
    "- Join"
   ]
  },
  {
   "cell_type": "code",
   "execution_count": 35,
   "metadata": {},
   "outputs": [],
   "source": [
    "# Join the dataframes together and fill null\n",
    "joined_data = df.join(roof_piv_df, on = 'No', how='left')\n",
    "\n",
    "# Columns to zero fill\n",
    "zfill_cols = roof_piv_df.columns\n",
    "\n",
    "# Zero fill the pivoted values\n",
    "zfilled_df = joined_data.fillna(0, subset=zfill_cols)"
   ]
  },
  {
   "cell_type": "markdown",
   "metadata": {},
   "source": [
    "- Binarizing, Bucketing & Encoding"
   ]
  },
  {
   "cell_type": "code",
   "execution_count": null,
   "metadata": {},
   "outputs": [],
   "source": [
    "from pyspark.ml.feature"
   ]
  },
  {
   "cell_type": "markdown",
   "metadata": {},
   "source": [
    "- One Hot Encoding"
   ]
  },
  {
   "cell_type": "code",
   "execution_count": 37,
   "metadata": {},
   "outputs": [],
   "source": [
    "from pyspark.ml.feature import OneHotEncoder, StringIndexer\n",
    "\n",
    "df = spark.createDataFrame([\n",
    "    ('a',2.0),\n",
    "    ('b',2.0),\n",
    "    ('c',1.0),\n",
    "    ('a',1.0),\n",
    "    ('a',0.0),\n",
    "    ('b',1.0),\n",
    "    ('c',1.0),\n",
    "], ['categoryIndex','categoryIndex2'])\n",
    "# theo freq, nhieu nhat index = 0, giong nhau thi theo alphabet\n",
    "stringID = StringIndexer(inputCol='categoryIndex', outputCol='categoryIndex1')\n",
    "indexer = stringID.fit(df)\n",
    "df = indexer.transform(df)\n"
   ]
  },
  {
   "cell_type": "code",
   "execution_count": 38,
   "metadata": {},
   "outputs": [
    {
     "name": "stdout",
     "output_type": "stream",
     "text": [
      "+-------------+--------------+-------------+\n",
      "|categoryIndex|categoryIndex1| categoryVec1|\n",
      "+-------------+--------------+-------------+\n",
      "|            a|           0.0|(2,[0],[1.0])|\n",
      "|            b|           1.0|(2,[1],[1.0])|\n",
      "|            c|           2.0|    (2,[],[])|\n",
      "|            a|           0.0|(2,[0],[1.0])|\n",
      "|            a|           0.0|(2,[0],[1.0])|\n",
      "|            b|           1.0|(2,[1],[1.0])|\n",
      "|            c|           2.0|    (2,[],[])|\n",
      "+-------------+--------------+-------------+\n",
      "\n"
     ]
    }
   ],
   "source": [
    "encoder = OneHotEncoder(inputCol='categoryIndex1',\n",
    "                        outputCol='categoryVec1',\n",
    "                        dropLast = True) # default\n",
    "encoded = encoder.transform(df)\n",
    "encoded['categoryIndex', 'categoryIndex1','categoryVec1'].show()"
   ]
  },
  {
   "cell_type": "code",
   "execution_count": null,
   "metadata": {},
   "outputs": [],
   "source": []
  }
 ],
 "metadata": {
  "kernelspec": {
   "display_name": "Python 3",
   "language": "python",
   "name": "python3"
  },
  "language_info": {
   "codemirror_mode": {
    "name": "ipython",
    "version": 3
   },
   "file_extension": ".py",
   "mimetype": "text/x-python",
   "name": "python",
   "nbconvert_exporter": "python",
   "pygments_lexer": "ipython3",
   "version": "3.6.8"
  }
 },
 "nbformat": 4,
 "nbformat_minor": 4
}
