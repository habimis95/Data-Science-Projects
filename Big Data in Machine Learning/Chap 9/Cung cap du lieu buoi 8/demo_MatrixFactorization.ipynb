{
  "nbformat": 4,
  "nbformat_minor": 0,
  "metadata": {
    "kernelspec": {
      "display_name": "Python 3",
      "language": "python",
      "name": "python3"
    },
    "language_info": {
      "codemirror_mode": {
        "name": "ipython",
        "version": 3
      },
      "file_extension": ".py",
      "mimetype": "text/x-python",
      "name": "python",
      "nbconvert_exporter": "python",
      "pygments_lexer": "ipython3",
      "version": "3.6.8"
    },
    "colab": {
      "name": "demo_MatrixFactorization.ipynb",
      "provenance": [],
      "collapsed_sections": []
    }
  },
  "cells": [
    {
      "cell_type": "markdown",
      "metadata": {
        "id": "PDizuD-kZVhh"
      },
      "source": [
        "# ALS factorization"
      ]
    },
    {
      "cell_type": "code",
      "metadata": {
        "id": "-qw5Zl5fZVhj"
      },
      "source": [
        "## GD "
      ],
      "execution_count": null,
      "outputs": []
    },
    {
      "cell_type": "code",
      "metadata": {
        "id": "ZNFe9wkdZVhn"
      },
      "source": [
        "import pandas as pd\n",
        "import numpy as np\n",
        "import matplotlib.pyplot as plt\n",
        "import seaborn as sns"
      ],
      "execution_count": null,
      "outputs": []
    },
    {
      "cell_type": "code",
      "metadata": {
        "id": "Q9PW5OSxZVhr"
      },
      "source": [
        "def matrix_factorization(R, P, Q, K, steps=5000, alpha=0.0002, beta=0.02):\n",
        "    '''\n",
        "    R: rating matrix\n",
        "    P: |U| * K (User features matrix)\n",
        "    Q: K * |I| (Item features matrix)\n",
        "    K: latent features\n",
        "    steps: iterations\n",
        "    alpha: learning rate\n",
        "    beta: regularization parameter'''    \n",
        "\n",
        "    for step in range(steps):\n",
        "        for i in range(len(R)):\n",
        "            for j in range(len(R[i])):\n",
        "                if R[i][j] > 0:\n",
        "                    # calculate error between Rij and R_hat_ij\n",
        "                    eij = R[i][j] - np.dot(P[i,:],Q[:,j])\n",
        "\n",
        "                    for k in range(K):\n",
        "                        # calculate gradient with alpha and beta parameter\n",
        "                        P[i][k] = P[i][k] + alpha * (2 * eij * Q[k][j] - beta * P[i][k])\n",
        "                        Q[k][j] = Q[k][j] + alpha * (2 * eij * P[i][k] - beta * Q[k][j])\n",
        "\n",
        "        eR = np.dot(P,Q) # R hat\n",
        "\n",
        "        e = 0 # error\n",
        "\n",
        "        for i in range(len(R)):\n",
        "\n",
        "            for j in range(len(R[i])):\n",
        "\n",
        "                if R[i][j] > 0:\n",
        "\n",
        "                    e = e + pow(R[i][j] - np.dot(P[i,:],Q[:,j]), 2)\n",
        "\n",
        "                    for k in range(K):\n",
        "\n",
        "                        e = e + (beta/2) * (pow(P[i][k],2) + pow(Q[k][j],2))\n",
        "        # 0.001: local minimum\n",
        "        if e < 0.001:\n",
        "\n",
        "            break\n",
        "\n",
        "    return P, Q"
      ],
      "execution_count": null,
      "outputs": []
    },
    {
      "cell_type": "code",
      "metadata": {
        "id": "uRaaEoRDZVhu",
        "outputId": "edf39307-8f5c-44cd-b41b-ed4016d51463",
        "colab": {
          "base_uri": "https://localhost:8080/",
          "height": 85
        }
      },
      "source": [
        "R = [\n",
        "     [0, 4.5, 2.0, 0],\n",
        "     [4, 0, 3.5, 0],\n",
        "     [0, 5, 0, 2], \n",
        "     [0, 3.5, 4.0, 1.0]\n",
        "    ]\n",
        "\n",
        "R = np.array(R)\n",
        "# N: num of User\n",
        "N = len(R)\n",
        "# M: num of Movie\n",
        "M = len(R[0])\n",
        "# Num of Features\n",
        "K = 2\n",
        "\n",
        " \n",
        "P = np.random.rand(N,K)\n",
        "Q = np.random.rand(K,M)\n",
        "\n",
        "\n",
        "nP, nQ = matrix_factorization(R, P, Q, K, steps=10000)\n",
        "\n",
        "nR = np.dot(nP, nQ)\n",
        "\n",
        "nR"
      ],
      "execution_count": null,
      "outputs": [
        {
          "output_type": "execute_result",
          "data": {
            "text/plain": [
              "array([[3.37694852, 4.46777832, 2.01914341, 1.01341691],\n",
              "       [3.98606806, 5.30579342, 3.49774642, 1.43793283],\n",
              "       [3.74028553, 5.0366036 , 5.29222492, 1.78528381],\n",
              "       [2.5514961 , 3.44516845, 3.93503518, 1.28832403]])"
            ]
          },
          "metadata": {
            "tags": []
          },
          "execution_count": 4
        }
      ]
    },
    {
      "cell_type": "code",
      "metadata": {
        "id": "PjulQbDlZVhz",
        "outputId": "72bffd01-4d4e-48d7-dbbd-dd24e40dc4ad",
        "colab": {
          "base_uri": "https://localhost:8080/",
          "height": 85
        }
      },
      "source": [
        "nP"
      ],
      "execution_count": null,
      "outputs": [
        {
          "output_type": "execute_result",
          "data": {
            "text/plain": [
              "array([[0.05553699, 1.86507899],\n",
              "       [0.70941729, 1.9579818 ],\n",
              "       [1.82707332, 1.39800489],\n",
              "       [1.43406012, 0.88268529]])"
            ]
          },
          "metadata": {
            "tags": []
          },
          "execution_count": 5
        }
      ]
    },
    {
      "cell_type": "code",
      "metadata": {
        "id": "RWe5DvW6ZVh2",
        "outputId": "9683f4e8-c910-4ad4-8baa-d55560653fe1",
        "colab": {
          "base_uri": "https://localhost:8080/",
          "height": 51
        }
      },
      "source": [
        "nQ"
      ],
      "execution_count": null,
      "outputs": [
        {
          "output_type": "execute_result",
          "data": {
            "text/plain": [
              "array([[0.67715939, 0.94525294, 2.11641309, 0.57445536],\n",
              "       [1.7904556 , 2.36734307, 1.01958373, 0.52625835]])"
            ]
          },
          "metadata": {
            "tags": []
          },
          "execution_count": 6
        }
      ]
    },
    {
      "cell_type": "code",
      "metadata": {
        "id": "kLT18vBKZVh5",
        "outputId": "23d9b016-3203-4d1f-a9b7-9bca7dcdd5ce",
        "colab": {
          "base_uri": "https://localhost:8080/",
          "height": 102
        }
      },
      "source": [
        "R = [\n",
        "     [2, 5, 1, 3],\n",
        "     [4, 0, 0, 1],\n",
        "     [0, 4, 2, 0], \n",
        "     [2, 4, 3, 1],\n",
        "     [1, 3, 2, 0]\n",
        "    ]\n",
        "\n",
        "R = np.array(R)\n",
        "# N: num of User\n",
        "N = len(R)\n",
        "# M: num of Movie\n",
        "M = len(R[0])\n",
        "# Num of Features\n",
        "K = 2\n",
        "\n",
        " \n",
        "P = np.random.rand(N,K)\n",
        "Q = np.random.rand(K,M)\n",
        "\n",
        "\n",
        "nP, nQ = matrix_factorization(R, P, Q, K, steps=10000)\n",
        "\n",
        "nR = np.dot(nP, nQ)\n",
        "\n",
        "nR"
      ],
      "execution_count": null,
      "outputs": [
        {
          "output_type": "execute_result",
          "data": {
            "text/plain": [
              "array([[1.80703138, 5.04049046, 1.07795373, 2.95634533],\n",
              "       [3.84650862, 6.29808155, 5.98099924, 0.99754727],\n",
              "       [1.82612501, 3.99500823, 2.00339912, 1.67457377],\n",
              "       [2.1367927 , 3.91520441, 2.97602089, 1.05190645],\n",
              "       [1.4456125 , 2.89524573, 1.80833126, 1.00619392]])"
            ]
          },
          "metadata": {
            "tags": []
          },
          "execution_count": 7
        }
      ]
    },
    {
      "cell_type": "code",
      "metadata": {
        "id": "s6eQEYe-ZVh8",
        "outputId": "38599a4d-73c2-41d0-cb18-dcbc68782f98",
        "colab": {
          "base_uri": "https://localhost:8080/",
          "height": 102
        }
      },
      "source": [
        "nP"
      ],
      "execution_count": null,
      "outputs": [
        {
          "output_type": "execute_result",
          "data": {
            "text/plain": [
              "array([[0.02387918, 2.06757691],\n",
              "       [2.48437459, 1.10273101],\n",
              "       [0.6275322 , 1.27158478],\n",
              "       [1.15136132, 0.92262137],\n",
              "       [0.64357567, 0.80764801]])"
            ]
          },
          "metadata": {
            "tags": []
          },
          "execution_count": 8
        }
      ]
    },
    {
      "cell_type": "code",
      "metadata": {
        "id": "hD75CuJyZVh_",
        "outputId": "583afce4-5a60-44f7-9c2f-b513bced381f",
        "colab": {
          "base_uri": "https://localhost:8080/",
          "height": 51
        }
      },
      "source": [
        "nQ"
      ],
      "execution_count": null,
      "outputs": [
        {
          "output_type": "execute_result",
          "data": {
            "text/plain": [
              "array([[ 1.16632665,  1.46047358,  2.18724456, -0.23433991],\n",
              "       [ 0.86051476,  2.42100573,  0.49609962,  1.43256638]])"
            ]
          },
          "metadata": {
            "tags": []
          },
          "execution_count": 9
        }
      ]
    },
    {
      "cell_type": "markdown",
      "metadata": {
        "id": "ndkMDDFBZViB"
      },
      "source": [
        "## SGD \n",
        "- link https://github.com/albertauyeung/matrix-factorization-in-python"
      ]
    },
    {
      "cell_type": "code",
      "metadata": {
        "id": "vKLKe-h7ZViC"
      },
      "source": [
        "import numpy as np\n",
        "from mf import MF"
      ],
      "execution_count": null,
      "outputs": []
    },
    {
      "cell_type": "code",
      "metadata": {
        "id": "vZSxnQf4ZViE"
      },
      "source": [
        "# Perform training and obtain the user and item matrices \n",
        "mf = MF(R, K=2, alpha=0.1, beta=0.01, iterations=1000)\n",
        "training_process = mf.train()"
      ],
      "execution_count": null,
      "outputs": []
    },
    {
      "cell_type": "code",
      "metadata": {
        "id": "oGvb3S0ZZViH"
      },
      "source": [
        "mf.full_matrix()"
      ],
      "execution_count": null,
      "outputs": []
    },
    {
      "cell_type": "code",
      "metadata": {
        "id": "XMEXjueuZViJ"
      },
      "source": [
        "mf.P"
      ],
      "execution_count": null,
      "outputs": []
    },
    {
      "cell_type": "code",
      "metadata": {
        "id": "vbD96QCoZViM"
      },
      "source": [
        "mf.Q.T"
      ],
      "execution_count": null,
      "outputs": []
    },
    {
      "cell_type": "code",
      "metadata": {
        "id": "kt7E0KkKaHIs"
      },
      "source": [
        ""
      ],
      "execution_count": null,
      "outputs": []
    }
  ]
}