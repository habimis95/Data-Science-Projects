{
 "cells": [
  {
   "cell_type": "markdown",
   "metadata": {},
   "source": [
    "# PySpark DataFrame"
   ]
  },
  {
   "cell_type": "code",
   "execution_count": null,
   "metadata": {},
   "outputs": [],
   "source": [
    "import findspark\n",
    "findspark.init()"
   ]
  },
  {
   "cell_type": "code",
   "execution_count": 2,
   "metadata": {},
   "outputs": [],
   "source": [
    "import pyspark\n",
    "from pyspark import SparkContext\n",
    "sc = SparkContext(master=\"local\", appName=\"New Spark Context\")"
   ]
  },
  {
   "cell_type": "code",
   "execution_count": 3,
   "metadata": {},
   "outputs": [
    {
     "data": {
      "text/html": [
       "\n",
       "        <div>\n",
       "            <p><b>SparkContext</b></p>\n",
       "\n",
       "            <p><a href=\"http://PM501-12:4040\">Spark UI</a></p>\n",
       "\n",
       "            <dl>\n",
       "              <dt>Version</dt>\n",
       "                <dd><code>v2.4.4</code></dd>\n",
       "              <dt>Master</dt>\n",
       "                <dd><code>local</code></dd>\n",
       "              <dt>AppName</dt>\n",
       "                <dd><code>New Spark Context</code></dd>\n",
       "            </dl>\n",
       "        </div>\n",
       "        "
      ],
      "text/plain": [
       "<SparkContext master=local appName=New Spark Context>"
      ]
     },
     "execution_count": 3,
     "metadata": {},
     "output_type": "execute_result"
    }
   ],
   "source": [
    "sc"
   ]
  },
  {
   "cell_type": "code",
   "execution_count": 4,
   "metadata": {},
   "outputs": [],
   "source": [
    "from pyspark.sql import Row, SQLContext"
   ]
  },
  {
   "cell_type": "code",
   "execution_count": 5,
   "metadata": {},
   "outputs": [],
   "source": [
    "from pyspark.sql import SparkSession\n",
    "spark = SparkSession(sc)"
   ]
  },
  {
   "cell_type": "code",
   "execution_count": 6,
   "metadata": {},
   "outputs": [],
   "source": [
    "sqlContext = SQLContext(sc)"
   ]
  },
  {
   "cell_type": "code",
   "execution_count": 7,
   "metadata": {},
   "outputs": [],
   "source": [
    "lst = [('John', 10), ('Lyna', 9), ('Samantha', 8), ('Tony', 10)]\n",
    "rdd = sc.parallelize(lst)\n",
    "people = rdd.map(lambda x: Row(name=x[0], marks=int(x[1])))\n",
    "schemaPeople = sqlContext.createDataFrame(people)"
   ]
  },
  {
   "cell_type": "code",
   "execution_count": 8,
   "metadata": {},
   "outputs": [
    {
     "data": {
      "text/plain": [
       "DataFrame[marks: bigint, name: string]"
      ]
     },
     "execution_count": 8,
     "metadata": {},
     "output_type": "execute_result"
    }
   ],
   "source": [
    "schemaPeople"
   ]
  },
  {
   "cell_type": "code",
   "execution_count": 9,
   "metadata": {},
   "outputs": [
    {
     "name": "stdout",
     "output_type": "stream",
     "text": [
      "+-----+--------+\n",
      "|marks|    name|\n",
      "+-----+--------+\n",
      "|   10|    John|\n",
      "|    9|    Lyna|\n",
      "|    8|Samantha|\n",
      "|   10|    Tony|\n",
      "+-----+--------+\n",
      "\n"
     ]
    }
   ],
   "source": [
    "schemaPeople.show()"
   ]
  },
  {
   "cell_type": "code",
   "execution_count": 10,
   "metadata": {},
   "outputs": [],
   "source": [
    "file_name = 'hdfs://bigdata.laptrinhpython.net:19000/people.csv'"
   ]
  },
  {
   "cell_type": "code",
   "execution_count": 11,
   "metadata": {},
   "outputs": [
    {
     "name": "stdout",
     "output_type": "stream",
     "text": [
      "+---+---------+--------------+------+-------------+\n",
      "|_c0|person_id|          name|   sex|date of birth|\n",
      "+---+---------+--------------+------+-------------+\n",
      "|  0|      100|Penelope Lewis|female|   1990-08-31|\n",
      "|  1|      101| David Anthony|  male|   1971-10-14|\n",
      "|  2|      102|     Ida Shipp|female|   1962-05-24|\n",
      "|  3|      103|  Joanna Moore|female|   2017-03-10|\n",
      "|  4|      104|Lisandra Ortiz|female|   2020-08-05|\n",
      "+---+---------+--------------+------+-------------+\n",
      "only showing top 5 rows\n",
      "\n"
     ]
    }
   ],
   "source": [
    "people = spark.read.csv(file_name, inferSchema = True, header = True)\n",
    "people.show(5)"
   ]
  },
  {
   "cell_type": "code",
   "execution_count": 12,
   "metadata": {},
   "outputs": [],
   "source": [
    "file_name = 'hdfs://bigdata.laptrinhpython.net:19000/data.json'"
   ]
  },
  {
   "cell_type": "code",
   "execution_count": 13,
   "metadata": {},
   "outputs": [
    {
     "name": "stdout",
     "output_type": "stream",
     "text": [
      "+----------+--------------------+-------------+--------------------+--------------------+-------------------+\n",
      "|        id|            location|sampling_rate|              sensor|    sensordatavalues|          timestamp|\n",
      "+----------+--------------------+-------------+--------------------+--------------------+-------------------+\n",
      "|5810744647|[112.6, FR, 0, 11...|         null|[22349, 1, [14, N...|[[12340422762, 1....|2019-12-20 03:22:01|\n",
      "|5810744646|[35.2, DE, 0, 107...|         null|[21149, 7, [9, va...|[[12340422760, 9....|2019-12-20 03:22:01|\n",
      "|5810744645|[51.0, DE, 0, 293...|         null|[5811, 1, [14, No...|[[12340422757, 6....|2019-12-20 03:22:01|\n",
      "|5810744644|[34.4, BE, 0, 441...|         null|[8765, 1, [14, No...|[[12340422756, 3....|2019-12-20 03:22:01|\n",
      "|5810744643|[5.0, FR, 0, 1100...|         null|[21693, 1, [14, N...|[[12340422754, 7....|2019-12-20 03:22:01|\n",
      "+----------+--------------------+-------------+--------------------+--------------------+-------------------+\n",
      "only showing top 5 rows\n",
      "\n"
     ]
    }
   ],
   "source": [
    "data = spark.read.json(file_name)\n",
    "data.show(5)"
   ]
  },
  {
   "cell_type": "code",
   "execution_count": 14,
   "metadata": {},
   "outputs": [],
   "source": [
    "df = spark.read.csv('Cung cap du lieu buoi 3/Obesity_data.csv', inferSchema = True, header = True)"
   ]
  },
  {
   "cell_type": "code",
   "execution_count": 15,
   "metadata": {},
   "outputs": [
    {
     "name": "stdout",
     "output_type": "stream",
     "text": [
      "root\n",
      " |-- id: integer (nullable = true)\n",
      " |-- gender: string (nullable = true)\n",
      " |-- height: integer (nullable = true)\n",
      " |-- weight: integer (nullable = true)\n",
      " |-- bmi: double (nullable = true)\n",
      " |-- age: integer (nullable = true)\n",
      " |-- bmc: integer (nullable = true)\n",
      " |-- bmd: double (nullable = true)\n",
      " |-- fat: integer (nullable = true)\n",
      " |-- lean: integer (nullable = true)\n",
      " |-- pcfat: double (nullable = true)\n",
      "\n"
     ]
    }
   ],
   "source": [
    "df.printSchema()"
   ]
  },
  {
   "cell_type": "code",
   "execution_count": 16,
   "metadata": {},
   "outputs": [
    {
     "name": "stdout",
     "output_type": "stream",
     "text": [
      "+---+------+------+------+----+---+----+----+-----+-----+-----+\n",
      "| id|gender|height|weight| bmi|age| bmc| bmd|  fat| lean|pcfat|\n",
      "+---+------+------+------+----+---+----+----+-----+-----+-----+\n",
      "|  1|     F|   150|    49|21.8| 53|1312|0.88|17802|28600| 37.3|\n",
      "|  2|     M|   165|    52|19.1| 65|1309|0.84| 8381|40229| 16.8|\n",
      "|  3|     F|   157|    57|23.1| 64|1230|0.84|19221|36057| 34.0|\n",
      "|  4|     F|   156|    53|21.8| 56|1171| 0.8|17472|33094| 33.8|\n",
      "|  5|     M|   160|    51|19.9| 54|1681|0.98| 7336|40621| 14.8|\n",
      "+---+------+------+------+----+---+----+----+-----+-----+-----+\n",
      "only showing top 5 rows\n",
      "\n"
     ]
    }
   ],
   "source": [
    "df.show(5)"
   ]
  },
  {
   "cell_type": "code",
   "execution_count": 17,
   "metadata": {},
   "outputs": [
    {
     "data": {
      "text/plain": [
       "1217"
      ]
     },
     "execution_count": 17,
     "metadata": {},
     "output_type": "execute_result"
    }
   ],
   "source": [
    "df.count()"
   ]
  },
  {
   "cell_type": "code",
   "execution_count": 18,
   "metadata": {},
   "outputs": [
    {
     "name": "stdout",
     "output_type": "stream",
     "text": [
      "+-------+-----------------+------+------------------+-----------------+------------------+-----------------+------------------+------------------+------------------+-----------------+------------------+\n",
      "|summary|               id|gender|            height|           weight|               bmi|              age|               bmc|               bmd|               fat|             lean|             pcfat|\n",
      "+-------+-----------------+------+------------------+-----------------+------------------+-----------------+------------------+------------------+------------------+-----------------+------------------+\n",
      "|  count|             1217|  1217|              1217|             1217|              1217|             1217|              1217|              1217|              1217|             1217|              1217|\n",
      "|   mean| 614.518488085456|  null| 156.7239112571898|55.14379622021364| 22.39539852095314|47.15201314708299|1724.9145439605588|1.0087428101889888|17288.436318816763| 35463.1133935908|31.604785903401805|\n",
      "| stddev|354.4705719473191|  null|7.9777256820417035|9.404988688010084|3.0564419447471356|17.27550739904804| 363.3490251436472|0.1131224610778956| 5214.398664940806|7027.546493084218| 7.182861527055848|\n",
      "|    min|                1|     F|               136|               34|              14.5|               13|               695|              0.65|              4277|            19136|               9.2|\n",
      "|    max|             1227|     M|               185|               95|              37.1|               88|              3040|              1.35|             40825|            63059|              48.4|\n",
      "+-------+-----------------+------+------------------+-----------------+------------------+-----------------+------------------+------------------+------------------+-----------------+------------------+\n",
      "\n"
     ]
    }
   ],
   "source": [
    "df.describe().show()"
   ]
  },
  {
   "cell_type": "code",
   "execution_count": 19,
   "metadata": {},
   "outputs": [
    {
     "name": "stdout",
     "output_type": "stream",
     "text": [
      "+-------+------------------+-----------------+\n",
      "|summary|            height|           weight|\n",
      "+-------+------------------+-----------------+\n",
      "|  count|              1217|             1217|\n",
      "|   mean| 156.7239112571898|55.14379622021364|\n",
      "| stddev|7.9777256820417035|9.404988688010084|\n",
      "|    min|               136|               34|\n",
      "|    max|               185|               95|\n",
      "+-------+------------------+-----------------+\n",
      "\n"
     ]
    }
   ],
   "source": [
    "df.describe('height', 'weight').show()"
   ]
  },
  {
   "cell_type": "code",
   "execution_count": 20,
   "metadata": {},
   "outputs": [
    {
     "name": "stdout",
     "output_type": "stream",
     "text": [
      "+-------------+---+---+\n",
      "|height_gender|  F|  M|\n",
      "+-------------+---+---+\n",
      "|          138|  2|  0|\n",
      "|          170|  1| 24|\n",
      "|          142| 11|  0|\n",
      "|          153| 73|  1|\n",
      "|          174|  0|  2|\n",
      "|          185|  0|  1|\n",
      "|          157| 31|  5|\n",
      "|          152| 54|  2|\n",
      "|          164| 11| 17|\n",
      "|          179|  0|  1|\n",
      "+-------------+---+---+\n",
      "only showing top 10 rows\n",
      "\n"
     ]
    }
   ],
   "source": [
    "df.crosstab('height', 'gender').show(10)"
   ]
  },
  {
   "cell_type": "code",
   "execution_count": 21,
   "metadata": {},
   "outputs": [
    {
     "name": "stdout",
     "output_type": "stream",
     "text": [
      "+------+-----------------+\n",
      "|gender|      avg(weight)|\n",
      "+------+-----------------+\n",
      "|     F|52.31090487238979|\n",
      "|     M|62.02253521126761|\n",
      "+------+-----------------+\n",
      "\n"
     ]
    }
   ],
   "source": [
    "df.groupby('gender').mean('weight').show()"
   ]
  },
  {
   "cell_type": "code",
   "execution_count": 22,
   "metadata": {},
   "outputs": [
    {
     "name": "stdout",
     "output_type": "stream",
     "text": [
      "+------+-----+\n",
      "|gender|count|\n",
      "+------+-----+\n",
      "|     F|  862|\n",
      "|     M|  355|\n",
      "+------+-----+\n",
      "\n"
     ]
    }
   ],
   "source": [
    "df.groupby('gender').count().show()"
   ]
  },
  {
   "cell_type": "code",
   "execution_count": 23,
   "metadata": {},
   "outputs": [
    {
     "name": "stdout",
     "output_type": "stream",
     "text": [
      "+------+-----------------+\n",
      "|gender|      avg(weight)|\n",
      "+------+-----------------+\n",
      "|     F|52.31090487238979|\n",
      "|     M|62.02253521126761|\n",
      "+------+-----------------+\n",
      "\n"
     ]
    }
   ],
   "source": [
    "df.groupby('gender').agg({'weight':'mean'}).show() #dictionary: key: attribute, value: function"
   ]
  },
  {
   "cell_type": "code",
   "execution_count": 24,
   "metadata": {},
   "outputs": [
    {
     "name": "stdout",
     "output_type": "stream",
     "text": [
      "+------+-----------+-----------+\n",
      "|gender|min(weight)|min(height)|\n",
      "+------+-----------+-----------+\n",
      "|     F|         34|        136|\n",
      "|     M|         38|        146|\n",
      "+------+-----------+-----------+\n",
      "\n"
     ]
    }
   ],
   "source": [
    "df.groupby('gender').agg({'weight':'min', 'height':'min'}).show()"
   ]
  },
  {
   "cell_type": "code",
   "execution_count": 25,
   "metadata": {},
   "outputs": [
    {
     "name": "stdout",
     "output_type": "stream",
     "text": [
      "+---+------+------+------+\n",
      "| id|gender|height|weight|\n",
      "+---+------+------+------+\n",
      "|  1|     F|   150|    49|\n",
      "|  2|     M|   165|    52|\n",
      "|  3|     F|   157|    57|\n",
      "+---+------+------+------+\n",
      "only showing top 3 rows\n",
      "\n"
     ]
    }
   ],
   "source": [
    "df_sub = df.select('id','gender','height','weight')\n",
    "df_sub.show(3)"
   ]
  },
  {
   "cell_type": "code",
   "execution_count": 26,
   "metadata": {},
   "outputs": [
    {
     "name": "stdout",
     "output_type": "stream",
     "text": [
      "+------+\n",
      "|gender|\n",
      "+------+\n",
      "|     F|\n",
      "|     M|\n",
      "+------+\n",
      "\n"
     ]
    }
   ],
   "source": [
    "df_sub.select('gender').distinct().show()"
   ]
  },
  {
   "cell_type": "code",
   "execution_count": 27,
   "metadata": {},
   "outputs": [
    {
     "data": {
      "text/plain": [
       "55"
      ]
     },
     "execution_count": 27,
     "metadata": {},
     "output_type": "execute_result"
    }
   ],
   "source": [
    "# How many distinct value of 'weight' column?\n",
    "df_sub.select('weight').distinct().count()"
   ]
  },
  {
   "cell_type": "code",
   "execution_count": 28,
   "metadata": {},
   "outputs": [
    {
     "data": {
      "text/plain": [
       "48"
      ]
     },
     "execution_count": 28,
     "metadata": {},
     "output_type": "execute_result"
    }
   ],
   "source": [
    "# How many distinct value of 'height' column?\n",
    "df_sub.select('height').distinct().count()"
   ]
  },
  {
   "cell_type": "code",
   "execution_count": 29,
   "metadata": {},
   "outputs": [
    {
     "name": "stdout",
     "output_type": "stream",
     "text": [
      "+---+------+------+------+----+---+----+----+-----+-----+-----+\n",
      "| id|gender|height|weight| bmi|age| bmc| bmd|  fat| lean|pcfat|\n",
      "+---+------+------+------+----+---+----+----+-----+-----+-----+\n",
      "|963|     M|   158|    61|24.4| 88|1670|1.02|18038|39526| 30.5|\n",
      "|712|     M|   161|    47|18.1| 87|1678|1.01|12328|32725| 26.4|\n",
      "|588|     F|   142|    46|22.8| 85| 875|0.68|13946|31026| 30.4|\n",
      "+---+------+------+------+----+---+----+----+-----+-----+-----+\n",
      "only showing top 3 rows\n",
      "\n"
     ]
    }
   ],
   "source": [
    "df.orderBy(df.age.desc()).show(3)"
   ]
  },
  {
   "cell_type": "code",
   "execution_count": 30,
   "metadata": {},
   "outputs": [
    {
     "name": "stdout",
     "output_type": "stream",
     "text": [
      "+---+------+------+------+------------------+\n",
      "| id|gender|height|weight|               bmi|\n",
      "+---+------+------+------+------------------+\n",
      "|  1|     F|   150|    49| 21.77777777777778|\n",
      "|  2|     M|   165|    52|19.100091827364558|\n",
      "|  3|     F|   157|    57|23.124670372023203|\n",
      "|  4|     F|   156|    53|  21.7784352399737|\n",
      "|  5|     M|   160|    51|19.921874999999996|\n",
      "+---+------+------+------+------------------+\n",
      "only showing top 5 rows\n",
      "\n"
     ]
    }
   ],
   "source": [
    "df_sub.withColumn('bmi', (df_sub.weight/(df_sub.height/100)**2)).show(5)"
   ]
  },
  {
   "cell_type": "code",
   "execution_count": 62,
   "metadata": {},
   "outputs": [],
   "source": [
    "df_sub = df_sub.withColumn('bmi', (df_sub.weight/(df_sub.height/100)**2))"
   ]
  },
  {
   "cell_type": "code",
   "execution_count": 31,
   "metadata": {},
   "outputs": [
    {
     "name": "stdout",
     "output_type": "stream",
     "text": [
      "+---+----+------+------+\n",
      "| id| sex|height|weight|\n",
      "+---+----+------+------+\n",
      "|  1|   F|   150|    49|\n",
      "|  2|   M|   165|    52|\n",
      "|  3|   F|   157|    57|\n",
      "+---+----+------+------+\n",
      "only showing top 3 rows\n",
      "\n"
     ]
    }
   ],
   "source": [
    "df_sub.withColumnRenamed('gender',' sex').show(3)"
   ]
  },
  {
   "cell_type": "code",
   "execution_count": 32,
   "metadata": {},
   "outputs": [
    {
     "data": {
      "text/plain": [
       "['id',\n",
       " 'gender',\n",
       " 'height',\n",
       " 'weight',\n",
       " 'bmi',\n",
       " 'age',\n",
       " 'bmc',\n",
       " 'bmd',\n",
       " 'fat',\n",
       " 'lean',\n",
       " 'pcfat']"
      ]
     },
     "execution_count": 32,
     "metadata": {},
     "output_type": "execute_result"
    }
   ],
   "source": [
    "df.columns "
   ]
  },
  {
   "cell_type": "code",
   "execution_count": 33,
   "metadata": {},
   "outputs": [
    {
     "data": {
      "text/plain": [
       "['id', 'gender', 'height', 'weight', 'age', 'bmc', 'bmd', 'fat', 'pcfat']"
      ]
     },
     "execution_count": 33,
     "metadata": {},
     "output_type": "execute_result"
    }
   ],
   "source": [
    "df.drop('bmi','lean').columns"
   ]
  },
  {
   "cell_type": "code",
   "execution_count": 34,
   "metadata": {},
   "outputs": [
    {
     "data": {
      "text/plain": [
       "100000"
      ]
     },
     "execution_count": 34,
     "metadata": {},
     "output_type": "execute_result"
    }
   ],
   "source": [
    "people.count()"
   ]
  },
  {
   "cell_type": "code",
   "execution_count": 35,
   "metadata": {},
   "outputs": [
    {
     "data": {
      "text/plain": [
       "100000"
      ]
     },
     "execution_count": 35,
     "metadata": {},
     "output_type": "execute_result"
    }
   ],
   "source": [
    "people.dropDuplicates().count() # No duplicate values"
   ]
  },
  {
   "cell_type": "code",
   "execution_count": 36,
   "metadata": {},
   "outputs": [
    {
     "data": {
      "text/plain": [
       "98080"
      ]
     },
     "execution_count": 36,
     "metadata": {},
     "output_type": "execute_result"
    }
   ],
   "source": [
    "people.dropna().count() # Drop and count null values"
   ]
  },
  {
   "cell_type": "code",
   "execution_count": 37,
   "metadata": {},
   "outputs": [
    {
     "data": {
      "text/plain": [
       "7"
      ]
     },
     "execution_count": 37,
     "metadata": {},
     "output_type": "execute_result"
    }
   ],
   "source": [
    "# Return rows where name starts with 'I' & ends with 'p'\n",
    "people_sub = people.filter(people.name.like('I%p'))\n",
    "people_sub.count()"
   ]
  },
  {
   "cell_type": "code",
   "execution_count": 38,
   "metadata": {},
   "outputs": [
    {
     "name": "stdout",
     "output_type": "stream",
     "text": [
      "+-----+---------+-------------+------+-------------+\n",
      "|  _c0|person_id|         name|   sex|date of birth|\n",
      "+-----+---------+-------------+------+-------------+\n",
      "|    2|      102|    Ida Shipp|female|   1962-05-24|\n",
      "| 5791|     5891| Isaias Stepp|  male|   1974-04-13|\n",
      "| 9965|    10065| Isabel Sharp|female|   1967-11-28|\n",
      "|58576|    58676|Isadora Tripp|female|   1971-06-05|\n",
      "|68125|    68225|   Irene Kulp|female|   1986-07-06|\n",
      "|71572|    71672|    Ivan Ropp|  male|   1975-07-08|\n",
      "|92061|    92161|   Inez Estep|female|   1925-09-03|\n",
      "+-----+---------+-------------+------+-------------+\n",
      "\n"
     ]
    }
   ],
   "source": [
    "people_sub.show()"
   ]
  },
  {
   "cell_type": "code",
   "execution_count": 39,
   "metadata": {},
   "outputs": [
    {
     "data": {
      "text/plain": [
       "1188"
      ]
     },
     "execution_count": 39,
     "metadata": {},
     "output_type": "execute_result"
    }
   ],
   "source": [
    "# Return rows where name starts with 'A' & ends with 'n'\n",
    "people_sub = people.filter(people.name.like('A%n'))\n",
    "people_sub.count()"
   ]
  },
  {
   "cell_type": "code",
   "execution_count": 40,
   "metadata": {},
   "outputs": [
    {
     "name": "stdout",
     "output_type": "stream",
     "text": [
      "+----+---------+-----------------+------+-------------+\n",
      "| _c0|person_id|             name|   sex|date of birth|\n",
      "+----+---------+-----------------+------+-------------+\n",
      "|  14|      114|Alejandro Brennan|  male|   1980-12-22|\n",
      "| 163|      263|  Anthony Hampton|  male|   1988-08-23|\n",
      "| 278|      378| Anderson Bushman|  male|   1969-06-29|\n",
      "| 288|      388|   Aaron Peterson|  male|   2007-11-06|\n",
      "| 330|      430|     Annis Benton|female|   1974-03-27|\n",
      "| 336|      436|    Andrea Harden|female|   1917-09-20|\n",
      "| 407|      507|    Amanda Hudman|female|   1952-04-10|\n",
      "| 512|      612|  Alvin Henderson|  male|   2042-02-01|\n",
      "| 518|      618|  Anthony Johnson|  male|   1963-07-01|\n",
      "| 548|      648| Annabelle Obrien|female|   1964-04-19|\n",
      "| 638|      738|   Antoine Nelson|  male|   1984-11-14|\n",
      "| 678|      778|    Anthony Stein|  male|   1953-11-16|\n",
      "| 886|      986|  Annie Templeton|female|   1939-10-03|\n",
      "| 936|     1036|    Arlene Aragon|female|   1969-07-28|\n",
      "| 955|     1055|Antoinette Martin|female|   2003-07-29|\n",
      "|1000|     1100|   Anthony Dryden|  male|   1945-02-14|\n",
      "|1172|     1272|       Anne Brown|female|   1956-06-26|\n",
      "|1232|     1332|   Amanda Eastman|female|   1988-07-27|\n",
      "|1291|     1391|     Angela Brown|female|   1974-11-22|\n",
      "|1299|     1399|    Antoine Brown|  male|   1996-03-19|\n",
      "+----+---------+-----------------+------+-------------+\n",
      "only showing top 20 rows\n",
      "\n"
     ]
    }
   ],
   "source": [
    "people_sub.show()"
   ]
  },
  {
   "cell_type": "code",
   "execution_count": 41,
   "metadata": {},
   "outputs": [
    {
     "data": {
      "text/plain": [
       "352"
      ]
     },
     "execution_count": 41,
     "metadata": {},
     "output_type": "execute_result"
    }
   ],
   "source": [
    "# Return rows where name contains 'Moore'\n",
    "people_Moore = people.where(people.name.contains('Moore'))\n",
    "people_Moore.count()"
   ]
  },
  {
   "cell_type": "code",
   "execution_count": 42,
   "metadata": {},
   "outputs": [
    {
     "data": {
      "text/plain": [
       "99648"
      ]
     },
     "execution_count": 42,
     "metadata": {},
     "output_type": "execute_result"
    }
   ],
   "source": [
    "# Return rows where name doesn't contains 'Moore'\n",
    "people_not_Moore = people.where(~people.name.contains('Moore'))\n",
    "people_not_Moore.count()"
   ]
  },
  {
   "cell_type": "code",
   "execution_count": 43,
   "metadata": {},
   "outputs": [],
   "source": [
    "people_1999 = people.filter((people['date of birth'] >= '1999-01-01') & (people['date of birth'] <= '1999-12-31'))"
   ]
  },
  {
   "cell_type": "code",
   "execution_count": 44,
   "metadata": {},
   "outputs": [
    {
     "data": {
      "text/plain": [
       "1366"
      ]
     },
     "execution_count": 44,
     "metadata": {},
     "output_type": "execute_result"
    }
   ],
   "source": [
    "people_1999.count()"
   ]
  },
  {
   "cell_type": "code",
   "execution_count": 45,
   "metadata": {},
   "outputs": [],
   "source": [
    "people_1999 = people.where((people['date of birth'] >= '1999-01-01') & (people['date of birth'] <= '1999-12-31'))"
   ]
  },
  {
   "cell_type": "code",
   "execution_count": 46,
   "metadata": {},
   "outputs": [
    {
     "data": {
      "text/plain": [
       "1366"
      ]
     },
     "execution_count": 46,
     "metadata": {},
     "output_type": "execute_result"
    }
   ],
   "source": [
    "people_1999.count()"
   ]
  },
  {
   "cell_type": "code",
   "execution_count": 47,
   "metadata": {},
   "outputs": [],
   "source": [
    "from pyspark.sql.functions import *"
   ]
  },
  {
   "cell_type": "code",
   "execution_count": 48,
   "metadata": {},
   "outputs": [
    {
     "name": "stdout",
     "output_type": "stream",
     "text": [
      "+---+---------+--------------+------+-------------+--------------+\n",
      "|_c0|person_id|          name|   sex|date of birth|    upper_name|\n",
      "+---+---------+--------------+------+-------------+--------------+\n",
      "|  0|      100|Penelope Lewis|female|   1990-08-31|PENELOPE LEWIS|\n",
      "|  1|      101| David Anthony|  male|   1971-10-14| DAVID ANTHONY|\n",
      "|  2|      102|     Ida Shipp|female|   1962-05-24|     IDA SHIPP|\n",
      "+---+---------+--------------+------+-------------+--------------+\n",
      "only showing top 3 rows\n",
      "\n"
     ]
    }
   ],
   "source": [
    "people.withColumn('upper_name', upper(col('name'))).show(3)"
   ]
  },
  {
   "cell_type": "code",
   "execution_count": 49,
   "metadata": {},
   "outputs": [],
   "source": [
    "from pyspark.sql.types import *"
   ]
  },
  {
   "cell_type": "code",
   "execution_count": 50,
   "metadata": {},
   "outputs": [
    {
     "name": "stdout",
     "output_type": "stream",
     "text": [
      "+---+---------+--------------+------+-------------+----+\n",
      "|_c0|person_id|          name|   sex|date of birth|year|\n",
      "+---+---------+--------------+------+-------------+----+\n",
      "|  0|      100|Penelope Lewis|female|   1990-08-31|1990|\n",
      "|  1|      101| David Anthony|  male|   1971-10-14|1971|\n",
      "|  2|      102|     Ida Shipp|female|   1962-05-24|1962|\n",
      "+---+---------+--------------+------+-------------+----+\n",
      "only showing top 3 rows\n",
      "\n"
     ]
    }
   ],
   "source": [
    "people.withColumn('year', substring('date of birth', pos=0, len=4).cast(IntegerType())).show(3)"
   ]
  },
  {
   "cell_type": "code",
   "execution_count": 51,
   "metadata": {},
   "outputs": [
    {
     "name": "stdout",
     "output_type": "stream",
     "text": [
      "+---+---------+--------------+------+-------------+----+\n",
      "|_c0|person_id|          name|   sex|date of birth|year|\n",
      "+---+---------+--------------+------+-------------+----+\n",
      "|  0|      100|Penelope Lewis|female|   1990-08-31|1990|\n",
      "|  1|      101| David Anthony|  male|   1971-10-14|1971|\n",
      "|  2|      102|     Ida Shipp|female|   1962-05-24|1962|\n",
      "|  3|      103|  Joanna Moore|female|   2017-03-10|2017|\n",
      "|  4|      104|Lisandra Ortiz|female|   2020-08-05|2020|\n",
      "+---+---------+--------------+------+-------------+----+\n",
      "only showing top 5 rows\n",
      "\n"
     ]
    }
   ],
   "source": [
    "people1 = people.withColumn('year', substring('date of birth', pos=0, len=4).cast(IntegerType()))\n",
    "people1.show(5)"
   ]
  },
  {
   "cell_type": "code",
   "execution_count": 52,
   "metadata": {},
   "outputs": [
    {
     "name": "stdout",
     "output_type": "stream",
     "text": [
      "+---+---------+--------------+------+-------------+-----+\n",
      "|_c0|person_id|          name|   sex|date of birth|month|\n",
      "+---+---------+--------------+------+-------------+-----+\n",
      "|  0|      100|Penelope Lewis|female|   1990-08-31|    8|\n",
      "|  1|      101| David Anthony|  male|   1971-10-14|   10|\n",
      "|  2|      102|     Ida Shipp|female|   1962-05-24|    5|\n",
      "+---+---------+--------------+------+-------------+-----+\n",
      "only showing top 3 rows\n",
      "\n"
     ]
    }
   ],
   "source": [
    "people.withColumn('month', substring('date of birth', pos=6, len=2).cast(IntegerType())).show(3)"
   ]
  },
  {
   "cell_type": "code",
   "execution_count": 53,
   "metadata": {},
   "outputs": [
    {
     "name": "stdout",
     "output_type": "stream",
     "text": [
      "+---+---------+--------------+------+-------------+----+-----+\n",
      "|_c0|person_id|          name|   sex|date of birth|year|month|\n",
      "+---+---------+--------------+------+-------------+----+-----+\n",
      "|  0|      100|Penelope Lewis|female|   1990-08-31|1990|    8|\n",
      "|  1|      101| David Anthony|  male|   1971-10-14|1971|   10|\n",
      "|  2|      102|     Ida Shipp|female|   1962-05-24|1962|    5|\n",
      "|  3|      103|  Joanna Moore|female|   2017-03-10|2017|    3|\n",
      "|  4|      104|Lisandra Ortiz|female|   2020-08-05|2020|    8|\n",
      "+---+---------+--------------+------+-------------+----+-----+\n",
      "only showing top 5 rows\n",
      "\n"
     ]
    }
   ],
   "source": [
    "people1 = people1.withColumn('month', substring('date of birth', pos=6, len=2).cast(IntegerType()))\n",
    "people1.show(5)"
   ]
  },
  {
   "cell_type": "code",
   "execution_count": 54,
   "metadata": {},
   "outputs": [
    {
     "name": "stdout",
     "output_type": "stream",
     "text": [
      "+---+---------+--------------+------+-------------+---+\n",
      "|_c0|person_id|          name|   sex|date of birth|day|\n",
      "+---+---------+--------------+------+-------------+---+\n",
      "|  0|      100|Penelope Lewis|female|   1990-08-31| 31|\n",
      "|  1|      101| David Anthony|  male|   1971-10-14| 14|\n",
      "|  2|      102|     Ida Shipp|female|   1962-05-24| 24|\n",
      "+---+---------+--------------+------+-------------+---+\n",
      "only showing top 3 rows\n",
      "\n"
     ]
    }
   ],
   "source": [
    "people.withColumn('day', substring('date of birth', pos=9, len=2).cast(IntegerType())).show(3)"
   ]
  },
  {
   "cell_type": "code",
   "execution_count": 59,
   "metadata": {},
   "outputs": [
    {
     "name": "stdout",
     "output_type": "stream",
     "text": [
      "+---+---------+--------------+------+-------------+----+-----+---+\n",
      "|_c0|person_id|          name|   sex|date of birth|year|month|day|\n",
      "+---+---------+--------------+------+-------------+----+-----+---+\n",
      "|  0|      100|Penelope Lewis|female|   1990-08-31|1990|    8|  8|\n",
      "|  1|      101| David Anthony|  male|   1971-10-14|1971|   10| 10|\n",
      "|  2|      102|     Ida Shipp|female|   1962-05-24|1962|    5|  5|\n",
      "|  3|      103|  Joanna Moore|female|   2017-03-10|2017|    3|  3|\n",
      "|  4|      104|Lisandra Ortiz|female|   2020-08-05|2020|    8|  8|\n",
      "+---+---------+--------------+------+-------------+----+-----+---+\n",
      "only showing top 5 rows\n",
      "\n"
     ]
    }
   ],
   "source": [
    "people1 = people1.withColumn('day', substring('date of birth', pos=6, len=2).cast(IntegerType()))\n",
    "people1.show(5)"
   ]
  },
  {
   "cell_type": "code",
   "execution_count": 55,
   "metadata": {},
   "outputs": [
    {
     "name": "stdout",
     "output_type": "stream",
     "text": [
      "+------+----------------------------------------+\n",
      "|height|CASE WHEN (height <= 150) THEN Short END|\n",
      "+------+----------------------------------------+\n",
      "|   150|                                   Short|\n",
      "|   165|                                    null|\n",
      "|   157|                                    null|\n",
      "|   156|                                    null|\n",
      "|   160|                                    null|\n",
      "+------+----------------------------------------+\n",
      "only showing top 5 rows\n",
      "\n"
     ]
    }
   ],
   "source": [
    "df.select(df.height, when(df.height <= 150, 'Short')).show(5)"
   ]
  },
  {
   "cell_type": "code",
   "execution_count": 56,
   "metadata": {},
   "outputs": [
    {
     "name": "stdout",
     "output_type": "stream",
     "text": [
      "+------+-----+\n",
      "|height| Type|\n",
      "+------+-----+\n",
      "|   150|Short|\n",
      "|   165| null|\n",
      "|   157| null|\n",
      "|   156| null|\n",
      "|   160| null|\n",
      "+------+-----+\n",
      "only showing top 5 rows\n",
      "\n"
     ]
    }
   ],
   "source": [
    "df.select(df.height, when(df.height<=150, 'Short').alias('Type')).show(5)"
   ]
  },
  {
   "cell_type": "code",
   "execution_count": 57,
   "metadata": {},
   "outputs": [
    {
     "name": "stdout",
     "output_type": "stream",
     "text": [
      "+------+-------------------------------------------------------------------------+\n",
      "|height|CASE WHEN (height <= 150) THEN Short WHEN (height <= 160) THEN Medium END|\n",
      "+------+-------------------------------------------------------------------------+\n",
      "|   150|                                                                    Short|\n",
      "|   165|                                                                     null|\n",
      "|   157|                                                                   Medium|\n",
      "|   156|                                                                   Medium|\n",
      "|   160|                                                                   Medium|\n",
      "+------+-------------------------------------------------------------------------+\n",
      "only showing top 5 rows\n",
      "\n"
     ]
    }
   ],
   "source": [
    "df.select(df.height, when(df.height <= 150, 'Short').when(df.height<=160, 'Medium')).show(5)"
   ]
  },
  {
   "cell_type": "code",
   "execution_count": 58,
   "metadata": {},
   "outputs": [
    {
     "name": "stdout",
     "output_type": "stream",
     "text": [
      "+------+------+\n",
      "|height|  Type|\n",
      "+------+------+\n",
      "|   150| Short|\n",
      "|   165|  Tall|\n",
      "|   157|Medium|\n",
      "|   156|Medium|\n",
      "|   160|Medium|\n",
      "+------+------+\n",
      "only showing top 5 rows\n",
      "\n"
     ]
    }
   ],
   "source": [
    "df.select(df.height, when(df.height <= 150, 'Short').when(df.height<=160, 'Medium').otherwise('Tall').alias('Type')).show(5)"
   ]
  },
  {
   "cell_type": "code",
   "execution_count": 60,
   "metadata": {},
   "outputs": [],
   "source": [
    "def bmi_type(bmi):\n",
    "    bmi_type = ''\n",
    "    if bmi <= 18.5:\n",
    "        bmi_type = 'Underweight'\n",
    "    elif bmi <= 24.9:\n",
    "        bmi_type = 'Normal weight'\n",
    "    elif bmi <= 29.9:\n",
    "        bmi_type = 'Overweight'\n",
    "    else:\n",
    "        bmi_type = 'Obesity'\n",
    "    return bmi_type"
   ]
  },
  {
   "cell_type": "code",
   "execution_count": 63,
   "metadata": {},
   "outputs": [
    {
     "name": "stdout",
     "output_type": "stream",
     "text": [
      "+---+------+------+------+------------------+-------------+\n",
      "| id|gender|height|weight|               bmi|     bmi_type|\n",
      "+---+------+------+------+------------------+-------------+\n",
      "|  1|     F|   150|    49| 21.77777777777778|Normal weight|\n",
      "|  2|     M|   165|    52|19.100091827364558|Normal weight|\n",
      "|  3|     F|   157|    57|23.124670372023203|Normal weight|\n",
      "+---+------+------+------+------------------+-------------+\n",
      "only showing top 3 rows\n",
      "\n"
     ]
    }
   ],
   "source": [
    "udfBMI = udf(bmi_type, StringType())\n",
    "df_sub.withColumn('bmi_type', udfBMI(df_sub.bmi)).show(3)"
   ]
  },
  {
   "cell_type": "code",
   "execution_count": 64,
   "metadata": {},
   "outputs": [],
   "source": [
    "import matplotlib.pyplot as plt\n",
    "import seaborn as sns"
   ]
  },
  {
   "cell_type": "code",
   "execution_count": 65,
   "metadata": {},
   "outputs": [
    {
     "name": "stdout",
     "output_type": "stream",
     "text": [
      "The column names of df_sub are ['id', 'gender', 'height', 'weight', 'bmi']\n"
     ]
    }
   ],
   "source": [
    "# Check the column names of df_sub\n",
    "print('The column names of df_sub are', df_sub.columns)\n",
    "\n",
    "# Convert to Pandas Dataframe\n",
    "df_pandas = df_sub.toPandas()"
   ]
  },
  {
   "cell_type": "code",
   "execution_count": 66,
   "metadata": {},
   "outputs": [
    {
     "data": {
      "image/png": "[encoded data removed]",
      "text/plain": [
       "<Figure size 432x288 with 2 Axes>"
      ]
     },
     "metadata": {
      "needs_background": "light"
     },
     "output_type": "display_data"
    }
   ],
   "source": [
    "plt.subplot(1,2,1)\n",
    "# Create a histogram\n",
    "plt.hist(df_pandas['height'])\n",
    "plt.subplot(1,2,2)\n",
    "sns.distplot(df_pandas['height'])\n",
    "plt.show()"
   ]
  },
  {
   "cell_type": "markdown",
   "metadata": {},
   "source": [
    "# PySpark SQL"
   ]
  },
  {
   "cell_type": "code",
   "execution_count": 68,
   "metadata": {},
   "outputs": [],
   "source": [
    "# Create a temporary table 'people'\n",
    "people.createOrReplaceTempView('people')"
   ]
  },
  {
   "cell_type": "code",
   "execution_count": 69,
   "metadata": {},
   "outputs": [
    {
     "name": "stdout",
     "output_type": "stream",
     "text": [
      "+----------------+\n",
      "|            name|\n",
      "+----------------+\n",
      "|  Penelope Lewis|\n",
      "|   David Anthony|\n",
      "|       Ida Shipp|\n",
      "|    Joanna Moore|\n",
      "|  Lisandra Ortiz|\n",
      "|   David Simmons|\n",
      "|   Edward Hudson|\n",
      "|    Albert Jones|\n",
      "|Leonard Cavender|\n",
      "|  Everett Vadala|\n",
      "+----------------+\n",
      "only showing top 10 rows\n",
      "\n"
     ]
    }
   ],
   "source": [
    "# Construct a query to select the names of the people\n",
    "# from the temporary table 'people'\n",
    "query = 'SELECT name FROM people'\n",
    "\n",
    "# Assign the result of Spark's query to people_df_names\n",
    "people_df_names = spark.sql(query)\n",
    "\n",
    "# Print the top 10 names of the people\n",
    "people_df_names.show(10)"
   ]
  },
  {
   "cell_type": "code",
   "execution_count": 70,
   "metadata": {},
   "outputs": [
    {
     "name": "stdout",
     "output_type": "stream",
     "text": [
      "There are 49014 rows in the people_female_df and 49066 rows in the people_male_df\n"
     ]
    }
   ],
   "source": [
    "# Filter the people table to select female as sex\n",
    "people_female_df = spark.sql('SELECT * FROM people WHERE sex==\"female\"')\n",
    "\n",
    "# Filter the people table DataFrame to select male sex\n",
    "people_male_df = spark.sql('SELECT * FROM people WHERE sex==\"male\"')\n",
    "\n",
    "# Count the number of rows in both DataFrames\n",
    "print('There are', people_female_df.count(), 'rows in the people_female_df and',\n",
    "       people_male_df.count(), 'rows in the people_male_df')"
   ]
  },
  {
   "cell_type": "code",
   "execution_count": 71,
   "metadata": {},
   "outputs": [
    {
     "name": "stdout",
     "output_type": "stream",
     "text": [
      "+-----+---------+--------------+------+-------------+\n",
      "|  _c0|person_id|          name|   sex|date of birth|\n",
      "+-----+---------+--------------+------+-------------+\n",
      "|    9|      109|Everett Vadala|  male|   2005-05-24|\n",
      "|77207|    77307| Marlyn Vadala|female|   1992-07-02|\n",
      "+-----+---------+--------------+------+-------------+\n",
      "\n"
     ]
    }
   ],
   "source": [
    "people_Vadala = spark.sql('SELECT * FROM people WHERE name like \"%Vadala\"')\n",
    "people_Vadala.show()"
   ]
  },
  {
   "cell_type": "code",
   "execution_count": 73,
   "metadata": {},
   "outputs": [
    {
     "name": "stdout",
     "output_type": "stream",
     "text": [
      "+-----------------+----------------------+\n",
      "|             name|substring(name, 8, 10)|\n",
      "+-----------------+----------------------+\n",
      "|     Albert Jones|                 Jones|\n",
      "|  Albert Guillory|              Guillory|\n",
      "|    Albert Miller|                Miller|\n",
      "|     Albert Goetz|                 Goetz|\n",
      "|    Albert Clever|                Clever|\n",
      "|   Albert Griffin|               Griffin|\n",
      "|  Albert Amundsen|              Amundsen|\n",
      "| Albert Pritchard|             Pritchard|\n",
      "|    Albert Omeara|                Omeara|\n",
      "|Albert Villarreal|            Villarreal|\n",
      "+-----------------+----------------------+\n",
      "only showing top 10 rows\n",
      "\n"
     ]
    }
   ],
   "source": [
    "name_sub = spark.sql('SELECT name,SUBSTRING(name, 8, 10) FROM people WHERE name like \"Albert%\"')\n",
    "name_sub.show(10)"
   ]
  },
  {
   "cell_type": "code",
   "execution_count": 74,
   "metadata": {},
   "outputs": [
    {
     "name": "stdout",
     "output_type": "stream",
     "text": [
      "+--------------+\n",
      "|          name|\n",
      "+--------------+\n",
      "|Penelope Lewis|\n",
      "| David Anthony|\n",
      "|     Ida Shipp|\n",
      "|  Joanna Moore|\n",
      "|Lisandra Ortiz|\n",
      "+--------------+\n",
      "only showing top 5 rows\n",
      "\n"
     ]
    }
   ],
   "source": [
    "# By SQL\n",
    "spark.sql('SELECT name FROM people').show(5)"
   ]
  },
  {
   "cell_type": "code",
   "execution_count": 77,
   "metadata": {},
   "outputs": [
    {
     "name": "stdout",
     "output_type": "stream",
     "text": [
      "+--------------+\n",
      "|          name|\n",
      "+--------------+\n",
      "|Penelope Lewis|\n",
      "| David Anthony|\n",
      "|     Ida Shipp|\n",
      "|  Joanna Moore|\n",
      "|Lisandra Ortiz|\n",
      "+--------------+\n",
      "only showing top 5 rows\n",
      "\n"
     ]
    }
   ],
   "source": [
    "# By DataFrame\n",
    "people.select('name').show(5)"
   ]
  },
  {
   "cell_type": "code",
   "execution_count": null,
   "metadata": {},
   "outputs": [],
   "source": []
  }
 ],
 "metadata": {
  "kernelspec": {
   "display_name": "Python 3",
   "language": "python",
   "name": "python3"
  },
  "language_info": {
   "codemirror_mode": {
    "name": "ipython",
    "version": 3
   },
   "file_extension": ".py",
   "mimetype": "text/x-python",
   "name": "python",
   "nbconvert_exporter": "python",
   "pygments_lexer": "ipython3",
   "version": "3.7.4"
  }
 },
 "nbformat": 4,
 "nbformat_minor": 4
}
