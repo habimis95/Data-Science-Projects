{
 "cells": [
  {
   "cell_type": "code",
   "execution_count": 361,
   "metadata": {},
   "outputs": [],
   "source": [
    "data = read.csv('Du lieu cung cap/houses_to_rent.csv', row.names = 1, header= TRUE)"
   ]
  },
  {
   "cell_type": "code",
   "execution_count": 362,
   "metadata": {},
   "outputs": [
    {
     "data": {
      "text/html": [
       "<table>\n",
       "<caption>A data.frame: 6 × 13</caption>\n",
       "<thead>\n",
       "\t<tr><th></th><th scope=col>city</th><th scope=col>area</th><th scope=col>rooms</th><th scope=col>bathroom</th><th scope=col>parking.spaces</th><th scope=col>floor</th><th scope=col>animal</th><th scope=col>furniture</th><th scope=col>hoa</th><th scope=col>rent.amount</th><th scope=col>property.tax</th><th scope=col>fire.insurance</th><th scope=col>total</th></tr>\n",
       "\t<tr><th></th><th scope=col>&lt;int&gt;</th><th scope=col>&lt;int&gt;</th><th scope=col>&lt;int&gt;</th><th scope=col>&lt;int&gt;</th><th scope=col>&lt;int&gt;</th><th scope=col>&lt;int&gt;</th><th scope=col>&lt;chr&gt;</th><th scope=col>&lt;chr&gt;</th><th scope=col>&lt;chr&gt;</th><th scope=col>&lt;chr&gt;</th><th scope=col>&lt;chr&gt;</th><th scope=col>&lt;chr&gt;</th><th scope=col>&lt;chr&gt;</th></tr>\n",
       "</thead>\n",
       "<tbody>\n",
       "\t<tr><th scope=row>0</th><td>1</td><td>240</td><td>3</td><td> 3</td><td>4</td><td>NA</td><td>acept    </td><td>furnished    </td><td>R$0    </td><td>R$8,000</td><td>R$1,000</td><td>R$121</td><td>R$9,121 </td></tr>\n",
       "\t<tr><th scope=row>1</th><td>0</td><td> 64</td><td>2</td><td> 1</td><td>1</td><td>10</td><td>acept    </td><td>not furnished</td><td>R$540  </td><td>R$820  </td><td>R$122  </td><td>R$11 </td><td>R$1,493 </td></tr>\n",
       "\t<tr><th scope=row>2</th><td>1</td><td>443</td><td>5</td><td> 5</td><td>4</td><td> 3</td><td>acept    </td><td>furnished    </td><td>R$4,172</td><td>R$7,000</td><td>R$1,417</td><td>R$89 </td><td>R$12,680</td></tr>\n",
       "\t<tr><th scope=row>3</th><td>1</td><td> 73</td><td>2</td><td>NA</td><td>1</td><td>12</td><td>acept    </td><td>not furnished</td><td>R$700  </td><td>R$1,250</td><td>R$150  </td><td>R$16 </td><td>R$2,116 </td></tr>\n",
       "\t<tr><th scope=row>4</th><td>1</td><td> 19</td><td>1</td><td>NA</td><td>0</td><td>NA</td><td>not acept</td><td>not furnished</td><td>R$0    </td><td>R$1,200</td><td>R$41   </td><td>R$16 </td><td>R$1,257 </td></tr>\n",
       "\t<tr><th scope=row>5</th><td>1</td><td> 13</td><td>1</td><td>NA</td><td>0</td><td> 2</td><td>acept    </td><td>not furnished</td><td>R$0    </td><td>R$2,200</td><td>R$42   </td><td>R$28 </td><td>R$2,270 </td></tr>\n",
       "</tbody>\n",
       "</table>\n"
      ],
      "text/latex": [
       "A data.frame: 6 × 13\n",
       "\\begin{tabular}{r|lllllllllllll}\n",
       "  & city & area & rooms & bathroom & parking.spaces & floor & animal & furniture & hoa & rent.amount & property.tax & fire.insurance & total\\\\\n",
       "  & <int> & <int> & <int> & <int> & <int> & <int> & <chr> & <chr> & <chr> & <chr> & <chr> & <chr> & <chr>\\\\\n",
       "\\hline\n",
       "\t0 & 1 & 240 & 3 &  3 & 4 & NA & acept     & furnished     & R\\$0     & R\\$8,000 & R\\$1,000 & R\\$121 & R\\$9,121 \\\\\n",
       "\t1 & 0 &  64 & 2 &  1 & 1 & 10 & acept     & not furnished & R\\$540   & R\\$820   & R\\$122   & R\\$11  & R\\$1,493 \\\\\n",
       "\t2 & 1 & 443 & 5 &  5 & 4 &  3 & acept     & furnished     & R\\$4,172 & R\\$7,000 & R\\$1,417 & R\\$89  & R\\$12,680\\\\\n",
       "\t3 & 1 &  73 & 2 & NA & 1 & 12 & acept     & not furnished & R\\$700   & R\\$1,250 & R\\$150   & R\\$16  & R\\$2,116 \\\\\n",
       "\t4 & 1 &  19 & 1 & NA & 0 & NA & not acept & not furnished & R\\$0     & R\\$1,200 & R\\$41    & R\\$16  & R\\$1,257 \\\\\n",
       "\t5 & 1 &  13 & 1 & NA & 0 &  2 & acept     & not furnished & R\\$0     & R\\$2,200 & R\\$42    & R\\$28  & R\\$2,270 \\\\\n",
       "\\end{tabular}\n"
      ],
      "text/markdown": [
       "\n",
       "A data.frame: 6 × 13\n",
       "\n",
       "| <!--/--> | city &lt;int&gt; | area &lt;int&gt; | rooms &lt;int&gt; | bathroom &lt;int&gt; | parking.spaces &lt;int&gt; | floor &lt;int&gt; | animal &lt;chr&gt; | furniture &lt;chr&gt; | hoa &lt;chr&gt; | rent.amount &lt;chr&gt; | property.tax &lt;chr&gt; | fire.insurance &lt;chr&gt; | total &lt;chr&gt; |\n",
       "|---|---|---|---|---|---|---|---|---|---|---|---|---|---|\n",
       "| 0 | 1 | 240 | 3 |  3 | 4 | NA | acept     | furnished     | R$0     | R$8,000 | R$1,000 | R$121 | R$9,121  |\n",
       "| 1 | 0 |  64 | 2 |  1 | 1 | 10 | acept     | not furnished | R$540   | R$820   | R$122   | R$11  | R$1,493  |\n",
       "| 2 | 1 | 443 | 5 |  5 | 4 |  3 | acept     | furnished     | R$4,172 | R$7,000 | R$1,417 | R$89  | R$12,680 |\n",
       "| 3 | 1 |  73 | 2 | NA | 1 | 12 | acept     | not furnished | R$700   | R$1,250 | R$150   | R$16  | R$2,116  |\n",
       "| 4 | 1 |  19 | 1 | NA | 0 | NA | not acept | not furnished | R$0     | R$1,200 | R$41    | R$16  | R$1,257  |\n",
       "| 5 | 1 |  13 | 1 | NA | 0 |  2 | acept     | not furnished | R$0     | R$2,200 | R$42    | R$28  | R$2,270  |\n",
       "\n"
      ],
      "text/plain": [
       "  city area rooms bathroom parking.spaces floor animal    furniture     hoa    \n",
       "0 1    240  3      3       4              NA    acept     furnished     R$0    \n",
       "1 0     64  2      1       1              10    acept     not furnished R$540  \n",
       "2 1    443  5      5       4               3    acept     furnished     R$4,172\n",
       "3 1     73  2     NA       1              12    acept     not furnished R$700  \n",
       "4 1     19  1     NA       0              NA    not acept not furnished R$0    \n",
       "5 1     13  1     NA       0               2    acept     not furnished R$0    \n",
       "  rent.amount property.tax fire.insurance total   \n",
       "0 R$8,000     R$1,000      R$121          R$9,121 \n",
       "1 R$820       R$122        R$11           R$1,493 \n",
       "2 R$7,000     R$1,417      R$89           R$12,680\n",
       "3 R$1,250     R$150        R$16           R$2,116 \n",
       "4 R$1,200     R$41         R$16           R$1,257 \n",
       "5 R$2,200     R$42         R$28           R$2,270 "
      ]
     },
     "metadata": {},
     "output_type": "display_data"
    }
   ],
   "source": [
    "head(data)"
   ]
  },
  {
   "cell_type": "code",
   "execution_count": 363,
   "metadata": {},
   "outputs": [
    {
     "data": {
      "text/html": [
       "<table>\n",
       "<caption>A data.frame: 6 × 13</caption>\n",
       "<thead>\n",
       "\t<tr><th></th><th scope=col>city</th><th scope=col>area</th><th scope=col>rooms</th><th scope=col>bathroom</th><th scope=col>parking.spaces</th><th scope=col>floor</th><th scope=col>animal</th><th scope=col>furniture</th><th scope=col>hoa</th><th scope=col>rent.amount</th><th scope=col>property.tax</th><th scope=col>fire.insurance</th><th scope=col>total</th></tr>\n",
       "\t<tr><th></th><th scope=col>&lt;int&gt;</th><th scope=col>&lt;int&gt;</th><th scope=col>&lt;int&gt;</th><th scope=col>&lt;int&gt;</th><th scope=col>&lt;int&gt;</th><th scope=col>&lt;int&gt;</th><th scope=col>&lt;chr&gt;</th><th scope=col>&lt;chr&gt;</th><th scope=col>&lt;chr&gt;</th><th scope=col>&lt;chr&gt;</th><th scope=col>&lt;chr&gt;</th><th scope=col>&lt;chr&gt;</th><th scope=col>&lt;chr&gt;</th></tr>\n",
       "</thead>\n",
       "<tbody>\n",
       "\t<tr><th scope=row>6074</th><td>0</td><td> 28</td><td>1</td><td>1</td><td>0</td><td>NA</td><td>not acept</td><td>furnished    </td><td>R$0  </td><td>R$1,390</td><td>R$0  </td><td>R$18</td><td>R$1,408</td></tr>\n",
       "\t<tr><th scope=row>6075</th><td>1</td><td> 50</td><td>2</td><td>1</td><td>1</td><td> 2</td><td>acept    </td><td>not furnished</td><td>R$420</td><td>R$1,150</td><td>R$0  </td><td>R$15</td><td>R$1,585</td></tr>\n",
       "\t<tr><th scope=row>6076</th><td>1</td><td> 84</td><td>2</td><td>2</td><td>1</td><td>16</td><td>not acept</td><td>furnished    </td><td>R$768</td><td>R$2,900</td><td>R$63 </td><td>R$37</td><td>R$3,768</td></tr>\n",
       "\t<tr><th scope=row>6077</th><td>0</td><td> 48</td><td>1</td><td>1</td><td>0</td><td>13</td><td>acept    </td><td>not furnished</td><td>R$250</td><td>R$950  </td><td>R$42 </td><td>R$13</td><td>R$1,255</td></tr>\n",
       "\t<tr><th scope=row>6078</th><td>1</td><td>160</td><td>3</td><td>2</td><td>2</td><td>NA</td><td>not acept</td><td>not furnished</td><td>R$0  </td><td>R$3,500</td><td>R$250</td><td>R$53</td><td>R$3,803</td></tr>\n",
       "\t<tr><th scope=row>6079</th><td>1</td><td> 60</td><td>2</td><td>1</td><td>1</td><td> 4</td><td>acept    </td><td>furnished    </td><td>R$489</td><td>R$1,900</td><td>R$0  </td><td>R$25</td><td>R$2,414</td></tr>\n",
       "</tbody>\n",
       "</table>\n"
      ],
      "text/latex": [
       "A data.frame: 6 × 13\n",
       "\\begin{tabular}{r|lllllllllllll}\n",
       "  & city & area & rooms & bathroom & parking.spaces & floor & animal & furniture & hoa & rent.amount & property.tax & fire.insurance & total\\\\\n",
       "  & <int> & <int> & <int> & <int> & <int> & <int> & <chr> & <chr> & <chr> & <chr> & <chr> & <chr> & <chr>\\\\\n",
       "\\hline\n",
       "\t6074 & 0 &  28 & 1 & 1 & 0 & NA & not acept & furnished     & R\\$0   & R\\$1,390 & R\\$0   & R\\$18 & R\\$1,408\\\\\n",
       "\t6075 & 1 &  50 & 2 & 1 & 1 &  2 & acept     & not furnished & R\\$420 & R\\$1,150 & R\\$0   & R\\$15 & R\\$1,585\\\\\n",
       "\t6076 & 1 &  84 & 2 & 2 & 1 & 16 & not acept & furnished     & R\\$768 & R\\$2,900 & R\\$63  & R\\$37 & R\\$3,768\\\\\n",
       "\t6077 & 0 &  48 & 1 & 1 & 0 & 13 & acept     & not furnished & R\\$250 & R\\$950   & R\\$42  & R\\$13 & R\\$1,255\\\\\n",
       "\t6078 & 1 & 160 & 3 & 2 & 2 & NA & not acept & not furnished & R\\$0   & R\\$3,500 & R\\$250 & R\\$53 & R\\$3,803\\\\\n",
       "\t6079 & 1 &  60 & 2 & 1 & 1 &  4 & acept     & furnished     & R\\$489 & R\\$1,900 & R\\$0   & R\\$25 & R\\$2,414\\\\\n",
       "\\end{tabular}\n"
      ],
      "text/markdown": [
       "\n",
       "A data.frame: 6 × 13\n",
       "\n",
       "| <!--/--> | city &lt;int&gt; | area &lt;int&gt; | rooms &lt;int&gt; | bathroom &lt;int&gt; | parking.spaces &lt;int&gt; | floor &lt;int&gt; | animal &lt;chr&gt; | furniture &lt;chr&gt; | hoa &lt;chr&gt; | rent.amount &lt;chr&gt; | property.tax &lt;chr&gt; | fire.insurance &lt;chr&gt; | total &lt;chr&gt; |\n",
       "|---|---|---|---|---|---|---|---|---|---|---|---|---|---|\n",
       "| 6074 | 0 |  28 | 1 | 1 | 0 | NA | not acept | furnished     | R$0   | R$1,390 | R$0   | R$18 | R$1,408 |\n",
       "| 6075 | 1 |  50 | 2 | 1 | 1 |  2 | acept     | not furnished | R$420 | R$1,150 | R$0   | R$15 | R$1,585 |\n",
       "| 6076 | 1 |  84 | 2 | 2 | 1 | 16 | not acept | furnished     | R$768 | R$2,900 | R$63  | R$37 | R$3,768 |\n",
       "| 6077 | 0 |  48 | 1 | 1 | 0 | 13 | acept     | not furnished | R$250 | R$950   | R$42  | R$13 | R$1,255 |\n",
       "| 6078 | 1 | 160 | 3 | 2 | 2 | NA | not acept | not furnished | R$0   | R$3,500 | R$250 | R$53 | R$3,803 |\n",
       "| 6079 | 1 |  60 | 2 | 1 | 1 |  4 | acept     | furnished     | R$489 | R$1,900 | R$0   | R$25 | R$2,414 |\n",
       "\n"
      ],
      "text/plain": [
       "     city area rooms bathroom parking.spaces floor animal    furniture    \n",
       "6074 0     28  1     1        0              NA    not acept furnished    \n",
       "6075 1     50  2     1        1               2    acept     not furnished\n",
       "6076 1     84  2     2        1              16    not acept furnished    \n",
       "6077 0     48  1     1        0              13    acept     not furnished\n",
       "6078 1    160  3     2        2              NA    not acept not furnished\n",
       "6079 1     60  2     1        1               4    acept     furnished    \n",
       "     hoa   rent.amount property.tax fire.insurance total  \n",
       "6074 R$0   R$1,390     R$0          R$18           R$1,408\n",
       "6075 R$420 R$1,150     R$0          R$15           R$1,585\n",
       "6076 R$768 R$2,900     R$63         R$37           R$3,768\n",
       "6077 R$250 R$950       R$42         R$13           R$1,255\n",
       "6078 R$0   R$3,500     R$250        R$53           R$3,803\n",
       "6079 R$489 R$1,900     R$0          R$25           R$2,414"
      ]
     },
     "metadata": {},
     "output_type": "display_data"
    }
   ],
   "source": [
    "tail(data)"
   ]
  },
  {
   "cell_type": "code",
   "execution_count": 364,
   "metadata": {},
   "outputs": [
    {
     "name": "stdout",
     "output_type": "stream",
     "text": [
      "'data.frame':\t6080 obs. of  13 variables:\n",
      " $ city          : int  1 0 1 1 1 1 1 1 1 1 ...\n",
      " $ area          : int  240 64 443 73 19 13 55 55 82 32 ...\n",
      " $ rooms         : int  3 2 5 2 1 1 1 2 3 1 ...\n",
      " $ bathroom      : int  3 1 5 NA NA NA NA NA NA NA ...\n",
      " $ parking.spaces: int  4 1 4 1 0 0 1 1 1 1 ...\n",
      " $ floor         : int  NA 10 3 12 NA 2 2 2 3 16 ...\n",
      " $ animal        : chr  \"acept\" \"acept\" \"acept\" \"acept\" ...\n",
      " $ furniture     : chr  \"furnished\" \"not furnished\" \"furnished\" \"not furnished\" ...\n",
      " $ hoa           : chr  \"R$0\" \"R$540\" \"R$4,172\" \"R$700\" ...\n",
      " $ rent.amount   : chr  \"R$8,000\" \"R$820\" \"R$7,000\" \"R$1,250\" ...\n",
      " $ property.tax  : chr  \"R$1,000\" \"R$122\" \"R$1,417\" \"R$150\" ...\n",
      " $ fire.insurance: chr  \"R$121\" \"R$11\" \"R$89\" \"R$16\" ...\n",
      " $ total         : chr  \"R$9,121\" \"R$1,493\" \"R$12,680\" \"R$2,116\" ...\n"
     ]
    }
   ],
   "source": [
    "str(data)"
   ]
  },
  {
   "cell_type": "code",
   "execution_count": 365,
   "metadata": {},
   "outputs": [
    {
     "data": {
      "text/plain": [
       "      city             area             rooms           bathroom     \n",
       " Min.   :0.0000   Min.   :   10.0   Min.   : 1.000   Min.   : 1.000  \n",
       " 1st Qu.:1.0000   1st Qu.:   58.0   1st Qu.: 2.000   1st Qu.: 1.000  \n",
       " Median :1.0000   Median :  100.0   Median : 3.000   Median : 2.000  \n",
       " Mean   :0.8633   Mean   :  151.2   Mean   : 2.493   Mean   : 2.347  \n",
       " 3rd Qu.:1.0000   3rd Qu.:  200.0   3rd Qu.: 3.000   3rd Qu.: 3.000  \n",
       " Max.   :1.0000   Max.   :24606.0   Max.   :10.000   Max.   :10.000  \n",
       "                  NA's   :17                         NA's   :121     \n",
       " parking.spaces       floor           animal           furniture        \n",
       " Min.   : 0.000   Min.   : 1.000   Length:6080        Length:6080       \n",
       " 1st Qu.: 1.000   1st Qu.: 3.000   Class :character   Class :character  \n",
       " Median : 1.000   Median : 6.000   Mode  :character   Mode  :character  \n",
       " Mean   : 1.756   Mean   : 7.621                                        \n",
       " 3rd Qu.: 2.000   3rd Qu.:11.000                                        \n",
       " Max.   :12.000   Max.   :99.000                                        \n",
       "                  NA's   :1555                                          \n",
       "     hoa            rent.amount        property.tax       fire.insurance    \n",
       " Length:6080        Length:6080        Length:6080        Length:6080       \n",
       " Class :character   Class :character   Class :character   Class :character  \n",
       " Mode  :character   Mode  :character   Mode  :character   Mode  :character  \n",
       "                                                                            \n",
       "                                                                            \n",
       "                                                                            \n",
       "                                                                            \n",
       "    total          \n",
       " Length:6080       \n",
       " Class :character  \n",
       " Mode  :character  \n",
       "                   \n",
       "                   \n",
       "                   \n",
       "                   "
      ]
     },
     "metadata": {},
     "output_type": "display_data"
    }
   ],
   "source": [
    "summary(data)"
   ]
  },
  {
   "cell_type": "code",
   "execution_count": 366,
   "metadata": {},
   "outputs": [
    {
     "name": "stdout",
     "output_type": "stream",
     "text": [
      "[1] \"Number of rows: 6080\"\n",
      "[1] \"Number of cols: 13\"\n"
     ]
    }
   ],
   "source": [
    "print(paste('Number of rows:', nrow(data)))\n",
    "print(paste('Number of cols:', ncol(data)))"
   ]
  },
  {
   "cell_type": "code",
   "execution_count": 367,
   "metadata": {},
   "outputs": [
    {
     "name": "stderr",
     "output_type": "stream",
     "text": [
      "`summarise()` ungrouping output (override with `.groups` argument)\n",
      "\n"
     ]
    }
   ],
   "source": [
    "library(tidyverse)\n",
    "group_rooms = group_by(data, rooms)\n",
    "summary = summarize(group_rooms,\n",
    "                    room_counts = n())"
   ]
  },
  {
   "cell_type": "code",
   "execution_count": 368,
   "metadata": {},
   "outputs": [
    {
     "data": {
      "text/html": [
       "<table>\n",
       "<caption>A tibble: 9 × 2</caption>\n",
       "<thead>\n",
       "\t<tr><th scope=col>rooms</th><th scope=col>room_counts</th></tr>\n",
       "\t<tr><th scope=col>&lt;int&gt;</th><th scope=col>&lt;int&gt;</th></tr>\n",
       "</thead>\n",
       "<tbody>\n",
       "\t<tr><td> 1</td><td>1398</td></tr>\n",
       "\t<tr><td> 2</td><td>1621</td></tr>\n",
       "\t<tr><td> 3</td><td>1994</td></tr>\n",
       "\t<tr><td> 4</td><td> 879</td></tr>\n",
       "\t<tr><td> 5</td><td> 143</td></tr>\n",
       "\t<tr><td> 6</td><td>  22</td></tr>\n",
       "\t<tr><td> 7</td><td>  18</td></tr>\n",
       "\t<tr><td> 8</td><td>   3</td></tr>\n",
       "\t<tr><td>10</td><td>   2</td></tr>\n",
       "</tbody>\n",
       "</table>\n"
      ],
      "text/latex": [
       "A tibble: 9 × 2\n",
       "\\begin{tabular}{ll}\n",
       " rooms & room\\_counts\\\\\n",
       " <int> & <int>\\\\\n",
       "\\hline\n",
       "\t  1 & 1398\\\\\n",
       "\t  2 & 1621\\\\\n",
       "\t  3 & 1994\\\\\n",
       "\t  4 &  879\\\\\n",
       "\t  5 &  143\\\\\n",
       "\t  6 &   22\\\\\n",
       "\t  7 &   18\\\\\n",
       "\t  8 &    3\\\\\n",
       "\t 10 &    2\\\\\n",
       "\\end{tabular}\n"
      ],
      "text/markdown": [
       "\n",
       "A tibble: 9 × 2\n",
       "\n",
       "| rooms &lt;int&gt; | room_counts &lt;int&gt; |\n",
       "|---|---|\n",
       "|  1 | 1398 |\n",
       "|  2 | 1621 |\n",
       "|  3 | 1994 |\n",
       "|  4 |  879 |\n",
       "|  5 |  143 |\n",
       "|  6 |   22 |\n",
       "|  7 |   18 |\n",
       "|  8 |    3 |\n",
       "| 10 |    2 |\n",
       "\n"
      ],
      "text/plain": [
       "  rooms room_counts\n",
       "1  1    1398       \n",
       "2  2    1621       \n",
       "3  3    1994       \n",
       "4  4     879       \n",
       "5  5     143       \n",
       "6  6      22       \n",
       "7  7      18       \n",
       "8  8       3       \n",
       "9 10       2       "
      ]
     },
     "metadata": {},
     "output_type": "display_data"
    }
   ],
   "source": [
    "summary"
   ]
  },
  {
   "cell_type": "code",
   "execution_count": 369,
   "metadata": {},
   "outputs": [],
   "source": [
    "summary = summary[order(-summary$room_counts),]"
   ]
  },
  {
   "cell_type": "code",
   "execution_count": 370,
   "metadata": {},
   "outputs": [
    {
     "data": {
      "text/html": [
       "<table>\n",
       "<caption>A tibble: 5 × 2</caption>\n",
       "<thead>\n",
       "\t<tr><th scope=col>rooms</th><th scope=col>room_counts</th></tr>\n",
       "\t<tr><th scope=col>&lt;int&gt;</th><th scope=col>&lt;int&gt;</th></tr>\n",
       "</thead>\n",
       "<tbody>\n",
       "\t<tr><td>3</td><td>1994</td></tr>\n",
       "\t<tr><td>2</td><td>1621</td></tr>\n",
       "\t<tr><td>1</td><td>1398</td></tr>\n",
       "\t<tr><td>4</td><td> 879</td></tr>\n",
       "\t<tr><td>5</td><td> 143</td></tr>\n",
       "</tbody>\n",
       "</table>\n"
      ],
      "text/latex": [
       "A tibble: 5 × 2\n",
       "\\begin{tabular}{ll}\n",
       " rooms & room\\_counts\\\\\n",
       " <int> & <int>\\\\\n",
       "\\hline\n",
       "\t 3 & 1994\\\\\n",
       "\t 2 & 1621\\\\\n",
       "\t 1 & 1398\\\\\n",
       "\t 4 &  879\\\\\n",
       "\t 5 &  143\\\\\n",
       "\\end{tabular}\n"
      ],
      "text/markdown": [
       "\n",
       "A tibble: 5 × 2\n",
       "\n",
       "| rooms &lt;int&gt; | room_counts &lt;int&gt; |\n",
       "|---|---|\n",
       "| 3 | 1994 |\n",
       "| 2 | 1621 |\n",
       "| 1 | 1398 |\n",
       "| 4 |  879 |\n",
       "| 5 |  143 |\n",
       "\n"
      ],
      "text/plain": [
       "  rooms room_counts\n",
       "1 3     1994       \n",
       "2 2     1621       \n",
       "3 1     1398       \n",
       "4 4      879       \n",
       "5 5      143       "
      ]
     },
     "metadata": {},
     "output_type": "display_data"
    }
   ],
   "source": [
    "head(summary,5)"
   ]
  },
  {
   "cell_type": "code",
   "execution_count": 371,
   "metadata": {},
   "outputs": [
    {
     "data": {
      "text/html": [
       "1693"
      ],
      "text/latex": [
       "1693"
      ],
      "text/markdown": [
       "1693"
      ],
      "text/plain": [
       "[1] 1693"
      ]
     },
     "metadata": {},
     "output_type": "display_data"
    }
   ],
   "source": [
    "count_missings = sum(is.na(data$area),is.na(data$bathroom),is.na(data$floor))\n",
    "count_missings"
   ]
  },
  {
   "cell_type": "code",
   "execution_count": 372,
   "metadata": {},
   "outputs": [],
   "source": [
    "missing_values <- data.frame(columns = c('floor', 'bathroom', 'area'),\n",
    "                   count_missing =  sum(is.na(data$area),is.na(data$bathroom),is.na(data$floor)),\n",
    "                   x3 = 1)"
   ]
  },
  {
   "cell_type": "code",
   "execution_count": 373,
   "metadata": {},
   "outputs": [
    {
     "data": {
      "text/html": [
       "<table>\n",
       "<caption>A data.frame: 6 × 3</caption>\n",
       "<thead>\n",
       "\t<tr><th></th><th scope=col>floor</th><th scope=col>bathroom</th><th scope=col>area</th></tr>\n",
       "\t<tr><th></th><th scope=col>&lt;int&gt;</th><th scope=col>&lt;int&gt;</th><th scope=col>&lt;int&gt;</th></tr>\n",
       "</thead>\n",
       "<tbody>\n",
       "\t<tr><th scope=row>0</th><td>NA</td><td> 3</td><td>240</td></tr>\n",
       "\t<tr><th scope=row>1</th><td>10</td><td> 1</td><td> 64</td></tr>\n",
       "\t<tr><th scope=row>2</th><td> 3</td><td> 5</td><td>443</td></tr>\n",
       "\t<tr><th scope=row>3</th><td>12</td><td>NA</td><td> 73</td></tr>\n",
       "\t<tr><th scope=row>4</th><td>NA</td><td>NA</td><td> 19</td></tr>\n",
       "\t<tr><th scope=row>5</th><td> 2</td><td>NA</td><td> 13</td></tr>\n",
       "</tbody>\n",
       "</table>\n"
      ],
      "text/latex": [
       "A data.frame: 6 × 3\n",
       "\\begin{tabular}{r|lll}\n",
       "  & floor & bathroom & area\\\\\n",
       "  & <int> & <int> & <int>\\\\\n",
       "\\hline\n",
       "\t0 & NA &  3 & 240\\\\\n",
       "\t1 & 10 &  1 &  64\\\\\n",
       "\t2 &  3 &  5 & 443\\\\\n",
       "\t3 & 12 & NA &  73\\\\\n",
       "\t4 & NA & NA &  19\\\\\n",
       "\t5 &  2 & NA &  13\\\\\n",
       "\\end{tabular}\n"
      ],
      "text/markdown": [
       "\n",
       "A data.frame: 6 × 3\n",
       "\n",
       "| <!--/--> | floor &lt;int&gt; | bathroom &lt;int&gt; | area &lt;int&gt; |\n",
       "|---|---|---|---|\n",
       "| 0 | NA |  3 | 240 |\n",
       "| 1 | 10 |  1 |  64 |\n",
       "| 2 |  3 |  5 | 443 |\n",
       "| 3 | 12 | NA |  73 |\n",
       "| 4 | NA | NA |  19 |\n",
       "| 5 |  2 | NA |  13 |\n",
       "\n"
      ],
      "text/plain": [
       "  floor bathroom area\n",
       "0 NA     3       240 \n",
       "1 10     1        64 \n",
       "2  3     5       443 \n",
       "3 12    NA        73 \n",
       "4 NA    NA        19 \n",
       "5  2    NA        13 "
      ]
     },
     "metadata": {},
     "output_type": "display_data"
    }
   ],
   "source": [
    "area_bathroom_floor = subset(data, selec=c('floor', 'bathroom', 'area'))\n",
    "head(area_bathroom_floor)"
   ]
  },
  {
   "cell_type": "code",
   "execution_count": 374,
   "metadata": {},
   "outputs": [],
   "source": [
    "count_missings = colSums(is.na(area_bathroom_floor))"
   ]
  },
  {
   "cell_type": "code",
   "execution_count": 375,
   "metadata": {},
   "outputs": [],
   "source": [
    "missing_percents = round(count_missings/nrow(area_bathroom_floor)*100,2)"
   ]
  },
  {
   "cell_type": "code",
   "execution_count": 376,
   "metadata": {},
   "outputs": [],
   "source": [
    "missing_values = data.frame(columns = c('floor', 'bathroom', 'area'), count_missings, missing_percents)"
   ]
  },
  {
   "cell_type": "code",
   "execution_count": 377,
   "metadata": {},
   "outputs": [
    {
     "data": {
      "text/html": [
       "<table>\n",
       "<caption>A data.frame: 3 × 3</caption>\n",
       "<thead>\n",
       "\t<tr><th></th><th scope=col>columns</th><th scope=col>count_missings</th><th scope=col>missing_percents</th></tr>\n",
       "\t<tr><th></th><th scope=col>&lt;chr&gt;</th><th scope=col>&lt;dbl&gt;</th><th scope=col>&lt;dbl&gt;</th></tr>\n",
       "</thead>\n",
       "<tbody>\n",
       "\t<tr><th scope=row>floor</th><td>floor   </td><td>1555</td><td>25.58</td></tr>\n",
       "\t<tr><th scope=row>bathroom</th><td>bathroom</td><td> 121</td><td> 1.99</td></tr>\n",
       "\t<tr><th scope=row>area</th><td>area    </td><td>  17</td><td> 0.28</td></tr>\n",
       "</tbody>\n",
       "</table>\n"
      ],
      "text/latex": [
       "A data.frame: 3 × 3\n",
       "\\begin{tabular}{r|lll}\n",
       "  & columns & count\\_missings & missing\\_percents\\\\\n",
       "  & <chr> & <dbl> & <dbl>\\\\\n",
       "\\hline\n",
       "\tfloor & floor    & 1555 & 25.58\\\\\n",
       "\tbathroom & bathroom &  121 &  1.99\\\\\n",
       "\tarea & area     &   17 &  0.28\\\\\n",
       "\\end{tabular}\n"
      ],
      "text/markdown": [
       "\n",
       "A data.frame: 3 × 3\n",
       "\n",
       "| <!--/--> | columns &lt;chr&gt; | count_missings &lt;dbl&gt; | missing_percents &lt;dbl&gt; |\n",
       "|---|---|---|---|\n",
       "| floor | floor    | 1555 | 25.58 |\n",
       "| bathroom | bathroom |  121 |  1.99 |\n",
       "| area | area     |   17 |  0.28 |\n",
       "\n"
      ],
      "text/plain": [
       "         columns  count_missings missing_percents\n",
       "floor    floor    1555           25.58           \n",
       "bathroom bathroom  121            1.99           \n",
       "area     area       17            0.28           "
      ]
     },
     "metadata": {},
     "output_type": "display_data"
    }
   ],
   "source": [
    "missing_values"
   ]
  },
  {
   "cell_type": "code",
   "execution_count": 378,
   "metadata": {},
   "outputs": [],
   "source": [
    "data$property.tax = NULL\n",
    "data$fire.insurance = NULL\n",
    "data$total = NULL"
   ]
  },
  {
   "cell_type": "code",
   "execution_count": 379,
   "metadata": {},
   "outputs": [
    {
     "data": {
      "text/html": [
       "<table>\n",
       "<caption>A data.frame: 6 × 10</caption>\n",
       "<thead>\n",
       "\t<tr><th></th><th scope=col>city</th><th scope=col>area</th><th scope=col>rooms</th><th scope=col>bathroom</th><th scope=col>parking.spaces</th><th scope=col>floor</th><th scope=col>animal</th><th scope=col>furniture</th><th scope=col>hoa</th><th scope=col>rent.amount</th></tr>\n",
       "\t<tr><th></th><th scope=col>&lt;int&gt;</th><th scope=col>&lt;int&gt;</th><th scope=col>&lt;int&gt;</th><th scope=col>&lt;int&gt;</th><th scope=col>&lt;int&gt;</th><th scope=col>&lt;int&gt;</th><th scope=col>&lt;chr&gt;</th><th scope=col>&lt;chr&gt;</th><th scope=col>&lt;chr&gt;</th><th scope=col>&lt;chr&gt;</th></tr>\n",
       "</thead>\n",
       "<tbody>\n",
       "\t<tr><th scope=row>0</th><td>1</td><td>240</td><td>3</td><td> 3</td><td>4</td><td>NA</td><td>acept    </td><td>furnished    </td><td>R$0    </td><td>R$8,000</td></tr>\n",
       "\t<tr><th scope=row>1</th><td>0</td><td> 64</td><td>2</td><td> 1</td><td>1</td><td>10</td><td>acept    </td><td>not furnished</td><td>R$540  </td><td>R$820  </td></tr>\n",
       "\t<tr><th scope=row>2</th><td>1</td><td>443</td><td>5</td><td> 5</td><td>4</td><td> 3</td><td>acept    </td><td>furnished    </td><td>R$4,172</td><td>R$7,000</td></tr>\n",
       "\t<tr><th scope=row>3</th><td>1</td><td> 73</td><td>2</td><td>NA</td><td>1</td><td>12</td><td>acept    </td><td>not furnished</td><td>R$700  </td><td>R$1,250</td></tr>\n",
       "\t<tr><th scope=row>4</th><td>1</td><td> 19</td><td>1</td><td>NA</td><td>0</td><td>NA</td><td>not acept</td><td>not furnished</td><td>R$0    </td><td>R$1,200</td></tr>\n",
       "\t<tr><th scope=row>5</th><td>1</td><td> 13</td><td>1</td><td>NA</td><td>0</td><td> 2</td><td>acept    </td><td>not furnished</td><td>R$0    </td><td>R$2,200</td></tr>\n",
       "</tbody>\n",
       "</table>\n"
      ],
      "text/latex": [
       "A data.frame: 6 × 10\n",
       "\\begin{tabular}{r|llllllllll}\n",
       "  & city & area & rooms & bathroom & parking.spaces & floor & animal & furniture & hoa & rent.amount\\\\\n",
       "  & <int> & <int> & <int> & <int> & <int> & <int> & <chr> & <chr> & <chr> & <chr>\\\\\n",
       "\\hline\n",
       "\t0 & 1 & 240 & 3 &  3 & 4 & NA & acept     & furnished     & R\\$0     & R\\$8,000\\\\\n",
       "\t1 & 0 &  64 & 2 &  1 & 1 & 10 & acept     & not furnished & R\\$540   & R\\$820  \\\\\n",
       "\t2 & 1 & 443 & 5 &  5 & 4 &  3 & acept     & furnished     & R\\$4,172 & R\\$7,000\\\\\n",
       "\t3 & 1 &  73 & 2 & NA & 1 & 12 & acept     & not furnished & R\\$700   & R\\$1,250\\\\\n",
       "\t4 & 1 &  19 & 1 & NA & 0 & NA & not acept & not furnished & R\\$0     & R\\$1,200\\\\\n",
       "\t5 & 1 &  13 & 1 & NA & 0 &  2 & acept     & not furnished & R\\$0     & R\\$2,200\\\\\n",
       "\\end{tabular}\n"
      ],
      "text/markdown": [
       "\n",
       "A data.frame: 6 × 10\n",
       "\n",
       "| <!--/--> | city &lt;int&gt; | area &lt;int&gt; | rooms &lt;int&gt; | bathroom &lt;int&gt; | parking.spaces &lt;int&gt; | floor &lt;int&gt; | animal &lt;chr&gt; | furniture &lt;chr&gt; | hoa &lt;chr&gt; | rent.amount &lt;chr&gt; |\n",
       "|---|---|---|---|---|---|---|---|---|---|---|\n",
       "| 0 | 1 | 240 | 3 |  3 | 4 | NA | acept     | furnished     | R$0     | R$8,000 |\n",
       "| 1 | 0 |  64 | 2 |  1 | 1 | 10 | acept     | not furnished | R$540   | R$820   |\n",
       "| 2 | 1 | 443 | 5 |  5 | 4 |  3 | acept     | furnished     | R$4,172 | R$7,000 |\n",
       "| 3 | 1 |  73 | 2 | NA | 1 | 12 | acept     | not furnished | R$700   | R$1,250 |\n",
       "| 4 | 1 |  19 | 1 | NA | 0 | NA | not acept | not furnished | R$0     | R$1,200 |\n",
       "| 5 | 1 |  13 | 1 | NA | 0 |  2 | acept     | not furnished | R$0     | R$2,200 |\n",
       "\n"
      ],
      "text/plain": [
       "  city area rooms bathroom parking.spaces floor animal    furniture     hoa    \n",
       "0 1    240  3      3       4              NA    acept     furnished     R$0    \n",
       "1 0     64  2      1       1              10    acept     not furnished R$540  \n",
       "2 1    443  5      5       4               3    acept     furnished     R$4,172\n",
       "3 1     73  2     NA       1              12    acept     not furnished R$700  \n",
       "4 1     19  1     NA       0              NA    not acept not furnished R$0    \n",
       "5 1     13  1     NA       0               2    acept     not furnished R$0    \n",
       "  rent.amount\n",
       "0 R$8,000    \n",
       "1 R$820      \n",
       "2 R$7,000    \n",
       "3 R$1,250    \n",
       "4 R$1,200    \n",
       "5 R$2,200    "
      ]
     },
     "metadata": {},
     "output_type": "display_data"
    }
   ],
   "source": [
    "head(data)"
   ]
  },
  {
   "cell_type": "code",
   "execution_count": 380,
   "metadata": {},
   "outputs": [
    {
     "data": {
      "text/html": [
       "<table>\n",
       "<caption>A data.frame: 6 × 11</caption>\n",
       "<thead>\n",
       "\t<tr><th></th><th scope=col>city</th><th scope=col>area</th><th scope=col>rooms</th><th scope=col>bathroom</th><th scope=col>parking.spaces</th><th scope=col>floor</th><th scope=col>animal</th><th scope=col>furniture</th><th scope=col>hoa</th><th scope=col>rent.amount</th><th scope=col>rent_amount</th></tr>\n",
       "\t<tr><th></th><th scope=col>&lt;int&gt;</th><th scope=col>&lt;int&gt;</th><th scope=col>&lt;int&gt;</th><th scope=col>&lt;int&gt;</th><th scope=col>&lt;int&gt;</th><th scope=col>&lt;int&gt;</th><th scope=col>&lt;chr&gt;</th><th scope=col>&lt;chr&gt;</th><th scope=col>&lt;chr&gt;</th><th scope=col>&lt;chr&gt;</th><th scope=col>&lt;chr&gt;</th></tr>\n",
       "</thead>\n",
       "<tbody>\n",
       "\t<tr><th scope=row>0</th><td>1</td><td>240</td><td>3</td><td> 3</td><td>4</td><td>NA</td><td>acept    </td><td>furnished    </td><td>R$0    </td><td>R$8,000</td><td>R$8,000</td></tr>\n",
       "\t<tr><th scope=row>1</th><td>0</td><td> 64</td><td>2</td><td> 1</td><td>1</td><td>10</td><td>acept    </td><td>not furnished</td><td>R$540  </td><td>R$820  </td><td>R$820  </td></tr>\n",
       "\t<tr><th scope=row>2</th><td>1</td><td>443</td><td>5</td><td> 5</td><td>4</td><td> 3</td><td>acept    </td><td>furnished    </td><td>R$4,172</td><td>R$7,000</td><td>R$7,000</td></tr>\n",
       "\t<tr><th scope=row>3</th><td>1</td><td> 73</td><td>2</td><td>NA</td><td>1</td><td>12</td><td>acept    </td><td>not furnished</td><td>R$700  </td><td>R$1,250</td><td>R$1,250</td></tr>\n",
       "\t<tr><th scope=row>4</th><td>1</td><td> 19</td><td>1</td><td>NA</td><td>0</td><td>NA</td><td>not acept</td><td>not furnished</td><td>R$0    </td><td>R$1,200</td><td>R$1,200</td></tr>\n",
       "\t<tr><th scope=row>5</th><td>1</td><td> 13</td><td>1</td><td>NA</td><td>0</td><td> 2</td><td>acept    </td><td>not furnished</td><td>R$0    </td><td>R$2,200</td><td>R$2,200</td></tr>\n",
       "</tbody>\n",
       "</table>\n"
      ],
      "text/latex": [
       "A data.frame: 6 × 11\n",
       "\\begin{tabular}{r|lllllllllll}\n",
       "  & city & area & rooms & bathroom & parking.spaces & floor & animal & furniture & hoa & rent.amount & rent\\_amount\\\\\n",
       "  & <int> & <int> & <int> & <int> & <int> & <int> & <chr> & <chr> & <chr> & <chr> & <chr>\\\\\n",
       "\\hline\n",
       "\t0 & 1 & 240 & 3 &  3 & 4 & NA & acept     & furnished     & R\\$0     & R\\$8,000 & R\\$8,000\\\\\n",
       "\t1 & 0 &  64 & 2 &  1 & 1 & 10 & acept     & not furnished & R\\$540   & R\\$820   & R\\$820  \\\\\n",
       "\t2 & 1 & 443 & 5 &  5 & 4 &  3 & acept     & furnished     & R\\$4,172 & R\\$7,000 & R\\$7,000\\\\\n",
       "\t3 & 1 &  73 & 2 & NA & 1 & 12 & acept     & not furnished & R\\$700   & R\\$1,250 & R\\$1,250\\\\\n",
       "\t4 & 1 &  19 & 1 & NA & 0 & NA & not acept & not furnished & R\\$0     & R\\$1,200 & R\\$1,200\\\\\n",
       "\t5 & 1 &  13 & 1 & NA & 0 &  2 & acept     & not furnished & R\\$0     & R\\$2,200 & R\\$2,200\\\\\n",
       "\\end{tabular}\n"
      ],
      "text/markdown": [
       "\n",
       "A data.frame: 6 × 11\n",
       "\n",
       "| <!--/--> | city &lt;int&gt; | area &lt;int&gt; | rooms &lt;int&gt; | bathroom &lt;int&gt; | parking.spaces &lt;int&gt; | floor &lt;int&gt; | animal &lt;chr&gt; | furniture &lt;chr&gt; | hoa &lt;chr&gt; | rent.amount &lt;chr&gt; | rent_amount &lt;chr&gt; |\n",
       "|---|---|---|---|---|---|---|---|---|---|---|---|\n",
       "| 0 | 1 | 240 | 3 |  3 | 4 | NA | acept     | furnished     | R$0     | R$8,000 | R$8,000 |\n",
       "| 1 | 0 |  64 | 2 |  1 | 1 | 10 | acept     | not furnished | R$540   | R$820   | R$820   |\n",
       "| 2 | 1 | 443 | 5 |  5 | 4 |  3 | acept     | furnished     | R$4,172 | R$7,000 | R$7,000 |\n",
       "| 3 | 1 |  73 | 2 | NA | 1 | 12 | acept     | not furnished | R$700   | R$1,250 | R$1,250 |\n",
       "| 4 | 1 |  19 | 1 | NA | 0 | NA | not acept | not furnished | R$0     | R$1,200 | R$1,200 |\n",
       "| 5 | 1 |  13 | 1 | NA | 0 |  2 | acept     | not furnished | R$0     | R$2,200 | R$2,200 |\n",
       "\n"
      ],
      "text/plain": [
       "  city area rooms bathroom parking.spaces floor animal    furniture     hoa    \n",
       "0 1    240  3      3       4              NA    acept     furnished     R$0    \n",
       "1 0     64  2      1       1              10    acept     not furnished R$540  \n",
       "2 1    443  5      5       4               3    acept     furnished     R$4,172\n",
       "3 1     73  2     NA       1              12    acept     not furnished R$700  \n",
       "4 1     19  1     NA       0              NA    not acept not furnished R$0    \n",
       "5 1     13  1     NA       0               2    acept     not furnished R$0    \n",
       "  rent.amount rent_amount\n",
       "0 R$8,000     R$8,000    \n",
       "1 R$820       R$820      \n",
       "2 R$7,000     R$7,000    \n",
       "3 R$1,250     R$1,250    \n",
       "4 R$1,200     R$1,200    \n",
       "5 R$2,200     R$2,200    "
      ]
     },
     "metadata": {},
     "output_type": "display_data"
    }
   ],
   "source": [
    "data$rent_amount = data$rent.amount\n",
    "head(data)"
   ]
  },
  {
   "cell_type": "code",
   "execution_count": 381,
   "metadata": {},
   "outputs": [
    {
     "data": {
      "text/html": [
       "<table>\n",
       "<caption>A data.frame: 6 × 11</caption>\n",
       "<thead>\n",
       "\t<tr><th></th><th scope=col>city</th><th scope=col>area</th><th scope=col>rooms</th><th scope=col>bathroom</th><th scope=col>parking.spaces</th><th scope=col>floor</th><th scope=col>animal</th><th scope=col>furniture</th><th scope=col>hoa</th><th scope=col>rent.amount</th><th scope=col>rent_amount</th></tr>\n",
       "\t<tr><th></th><th scope=col>&lt;int&gt;</th><th scope=col>&lt;int&gt;</th><th scope=col>&lt;int&gt;</th><th scope=col>&lt;int&gt;</th><th scope=col>&lt;int&gt;</th><th scope=col>&lt;int&gt;</th><th scope=col>&lt;chr&gt;</th><th scope=col>&lt;chr&gt;</th><th scope=col>&lt;chr&gt;</th><th scope=col>&lt;chr&gt;</th><th scope=col>&lt;chr&gt;</th></tr>\n",
       "</thead>\n",
       "<tbody>\n",
       "\t<tr><th scope=row>0</th><td>1</td><td>240</td><td>3</td><td> 3</td><td>4</td><td>NA</td><td>acept    </td><td>furnished    </td><td>R$0    </td><td>R$8,000</td><td>R$8000</td></tr>\n",
       "\t<tr><th scope=row>1</th><td>0</td><td> 64</td><td>2</td><td> 1</td><td>1</td><td>10</td><td>acept    </td><td>not furnished</td><td>R$540  </td><td>R$820  </td><td>R$820 </td></tr>\n",
       "\t<tr><th scope=row>2</th><td>1</td><td>443</td><td>5</td><td> 5</td><td>4</td><td> 3</td><td>acept    </td><td>furnished    </td><td>R$4,172</td><td>R$7,000</td><td>R$7000</td></tr>\n",
       "\t<tr><th scope=row>3</th><td>1</td><td> 73</td><td>2</td><td>NA</td><td>1</td><td>12</td><td>acept    </td><td>not furnished</td><td>R$700  </td><td>R$1,250</td><td>R$1250</td></tr>\n",
       "\t<tr><th scope=row>4</th><td>1</td><td> 19</td><td>1</td><td>NA</td><td>0</td><td>NA</td><td>not acept</td><td>not furnished</td><td>R$0    </td><td>R$1,200</td><td>R$1200</td></tr>\n",
       "\t<tr><th scope=row>5</th><td>1</td><td> 13</td><td>1</td><td>NA</td><td>0</td><td> 2</td><td>acept    </td><td>not furnished</td><td>R$0    </td><td>R$2,200</td><td>R$2200</td></tr>\n",
       "</tbody>\n",
       "</table>\n"
      ],
      "text/latex": [
       "A data.frame: 6 × 11\n",
       "\\begin{tabular}{r|lllllllllll}\n",
       "  & city & area & rooms & bathroom & parking.spaces & floor & animal & furniture & hoa & rent.amount & rent\\_amount\\\\\n",
       "  & <int> & <int> & <int> & <int> & <int> & <int> & <chr> & <chr> & <chr> & <chr> & <chr>\\\\\n",
       "\\hline\n",
       "\t0 & 1 & 240 & 3 &  3 & 4 & NA & acept     & furnished     & R\\$0     & R\\$8,000 & R\\$8000\\\\\n",
       "\t1 & 0 &  64 & 2 &  1 & 1 & 10 & acept     & not furnished & R\\$540   & R\\$820   & R\\$820 \\\\\n",
       "\t2 & 1 & 443 & 5 &  5 & 4 &  3 & acept     & furnished     & R\\$4,172 & R\\$7,000 & R\\$7000\\\\\n",
       "\t3 & 1 &  73 & 2 & NA & 1 & 12 & acept     & not furnished & R\\$700   & R\\$1,250 & R\\$1250\\\\\n",
       "\t4 & 1 &  19 & 1 & NA & 0 & NA & not acept & not furnished & R\\$0     & R\\$1,200 & R\\$1200\\\\\n",
       "\t5 & 1 &  13 & 1 & NA & 0 &  2 & acept     & not furnished & R\\$0     & R\\$2,200 & R\\$2200\\\\\n",
       "\\end{tabular}\n"
      ],
      "text/markdown": [
       "\n",
       "A data.frame: 6 × 11\n",
       "\n",
       "| <!--/--> | city &lt;int&gt; | area &lt;int&gt; | rooms &lt;int&gt; | bathroom &lt;int&gt; | parking.spaces &lt;int&gt; | floor &lt;int&gt; | animal &lt;chr&gt; | furniture &lt;chr&gt; | hoa &lt;chr&gt; | rent.amount &lt;chr&gt; | rent_amount &lt;chr&gt; |\n",
       "|---|---|---|---|---|---|---|---|---|---|---|---|\n",
       "| 0 | 1 | 240 | 3 |  3 | 4 | NA | acept     | furnished     | R$0     | R$8,000 | R$8000 |\n",
       "| 1 | 0 |  64 | 2 |  1 | 1 | 10 | acept     | not furnished | R$540   | R$820   | R$820  |\n",
       "| 2 | 1 | 443 | 5 |  5 | 4 |  3 | acept     | furnished     | R$4,172 | R$7,000 | R$7000 |\n",
       "| 3 | 1 |  73 | 2 | NA | 1 | 12 | acept     | not furnished | R$700   | R$1,250 | R$1250 |\n",
       "| 4 | 1 |  19 | 1 | NA | 0 | NA | not acept | not furnished | R$0     | R$1,200 | R$1200 |\n",
       "| 5 | 1 |  13 | 1 | NA | 0 |  2 | acept     | not furnished | R$0     | R$2,200 | R$2200 |\n",
       "\n"
      ],
      "text/plain": [
       "  city area rooms bathroom parking.spaces floor animal    furniture     hoa    \n",
       "0 1    240  3      3       4              NA    acept     furnished     R$0    \n",
       "1 0     64  2      1       1              10    acept     not furnished R$540  \n",
       "2 1    443  5      5       4               3    acept     furnished     R$4,172\n",
       "3 1     73  2     NA       1              12    acept     not furnished R$700  \n",
       "4 1     19  1     NA       0              NA    not acept not furnished R$0    \n",
       "5 1     13  1     NA       0               2    acept     not furnished R$0    \n",
       "  rent.amount rent_amount\n",
       "0 R$8,000     R$8000     \n",
       "1 R$820       R$820      \n",
       "2 R$7,000     R$7000     \n",
       "3 R$1,250     R$1250     \n",
       "4 R$1,200     R$1200     \n",
       "5 R$2,200     R$2200     "
      ]
     },
     "metadata": {},
     "output_type": "display_data"
    }
   ],
   "source": [
    "data$rent_amount = gsub(\",\", \"\", data$rent_amount)\n",
    "head(data)"
   ]
  },
  {
   "cell_type": "code",
   "execution_count": 382,
   "metadata": {},
   "outputs": [
    {
     "data": {
      "text/html": [
       "<table>\n",
       "<caption>A data.frame: 6 × 11</caption>\n",
       "<thead>\n",
       "\t<tr><th></th><th scope=col>city</th><th scope=col>area</th><th scope=col>rooms</th><th scope=col>bathroom</th><th scope=col>parking.spaces</th><th scope=col>floor</th><th scope=col>animal</th><th scope=col>furniture</th><th scope=col>hoa</th><th scope=col>rent.amount</th><th scope=col>rent_amount</th></tr>\n",
       "\t<tr><th></th><th scope=col>&lt;int&gt;</th><th scope=col>&lt;int&gt;</th><th scope=col>&lt;int&gt;</th><th scope=col>&lt;int&gt;</th><th scope=col>&lt;int&gt;</th><th scope=col>&lt;int&gt;</th><th scope=col>&lt;chr&gt;</th><th scope=col>&lt;chr&gt;</th><th scope=col>&lt;chr&gt;</th><th scope=col>&lt;chr&gt;</th><th scope=col>&lt;chr&gt;</th></tr>\n",
       "</thead>\n",
       "<tbody>\n",
       "\t<tr><th scope=row>0</th><td>1</td><td>240</td><td>3</td><td> 3</td><td>4</td><td>NA</td><td>acept    </td><td>furnished    </td><td>R$0    </td><td>R$8,000</td><td>$8000</td></tr>\n",
       "\t<tr><th scope=row>1</th><td>0</td><td> 64</td><td>2</td><td> 1</td><td>1</td><td>10</td><td>acept    </td><td>not furnished</td><td>R$540  </td><td>R$820  </td><td>$820 </td></tr>\n",
       "\t<tr><th scope=row>2</th><td>1</td><td>443</td><td>5</td><td> 5</td><td>4</td><td> 3</td><td>acept    </td><td>furnished    </td><td>R$4,172</td><td>R$7,000</td><td>$7000</td></tr>\n",
       "\t<tr><th scope=row>3</th><td>1</td><td> 73</td><td>2</td><td>NA</td><td>1</td><td>12</td><td>acept    </td><td>not furnished</td><td>R$700  </td><td>R$1,250</td><td>$1250</td></tr>\n",
       "\t<tr><th scope=row>4</th><td>1</td><td> 19</td><td>1</td><td>NA</td><td>0</td><td>NA</td><td>not acept</td><td>not furnished</td><td>R$0    </td><td>R$1,200</td><td>$1200</td></tr>\n",
       "\t<tr><th scope=row>5</th><td>1</td><td> 13</td><td>1</td><td>NA</td><td>0</td><td> 2</td><td>acept    </td><td>not furnished</td><td>R$0    </td><td>R$2,200</td><td>$2200</td></tr>\n",
       "</tbody>\n",
       "</table>\n"
      ],
      "text/latex": [
       "A data.frame: 6 × 11\n",
       "\\begin{tabular}{r|lllllllllll}\n",
       "  & city & area & rooms & bathroom & parking.spaces & floor & animal & furniture & hoa & rent.amount & rent\\_amount\\\\\n",
       "  & <int> & <int> & <int> & <int> & <int> & <int> & <chr> & <chr> & <chr> & <chr> & <chr>\\\\\n",
       "\\hline\n",
       "\t0 & 1 & 240 & 3 &  3 & 4 & NA & acept     & furnished     & R\\$0     & R\\$8,000 & \\$8000\\\\\n",
       "\t1 & 0 &  64 & 2 &  1 & 1 & 10 & acept     & not furnished & R\\$540   & R\\$820   & \\$820 \\\\\n",
       "\t2 & 1 & 443 & 5 &  5 & 4 &  3 & acept     & furnished     & R\\$4,172 & R\\$7,000 & \\$7000\\\\\n",
       "\t3 & 1 &  73 & 2 & NA & 1 & 12 & acept     & not furnished & R\\$700   & R\\$1,250 & \\$1250\\\\\n",
       "\t4 & 1 &  19 & 1 & NA & 0 & NA & not acept & not furnished & R\\$0     & R\\$1,200 & \\$1200\\\\\n",
       "\t5 & 1 &  13 & 1 & NA & 0 &  2 & acept     & not furnished & R\\$0     & R\\$2,200 & \\$2200\\\\\n",
       "\\end{tabular}\n"
      ],
      "text/markdown": [
       "\n",
       "A data.frame: 6 × 11\n",
       "\n",
       "| <!--/--> | city &lt;int&gt; | area &lt;int&gt; | rooms &lt;int&gt; | bathroom &lt;int&gt; | parking.spaces &lt;int&gt; | floor &lt;int&gt; | animal &lt;chr&gt; | furniture &lt;chr&gt; | hoa &lt;chr&gt; | rent.amount &lt;chr&gt; | rent_amount &lt;chr&gt; |\n",
       "|---|---|---|---|---|---|---|---|---|---|---|---|\n",
       "| 0 | 1 | 240 | 3 |  3 | 4 | NA | acept     | furnished     | R$0     | R$8,000 | $8000 |\n",
       "| 1 | 0 |  64 | 2 |  1 | 1 | 10 | acept     | not furnished | R$540   | R$820   | $820  |\n",
       "| 2 | 1 | 443 | 5 |  5 | 4 |  3 | acept     | furnished     | R$4,172 | R$7,000 | $7000 |\n",
       "| 3 | 1 |  73 | 2 | NA | 1 | 12 | acept     | not furnished | R$700   | R$1,250 | $1250 |\n",
       "| 4 | 1 |  19 | 1 | NA | 0 | NA | not acept | not furnished | R$0     | R$1,200 | $1200 |\n",
       "| 5 | 1 |  13 | 1 | NA | 0 |  2 | acept     | not furnished | R$0     | R$2,200 | $2200 |\n",
       "\n"
      ],
      "text/plain": [
       "  city area rooms bathroom parking.spaces floor animal    furniture     hoa    \n",
       "0 1    240  3      3       4              NA    acept     furnished     R$0    \n",
       "1 0     64  2      1       1              10    acept     not furnished R$540  \n",
       "2 1    443  5      5       4               3    acept     furnished     R$4,172\n",
       "3 1     73  2     NA       1              12    acept     not furnished R$700  \n",
       "4 1     19  1     NA       0              NA    not acept not furnished R$0    \n",
       "5 1     13  1     NA       0               2    acept     not furnished R$0    \n",
       "  rent.amount rent_amount\n",
       "0 R$8,000     $8000      \n",
       "1 R$820       $820       \n",
       "2 R$7,000     $7000      \n",
       "3 R$1,250     $1250      \n",
       "4 R$1,200     $1200      \n",
       "5 R$2,200     $2200      "
      ]
     },
     "metadata": {},
     "output_type": "display_data"
    }
   ],
   "source": [
    "data$rent_amount = gsub(\"R\", \"\", data$rent_amount)\n",
    "head(data)"
   ]
  },
  {
   "cell_type": "code",
   "execution_count": 383,
   "metadata": {},
   "outputs": [
    {
     "data": {
      "text/html": [
       "<table>\n",
       "<caption>A data.frame: 6 × 11</caption>\n",
       "<thead>\n",
       "\t<tr><th></th><th scope=col>city</th><th scope=col>area</th><th scope=col>rooms</th><th scope=col>bathroom</th><th scope=col>parking.spaces</th><th scope=col>floor</th><th scope=col>animal</th><th scope=col>furniture</th><th scope=col>hoa</th><th scope=col>rent.amount</th><th scope=col>rent_amount</th></tr>\n",
       "\t<tr><th></th><th scope=col>&lt;int&gt;</th><th scope=col>&lt;int&gt;</th><th scope=col>&lt;int&gt;</th><th scope=col>&lt;int&gt;</th><th scope=col>&lt;int&gt;</th><th scope=col>&lt;int&gt;</th><th scope=col>&lt;chr&gt;</th><th scope=col>&lt;chr&gt;</th><th scope=col>&lt;chr&gt;</th><th scope=col>&lt;chr&gt;</th><th scope=col>&lt;chr&gt;</th></tr>\n",
       "</thead>\n",
       "<tbody>\n",
       "\t<tr><th scope=row>0</th><td>1</td><td>240</td><td>3</td><td> 3</td><td>4</td><td>NA</td><td>acept    </td><td>furnished    </td><td>R$0    </td><td>R$8,000</td><td>8000</td></tr>\n",
       "\t<tr><th scope=row>1</th><td>0</td><td> 64</td><td>2</td><td> 1</td><td>1</td><td>10</td><td>acept    </td><td>not furnished</td><td>R$540  </td><td>R$820  </td><td>820 </td></tr>\n",
       "\t<tr><th scope=row>2</th><td>1</td><td>443</td><td>5</td><td> 5</td><td>4</td><td> 3</td><td>acept    </td><td>furnished    </td><td>R$4,172</td><td>R$7,000</td><td>7000</td></tr>\n",
       "\t<tr><th scope=row>3</th><td>1</td><td> 73</td><td>2</td><td>NA</td><td>1</td><td>12</td><td>acept    </td><td>not furnished</td><td>R$700  </td><td>R$1,250</td><td>1250</td></tr>\n",
       "\t<tr><th scope=row>4</th><td>1</td><td> 19</td><td>1</td><td>NA</td><td>0</td><td>NA</td><td>not acept</td><td>not furnished</td><td>R$0    </td><td>R$1,200</td><td>1200</td></tr>\n",
       "\t<tr><th scope=row>5</th><td>1</td><td> 13</td><td>1</td><td>NA</td><td>0</td><td> 2</td><td>acept    </td><td>not furnished</td><td>R$0    </td><td>R$2,200</td><td>2200</td></tr>\n",
       "</tbody>\n",
       "</table>\n"
      ],
      "text/latex": [
       "A data.frame: 6 × 11\n",
       "\\begin{tabular}{r|lllllllllll}\n",
       "  & city & area & rooms & bathroom & parking.spaces & floor & animal & furniture & hoa & rent.amount & rent\\_amount\\\\\n",
       "  & <int> & <int> & <int> & <int> & <int> & <int> & <chr> & <chr> & <chr> & <chr> & <chr>\\\\\n",
       "\\hline\n",
       "\t0 & 1 & 240 & 3 &  3 & 4 & NA & acept     & furnished     & R\\$0     & R\\$8,000 & 8000\\\\\n",
       "\t1 & 0 &  64 & 2 &  1 & 1 & 10 & acept     & not furnished & R\\$540   & R\\$820   & 820 \\\\\n",
       "\t2 & 1 & 443 & 5 &  5 & 4 &  3 & acept     & furnished     & R\\$4,172 & R\\$7,000 & 7000\\\\\n",
       "\t3 & 1 &  73 & 2 & NA & 1 & 12 & acept     & not furnished & R\\$700   & R\\$1,250 & 1250\\\\\n",
       "\t4 & 1 &  19 & 1 & NA & 0 & NA & not acept & not furnished & R\\$0     & R\\$1,200 & 1200\\\\\n",
       "\t5 & 1 &  13 & 1 & NA & 0 &  2 & acept     & not furnished & R\\$0     & R\\$2,200 & 2200\\\\\n",
       "\\end{tabular}\n"
      ],
      "text/markdown": [
       "\n",
       "A data.frame: 6 × 11\n",
       "\n",
       "| <!--/--> | city &lt;int&gt; | area &lt;int&gt; | rooms &lt;int&gt; | bathroom &lt;int&gt; | parking.spaces &lt;int&gt; | floor &lt;int&gt; | animal &lt;chr&gt; | furniture &lt;chr&gt; | hoa &lt;chr&gt; | rent.amount &lt;chr&gt; | rent_amount &lt;chr&gt; |\n",
       "|---|---|---|---|---|---|---|---|---|---|---|---|\n",
       "| 0 | 1 | 240 | 3 |  3 | 4 | NA | acept     | furnished     | R$0     | R$8,000 | 8000 |\n",
       "| 1 | 0 |  64 | 2 |  1 | 1 | 10 | acept     | not furnished | R$540   | R$820   | 820  |\n",
       "| 2 | 1 | 443 | 5 |  5 | 4 |  3 | acept     | furnished     | R$4,172 | R$7,000 | 7000 |\n",
       "| 3 | 1 |  73 | 2 | NA | 1 | 12 | acept     | not furnished | R$700   | R$1,250 | 1250 |\n",
       "| 4 | 1 |  19 | 1 | NA | 0 | NA | not acept | not furnished | R$0     | R$1,200 | 1200 |\n",
       "| 5 | 1 |  13 | 1 | NA | 0 |  2 | acept     | not furnished | R$0     | R$2,200 | 2200 |\n",
       "\n"
      ],
      "text/plain": [
       "  city area rooms bathroom parking.spaces floor animal    furniture     hoa    \n",
       "0 1    240  3      3       4              NA    acept     furnished     R$0    \n",
       "1 0     64  2      1       1              10    acept     not furnished R$540  \n",
       "2 1    443  5      5       4               3    acept     furnished     R$4,172\n",
       "3 1     73  2     NA       1              12    acept     not furnished R$700  \n",
       "4 1     19  1     NA       0              NA    not acept not furnished R$0    \n",
       "5 1     13  1     NA       0               2    acept     not furnished R$0    \n",
       "  rent.amount rent_amount\n",
       "0 R$8,000     8000       \n",
       "1 R$820       820        \n",
       "2 R$7,000     7000       \n",
       "3 R$1,250     1250       \n",
       "4 R$1,200     1200       \n",
       "5 R$2,200     2200       "
      ]
     },
     "metadata": {},
     "output_type": "display_data"
    }
   ],
   "source": [
    "data$rent_amount = sub(\"$\", \"\", data$rent_amount, fixed = TRUE)\n",
    "head(data)"
   ]
  },
  {
   "cell_type": "code",
   "execution_count": 384,
   "metadata": {},
   "outputs": [
    {
     "data": {
      "text/html": [
       "<table>\n",
       "<caption>A data.frame: 6 × 11</caption>\n",
       "<thead>\n",
       "\t<tr><th></th><th scope=col>city</th><th scope=col>area</th><th scope=col>rooms</th><th scope=col>bathroom</th><th scope=col>parking.spaces</th><th scope=col>floor</th><th scope=col>animal</th><th scope=col>furniture</th><th scope=col>hoa</th><th scope=col>rent.amount</th><th scope=col>rent_amount</th></tr>\n",
       "\t<tr><th></th><th scope=col>&lt;int&gt;</th><th scope=col>&lt;int&gt;</th><th scope=col>&lt;int&gt;</th><th scope=col>&lt;int&gt;</th><th scope=col>&lt;int&gt;</th><th scope=col>&lt;int&gt;</th><th scope=col>&lt;chr&gt;</th><th scope=col>&lt;chr&gt;</th><th scope=col>&lt;chr&gt;</th><th scope=col>&lt;chr&gt;</th><th scope=col>&lt;dbl&gt;</th></tr>\n",
       "</thead>\n",
       "<tbody>\n",
       "\t<tr><th scope=row>0</th><td>1</td><td>240</td><td>3</td><td> 3</td><td>4</td><td>NA</td><td>acept    </td><td>furnished    </td><td>R$0    </td><td>R$8,000</td><td>8000</td></tr>\n",
       "\t<tr><th scope=row>1</th><td>0</td><td> 64</td><td>2</td><td> 1</td><td>1</td><td>10</td><td>acept    </td><td>not furnished</td><td>R$540  </td><td>R$820  </td><td> 820</td></tr>\n",
       "\t<tr><th scope=row>2</th><td>1</td><td>443</td><td>5</td><td> 5</td><td>4</td><td> 3</td><td>acept    </td><td>furnished    </td><td>R$4,172</td><td>R$7,000</td><td>7000</td></tr>\n",
       "\t<tr><th scope=row>3</th><td>1</td><td> 73</td><td>2</td><td>NA</td><td>1</td><td>12</td><td>acept    </td><td>not furnished</td><td>R$700  </td><td>R$1,250</td><td>1250</td></tr>\n",
       "\t<tr><th scope=row>4</th><td>1</td><td> 19</td><td>1</td><td>NA</td><td>0</td><td>NA</td><td>not acept</td><td>not furnished</td><td>R$0    </td><td>R$1,200</td><td>1200</td></tr>\n",
       "\t<tr><th scope=row>5</th><td>1</td><td> 13</td><td>1</td><td>NA</td><td>0</td><td> 2</td><td>acept    </td><td>not furnished</td><td>R$0    </td><td>R$2,200</td><td>2200</td></tr>\n",
       "</tbody>\n",
       "</table>\n"
      ],
      "text/latex": [
       "A data.frame: 6 × 11\n",
       "\\begin{tabular}{r|lllllllllll}\n",
       "  & city & area & rooms & bathroom & parking.spaces & floor & animal & furniture & hoa & rent.amount & rent\\_amount\\\\\n",
       "  & <int> & <int> & <int> & <int> & <int> & <int> & <chr> & <chr> & <chr> & <chr> & <dbl>\\\\\n",
       "\\hline\n",
       "\t0 & 1 & 240 & 3 &  3 & 4 & NA & acept     & furnished     & R\\$0     & R\\$8,000 & 8000\\\\\n",
       "\t1 & 0 &  64 & 2 &  1 & 1 & 10 & acept     & not furnished & R\\$540   & R\\$820   &  820\\\\\n",
       "\t2 & 1 & 443 & 5 &  5 & 4 &  3 & acept     & furnished     & R\\$4,172 & R\\$7,000 & 7000\\\\\n",
       "\t3 & 1 &  73 & 2 & NA & 1 & 12 & acept     & not furnished & R\\$700   & R\\$1,250 & 1250\\\\\n",
       "\t4 & 1 &  19 & 1 & NA & 0 & NA & not acept & not furnished & R\\$0     & R\\$1,200 & 1200\\\\\n",
       "\t5 & 1 &  13 & 1 & NA & 0 &  2 & acept     & not furnished & R\\$0     & R\\$2,200 & 2200\\\\\n",
       "\\end{tabular}\n"
      ],
      "text/markdown": [
       "\n",
       "A data.frame: 6 × 11\n",
       "\n",
       "| <!--/--> | city &lt;int&gt; | area &lt;int&gt; | rooms &lt;int&gt; | bathroom &lt;int&gt; | parking.spaces &lt;int&gt; | floor &lt;int&gt; | animal &lt;chr&gt; | furniture &lt;chr&gt; | hoa &lt;chr&gt; | rent.amount &lt;chr&gt; | rent_amount &lt;dbl&gt; |\n",
       "|---|---|---|---|---|---|---|---|---|---|---|---|\n",
       "| 0 | 1 | 240 | 3 |  3 | 4 | NA | acept     | furnished     | R$0     | R$8,000 | 8000 |\n",
       "| 1 | 0 |  64 | 2 |  1 | 1 | 10 | acept     | not furnished | R$540   | R$820   |  820 |\n",
       "| 2 | 1 | 443 | 5 |  5 | 4 |  3 | acept     | furnished     | R$4,172 | R$7,000 | 7000 |\n",
       "| 3 | 1 |  73 | 2 | NA | 1 | 12 | acept     | not furnished | R$700   | R$1,250 | 1250 |\n",
       "| 4 | 1 |  19 | 1 | NA | 0 | NA | not acept | not furnished | R$0     | R$1,200 | 1200 |\n",
       "| 5 | 1 |  13 | 1 | NA | 0 |  2 | acept     | not furnished | R$0     | R$2,200 | 2200 |\n",
       "\n"
      ],
      "text/plain": [
       "  city area rooms bathroom parking.spaces floor animal    furniture     hoa    \n",
       "0 1    240  3      3       4              NA    acept     furnished     R$0    \n",
       "1 0     64  2      1       1              10    acept     not furnished R$540  \n",
       "2 1    443  5      5       4               3    acept     furnished     R$4,172\n",
       "3 1     73  2     NA       1              12    acept     not furnished R$700  \n",
       "4 1     19  1     NA       0              NA    not acept not furnished R$0    \n",
       "5 1     13  1     NA       0               2    acept     not furnished R$0    \n",
       "  rent.amount rent_amount\n",
       "0 R$8,000     8000       \n",
       "1 R$820        820       \n",
       "2 R$7,000     7000       \n",
       "3 R$1,250     1250       \n",
       "4 R$1,200     1200       \n",
       "5 R$2,200     2200       "
      ]
     },
     "metadata": {},
     "output_type": "display_data"
    }
   ],
   "source": [
    "data$rent_amount = as.numeric(data$rent_amount)\n",
    "head(data)"
   ]
  },
  {
   "cell_type": "code",
   "execution_count": 385,
   "metadata": {},
   "outputs": [
    {
     "name": "stderr",
     "output_type": "stream",
     "text": [
      "`summarise()` ungrouping output (override with `.groups` argument)\n",
      "\n"
     ]
    },
    {
     "data": {
      "text/html": [
       "<table>\n",
       "<caption>A tibble: 2 × 2</caption>\n",
       "<thead>\n",
       "\t<tr><th scope=col>furniture</th><th scope=col>counts</th></tr>\n",
       "\t<tr><th scope=col>&lt;chr&gt;</th><th scope=col>&lt;int&gt;</th></tr>\n",
       "</thead>\n",
       "<tbody>\n",
       "\t<tr><td>furnished    </td><td>1582</td></tr>\n",
       "\t<tr><td>not furnished</td><td>4498</td></tr>\n",
       "</tbody>\n",
       "</table>\n"
      ],
      "text/latex": [
       "A tibble: 2 × 2\n",
       "\\begin{tabular}{ll}\n",
       " furniture & counts\\\\\n",
       " <chr> & <int>\\\\\n",
       "\\hline\n",
       "\t furnished     & 1582\\\\\n",
       "\t not furnished & 4498\\\\\n",
       "\\end{tabular}\n"
      ],
      "text/markdown": [
       "\n",
       "A tibble: 2 × 2\n",
       "\n",
       "| furniture &lt;chr&gt; | counts &lt;int&gt; |\n",
       "|---|---|\n",
       "| furnished     | 1582 |\n",
       "| not furnished | 4498 |\n",
       "\n"
      ],
      "text/plain": [
       "  furniture     counts\n",
       "1 furnished     1582  \n",
       "2 not furnished 4498  "
      ]
     },
     "metadata": {},
     "output_type": "display_data"
    }
   ],
   "source": [
    "group_furniture = group_by(data, furniture)\n",
    "summary = summarize(group_furniture,\n",
    "                    counts = n())\n",
    "summary"
   ]
  },
  {
   "cell_type": "code",
   "execution_count": 386,
   "metadata": {},
   "outputs": [
    {
     "name": "stderr",
     "output_type": "stream",
     "text": [
      "`summarise()` regrouping output by 'furniture' (override with `.groups` argument)\n",
      "\n"
     ]
    },
    {
     "data": {
      "text/html": [
       "<table>\n",
       "<caption>A grouped_df: 4 × 3</caption>\n",
       "<thead>\n",
       "\t<tr><th scope=col>furniture</th><th scope=col>animal</th><th scope=col>counts</th></tr>\n",
       "\t<tr><th scope=col>&lt;chr&gt;</th><th scope=col>&lt;chr&gt;</th><th scope=col>&lt;int&gt;</th></tr>\n",
       "</thead>\n",
       "<tbody>\n",
       "\t<tr><td>furnished    </td><td>acept    </td><td>1130</td></tr>\n",
       "\t<tr><td>furnished    </td><td>not acept</td><td> 452</td></tr>\n",
       "\t<tr><td>not furnished</td><td>acept    </td><td>3536</td></tr>\n",
       "\t<tr><td>not furnished</td><td>not acept</td><td> 962</td></tr>\n",
       "</tbody>\n",
       "</table>\n"
      ],
      "text/latex": [
       "A grouped\\_df: 4 × 3\n",
       "\\begin{tabular}{lll}\n",
       " furniture & animal & counts\\\\\n",
       " <chr> & <chr> & <int>\\\\\n",
       "\\hline\n",
       "\t furnished     & acept     & 1130\\\\\n",
       "\t furnished     & not acept &  452\\\\\n",
       "\t not furnished & acept     & 3536\\\\\n",
       "\t not furnished & not acept &  962\\\\\n",
       "\\end{tabular}\n"
      ],
      "text/markdown": [
       "\n",
       "A grouped_df: 4 × 3\n",
       "\n",
       "| furniture &lt;chr&gt; | animal &lt;chr&gt; | counts &lt;int&gt; |\n",
       "|---|---|---|\n",
       "| furnished     | acept     | 1130 |\n",
       "| furnished     | not acept |  452 |\n",
       "| not furnished | acept     | 3536 |\n",
       "| not furnished | not acept |  962 |\n",
       "\n"
      ],
      "text/plain": [
       "  furniture     animal    counts\n",
       "1 furnished     acept     1130  \n",
       "2 furnished     not acept  452  \n",
       "3 not furnished acept     3536  \n",
       "4 not furnished not acept  962  "
      ]
     },
     "metadata": {},
     "output_type": "display_data"
    }
   ],
   "source": [
    "group_furniture = group_by(data, furniture, animal)\n",
    "summary = summarize(group_furniture, \n",
    "                    counts = n())\n",
    "summary"
   ]
  },
  {
   "cell_type": "code",
   "execution_count": 387,
   "metadata": {},
   "outputs": [
    {
     "data": {
      "image/png": "[encoded data removed]",
      "text/plain": [
       "plot without title"
      ]
     },
     "metadata": {
      "image/png": {
       "height": 420,
       "width": 420
      }
     },
     "output_type": "display_data"
    }
   ],
   "source": [
    "library(ggplot2)\n",
    "ggplot(data=data, aes(x=furniture, y=rent_amount, fill=furniture)) +\n",
    "geom_boxplot()  + \n",
    "theme_bw(base_size=14)"
   ]
  },
  {
   "cell_type": "code",
   "execution_count": 388,
   "metadata": {},
   "outputs": [
    {
     "data": {
      "text/html": [
       "<table>\n",
       "<caption>A data.frame: 6080 × 11</caption>\n",
       "<thead>\n",
       "\t<tr><th scope=col>city</th><th scope=col>area</th><th scope=col>rooms</th><th scope=col>bathroom</th><th scope=col>parking.spaces</th><th scope=col>floor</th><th scope=col>animal</th><th scope=col>furniture</th><th scope=col>hoa</th><th scope=col>rent.amount</th><th scope=col>rent_amount</th></tr>\n",
       "\t<tr><th scope=col>&lt;int&gt;</th><th scope=col>&lt;int&gt;</th><th scope=col>&lt;int&gt;</th><th scope=col>&lt;int&gt;</th><th scope=col>&lt;int&gt;</th><th scope=col>&lt;int&gt;</th><th scope=col>&lt;chr&gt;</th><th scope=col>&lt;chr&gt;</th><th scope=col>&lt;chr&gt;</th><th scope=col>&lt;chr&gt;</th><th scope=col>&lt;dbl&gt;</th></tr>\n",
       "</thead>\n",
       "<tbody>\n",
       "\t<tr><td>1</td><td>240</td><td>3</td><td> 3</td><td>4</td><td>NA</td><td>acept    </td><td>furnished    </td><td>R$0    </td><td>R$8,000 </td><td> 8000</td></tr>\n",
       "\t<tr><td>0</td><td> 64</td><td>2</td><td> 1</td><td>1</td><td>10</td><td>acept    </td><td>not furnished</td><td>R$540  </td><td>R$820   </td><td>  820</td></tr>\n",
       "\t<tr><td>1</td><td>443</td><td>5</td><td> 5</td><td>4</td><td> 3</td><td>acept    </td><td>furnished    </td><td>R$4,172</td><td>R$7,000 </td><td> 7000</td></tr>\n",
       "\t<tr><td>1</td><td> 73</td><td>2</td><td>NA</td><td>1</td><td>12</td><td>acept    </td><td>not furnished</td><td>R$700  </td><td>R$1,250 </td><td> 1250</td></tr>\n",
       "\t<tr><td>1</td><td> 19</td><td>1</td><td>NA</td><td>0</td><td>NA</td><td>not acept</td><td>not furnished</td><td>R$0    </td><td>R$1,200 </td><td> 1200</td></tr>\n",
       "\t<tr><td>1</td><td> 13</td><td>1</td><td>NA</td><td>0</td><td> 2</td><td>acept    </td><td>not furnished</td><td>R$0    </td><td>R$2,200 </td><td> 2200</td></tr>\n",
       "\t<tr><td>1</td><td> 55</td><td>1</td><td>NA</td><td>1</td><td> 2</td><td>acept    </td><td>furnished    </td><td>R$1,950</td><td>R$5,000 </td><td> 5000</td></tr>\n",
       "\t<tr><td>1</td><td> 55</td><td>2</td><td>NA</td><td>1</td><td> 2</td><td>acept    </td><td>not furnished</td><td>R$600  </td><td>R$1,300 </td><td> 1300</td></tr>\n",
       "\t<tr><td>1</td><td> 82</td><td>3</td><td>NA</td><td>1</td><td> 3</td><td>acept    </td><td>furnished    </td><td>R$828  </td><td>R$2,000 </td><td> 2000</td></tr>\n",
       "\t<tr><td>1</td><td> 32</td><td>1</td><td>NA</td><td>1</td><td>16</td><td>acept    </td><td>not furnished</td><td>R$533  </td><td>R$2,900 </td><td> 2900</td></tr>\n",
       "\t<tr><td>0</td><td> 60</td><td>1</td><td>NA</td><td>0</td><td> 6</td><td>acept    </td><td>not furnished</td><td>R$480  </td><td>R$720   </td><td>  720</td></tr>\n",
       "\t<tr><td>0</td><td> 64</td><td>1</td><td>NA</td><td>1</td><td> 4</td><td>acept    </td><td>furnished    </td><td>R$406  </td><td>R$1,550 </td><td> 1550</td></tr>\n",
       "\t<tr><td>1</td><td> 20</td><td>1</td><td>NA</td><td>0</td><td> 4</td><td>acept    </td><td>furnished    </td><td>R$602  </td><td>R$1,800 </td><td> 1800</td></tr>\n",
       "\t<tr><td>1</td><td>375</td><td>4</td><td>NA</td><td>5</td><td> 1</td><td>acept    </td><td>not furnished</td><td>R$4,793</td><td>R$15,000</td><td>15000</td></tr>\n",
       "\t<tr><td>1</td><td> 92</td><td>2</td><td>NA</td><td>1</td><td> 7</td><td>not acept</td><td>furnished    </td><td>R$690  </td><td>R$3,950 </td><td> 3950</td></tr>\n",
       "\t<tr><td>0</td><td> 56</td><td>2</td><td>NA</td><td>1</td><td> 1</td><td>acept    </td><td>not furnished</td><td>R$345  </td><td>R$950   </td><td>  950</td></tr>\n",
       "\t<tr><td>0</td><td>188</td><td>2</td><td>NA</td><td>8</td><td>NA</td><td>acept    </td><td>not furnished</td><td>R$0    </td><td>R$3,010 </td><td> 3010</td></tr>\n",
       "\t<tr><td>1</td><td>100</td><td>3</td><td>NA</td><td>1</td><td>NA</td><td>acept    </td><td>not furnished</td><td>R$0    </td><td>R$3,500 </td><td> 3500</td></tr>\n",
       "\t<tr><td>1</td><td>192</td><td>3</td><td>NA</td><td>2</td><td>13</td><td>acept    </td><td>not furnished</td><td>R$2,100</td><td>R$7,800 </td><td> 7800</td></tr>\n",
       "\t<tr><td>1</td><td> 93</td><td>3</td><td>NA</td><td>1</td><td>10</td><td>acept    </td><td>not furnished</td><td>R$1,497</td><td>R$3,500 </td><td> 3500</td></tr>\n",
       "\t<tr><td>1</td><td>155</td><td>3</td><td>NA</td><td>2</td><td>NA</td><td>acept    </td><td>not furnished</td><td>R$0    </td><td>R$2,650 </td><td> 2650</td></tr>\n",
       "\t<tr><td>1</td><td> 80</td><td>2</td><td>NA</td><td>0</td><td> 9</td><td>not acept</td><td>not furnished</td><td>R$600  </td><td>R$2,550 </td><td> 2550</td></tr>\n",
       "\t<tr><td>1</td><td> 65</td><td>2</td><td>NA</td><td>2</td><td>14</td><td>not acept</td><td>not furnished</td><td>R$907  </td><td>R$3,500 </td><td> 3500</td></tr>\n",
       "\t<tr><td>1</td><td>320</td><td>3</td><td>NA</td><td>4</td><td>NA</td><td>acept    </td><td>not furnished</td><td>R$0    </td><td>R$9,000 </td><td> 9000</td></tr>\n",
       "\t<tr><td>1</td><td>180</td><td>3</td><td>NA</td><td>3</td><td> 3</td><td>acept    </td><td>not furnished</td><td>R$2,900</td><td>R$8,100 </td><td> 8100</td></tr>\n",
       "\t<tr><td>1</td><td> 31</td><td>1</td><td>NA</td><td>1</td><td> 4</td><td>acept    </td><td>not furnished</td><td>R$272  </td><td>R$3,200 </td><td> 3200</td></tr>\n",
       "\t<tr><td>1</td><td>105</td><td>4</td><td>NA</td><td>2</td><td> 3</td><td>acept    </td><td>not furnished</td><td>R$1,659</td><td>R$6,500 </td><td> 6500</td></tr>\n",
       "\t<tr><td>1</td><td>300</td><td>3</td><td> 4</td><td>2</td><td> 9</td><td>acept    </td><td>furnished    </td><td>R$2,000</td><td>R$14,000</td><td>14000</td></tr>\n",
       "\t<tr><td>0</td><td>150</td><td>3</td><td> 2</td><td>2</td><td>13</td><td>acept    </td><td>not furnished</td><td>R$1,370</td><td>R$1,800 </td><td> 1800</td></tr>\n",
       "\t<tr><td>1</td><td>130</td><td>3</td><td> 3</td><td>2</td><td>NA</td><td>acept    </td><td>not furnished</td><td>R$0    </td><td>R$6,000 </td><td> 6000</td></tr>\n",
       "\t<tr><td>...</td><td>...</td><td>...</td><td>...</td><td>...</td><td>...</td><td>...</td><td>...</td><td>...</td><td>...</td><td>...</td></tr>\n",
       "\t<tr><td>1</td><td> 68</td><td>2</td><td>1</td><td>1</td><td> 8</td><td>not acept</td><td>not furnished</td><td>R$500  </td><td>R$1,511 </td><td> 1511</td></tr>\n",
       "\t<tr><td>1</td><td> 90</td><td>2</td><td>3</td><td>2</td><td> 2</td><td>acept    </td><td>not furnished</td><td>R$700  </td><td>R$2,650 </td><td> 2650</td></tr>\n",
       "\t<tr><td>1</td><td> 56</td><td>1</td><td>1</td><td>2</td><td> 8</td><td>acept    </td><td>not furnished</td><td>R$850  </td><td>R$3,500 </td><td> 3500</td></tr>\n",
       "\t<tr><td>1</td><td>172</td><td>3</td><td>3</td><td>2</td><td>14</td><td>acept    </td><td>furnished    </td><td>R$2,100</td><td>R$7,000 </td><td> 7000</td></tr>\n",
       "\t<tr><td>1</td><td>190</td><td>3</td><td>4</td><td>2</td><td>10</td><td>not acept</td><td>not furnished</td><td>R$1,764</td><td>R$6,000 </td><td> 6000</td></tr>\n",
       "\t<tr><td>0</td><td>306</td><td>3</td><td>2</td><td>2</td><td>NA</td><td>acept    </td><td>not furnished</td><td>Incluso</td><td>R$2,500 </td><td> 2500</td></tr>\n",
       "\t<tr><td>1</td><td>100</td><td>3</td><td>2</td><td>1</td><td> 3</td><td>acept    </td><td>not furnished</td><td>R$1,020</td><td>R$2,900 </td><td> 2900</td></tr>\n",
       "\t<tr><td>1</td><td>200</td><td>3</td><td>2</td><td>1</td><td> 9</td><td>acept    </td><td>not furnished</td><td>R$2,100</td><td>R$8,500 </td><td> 8500</td></tr>\n",
       "\t<tr><td>1</td><td> 72</td><td>2</td><td>1</td><td>1</td><td> 4</td><td>acept    </td><td>not furnished</td><td>R$860  </td><td>R$1,440 </td><td> 1440</td></tr>\n",
       "\t<tr><td>1</td><td> 59</td><td>2</td><td>1</td><td>1</td><td>10</td><td>acept    </td><td>not furnished</td><td>R$589  </td><td>R$1,500 </td><td> 1500</td></tr>\n",
       "\t<tr><td>1</td><td>384</td><td>3</td><td>5</td><td>3</td><td>NA</td><td>acept    </td><td>not furnished</td><td>R$0    </td><td>R$10,000</td><td>10000</td></tr>\n",
       "\t<tr><td>1</td><td>200</td><td>3</td><td>1</td><td>2</td><td>NA</td><td>acept    </td><td>not furnished</td><td>R$0    </td><td>R$4,500 </td><td> 4500</td></tr>\n",
       "\t<tr><td>1</td><td>178</td><td>3</td><td>4</td><td>2</td><td> 4</td><td>not acept</td><td>not furnished</td><td>R$2,450</td><td>R$10,000</td><td>10000</td></tr>\n",
       "\t<tr><td>1</td><td>210</td><td>4</td><td>4</td><td>3</td><td>13</td><td>not acept</td><td>furnished    </td><td>R$2,500</td><td>R$4,000 </td><td> 4000</td></tr>\n",
       "\t<tr><td>1</td><td> 49</td><td>2</td><td>1</td><td>1</td><td>17</td><td>not acept</td><td>furnished    </td><td>R$665  </td><td>R$2,000 </td><td> 2000</td></tr>\n",
       "\t<tr><td>1</td><td>133</td><td>2</td><td>2</td><td>1</td><td> 7</td><td>acept    </td><td>not furnished</td><td>R$813  </td><td>R$2,713 </td><td> 2713</td></tr>\n",
       "\t<tr><td>1</td><td>350</td><td>3</td><td>2</td><td>4</td><td>NA</td><td>acept    </td><td>not furnished</td><td>R$0    </td><td>R$12,500</td><td>12500</td></tr>\n",
       "\t<tr><td>1</td><td>280</td><td>4</td><td>4</td><td>3</td><td>17</td><td>acept    </td><td>furnished    </td><td>R$2,400</td><td>R$6,553 </td><td> 6553</td></tr>\n",
       "\t<tr><td>1</td><td>130</td><td>3</td><td>3</td><td>0</td><td>NA</td><td>acept    </td><td>not furnished</td><td>R$0    </td><td>R$4,500 </td><td> 4500</td></tr>\n",
       "\t<tr><td>1</td><td>114</td><td>3</td><td>2</td><td>3</td><td>14</td><td>acept    </td><td>not furnished</td><td>R$1,258</td><td>R$3,700 </td><td> 3700</td></tr>\n",
       "\t<tr><td>1</td><td>200</td><td>4</td><td>5</td><td>3</td><td> 2</td><td>acept    </td><td>not furnished</td><td>R$2,600</td><td>R$4,500 </td><td> 4500</td></tr>\n",
       "\t<tr><td>0</td><td>600</td><td>5</td><td>5</td><td>4</td><td>NA</td><td>acept    </td><td>not furnished</td><td>R$3,300</td><td>R$5,000 </td><td> 5000</td></tr>\n",
       "\t<tr><td>1</td><td>200</td><td>4</td><td>4</td><td>4</td><td>21</td><td>acept    </td><td>furnished    </td><td>R$2,000</td><td>R$10,000</td><td>10000</td></tr>\n",
       "\t<tr><td>1</td><td> 88</td><td>2</td><td>2</td><td>1</td><td> 1</td><td>acept    </td><td>not furnished</td><td>R$1,200</td><td>R$6,000 </td><td> 6000</td></tr>\n",
       "\t<tr><td>0</td><td> 28</td><td>1</td><td>1</td><td>0</td><td>NA</td><td>not acept</td><td>furnished    </td><td>R$0    </td><td>R$1,390 </td><td> 1390</td></tr>\n",
       "\t<tr><td>1</td><td> 50</td><td>2</td><td>1</td><td>1</td><td> 2</td><td>acept    </td><td>not furnished</td><td>R$420  </td><td>R$1,150 </td><td> 1150</td></tr>\n",
       "\t<tr><td>1</td><td> 84</td><td>2</td><td>2</td><td>1</td><td>16</td><td>not acept</td><td>furnished    </td><td>R$768  </td><td>R$2,900 </td><td> 2900</td></tr>\n",
       "\t<tr><td>0</td><td> 48</td><td>1</td><td>1</td><td>0</td><td>13</td><td>acept    </td><td>not furnished</td><td>R$250  </td><td>R$950   </td><td>  950</td></tr>\n",
       "\t<tr><td>1</td><td>160</td><td>3</td><td>2</td><td>2</td><td>NA</td><td>not acept</td><td>not furnished</td><td>R$0    </td><td>R$3,500 </td><td> 3500</td></tr>\n",
       "\t<tr><td>1</td><td> 60</td><td>2</td><td>1</td><td>1</td><td> 4</td><td>acept    </td><td>furnished    </td><td>R$489  </td><td>R$1,900 </td><td> 1900</td></tr>\n",
       "</tbody>\n",
       "</table>\n"
      ],
      "text/latex": [
       "A data.frame: 6080 × 11\n",
       "\\begin{tabular}{lllllllllll}\n",
       " city & area & rooms & bathroom & parking.spaces & floor & animal & furniture & hoa & rent.amount & rent\\_amount\\\\\n",
       " <int> & <int> & <int> & <int> & <int> & <int> & <chr> & <chr> & <chr> & <chr> & <dbl>\\\\\n",
       "\\hline\n",
       "\t 1 & 240 & 3 &  3 & 4 & NA & acept     & furnished     & R\\$0     & R\\$8,000  &  8000\\\\\n",
       "\t 0 &  64 & 2 &  1 & 1 & 10 & acept     & not furnished & R\\$540   & R\\$820    &   820\\\\\n",
       "\t 1 & 443 & 5 &  5 & 4 &  3 & acept     & furnished     & R\\$4,172 & R\\$7,000  &  7000\\\\\n",
       "\t 1 &  73 & 2 & NA & 1 & 12 & acept     & not furnished & R\\$700   & R\\$1,250  &  1250\\\\\n",
       "\t 1 &  19 & 1 & NA & 0 & NA & not acept & not furnished & R\\$0     & R\\$1,200  &  1200\\\\\n",
       "\t 1 &  13 & 1 & NA & 0 &  2 & acept     & not furnished & R\\$0     & R\\$2,200  &  2200\\\\\n",
       "\t 1 &  55 & 1 & NA & 1 &  2 & acept     & furnished     & R\\$1,950 & R\\$5,000  &  5000\\\\\n",
       "\t 1 &  55 & 2 & NA & 1 &  2 & acept     & not furnished & R\\$600   & R\\$1,300  &  1300\\\\\n",
       "\t 1 &  82 & 3 & NA & 1 &  3 & acept     & furnished     & R\\$828   & R\\$2,000  &  2000\\\\\n",
       "\t 1 &  32 & 1 & NA & 1 & 16 & acept     & not furnished & R\\$533   & R\\$2,900  &  2900\\\\\n",
       "\t 0 &  60 & 1 & NA & 0 &  6 & acept     & not furnished & R\\$480   & R\\$720    &   720\\\\\n",
       "\t 0 &  64 & 1 & NA & 1 &  4 & acept     & furnished     & R\\$406   & R\\$1,550  &  1550\\\\\n",
       "\t 1 &  20 & 1 & NA & 0 &  4 & acept     & furnished     & R\\$602   & R\\$1,800  &  1800\\\\\n",
       "\t 1 & 375 & 4 & NA & 5 &  1 & acept     & not furnished & R\\$4,793 & R\\$15,000 & 15000\\\\\n",
       "\t 1 &  92 & 2 & NA & 1 &  7 & not acept & furnished     & R\\$690   & R\\$3,950  &  3950\\\\\n",
       "\t 0 &  56 & 2 & NA & 1 &  1 & acept     & not furnished & R\\$345   & R\\$950    &   950\\\\\n",
       "\t 0 & 188 & 2 & NA & 8 & NA & acept     & not furnished & R\\$0     & R\\$3,010  &  3010\\\\\n",
       "\t 1 & 100 & 3 & NA & 1 & NA & acept     & not furnished & R\\$0     & R\\$3,500  &  3500\\\\\n",
       "\t 1 & 192 & 3 & NA & 2 & 13 & acept     & not furnished & R\\$2,100 & R\\$7,800  &  7800\\\\\n",
       "\t 1 &  93 & 3 & NA & 1 & 10 & acept     & not furnished & R\\$1,497 & R\\$3,500  &  3500\\\\\n",
       "\t 1 & 155 & 3 & NA & 2 & NA & acept     & not furnished & R\\$0     & R\\$2,650  &  2650\\\\\n",
       "\t 1 &  80 & 2 & NA & 0 &  9 & not acept & not furnished & R\\$600   & R\\$2,550  &  2550\\\\\n",
       "\t 1 &  65 & 2 & NA & 2 & 14 & not acept & not furnished & R\\$907   & R\\$3,500  &  3500\\\\\n",
       "\t 1 & 320 & 3 & NA & 4 & NA & acept     & not furnished & R\\$0     & R\\$9,000  &  9000\\\\\n",
       "\t 1 & 180 & 3 & NA & 3 &  3 & acept     & not furnished & R\\$2,900 & R\\$8,100  &  8100\\\\\n",
       "\t 1 &  31 & 1 & NA & 1 &  4 & acept     & not furnished & R\\$272   & R\\$3,200  &  3200\\\\\n",
       "\t 1 & 105 & 4 & NA & 2 &  3 & acept     & not furnished & R\\$1,659 & R\\$6,500  &  6500\\\\\n",
       "\t 1 & 300 & 3 &  4 & 2 &  9 & acept     & furnished     & R\\$2,000 & R\\$14,000 & 14000\\\\\n",
       "\t 0 & 150 & 3 &  2 & 2 & 13 & acept     & not furnished & R\\$1,370 & R\\$1,800  &  1800\\\\\n",
       "\t 1 & 130 & 3 &  3 & 2 & NA & acept     & not furnished & R\\$0     & R\\$6,000  &  6000\\\\\n",
       "\t ... & ... & ... & ... & ... & ... & ... & ... & ... & ... & ...\\\\\n",
       "\t 1 &  68 & 2 & 1 & 1 &  8 & not acept & not furnished & R\\$500   & R\\$1,511  &  1511\\\\\n",
       "\t 1 &  90 & 2 & 3 & 2 &  2 & acept     & not furnished & R\\$700   & R\\$2,650  &  2650\\\\\n",
       "\t 1 &  56 & 1 & 1 & 2 &  8 & acept     & not furnished & R\\$850   & R\\$3,500  &  3500\\\\\n",
       "\t 1 & 172 & 3 & 3 & 2 & 14 & acept     & furnished     & R\\$2,100 & R\\$7,000  &  7000\\\\\n",
       "\t 1 & 190 & 3 & 4 & 2 & 10 & not acept & not furnished & R\\$1,764 & R\\$6,000  &  6000\\\\\n",
       "\t 0 & 306 & 3 & 2 & 2 & NA & acept     & not furnished & Incluso & R\\$2,500  &  2500\\\\\n",
       "\t 1 & 100 & 3 & 2 & 1 &  3 & acept     & not furnished & R\\$1,020 & R\\$2,900  &  2900\\\\\n",
       "\t 1 & 200 & 3 & 2 & 1 &  9 & acept     & not furnished & R\\$2,100 & R\\$8,500  &  8500\\\\\n",
       "\t 1 &  72 & 2 & 1 & 1 &  4 & acept     & not furnished & R\\$860   & R\\$1,440  &  1440\\\\\n",
       "\t 1 &  59 & 2 & 1 & 1 & 10 & acept     & not furnished & R\\$589   & R\\$1,500  &  1500\\\\\n",
       "\t 1 & 384 & 3 & 5 & 3 & NA & acept     & not furnished & R\\$0     & R\\$10,000 & 10000\\\\\n",
       "\t 1 & 200 & 3 & 1 & 2 & NA & acept     & not furnished & R\\$0     & R\\$4,500  &  4500\\\\\n",
       "\t 1 & 178 & 3 & 4 & 2 &  4 & not acept & not furnished & R\\$2,450 & R\\$10,000 & 10000\\\\\n",
       "\t 1 & 210 & 4 & 4 & 3 & 13 & not acept & furnished     & R\\$2,500 & R\\$4,000  &  4000\\\\\n",
       "\t 1 &  49 & 2 & 1 & 1 & 17 & not acept & furnished     & R\\$665   & R\\$2,000  &  2000\\\\\n",
       "\t 1 & 133 & 2 & 2 & 1 &  7 & acept     & not furnished & R\\$813   & R\\$2,713  &  2713\\\\\n",
       "\t 1 & 350 & 3 & 2 & 4 & NA & acept     & not furnished & R\\$0     & R\\$12,500 & 12500\\\\\n",
       "\t 1 & 280 & 4 & 4 & 3 & 17 & acept     & furnished     & R\\$2,400 & R\\$6,553  &  6553\\\\\n",
       "\t 1 & 130 & 3 & 3 & 0 & NA & acept     & not furnished & R\\$0     & R\\$4,500  &  4500\\\\\n",
       "\t 1 & 114 & 3 & 2 & 3 & 14 & acept     & not furnished & R\\$1,258 & R\\$3,700  &  3700\\\\\n",
       "\t 1 & 200 & 4 & 5 & 3 &  2 & acept     & not furnished & R\\$2,600 & R\\$4,500  &  4500\\\\\n",
       "\t 0 & 600 & 5 & 5 & 4 & NA & acept     & not furnished & R\\$3,300 & R\\$5,000  &  5000\\\\\n",
       "\t 1 & 200 & 4 & 4 & 4 & 21 & acept     & furnished     & R\\$2,000 & R\\$10,000 & 10000\\\\\n",
       "\t 1 &  88 & 2 & 2 & 1 &  1 & acept     & not furnished & R\\$1,200 & R\\$6,000  &  6000\\\\\n",
       "\t 0 &  28 & 1 & 1 & 0 & NA & not acept & furnished     & R\\$0     & R\\$1,390  &  1390\\\\\n",
       "\t 1 &  50 & 2 & 1 & 1 &  2 & acept     & not furnished & R\\$420   & R\\$1,150  &  1150\\\\\n",
       "\t 1 &  84 & 2 & 2 & 1 & 16 & not acept & furnished     & R\\$768   & R\\$2,900  &  2900\\\\\n",
       "\t 0 &  48 & 1 & 1 & 0 & 13 & acept     & not furnished & R\\$250   & R\\$950    &   950\\\\\n",
       "\t 1 & 160 & 3 & 2 & 2 & NA & not acept & not furnished & R\\$0     & R\\$3,500  &  3500\\\\\n",
       "\t 1 &  60 & 2 & 1 & 1 &  4 & acept     & furnished     & R\\$489   & R\\$1,900  &  1900\\\\\n",
       "\\end{tabular}\n"
      ],
      "text/markdown": [
       "\n",
       "A data.frame: 6080 × 11\n",
       "\n",
       "| city &lt;int&gt; | area &lt;int&gt; | rooms &lt;int&gt; | bathroom &lt;int&gt; | parking.spaces &lt;int&gt; | floor &lt;int&gt; | animal &lt;chr&gt; | furniture &lt;chr&gt; | hoa &lt;chr&gt; | rent.amount &lt;chr&gt; | rent_amount &lt;dbl&gt; |\n",
       "|---|---|---|---|---|---|---|---|---|---|---|\n",
       "| 1 | 240 | 3 |  3 | 4 | NA | acept     | furnished     | R$0     | R$8,000  |  8000 |\n",
       "| 0 |  64 | 2 |  1 | 1 | 10 | acept     | not furnished | R$540   | R$820    |   820 |\n",
       "| 1 | 443 | 5 |  5 | 4 |  3 | acept     | furnished     | R$4,172 | R$7,000  |  7000 |\n",
       "| 1 |  73 | 2 | NA | 1 | 12 | acept     | not furnished | R$700   | R$1,250  |  1250 |\n",
       "| 1 |  19 | 1 | NA | 0 | NA | not acept | not furnished | R$0     | R$1,200  |  1200 |\n",
       "| 1 |  13 | 1 | NA | 0 |  2 | acept     | not furnished | R$0     | R$2,200  |  2200 |\n",
       "| 1 |  55 | 1 | NA | 1 |  2 | acept     | furnished     | R$1,950 | R$5,000  |  5000 |\n",
       "| 1 |  55 | 2 | NA | 1 |  2 | acept     | not furnished | R$600   | R$1,300  |  1300 |\n",
       "| 1 |  82 | 3 | NA | 1 |  3 | acept     | furnished     | R$828   | R$2,000  |  2000 |\n",
       "| 1 |  32 | 1 | NA | 1 | 16 | acept     | not furnished | R$533   | R$2,900  |  2900 |\n",
       "| 0 |  60 | 1 | NA | 0 |  6 | acept     | not furnished | R$480   | R$720    |   720 |\n",
       "| 0 |  64 | 1 | NA | 1 |  4 | acept     | furnished     | R$406   | R$1,550  |  1550 |\n",
       "| 1 |  20 | 1 | NA | 0 |  4 | acept     | furnished     | R$602   | R$1,800  |  1800 |\n",
       "| 1 | 375 | 4 | NA | 5 |  1 | acept     | not furnished | R$4,793 | R$15,000 | 15000 |\n",
       "| 1 |  92 | 2 | NA | 1 |  7 | not acept | furnished     | R$690   | R$3,950  |  3950 |\n",
       "| 0 |  56 | 2 | NA | 1 |  1 | acept     | not furnished | R$345   | R$950    |   950 |\n",
       "| 0 | 188 | 2 | NA | 8 | NA | acept     | not furnished | R$0     | R$3,010  |  3010 |\n",
       "| 1 | 100 | 3 | NA | 1 | NA | acept     | not furnished | R$0     | R$3,500  |  3500 |\n",
       "| 1 | 192 | 3 | NA | 2 | 13 | acept     | not furnished | R$2,100 | R$7,800  |  7800 |\n",
       "| 1 |  93 | 3 | NA | 1 | 10 | acept     | not furnished | R$1,497 | R$3,500  |  3500 |\n",
       "| 1 | 155 | 3 | NA | 2 | NA | acept     | not furnished | R$0     | R$2,650  |  2650 |\n",
       "| 1 |  80 | 2 | NA | 0 |  9 | not acept | not furnished | R$600   | R$2,550  |  2550 |\n",
       "| 1 |  65 | 2 | NA | 2 | 14 | not acept | not furnished | R$907   | R$3,500  |  3500 |\n",
       "| 1 | 320 | 3 | NA | 4 | NA | acept     | not furnished | R$0     | R$9,000  |  9000 |\n",
       "| 1 | 180 | 3 | NA | 3 |  3 | acept     | not furnished | R$2,900 | R$8,100  |  8100 |\n",
       "| 1 |  31 | 1 | NA | 1 |  4 | acept     | not furnished | R$272   | R$3,200  |  3200 |\n",
       "| 1 | 105 | 4 | NA | 2 |  3 | acept     | not furnished | R$1,659 | R$6,500  |  6500 |\n",
       "| 1 | 300 | 3 |  4 | 2 |  9 | acept     | furnished     | R$2,000 | R$14,000 | 14000 |\n",
       "| 0 | 150 | 3 |  2 | 2 | 13 | acept     | not furnished | R$1,370 | R$1,800  |  1800 |\n",
       "| 1 | 130 | 3 |  3 | 2 | NA | acept     | not furnished | R$0     | R$6,000  |  6000 |\n",
       "| ... | ... | ... | ... | ... | ... | ... | ... | ... | ... | ... |\n",
       "| 1 |  68 | 2 | 1 | 1 |  8 | not acept | not furnished | R$500   | R$1,511  |  1511 |\n",
       "| 1 |  90 | 2 | 3 | 2 |  2 | acept     | not furnished | R$700   | R$2,650  |  2650 |\n",
       "| 1 |  56 | 1 | 1 | 2 |  8 | acept     | not furnished | R$850   | R$3,500  |  3500 |\n",
       "| 1 | 172 | 3 | 3 | 2 | 14 | acept     | furnished     | R$2,100 | R$7,000  |  7000 |\n",
       "| 1 | 190 | 3 | 4 | 2 | 10 | not acept | not furnished | R$1,764 | R$6,000  |  6000 |\n",
       "| 0 | 306 | 3 | 2 | 2 | NA | acept     | not furnished | Incluso | R$2,500  |  2500 |\n",
       "| 1 | 100 | 3 | 2 | 1 |  3 | acept     | not furnished | R$1,020 | R$2,900  |  2900 |\n",
       "| 1 | 200 | 3 | 2 | 1 |  9 | acept     | not furnished | R$2,100 | R$8,500  |  8500 |\n",
       "| 1 |  72 | 2 | 1 | 1 |  4 | acept     | not furnished | R$860   | R$1,440  |  1440 |\n",
       "| 1 |  59 | 2 | 1 | 1 | 10 | acept     | not furnished | R$589   | R$1,500  |  1500 |\n",
       "| 1 | 384 | 3 | 5 | 3 | NA | acept     | not furnished | R$0     | R$10,000 | 10000 |\n",
       "| 1 | 200 | 3 | 1 | 2 | NA | acept     | not furnished | R$0     | R$4,500  |  4500 |\n",
       "| 1 | 178 | 3 | 4 | 2 |  4 | not acept | not furnished | R$2,450 | R$10,000 | 10000 |\n",
       "| 1 | 210 | 4 | 4 | 3 | 13 | not acept | furnished     | R$2,500 | R$4,000  |  4000 |\n",
       "| 1 |  49 | 2 | 1 | 1 | 17 | not acept | furnished     | R$665   | R$2,000  |  2000 |\n",
       "| 1 | 133 | 2 | 2 | 1 |  7 | acept     | not furnished | R$813   | R$2,713  |  2713 |\n",
       "| 1 | 350 | 3 | 2 | 4 | NA | acept     | not furnished | R$0     | R$12,500 | 12500 |\n",
       "| 1 | 280 | 4 | 4 | 3 | 17 | acept     | furnished     | R$2,400 | R$6,553  |  6553 |\n",
       "| 1 | 130 | 3 | 3 | 0 | NA | acept     | not furnished | R$0     | R$4,500  |  4500 |\n",
       "| 1 | 114 | 3 | 2 | 3 | 14 | acept     | not furnished | R$1,258 | R$3,700  |  3700 |\n",
       "| 1 | 200 | 4 | 5 | 3 |  2 | acept     | not furnished | R$2,600 | R$4,500  |  4500 |\n",
       "| 0 | 600 | 5 | 5 | 4 | NA | acept     | not furnished | R$3,300 | R$5,000  |  5000 |\n",
       "| 1 | 200 | 4 | 4 | 4 | 21 | acept     | furnished     | R$2,000 | R$10,000 | 10000 |\n",
       "| 1 |  88 | 2 | 2 | 1 |  1 | acept     | not furnished | R$1,200 | R$6,000  |  6000 |\n",
       "| 0 |  28 | 1 | 1 | 0 | NA | not acept | furnished     | R$0     | R$1,390  |  1390 |\n",
       "| 1 |  50 | 2 | 1 | 1 |  2 | acept     | not furnished | R$420   | R$1,150  |  1150 |\n",
       "| 1 |  84 | 2 | 2 | 1 | 16 | not acept | furnished     | R$768   | R$2,900  |  2900 |\n",
       "| 0 |  48 | 1 | 1 | 0 | 13 | acept     | not furnished | R$250   | R$950    |   950 |\n",
       "| 1 | 160 | 3 | 2 | 2 | NA | not acept | not furnished | R$0     | R$3,500  |  3500 |\n",
       "| 1 |  60 | 2 | 1 | 1 |  4 | acept     | furnished     | R$489   | R$1,900  |  1900 |\n",
       "\n"
      ],
      "text/plain": [
       "     city area rooms bathroom parking.spaces floor animal    furniture    \n",
       "1    1    240  3      3       4              NA    acept     furnished    \n",
       "2    0     64  2      1       1              10    acept     not furnished\n",
       "3    1    443  5      5       4               3    acept     furnished    \n",
       "4    1     73  2     NA       1              12    acept     not furnished\n",
       "5    1     19  1     NA       0              NA    not acept not furnished\n",
       "6    1     13  1     NA       0               2    acept     not furnished\n",
       "7    1     55  1     NA       1               2    acept     furnished    \n",
       "8    1     55  2     NA       1               2    acept     not furnished\n",
       "9    1     82  3     NA       1               3    acept     furnished    \n",
       "10   1     32  1     NA       1              16    acept     not furnished\n",
       "11   0     60  1     NA       0               6    acept     not furnished\n",
       "12   0     64  1     NA       1               4    acept     furnished    \n",
       "13   1     20  1     NA       0               4    acept     furnished    \n",
       "14   1    375  4     NA       5               1    acept     not furnished\n",
       "15   1     92  2     NA       1               7    not acept furnished    \n",
       "16   0     56  2     NA       1               1    acept     not furnished\n",
       "17   0    188  2     NA       8              NA    acept     not furnished\n",
       "18   1    100  3     NA       1              NA    acept     not furnished\n",
       "19   1    192  3     NA       2              13    acept     not furnished\n",
       "20   1     93  3     NA       1              10    acept     not furnished\n",
       "21   1    155  3     NA       2              NA    acept     not furnished\n",
       "22   1     80  2     NA       0               9    not acept not furnished\n",
       "23   1     65  2     NA       2              14    not acept not furnished\n",
       "24   1    320  3     NA       4              NA    acept     not furnished\n",
       "25   1    180  3     NA       3               3    acept     not furnished\n",
       "26   1     31  1     NA       1               4    acept     not furnished\n",
       "27   1    105  4     NA       2               3    acept     not furnished\n",
       "28   1    300  3      4       2               9    acept     furnished    \n",
       "29   0    150  3      2       2              13    acept     not furnished\n",
       "30   1    130  3      3       2              NA    acept     not furnished\n",
       "...  ...  ...  ...   ...      ...            ...   ...       ...          \n",
       "6051 1     68  2     1        1               8    not acept not furnished\n",
       "6052 1     90  2     3        2               2    acept     not furnished\n",
       "6053 1     56  1     1        2               8    acept     not furnished\n",
       "6054 1    172  3     3        2              14    acept     furnished    \n",
       "6055 1    190  3     4        2              10    not acept not furnished\n",
       "6056 0    306  3     2        2              NA    acept     not furnished\n",
       "6057 1    100  3     2        1               3    acept     not furnished\n",
       "6058 1    200  3     2        1               9    acept     not furnished\n",
       "6059 1     72  2     1        1               4    acept     not furnished\n",
       "6060 1     59  2     1        1              10    acept     not furnished\n",
       "6061 1    384  3     5        3              NA    acept     not furnished\n",
       "6062 1    200  3     1        2              NA    acept     not furnished\n",
       "6063 1    178  3     4        2               4    not acept not furnished\n",
       "6064 1    210  4     4        3              13    not acept furnished    \n",
       "6065 1     49  2     1        1              17    not acept furnished    \n",
       "6066 1    133  2     2        1               7    acept     not furnished\n",
       "6067 1    350  3     2        4              NA    acept     not furnished\n",
       "6068 1    280  4     4        3              17    acept     furnished    \n",
       "6069 1    130  3     3        0              NA    acept     not furnished\n",
       "6070 1    114  3     2        3              14    acept     not furnished\n",
       "6071 1    200  4     5        3               2    acept     not furnished\n",
       "6072 0    600  5     5        4              NA    acept     not furnished\n",
       "6073 1    200  4     4        4              21    acept     furnished    \n",
       "6074 1     88  2     2        1               1    acept     not furnished\n",
       "6075 0     28  1     1        0              NA    not acept furnished    \n",
       "6076 1     50  2     1        1               2    acept     not furnished\n",
       "6077 1     84  2     2        1              16    not acept furnished    \n",
       "6078 0     48  1     1        0              13    acept     not furnished\n",
       "6079 1    160  3     2        2              NA    not acept not furnished\n",
       "6080 1     60  2     1        1               4    acept     furnished    \n",
       "     hoa     rent.amount rent_amount\n",
       "1    R$0     R$8,000      8000      \n",
       "2    R$540   R$820         820      \n",
       "3    R$4,172 R$7,000      7000      \n",
       "4    R$700   R$1,250      1250      \n",
       "5    R$0     R$1,200      1200      \n",
       "6    R$0     R$2,200      2200      \n",
       "7    R$1,950 R$5,000      5000      \n",
       "8    R$600   R$1,300      1300      \n",
       "9    R$828   R$2,000      2000      \n",
       "10   R$533   R$2,900      2900      \n",
       "11   R$480   R$720         720      \n",
       "12   R$406   R$1,550      1550      \n",
       "13   R$602   R$1,800      1800      \n",
       "14   R$4,793 R$15,000    15000      \n",
       "15   R$690   R$3,950      3950      \n",
       "16   R$345   R$950         950      \n",
       "17   R$0     R$3,010      3010      \n",
       "18   R$0     R$3,500      3500      \n",
       "19   R$2,100 R$7,800      7800      \n",
       "20   R$1,497 R$3,500      3500      \n",
       "21   R$0     R$2,650      2650      \n",
       "22   R$600   R$2,550      2550      \n",
       "23   R$907   R$3,500      3500      \n",
       "24   R$0     R$9,000      9000      \n",
       "25   R$2,900 R$8,100      8100      \n",
       "26   R$272   R$3,200      3200      \n",
       "27   R$1,659 R$6,500      6500      \n",
       "28   R$2,000 R$14,000    14000      \n",
       "29   R$1,370 R$1,800      1800      \n",
       "30   R$0     R$6,000      6000      \n",
       "...  ...     ...         ...        \n",
       "6051 R$500   R$1,511      1511      \n",
       "6052 R$700   R$2,650      2650      \n",
       "6053 R$850   R$3,500      3500      \n",
       "6054 R$2,100 R$7,000      7000      \n",
       "6055 R$1,764 R$6,000      6000      \n",
       "6056 Incluso R$2,500      2500      \n",
       "6057 R$1,020 R$2,900      2900      \n",
       "6058 R$2,100 R$8,500      8500      \n",
       "6059 R$860   R$1,440      1440      \n",
       "6060 R$589   R$1,500      1500      \n",
       "6061 R$0     R$10,000    10000      \n",
       "6062 R$0     R$4,500      4500      \n",
       "6063 R$2,450 R$10,000    10000      \n",
       "6064 R$2,500 R$4,000      4000      \n",
       "6065 R$665   R$2,000      2000      \n",
       "6066 R$813   R$2,713      2713      \n",
       "6067 R$0     R$12,500    12500      \n",
       "6068 R$2,400 R$6,553      6553      \n",
       "6069 R$0     R$4,500      4500      \n",
       "6070 R$1,258 R$3,700      3700      \n",
       "6071 R$2,600 R$4,500      4500      \n",
       "6072 R$3,300 R$5,000      5000      \n",
       "6073 R$2,000 R$10,000    10000      \n",
       "6074 R$1,200 R$6,000      6000      \n",
       "6075 R$0     R$1,390      1390      \n",
       "6076 R$420   R$1,150      1150      \n",
       "6077 R$768   R$2,900      2900      \n",
       "6078 R$250   R$950         950      \n",
       "6079 R$0     R$3,500      3500      \n",
       "6080 R$489   R$1,900      1900      "
      ]
     },
     "metadata": {},
     "output_type": "display_data"
    }
   ],
   "source": [
    "library(dplyr)\n",
    "\n",
    "data %>% mutate_at(vars(area), funs(ifelse(is.na(.),median(., na.rm = TRUE),.)))"
   ]
  },
  {
   "cell_type": "code",
   "execution_count": 389,
   "metadata": {},
   "outputs": [
    {
     "data": {
      "image/png": "[encoded data removed]",
      "text/plain": [
       "plot without title"
      ]
     },
     "metadata": {
      "image/png": {
       "height": 420,
       "width": 420
      }
     },
     "output_type": "display_data"
    }
   ],
   "source": [
    "boxplot(data$area, data = data)"
   ]
  },
  {
   "cell_type": "markdown",
   "metadata": {},
   "source": [
    "## Remarks:\n",
    "- The outliers are really far away from IQR"
   ]
  },
  {
   "cell_type": "code",
   "execution_count": 390,
   "metadata": {},
   "outputs": [],
   "source": [
    "area_outliers = c(boxplot.stats(data$area)$out)\n",
    "area_outliers = sum(sapply(area_outliers, function(x) length(unique(x))))"
   ]
  },
  {
   "cell_type": "code",
   "execution_count": 395,
   "metadata": {},
   "outputs": [
    {
     "name": "stdout",
     "output_type": "stream",
     "text": [
      "[1] \"Data with area outliers:  6080\"\n",
      "[1] \"Data without area outliers:  5835\"\n",
      "[1] \"Number of area outliers:  245\"\n"
     ]
    }
   ],
   "source": [
    "print(paste('Data with area outliers: ', length(data$area)))\n",
    "print(paste('Data without area outliers: ', length(data$area) - area_outliers))\n",
    "print(paste('Number of area outliers: ', area_outliers))"
   ]
  },
  {
   "cell_type": "code",
   "execution_count": 399,
   "metadata": {},
   "outputs": [],
   "source": [
    "library(ggExtra)\n",
    "library(ggplot2)"
   ]
  },
  {
   "cell_type": "code",
   "execution_count": 407,
   "metadata": {},
   "outputs": [
    {
     "name": "stderr",
     "output_type": "stream",
     "text": [
      "`geom_smooth()` using formula 'y ~ x'\n",
      "\n",
      "Warning message:\n",
      "\"Removed 17 rows containing non-finite values (stat_smooth).\"\n",
      "Warning message:\n",
      "\"Removed 17 rows containing missing values (geom_point).\"\n"
     ]
    },
    {
     "data": {
      "image/png": "[encoded data removed]",
      "text/plain": [
       "plot without title"
      ]
     },
     "metadata": {
      "image/png": {
       "height": 420,
       "width": 420
      }
     },
     "output_type": "display_data"
    }
   ],
   "source": [
    "plot = ggplot(data=data, aes(x = area, y = rent_amount)) + \n",
    "    geom_point() + \n",
    "    ylab('rent_amount') +\n",
    "    xlab('area') +\n",
    "    ggtitle('Relationship between area & rent_amount') +\n",
    "    theme_bw(base_size = 14) +\n",
    "    geom_smooth(method='lm') +\n",
    "    theme(legend.position='bottom',\n",
    "         plot.title = element_text(color='red',size=16,face='bold',hjust=0.5),\n",
    "         axis.text.x = element_text(face='bold', color='red',angle=45),\n",
    "         axis.text.y = element_text(face='bold',color='blue'))\n",
    "plot"
   ]
  },
  {
   "cell_type": "code",
   "execution_count": 408,
   "metadata": {},
   "outputs": [
    {
     "name": "stderr",
     "output_type": "stream",
     "text": [
      "`geom_smooth()` using formula 'y ~ x'\n",
      "\n",
      "Warning message:\n",
      "\"Removed 17 rows containing non-finite values (stat_smooth).\"\n",
      "`geom_smooth()` using formula 'y ~ x'\n",
      "\n",
      "Warning message:\n",
      "\"Removed 17 rows containing non-finite values (stat_smooth).\"\n",
      "Warning message:\n",
      "\"Removed 17 rows containing missing values (geom_point).\"\n",
      "`geom_smooth()` using formula 'y ~ x'\n",
      "\n",
      "Warning message:\n",
      "\"Removed 17 rows containing non-finite values (stat_smooth).\"\n",
      "Warning message:\n",
      "\"Removed 17 rows containing missing values (geom_point).\"\n"
     ]
    },
    {
     "data": {
      "image/png": "[encoded data removed]",
      "text/plain": [
       "plot without title"
      ]
     },
     "metadata": {
      "image/png": {
       "height": 420,
       "width": 420
      }
     },
     "output_type": "display_data"
    }
   ],
   "source": [
    "ggMarginal(plot, type='histogram', col='white',\n",
    "          fill = 'blue',bins=20)"
   ]
  },
  {
   "cell_type": "code",
   "execution_count": 431,
   "metadata": {},
   "outputs": [
    {
     "data": {
      "text/html": [
       "<style>\n",
       ".list-inline {list-style: none; margin:0; padding: 0}\n",
       ".list-inline>li {display: inline-block}\n",
       ".list-inline>li:not(:last-child)::after {content: \"\\00b7\"; padding: 0 .5ex}\n",
       "</style>\n",
       "<ol class=list-inline><li>5249</li><li>831</li></ol>\n"
      ],
      "text/latex": [
       "\\begin{enumerate*}\n",
       "\\item 5249\n",
       "\\item 831\n",
       "\\end{enumerate*}\n"
      ],
      "text/markdown": [
       "1. 5249\n",
       "2. 831\n",
       "\n",
       "\n"
      ],
      "text/plain": [
       "[1] 5249  831"
      ]
     },
     "metadata": {},
     "output_type": "display_data"
    }
   ],
   "source": [
    "city_1 = length(which(data$city==1))\n",
    "city_0 = length(which(data$city==0))\n",
    "city = c(city_1, city_0)\n",
    "city"
   ]
  },
  {
   "cell_type": "code",
   "execution_count": 440,
   "metadata": {},
   "outputs": [
    {
     "data": {
      "image/png": "[encoded data removed]",
      "text/plain": [
       "Plot with title \"Percentage of 0/1 city\""
      ]
     },
     "metadata": {
      "image/png": {
       "height": 420,
       "width": 420
      }
     },
     "output_type": "display_data"
    }
   ],
   "source": [
    "piepercent = round(100*city/sum(city), 1)\n",
    "pie(city, main='Percentage of 0/1 city', col =c('cyan2','red'), labels  = paste(piepercent,'%','&',c('1','0')))"
   ]
  },
  {
   "cell_type": "code",
   "execution_count": 444,
   "metadata": {},
   "outputs": [
    {
     "name": "stdout",
     "output_type": "stream",
     "text": [
      "[1] \"Max rent amount: 45000\"\n",
      "[1] \"Min rent amount: 420\"\n"
     ]
    }
   ],
   "source": [
    "print(paste('Max rent amount:',max(data$rent_amount)))\n",
    "print(paste('Min rent amount:',min(data$rent_amount)))"
   ]
  },
  {
   "cell_type": "code",
   "execution_count": 445,
   "metadata": {},
   "outputs": [
    {
     "data": {
      "text/html": [
       "<table>\n",
       "<caption>A data.frame: 1 × 11</caption>\n",
       "<thead>\n",
       "\t<tr><th></th><th scope=col>city</th><th scope=col>area</th><th scope=col>rooms</th><th scope=col>bathroom</th><th scope=col>parking.spaces</th><th scope=col>floor</th><th scope=col>animal</th><th scope=col>furniture</th><th scope=col>hoa</th><th scope=col>rent.amount</th><th scope=col>rent_amount</th></tr>\n",
       "\t<tr><th></th><th scope=col>&lt;int&gt;</th><th scope=col>&lt;int&gt;</th><th scope=col>&lt;int&gt;</th><th scope=col>&lt;int&gt;</th><th scope=col>&lt;int&gt;</th><th scope=col>&lt;int&gt;</th><th scope=col>&lt;chr&gt;</th><th scope=col>&lt;chr&gt;</th><th scope=col>&lt;chr&gt;</th><th scope=col>&lt;chr&gt;</th><th scope=col>&lt;dbl&gt;</th></tr>\n",
       "</thead>\n",
       "<tbody>\n",
       "\t<tr><th scope=row>3381</th><td>1</td><td>700</td><td>4</td><td>7</td><td>8</td><td>NA</td><td>acept</td><td>not furnished</td><td>R$0</td><td>R$45,000</td><td>45000</td></tr>\n",
       "</tbody>\n",
       "</table>\n"
      ],
      "text/latex": [
       "A data.frame: 1 × 11\n",
       "\\begin{tabular}{r|lllllllllll}\n",
       "  & city & area & rooms & bathroom & parking.spaces & floor & animal & furniture & hoa & rent.amount & rent\\_amount\\\\\n",
       "  & <int> & <int> & <int> & <int> & <int> & <int> & <chr> & <chr> & <chr> & <chr> & <dbl>\\\\\n",
       "\\hline\n",
       "\t3381 & 1 & 700 & 4 & 7 & 8 & NA & acept & not furnished & R\\$0 & R\\$45,000 & 45000\\\\\n",
       "\\end{tabular}\n"
      ],
      "text/markdown": [
       "\n",
       "A data.frame: 1 × 11\n",
       "\n",
       "| <!--/--> | city &lt;int&gt; | area &lt;int&gt; | rooms &lt;int&gt; | bathroom &lt;int&gt; | parking.spaces &lt;int&gt; | floor &lt;int&gt; | animal &lt;chr&gt; | furniture &lt;chr&gt; | hoa &lt;chr&gt; | rent.amount &lt;chr&gt; | rent_amount &lt;dbl&gt; |\n",
       "|---|---|---|---|---|---|---|---|---|---|---|---|\n",
       "| 3381 | 1 | 700 | 4 | 7 | 8 | NA | acept | not furnished | R$0 | R$45,000 | 45000 |\n",
       "\n"
      ],
      "text/plain": [
       "     city area rooms bathroom parking.spaces floor animal furniture     hoa\n",
       "3381 1    700  4     7        8              NA    acept  not furnished R$0\n",
       "     rent.amount rent_amount\n",
       "3381 R$45,000    45000      "
      ]
     },
     "metadata": {},
     "output_type": "display_data"
    }
   ],
   "source": [
    "data[which.max(data$rent_amount),]"
   ]
  },
  {
   "cell_type": "code",
   "execution_count": 446,
   "metadata": {},
   "outputs": [
    {
     "data": {
      "text/html": [
       "<table>\n",
       "<caption>A data.frame: 1 × 11</caption>\n",
       "<thead>\n",
       "\t<tr><th></th><th scope=col>city</th><th scope=col>area</th><th scope=col>rooms</th><th scope=col>bathroom</th><th scope=col>parking.spaces</th><th scope=col>floor</th><th scope=col>animal</th><th scope=col>furniture</th><th scope=col>hoa</th><th scope=col>rent.amount</th><th scope=col>rent_amount</th></tr>\n",
       "\t<tr><th></th><th scope=col>&lt;int&gt;</th><th scope=col>&lt;int&gt;</th><th scope=col>&lt;int&gt;</th><th scope=col>&lt;int&gt;</th><th scope=col>&lt;int&gt;</th><th scope=col>&lt;int&gt;</th><th scope=col>&lt;chr&gt;</th><th scope=col>&lt;chr&gt;</th><th scope=col>&lt;chr&gt;</th><th scope=col>&lt;chr&gt;</th><th scope=col>&lt;dbl&gt;</th></tr>\n",
       "</thead>\n",
       "<tbody>\n",
       "\t<tr><th scope=row>2662</th><td>0</td><td>47</td><td>1</td><td>1</td><td>0</td><td>2</td><td>acept</td><td>not furnished</td><td>R$426</td><td>R$420</td><td>420</td></tr>\n",
       "</tbody>\n",
       "</table>\n"
      ],
      "text/latex": [
       "A data.frame: 1 × 11\n",
       "\\begin{tabular}{r|lllllllllll}\n",
       "  & city & area & rooms & bathroom & parking.spaces & floor & animal & furniture & hoa & rent.amount & rent\\_amount\\\\\n",
       "  & <int> & <int> & <int> & <int> & <int> & <int> & <chr> & <chr> & <chr> & <chr> & <dbl>\\\\\n",
       "\\hline\n",
       "\t2662 & 0 & 47 & 1 & 1 & 0 & 2 & acept & not furnished & R\\$426 & R\\$420 & 420\\\\\n",
       "\\end{tabular}\n"
      ],
      "text/markdown": [
       "\n",
       "A data.frame: 1 × 11\n",
       "\n",
       "| <!--/--> | city &lt;int&gt; | area &lt;int&gt; | rooms &lt;int&gt; | bathroom &lt;int&gt; | parking.spaces &lt;int&gt; | floor &lt;int&gt; | animal &lt;chr&gt; | furniture &lt;chr&gt; | hoa &lt;chr&gt; | rent.amount &lt;chr&gt; | rent_amount &lt;dbl&gt; |\n",
       "|---|---|---|---|---|---|---|---|---|---|---|---|\n",
       "| 2662 | 0 | 47 | 1 | 1 | 0 | 2 | acept | not furnished | R$426 | R$420 | 420 |\n",
       "\n"
      ],
      "text/plain": [
       "     city area rooms bathroom parking.spaces floor animal furniture     hoa  \n",
       "2662 0    47   1     1        0              2     acept  not furnished R$426\n",
       "     rent.amount rent_amount\n",
       "2662 R$420       420        "
      ]
     },
     "metadata": {},
     "output_type": "display_data"
    }
   ],
   "source": [
    "data[which.min(data$rent_amount),]"
   ]
  },
  {
   "cell_type": "code",
   "execution_count": 468,
   "metadata": {},
   "outputs": [
    {
     "name": "stderr",
     "output_type": "stream",
     "text": [
      "`summarise()` ungrouping output (override with `.groups` argument)\n",
      "\n"
     ]
    },
    {
     "data": {
      "image/png": "[encoded data removed]",
      "text/plain": [
       "plot without title"
      ]
     },
     "metadata": {
      "image/png": {
       "height": 420,
       "width": 420
      }
     },
     "output_type": "display_data"
    }
   ],
   "source": [
    "group_rooms = group_by(data, rooms)\n",
    "summary = summarize(group_rooms,\n",
    "                    room_counts = n())\n",
    "barplot(summary$room_counts, names.arg=summary$rooms, xlab='rooms', ylab='count',ylim=c(0,2000))"
   ]
  },
  {
   "cell_type": "markdown",
   "metadata": {},
   "source": [
    "## Remarks:\n",
    "- The distribution is right skewness\n",
    "- The data rooms almost center around rooms 1 to 4\n",
    "- The highest frequency is room 3"
   ]
  },
  {
   "cell_type": "code",
   "execution_count": 478,
   "metadata": {},
   "outputs": [
    {
     "data": {
      "image/png": "[encoded data removed]",
      "text/plain": [
       "plot without title"
      ]
     },
     "metadata": {
      "image/png": {
       "height": 420,
       "width": 420
      }
     },
     "output_type": "display_data"
    }
   ],
   "source": [
    "# Create the scatter plot with `area` on the x-axis and `rent_amount` on the y-axis\n",
    "plot(data$area, data$rent_amount)\n",
    "\n",
    "# Add a regression linewith the form `abline(lm(y ~ x))`\n",
    "\n",
    "abline(lm(data$area ~ data$rent_amount))"
   ]
  },
  {
   "cell_type": "code",
   "execution_count": 485,
   "metadata": {},
   "outputs": [
    {
     "name": "stdout",
     "output_type": "stream",
     "text": [
      "     rent_amount\n",
      "area          NA\n"
     ]
    }
   ],
   "source": [
    "correlations = cor(data['area'], data['rent_amount'])\n",
    "print(correlations)"
   ]
  },
  {
   "cell_type": "markdown",
   "metadata": {},
   "source": [
    "## Conclusion: There is no correlation between area and rent_amount variables"
   ]
  },
  {
   "cell_type": "code",
   "execution_count": null,
   "metadata": {},
   "outputs": [],
   "source": []
  }
 ],
 "metadata": {
  "kernelspec": {
   "display_name": "R",
   "language": "R",
   "name": "ir"
  },
  "language_info": {
   "codemirror_mode": "r",
   "file_extension": ".r",
   "mimetype": "text/x-r-source",
   "name": "R",
   "pygments_lexer": "r",
   "version": "4.0.2"
  }
 },
 "nbformat": 4,
 "nbformat_minor": 4
}
