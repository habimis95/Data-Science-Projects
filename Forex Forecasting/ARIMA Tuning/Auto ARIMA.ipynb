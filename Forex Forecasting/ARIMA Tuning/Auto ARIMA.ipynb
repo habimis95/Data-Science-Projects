{
 "cells": [
  {
   "cell_type": "code",
   "execution_count": 1,
   "metadata": {
    "colab": {
     "base_uri": "https://localhost:8080/",
     "height": 417
    },
    "colab_type": "code",
    "executionInfo": {
     "elapsed": 4172,
     "status": "ok",
     "timestamp": 1594275005066,
     "user": {
      "displayName": "Khoa Nguyen Huy",
      "photoUrl": "https://lh3.googleusercontent.com/a-/AOh14GgjeJiM2ncHhfCG3jDwpA-DfgEjv3znu32cjImg=s64",
      "userId": "04478011766376578309"
     },
     "user_tz": -420
    },
    "id": "rwgby-Lf8Pwt",
    "outputId": "eb65059a-ab0a-41e7-bd25-eca4ade4aa89"
   },
   "outputs": [],
   "source": [
    "import pmdarima as pm\n",
    "import pandas as pd\n",
    "import matplotlib.pyplot as plt\n",
    "import fxcmpy\n",
    "import datetime as dt\n",
    "import warnings\n",
    "warnings.filterwarnings('ignore') \n",
    "\n",
    "# Import data\n",
    "TOKEN = 'ccf0e2248bf73ca5f37919cc53913fa67935cea4'\n",
    "con = fxcmpy.fxcmpy(access_token=TOKEN, log_level='error', server='real')\n",
    "start = dt.datetime(2010, 1, 1)\n",
    "stop = dt.datetime(2020, 11, 25)\n",
    "data = con.get_candles('EUR/USD', period='D1',start=start, stop=stop,columns=['asks', 'tickqty'],with_index=False)\n",
    "\n",
    "# Rename the columns\n",
    "data.rename(columns = {'askopen':'open',\n",
    "                       'askclose':'close',\n",
    "                       'askhigh':'high',\n",
    "                       'asklow':'low',\n",
    "                       'tickqty':'volume'}, inplace = True) "
   ]
  },
  {
   "cell_type": "code",
   "execution_count": 2,
   "metadata": {
    "colab": {
     "base_uri": "https://localhost:8080/",
     "height": 154
    },
    "colab_type": "code",
    "executionInfo": {
     "elapsed": 4161,
     "status": "ok",
     "timestamp": 1594275005067,
     "user": {
      "displayName": "Khoa Nguyen Huy",
      "photoUrl": "https://lh3.googleusercontent.com/a-/AOh14GgjeJiM2ncHhfCG3jDwpA-DfgEjv3znu32cjImg=s64",
      "userId": "04478011766376578309"
     },
     "user_tz": -420
    },
    "id": "d9hsjDmIAQW7",
    "outputId": "0dccb262-bf2d-42d0-f00d-25d35a8daed6"
   },
   "outputs": [
    {
     "data": {
      "text/plain": [
       "date      datetime64[ns]\n",
       "open             float64\n",
       "close            float64\n",
       "high             float64\n",
       "low              float64\n",
       "volume             int64\n",
       "dtype: object"
      ]
     },
     "execution_count": 2,
     "metadata": {},
     "output_type": "execute_result"
    }
   ],
   "source": [
    "data.dtypes"
   ]
  },
  {
   "cell_type": "code",
   "execution_count": 3,
   "metadata": {},
   "outputs": [],
   "source": [
    "data = data[['date','close']]"
   ]
  },
  {
   "cell_type": "code",
   "execution_count": 4,
   "metadata": {},
   "outputs": [],
   "source": [
    "data.set_index('date',inplace=True)"
   ]
  },
  {
   "cell_type": "code",
   "execution_count": 5,
   "metadata": {
    "colab": {},
    "colab_type": "code",
    "executionInfo": {
     "elapsed": 4139,
     "status": "ok",
     "timestamp": 1594275005070,
     "user": {
      "displayName": "Khoa Nguyen Huy",
      "photoUrl": "https://lh3.googleusercontent.com/a-/AOh14GgjeJiM2ncHhfCG3jDwpA-DfgEjv3znu32cjImg=s64",
      "userId": "04478011766376578309"
     },
     "user_tz": -420
    },
    "id": "GsOtIHQJ-KGB"
   },
   "outputs": [
    {
     "data": {
      "text/html": [
       "<div>\n",
       "<style scoped>\n",
       "    .dataframe tbody tr th:only-of-type {\n",
       "        vertical-align: middle;\n",
       "    }\n",
       "\n",
       "    .dataframe tbody tr th {\n",
       "        vertical-align: top;\n",
       "    }\n",
       "\n",
       "    .dataframe thead th {\n",
       "        text-align: right;\n",
       "    }\n",
       "</style>\n",
       "<table border=\"1\" class=\"dataframe\">\n",
       "  <thead>\n",
       "    <tr style=\"text-align: right;\">\n",
       "      <th></th>\n",
       "      <th>close</th>\n",
       "    </tr>\n",
       "    <tr>\n",
       "      <th>date</th>\n",
       "      <th></th>\n",
       "    </tr>\n",
       "  </thead>\n",
       "  <tbody>\n",
       "    <tr>\n",
       "      <th>2010-01-04 22:00:00</th>\n",
       "      <td>1.44144</td>\n",
       "    </tr>\n",
       "    <tr>\n",
       "      <th>2010-01-05 22:00:00</th>\n",
       "      <td>1.43676</td>\n",
       "    </tr>\n",
       "    <tr>\n",
       "      <th>2010-01-06 22:00:00</th>\n",
       "      <td>1.44091</td>\n",
       "    </tr>\n",
       "    <tr>\n",
       "      <th>2010-01-07 22:00:00</th>\n",
       "      <td>1.43104</td>\n",
       "    </tr>\n",
       "    <tr>\n",
       "      <th>2010-01-08 22:00:00</th>\n",
       "      <td>1.44156</td>\n",
       "    </tr>\n",
       "    <tr>\n",
       "      <th>...</th>\n",
       "      <td>...</td>\n",
       "    </tr>\n",
       "    <tr>\n",
       "      <th>2020-11-20 22:00:00</th>\n",
       "      <td>1.18583</td>\n",
       "    </tr>\n",
       "    <tr>\n",
       "      <th>2020-11-22 22:00:00</th>\n",
       "      <td>1.18571</td>\n",
       "    </tr>\n",
       "    <tr>\n",
       "      <th>2020-11-23 22:00:00</th>\n",
       "      <td>1.18421</td>\n",
       "    </tr>\n",
       "    <tr>\n",
       "      <th>2020-11-24 22:00:00</th>\n",
       "      <td>1.18981</td>\n",
       "    </tr>\n",
       "    <tr>\n",
       "      <th>2020-11-25 22:00:00</th>\n",
       "      <td>1.19204</td>\n",
       "    </tr>\n",
       "  </tbody>\n",
       "</table>\n",
       "<p>3235 rows × 1 columns</p>\n",
       "</div>"
      ],
      "text/plain": [
       "                       close\n",
       "date                        \n",
       "2010-01-04 22:00:00  1.44144\n",
       "2010-01-05 22:00:00  1.43676\n",
       "2010-01-06 22:00:00  1.44091\n",
       "2010-01-07 22:00:00  1.43104\n",
       "2010-01-08 22:00:00  1.44156\n",
       "...                      ...\n",
       "2020-11-20 22:00:00  1.18583\n",
       "2020-11-22 22:00:00  1.18571\n",
       "2020-11-23 22:00:00  1.18421\n",
       "2020-11-24 22:00:00  1.18981\n",
       "2020-11-25 22:00:00  1.19204\n",
       "\n",
       "[3235 rows x 1 columns]"
      ]
     },
     "execution_count": 5,
     "metadata": {},
     "output_type": "execute_result"
    }
   ],
   "source": [
    "data"
   ]
  },
  {
   "cell_type": "code",
   "execution_count": 6,
   "metadata": {},
   "outputs": [
    {
     "name": "stdout",
     "output_type": "stream",
     "text": [
      "<class 'pandas.core.frame.DataFrame'>\n",
      "DatetimeIndex: 3235 entries, 2010-01-04 22:00:00 to 2020-11-25 22:00:00\n",
      "Data columns (total 1 columns):\n",
      " #   Column  Non-Null Count  Dtype  \n",
      "---  ------  --------------  -----  \n",
      " 0   close   3235 non-null   float64\n",
      "dtypes: float64(1)\n",
      "memory usage: 50.5 KB\n"
     ]
    }
   ],
   "source": [
    "data.info()"
   ]
  },
  {
   "cell_type": "code",
   "execution_count": 7,
   "metadata": {
    "colab": {
     "base_uri": "https://localhost:8080/",
     "height": 409
    },
    "colab_type": "code",
    "executionInfo": {
     "elapsed": 5030,
     "status": "ok",
     "timestamp": 1594275005987,
     "user": {
      "displayName": "Khoa Nguyen Huy",
      "photoUrl": "https://lh3.googleusercontent.com/a-/AOh14GgjeJiM2ncHhfCG3jDwpA-DfgEjv3znu32cjImg=s64",
      "userId": "04478011766376578309"
     },
     "user_tz": -420
    },
    "id": "wVVh_WMp-IWs",
    "outputId": "a384f416-000e-4d8a-c7fe-91ba69b56e76"
   },
   "outputs": [
    {
     "data": {
      "text/plain": [
       "<AxesSubplot:xlabel='date'>"
      ]
     },
     "execution_count": 7,
     "metadata": {},
     "output_type": "execute_result"
    },
    {
     "data": {
      "image/png": "[encoded data removed]",
      "text/plain": [
       "<Figure size 1296x504 with 1 Axes>"
      ]
     },
     "metadata": {
      "needs_background": "light"
     },
     "output_type": "display_data"
    }
   ],
   "source": [
    "data.plot(figsize=(18,7))"
   ]
  },
  {
   "cell_type": "markdown",
   "metadata": {
    "colab_type": "text",
    "id": "gZEVwGHeAt6b"
   },
   "source": [
    "Stationarity is an important concept in time-series and any time-series data should undergo a stationarity test before proceeding with a model.\n",
    "We use the ‘Augmented Dickey-Fuller Test’ to check whether the data is stationary or not which is available in the ‘pmdarima’ package."
   ]
  },
  {
   "cell_type": "code",
   "execution_count": 8,
   "metadata": {
    "colab": {
     "base_uri": "https://localhost:8080/",
     "height": 34
    },
    "colab_type": "code",
    "executionInfo": {
     "elapsed": 5021,
     "status": "ok",
     "timestamp": 1594275005988,
     "user": {
      "displayName": "Khoa Nguyen Huy",
      "photoUrl": "https://lh3.googleusercontent.com/a-/AOh14GgjeJiM2ncHhfCG3jDwpA-DfgEjv3znu32cjImg=s64",
      "userId": "04478011766376578309"
     },
     "user_tz": -420
    },
    "id": "UFc48Sb0AeBE",
    "outputId": "73848c69-1fbd-4907-ad68-b8bd408085c7"
   },
   "outputs": [
    {
     "data": {
      "text/plain": [
       "(0.4521741106336554, True)"
      ]
     },
     "execution_count": 8,
     "metadata": {},
     "output_type": "execute_result"
    }
   ],
   "source": [
    "#Testing for stationarity\n",
    "from pmdarima.arima import ADFTest\n",
    "adf_test = ADFTest(alpha = 0.05)\n",
    "adf_test.should_diff(data)"
   ]
  },
  {
   "cell_type": "markdown",
   "metadata": {
    "colab_type": "text",
    "id": "Te7I-nsrAyK5"
   },
   "source": [
    "From the above, we can conclude that the data is stationary. However, we still try to use the “Integrated (I)” concept, denoted by value ‘d’ in time series to make the data stationary while building the Auto ARIMA model.\n"
   ]
  },
  {
   "cell_type": "code",
   "execution_count": 9,
   "metadata": {
    "colab": {
     "base_uri": "https://localhost:8080/",
     "height": 34
    },
    "colab_type": "code",
    "executionInfo": {
     "elapsed": 5009,
     "status": "ok",
     "timestamp": 1594275005989,
     "user": {
      "displayName": "Khoa Nguyen Huy",
      "photoUrl": "https://lh3.googleusercontent.com/a-/AOh14GgjeJiM2ncHhfCG3jDwpA-DfgEjv3znu32cjImg=s64",
      "userId": "04478011766376578309"
     },
     "user_tz": -420
    },
    "id": "E_vl8dtnEc_i",
    "outputId": "b9cf87f7-479c-4cb0-c224-a72271198768"
   },
   "outputs": [
    {
     "data": {
      "text/plain": [
       "array([[1.44144],\n",
       "       [1.43676],\n",
       "       [1.44091],\n",
       "       ...,\n",
       "       [1.18421],\n",
       "       [1.18981],\n",
       "       [1.19204]])"
      ]
     },
     "execution_count": 9,
     "metadata": {},
     "output_type": "execute_result"
    }
   ],
   "source": [
    "dataset = data.values\n",
    "dataset"
   ]
  },
  {
   "cell_type": "code",
   "execution_count": 10,
   "metadata": {
    "colab": {
     "base_uri": "https://localhost:8080/",
     "height": 34
    },
    "colab_type": "code",
    "executionInfo": {
     "elapsed": 4985,
     "status": "ok",
     "timestamp": 1594275005989,
     "user": {
      "displayName": "Khoa Nguyen Huy",
      "photoUrl": "https://lh3.googleusercontent.com/a-/AOh14GgjeJiM2ncHhfCG3jDwpA-DfgEjv3znu32cjImg=s64",
      "userId": "04478011766376578309"
     },
     "user_tz": -420
    },
    "id": "_NCJ5uu2ERwR",
    "outputId": "67123732-70f2-4a2a-fcac-eea35306e267"
   },
   "outputs": [
    {
     "data": {
      "text/plain": [
       "2588"
      ]
     },
     "execution_count": 10,
     "metadata": {},
     "output_type": "execute_result"
    }
   ],
   "source": [
    "import math\n",
    "training_data_len = math.ceil(len(dataset)*0.8)\n",
    "training_data_len"
   ]
  },
  {
   "cell_type": "code",
   "execution_count": 11,
   "metadata": {
    "colab": {},
    "colab_type": "code",
    "executionInfo": {
     "elapsed": 4953,
     "status": "ok",
     "timestamp": 1594275005990,
     "user": {
      "displayName": "Khoa Nguyen Huy",
      "photoUrl": "https://lh3.googleusercontent.com/a-/AOh14GgjeJiM2ncHhfCG3jDwpA-DfgEjv3znu32cjImg=s64",
      "userId": "04478011766376578309"
     },
     "user_tz": -420
    },
    "id": "mZCc14w4AmuA"
   },
   "outputs": [],
   "source": [
    "#Spliting the dataset into train and test\n",
    "train = data[:training_data_len]\n",
    "test = data[training_data_len:]"
   ]
  },
  {
   "cell_type": "code",
   "execution_count": 12,
   "metadata": {
    "colab": {
     "base_uri": "https://localhost:8080/",
     "height": 283
    },
    "colab_type": "code",
    "executionInfo": {
     "elapsed": 4942,
     "status": "ok",
     "timestamp": 1594275005991,
     "user": {
      "displayName": "Khoa Nguyen Huy",
      "photoUrl": "https://lh3.googleusercontent.com/a-/AOh14GgjeJiM2ncHhfCG3jDwpA-DfgEjv3znu32cjImg=s64",
      "userId": "04478011766376578309"
     },
     "user_tz": -420
    },
    "id": "LIxg_B8vA2d4",
    "outputId": "74c3b359-4fc2-4717-c803-61390d971609"
   },
   "outputs": [
    {
     "data": {
      "text/plain": [
       "[<matplotlib.lines.Line2D at 0x27d6d6ac408>]"
      ]
     },
     "execution_count": 12,
     "metadata": {},
     "output_type": "execute_result"
    },
    {
     "data": {
      "image/png": "[encoded data removed]",
      "text/plain": [
       "<Figure size 432x288 with 1 Axes>"
      ]
     },
     "metadata": {
      "needs_background": "light"
     },
     "output_type": "display_data"
    }
   ],
   "source": [
    "plt.plot(train)\n",
    "plt.plot(test)"
   ]
  },
  {
   "cell_type": "code",
   "execution_count": 17,
   "metadata": {},
   "outputs": [
    {
     "name": "stdout",
     "output_type": "stream",
     "text": [
      "<class 'pandas.core.frame.DataFrame'>\n",
      "DatetimeIndex: 3235 entries, 2010-01-04 22:00:00 to 2020-11-25 22:00:00\n",
      "Data columns (total 1 columns):\n",
      " #   Column  Non-Null Count  Dtype  \n",
      "---  ------  --------------  -----  \n",
      " 0   close   3235 non-null   float64\n",
      "dtypes: float64(1)\n",
      "memory usage: 50.5 KB\n"
     ]
    }
   ],
   "source": [
    "data.info()"
   ]
  },
  {
   "cell_type": "code",
   "execution_count": 19,
   "metadata": {},
   "outputs": [
    {
     "data": {
      "text/plain": [
       "<statsmodels.tsa.seasonal.DecomposeResult at 0x27d6f17dc88>"
      ]
     },
     "execution_count": 19,
     "metadata": {},
     "output_type": "execute_result"
    }
   ],
   "source": [
    "from statsmodels.tsa.seasonal import seasonal_decompose\n",
    "result = seasonal_decompose(x = data, model='multiplicative', period=365)\n",
    "result"
   ]
  },
  {
   "cell_type": "code",
   "execution_count": 20,
   "metadata": {},
   "outputs": [
    {
     "data": {
      "image/png": "[encoded data removed]",
      "text/plain": [
       "<Figure size 432x288 with 4 Axes>"
      ]
     },
     "metadata": {
      "needs_background": "light"
     },
     "output_type": "display_data"
    }
   ],
   "source": [
    "result.plot()\n",
    "plt.show()"
   ]
  },
  {
   "cell_type": "code",
   "execution_count": 21,
   "metadata": {
    "colab": {
     "base_uri": "https://localhost:8080/",
     "height": 453
    },
    "colab_type": "code",
    "id": "pRykrDLCA5j3",
    "outputId": "8a138cdb-e6e7-4d43-fa2f-5c9ceb3ab671"
   },
   "outputs": [
    {
     "name": "stdout",
     "output_type": "stream",
     "text": [
      "Performing stepwise search to minimize aic\n"
     ]
    },
    {
     "name": "stderr",
     "output_type": "stream",
     "text": [
      "c:\\users\\habiw\\appdata\\local\\programs\\python\\python37\\lib\\site-packages\\statsmodels\\base\\model.py:568: ConvergenceWarning: Maximum Likelihood optimization failed to converge. Check mle_retvals\n",
      "  \"Check mle_retvals\", ConvergenceWarning)\n"
     ]
    },
    {
     "name": "stdout",
     "output_type": "stream",
     "text": [
      " ARIMA(0,1,0)(0,1,0)[12]             : AIC=-21096.485, Time=0.79 sec\n",
      " ARIMA(1,1,0)(1,1,0)[12]             : AIC=-22082.219, Time=1.22 sec\n",
      " ARIMA(0,1,1)(0,1,1)[12]             : AIC=inf, Time=13.06 sec\n",
      " ARIMA(1,1,0)(0,1,0)[12]             : AIC=-21097.914, Time=0.41 sec\n",
      " ARIMA(1,1,0)(2,1,0)[12]             : AIC=-22463.664, Time=4.69 sec\n",
      " ARIMA(1,1,0)(3,1,0)[12]             : AIC=-22748.256, Time=11.69 sec\n",
      " ARIMA(1,1,0)(4,1,0)[12]             : AIC=-22863.572, Time=19.67 sec\n",
      " ARIMA(1,1,0)(5,1,0)[12]             : AIC=-22942.125, Time=41.30 sec\n",
      " ARIMA(1,1,0)(5,1,1)[12]             : AIC=-22917.141, Time=65.51 sec\n",
      " ARIMA(1,1,0)(4,1,1)[12]             : AIC=inf, Time=93.96 sec\n",
      " ARIMA(0,1,0)(5,1,0)[12]             : AIC=-22943.857, Time=17.86 sec\n",
      " ARIMA(0,1,0)(4,1,0)[12]             : AIC=-22865.372, Time=13.05 sec\n",
      " ARIMA(0,1,0)(5,1,1)[12]             : AIC=-22907.701, Time=34.90 sec\n",
      " ARIMA(0,1,0)(4,1,1)[12]             : AIC=-22830.281, Time=19.49 sec\n",
      " ARIMA(0,1,1)(5,1,0)[12]             : AIC=-22942.145, Time=38.48 sec\n",
      " ARIMA(1,1,1)(5,1,0)[12]             : AIC=-22940.237, Time=60.09 sec\n",
      " ARIMA(0,1,0)(5,1,0)[12] intercept   : AIC=-22942.088, Time=479.24 sec\n",
      "\n",
      "Best model:  ARIMA(0,1,0)(5,1,0)[12]          \n",
      "Total fit time: 915.427 seconds\n"
     ]
    }
   ],
   "source": [
    "from pmdarima.arima import auto_arima\n",
    "stepwise_model =  auto_arima(data,start_p=0, d=1, start_q=0, \n",
    "                          max_p=5, max_d=5, max_q=5, start_P=0, \n",
    "                          D=1, start_Q=0, max_P=5, max_D=5,\n",
    "                          max_Q=5, m=12, seasonal=True, \n",
    "                          error_action='ignore',trace = True,\n",
    "                          supress_warnings=True,stepwise = True,\n",
    "                          random_state=20,n_fits = 50 )"
   ]
  },
  {
   "cell_type": "code",
   "execution_count": 22,
   "metadata": {
    "colab": {
     "base_uri": "https://localhost:8080/",
     "height": 183
    },
    "colab_type": "code",
    "executionInfo": {
     "elapsed": 945,
     "status": "error",
     "timestamp": 1594276678794,
     "user": {
      "displayName": "Khoa Nguyen Huy",
      "photoUrl": "https://lh3.googleusercontent.com/a-/AOh14GgjeJiM2ncHhfCG3jDwpA-DfgEjv3znu32cjImg=s64",
      "userId": "04478011766376578309"
     },
     "user_tz": -420
    },
    "id": "rsbSQTFIBDVe",
    "outputId": "30cd31dd-a829-469b-b4dc-0aa167ed6ad1"
   },
   "outputs": [
    {
     "data": {
      "text/html": [
       "<table class=\"simpletable\">\n",
       "<caption>SARIMAX Results</caption>\n",
       "<tr>\n",
       "  <th>Dep. Variable:</th>                  <td>y</td>               <th>  No. Observations:  </th>    <td>3235</td>   \n",
       "</tr>\n",
       "<tr>\n",
       "  <th>Model:</th>           <td>SARIMAX(0, 1, 0)x(5, 1, 0, 12)</td> <th>  Log Likelihood     </th>  <td>11477.929</td>\n",
       "</tr>\n",
       "<tr>\n",
       "  <th>Date:</th>                   <td>Sat, 28 Nov 2020</td>        <th>  AIC                </th> <td>-22943.857</td>\n",
       "</tr>\n",
       "<tr>\n",
       "  <th>Time:</th>                       <td>14:02:28</td>            <th>  BIC                </th> <td>-22907.391</td>\n",
       "</tr>\n",
       "<tr>\n",
       "  <th>Sample:</th>                         <td>0</td>               <th>  HQIC               </th> <td>-22930.788</td>\n",
       "</tr>\n",
       "<tr>\n",
       "  <th></th>                             <td> - 3235</td>            <th>                     </th>      <td> </td>    \n",
       "</tr>\n",
       "<tr>\n",
       "  <th>Covariance Type:</th>               <td>opg</td>              <th>                     </th>      <td> </td>    \n",
       "</tr>\n",
       "</table>\n",
       "<table class=\"simpletable\">\n",
       "<tr>\n",
       "      <td></td>        <th>coef</th>     <th>std err</th>      <th>z</th>      <th>P>|z|</th>  <th>[0.025</th>    <th>0.975]</th>  \n",
       "</tr>\n",
       "<tr>\n",
       "  <th>ar.S.L12</th> <td>   -0.8704</td> <td>    0.014</td> <td>  -62.370</td> <td> 0.000</td> <td>   -0.898</td> <td>   -0.843</td>\n",
       "</tr>\n",
       "<tr>\n",
       "  <th>ar.S.L24</th> <td>   -0.7142</td> <td>    0.019</td> <td>  -37.944</td> <td> 0.000</td> <td>   -0.751</td> <td>   -0.677</td>\n",
       "</tr>\n",
       "<tr>\n",
       "  <th>ar.S.L36</th> <td>   -0.5445</td> <td>    0.020</td> <td>  -27.922</td> <td> 0.000</td> <td>   -0.583</td> <td>   -0.506</td>\n",
       "</tr>\n",
       "<tr>\n",
       "  <th>ar.S.L48</th> <td>   -0.3236</td> <td>    0.018</td> <td>  -17.551</td> <td> 0.000</td> <td>   -0.360</td> <td>   -0.287</td>\n",
       "</tr>\n",
       "<tr>\n",
       "  <th>ar.S.L60</th> <td>   -0.1565</td> <td>    0.014</td> <td>  -10.865</td> <td> 0.000</td> <td>   -0.185</td> <td>   -0.128</td>\n",
       "</tr>\n",
       "<tr>\n",
       "  <th>sigma2</th>   <td> 4.691e-05</td> <td> 8.06e-07</td> <td>   58.225</td> <td> 0.000</td> <td> 4.53e-05</td> <td> 4.85e-05</td>\n",
       "</tr>\n",
       "</table>\n",
       "<table class=\"simpletable\">\n",
       "<tr>\n",
       "  <th>Ljung-Box (Q):</th>          <td>76.58</td> <th>  Jarque-Bera (JB):  </th> <td>662.45</td>\n",
       "</tr>\n",
       "<tr>\n",
       "  <th>Prob(Q):</th>                <td>0.00</td>  <th>  Prob(JB):          </th>  <td>0.00</td> \n",
       "</tr>\n",
       "<tr>\n",
       "  <th>Heteroskedasticity (H):</th> <td>0.29</td>  <th>  Skew:              </th>  <td>-0.00</td>\n",
       "</tr>\n",
       "<tr>\n",
       "  <th>Prob(H) (two-sided):</th>    <td>0.00</td>  <th>  Kurtosis:          </th>  <td>5.22</td> \n",
       "</tr>\n",
       "</table><br/><br/>Warnings:<br/>[1] Covariance matrix calculated using the outer product of gradients (complex-step)."
      ],
      "text/plain": [
       "<class 'statsmodels.iolib.summary.Summary'>\n",
       "\"\"\"\n",
       "                                     SARIMAX Results                                      \n",
       "==========================================================================================\n",
       "Dep. Variable:                                  y   No. Observations:                 3235\n",
       "Model:             SARIMAX(0, 1, 0)x(5, 1, 0, 12)   Log Likelihood               11477.929\n",
       "Date:                            Sat, 28 Nov 2020   AIC                         -22943.857\n",
       "Time:                                    14:02:28   BIC                         -22907.391\n",
       "Sample:                                         0   HQIC                        -22930.788\n",
       "                                           - 3235                                         \n",
       "Covariance Type:                              opg                                         \n",
       "==============================================================================\n",
       "                 coef    std err          z      P>|z|      [0.025      0.975]\n",
       "------------------------------------------------------------------------------\n",
       "ar.S.L12      -0.8704      0.014    -62.370      0.000      -0.898      -0.843\n",
       "ar.S.L24      -0.7142      0.019    -37.944      0.000      -0.751      -0.677\n",
       "ar.S.L36      -0.5445      0.020    -27.922      0.000      -0.583      -0.506\n",
       "ar.S.L48      -0.3236      0.018    -17.551      0.000      -0.360      -0.287\n",
       "ar.S.L60      -0.1565      0.014    -10.865      0.000      -0.185      -0.128\n",
       "sigma2      4.691e-05   8.06e-07     58.225      0.000    4.53e-05    4.85e-05\n",
       "===================================================================================\n",
       "Ljung-Box (Q):                       76.58   Jarque-Bera (JB):               662.45\n",
       "Prob(Q):                              0.00   Prob(JB):                         0.00\n",
       "Heteroskedasticity (H):               0.29   Skew:                            -0.00\n",
       "Prob(H) (two-sided):                  0.00   Kurtosis:                         5.22\n",
       "===================================================================================\n",
       "\n",
       "Warnings:\n",
       "[1] Covariance matrix calculated using the outer product of gradients (complex-step).\n",
       "\"\"\""
      ]
     },
     "execution_count": 22,
     "metadata": {},
     "output_type": "execute_result"
    }
   ],
   "source": [
    "#Summary of the model\n",
    "stepwise_model.summary()"
   ]
  },
  {
   "cell_type": "code",
   "execution_count": 25,
   "metadata": {},
   "outputs": [
    {
     "data": {
      "text/plain": [
       "ARIMA(order=(0, 1, 0), scoring_args={}, seasonal_order=(5, 1, 0, 12),\n",
       "      with_intercept=False)"
      ]
     },
     "execution_count": 25,
     "metadata": {},
     "output_type": "execute_result"
    }
   ],
   "source": [
    "stepwise_model.fit(train)"
   ]
  },
  {
   "cell_type": "code",
   "execution_count": 26,
   "metadata": {},
   "outputs": [
    {
     "name": "stdout",
     "output_type": "stream",
     "text": [
      "-17976.55590878021\n"
     ]
    }
   ],
   "source": [
    "print(stepwise_model.aic())"
   ]
  },
  {
   "cell_type": "code",
   "execution_count": 23,
   "metadata": {
    "colab": {},
    "colab_type": "code",
    "id": "znA_iiLLBvVq"
   },
   "outputs": [
    {
     "data": {
      "text/html": [
       "<div>\n",
       "<style scoped>\n",
       "    .dataframe tbody tr th:only-of-type {\n",
       "        vertical-align: middle;\n",
       "    }\n",
       "\n",
       "    .dataframe tbody tr th {\n",
       "        vertical-align: top;\n",
       "    }\n",
       "\n",
       "    .dataframe thead th {\n",
       "        text-align: right;\n",
       "    }\n",
       "</style>\n",
       "<table border=\"1\" class=\"dataframe\">\n",
       "  <thead>\n",
       "    <tr style=\"text-align: right;\">\n",
       "      <th></th>\n",
       "      <th>predicted_prices</th>\n",
       "    </tr>\n",
       "    <tr>\n",
       "      <th>date</th>\n",
       "      <th></th>\n",
       "    </tr>\n",
       "  </thead>\n",
       "  <tbody>\n",
       "    <tr>\n",
       "      <th>2020-11-20 22:00:00</th>\n",
       "      <td>1.406921</td>\n",
       "    </tr>\n",
       "    <tr>\n",
       "      <th>2020-11-22 22:00:00</th>\n",
       "      <td>1.409192</td>\n",
       "    </tr>\n",
       "    <tr>\n",
       "      <th>2020-11-23 22:00:00</th>\n",
       "      <td>1.409088</td>\n",
       "    </tr>\n",
       "    <tr>\n",
       "      <th>2020-11-24 22:00:00</th>\n",
       "      <td>1.406359</td>\n",
       "    </tr>\n",
       "    <tr>\n",
       "      <th>2020-11-25 22:00:00</th>\n",
       "      <td>1.407294</td>\n",
       "    </tr>\n",
       "  </tbody>\n",
       "</table>\n",
       "</div>"
      ],
      "text/plain": [
       "                     predicted_prices\n",
       "date                                 \n",
       "2020-11-20 22:00:00          1.406921\n",
       "2020-11-22 22:00:00          1.409192\n",
       "2020-11-23 22:00:00          1.409088\n",
       "2020-11-24 22:00:00          1.406359\n",
       "2020-11-25 22:00:00          1.407294"
      ]
     },
     "execution_count": 23,
     "metadata": {},
     "output_type": "execute_result"
    }
   ],
   "source": [
    "prediction = pd.DataFrame(stepwise_model.predict(n_periods = len(test)),index=test.index)\n",
    "prediction.columns = ['predicted_prices']\n",
    "prediction.tail()"
   ]
  },
  {
   "cell_type": "code",
   "execution_count": 32,
   "metadata": {
    "colab": {},
    "colab_type": "code",
    "id": "F7mLbcojB5Kk"
   },
   "outputs": [
    {
     "data": {
      "image/png": "[encoded data removed]",
      "text/plain": [
       "<Figure size 576x360 with 1 Axes>"
      ]
     },
     "metadata": {
      "needs_background": "light"
     },
     "output_type": "display_data"
    }
   ],
   "source": [
    "plt.figure(figsize=(8,5))\n",
    "#plt.plot(train,label=\"Training\")\n",
    "plt.plot(test,label=\"Test\")\n",
    "plt.plot(prediction,label=\"Predicted\")\n",
    "plt.legend(loc = 'upper left')\n",
    "plt.xticks(rotation=45)\n",
    "plt.show()"
   ]
  },
  {
   "cell_type": "code",
   "execution_count": 27,
   "metadata": {},
   "outputs": [
    {
     "data": {
      "text/plain": [
       "array([1.14112753, 1.14160343, 1.14130653, 1.14066977, 1.13910777,\n",
       "       1.13841125, 1.13969697, 1.13959201, 1.13924691, 1.13973459,\n",
       "       1.13748116, 1.13733165, 1.13964772, 1.13956157, 1.13844477,\n",
       "       1.13955612, 1.14003332, 1.13996838, 1.14030918, 1.14128874,\n",
       "       1.14045731, 1.13967127, 1.13637622, 1.13620718, 1.13770681,\n",
       "       1.1361493 , 1.1339629 , 1.13555346, 1.13503126, 1.13504336,\n",
       "       1.13427724, 1.13499654, 1.13401517, 1.13468438, 1.13207598,\n",
       "       1.13179381, 1.13362331, 1.13267245, 1.12945508, 1.13089862,\n",
       "       1.13167053, 1.13172172, 1.13012091, 1.130811  , 1.12877859,\n",
       "       1.12798517, 1.12632705, 1.12598411, 1.12710935, 1.12627599,\n",
       "       1.12297498, 1.12326017, 1.12408745, 1.12405565, 1.12270105,\n",
       "       1.12315517, 1.12170956, 1.12255048, 1.12083012, 1.12023817,\n",
       "       1.12227376, 1.12173413, 1.11895003, 1.11887495, 1.11984594,\n",
       "       1.1197747 , 1.11866602, 1.11927226, 1.11708226, 1.11680456,\n",
       "       1.11525864, 1.1148436 , 1.11656543, 1.11591671, 1.11377514,\n",
       "       1.11449126, 1.11458945, 1.11446549, 1.11392469, 1.11449371,\n",
       "       1.11322916, 1.11328834, 1.11106458, 1.11074592, 1.1124967 ,\n",
       "       1.11170907, 1.10918332, 1.11006774, 1.1105386 , 1.11050913,\n",
       "       1.10960707, 1.11027867, 1.10878181, 1.1086966 , 1.10655903,\n",
       "       1.1062025 , 1.10783098, 1.10694868, 1.10420805, 1.10496954,\n",
       "       1.10543833, 1.10540601, 1.10433287, 1.10493925, 1.10336643,\n",
       "       1.10348334, 1.10152962, 1.10113041, 1.10283591, 1.10208206,\n",
       "       1.09930242, 1.09992057, 1.10054381, 1.10050083, 1.0994089 ,\n",
       "       1.1000078 , 1.09830956, 1.0982685 , 1.09641517, 1.09601091,\n",
       "       1.09767656, 1.09694213, 1.09427096, 1.09481463, 1.09535883,\n",
       "       1.095299  , 1.09432118, 1.09490524, 1.09331913, 1.09341984,\n",
       "       1.09148985, 1.09108208, 1.09283449, 1.09210448, 1.08950412,\n",
       "       1.09010221, 1.09062555, 1.09056773, 1.08962208, 1.09023294,\n",
       "       1.08860713, 1.08858008, 1.08662553, 1.0862444 , 1.08794241,\n",
       "       1.08717729, 1.08458876, 1.08528316, 1.08573865, 1.08568279,\n",
       "       1.08474995, 1.08535669, 1.08381469, 1.08384165, 1.08183623,\n",
       "       1.08145683, 1.08315663, 1.08238235, 1.0797206 , 1.08039803,\n",
       "       1.08092142, 1.08087544, 1.07987967, 1.08049166, 1.07889635,\n",
       "       1.07890904, 1.07694577, 1.07655612, 1.07824665, 1.07747641,\n",
       "       1.07480302, 1.07544342, 1.07596823, 1.07591824, 1.07491713,\n",
       "       1.07551887, 1.07391569, 1.07395133, 1.07200964, 1.07161514,\n",
       "       1.07332059, 1.07256795, 1.06991074, 1.07053767, 1.07106878,\n",
       "       1.07101619, 1.07002934, 1.07063227, 1.06902343, 1.06903827,\n",
       "       1.06709531, 1.06670346, 1.06840517, 1.06764981, 1.06501155,\n",
       "       1.06564644, 1.06615919, 1.06610542, 1.06513493, 1.06573836,\n",
       "       1.06414854, 1.06417589, 1.06221589, 1.06182597, 1.06353339,\n",
       "       1.06277414, 1.06013566, 1.06078347, 1.06129601, 1.06124383,\n",
       "       1.06026988, 1.06087657, 1.05928222, 1.05929705, 1.05733569,\n",
       "       1.05694784, 1.05864753, 1.05788422, 1.05523897, 1.0558917 ,\n",
       "       1.05640287, 1.05635127, 1.05537261, 1.0559779 , 1.05438797,\n",
       "       1.05441099, 1.05245008, 1.05206079, 1.05376186, 1.05300007,\n",
       "       1.05034726, 1.05099234, 1.05151258, 1.05146145, 1.05047677,\n",
       "       1.05108193, 1.04948412, 1.04950517, 1.04755107, 1.04716042,\n",
       "       1.04886154, 1.04810152, 1.04545162, 1.04609242, 1.04661073,\n",
       "       1.0465587 , 1.04557701, 1.04618116, 1.04458433, 1.04460734,\n",
       "       1.04265338, 1.04226278, 1.04396584, 1.04320708, 1.04056078,\n",
       "       1.04120271, 1.04171994, 1.04166773, 1.0406888 , 1.04129356,\n",
       "       1.03969754, 1.03971782, 1.03776176, 1.03737191, 1.03907406,\n",
       "       1.03831402, 1.03566881, 1.03631334, 1.03682844, 1.03677634,\n",
       "       1.03579819, 1.03640314, 1.0348093 , 1.034831  , 1.03287304,\n",
       "       1.03248337, 1.03418569, 1.03342506, 1.03077824, 1.03142369,\n",
       "       1.03193978, 1.03188796, 1.03090821, 1.03151337, 1.02991834,\n",
       "       1.02993902, 1.02798189, 1.02759216, 1.0292937 , 1.028533  ,\n",
       "       1.02588512, 1.02652988, 1.0270464 , 1.02699456, 1.02601415,\n",
       "       1.02661901, 1.02502395, 1.02504567, 1.02308919, 1.02269918,\n",
       "       1.02440114, 1.02364094, 1.02099292, 1.02163653, 1.02215378,\n",
       "       1.0221019 , 1.02112143, 1.02172626, 1.02013048, 1.02015181,\n",
       "       1.01819586, 1.01780579, 1.01950783, 1.01874777, 1.01610059,\n",
       "       1.01674418, 1.0172608 , 1.01720881, 1.01622905, 1.01683385,\n",
       "       1.01523853, 1.01525999, 1.01330361, 1.01291365, 1.01461583,\n",
       "       1.01385572, 1.01120883, 1.01185292, 1.01236936, 1.0123174 ,\n",
       "       1.01133781, 1.01194272, 1.01034757, 1.01036873, 1.00841203,\n",
       "       1.00802215, 1.00972415, 1.00896383, 1.00631676, 1.00696113,\n",
       "       1.00747748, 1.00742556, 1.00644581, 1.00705072, 1.00545569,\n",
       "       1.00547706, 1.00352031, 1.00313042, 1.00483242, 1.0040721 ,\n",
       "       1.00142473, 1.00206899, 1.00258559, 1.00253368, 1.00155369,\n",
       "       1.0021586 , 1.00056332, 1.00058462, 0.9986281 , 0.99823816,\n",
       "       0.99994012, 0.99917986, 0.99653247, 0.99717655, 0.99769318,\n",
       "       0.99764125, 0.99666128, 0.99726614, 0.99567087, 0.99569226,\n",
       "       0.99373581, 0.99334585, 0.99504788, 0.99428768, 0.99164039,\n",
       "       0.9922844 , 0.99280103, 0.9927491 , 0.9917692 , 0.99237407,\n",
       "       0.99077878, 0.9908001 , 0.98884362, 0.98845368, 0.99015571,\n",
       "       0.98939549, 0.9867483 , 0.9873924 , 0.98790893, 0.98785699,\n",
       "       0.98687716, 0.98748205, 0.98588684, 0.98590817, 0.98395161,\n",
       "       0.98356168, 0.98526372, 0.98450347, 0.98185626, 0.98250042,\n",
       "       0.98301695, 0.98296502, 0.98198517, 0.98259007, 0.98099485,\n",
       "       0.98101617, 0.97905959, 0.97866967, 0.98037168, 0.97961141,\n",
       "       0.97696415, 0.9776083 , 0.97812486, 0.97807293, 0.97709304,\n",
       "       0.97769793, 0.97610271, 0.97612405, 0.9741675 , 0.97377757,\n",
       "       0.97547959, 0.97471933, 0.97207205, 0.97271617, 0.97323275,\n",
       "       0.97318082, 0.97220092, 0.9728058 , 0.97121055, 0.97123188,\n",
       "       0.96927537, 0.96888543, 0.97058744, 0.9698272 , 0.96717994,\n",
       "       0.96782404, 0.96834061, 0.96828868, 0.9673088 , 0.96791368,\n",
       "       0.96631844, 0.96633978, 0.96438325, 0.96399332, 0.96569534,\n",
       "       0.9649351 , 0.96228785, 0.96293196, 0.96344853, 0.9633966 ,\n",
       "       0.96241672, 0.96302161, 0.96142637, 0.9614477 , 0.95949117,\n",
       "       0.95910123, 0.96080325, 0.96004301, 0.95739576, 0.95803989,\n",
       "       0.95855644, 0.95850451, 0.95752464, 0.95812953, 0.9565343 ,\n",
       "       0.95655563, 0.95459909, 0.95420916, 0.95591118, 0.95515093,\n",
       "       0.95250367, 0.9531478 , 0.95366436, 0.95361243, 0.95263255,\n",
       "       0.95323744, 0.95164221, 0.95166354, 0.949707  , 0.94931707,\n",
       "       0.95101908, 0.95025883, 0.94761157, 0.94825569, 0.94877226,\n",
       "       0.94872033, 0.94774045, 0.94834533, 0.9467501 , 0.94677143,\n",
       "       0.9448149 , 0.94442496, 0.94612698, 0.94536674, 0.94271948,\n",
       "       0.94336359, 0.94388016, 0.94382823, 0.94284835, 0.94345324,\n",
       "       0.941858  , 0.94187933, 0.9399228 , 0.93953286, 0.94123488,\n",
       "       0.94047464, 0.93782738, 0.9384715 , 0.93898807, 0.93893614,\n",
       "       0.93795626, 0.93856114, 0.93696591, 0.93698724, 0.9350307 ,\n",
       "       0.93464077, 0.93634279, 0.93558254, 0.93293529, 0.93357941,\n",
       "       0.93409597, 0.93404404, 0.93306417, 0.93366905, 0.93207382,\n",
       "       0.93209515, 0.93013861, 0.92974868, 0.9314507 , 0.93069045,\n",
       "       0.9280432 , 0.92868732, 0.92920388, 0.92915195, 0.92817207,\n",
       "       0.92877696, 0.92718172, 0.92720306, 0.92524652, 0.92485659,\n",
       "       0.9265586 , 0.92579836, 0.9231511 , 0.92379522, 0.92431179,\n",
       "       0.92425986, 0.92327998, 0.92388486, 0.92228963, 0.92231096,\n",
       "       0.92035442, 0.91996449, 0.92166651, 0.92090626, 0.91825901,\n",
       "       0.91890313, 0.91941969, 0.91936776, 0.91838788, 0.91899277,\n",
       "       0.91739753, 0.91741887, 0.91546233, 0.9150724 , 0.91677441,\n",
       "       0.91601417, 0.91336691, 0.91401103, 0.9145276 , 0.91447567,\n",
       "       0.91349579, 0.91410067, 0.91250544, 0.91252677, 0.91057023,\n",
       "       0.9101803 , 0.91188232, 0.91112207, 0.90847482, 0.90911894,\n",
       "       0.9096355 , 0.90958357, 0.90860369, 0.90920858, 0.90761334,\n",
       "       0.90763468, 0.90567814, 0.90528821, 0.90699023, 0.90622998,\n",
       "       0.90358273, 0.90422684, 0.90474341, 0.90469148, 0.9037116 ,\n",
       "       0.90431649, 0.90272125, 0.90274258, 0.90078605, 0.90039611,\n",
       "       0.90209813, 0.90133789, 0.89869063, 0.89933475, 0.89985131,\n",
       "       0.89979939, 0.89881951, 0.89942439, 0.89782916, 0.89785049,\n",
       "       0.89589395, 0.89550402, 0.89720604, 0.89644579, 0.89379854,\n",
       "       0.89444266, 0.89495922, 0.89490729, 0.89392741, 0.8945323 ,\n",
       "       0.89293706, 0.89295839, 0.89100186, 0.89061193, 0.89231394,\n",
       "       0.8915537 , 0.88890644, 0.88955056, 0.89006713, 0.8900152 ,\n",
       "       0.88903532, 0.8896402 , 0.88804497, 0.8880663 , 0.88610976,\n",
       "       0.88571983, 0.88742185, 0.8866616 , 0.88401435, 0.88465847,\n",
       "       0.88517503, 0.8851231 , 0.88414322, 0.88474811, 0.88315287,\n",
       "       0.88317421, 0.88121767, 0.88082774, 0.88252975, 0.88176951,\n",
       "       0.87912226, 0.87976637, 0.88028294, 0.88023101, 0.87925113,\n",
       "       0.87985601])"
      ]
     },
     "execution_count": 27,
     "metadata": {},
     "output_type": "execute_result"
    }
   ],
   "source": [
    "# 9 months predicion\n",
    "future_forecast = stepwise_model.predict(n_periods=len(test)+9)\n",
    "future_forecast"
   ]
  },
  {
   "cell_type": "code",
   "execution_count": 31,
   "metadata": {},
   "outputs": [
    {
     "data": {
      "image/png": "[encoded data removed]",
      "text/plain": [
       "<Figure size 432x288 with 1 Axes>"
      ]
     },
     "metadata": {
      "needs_background": "light"
     },
     "output_type": "display_data"
    }
   ],
   "source": [
    "plt.plot(future_forecast[len(test):], color='red')\n",
    "plt.xticks(rotation='vertical')\n",
    "plt.title(\"Prediction next 9 months\")\n",
    "plt.show()"
   ]
  },
  {
   "cell_type": "code",
   "execution_count": 29,
   "metadata": {
    "colab": {},
    "colab_type": "code",
    "id": "H0zUajlGCR8x"
   },
   "outputs": [
    {
     "name": "stderr",
     "output_type": "stream",
     "text": [
      "c:\\users\\habiw\\appdata\\local\\programs\\python\\python37\\lib\\site-packages\\ipykernel_launcher.py:2: SettingWithCopyWarning: \n",
      "A value is trying to be set on a copy of a slice from a DataFrame.\n",
      "Try using .loc[row_indexer,col_indexer] = value instead\n",
      "\n",
      "See the caveats in the documentation: https://pandas.pydata.org/pandas-docs/stable/user_guide/indexing.html#returning-a-view-versus-a-copy\n",
      "  \n"
     ]
    },
    {
     "data": {
      "text/plain": [
       "-39.05725580560667"
      ]
     },
     "execution_count": 29,
     "metadata": {},
     "output_type": "execute_result"
    }
   ],
   "source": [
    "from sklearn.metrics import r2_score\n",
    "test['predicted_prices'] = prediction\n",
    "r2_score(test['close'], test['predicted_prices'])"
   ]
  },
  {
   "cell_type": "markdown",
   "metadata": {
    "colab_type": "text",
    "id": "GiRUKfYbIsTb"
   },
   "source": [
    "Summary\n",
    "In this article, we tried to use the functionality of the Auto ARIMA model and this approach will come into handy if you would like to generate the p, d, and q values from the model itself. In the basic ARIMA or SARIMA model, you need to perform differencing and plot ACF and PACF graphs to determine these values which are time-consuming.\n",
    "However, it is always advisable to go with statistical techniques and implement the basic ARIMA model to understand the intuitive behind the p,d, and q values if you are new to time series."
   ]
  },
  {
   "cell_type": "code",
   "execution_count": null,
   "metadata": {
    "colab": {},
    "colab_type": "code",
    "id": "dcvYC__LCWo4"
   },
   "outputs": [],
   "source": []
  }
 ],
 "metadata": {
  "colab": {
   "authorship_tag": "ABX9TyPAacPdcttucS7BHtKGZMAu",
   "collapsed_sections": [],
   "name": "VCB_ Auto ARIMA.ipynb",
   "provenance": [
    {
     "file_id": "1iWlI3IEZz7-gbQozaR0PjRNFtJTr38Z3",
     "timestamp": 1594272373812
    }
   ]
  },
  "kernelspec": {
   "display_name": "Python 3",
   "language": "python",
   "name": "python3"
  },
  "language_info": {
   "codemirror_mode": {
    "name": "ipython",
    "version": 3
   },
   "file_extension": ".py",
   "mimetype": "text/x-python",
   "name": "python",
   "nbconvert_exporter": "python",
   "pygments_lexer": "ipython3",
   "version": "3.7.4"
  }
 },
 "nbformat": 4,
 "nbformat_minor": 4
}
