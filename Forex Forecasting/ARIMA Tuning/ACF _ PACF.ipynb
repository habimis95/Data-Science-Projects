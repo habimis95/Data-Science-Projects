{
 "cells": [
  {
   "cell_type": "code",
   "execution_count": 1,
   "metadata": {
    "colab": {
     "base_uri": "https://localhost:8080/",
     "height": 71
    },
    "colab_type": "code",
    "executionInfo": {
     "elapsed": 1543,
     "status": "ok",
     "timestamp": 1594345736443,
     "user": {
      "displayName": "Khoa Nguyen Huy",
      "photoUrl": "https://lh3.googleusercontent.com/a-/AOh14GgjeJiM2ncHhfCG3jDwpA-DfgEjv3znu32cjImg=s64",
      "userId": "04478011766376578309"
     },
     "user_tz": -420
    },
    "id": "whyKU022YKRb",
    "outputId": "4f955677-c7fc-4cbc-ad99-054e402be255"
   },
   "outputs": [],
   "source": [
    "import pandas as pd\n",
    "import numpy as np\n",
    "import matplotlib.pyplot as plt\n",
    "import datetime as dt\n",
    "import warnings\n",
    "warnings.filterwarnings('ignore') \n",
    "from pandas.plotting import register_matplotlib_converters\n",
    "from statsmodels.graphics.tsaplots import plot_acf, plot_pacf\n",
    "register_matplotlib_converters()"
   ]
  },
  {
   "cell_type": "code",
   "execution_count": 2,
   "metadata": {
    "colab": {},
    "colab_type": "code",
    "id": "En03VmUEembx"
   },
   "outputs": [],
   "source": [
    "import fxcmpy\n",
    "TOKEN = 'ccf0e2248bf73ca5f37919cc53913fa67935cea4'\n",
    "con = fxcmpy.fxcmpy(access_token=TOKEN, log_level='error', server='real')\n",
    "start = dt.datetime(2010, 1, 1)\n",
    "stop = dt.datetime(2020, 11, 25)\n",
    "tickerDf = con.get_candles('EUR/USD', period='D1',start=start, stop=stop,columns=['asks', 'tickqty'],with_index=False)"
   ]
  },
  {
   "cell_type": "code",
   "execution_count": 3,
   "metadata": {
    "colab": {
     "base_uri": "https://localhost:8080/",
     "height": 203
    },
    "colab_type": "code",
    "executionInfo": {
     "elapsed": 995,
     "status": "ok",
     "timestamp": 1594346929636,
     "user": {
      "displayName": "Khoa Nguyen Huy",
      "photoUrl": "https://lh3.googleusercontent.com/a-/AOh14GgjeJiM2ncHhfCG3jDwpA-DfgEjv3znu32cjImg=s64",
      "userId": "04478011766376578309"
     },
     "user_tz": -420
    },
    "id": "L6qbPu3Qe1YS",
    "outputId": "dc8feae9-dfdf-4701-c798-d1842cd7f843"
   },
   "outputs": [
    {
     "data": {
      "text/html": [
       "<div>\n",
       "<style scoped>\n",
       "    .dataframe tbody tr th:only-of-type {\n",
       "        vertical-align: middle;\n",
       "    }\n",
       "\n",
       "    .dataframe tbody tr th {\n",
       "        vertical-align: top;\n",
       "    }\n",
       "\n",
       "    .dataframe thead th {\n",
       "        text-align: right;\n",
       "    }\n",
       "</style>\n",
       "<table border=\"1\" class=\"dataframe\">\n",
       "  <thead>\n",
       "    <tr style=\"text-align: right;\">\n",
       "      <th></th>\n",
       "      <th>date</th>\n",
       "      <th>askopen</th>\n",
       "      <th>askclose</th>\n",
       "      <th>askhigh</th>\n",
       "      <th>asklow</th>\n",
       "      <th>tickqty</th>\n",
       "    </tr>\n",
       "  </thead>\n",
       "  <tbody>\n",
       "    <tr>\n",
       "      <th>0</th>\n",
       "      <td>2010-01-04 22:00:00</td>\n",
       "      <td>1.43332</td>\n",
       "      <td>1.44144</td>\n",
       "      <td>1.44563</td>\n",
       "      <td>1.42587</td>\n",
       "      <td>55015</td>\n",
       "    </tr>\n",
       "    <tr>\n",
       "      <th>1</th>\n",
       "      <td>2010-01-05 22:00:00</td>\n",
       "      <td>1.44144</td>\n",
       "      <td>1.43676</td>\n",
       "      <td>1.44845</td>\n",
       "      <td>1.43472</td>\n",
       "      <td>60382</td>\n",
       "    </tr>\n",
       "    <tr>\n",
       "      <th>2</th>\n",
       "      <td>2010-01-06 22:00:00</td>\n",
       "      <td>1.43676</td>\n",
       "      <td>1.44091</td>\n",
       "      <td>1.44357</td>\n",
       "      <td>1.42835</td>\n",
       "      <td>58258</td>\n",
       "    </tr>\n",
       "    <tr>\n",
       "      <th>3</th>\n",
       "      <td>2010-01-07 22:00:00</td>\n",
       "      <td>1.44091</td>\n",
       "      <td>1.43104</td>\n",
       "      <td>1.44476</td>\n",
       "      <td>1.43000</td>\n",
       "      <td>56049</td>\n",
       "    </tr>\n",
       "    <tr>\n",
       "      <th>4</th>\n",
       "      <td>2010-01-08 22:00:00</td>\n",
       "      <td>1.43104</td>\n",
       "      <td>1.44156</td>\n",
       "      <td>1.44399</td>\n",
       "      <td>1.42646</td>\n",
       "      <td>58253</td>\n",
       "    </tr>\n",
       "  </tbody>\n",
       "</table>\n",
       "</div>"
      ],
      "text/plain": [
       "                 date  askopen  askclose  askhigh   asklow  tickqty\n",
       "0 2010-01-04 22:00:00  1.43332   1.44144  1.44563  1.42587    55015\n",
       "1 2010-01-05 22:00:00  1.44144   1.43676  1.44845  1.43472    60382\n",
       "2 2010-01-06 22:00:00  1.43676   1.44091  1.44357  1.42835    58258\n",
       "3 2010-01-07 22:00:00  1.44091   1.43104  1.44476  1.43000    56049\n",
       "4 2010-01-08 22:00:00  1.43104   1.44156  1.44399  1.42646    58253"
      ]
     },
     "execution_count": 3,
     "metadata": {},
     "output_type": "execute_result"
    }
   ],
   "source": [
    "#see your data\n",
    "tickerDf.head()"
   ]
  },
  {
   "cell_type": "code",
   "execution_count": 4,
   "metadata": {},
   "outputs": [],
   "source": [
    "# Rename the columns\n",
    "tickerDf.rename(columns = {'askopen':'open',\n",
    "                       'askclose':'close',\n",
    "                       'askhigh':'high',\n",
    "                       'asklow':'low',\n",
    "                       'tickqty':'volume'}, inplace = True) "
   ]
  },
  {
   "cell_type": "code",
   "execution_count": 5,
   "metadata": {
    "colab": {
     "base_uri": "https://localhost:8080/",
     "height": 303
    },
    "colab_type": "code",
    "executionInfo": {
     "elapsed": 1256,
     "status": "ok",
     "timestamp": 1594348688438,
     "user": {
      "displayName": "Khoa Nguyen Huy",
      "photoUrl": "https://lh3.googleusercontent.com/a-/AOh14GgjeJiM2ncHhfCG3jDwpA-DfgEjv3znu32cjImg=s64",
      "userId": "04478011766376578309"
     },
     "user_tz": -420
    },
    "id": "nnbFulXGewwZ",
    "outputId": "8a81993f-443f-482b-85fe-dd6a3b9c85b8"
   },
   "outputs": [
    {
     "data": {
      "text/plain": [
       "Text(0, 0.5, 'Price')"
      ]
     },
     "execution_count": 5,
     "metadata": {},
     "output_type": "execute_result"
    },
    {
     "data": {
      "image/png": "[encoded data removed]",
      "text/plain": [
       "<Figure size 720x288 with 1 Axes>"
      ]
     },
     "metadata": {
      "needs_background": "light"
     },
     "output_type": "display_data"
    }
   ],
   "source": [
    "plt.figure(figsize=(10,4))\n",
    "plt.plot(tickerDf.close)\n",
    "plt.title('Forex Price over Time EUR/USD', fontsize=20)\n",
    "plt.ylabel('Price', fontsize=16)"
   ]
  },
  {
   "cell_type": "markdown",
   "metadata": {
    "colab_type": "text",
    "id": "LZoeLPQdlpTB"
   },
   "source": [
    "#Stationarity: take first difference of this series\n"
   ]
  },
  {
   "cell_type": "code",
   "execution_count": 6,
   "metadata": {
    "colab": {},
    "colab_type": "code",
    "id": "PaUmh0QBezh4"
   },
   "outputs": [],
   "source": [
    "#take first difference\n",
    "first_diffs = tickerDf.close.values[1:] - tickerDf.close.values[:-1]\n",
    "first_diffs = np.concatenate([first_diffs, [0]])"
   ]
  },
  {
   "cell_type": "code",
   "execution_count": 7,
   "metadata": {
    "colab": {},
    "colab_type": "code",
    "id": "stNaddIRlre1"
   },
   "outputs": [],
   "source": [
    "#set first difference as variable in dataframe\n",
    "tickerDf['FirstDifference'] = first_diffs"
   ]
  },
  {
   "cell_type": "code",
   "execution_count": 8,
   "metadata": {
    "colab": {
     "base_uri": "https://localhost:8080/",
     "height": 203
    },
    "colab_type": "code",
    "executionInfo": {
     "elapsed": 994,
     "status": "ok",
     "timestamp": 1594348834995,
     "user": {
      "displayName": "Khoa Nguyen Huy",
      "photoUrl": "https://lh3.googleusercontent.com/a-/AOh14GgjeJiM2ncHhfCG3jDwpA-DfgEjv3znu32cjImg=s64",
      "userId": "04478011766376578309"
     },
     "user_tz": -420
    },
    "id": "whTBKmQFlv81",
    "outputId": "a327b286-1d8a-4589-fad1-33ee1c7a4575"
   },
   "outputs": [
    {
     "data": {
      "text/html": [
       "<div>\n",
       "<style scoped>\n",
       "    .dataframe tbody tr th:only-of-type {\n",
       "        vertical-align: middle;\n",
       "    }\n",
       "\n",
       "    .dataframe tbody tr th {\n",
       "        vertical-align: top;\n",
       "    }\n",
       "\n",
       "    .dataframe thead th {\n",
       "        text-align: right;\n",
       "    }\n",
       "</style>\n",
       "<table border=\"1\" class=\"dataframe\">\n",
       "  <thead>\n",
       "    <tr style=\"text-align: right;\">\n",
       "      <th></th>\n",
       "      <th>date</th>\n",
       "      <th>open</th>\n",
       "      <th>close</th>\n",
       "      <th>high</th>\n",
       "      <th>low</th>\n",
       "      <th>volume</th>\n",
       "      <th>FirstDifference</th>\n",
       "    </tr>\n",
       "  </thead>\n",
       "  <tbody>\n",
       "    <tr>\n",
       "      <th>0</th>\n",
       "      <td>2010-01-04 22:00:00</td>\n",
       "      <td>1.43332</td>\n",
       "      <td>1.44144</td>\n",
       "      <td>1.44563</td>\n",
       "      <td>1.42587</td>\n",
       "      <td>55015</td>\n",
       "      <td>-0.00468</td>\n",
       "    </tr>\n",
       "    <tr>\n",
       "      <th>1</th>\n",
       "      <td>2010-01-05 22:00:00</td>\n",
       "      <td>1.44144</td>\n",
       "      <td>1.43676</td>\n",
       "      <td>1.44845</td>\n",
       "      <td>1.43472</td>\n",
       "      <td>60382</td>\n",
       "      <td>0.00415</td>\n",
       "    </tr>\n",
       "    <tr>\n",
       "      <th>2</th>\n",
       "      <td>2010-01-06 22:00:00</td>\n",
       "      <td>1.43676</td>\n",
       "      <td>1.44091</td>\n",
       "      <td>1.44357</td>\n",
       "      <td>1.42835</td>\n",
       "      <td>58258</td>\n",
       "      <td>-0.00987</td>\n",
       "    </tr>\n",
       "    <tr>\n",
       "      <th>3</th>\n",
       "      <td>2010-01-07 22:00:00</td>\n",
       "      <td>1.44091</td>\n",
       "      <td>1.43104</td>\n",
       "      <td>1.44476</td>\n",
       "      <td>1.43000</td>\n",
       "      <td>56049</td>\n",
       "      <td>0.01052</td>\n",
       "    </tr>\n",
       "    <tr>\n",
       "      <th>4</th>\n",
       "      <td>2010-01-08 22:00:00</td>\n",
       "      <td>1.43104</td>\n",
       "      <td>1.44156</td>\n",
       "      <td>1.44399</td>\n",
       "      <td>1.42646</td>\n",
       "      <td>58253</td>\n",
       "      <td>0.00996</td>\n",
       "    </tr>\n",
       "  </tbody>\n",
       "</table>\n",
       "</div>"
      ],
      "text/plain": [
       "                 date     open    close     high      low  volume  \\\n",
       "0 2010-01-04 22:00:00  1.43332  1.44144  1.44563  1.42587   55015   \n",
       "1 2010-01-05 22:00:00  1.44144  1.43676  1.44845  1.43472   60382   \n",
       "2 2010-01-06 22:00:00  1.43676  1.44091  1.44357  1.42835   58258   \n",
       "3 2010-01-07 22:00:00  1.44091  1.43104  1.44476  1.43000   56049   \n",
       "4 2010-01-08 22:00:00  1.43104  1.44156  1.44399  1.42646   58253   \n",
       "\n",
       "   FirstDifference  \n",
       "0         -0.00468  \n",
       "1          0.00415  \n",
       "2         -0.00987  \n",
       "3          0.01052  \n",
       "4          0.00996  "
      ]
     },
     "execution_count": 8,
     "metadata": {},
     "output_type": "execute_result"
    }
   ],
   "source": [
    "tickerDf.head()"
   ]
  },
  {
   "cell_type": "code",
   "execution_count": 9,
   "metadata": {
    "colab": {},
    "colab_type": "code",
    "id": "MbfOnA4amT8D"
   },
   "outputs": [],
   "source": [
    "tickerDf = tickerDf.set_index('date')[['close','FirstDifference']]"
   ]
  },
  {
   "cell_type": "code",
   "execution_count": 10,
   "metadata": {
    "colab": {
     "base_uri": "https://localhost:8080/",
     "height": 234
    },
    "colab_type": "code",
    "executionInfo": {
     "elapsed": 962,
     "status": "ok",
     "timestamp": 1594348945395,
     "user": {
      "displayName": "Khoa Nguyen Huy",
      "photoUrl": "https://lh3.googleusercontent.com/a-/AOh14GgjeJiM2ncHhfCG3jDwpA-DfgEjv3znu32cjImg=s64",
      "userId": "04478011766376578309"
     },
     "user_tz": -420
    },
    "id": "E4qBPoADmhWd",
    "outputId": "9b11fa84-e3d1-45c0-a9ad-465caeb20b62"
   },
   "outputs": [
    {
     "data": {
      "text/html": [
       "<div>\n",
       "<style scoped>\n",
       "    .dataframe tbody tr th:only-of-type {\n",
       "        vertical-align: middle;\n",
       "    }\n",
       "\n",
       "    .dataframe tbody tr th {\n",
       "        vertical-align: top;\n",
       "    }\n",
       "\n",
       "    .dataframe thead th {\n",
       "        text-align: right;\n",
       "    }\n",
       "</style>\n",
       "<table border=\"1\" class=\"dataframe\">\n",
       "  <thead>\n",
       "    <tr style=\"text-align: right;\">\n",
       "      <th></th>\n",
       "      <th>close</th>\n",
       "      <th>FirstDifference</th>\n",
       "    </tr>\n",
       "    <tr>\n",
       "      <th>date</th>\n",
       "      <th></th>\n",
       "      <th></th>\n",
       "    </tr>\n",
       "  </thead>\n",
       "  <tbody>\n",
       "    <tr>\n",
       "      <th>2010-01-04 22:00:00</th>\n",
       "      <td>1.44144</td>\n",
       "      <td>-0.00468</td>\n",
       "    </tr>\n",
       "    <tr>\n",
       "      <th>2010-01-05 22:00:00</th>\n",
       "      <td>1.43676</td>\n",
       "      <td>0.00415</td>\n",
       "    </tr>\n",
       "    <tr>\n",
       "      <th>2010-01-06 22:00:00</th>\n",
       "      <td>1.44091</td>\n",
       "      <td>-0.00987</td>\n",
       "    </tr>\n",
       "    <tr>\n",
       "      <th>2010-01-07 22:00:00</th>\n",
       "      <td>1.43104</td>\n",
       "      <td>0.01052</td>\n",
       "    </tr>\n",
       "    <tr>\n",
       "      <th>2010-01-08 22:00:00</th>\n",
       "      <td>1.44156</td>\n",
       "      <td>0.00996</td>\n",
       "    </tr>\n",
       "  </tbody>\n",
       "</table>\n",
       "</div>"
      ],
      "text/plain": [
       "                       close  FirstDifference\n",
       "date                                         \n",
       "2010-01-04 22:00:00  1.44144         -0.00468\n",
       "2010-01-05 22:00:00  1.43676          0.00415\n",
       "2010-01-06 22:00:00  1.44091         -0.00987\n",
       "2010-01-07 22:00:00  1.43104          0.01052\n",
       "2010-01-08 22:00:00  1.44156          0.00996"
      ]
     },
     "execution_count": 10,
     "metadata": {},
     "output_type": "execute_result"
    }
   ],
   "source": [
    "tickerDf.head()"
   ]
  },
  {
   "cell_type": "code",
   "execution_count": 11,
   "metadata": {
    "colab": {
     "base_uri": "https://localhost:8080/",
     "height": 303
    },
    "colab_type": "code",
    "executionInfo": {
     "elapsed": 29126,
     "status": "ok",
     "timestamp": 1594348978647,
     "user": {
      "displayName": "Khoa Nguyen Huy",
      "photoUrl": "https://lh3.googleusercontent.com/a-/AOh14GgjeJiM2ncHhfCG3jDwpA-DfgEjv3znu32cjImg=s64",
      "userId": "04478011766376578309"
     },
     "user_tz": -420
    },
    "id": "dBtzf1aDmIyR",
    "outputId": "aa0e1acd-c273-4dca-f544-abb67766f173"
   },
   "outputs": [
    {
     "data": {
      "text/plain": [
       "Text(0, 0.5, 'Price Difference')"
      ]
     },
     "execution_count": 11,
     "metadata": {},
     "output_type": "execute_result"
    },
    {
     "data": {
      "image/png": "[encoded data removed]",
      "text/plain": [
       "<Figure size 720x288 with 1 Axes>"
      ]
     },
     "metadata": {
      "needs_background": "light"
     },
     "output_type": "display_data"
    }
   ],
   "source": [
    "plt.figure(figsize=(10,4))\n",
    "plt.plot(tickerDf.FirstDifference)\n",
    "plt.title('First Difference over Time EUR/USD', fontsize=20)\n",
    "plt.ylabel('Price Difference', fontsize=16)"
   ]
  },
  {
   "cell_type": "markdown",
   "metadata": {
    "colab_type": "text",
    "id": "Kv69jfDrmpKb"
   },
   "source": [
    "#ACF"
   ]
  },
  {
   "cell_type": "code",
   "execution_count": 12,
   "metadata": {
    "colab": {
     "base_uri": "https://localhost:8080/",
     "height": 281
    },
    "colab_type": "code",
    "executionInfo": {
     "elapsed": 1401,
     "status": "ok",
     "timestamp": 1594348978649,
     "user": {
      "displayName": "Khoa Nguyen Huy",
      "photoUrl": "https://lh3.googleusercontent.com/a-/AOh14GgjeJiM2ncHhfCG3jDwpA-DfgEjv3znu32cjImg=s64",
      "userId": "04478011766376578309"
     },
     "user_tz": -420
    },
    "id": "SgV3THCMmLhK",
    "outputId": "0ed37457-d4e9-4906-f3af-677aeb71e8ec"
   },
   "outputs": [
    {
     "data": {
      "image/png": "[encoded data removed]",
      "text/plain": [
       "<Figure size 432x288 with 1 Axes>"
      ]
     },
     "metadata": {
      "needs_background": "light"
     },
     "output_type": "display_data"
    }
   ],
   "source": [
    "acf_plot = plot_acf(tickerDf.FirstDifference)"
   ]
  },
  {
   "cell_type": "markdown",
   "metadata": {
    "colab_type": "text",
    "id": "xDXuEwFqmxut"
   },
   "source": [
    "ACF isn't that informative"
   ]
  },
  {
   "cell_type": "markdown",
   "metadata": {
    "colab_type": "text",
    "id": "PIgvVKJSm04l"
   },
   "source": [
    "PACF"
   ]
  },
  {
   "cell_type": "code",
   "execution_count": 13,
   "metadata": {
    "colab": {
     "base_uri": "https://localhost:8080/",
     "height": 281
    },
    "colab_type": "code",
    "executionInfo": {
     "elapsed": 1325,
     "status": "ok",
     "timestamp": 1594349024012,
     "user": {
      "displayName": "Khoa Nguyen Huy",
      "photoUrl": "https://lh3.googleusercontent.com/a-/AOh14GgjeJiM2ncHhfCG3jDwpA-DfgEjv3znu32cjImg=s64",
      "userId": "04478011766376578309"
     },
     "user_tz": -420
    },
    "id": "RDnKdmSSmrwY",
    "outputId": "c3ff96f4-fe89-4a8e-ea2f-25fd71b7fd5f"
   },
   "outputs": [
    {
     "data": {
      "image/png": "[encoded data removed]",
      "text/plain": [
       "<Figure size 432x288 with 1 Axes>"
      ]
     },
     "metadata": {
      "needs_background": "light"
     },
     "output_type": "display_data"
    }
   ],
   "source": [
    "pacf_plot = plot_pacf(tickerDf.FirstDifference)"
   ]
  },
  {
   "cell_type": "markdown",
   "metadata": {
    "colab_type": "text",
    "id": "0EO8WR6vm57g"
   },
   "source": [
    "PACF also doesn't tell us much"
   ]
  },
  {
   "cell_type": "code",
   "execution_count": null,
   "metadata": {
    "colab": {},
    "colab_type": "code",
    "id": "RtD6wQrym22c"
   },
   "outputs": [],
   "source": []
  }
 ],
 "metadata": {
  "colab": {
   "authorship_tag": "ABX9TyPMSxUpvkOfJyQIkAeKsbV/",
   "collapsed_sections": [],
   "name": "VCB_ACF & PACF.ipynb",
   "provenance": [
    {
     "file_id": "1_FVbqrH2M7CK5PZIA57sZUBJy72N_vOp",
     "timestamp": 1594355665437
    }
   ]
  },
  "kernelspec": {
   "display_name": "Python 3",
   "language": "python",
   "name": "python3"
  },
  "language_info": {
   "codemirror_mode": {
    "name": "ipython",
    "version": 3
   },
   "file_extension": ".py",
   "mimetype": "text/x-python",
   "name": "python",
   "nbconvert_exporter": "python",
   "pygments_lexer": "ipython3",
   "version": "3.7.4"
  }
 },
 "nbformat": 4,
 "nbformat_minor": 4
}
