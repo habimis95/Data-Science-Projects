{
 "cells": [
  {
   "cell_type": "code",
   "execution_count": 1,
   "metadata": {
    "colab": {},
    "colab_type": "code",
    "executionInfo": {
     "elapsed": 1148,
     "status": "ok",
     "timestamp": 1594280683462,
     "user": {
      "displayName": "Khoa Nguyen Huy",
      "photoUrl": "https://lh3.googleusercontent.com/a-/AOh14GgjeJiM2ncHhfCG3jDwpA-DfgEjv3znu32cjImg=s64",
      "userId": "04478011766376578309"
     },
     "user_tz": -420
    },
    "id": "MFfuDRJeGGR4"
   },
   "outputs": [],
   "source": [
    "# evaluate an ARIMA model for a given order (p,d,q)\n",
    "def evaluate_arima_model(X, arima_order):\n",
    "\t# prepare training dataset\n",
    "\ttrain_size = int(len(X) * 0.66)\n",
    "\ttrain, test = X[0:train_size], X[train_size:]\n",
    "\thistory = [x for x in train]\n",
    "\t# make predictions\n",
    "\tpredictions = list()\n",
    "\tfor t in range(len(test)):\n",
    "\t\tmodel = ARIMA(history, order=arima_order)\n",
    "\t\tmodel_fit = model.fit(disp=0)\n",
    "\t\tyhat = model_fit.forecast()[0]\n",
    "\t\tpredictions.append(yhat)\n",
    "\t\thistory.append(test[t])\n",
    "\t# calculate out of sample error\n",
    "\terror = mean_squared_error(test, predictions)\n",
    "\treturn error"
   ]
  },
  {
   "cell_type": "code",
   "execution_count": 2,
   "metadata": {
    "colab": {},
    "colab_type": "code",
    "executionInfo": {
     "elapsed": 1138,
     "status": "ok",
     "timestamp": 1594280683463,
     "user": {
      "displayName": "Khoa Nguyen Huy",
      "photoUrl": "https://lh3.googleusercontent.com/a-/AOh14GgjeJiM2ncHhfCG3jDwpA-DfgEjv3znu32cjImg=s64",
      "userId": "04478011766376578309"
     },
     "user_tz": -420
    },
    "id": "OTmZeKpII2m1"
   },
   "outputs": [],
   "source": [
    "import warnings\n",
    "warnings.filterwarnings(\"ignore\")"
   ]
  },
  {
   "cell_type": "code",
   "execution_count": 3,
   "metadata": {
    "colab": {},
    "colab_type": "code",
    "executionInfo": {
     "elapsed": 1129,
     "status": "ok",
     "timestamp": 1594280683465,
     "user": {
      "displayName": "Khoa Nguyen Huy",
      "photoUrl": "https://lh3.googleusercontent.com/a-/AOh14GgjeJiM2ncHhfCG3jDwpA-DfgEjv3znu32cjImg=s64",
      "userId": "04478011766376578309"
     },
     "user_tz": -420
    },
    "id": "8VtrXwuOJVX7"
   },
   "outputs": [],
   "source": [
    "# evaluate combinations of p, d and q values for an ARIMA model\n",
    "def evaluate_models(dataset, p_values, d_values, q_values):\n",
    "\tdataset = dataset.astype('float32')\n",
    "\tbest_score, best_cfg = float(\"inf\"), None\n",
    "\tfor p in p_values:\n",
    "\t\tfor d in d_values:\n",
    "\t\t\tfor q in q_values:\n",
    "\t\t\t\torder = (p,d,q)\n",
    "\t\t\t\ttry:\n",
    "\t\t\t\t\tmse = evaluate_arima_model(dataset, order)\n",
    "\t\t\t\t\tif mse < best_score:\n",
    "\t\t\t\t\t\tbest_score, best_cfg = mse, order\n",
    "\t\t\t\t\tprint('ARIMA%s MSE=%.3f' % (order,mse))\n",
    "\t\t\t\texcept:\n",
    "\t\t\t\t\tcontinue\n",
    "\tprint('Best ARIMA%s MSE=%.3f' % (best_cfg, best_score))"
   ]
  },
  {
   "cell_type": "code",
   "execution_count": 4,
   "metadata": {
    "colab": {},
    "colab_type": "code",
    "executionInfo": {
     "elapsed": 1115,
     "status": "ok",
     "timestamp": 1594280683466,
     "user": {
      "displayName": "Khoa Nguyen Huy",
      "photoUrl": "https://lh3.googleusercontent.com/a-/AOh14GgjeJiM2ncHhfCG3jDwpA-DfgEjv3znu32cjImg=s64",
      "userId": "04478011766376578309"
     },
     "user_tz": -420
    },
    "id": "lX09u0SCJ4l5"
   },
   "outputs": [],
   "source": [
    "import datetime as dt\n",
    "import pandas as pd"
   ]
  },
  {
   "cell_type": "code",
   "execution_count": 5,
   "metadata": {
    "colab": {
     "base_uri": "https://localhost:8080/",
     "height": 450
    },
    "colab_type": "code",
    "executionInfo": {
     "elapsed": 1080,
     "status": "ok",
     "timestamp": 1594280683466,
     "user": {
      "displayName": "Khoa Nguyen Huy",
      "photoUrl": "https://lh3.googleusercontent.com/a-/AOh14GgjeJiM2ncHhfCG3jDwpA-DfgEjv3znu32cjImg=s64",
      "userId": "04478011766376578309"
     },
     "user_tz": -420
    },
    "id": "SaYJ8eN4Jd-r",
    "outputId": "c94d0f0b-e4b3-4b3a-d7da-6bc8779bf035"
   },
   "outputs": [],
   "source": [
    "import fxcmpy\n",
    "\n",
    "# Import data\n",
    "TOKEN = 'ccf0e2248bf73ca5f37919cc53913fa67935cea4'\n",
    "con = fxcmpy.fxcmpy(access_token=TOKEN, log_level='error', server='real')\n",
    "start = dt.datetime(2010, 1, 1)\n",
    "stop = dt.datetime(2020, 11, 25)\n",
    "series = con.get_candles('EUR/USD', period='D1',start=start, stop=stop,columns=['asks', 'tickqty'],with_index=False)\n",
    "\n",
    "# Rename the columns\n",
    "series.rename(columns = {'askopen':'open',\n",
    "                       'askclose':'close',\n",
    "                       'askhigh':'high',\n",
    "                       'asklow':'low',\n",
    "                       'tickqty':'volume'}, inplace = True) \n"
   ]
  },
  {
   "cell_type": "code",
   "execution_count": 6,
   "metadata": {
    "colab": {
     "base_uri": "https://localhost:8080/",
     "height": 238
    },
    "colab_type": "code",
    "executionInfo": {
     "elapsed": 1024,
     "status": "ok",
     "timestamp": 1594280683468,
     "user": {
      "displayName": "Khoa Nguyen Huy",
      "photoUrl": "https://lh3.googleusercontent.com/a-/AOh14GgjeJiM2ncHhfCG3jDwpA-DfgEjv3znu32cjImg=s64",
      "userId": "04478011766376578309"
     },
     "user_tz": -420
    },
    "id": "QOCaxUquwP5t",
    "outputId": "242953d9-bd07-423c-9339-57d7384cbdac"
   },
   "outputs": [
    {
     "data": {
      "text/plain": [
       "0       1.44144\n",
       "1       1.43676\n",
       "2       1.44091\n",
       "3       1.43104\n",
       "4       1.44156\n",
       "         ...   \n",
       "3230    1.18583\n",
       "3231    1.18571\n",
       "3232    1.18421\n",
       "3233    1.18981\n",
       "3234    1.19204\n",
       "Name: close, Length: 3235, dtype: float64"
      ]
     },
     "execution_count": 6,
     "metadata": {},
     "output_type": "execute_result"
    }
   ],
   "source": [
    "series = series.close\n",
    "series"
   ]
  },
  {
   "cell_type": "code",
   "execution_count": 7,
   "metadata": {
    "colab": {
     "base_uri": "https://localhost:8080/",
     "height": 34
    },
    "colab_type": "code",
    "executionInfo": {
     "elapsed": 1015,
     "status": "ok",
     "timestamp": 1594280683469,
     "user": {
      "displayName": "Khoa Nguyen Huy",
      "photoUrl": "https://lh3.googleusercontent.com/a-/AOh14GgjeJiM2ncHhfCG3jDwpA-DfgEjv3znu32cjImg=s64",
      "userId": "04478011766376578309"
     },
     "user_tz": -420
    },
    "id": "26lrLqQpJxve",
    "outputId": "4e0c8549-a120-4846-c662-da4db7a363ca"
   },
   "outputs": [
    {
     "name": "stdout",
     "output_type": "stream",
     "text": [
      "Best ARIMANone MSE=inf\n"
     ]
    }
   ],
   "source": [
    "# evaluate parameters\n",
    "p_values = [0, 1, 2, 4, 6, 8, 10]\n",
    "d_values = range(0, 3)\n",
    "q_values = range(0, 3)\n",
    "warnings.filterwarnings(\"ignore\")\n",
    "evaluate_models(series.values, p_values, d_values, q_values)"
   ]
  },
  {
   "cell_type": "code",
   "execution_count": null,
   "metadata": {
    "colab": {
     "base_uri": "https://localhost:8080/",
     "height": 459
    },
    "colab_type": "code",
    "id": "wlwZVKr4KPYy",
    "outputId": "8fd89ad1-bd8b-4ac6-f230-3ca8ada468ef"
   },
   "outputs": [
    {
     "name": "stdout",
     "output_type": "stream",
     "text": [
      "ARIMA(0, 0, 0) MSE=0.00881252\n",
      "ARIMA(0, 0, 1) MSE=0.00235609\n",
      "ARIMA(0, 0, 2) MSE=0.00081418\n",
      "ARIMA(0, 1, 0) MSE=0.00001953\n",
      "ARIMA(0, 1, 1) MSE=0.00001954\n",
      "ARIMA(0, 1, 2) MSE=0.00001954\n",
      "ARIMA(0, 2, 0) MSE=0.00003882\n",
      "ARIMA(0, 2, 1) MSE=0.00001955\n",
      "ARIMA(0, 2, 2) MSE=0.00001957\n",
      "ARIMA(1, 0, 0) MSE=0.00001947\n",
      "ARIMA(1, 0, 1) MSE=0.00001947\n",
      "ARIMA(1, 0, 2) MSE=0.00001947\n",
      "ARIMA(1, 1, 0) MSE=0.00001954\n",
      "ARIMA(1, 2, 0) MSE=0.00002789\n",
      "ARIMA(1, 2, 1) MSE=0.00001962\n",
      "ARIMA(1, 2, 2) MSE=0.00001959\n",
      "ARIMA(2, 0, 0) MSE=0.00001947\n",
      "ARIMA(2, 1, 0) MSE=0.00001954\n",
      "ARIMA(2, 2, 0) MSE=0.00002553\n",
      "ARIMA(2, 2, 1) MSE=0.00001952\n"
     ]
    }
   ],
   "source": [
    "import warnings\n",
    "from pandas import read_csv\n",
    "from pandas import datetime\n",
    "from statsmodels.tsa.arima_model import ARIMA\n",
    "from sklearn.metrics import mean_squared_error\n",
    " \n",
    "# evaluate an ARIMA model for a given order (p,d,q)\n",
    "def evaluate_arima_model(X, arima_order):\n",
    "\t# prepare training dataset\n",
    "\ttrain_size = int(len(X) * 0.66)\n",
    "\ttrain, test = X[0:train_size], X[train_size:]\n",
    "\thistory = [x for x in train]\n",
    "\t# make predictions\n",
    "\tpredictions = list()\n",
    "\tfor t in range(len(test)):\n",
    "\t\tmodel = ARIMA(history, order=arima_order)\n",
    "\t\tmodel_fit = model.fit(disp=0)\n",
    "\t\tyhat = model_fit.forecast()[0]\n",
    "\t\tpredictions.append(yhat)\n",
    "\t\thistory.append(test[t])\n",
    "\t# calculate out of sample error\n",
    "\terror = mean_squared_error(test, predictions)\n",
    "\treturn error\n",
    " \n",
    "# evaluate combinations of p, d and q values for an ARIMA model\n",
    "def evaluate_models(dataset, p_values, d_values, q_values):\n",
    "\tdataset = dataset.astype('float32')\n",
    "\tbest_score, best_cfg = float(\"inf\"), None\n",
    "\tfor p in p_values:\n",
    "\t\tfor d in d_values:\n",
    "\t\t\tfor q in q_values:\n",
    "\t\t\t\torder = (p,d,q)\n",
    "\t\t\t\ttry:\n",
    "\t\t\t\t\tmse = evaluate_arima_model(dataset, order)\n",
    "\t\t\t\t\tif mse < best_score:\n",
    "\t\t\t\t\t\tbest_score, best_cfg = mse, order\n",
    "\t\t\t\t\tprint('ARIMA%s MSE=%.8f' % (order,mse))\n",
    "\t\t\t\texcept:\n",
    "\t\t\t\t\tcontinue\n",
    "\tprint('Best ARIMA%s MSE=%.8f' % (best_cfg, best_score))\n",
    " \n",
    "# evaluate parameters\n",
    "p_values = [0, 1, 2, 4, 6, 8, 10]\n",
    "d_values = range(0, 3)\n",
    "q_values = range(0, 3)\n",
    "warnings.filterwarnings(\"ignore\")\n",
    "evaluate_models(series.values, p_values, d_values, q_values)"
   ]
  },
  {
   "cell_type": "markdown",
   "metadata": {
    "colab_type": "text",
    "id": "KghLW_0eLWiy"
   },
   "source": []
  },
  {
   "cell_type": "code",
   "execution_count": null,
   "metadata": {
    "colab": {},
    "colab_type": "code",
    "id": "yH4ebB4ALk77"
   },
   "outputs": [],
   "source": []
  }
 ],
 "metadata": {
  "accelerator": "GPU",
  "colab": {
   "authorship_tag": "ABX9TyMrV/TetwsAxPidgaX6hJ2d",
   "collapsed_sections": [],
   "name": "VCB_GridSearch ARIMA(p,d,q).ipynb",
   "provenance": [
    {
     "file_id": "1pU8X23q3VzDaGOS9f8O6XANnPLRiIyZ9",
     "timestamp": 1594267138799
    }
   ]
  },
  "kernelspec": {
   "display_name": "Python 3",
   "language": "python",
   "name": "python3"
  },
  "language_info": {
   "codemirror_mode": {
    "name": "ipython",
    "version": 3
   },
   "file_extension": ".py",
   "mimetype": "text/x-python",
   "name": "python",
   "nbconvert_exporter": "python",
   "pygments_lexer": "ipython3",
   "version": "3.7.4"
  }
 },
 "nbformat": 4,
 "nbformat_minor": 4
}
