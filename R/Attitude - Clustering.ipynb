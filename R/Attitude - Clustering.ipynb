{
 "cells": [
  {
   "cell_type": "code",
   "execution_count": 2,
   "metadata": {},
   "outputs": [],
   "source": [
    "data = read.csv('Du lieu cung cap/attitude.csv')"
   ]
  },
  {
   "cell_type": "code",
   "execution_count": 3,
   "metadata": {},
   "outputs": [
    {
     "data": {
      "text/html": [
       "<table>\n",
       "<caption>A data.frame: 6 × 7</caption>\n",
       "<thead>\n",
       "\t<tr><th></th><th scope=col>rating</th><th scope=col>complaints</th><th scope=col>privileges</th><th scope=col>learning</th><th scope=col>raises</th><th scope=col>critical</th><th scope=col>advance</th></tr>\n",
       "\t<tr><th></th><th scope=col>&lt;int&gt;</th><th scope=col>&lt;int&gt;</th><th scope=col>&lt;int&gt;</th><th scope=col>&lt;int&gt;</th><th scope=col>&lt;int&gt;</th><th scope=col>&lt;int&gt;</th><th scope=col>&lt;int&gt;</th></tr>\n",
       "</thead>\n",
       "<tbody>\n",
       "\t<tr><th scope=row>1</th><td>43</td><td>51</td><td>30</td><td>39</td><td>61</td><td>92</td><td>45</td></tr>\n",
       "\t<tr><th scope=row>2</th><td>63</td><td>64</td><td>51</td><td>54</td><td>63</td><td>73</td><td>47</td></tr>\n",
       "\t<tr><th scope=row>3</th><td>71</td><td>70</td><td>68</td><td>69</td><td>76</td><td>86</td><td>48</td></tr>\n",
       "\t<tr><th scope=row>4</th><td>61</td><td>63</td><td>45</td><td>47</td><td>54</td><td>84</td><td>35</td></tr>\n",
       "\t<tr><th scope=row>5</th><td>81</td><td>78</td><td>56</td><td>66</td><td>71</td><td>83</td><td>47</td></tr>\n",
       "\t<tr><th scope=row>6</th><td>43</td><td>55</td><td>49</td><td>44</td><td>54</td><td>49</td><td>34</td></tr>\n",
       "</tbody>\n",
       "</table>\n"
      ],
      "text/latex": [
       "A data.frame: 6 × 7\n",
       "\\begin{tabular}{r|lllllll}\n",
       "  & rating & complaints & privileges & learning & raises & critical & advance\\\\\n",
       "  & <int> & <int> & <int> & <int> & <int> & <int> & <int>\\\\\n",
       "\\hline\n",
       "\t1 & 43 & 51 & 30 & 39 & 61 & 92 & 45\\\\\n",
       "\t2 & 63 & 64 & 51 & 54 & 63 & 73 & 47\\\\\n",
       "\t3 & 71 & 70 & 68 & 69 & 76 & 86 & 48\\\\\n",
       "\t4 & 61 & 63 & 45 & 47 & 54 & 84 & 35\\\\\n",
       "\t5 & 81 & 78 & 56 & 66 & 71 & 83 & 47\\\\\n",
       "\t6 & 43 & 55 & 49 & 44 & 54 & 49 & 34\\\\\n",
       "\\end{tabular}\n"
      ],
      "text/markdown": [
       "\n",
       "A data.frame: 6 × 7\n",
       "\n",
       "| <!--/--> | rating &lt;int&gt; | complaints &lt;int&gt; | privileges &lt;int&gt; | learning &lt;int&gt; | raises &lt;int&gt; | critical &lt;int&gt; | advance &lt;int&gt; |\n",
       "|---|---|---|---|---|---|---|---|\n",
       "| 1 | 43 | 51 | 30 | 39 | 61 | 92 | 45 |\n",
       "| 2 | 63 | 64 | 51 | 54 | 63 | 73 | 47 |\n",
       "| 3 | 71 | 70 | 68 | 69 | 76 | 86 | 48 |\n",
       "| 4 | 61 | 63 | 45 | 47 | 54 | 84 | 35 |\n",
       "| 5 | 81 | 78 | 56 | 66 | 71 | 83 | 47 |\n",
       "| 6 | 43 | 55 | 49 | 44 | 54 | 49 | 34 |\n",
       "\n"
      ],
      "text/plain": [
       "  rating complaints privileges learning raises critical advance\n",
       "1 43     51         30         39       61     92       45     \n",
       "2 63     64         51         54       63     73       47     \n",
       "3 71     70         68         69       76     86       48     \n",
       "4 61     63         45         47       54     84       35     \n",
       "5 81     78         56         66       71     83       47     \n",
       "6 43     55         49         44       54     49       34     "
      ]
     },
     "metadata": {},
     "output_type": "display_data"
    }
   ],
   "source": [
    "head(data)"
   ]
  },
  {
   "cell_type": "code",
   "execution_count": 4,
   "metadata": {},
   "outputs": [
    {
     "data": {
      "text/html": [
       "<table>\n",
       "<caption>A matrix: 30 × 7 of type lgl</caption>\n",
       "<thead>\n",
       "\t<tr><th scope=col>rating</th><th scope=col>complaints</th><th scope=col>privileges</th><th scope=col>learning</th><th scope=col>raises</th><th scope=col>critical</th><th scope=col>advance</th></tr>\n",
       "</thead>\n",
       "<tbody>\n",
       "\t<tr><td>FALSE</td><td>FALSE</td><td>FALSE</td><td>FALSE</td><td>FALSE</td><td>FALSE</td><td>FALSE</td></tr>\n",
       "\t<tr><td>FALSE</td><td>FALSE</td><td>FALSE</td><td>FALSE</td><td>FALSE</td><td>FALSE</td><td>FALSE</td></tr>\n",
       "\t<tr><td>FALSE</td><td>FALSE</td><td>FALSE</td><td>FALSE</td><td>FALSE</td><td>FALSE</td><td>FALSE</td></tr>\n",
       "\t<tr><td>FALSE</td><td>FALSE</td><td>FALSE</td><td>FALSE</td><td>FALSE</td><td>FALSE</td><td>FALSE</td></tr>\n",
       "\t<tr><td>FALSE</td><td>FALSE</td><td>FALSE</td><td>FALSE</td><td>FALSE</td><td>FALSE</td><td>FALSE</td></tr>\n",
       "\t<tr><td>FALSE</td><td>FALSE</td><td>FALSE</td><td>FALSE</td><td>FALSE</td><td>FALSE</td><td>FALSE</td></tr>\n",
       "\t<tr><td>FALSE</td><td>FALSE</td><td>FALSE</td><td>FALSE</td><td>FALSE</td><td>FALSE</td><td>FALSE</td></tr>\n",
       "\t<tr><td>FALSE</td><td>FALSE</td><td>FALSE</td><td>FALSE</td><td>FALSE</td><td>FALSE</td><td>FALSE</td></tr>\n",
       "\t<tr><td>FALSE</td><td>FALSE</td><td>FALSE</td><td>FALSE</td><td>FALSE</td><td>FALSE</td><td>FALSE</td></tr>\n",
       "\t<tr><td>FALSE</td><td>FALSE</td><td>FALSE</td><td>FALSE</td><td>FALSE</td><td>FALSE</td><td>FALSE</td></tr>\n",
       "\t<tr><td>FALSE</td><td>FALSE</td><td>FALSE</td><td>FALSE</td><td>FALSE</td><td>FALSE</td><td>FALSE</td></tr>\n",
       "\t<tr><td>FALSE</td><td>FALSE</td><td>FALSE</td><td>FALSE</td><td>FALSE</td><td>FALSE</td><td>FALSE</td></tr>\n",
       "\t<tr><td>FALSE</td><td>FALSE</td><td>FALSE</td><td>FALSE</td><td>FALSE</td><td>FALSE</td><td>FALSE</td></tr>\n",
       "\t<tr><td>FALSE</td><td>FALSE</td><td>FALSE</td><td>FALSE</td><td>FALSE</td><td>FALSE</td><td>FALSE</td></tr>\n",
       "\t<tr><td>FALSE</td><td>FALSE</td><td>FALSE</td><td>FALSE</td><td>FALSE</td><td>FALSE</td><td>FALSE</td></tr>\n",
       "\t<tr><td>FALSE</td><td>FALSE</td><td>FALSE</td><td>FALSE</td><td>FALSE</td><td>FALSE</td><td>FALSE</td></tr>\n",
       "\t<tr><td>FALSE</td><td>FALSE</td><td>FALSE</td><td>FALSE</td><td>FALSE</td><td>FALSE</td><td>FALSE</td></tr>\n",
       "\t<tr><td>FALSE</td><td>FALSE</td><td>FALSE</td><td>FALSE</td><td>FALSE</td><td>FALSE</td><td>FALSE</td></tr>\n",
       "\t<tr><td>FALSE</td><td>FALSE</td><td>FALSE</td><td>FALSE</td><td>FALSE</td><td>FALSE</td><td>FALSE</td></tr>\n",
       "\t<tr><td>FALSE</td><td>FALSE</td><td>FALSE</td><td>FALSE</td><td>FALSE</td><td>FALSE</td><td>FALSE</td></tr>\n",
       "\t<tr><td>FALSE</td><td>FALSE</td><td>FALSE</td><td>FALSE</td><td>FALSE</td><td>FALSE</td><td>FALSE</td></tr>\n",
       "\t<tr><td>FALSE</td><td>FALSE</td><td>FALSE</td><td>FALSE</td><td>FALSE</td><td>FALSE</td><td>FALSE</td></tr>\n",
       "\t<tr><td>FALSE</td><td>FALSE</td><td>FALSE</td><td>FALSE</td><td>FALSE</td><td>FALSE</td><td>FALSE</td></tr>\n",
       "\t<tr><td>FALSE</td><td>FALSE</td><td>FALSE</td><td>FALSE</td><td>FALSE</td><td>FALSE</td><td>FALSE</td></tr>\n",
       "\t<tr><td>FALSE</td><td>FALSE</td><td>FALSE</td><td>FALSE</td><td>FALSE</td><td>FALSE</td><td>FALSE</td></tr>\n",
       "\t<tr><td>FALSE</td><td>FALSE</td><td>FALSE</td><td>FALSE</td><td>FALSE</td><td>FALSE</td><td>FALSE</td></tr>\n",
       "\t<tr><td>FALSE</td><td>FALSE</td><td>FALSE</td><td>FALSE</td><td>FALSE</td><td>FALSE</td><td>FALSE</td></tr>\n",
       "\t<tr><td>FALSE</td><td>FALSE</td><td>FALSE</td><td>FALSE</td><td>FALSE</td><td>FALSE</td><td>FALSE</td></tr>\n",
       "\t<tr><td>FALSE</td><td>FALSE</td><td>FALSE</td><td>FALSE</td><td>FALSE</td><td>FALSE</td><td>FALSE</td></tr>\n",
       "\t<tr><td>FALSE</td><td>FALSE</td><td>FALSE</td><td>FALSE</td><td>FALSE</td><td>FALSE</td><td>FALSE</td></tr>\n",
       "</tbody>\n",
       "</table>\n"
      ],
      "text/latex": [
       "A matrix: 30 × 7 of type lgl\n",
       "\\begin{tabular}{lllllll}\n",
       " rating & complaints & privileges & learning & raises & critical & advance\\\\\n",
       "\\hline\n",
       "\t FALSE & FALSE & FALSE & FALSE & FALSE & FALSE & FALSE\\\\\n",
       "\t FALSE & FALSE & FALSE & FALSE & FALSE & FALSE & FALSE\\\\\n",
       "\t FALSE & FALSE & FALSE & FALSE & FALSE & FALSE & FALSE\\\\\n",
       "\t FALSE & FALSE & FALSE & FALSE & FALSE & FALSE & FALSE\\\\\n",
       "\t FALSE & FALSE & FALSE & FALSE & FALSE & FALSE & FALSE\\\\\n",
       "\t FALSE & FALSE & FALSE & FALSE & FALSE & FALSE & FALSE\\\\\n",
       "\t FALSE & FALSE & FALSE & FALSE & FALSE & FALSE & FALSE\\\\\n",
       "\t FALSE & FALSE & FALSE & FALSE & FALSE & FALSE & FALSE\\\\\n",
       "\t FALSE & FALSE & FALSE & FALSE & FALSE & FALSE & FALSE\\\\\n",
       "\t FALSE & FALSE & FALSE & FALSE & FALSE & FALSE & FALSE\\\\\n",
       "\t FALSE & FALSE & FALSE & FALSE & FALSE & FALSE & FALSE\\\\\n",
       "\t FALSE & FALSE & FALSE & FALSE & FALSE & FALSE & FALSE\\\\\n",
       "\t FALSE & FALSE & FALSE & FALSE & FALSE & FALSE & FALSE\\\\\n",
       "\t FALSE & FALSE & FALSE & FALSE & FALSE & FALSE & FALSE\\\\\n",
       "\t FALSE & FALSE & FALSE & FALSE & FALSE & FALSE & FALSE\\\\\n",
       "\t FALSE & FALSE & FALSE & FALSE & FALSE & FALSE & FALSE\\\\\n",
       "\t FALSE & FALSE & FALSE & FALSE & FALSE & FALSE & FALSE\\\\\n",
       "\t FALSE & FALSE & FALSE & FALSE & FALSE & FALSE & FALSE\\\\\n",
       "\t FALSE & FALSE & FALSE & FALSE & FALSE & FALSE & FALSE\\\\\n",
       "\t FALSE & FALSE & FALSE & FALSE & FALSE & FALSE & FALSE\\\\\n",
       "\t FALSE & FALSE & FALSE & FALSE & FALSE & FALSE & FALSE\\\\\n",
       "\t FALSE & FALSE & FALSE & FALSE & FALSE & FALSE & FALSE\\\\\n",
       "\t FALSE & FALSE & FALSE & FALSE & FALSE & FALSE & FALSE\\\\\n",
       "\t FALSE & FALSE & FALSE & FALSE & FALSE & FALSE & FALSE\\\\\n",
       "\t FALSE & FALSE & FALSE & FALSE & FALSE & FALSE & FALSE\\\\\n",
       "\t FALSE & FALSE & FALSE & FALSE & FALSE & FALSE & FALSE\\\\\n",
       "\t FALSE & FALSE & FALSE & FALSE & FALSE & FALSE & FALSE\\\\\n",
       "\t FALSE & FALSE & FALSE & FALSE & FALSE & FALSE & FALSE\\\\\n",
       "\t FALSE & FALSE & FALSE & FALSE & FALSE & FALSE & FALSE\\\\\n",
       "\t FALSE & FALSE & FALSE & FALSE & FALSE & FALSE & FALSE\\\\\n",
       "\\end{tabular}\n"
      ],
      "text/markdown": [
       "\n",
       "A matrix: 30 × 7 of type lgl\n",
       "\n",
       "| rating | complaints | privileges | learning | raises | critical | advance |\n",
       "|---|---|---|---|---|---|---|\n",
       "| FALSE | FALSE | FALSE | FALSE | FALSE | FALSE | FALSE |\n",
       "| FALSE | FALSE | FALSE | FALSE | FALSE | FALSE | FALSE |\n",
       "| FALSE | FALSE | FALSE | FALSE | FALSE | FALSE | FALSE |\n",
       "| FALSE | FALSE | FALSE | FALSE | FALSE | FALSE | FALSE |\n",
       "| FALSE | FALSE | FALSE | FALSE | FALSE | FALSE | FALSE |\n",
       "| FALSE | FALSE | FALSE | FALSE | FALSE | FALSE | FALSE |\n",
       "| FALSE | FALSE | FALSE | FALSE | FALSE | FALSE | FALSE |\n",
       "| FALSE | FALSE | FALSE | FALSE | FALSE | FALSE | FALSE |\n",
       "| FALSE | FALSE | FALSE | FALSE | FALSE | FALSE | FALSE |\n",
       "| FALSE | FALSE | FALSE | FALSE | FALSE | FALSE | FALSE |\n",
       "| FALSE | FALSE | FALSE | FALSE | FALSE | FALSE | FALSE |\n",
       "| FALSE | FALSE | FALSE | FALSE | FALSE | FALSE | FALSE |\n",
       "| FALSE | FALSE | FALSE | FALSE | FALSE | FALSE | FALSE |\n",
       "| FALSE | FALSE | FALSE | FALSE | FALSE | FALSE | FALSE |\n",
       "| FALSE | FALSE | FALSE | FALSE | FALSE | FALSE | FALSE |\n",
       "| FALSE | FALSE | FALSE | FALSE | FALSE | FALSE | FALSE |\n",
       "| FALSE | FALSE | FALSE | FALSE | FALSE | FALSE | FALSE |\n",
       "| FALSE | FALSE | FALSE | FALSE | FALSE | FALSE | FALSE |\n",
       "| FALSE | FALSE | FALSE | FALSE | FALSE | FALSE | FALSE |\n",
       "| FALSE | FALSE | FALSE | FALSE | FALSE | FALSE | FALSE |\n",
       "| FALSE | FALSE | FALSE | FALSE | FALSE | FALSE | FALSE |\n",
       "| FALSE | FALSE | FALSE | FALSE | FALSE | FALSE | FALSE |\n",
       "| FALSE | FALSE | FALSE | FALSE | FALSE | FALSE | FALSE |\n",
       "| FALSE | FALSE | FALSE | FALSE | FALSE | FALSE | FALSE |\n",
       "| FALSE | FALSE | FALSE | FALSE | FALSE | FALSE | FALSE |\n",
       "| FALSE | FALSE | FALSE | FALSE | FALSE | FALSE | FALSE |\n",
       "| FALSE | FALSE | FALSE | FALSE | FALSE | FALSE | FALSE |\n",
       "| FALSE | FALSE | FALSE | FALSE | FALSE | FALSE | FALSE |\n",
       "| FALSE | FALSE | FALSE | FALSE | FALSE | FALSE | FALSE |\n",
       "| FALSE | FALSE | FALSE | FALSE | FALSE | FALSE | FALSE |\n",
       "\n"
      ],
      "text/plain": [
       "      rating complaints privileges learning raises critical advance\n",
       " [1,] FALSE  FALSE      FALSE      FALSE    FALSE  FALSE    FALSE  \n",
       " [2,] FALSE  FALSE      FALSE      FALSE    FALSE  FALSE    FALSE  \n",
       " [3,] FALSE  FALSE      FALSE      FALSE    FALSE  FALSE    FALSE  \n",
       " [4,] FALSE  FALSE      FALSE      FALSE    FALSE  FALSE    FALSE  \n",
       " [5,] FALSE  FALSE      FALSE      FALSE    FALSE  FALSE    FALSE  \n",
       " [6,] FALSE  FALSE      FALSE      FALSE    FALSE  FALSE    FALSE  \n",
       " [7,] FALSE  FALSE      FALSE      FALSE    FALSE  FALSE    FALSE  \n",
       " [8,] FALSE  FALSE      FALSE      FALSE    FALSE  FALSE    FALSE  \n",
       " [9,] FALSE  FALSE      FALSE      FALSE    FALSE  FALSE    FALSE  \n",
       "[10,] FALSE  FALSE      FALSE      FALSE    FALSE  FALSE    FALSE  \n",
       "[11,] FALSE  FALSE      FALSE      FALSE    FALSE  FALSE    FALSE  \n",
       "[12,] FALSE  FALSE      FALSE      FALSE    FALSE  FALSE    FALSE  \n",
       "[13,] FALSE  FALSE      FALSE      FALSE    FALSE  FALSE    FALSE  \n",
       "[14,] FALSE  FALSE      FALSE      FALSE    FALSE  FALSE    FALSE  \n",
       "[15,] FALSE  FALSE      FALSE      FALSE    FALSE  FALSE    FALSE  \n",
       "[16,] FALSE  FALSE      FALSE      FALSE    FALSE  FALSE    FALSE  \n",
       "[17,] FALSE  FALSE      FALSE      FALSE    FALSE  FALSE    FALSE  \n",
       "[18,] FALSE  FALSE      FALSE      FALSE    FALSE  FALSE    FALSE  \n",
       "[19,] FALSE  FALSE      FALSE      FALSE    FALSE  FALSE    FALSE  \n",
       "[20,] FALSE  FALSE      FALSE      FALSE    FALSE  FALSE    FALSE  \n",
       "[21,] FALSE  FALSE      FALSE      FALSE    FALSE  FALSE    FALSE  \n",
       "[22,] FALSE  FALSE      FALSE      FALSE    FALSE  FALSE    FALSE  \n",
       "[23,] FALSE  FALSE      FALSE      FALSE    FALSE  FALSE    FALSE  \n",
       "[24,] FALSE  FALSE      FALSE      FALSE    FALSE  FALSE    FALSE  \n",
       "[25,] FALSE  FALSE      FALSE      FALSE    FALSE  FALSE    FALSE  \n",
       "[26,] FALSE  FALSE      FALSE      FALSE    FALSE  FALSE    FALSE  \n",
       "[27,] FALSE  FALSE      FALSE      FALSE    FALSE  FALSE    FALSE  \n",
       "[28,] FALSE  FALSE      FALSE      FALSE    FALSE  FALSE    FALSE  \n",
       "[29,] FALSE  FALSE      FALSE      FALSE    FALSE  FALSE    FALSE  \n",
       "[30,] FALSE  FALSE      FALSE      FALSE    FALSE  FALSE    FALSE  "
      ]
     },
     "metadata": {},
     "output_type": "display_data"
    }
   ],
   "source": [
    "is.na(data)"
   ]
  },
  {
   "cell_type": "code",
   "execution_count": 5,
   "metadata": {},
   "outputs": [
    {
     "name": "stdout",
     "output_type": "stream",
     "text": [
      "'data.frame':\t30 obs. of  7 variables:\n",
      " $ rating    : int  43 63 71 61 81 43 58 71 72 67 ...\n",
      " $ complaints: int  51 64 70 63 78 55 67 75 82 61 ...\n",
      " $ privileges: int  30 51 68 45 56 49 42 50 72 45 ...\n",
      " $ learning  : int  39 54 69 47 66 44 56 55 67 47 ...\n",
      " $ raises    : int  61 63 76 54 71 54 66 70 71 62 ...\n",
      " $ critical  : int  92 73 86 84 83 49 68 66 83 80 ...\n",
      " $ advance   : int  45 47 48 35 47 34 35 41 31 41 ...\n"
     ]
    }
   ],
   "source": [
    "str(data)"
   ]
  },
  {
   "cell_type": "code",
   "execution_count": 6,
   "metadata": {},
   "outputs": [
    {
     "name": "stdout",
     "output_type": "stream",
     "text": [
      "[1] \"Number of rows: 30\"\n",
      "[1] \"Number of cols: 7\"\n"
     ]
    }
   ],
   "source": [
    "print(paste('Number of rows:', nrow(data)))\n",
    "print(paste('Number of cols:', ncol(data)))"
   ]
  },
  {
   "cell_type": "code",
   "execution_count": 7,
   "metadata": {},
   "outputs": [
    {
     "data": {
      "image/png": "[encoded data removed]",
      "text/plain": [
       "Plot with title \"privileges & learning\""
      ]
     },
     "metadata": {
      "image/png": {
       "height": 420,
       "width": 420
      }
     },
     "output_type": "display_data"
    }
   ],
   "source": [
    "# Plot chart\n",
    "plot(x = data$privileges, y = data$learning,\n",
    "     xlab='privileges', ylab='learning',\n",
    "     main = 'privileges & learning', col=c('orange','darkgreen'))"
   ]
  },
  {
   "cell_type": "markdown",
   "metadata": {},
   "source": [
    "## Remarks:\n",
    "- The data distribute in chaos\n",
    "- As eyes observed, data could be cluster <= 6 groups"
   ]
  },
  {
   "cell_type": "code",
   "execution_count": 8,
   "metadata": {},
   "outputs": [
    {
     "data": {
      "image/png": "[encoded data removed]",
      "text/plain": [
       "plot without title"
      ]
     },
     "metadata": {
      "image/png": {
       "height": 420,
       "width": 420
      }
     },
     "output_type": "display_data"
    }
   ],
   "source": [
    "# Determine number of clusters\n",
    "wss = (nrow(data)-1)-sum(apply(data,2,var))\n",
    "for (i in 1:10) wss[i] = sum(kmeans(data[,3:4],\n",
    "                                    centers=i, nstart = 20)$withinss)\n",
    "plot(1:10, wss, type='b', xlab = 'Number of Clusters',\n",
    "     ylab='Within groups sum of squares')"
   ]
  },
  {
   "cell_type": "code",
   "execution_count": 11,
   "metadata": {},
   "outputs": [
    {
     "name": "stdout",
     "output_type": "stream",
     "text": [
      "K-means clustering with 6 clusters of sizes 6, 4, 8, 2, 2, 8\n",
      "\n",
      "Cluster means:\n",
      "  privileges learning\n",
      "1   67.66667   69.000\n",
      "2   54.50000   71.000\n",
      "3   47.62500   45.250\n",
      "4   31.50000   36.500\n",
      "5   75.50000   49.500\n",
      "6   46.87500   57.375\n",
      "\n",
      "Clustering vector:\n",
      " [1] 4 6 1 3 2 3 6 6 1 3 6 3 3 5 2 2 1 1 6 5 4 6 3 6 3 1 2 3 1 6\n",
      "\n",
      "Within cluster sum of squares by cluster:\n",
      "[1] 133.3333  71.0000 255.3750  17.0000 153.0000 244.7500\n",
      " (between_SS / total_SS =  89.5 %)\n",
      "\n",
      "Available components:\n",
      "\n",
      "[1] \"cluster\"      \"centers\"      \"totss\"        \"withinss\"     \"tot.withinss\"\n",
      "[6] \"betweenss\"    \"size\"         \"iter\"         \"ifault\"      \n"
     ]
    }
   ],
   "source": [
    "# clustering (k = 6)\n",
    "set.seed(20)\n",
    "dataCluster = kmeans(data[,3:4], centers = 6, nstart=20)\n",
    "print(dataCluster)"
   ]
  },
  {
   "cell_type": "code",
   "execution_count": 12,
   "metadata": {},
   "outputs": [
    {
     "name": "stdout",
     "output_type": "stream",
     "text": [
      "[1] \"Centroid points:\"\n",
      "  privileges learning\n",
      "1   67.66667   69.000\n",
      "2   54.50000   71.000\n",
      "3   47.62500   45.250\n",
      "4   31.50000   36.500\n",
      "5   75.50000   49.500\n",
      "6   46.87500   57.375\n"
     ]
    }
   ],
   "source": [
    "print('Centroid points:')\n",
    "print(dataCluster$centers)"
   ]
  },
  {
   "cell_type": "code",
   "execution_count": 14,
   "metadata": {},
   "outputs": [
    {
     "name": "stdout",
     "output_type": "stream",
     "text": [
      "List of 9\n",
      " $ cluster     : Factor w/ 6 levels \"1\",\"2\",\"3\",\"4\",..: 4 6 1 3 2 3 6 6 1 3 ...\n",
      " $ centers     : num [1:6, 1:2] 67.7 54.5 47.6 31.5 75.5 ...\n",
      "  ..- attr(*, \"dimnames\")=List of 2\n",
      "  .. ..$ : chr [1:6] \"1\" \"2\" \"3\" \"4\" ...\n",
      "  .. ..$ : chr [1:2] \"privileges\" \"learning\"\n",
      " $ totss       : num 8336\n",
      " $ withinss    : num [1:6] 133 71 255 17 153 ...\n",
      " $ tot.withinss: num 874\n",
      " $ betweenss   : num 7462\n",
      " $ size        : int [1:6] 6 4 8 2 2 8\n",
      " $ iter        : int 3\n",
      " $ ifault      : int 0\n",
      " - attr(*, \"class\")= chr \"kmeans\"\n"
     ]
    }
   ],
   "source": [
    "str(dataCluster)"
   ]
  },
  {
   "cell_type": "code",
   "execution_count": 18,
   "metadata": {},
   "outputs": [
    {
     "data": {
      "text/html": [
       "<style>\n",
       ".list-inline {list-style: none; margin:0; padding: 0}\n",
       ".list-inline>li {display: inline-block}\n",
       ".list-inline>li:not(:last-child)::after {content: \"\\00b7\"; padding: 0 .5ex}\n",
       "</style>\n",
       "<ol class=list-inline><li>4</li><li>6</li><li>1</li><li>3</li><li>2</li><li>3</li><li>6</li><li>6</li><li>1</li><li>3</li><li>6</li><li>3</li><li>3</li><li>5</li><li>2</li><li>2</li><li>1</li><li>1</li><li>6</li><li>5</li><li>4</li><li>6</li><li>3</li><li>6</li><li>3</li><li>1</li><li>2</li><li>3</li><li>1</li><li>6</li></ol>\n"
      ],
      "text/latex": [
       "\\begin{enumerate*}\n",
       "\\item 4\n",
       "\\item 6\n",
       "\\item 1\n",
       "\\item 3\n",
       "\\item 2\n",
       "\\item 3\n",
       "\\item 6\n",
       "\\item 6\n",
       "\\item 1\n",
       "\\item 3\n",
       "\\item 6\n",
       "\\item 3\n",
       "\\item 3\n",
       "\\item 5\n",
       "\\item 2\n",
       "\\item 2\n",
       "\\item 1\n",
       "\\item 1\n",
       "\\item 6\n",
       "\\item 5\n",
       "\\item 4\n",
       "\\item 6\n",
       "\\item 3\n",
       "\\item 6\n",
       "\\item 3\n",
       "\\item 1\n",
       "\\item 2\n",
       "\\item 3\n",
       "\\item 1\n",
       "\\item 6\n",
       "\\end{enumerate*}\n"
      ],
      "text/markdown": [
       "1. 4\n",
       "2. 6\n",
       "3. 1\n",
       "4. 3\n",
       "5. 2\n",
       "6. 3\n",
       "7. 6\n",
       "8. 6\n",
       "9. 1\n",
       "10. 3\n",
       "11. 6\n",
       "12. 3\n",
       "13. 3\n",
       "14. 5\n",
       "15. 2\n",
       "16. 2\n",
       "17. 1\n",
       "18. 1\n",
       "19. 6\n",
       "20. 5\n",
       "21. 4\n",
       "22. 6\n",
       "23. 3\n",
       "24. 6\n",
       "25. 3\n",
       "26. 1\n",
       "27. 2\n",
       "28. 3\n",
       "29. 1\n",
       "30. 6\n",
       "\n",
       "\n"
      ],
      "text/plain": [
       " [1] 4 6 1 3 2 3 6 6 1 3 6 3 3 5 2 2 1 1 6 5 4 6 3 6 3 1 2 3 1 6"
      ]
     },
     "metadata": {},
     "output_type": "display_data"
    }
   ],
   "source": [
    "# Determine which sample belongs to its group\n",
    "data_new = data.frame(x=data$privileges, y=data$learning)\n",
    "\n",
    "clusters = function(x, centers){\n",
    "    # compute squared euclidean distance from each sample to each cluster center\n",
    "    tmp = sapply(seq_len(nrow(x)),\n",
    "                function(i) apply(centers, 1, function(v) sum((x[i,]-v)^2)))\n",
    "    max.col(-t(tmp)) # find index of mindistance\n",
    "}\n",
    "new = clusters(data_new, dataCluster[['centers']]) \n",
    "new                                  "
   ]
  },
  {
   "cell_type": "code",
   "execution_count": 15,
   "metadata": {},
   "outputs": [
    {
     "data": {
      "image/png": "[encoded data removed]",
      "text/plain": [
       "Plot with title \"privileges vs learning\""
      ]
     },
     "metadata": {
      "image/png": {
       "height": 420,
       "width": 420
      }
     },
     "output_type": "display_data"
    }
   ],
   "source": [
    "# Plot the chart\n",
    "dataCluster$cluster = as.factor(dataCluster$cluster)\n",
    "plot(x=data$privileges, y=data$learning,\n",
    "     xlab='privileges', ylab='learning',\n",
    "     main=\"privileges vs learning\",col=dataCluster$cluster, pch=15)"
   ]
  },
  {
   "cell_type": "markdown",
   "metadata": {},
   "source": [
    "## Remarks:\n",
    "- There are 6 groups in total\n",
    "- Group 1: centroid(67.66667, 69.000), privileges around 64 to 72, learning around 62 to 75\n",
    "- Group 2: centroid(54.50000, 71.000), privileges around 50 to 60, learning around 65 to 73\n",
    "- Group 3: centroid(47.62500, 45.250), privileges around 42 to 58, learning around 38 to 49\n",
    "- Group 4: centroid(31.50000, 36.500), privileges around 30 to 32, learning around 10 to 38\n",
    "- Group 5: centroid(75.50000, 49.500), privileges around 68 to 84, learning around 45 to 53\n",
    "- Group 6: centroid(46.87500, 57.375), privileges around 40 to 54, learning around 53 to 62"
   ]
  },
  {
   "cell_type": "code",
   "execution_count": 16,
   "metadata": {},
   "outputs": [
    {
     "name": "stderr",
     "output_type": "stream",
     "text": [
      "Loading required package: ggplot2\n",
      "\n",
      "Welcome! Want to learn more? See two factoextra-related books at https://goo.gl/ve3WBa\n",
      "\n"
     ]
    }
   ],
   "source": [
    "library(factoextra)"
   ]
  },
  {
   "cell_type": "code",
   "execution_count": 17,
   "metadata": {},
   "outputs": [
    {
     "data": {
      "image/png": "[encoded data removed]",
      "text/plain": [
       "plot without title"
      ]
     },
     "metadata": {
      "image/png": {
       "height": 420,
       "width": 420
      }
     },
     "output_type": "display_data"
    }
   ],
   "source": [
    "fviz_cluster(dataCluster, geom='point', data=data) +\n",
    "ggtitle('k = 6')"
   ]
  },
  {
   "cell_type": "code",
   "execution_count": null,
   "metadata": {},
   "outputs": [],
   "source": []
  }
 ],
 "metadata": {
  "kernelspec": {
   "display_name": "R",
   "language": "R",
   "name": "ir"
  },
  "language_info": {
   "codemirror_mode": "r",
   "file_extension": ".r",
   "mimetype": "text/x-r-source",
   "name": "R",
   "pygments_lexer": "r",
   "version": "4.0.2"
  }
 },
 "nbformat": 4,
 "nbformat_minor": 4
}
