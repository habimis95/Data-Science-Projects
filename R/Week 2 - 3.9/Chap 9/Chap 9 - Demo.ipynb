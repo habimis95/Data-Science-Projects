{
 "cells": [
  {
   "cell_type": "code",
   "execution_count": 1,
   "metadata": {},
   "outputs": [
    {
     "name": "stdout",
     "output_type": "stream",
     "text": [
      "[1] \"D:/New folder\"\n"
     ]
    }
   ],
   "source": [
    "# Get and print current working directory\n",
    "print(getwd())\n"
   ]
  },
  {
   "cell_type": "markdown",
   "metadata": {},
   "source": [
    "# Text"
   ]
  },
  {
   "cell_type": "code",
   "execution_count": 8,
   "metadata": {},
   "outputs": [
    {
     "name": "stdout",
     "output_type": "stream",
     "text": [
      "[1] \"These data files are derived by splitting up the data set downloaded from:\"\n",
      "[2] \"https://www.ontario.ca/data/ontario-public-schools-enrolment\"              \n",
      "[3] \"under the Open Government License - Ontario:\"                              \n",
      "[4] \"https://www.ontario.ca/page/open-government-licence-ontario\"               \n"
     ]
    }
   ],
   "source": [
    "content = readLines('Cung cap buoi 4/Du_lieu/license.txt')\n",
    "print(content)"
   ]
  },
  {
   "cell_type": "code",
   "execution_count": 9,
   "metadata": {},
   "outputs": [
    {
     "name": "stdout",
     "output_type": "stream",
     "text": [
      "[1] \"<U+FEFF>Mùa xuân là T<U+1EBF>t tr<U+1ED3>ng cây\"\n",
      "[2] \"Làm cho d<U+1EA5>t nu<U+1EDB>c càng ngày càng xuân\"\n",
      "[3] \"\"                                    \n"
     ]
    }
   ],
   "source": [
    "# tap tin co dau\n",
    "content = readLines('Cung cap buoi 4/Du_lieu/bai_tho.txt', encoding='UTF-8')\n",
    "print(content)"
   ]
  },
  {
   "cell_type": "code",
   "execution_count": 10,
   "metadata": {},
   "outputs": [
    {
     "name": "stdout",
     "output_type": "stream",
     "text": [
      "[1] \"These data files are derived by splitting up the data set downloaded from:\"\n",
      "[2] \"https://www.ontario.ca/data/ontario-public-schools-enrolment\"              \n",
      "[3] \"under the Open Government License - Ontario:\"                              \n",
      "[4] \"https://www.ontario.ca/page/open-government-licence-ontario\"               \n"
     ]
    }
   ],
   "source": [
    "content1 = readLines('Cung cap buoi 4/Du_lieu/license.txt')\n",
    "print(content1)"
   ]
  },
  {
   "cell_type": "code",
   "execution_count": 11,
   "metadata": {},
   "outputs": [
    {
     "name": "stdout",
     "output_type": "stream",
     "text": [
      "[1] 4\n"
     ]
    }
   ],
   "source": [
    "print(length(content1))"
   ]
  },
  {
   "cell_type": "code",
   "execution_count": 12,
   "metadata": {},
   "outputs": [
    {
     "name": "stdout",
     "output_type": "stream",
     "text": [
      "[1] 74 60 44 59\n"
     ]
    }
   ],
   "source": [
    "print(nchar(content1))"
   ]
  },
  {
   "cell_type": "code",
   "execution_count": 13,
   "metadata": {},
   "outputs": [
    {
     "name": "stdout",
     "output_type": "stream",
     "text": [
      "[1] 242\n"
     ]
    }
   ],
   "source": [
    "print(file.size('Cung cap buoi 4/Du_lieu/license.txt'))"
   ]
  },
  {
   "cell_type": "code",
   "execution_count": 15,
   "metadata": {},
   "outputs": [
    {
     "name": "stdout",
     "output_type": "stream",
     "text": [
      " [1] \"These\"                                                       \n",
      " [2] \"data\"                                                        \n",
      " [3] \"files\"                                                       \n",
      " [4] \"are\"                                                         \n",
      " [5] \"derived\"                                                     \n",
      " [6] \"by\"                                                          \n",
      " [7] \"splitting\"                                                   \n",
      " [8] \"up\"                                                          \n",
      " [9] \"the\"                                                         \n",
      "[10] \"data\"                                                        \n",
      "[11] \"set\"                                                         \n",
      "[12] \"downloaded\"                                                  \n",
      "[13] \"from:\"                                                       \n",
      "[14] \"https://www.ontario.ca/data/ontario-public-schools-enrolment\"\n",
      "[15] \"under\"                                                       \n",
      "[16] \"the\"                                                         \n",
      "[17] \"Open\"                                                        \n",
      "[18] \"Government\"                                                  \n",
      "[19] \"License\"                                                     \n",
      "[20] \"-\"                                                           \n",
      "[21] \"Ontario:\"                                                    \n",
      "[22] \"https://www.ontario.ca/page/open-government-licence-ontario\" \n"
     ]
    }
   ],
   "source": [
    "# scan()\n",
    "content1 = scan('Cung cap buoi 4/Du_lieu/license.txt', '')\n",
    "print(content1)"
   ]
  },
  {
   "cell_type": "code",
   "execution_count": 17,
   "metadata": {},
   "outputs": [
    {
     "name": "stdout",
     "output_type": "stream",
     "text": [
      "        V1 V2  V3 V4 V5\n",
      "1     Alex 25 177 57  F\n",
      "2    Lilly 31 163 69  F\n",
      "3     Mark 23 190 83  M\n",
      "4   Oliver 52 179 75  M\n",
      "5   Martha 76 163 70  F\n",
      "6    Lucas 49 183 83  M\n",
      "7 Caroline 26 164 53  F\n"
     ]
    }
   ],
   "source": [
    "# read.table\n",
    "df = read.table('Cung cap buoi 4/Du_lieu/Table0.txt')\n",
    "print(df)"
   ]
  },
  {
   "cell_type": "code",
   "execution_count": 18,
   "metadata": {},
   "outputs": [
    {
     "name": "stdout",
     "output_type": "stream",
     "text": [
      "[1] \"Hello and welcome\" \"Hello and welcome\" \"Hello and welcome\"\n"
     ]
    }
   ],
   "source": [
    "content2 = 'Hello and welcome'\n",
    "file_name = file(description = 'Cung cap buoi 4/Du_lieu/text.txt', open='a',encoding='UTF-8')\n",
    "write(content2,file=file_name)\n",
    "content2 = readLines('Cung cap buoi 4/Du_lieu/text.txt')\n",
    "print(content2)"
   ]
  },
  {
   "cell_type": "code",
   "execution_count": 19,
   "metadata": {},
   "outputs": [
    {
     "name": "stdout",
     "output_type": "stream",
     "text": [
      "[1] \"1 2 3\" \"4 5 6\" \"7 8 9\"\n"
     ]
    }
   ],
   "source": [
    "content2 = matrix(c(1:9),nrow=3,ncol=3)\n",
    "write(content2, file='Cung cap buoi 4/Du_lieu/matrix.txt', ncolumns = 3 , sep = ' ')\n",
    "content2 = readLines('Cung cap buoi 4/Du_lieu/matrix.txt')\n",
    "print(content2)"
   ]
  },
  {
   "cell_type": "code",
   "execution_count": 20,
   "metadata": {},
   "outputs": [],
   "source": [
    "write.table(df, file='Cung cap buoi 4/Du_lieu/Table0_new.txt', sep='\\t')"
   ]
  },
  {
   "cell_type": "code",
   "execution_count": null,
   "metadata": {},
   "outputs": [],
   "source": []
  }
 ],
 "metadata": {
  "kernelspec": {
   "display_name": "R",
   "language": "R",
   "name": "ir"
  },
  "language_info": {
   "codemirror_mode": "r",
   "file_extension": ".r",
   "mimetype": "text/x-r-source",
   "name": "R",
   "pygments_lexer": "r",
   "version": "4.0.2"
  }
 },
 "nbformat": 4,
 "nbformat_minor": 4
}
