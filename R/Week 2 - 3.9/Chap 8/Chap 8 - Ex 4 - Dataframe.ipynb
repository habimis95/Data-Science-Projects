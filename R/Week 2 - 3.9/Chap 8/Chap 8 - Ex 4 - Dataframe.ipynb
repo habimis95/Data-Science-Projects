{
 "cells": [
  {
   "cell_type": "code",
   "execution_count": 2,
   "metadata": {},
   "outputs": [
    {
     "name": "stdout",
     "output_type": "stream",
     "text": [
      "[1] \"Data frame:\"\n",
      "           state.abb state.area     state.division state.region\n",
      "Alabama           AL      51609 East South Central        South\n",
      "Alaska            AK     589757            Pacific         West\n",
      "Arizona           AZ     113909           Mountain         West\n",
      "Arkansas          AR      53104 West South Central        South\n",
      "California        CA     158693            Pacific         West\n",
      "Colorado          CO     104247           Mountain         West\n"
     ]
    }
   ],
   "source": [
    "# tao data frame tu state.abb, state.area, state.division, state.name, state.reg\n",
    "# row names la ten cua states\n",
    "df = data.frame(state.abb, state.area, state.division, state.region, \n",
    "               row.names=state.name)\n",
    "print('Data frame:')\n",
    "print(head(df))"
   ]
  },
  {
   "cell_type": "code",
   "execution_count": 3,
   "metadata": {},
   "outputs": [
    {
     "name": "stdout",
     "output_type": "stream",
     "text": [
      "[1] \"After rename:\"\n",
      "           abb    are                div   reg\n",
      "Alabama     AL  51609 East South Central South\n",
      "Alaska      AK 589757            Pacific  West\n",
      "Arizona     AZ 113909           Mountain  West\n",
      "Arkansas    AR  53104 West South Central South\n",
      "California  CA 158693            Pacific  West\n",
      "Colorado    CO 104247           Mountain  West\n"
     ]
    }
   ],
   "source": [
    "# doi ten tat ca cac cot chi chua 3 ky tu sau dau '.'\n",
    "colnames(df) = substr(colnames(df), 7, 9)\n",
    "# sau khi doi ten\n",
    "print('After rename:')\n",
    "print(head(df))"
   ]
  },
  {
   "cell_type": "code",
   "execution_count": 4,
   "metadata": {},
   "outputs": [
    {
     "name": "stdout",
     "output_type": "stream",
     "text": [
      "[1] \"New data frame:\"\n",
      "           Population Income Illiteracy Life Exp Murder HS Grad Frost   Area\n",
      "Alabama          3615   3624        2.1    69.05   15.1    41.3    20  50708\n",
      "Alaska            365   6315        1.5    69.31   11.3    66.7   152 566432\n",
      "Arizona          2212   4530        1.8    70.55    7.8    58.1    15 113417\n",
      "Arkansas         2110   3378        1.9    70.66   10.1    39.9    65  51945\n",
      "California      21198   5114        1.1    71.71   10.3    62.6    20 156361\n",
      "Colorado         2541   4884        0.7    72.06    6.8    63.9   166 103766\n",
      "           abb    are                div   reg\n",
      "Alabama     AL  51609 East South Central South\n",
      "Alaska      AK 589757            Pacific  West\n",
      "Arizona     AZ 113909           Mountain  West\n",
      "Arkansas    AR  53104 West South Central South\n",
      "California  CA 158693            Pacific  West\n",
      "Colorado    CO 104247           Mountain  West\n"
     ]
    }
   ],
   "source": [
    "# tao data frame chua state.x77 va du lieu moi tao\n",
    "df_new = cbind(state.x77, df)\n",
    "print('New data frame:')\n",
    "print(head(df_new))"
   ]
  },
  {
   "cell_type": "code",
   "execution_count": 5,
   "metadata": {},
   "outputs": [
    {
     "name": "stdout",
     "output_type": "stream",
     "text": [
      "[1] \"After drop div, Life Exp, HS Grad, Frost, abb, and are:\"\n",
      "           Population Income Illiteracy Murder   Area   reg\n",
      "Alabama          3615   3624        2.1   15.1  50708 South\n",
      "Alaska            365   6315        1.5   11.3 566432  West\n",
      "Arizona          2212   4530        1.8    7.8 113417  West\n",
      "Arkansas         2110   3378        1.9   10.1  51945 South\n",
      "California      21198   5114        1.1   10.3 156361  West\n",
      "Colorado         2541   4884        0.7    6.8 103766  West\n"
     ]
    }
   ],
   "source": [
    "# loai bo cot div\n",
    "df_new$div = NULL\n",
    "# tiep tuc loai bo cac cot Life Exp, HS Grad, Frost, abb, va are\n",
    "df_new  = subset(df_new, select = -c(4,6,7,9,10))\n",
    "print('After drop div, Life Exp, HS Grad, Frost, abb, and are:')\n",
    "print(head(df_new))"
   ]
  },
  {
   "cell_type": "code",
   "execution_count": 6,
   "metadata": {},
   "outputs": [
    {
     "name": "stdout",
     "output_type": "stream",
     "text": [
      "[1] \"After insert Illiteracy.Levels:\"\n",
      "           Population Income Illiteracy Murder   Area   reg Illiteracy.Levels\n",
      "Alabama          3615   3624        2.1   15.1  50708 South              High\n",
      "Alaska            365   6315        1.5   11.3 566432  West              Some\n",
      "Arizona          2212   4530        1.8    7.8 113417  West              Some\n",
      "Arkansas         2110   3378        1.9   10.1  51945 South              Some\n",
      "California      21198   5114        1.1   10.3 156361  West              Some\n",
      "Colorado         2541   4884        0.7    6.8 103766  West               Low\n"
     ]
    }
   ],
   "source": [
    "# them cot phan loai mu chu Illiteracy.Levels voi mo ta sau: <1 low, <2 Some, con lai la High\n",
    "df_new$Illiteracy.Levels = ifelse(df_new$Illiteracy>=0 &\n",
    "                                 df_new$Illiteracy<1,\n",
    "                                 'Low',\n",
    "                                 ifelse(df_new$Illiteracy >= 1\n",
    "                                       & df_new$Illiteracy < 2,\n",
    "                                       'Some',\n",
    "                                       'High'))\n",
    "print('After insert Illiteracy.Levels:')\n",
    "print(head(df_new))"
   ]
  },
  {
   "cell_type": "code",
   "execution_count": 7,
   "metadata": {},
   "outputs": [
    {
     "name": "stdout",
     "output_type": "stream",
     "text": [
      "[1] \"Number of Regions: 4 . There are: Northeast, South, North Central, West\"\n"
     ]
    }
   ],
   "source": [
    "# cho biet co bao nhieu vung va la nhung vung nao?\n",
    "print(paste('Number of Regions:', nlevels(df_new$reg),'. There are:',\n",
    "           toString(levels(df_new$reg))))"
   ]
  },
  {
   "cell_type": "code",
   "execution_count": null,
   "metadata": {},
   "outputs": [],
   "source": []
  }
 ],
 "metadata": {
  "kernelspec": {
   "display_name": "R",
   "language": "R",
   "name": "ir"
  },
  "language_info": {
   "codemirror_mode": "r",
   "file_extension": ".r",
   "mimetype": "text/x-r-source",
   "name": "R",
   "pygments_lexer": "r",
   "version": "4.0.2"
  }
 },
 "nbformat": 4,
 "nbformat_minor": 4
}
