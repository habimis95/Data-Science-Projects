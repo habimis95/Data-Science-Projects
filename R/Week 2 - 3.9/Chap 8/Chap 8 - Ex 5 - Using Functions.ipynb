{
 "cells": [
  {
   "cell_type": "code",
   "execution_count": 1,
   "metadata": {},
   "outputs": [
    {
     "name": "stderr",
     "output_type": "stream",
     "text": [
      "-- \u001b[1mAttaching packages\u001b[22m --------------------------------------- tidyverse 1.3.0 --\n",
      "\n",
      "\u001b[32mv\u001b[39m \u001b[34mggplot2\u001b[39m 3.3.2     \u001b[32mv\u001b[39m \u001b[34mpurrr  \u001b[39m 0.3.4\n",
      "\u001b[32mv\u001b[39m \u001b[34mtibble \u001b[39m 3.0.3     \u001b[32mv\u001b[39m \u001b[34mdplyr  \u001b[39m 1.0.2\n",
      "\u001b[32mv\u001b[39m \u001b[34mtidyr  \u001b[39m 1.1.1     \u001b[32mv\u001b[39m \u001b[34mstringr\u001b[39m 1.4.0\n",
      "\u001b[32mv\u001b[39m \u001b[34mreadr  \u001b[39m 1.3.1     \u001b[32mv\u001b[39m \u001b[34mforcats\u001b[39m 0.5.0\n",
      "\n",
      "-- \u001b[1mConflicts\u001b[22m ------------------------------------------ tidyverse_conflicts() --\n",
      "\u001b[31mx\u001b[39m \u001b[34mdplyr\u001b[39m::\u001b[32mfilter()\u001b[39m masks \u001b[34mstats\u001b[39m::filter()\n",
      "\u001b[31mx\u001b[39m \u001b[34mdplyr\u001b[39m::\u001b[32mlag()\u001b[39m    masks \u001b[34mstats\u001b[39m::lag()\n",
      "\n"
     ]
    }
   ],
   "source": [
    "library(tidyverse)"
   ]
  },
  {
   "cell_type": "code",
   "execution_count": 2,
   "metadata": {},
   "outputs": [
    {
     "name": "stdout",
     "output_type": "stream",
     "text": [
      "  id gender height weight  bmi age  bmc  bmd   fat  lean pcfat\n",
      "1  1      F    150     49 21.8  53 1312 0.88 17802 28600  37.3\n",
      "2  2      M    165     52 19.1  65 1309 0.84  8381 40229  16.8\n",
      "3  3      F    157     57 23.1  64 1230 0.84 19221 36057  34.0\n",
      "4  4      F    156     53 21.8  56 1171 0.80 17472 33094  33.8\n",
      "5  5      M    160     51 19.9  54 1681 0.98  7336 40621  14.8\n",
      "6  6      F    153     47 20.1  52 1358 0.91 14904 30068  32.2\n"
     ]
    }
   ],
   "source": [
    "data = read.csv('Obesity_data.csv')\n",
    "print(head(data))"
   ]
  },
  {
   "cell_type": "code",
   "execution_count": 3,
   "metadata": {},
   "outputs": [
    {
     "name": "stdout",
     "output_type": "stream",
     "text": [
      "  gender height weight  bmi age\n",
      "1      F    150     49 21.8  53\n",
      "2      M    165     52 19.1  65\n",
      "3      F    157     57 23.1  64\n",
      "4      F    156     53 21.8  56\n",
      "5      M    160     51 19.9  54\n",
      "6      F    153     47 20.1  52\n"
     ]
    }
   ],
   "source": [
    "# c1\n",
    "data1 = data %>% select(c(2,3,4,5,6))\n",
    "print(head(data1))"
   ]
  },
  {
   "cell_type": "code",
   "execution_count": 4,
   "metadata": {},
   "outputs": [
    {
     "data": {
      "text/html": [
       "<table>\n",
       "<caption>A data.frame: 6 × 5</caption>\n",
       "<thead>\n",
       "\t<tr><th></th><th scope=col>gender</th><th scope=col>height</th><th scope=col>weight</th><th scope=col>bmi</th><th scope=col>age</th></tr>\n",
       "\t<tr><th></th><th scope=col>&lt;chr&gt;</th><th scope=col>&lt;int&gt;</th><th scope=col>&lt;int&gt;</th><th scope=col>&lt;dbl&gt;</th><th scope=col>&lt;int&gt;</th></tr>\n",
       "</thead>\n",
       "<tbody>\n",
       "\t<tr><th scope=row>1</th><td>F</td><td>150</td><td>49</td><td>21.8</td><td>53</td></tr>\n",
       "\t<tr><th scope=row>2</th><td>M</td><td>165</td><td>52</td><td>19.1</td><td>65</td></tr>\n",
       "\t<tr><th scope=row>3</th><td>F</td><td>157</td><td>57</td><td>23.1</td><td>64</td></tr>\n",
       "\t<tr><th scope=row>4</th><td>F</td><td>156</td><td>53</td><td>21.8</td><td>56</td></tr>\n",
       "\t<tr><th scope=row>5</th><td>M</td><td>160</td><td>51</td><td>19.9</td><td>54</td></tr>\n",
       "\t<tr><th scope=row>6</th><td>F</td><td>153</td><td>47</td><td>20.1</td><td>52</td></tr>\n",
       "</tbody>\n",
       "</table>\n"
      ],
      "text/latex": [
       "A data.frame: 6 × 5\n",
       "\\begin{tabular}{r|lllll}\n",
       "  & gender & height & weight & bmi & age\\\\\n",
       "  & <chr> & <int> & <int> & <dbl> & <int>\\\\\n",
       "\\hline\n",
       "\t1 & F & 150 & 49 & 21.8 & 53\\\\\n",
       "\t2 & M & 165 & 52 & 19.1 & 65\\\\\n",
       "\t3 & F & 157 & 57 & 23.1 & 64\\\\\n",
       "\t4 & F & 156 & 53 & 21.8 & 56\\\\\n",
       "\t5 & M & 160 & 51 & 19.9 & 54\\\\\n",
       "\t6 & F & 153 & 47 & 20.1 & 52\\\\\n",
       "\\end{tabular}\n"
      ],
      "text/markdown": [
       "\n",
       "A data.frame: 6 × 5\n",
       "\n",
       "| <!--/--> | gender &lt;chr&gt; | height &lt;int&gt; | weight &lt;int&gt; | bmi &lt;dbl&gt; | age &lt;int&gt; |\n",
       "|---|---|---|---|---|---|\n",
       "| 1 | F | 150 | 49 | 21.8 | 53 |\n",
       "| 2 | M | 165 | 52 | 19.1 | 65 |\n",
       "| 3 | F | 157 | 57 | 23.1 | 64 |\n",
       "| 4 | F | 156 | 53 | 21.8 | 56 |\n",
       "| 5 | M | 160 | 51 | 19.9 | 54 |\n",
       "| 6 | F | 153 | 47 | 20.1 | 52 |\n",
       "\n"
      ],
      "text/plain": [
       "  gender height weight bmi  age\n",
       "1 F      150    49     21.8 53 \n",
       "2 M      165    52     19.1 65 \n",
       "3 F      157    57     23.1 64 \n",
       "4 F      156    53     21.8 56 \n",
       "5 M      160    51     19.9 54 \n",
       "6 F      153    47     20.1 52 "
      ]
     },
     "metadata": {},
     "output_type": "display_data"
    }
   ],
   "source": [
    "# c2\n",
    "data1 = data %>% select(gender, height, weight, bmi, age)\n",
    "head(data1)"
   ]
  },
  {
   "cell_type": "code",
   "execution_count": 5,
   "metadata": {},
   "outputs": [
    {
     "name": "stdout",
     "output_type": "stream",
     "text": [
      "  gender height weight  bmi age\n",
      "1      F    150     49 21.8  53\n",
      "2      M    165     52 19.1  65\n",
      "3      F    157     57 23.1  64\n",
      "4      F    156     53 21.8  56\n",
      "5      M    160     51 19.9  54\n",
      "6      F    153     47 20.1  52\n"
     ]
    }
   ],
   "source": [
    "data2 = data1 %>% filter(bmi>=18.5, bmi<=24.9)\n",
    "print(head(data2))"
   ]
  },
  {
   "cell_type": "code",
   "execution_count": 6,
   "metadata": {},
   "outputs": [
    {
     "name": "stdout",
     "output_type": "stream",
     "text": [
      "[1] \"Rows have bmi>=18.5 and <= 24.9:  865\"\n"
     ]
    }
   ],
   "source": [
    "print(paste('Rows have bmi>=18.5 and <= 24.9: ', nrow(data2)))"
   ]
  },
  {
   "cell_type": "code",
   "execution_count": 7,
   "metadata": {},
   "outputs": [
    {
     "data": {
      "text/html": [
       "<table>\n",
       "<caption>A data.frame: 6 × 6</caption>\n",
       "<thead>\n",
       "\t<tr><th></th><th scope=col>gender</th><th scope=col>height</th><th scope=col>weight</th><th scope=col>bmi</th><th scope=col>age</th><th scope=col>height_m</th></tr>\n",
       "\t<tr><th></th><th scope=col>&lt;chr&gt;</th><th scope=col>&lt;int&gt;</th><th scope=col>&lt;int&gt;</th><th scope=col>&lt;dbl&gt;</th><th scope=col>&lt;int&gt;</th><th scope=col>&lt;dbl&gt;</th></tr>\n",
       "</thead>\n",
       "<tbody>\n",
       "\t<tr><th scope=row>1</th><td>F</td><td>150</td><td>49</td><td>21.8</td><td>53</td><td>1.50</td></tr>\n",
       "\t<tr><th scope=row>2</th><td>M</td><td>165</td><td>52</td><td>19.1</td><td>65</td><td>1.65</td></tr>\n",
       "\t<tr><th scope=row>3</th><td>F</td><td>157</td><td>57</td><td>23.1</td><td>64</td><td>1.57</td></tr>\n",
       "\t<tr><th scope=row>4</th><td>F</td><td>156</td><td>53</td><td>21.8</td><td>56</td><td>1.56</td></tr>\n",
       "\t<tr><th scope=row>5</th><td>M</td><td>160</td><td>51</td><td>19.9</td><td>54</td><td>1.60</td></tr>\n",
       "\t<tr><th scope=row>6</th><td>F</td><td>153</td><td>47</td><td>20.1</td><td>52</td><td>1.53</td></tr>\n",
       "</tbody>\n",
       "</table>\n"
      ],
      "text/latex": [
       "A data.frame: 6 × 6\n",
       "\\begin{tabular}{r|llllll}\n",
       "  & gender & height & weight & bmi & age & height\\_m\\\\\n",
       "  & <chr> & <int> & <int> & <dbl> & <int> & <dbl>\\\\\n",
       "\\hline\n",
       "\t1 & F & 150 & 49 & 21.8 & 53 & 1.50\\\\\n",
       "\t2 & M & 165 & 52 & 19.1 & 65 & 1.65\\\\\n",
       "\t3 & F & 157 & 57 & 23.1 & 64 & 1.57\\\\\n",
       "\t4 & F & 156 & 53 & 21.8 & 56 & 1.56\\\\\n",
       "\t5 & M & 160 & 51 & 19.9 & 54 & 1.60\\\\\n",
       "\t6 & F & 153 & 47 & 20.1 & 52 & 1.53\\\\\n",
       "\\end{tabular}\n"
      ],
      "text/markdown": [
       "\n",
       "A data.frame: 6 × 6\n",
       "\n",
       "| <!--/--> | gender &lt;chr&gt; | height &lt;int&gt; | weight &lt;int&gt; | bmi &lt;dbl&gt; | age &lt;int&gt; | height_m &lt;dbl&gt; |\n",
       "|---|---|---|---|---|---|---|\n",
       "| 1 | F | 150 | 49 | 21.8 | 53 | 1.50 |\n",
       "| 2 | M | 165 | 52 | 19.1 | 65 | 1.65 |\n",
       "| 3 | F | 157 | 57 | 23.1 | 64 | 1.57 |\n",
       "| 4 | F | 156 | 53 | 21.8 | 56 | 1.56 |\n",
       "| 5 | M | 160 | 51 | 19.9 | 54 | 1.60 |\n",
       "| 6 | F | 153 | 47 | 20.1 | 52 | 1.53 |\n",
       "\n"
      ],
      "text/plain": [
       "  gender height weight bmi  age height_m\n",
       "1 F      150    49     21.8 53  1.50    \n",
       "2 M      165    52     19.1 65  1.65    \n",
       "3 F      157    57     23.1 64  1.57    \n",
       "4 F      156    53     21.8 56  1.56    \n",
       "5 M      160    51     19.9 54  1.60    \n",
       "6 F      153    47     20.1 52  1.53    "
      ]
     },
     "metadata": {},
     "output_type": "display_data"
    }
   ],
   "source": [
    "data1 = mutate(data1, height_m = height/100)\n",
    "head(data1)"
   ]
  },
  {
   "cell_type": "code",
   "execution_count": 8,
   "metadata": {},
   "outputs": [
    {
     "data": {
      "text/html": [
       "<table>\n",
       "<caption>A data.frame: 6 × 6</caption>\n",
       "<thead>\n",
       "\t<tr><th></th><th scope=col>gender</th><th scope=col>height</th><th scope=col>weight</th><th scope=col>bmi</th><th scope=col>age</th><th scope=col>height_m</th></tr>\n",
       "\t<tr><th></th><th scope=col>&lt;chr&gt;</th><th scope=col>&lt;int&gt;</th><th scope=col>&lt;int&gt;</th><th scope=col>&lt;dbl&gt;</th><th scope=col>&lt;int&gt;</th><th scope=col>&lt;dbl&gt;</th></tr>\n",
       "</thead>\n",
       "<tbody>\n",
       "\t<tr><th scope=row>1</th><td>M</td><td>162</td><td>38</td><td>14.5</td><td>55</td><td>1.62</td></tr>\n",
       "\t<tr><th scope=row>2</th><td>F</td><td>162</td><td>40</td><td>15.2</td><td>54</td><td>1.62</td></tr>\n",
       "\t<tr><th scope=row>3</th><td>F</td><td>151</td><td>35</td><td>15.4</td><td>33</td><td>1.51</td></tr>\n",
       "\t<tr><th scope=row>4</th><td>F</td><td>155</td><td>37</td><td>15.4</td><td>44</td><td>1.55</td></tr>\n",
       "\t<tr><th scope=row>5</th><td>F</td><td>150</td><td>35</td><td>15.6</td><td>24</td><td>1.50</td></tr>\n",
       "\t<tr><th scope=row>6</th><td>M</td><td>169</td><td>45</td><td>15.8</td><td>50</td><td>1.69</td></tr>\n",
       "</tbody>\n",
       "</table>\n"
      ],
      "text/latex": [
       "A data.frame: 6 × 6\n",
       "\\begin{tabular}{r|llllll}\n",
       "  & gender & height & weight & bmi & age & height\\_m\\\\\n",
       "  & <chr> & <int> & <int> & <dbl> & <int> & <dbl>\\\\\n",
       "\\hline\n",
       "\t1 & M & 162 & 38 & 14.5 & 55 & 1.62\\\\\n",
       "\t2 & F & 162 & 40 & 15.2 & 54 & 1.62\\\\\n",
       "\t3 & F & 151 & 35 & 15.4 & 33 & 1.51\\\\\n",
       "\t4 & F & 155 & 37 & 15.4 & 44 & 1.55\\\\\n",
       "\t5 & F & 150 & 35 & 15.6 & 24 & 1.50\\\\\n",
       "\t6 & M & 169 & 45 & 15.8 & 50 & 1.69\\\\\n",
       "\\end{tabular}\n"
      ],
      "text/markdown": [
       "\n",
       "A data.frame: 6 × 6\n",
       "\n",
       "| <!--/--> | gender &lt;chr&gt; | height &lt;int&gt; | weight &lt;int&gt; | bmi &lt;dbl&gt; | age &lt;int&gt; | height_m &lt;dbl&gt; |\n",
       "|---|---|---|---|---|---|---|\n",
       "| 1 | M | 162 | 38 | 14.5 | 55 | 1.62 |\n",
       "| 2 | F | 162 | 40 | 15.2 | 54 | 1.62 |\n",
       "| 3 | F | 151 | 35 | 15.4 | 33 | 1.51 |\n",
       "| 4 | F | 155 | 37 | 15.4 | 44 | 1.55 |\n",
       "| 5 | F | 150 | 35 | 15.6 | 24 | 1.50 |\n",
       "| 6 | M | 169 | 45 | 15.8 | 50 | 1.69 |\n",
       "\n"
      ],
      "text/plain": [
       "  gender height weight bmi  age height_m\n",
       "1 M      162    38     14.5 55  1.62    \n",
       "2 F      162    40     15.2 54  1.62    \n",
       "3 F      151    35     15.4 33  1.51    \n",
       "4 F      155    37     15.4 44  1.55    \n",
       "5 F      150    35     15.6 24  1.50    \n",
       "6 M      169    45     15.8 50  1.69    "
      ]
     },
     "metadata": {},
     "output_type": "display_data"
    }
   ],
   "source": [
    "head(arrange(data1,bmi))"
   ]
  },
  {
   "cell_type": "code",
   "execution_count": 9,
   "metadata": {},
   "outputs": [
    {
     "name": "stderr",
     "output_type": "stream",
     "text": [
      "`summarise()` ungrouping output (override with `.groups` argument)\n",
      "\n"
     ]
    }
   ],
   "source": [
    "group = group_by(data1,gender)\n",
    "summary = summarize(group, \n",
    "                   count = n(),\n",
    "                   mean.height = mean(height, na.rm= T),\n",
    "                   mean.weight = mean(weight, na.rm = T))"
   ]
  },
  {
   "cell_type": "code",
   "execution_count": 10,
   "metadata": {},
   "outputs": [
    {
     "data": {
      "text/html": [
       "<table>\n",
       "<caption>A tibble: 2 × 4</caption>\n",
       "<thead>\n",
       "\t<tr><th scope=col>gender</th><th scope=col>count</th><th scope=col>mean.height</th><th scope=col>mean.weight</th></tr>\n",
       "\t<tr><th scope=col>&lt;chr&gt;</th><th scope=col>&lt;int&gt;</th><th scope=col>&lt;dbl&gt;</th><th scope=col>&lt;dbl&gt;</th></tr>\n",
       "</thead>\n",
       "<tbody>\n",
       "\t<tr><td>F</td><td>862</td><td>153.2912</td><td>52.31090</td></tr>\n",
       "\t<tr><td>M</td><td>355</td><td>165.0592</td><td>62.02254</td></tr>\n",
       "</tbody>\n",
       "</table>\n"
      ],
      "text/latex": [
       "A tibble: 2 × 4\n",
       "\\begin{tabular}{llll}\n",
       " gender & count & mean.height & mean.weight\\\\\n",
       " <chr> & <int> & <dbl> & <dbl>\\\\\n",
       "\\hline\n",
       "\t F & 862 & 153.2912 & 52.31090\\\\\n",
       "\t M & 355 & 165.0592 & 62.02254\\\\\n",
       "\\end{tabular}\n"
      ],
      "text/markdown": [
       "\n",
       "A tibble: 2 × 4\n",
       "\n",
       "| gender &lt;chr&gt; | count &lt;int&gt; | mean.height &lt;dbl&gt; | mean.weight &lt;dbl&gt; |\n",
       "|---|---|---|---|\n",
       "| F | 862 | 153.2912 | 52.31090 |\n",
       "| M | 355 | 165.0592 | 62.02254 |\n",
       "\n"
      ],
      "text/plain": [
       "  gender count mean.height mean.weight\n",
       "1 F      862   153.2912    52.31090   \n",
       "2 M      355   165.0592    62.02254   "
      ]
     },
     "metadata": {},
     "output_type": "display_data"
    }
   ],
   "source": [
    "summary"
   ]
  },
  {
   "cell_type": "code",
   "execution_count": 11,
   "metadata": {},
   "outputs": [
    {
     "data": {
      "text/html": [
       "<table>\n",
       "<caption>A data.frame: 2 × 2</caption>\n",
       "<thead>\n",
       "\t<tr><th scope=col>gender</th><th scope=col>n</th></tr>\n",
       "\t<tr><th scope=col>&lt;chr&gt;</th><th scope=col>&lt;int&gt;</th></tr>\n",
       "</thead>\n",
       "<tbody>\n",
       "\t<tr><td>F</td><td>862</td></tr>\n",
       "\t<tr><td>M</td><td>355</td></tr>\n",
       "</tbody>\n",
       "</table>\n"
      ],
      "text/latex": [
       "A data.frame: 2 × 2\n",
       "\\begin{tabular}{ll}\n",
       " gender & n\\\\\n",
       " <chr> & <int>\\\\\n",
       "\\hline\n",
       "\t F & 862\\\\\n",
       "\t M & 355\\\\\n",
       "\\end{tabular}\n"
      ],
      "text/markdown": [
       "\n",
       "A data.frame: 2 × 2\n",
       "\n",
       "| gender &lt;chr&gt; | n &lt;int&gt; |\n",
       "|---|---|\n",
       "| F | 862 |\n",
       "| M | 355 |\n",
       "\n"
      ],
      "text/plain": [
       "  gender n  \n",
       "1 F      862\n",
       "2 M      355"
      ]
     },
     "metadata": {},
     "output_type": "display_data"
    }
   ],
   "source": [
    "count(data1, gender)"
   ]
  },
  {
   "cell_type": "code",
   "execution_count": 12,
   "metadata": {},
   "outputs": [
    {
     "data": {
      "text/html": [
       "<table>\n",
       "<caption>A data.frame: 6 × 3</caption>\n",
       "<thead>\n",
       "\t<tr><th></th><th scope=col>gender</th><th scope=col>age</th><th scope=col>n</th></tr>\n",
       "\t<tr><th></th><th scope=col>&lt;chr&gt;</th><th scope=col>&lt;int&gt;</th><th scope=col>&lt;int&gt;</th></tr>\n",
       "</thead>\n",
       "<tbody>\n",
       "\t<tr><th scope=row>1</th><td>F</td><td>14</td><td> 4</td></tr>\n",
       "\t<tr><th scope=row>2</th><td>F</td><td>16</td><td> 2</td></tr>\n",
       "\t<tr><th scope=row>3</th><td>F</td><td>18</td><td>10</td></tr>\n",
       "\t<tr><th scope=row>4</th><td>F</td><td>19</td><td>27</td></tr>\n",
       "\t<tr><th scope=row>5</th><td>F</td><td>20</td><td>13</td></tr>\n",
       "\t<tr><th scope=row>6</th><td>F</td><td>21</td><td> 8</td></tr>\n",
       "</tbody>\n",
       "</table>\n"
      ],
      "text/latex": [
       "A data.frame: 6 × 3\n",
       "\\begin{tabular}{r|lll}\n",
       "  & gender & age & n\\\\\n",
       "  & <chr> & <int> & <int>\\\\\n",
       "\\hline\n",
       "\t1 & F & 14 &  4\\\\\n",
       "\t2 & F & 16 &  2\\\\\n",
       "\t3 & F & 18 & 10\\\\\n",
       "\t4 & F & 19 & 27\\\\\n",
       "\t5 & F & 20 & 13\\\\\n",
       "\t6 & F & 21 &  8\\\\\n",
       "\\end{tabular}\n"
      ],
      "text/markdown": [
       "\n",
       "A data.frame: 6 × 3\n",
       "\n",
       "| <!--/--> | gender &lt;chr&gt; | age &lt;int&gt; | n &lt;int&gt; |\n",
       "|---|---|---|---|\n",
       "| 1 | F | 14 |  4 |\n",
       "| 2 | F | 16 |  2 |\n",
       "| 3 | F | 18 | 10 |\n",
       "| 4 | F | 19 | 27 |\n",
       "| 5 | F | 20 | 13 |\n",
       "| 6 | F | 21 |  8 |\n",
       "\n"
      ],
      "text/plain": [
       "  gender age n \n",
       "1 F      14   4\n",
       "2 F      16   2\n",
       "3 F      18  10\n",
       "4 F      19  27\n",
       "5 F      20  13\n",
       "6 F      21   8"
      ]
     },
     "metadata": {},
     "output_type": "display_data"
    }
   ],
   "source": [
    "group_gender_age = count(data1, gender, age)\n",
    "head(group_gender_age)"
   ]
  },
  {
   "cell_type": "code",
   "execution_count": 13,
   "metadata": {},
   "outputs": [
    {
     "data": {
      "text/html": [
       "<table>\n",
       "<caption>A data.frame: 6 × 3</caption>\n",
       "<thead>\n",
       "\t<tr><th></th><th scope=col>gender</th><th scope=col>age</th><th scope=col>n</th></tr>\n",
       "\t<tr><th></th><th scope=col>&lt;chr&gt;</th><th scope=col>&lt;int&gt;</th><th scope=col>&lt;int&gt;</th></tr>\n",
       "</thead>\n",
       "<tbody>\n",
       "\t<tr><th scope=row>138</th><td>M</td><td>82</td><td>1</td></tr>\n",
       "\t<tr><th scope=row>139</th><td>M</td><td>83</td><td>1</td></tr>\n",
       "\t<tr><th scope=row>140</th><td>M</td><td>84</td><td>3</td></tr>\n",
       "\t<tr><th scope=row>141</th><td>M</td><td>85</td><td>1</td></tr>\n",
       "\t<tr><th scope=row>142</th><td>M</td><td>87</td><td>1</td></tr>\n",
       "\t<tr><th scope=row>143</th><td>M</td><td>88</td><td>1</td></tr>\n",
       "</tbody>\n",
       "</table>\n"
      ],
      "text/latex": [
       "A data.frame: 6 × 3\n",
       "\\begin{tabular}{r|lll}\n",
       "  & gender & age & n\\\\\n",
       "  & <chr> & <int> & <int>\\\\\n",
       "\\hline\n",
       "\t138 & M & 82 & 1\\\\\n",
       "\t139 & M & 83 & 1\\\\\n",
       "\t140 & M & 84 & 3\\\\\n",
       "\t141 & M & 85 & 1\\\\\n",
       "\t142 & M & 87 & 1\\\\\n",
       "\t143 & M & 88 & 1\\\\\n",
       "\\end{tabular}\n"
      ],
      "text/markdown": [
       "\n",
       "A data.frame: 6 × 3\n",
       "\n",
       "| <!--/--> | gender &lt;chr&gt; | age &lt;int&gt; | n &lt;int&gt; |\n",
       "|---|---|---|---|\n",
       "| 138 | M | 82 | 1 |\n",
       "| 139 | M | 83 | 1 |\n",
       "| 140 | M | 84 | 3 |\n",
       "| 141 | M | 85 | 1 |\n",
       "| 142 | M | 87 | 1 |\n",
       "| 143 | M | 88 | 1 |\n",
       "\n"
      ],
      "text/plain": [
       "    gender age n\n",
       "138 M      82  1\n",
       "139 M      83  1\n",
       "140 M      84  3\n",
       "141 M      85  1\n",
       "142 M      87  1\n",
       "143 M      88  1"
      ]
     },
     "metadata": {},
     "output_type": "display_data"
    }
   ],
   "source": [
    "tail(group_gender_age)"
   ]
  },
  {
   "cell_type": "code",
   "execution_count": 14,
   "metadata": {},
   "outputs": [],
   "source": [
    "data3 = data1 %>% sample_n(10)"
   ]
  },
  {
   "cell_type": "code",
   "execution_count": 15,
   "metadata": {},
   "outputs": [
    {
     "data": {
      "text/html": [
       "<table>\n",
       "<caption>A data.frame: 10 × 6</caption>\n",
       "<thead>\n",
       "\t<tr><th scope=col>gender</th><th scope=col>height</th><th scope=col>weight</th><th scope=col>bmi</th><th scope=col>age</th><th scope=col>height_m</th></tr>\n",
       "\t<tr><th scope=col>&lt;chr&gt;</th><th scope=col>&lt;int&gt;</th><th scope=col>&lt;int&gt;</th><th scope=col>&lt;dbl&gt;</th><th scope=col>&lt;int&gt;</th><th scope=col>&lt;dbl&gt;</th></tr>\n",
       "</thead>\n",
       "<tbody>\n",
       "\t<tr><td>F</td><td>158</td><td>60</td><td>24.0</td><td>19</td><td>1.58</td></tr>\n",
       "\t<tr><td>F</td><td>158</td><td>45</td><td>18.0</td><td>25</td><td>1.58</td></tr>\n",
       "\t<tr><td>F</td><td>139</td><td>39</td><td>20.2</td><td>34</td><td>1.39</td></tr>\n",
       "\t<tr><td>M</td><td>162</td><td>61</td><td>23.2</td><td>43</td><td>1.62</td></tr>\n",
       "\t<tr><td>M</td><td>158</td><td>67</td><td>26.8</td><td>55</td><td>1.58</td></tr>\n",
       "\t<tr><td>F</td><td>153</td><td>45</td><td>19.2</td><td>42</td><td>1.53</td></tr>\n",
       "\t<tr><td>M</td><td>162</td><td>60</td><td>22.9</td><td>83</td><td>1.62</td></tr>\n",
       "\t<tr><td>F</td><td>159</td><td>56</td><td>22.2</td><td>56</td><td>1.59</td></tr>\n",
       "\t<tr><td>M</td><td>162</td><td>58</td><td>22.1</td><td>20</td><td>1.62</td></tr>\n",
       "\t<tr><td>F</td><td>164</td><td>67</td><td>24.9</td><td>18</td><td>1.64</td></tr>\n",
       "</tbody>\n",
       "</table>\n"
      ],
      "text/latex": [
       "A data.frame: 10 × 6\n",
       "\\begin{tabular}{llllll}\n",
       " gender & height & weight & bmi & age & height\\_m\\\\\n",
       " <chr> & <int> & <int> & <dbl> & <int> & <dbl>\\\\\n",
       "\\hline\n",
       "\t F & 158 & 60 & 24.0 & 19 & 1.58\\\\\n",
       "\t F & 158 & 45 & 18.0 & 25 & 1.58\\\\\n",
       "\t F & 139 & 39 & 20.2 & 34 & 1.39\\\\\n",
       "\t M & 162 & 61 & 23.2 & 43 & 1.62\\\\\n",
       "\t M & 158 & 67 & 26.8 & 55 & 1.58\\\\\n",
       "\t F & 153 & 45 & 19.2 & 42 & 1.53\\\\\n",
       "\t M & 162 & 60 & 22.9 & 83 & 1.62\\\\\n",
       "\t F & 159 & 56 & 22.2 & 56 & 1.59\\\\\n",
       "\t M & 162 & 58 & 22.1 & 20 & 1.62\\\\\n",
       "\t F & 164 & 67 & 24.9 & 18 & 1.64\\\\\n",
       "\\end{tabular}\n"
      ],
      "text/markdown": [
       "\n",
       "A data.frame: 10 × 6\n",
       "\n",
       "| gender &lt;chr&gt; | height &lt;int&gt; | weight &lt;int&gt; | bmi &lt;dbl&gt; | age &lt;int&gt; | height_m &lt;dbl&gt; |\n",
       "|---|---|---|---|---|---|\n",
       "| F | 158 | 60 | 24.0 | 19 | 1.58 |\n",
       "| F | 158 | 45 | 18.0 | 25 | 1.58 |\n",
       "| F | 139 | 39 | 20.2 | 34 | 1.39 |\n",
       "| M | 162 | 61 | 23.2 | 43 | 1.62 |\n",
       "| M | 158 | 67 | 26.8 | 55 | 1.58 |\n",
       "| F | 153 | 45 | 19.2 | 42 | 1.53 |\n",
       "| M | 162 | 60 | 22.9 | 83 | 1.62 |\n",
       "| F | 159 | 56 | 22.2 | 56 | 1.59 |\n",
       "| M | 162 | 58 | 22.1 | 20 | 1.62 |\n",
       "| F | 164 | 67 | 24.9 | 18 | 1.64 |\n",
       "\n"
      ],
      "text/plain": [
       "   gender height weight bmi  age height_m\n",
       "1  F      158    60     24.0 19  1.58    \n",
       "2  F      158    45     18.0 25  1.58    \n",
       "3  F      139    39     20.2 34  1.39    \n",
       "4  M      162    61     23.2 43  1.62    \n",
       "5  M      158    67     26.8 55  1.58    \n",
       "6  F      153    45     19.2 42  1.53    \n",
       "7  M      162    60     22.9 83  1.62    \n",
       "8  F      159    56     22.2 56  1.59    \n",
       "9  M      162    58     22.1 20  1.62    \n",
       "10 F      164    67     24.9 18  1.64    "
      ]
     },
     "metadata": {},
     "output_type": "display_data"
    }
   ],
   "source": [
    "data3"
   ]
  },
  {
   "cell_type": "code",
   "execution_count": 16,
   "metadata": {},
   "outputs": [],
   "source": [
    "data4 = data %>% sample_frac(0.01) #1 percentages"
   ]
  },
  {
   "cell_type": "code",
   "execution_count": 17,
   "metadata": {},
   "outputs": [
    {
     "data": {
      "text/html": [
       "<table>\n",
       "<caption>A data.frame: 12 × 11</caption>\n",
       "<thead>\n",
       "\t<tr><th scope=col>id</th><th scope=col>gender</th><th scope=col>height</th><th scope=col>weight</th><th scope=col>bmi</th><th scope=col>age</th><th scope=col>bmc</th><th scope=col>bmd</th><th scope=col>fat</th><th scope=col>lean</th><th scope=col>pcfat</th></tr>\n",
       "\t<tr><th scope=col>&lt;int&gt;</th><th scope=col>&lt;chr&gt;</th><th scope=col>&lt;int&gt;</th><th scope=col>&lt;int&gt;</th><th scope=col>&lt;dbl&gt;</th><th scope=col>&lt;int&gt;</th><th scope=col>&lt;int&gt;</th><th scope=col>&lt;dbl&gt;</th><th scope=col>&lt;int&gt;</th><th scope=col>&lt;int&gt;</th><th scope=col>&lt;dbl&gt;</th></tr>\n",
       "</thead>\n",
       "<tbody>\n",
       "\t<tr><td> 381</td><td>M</td><td>148</td><td>76</td><td>34.7</td><td>40</td><td>2395</td><td>1.12</td><td>20187</td><td>52455</td><td>26.9</td></tr>\n",
       "\t<tr><td> 131</td><td>F</td><td>157</td><td>60</td><td>24.3</td><td>49</td><td>1991</td><td>1.10</td><td>25422</td><td>35195</td><td>40.6</td></tr>\n",
       "\t<tr><td> 636</td><td>F</td><td>159</td><td>68</td><td>26.9</td><td>47</td><td>1956</td><td>1.05</td><td>26846</td><td>39237</td><td>39.5</td></tr>\n",
       "\t<tr><td> 264</td><td>F</td><td>150</td><td>53</td><td>23.6</td><td>48</td><td>1530</td><td>0.98</td><td>21317</td><td>28738</td><td>41.3</td></tr>\n",
       "\t<tr><td> 308</td><td>F</td><td>153</td><td>48</td><td>20.5</td><td>55</td><td>1461</td><td>0.97</td><td>14635</td><td>27176</td><td>33.8</td></tr>\n",
       "\t<tr><td>1076</td><td>M</td><td>160</td><td>48</td><td>18.8</td><td>63</td><td>1962</td><td>1.12</td><td> 8805</td><td>36293</td><td>18.7</td></tr>\n",
       "\t<tr><td>  84</td><td>F</td><td>152</td><td>41</td><td>17.7</td><td>40</td><td>1430</td><td>0.95</td><td>14430</td><td>24687</td><td>35.6</td></tr>\n",
       "\t<tr><td>1151</td><td>F</td><td>162</td><td>72</td><td>27.4</td><td>52</td><td>1810</td><td>0.97</td><td>26962</td><td>41834</td><td>38.2</td></tr>\n",
       "\t<tr><td> 395</td><td>F</td><td>151</td><td>50</td><td>21.9</td><td>41</td><td>1936</td><td>1.13</td><td>14589</td><td>32963</td><td>29.5</td></tr>\n",
       "\t<tr><td> 372</td><td>M</td><td>162</td><td>73</td><td>27.8</td><td>39</td><td>2424</td><td>1.19</td><td>21768</td><td>47936</td><td>30.2</td></tr>\n",
       "\t<tr><td> 816</td><td>M</td><td>162</td><td>59</td><td>22.5</td><td>84</td><td>2370</td><td>1.22</td><td>15149</td><td>39330</td><td>26.6</td></tr>\n",
       "\t<tr><td> 167</td><td>F</td><td>150</td><td>59</td><td>26.2</td><td>60</td><td>1441</td><td>0.94</td><td>26762</td><td>29464</td><td>46.4</td></tr>\n",
       "</tbody>\n",
       "</table>\n"
      ],
      "text/latex": [
       "A data.frame: 12 × 11\n",
       "\\begin{tabular}{lllllllllll}\n",
       " id & gender & height & weight & bmi & age & bmc & bmd & fat & lean & pcfat\\\\\n",
       " <int> & <chr> & <int> & <int> & <dbl> & <int> & <int> & <dbl> & <int> & <int> & <dbl>\\\\\n",
       "\\hline\n",
       "\t  381 & M & 148 & 76 & 34.7 & 40 & 2395 & 1.12 & 20187 & 52455 & 26.9\\\\\n",
       "\t  131 & F & 157 & 60 & 24.3 & 49 & 1991 & 1.10 & 25422 & 35195 & 40.6\\\\\n",
       "\t  636 & F & 159 & 68 & 26.9 & 47 & 1956 & 1.05 & 26846 & 39237 & 39.5\\\\\n",
       "\t  264 & F & 150 & 53 & 23.6 & 48 & 1530 & 0.98 & 21317 & 28738 & 41.3\\\\\n",
       "\t  308 & F & 153 & 48 & 20.5 & 55 & 1461 & 0.97 & 14635 & 27176 & 33.8\\\\\n",
       "\t 1076 & M & 160 & 48 & 18.8 & 63 & 1962 & 1.12 &  8805 & 36293 & 18.7\\\\\n",
       "\t   84 & F & 152 & 41 & 17.7 & 40 & 1430 & 0.95 & 14430 & 24687 & 35.6\\\\\n",
       "\t 1151 & F & 162 & 72 & 27.4 & 52 & 1810 & 0.97 & 26962 & 41834 & 38.2\\\\\n",
       "\t  395 & F & 151 & 50 & 21.9 & 41 & 1936 & 1.13 & 14589 & 32963 & 29.5\\\\\n",
       "\t  372 & M & 162 & 73 & 27.8 & 39 & 2424 & 1.19 & 21768 & 47936 & 30.2\\\\\n",
       "\t  816 & M & 162 & 59 & 22.5 & 84 & 2370 & 1.22 & 15149 & 39330 & 26.6\\\\\n",
       "\t  167 & F & 150 & 59 & 26.2 & 60 & 1441 & 0.94 & 26762 & 29464 & 46.4\\\\\n",
       "\\end{tabular}\n"
      ],
      "text/markdown": [
       "\n",
       "A data.frame: 12 × 11\n",
       "\n",
       "| id &lt;int&gt; | gender &lt;chr&gt; | height &lt;int&gt; | weight &lt;int&gt; | bmi &lt;dbl&gt; | age &lt;int&gt; | bmc &lt;int&gt; | bmd &lt;dbl&gt; | fat &lt;int&gt; | lean &lt;int&gt; | pcfat &lt;dbl&gt; |\n",
       "|---|---|---|---|---|---|---|---|---|---|---|\n",
       "|  381 | M | 148 | 76 | 34.7 | 40 | 2395 | 1.12 | 20187 | 52455 | 26.9 |\n",
       "|  131 | F | 157 | 60 | 24.3 | 49 | 1991 | 1.10 | 25422 | 35195 | 40.6 |\n",
       "|  636 | F | 159 | 68 | 26.9 | 47 | 1956 | 1.05 | 26846 | 39237 | 39.5 |\n",
       "|  264 | F | 150 | 53 | 23.6 | 48 | 1530 | 0.98 | 21317 | 28738 | 41.3 |\n",
       "|  308 | F | 153 | 48 | 20.5 | 55 | 1461 | 0.97 | 14635 | 27176 | 33.8 |\n",
       "| 1076 | M | 160 | 48 | 18.8 | 63 | 1962 | 1.12 |  8805 | 36293 | 18.7 |\n",
       "|   84 | F | 152 | 41 | 17.7 | 40 | 1430 | 0.95 | 14430 | 24687 | 35.6 |\n",
       "| 1151 | F | 162 | 72 | 27.4 | 52 | 1810 | 0.97 | 26962 | 41834 | 38.2 |\n",
       "|  395 | F | 151 | 50 | 21.9 | 41 | 1936 | 1.13 | 14589 | 32963 | 29.5 |\n",
       "|  372 | M | 162 | 73 | 27.8 | 39 | 2424 | 1.19 | 21768 | 47936 | 30.2 |\n",
       "|  816 | M | 162 | 59 | 22.5 | 84 | 2370 | 1.22 | 15149 | 39330 | 26.6 |\n",
       "|  167 | F | 150 | 59 | 26.2 | 60 | 1441 | 0.94 | 26762 | 29464 | 46.4 |\n",
       "\n"
      ],
      "text/plain": [
       "   id   gender height weight bmi  age bmc  bmd  fat   lean  pcfat\n",
       "1   381 M      148    76     34.7 40  2395 1.12 20187 52455 26.9 \n",
       "2   131 F      157    60     24.3 49  1991 1.10 25422 35195 40.6 \n",
       "3   636 F      159    68     26.9 47  1956 1.05 26846 39237 39.5 \n",
       "4   264 F      150    53     23.6 48  1530 0.98 21317 28738 41.3 \n",
       "5   308 F      153    48     20.5 55  1461 0.97 14635 27176 33.8 \n",
       "6  1076 M      160    48     18.8 63  1962 1.12  8805 36293 18.7 \n",
       "7    84 F      152    41     17.7 40  1430 0.95 14430 24687 35.6 \n",
       "8  1151 F      162    72     27.4 52  1810 0.97 26962 41834 38.2 \n",
       "9   395 F      151    50     21.9 41  1936 1.13 14589 32963 29.5 \n",
       "10  372 M      162    73     27.8 39  2424 1.19 21768 47936 30.2 \n",
       "11  816 M      162    59     22.5 84  2370 1.22 15149 39330 26.6 \n",
       "12  167 F      150    59     26.2 60  1441 0.94 26762 29464 46.4 "
      ]
     },
     "metadata": {},
     "output_type": "display_data"
    }
   ],
   "source": [
    "data4"
   ]
  },
  {
   "cell_type": "code",
   "execution_count": null,
   "metadata": {},
   "outputs": [],
   "source": []
  }
 ],
 "metadata": {
  "kernelspec": {
   "display_name": "R",
   "language": "R",
   "name": "ir"
  },
  "language_info": {
   "codemirror_mode": "r",
   "file_extension": ".r",
   "mimetype": "text/x-r-source",
   "name": "R",
   "pygments_lexer": "r",
   "version": "4.0.2"
  }
 },
 "nbformat": 4,
 "nbformat_minor": 4
}
