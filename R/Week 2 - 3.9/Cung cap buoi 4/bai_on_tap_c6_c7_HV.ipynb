{
 "cells": [
  {
   "cell_type": "markdown",
   "metadata": {
    "colab_type": "text",
    "id": "SKG2ETcPTLTy"
   },
   "source": [
    "# Review Chapter 6 & 7"
   ]
  },
  {
   "cell_type": "code",
   "execution_count": 4,
   "metadata": {
    "colab": {},
    "colab_type": "code",
    "id": "FvZrjfhWE-IM"
   },
   "outputs": [
    {
     "name": "stdout",
     "output_type": "stream",
     "text": [
      "[1] \"R\" \"R\" \"L\" \"L\" \"R\" \"R\" \"C\" \"C\"\n",
      "NULL\n",
      "[1] 0\n",
      "[1] 8\n"
     ]
    }
   ],
   "source": [
    "## Ex1\n",
    "# Definition of survey_vector\n",
    "survey_vector <- c(\"R\", \"R\", \"L\", \"L\", \"R\", \"R\", \"C\", \"C\")\n",
    "\n",
    "# Encode survey_vector as a factor: survey_factor\n",
    "survey_factor = factor(survey_vector)\n",
    "# Print survey_factor\n",
    "print(survey_vector)\n",
    "# Print levels of survey_factor\n",
    "survey_levels = levels(survey_vector)\n",
    "print(survey_levels)\n",
    "# Print nlevels of survey_factor\n",
    "survey_nlevels = nlevels(survey_vector)\n",
    "print(survey_nlevels)\n",
    "# How many elements of each factor?\n",
    "len = length(survey_factor)\n",
    "print(len)"
   ]
  },
  {
   "cell_type": "code",
   "execution_count": 9,
   "metadata": {
    "colab": {},
    "colab_type": "code",
    "id": "3ukM4r2lKoJp"
   },
   "outputs": [
    {
     "name": "stdout",
     "output_type": "stream",
     "text": [
      " num [1:48] 1 2 3 4 5 6 7 8 9 10 ...\n",
      "     [,1] [,2] [,3]\n",
      "[1,]    1    4    7\n",
      "[2,]    2    5    8\n",
      "[3,]    3    6    9\n",
      "[1] 45\n"
     ]
    }
   ],
   "source": [
    "## Ex2\n",
    "# Create my_vector: 1 up to 10\n",
    "my_vector = seq(1,10,1)\n",
    "# Create my_matrix (3x3): 1 up to 9\n",
    "my_matrix = matrix(c(1:9),nrow=3,ncol=3)\n",
    "# Create my_factor from sizes\n",
    "sizes <-c(\"M\",\"S\",\"L\",\"L\",\"M\")\n",
    "my_factor = factor(sizes)\n",
    "# Construct my_list with the three data structures above\n",
    "my_list = c(my_vector, my_matrix, my_factor)\n",
    "# Construct my_super_list with the four data structures above\n",
    "my_super_list = c(my_vector, my_matrix, my_factor,my_list)\n",
    "# Display structure of my_super_list (Use str())\n",
    "str(my_super_list)\n",
    "# Print my_matrix, sum of my_matrix, sum of even elements in my_matrix\n",
    "print(my_matrix)\n",
    "print(sum(my_matrix))\n",
    "for(i in my_matrix){\n",
    "    sum = 0\n",
    "    if(my_matrix[i]%%2==0){\n",
    "        sum = sum +1\n",
    "    }else{break}\n",
    "    return(sum)\n",
    "    print(sum)\n",
    "}"
   ]
  },
  {
   "cell_type": "code",
   "execution_count": 11,
   "metadata": {
    "colab": {},
    "colab_type": "code",
    "id": "BWZ_W6arNV8K"
   },
   "outputs": [
    {
     "name": "stdout",
     "output_type": "stream",
     "text": [
      "                                                                            \n",
      "     \"The Shining\"   \"Jack Nicholson\"   \"Shelley Duvall\"      \"Danny Lloyd\" \n",
      "                                                                            \n",
      "\"Scatman Crothers\"     \"Barry Nelson\"                \"3\"                \"2\" \n",
      "                                                                            \n",
      "               \"3\"                \"4\"                \"1\"                \"4\" \n",
      "                         release_year           director \n",
      "               \"3\"             \"1980\"  \"Stanley Kubrick\" \n",
      " Named chr [1:15] \"The Shining\" \"Jack Nicholson\" \"Shelley Duvall\" ...\n",
      " - attr(*, \"names\")= chr [1:15] \"\" \"\" \"\" \"\" ...\n"
     ]
    }
   ],
   "source": [
    "## Ex3\n",
    "# Create title, actors, reviews\n",
    "title = \"The Shining\"\n",
    "actors_vector <- c(\"Jack Nicholson\",\"Shelley Duvall\",\"Danny Lloyd\",\"Scatman Crothers\",\"Barry Nelson\")\n",
    "reviews_factor <- factor(c(\"Good\", \"OK\", \"Good\", \"Perfect\", \"Bad\", \"Perfect\", \"Good\"), \n",
    "                  ordered = TRUE, levels = c(\"Bad\", \"OK\", \"Good\", \"Perfect\"))\n",
    "\n",
    "# Create the list 'shining_list' from 3 vectors above\n",
    "shining_list = c(title,actors_vector,reviews_factor)\n",
    "# Select the last factor from list: last_actor\n",
    "last_factor = tail(shining_list, n=1)\n",
    "# Select the second review from list: second_review\n",
    "second_review = shining_list[[2]]\n",
    "# Add the element 'release_year' = 1980 to shining_list\n",
    "shining_list['release_year'] = 1980\n",
    "# Add the element 'director' = \"Stanley Kubrick\" to shining_list\n",
    "shining_list['director'] = \"Stanley Kubrick\"\n",
    "# Print list shining_list\n",
    "print(shining_list)\n",
    "# Print the structure of shining_list\n",
    "str(shining_list)"
   ]
  },
  {
   "cell_type": "code",
   "execution_count": null,
   "metadata": {},
   "outputs": [],
   "source": []
  }
 ],
 "metadata": {
  "colab": {
   "collapsed_sections": [],
   "name": "bai_on_tap_c6_c7_HV.ipynb",
   "provenance": []
  },
  "kernelspec": {
   "display_name": "R",
   "language": "R",
   "name": "ir"
  },
  "language_info": {
   "codemirror_mode": "r",
   "file_extension": ".r",
   "mimetype": "text/x-r-source",
   "name": "R",
   "pygments_lexer": "r",
   "version": "4.0.2"
  }
 },
 "nbformat": 4,
 "nbformat_minor": 4
}
