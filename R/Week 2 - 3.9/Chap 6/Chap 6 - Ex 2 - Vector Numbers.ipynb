{
 "cells": [
  {
   "cell_type": "code",
   "execution_count": 5,
   "metadata": {},
   "outputs": [
    {
     "name": "stdout",
     "output_type": "stream",
     "text": [
      "[1] \"vec1: 2, 5, 8, 12, 16\"\n",
      "[1] \"vec2: 5, 6, 7, 8, 9\"\n",
      "[1] \"vec3: -3, -1, 1, 4, 7\"\n",
      "[1] \"vec4: 2, 4, 6, 8, 10, 12, 14, 16, 18, 20, 22, 24, 26, 28, 30, 32, 34, 36, 38, 40, 42, 44, 46, 48, 50, 52, 54, 56, 58, 60, 62, 64, 66, 68, 70, 72, 74, 76, 78, 80, 82, 84, 86, 88, 90, 92, 94, 96, 98, 100, 102, 104, 106, 108, 110, 112, 114, 116, 118, 120, 122, 124, 126, 128, 130, 132, 134, 136, 138, 140, 142, 144, 146, 148, 150, 152, 154, 156, 158, 160, 162, 164, 166, 168, 170, 172, 174, 176, 178, 180, 182, 184, 186, 188, 190, 192, 194, 196, 198, 200\"\n",
      "[1] \"values at indexes 5, 10, 15, 20: 10, 20, 30, 40\"\n",
      "[1] \"values from indexes 10 to 30: 20, 22, 24, 26, 28, 30, 32, 34, 36, 38, 40, 42, 44, 46, 48, 50, 52, 54, 56, 58, 60\"\n"
     ]
    }
   ],
   "source": [
    "vec1 = c(2, 5, 8, 12, 16)\n",
    "vec2 = c(5:9)\n",
    "\n",
    "print(paste('vec1:', toString(vec1)))\n",
    "print(paste('vec2:', toString(vec2)))\n",
    "print(paste('vec3:', toString(vec1-vec2)))\n",
    "\n",
    "# tao vector 100 phan tu voi phan tu dau tien la 2\n",
    "# tang 2 don vi cho moi phan tu => seq()\n",
    "vec4 = seq(from=2, by=2,length.out=100)\n",
    "print(paste('vec4:', toString(vec4)))\n",
    "print(paste('values at indexes 5, 10, 15, 20:',\n",
    "           toString(vec4[c(5,10,15,20)])))\n",
    "print(paste('values from indexes 10 to 30:',\n",
    "           toString(vec4[10:30])))"
   ]
  },
  {
   "cell_type": "code",
   "execution_count": null,
   "metadata": {},
   "outputs": [],
   "source": []
  }
 ],
 "metadata": {
  "kernelspec": {
   "display_name": "R",
   "language": "R",
   "name": "ir"
  },
  "language_info": {
   "codemirror_mode": "r",
   "file_extension": ".r",
   "mimetype": "text/x-r-source",
   "name": "R",
   "pygments_lexer": "r",
   "version": "4.0.2"
  }
 },
 "nbformat": 4,
 "nbformat_minor": 4
}
