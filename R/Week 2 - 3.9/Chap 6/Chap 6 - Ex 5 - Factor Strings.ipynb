{
 "cells": [
  {
   "cell_type": "code",
   "execution_count": 1,
   "metadata": {},
   "outputs": [
    {
     "name": "stdout",
     "output_type": "stream",
     "text": [
      "[1] \"Vector: low, high, medium, high, low, medium, high\"\n",
      "[1] \"Levels: high, low, medium\"\n",
      "[1] \"Number of levels: 3\"\n",
      "[1] \"Levels after having 'medium high': high, low, medium, medium high\"\n",
      "[1] \"Number of levels after having 'medium high': 4\"\n"
     ]
    }
   ],
   "source": [
    "v1 = c('low','high','medium','high','low','medium','high')\n",
    "print(paste('Vector:', toString(v1)))\n",
    "food = factor(v1)\n",
    "levels_food = levels(food)\n",
    "nums_levels = nlevels(food)\n",
    "\n",
    "print(paste('Levels:', toString(levels(food))))\n",
    "print(paste('Number of levels:', nlevels(food)))\n",
    "\n",
    "# add level medium high\n",
    "levels_food[nums_levels+1] = 'medium high'\n",
    "food = factor(v1,levels=levels_food)\n",
    "print(paste(\"Levels after having 'medium high':\", toString(levels(food))))\n",
    "print(paste(\"Number of levels after having 'medium high':\", nlevels(food)))"
   ]
  },
  {
   "cell_type": "code",
   "execution_count": null,
   "metadata": {},
   "outputs": [],
   "source": []
  }
 ],
 "metadata": {
  "kernelspec": {
   "display_name": "R",
   "language": "R",
   "name": "ir"
  },
  "language_info": {
   "codemirror_mode": "r",
   "file_extension": ".r",
   "mimetype": "text/x-r-source",
   "name": "R",
   "pygments_lexer": "r",
   "version": "4.0.2"
  }
 },
 "nbformat": 4,
 "nbformat_minor": 4
}
