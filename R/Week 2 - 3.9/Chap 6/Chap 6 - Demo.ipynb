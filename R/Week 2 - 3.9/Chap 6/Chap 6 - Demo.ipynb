{
 "cells": [
  {
   "cell_type": "code",
   "execution_count": 1,
   "metadata": {},
   "outputs": [
    {
     "name": "stdout",
     "output_type": "stream",
     "text": [
      " [1]  1  2  3  4  5  6  7  8  9 10\n",
      "[1] 1.6 2.6 3.6 4.6 5.6\n",
      "[1]  5.8  6.8  7.8  8.8  9.8 10.8\n"
     ]
    }
   ],
   "source": [
    "v = 1:10\n",
    "print(v)\n",
    "\n",
    "v = 1.6:5.6\n",
    "print(v)\n",
    "\n",
    "v = 5.8:11.4\n",
    "print(v)"
   ]
  },
  {
   "cell_type": "code",
   "execution_count": 2,
   "metadata": {},
   "outputs": [
    {
     "name": "stdout",
     "output_type": "stream",
     "text": [
      " [1]  2.0  2.5  3.0  3.5  4.0  4.5  5.0  5.5  6.0  6.5  7.0  7.5  8.0  8.5  9.0\n",
      "[16]  9.5 10.0\n"
     ]
    }
   ],
   "source": [
    "v = seq(2,10, by=0.5)\n",
    "print(v)"
   ]
  },
  {
   "cell_type": "code",
   "execution_count": 3,
   "metadata": {},
   "outputs": [
    {
     "name": "stdout",
     "output_type": "stream",
     "text": [
      "[1] \"red\"   \"green\" \"blue\"  \"white\"\n"
     ]
    }
   ],
   "source": [
    "colors = c('red','green','blue','white')\n",
    "print(colors)"
   ]
  },
  {
   "cell_type": "code",
   "execution_count": 4,
   "metadata": {},
   "outputs": [
    {
     "name": "stdout",
     "output_type": "stream",
     "text": [
      "[1] \"red\"    \"green\"  \"blue\"   \"white\"  \"yello\"  \"orange\"\n",
      "[1] \"red\"   \"blue\"  \"yello\"\n",
      "[1] \"red\"    \"blue\"   \"yello\"  \"orange\"\n"
     ]
    }
   ],
   "source": [
    "colors = c('red','green','blue','white','yello','orange')\n",
    "print(colors)\n",
    "# get items 1,3,5\n",
    "c1 = colors[c(1,3,5)]\n",
    "print(c1)\n",
    "#delete items 2,4\n",
    "c2 = colors[c(-2,-4)]\n",
    "print(c2)"
   ]
  },
  {
   "cell_type": "code",
   "execution_count": 5,
   "metadata": {},
   "outputs": [
    {
     "name": "stdout",
     "output_type": "stream",
     "text": [
      "[1]  5  7  4  8  0 11\n",
      "[1]  4 10\n",
      "[1]  9 17  8 18  4 21\n"
     ]
    }
   ],
   "source": [
    "# 2 vector with different size\n",
    "# Create 2 vectors\n",
    "v1 = c(5,7,4,8,0,11)\n",
    "v2 = c(4,10)\n",
    "print(v1)\n",
    "print(v2)\n",
    "add.result = v1+v2\n",
    "print(add.result)"
   ]
  },
  {
   "cell_type": "code",
   "execution_count": 6,
   "metadata": {},
   "outputs": [
    {
     "data": {
      "text/html": [
       "<style>\n",
       ".list-inline {list-style: none; margin:0; padding: 0}\n",
       ".list-inline>li {display: inline-block}\n",
       ".list-inline>li:not(:last-child)::after {content: \"\\00b7\"; padding: 0 .5ex}\n",
       "</style>\n",
       "<ol class=list-inline><li>1</li><li>2</li><li>5</li><li>-10</li><li>7</li><li>-6</li><li>9</li></ol>\n"
      ],
      "text/latex": [
       "\\begin{enumerate*}\n",
       "\\item 1\n",
       "\\item 2\n",
       "\\item 5\n",
       "\\item -10\n",
       "\\item 7\n",
       "\\item -6\n",
       "\\item 9\n",
       "\\end{enumerate*}\n"
      ],
      "text/markdown": [
       "1. 1\n",
       "2. 2\n",
       "3. 5\n",
       "4. -10\n",
       "5. 7\n",
       "6. -6\n",
       "7. 9\n",
       "\n",
       "\n"
      ],
      "text/plain": [
       "[1]   1   2   5 -10   7  -6   9"
      ]
     },
     "metadata": {},
     "output_type": "display_data"
    }
   ],
   "source": [
    "v = c(1,2,5,-10,7,-6,9)\n",
    "v"
   ]
  },
  {
   "cell_type": "code",
   "execution_count": 7,
   "metadata": {},
   "outputs": [
    {
     "name": "stdout",
     "output_type": "stream",
     "text": [
      "[1] -10  -6   1   2   5   7   9\n"
     ]
    }
   ],
   "source": [
    "# asc\n",
    "print(sort(v))"
   ]
  },
  {
   "cell_type": "code",
   "execution_count": 8,
   "metadata": {},
   "outputs": [
    {
     "name": "stdout",
     "output_type": "stream",
     "text": [
      "[1]   9   7   5   2   1  -6 -10\n"
     ]
    }
   ],
   "source": [
    "#desc\n",
    "print(sort(v, decreasing=TRUE))"
   ]
  },
  {
   "cell_type": "code",
   "execution_count": 9,
   "metadata": {},
   "outputs": [
    {
     "data": {
      "text/html": [
       "<style>\n",
       ".list-inline {list-style: none; margin:0; padding: 0}\n",
       ".list-inline>li {display: inline-block}\n",
       ".list-inline>li:not(:last-child)::after {content: \"\\00b7\"; padding: 0 .5ex}\n",
       "</style>\n",
       "<ol class=list-inline><li>'red'</li><li>'green'</li><li>'blue'</li><li>'white'</li><li>'yello'</li><li>'orange'</li></ol>\n"
      ],
      "text/latex": [
       "\\begin{enumerate*}\n",
       "\\item 'red'\n",
       "\\item 'green'\n",
       "\\item 'blue'\n",
       "\\item 'white'\n",
       "\\item 'yello'\n",
       "\\item 'orange'\n",
       "\\end{enumerate*}\n"
      ],
      "text/markdown": [
       "1. 'red'\n",
       "2. 'green'\n",
       "3. 'blue'\n",
       "4. 'white'\n",
       "5. 'yello'\n",
       "6. 'orange'\n",
       "\n",
       "\n"
      ],
      "text/plain": [
       "[1] \"red\"    \"green\"  \"blue\"   \"white\"  \"yello\"  \"orange\""
      ]
     },
     "metadata": {},
     "output_type": "display_data"
    }
   ],
   "source": [
    "colors"
   ]
  },
  {
   "cell_type": "code",
   "execution_count": 10,
   "metadata": {},
   "outputs": [
    {
     "name": "stdout",
     "output_type": "stream",
     "text": [
      "[1] \"blue\"   \"green\"  \"orange\" \"red\"    \"white\"  \"yello\" \n"
     ]
    }
   ],
   "source": [
    "#asc\n",
    "print(sort(colors))"
   ]
  },
  {
   "cell_type": "code",
   "execution_count": 11,
   "metadata": {},
   "outputs": [
    {
     "name": "stdout",
     "output_type": "stream",
     "text": [
      "[1] \"yello\"  \"white\"  \"red\"    \"orange\" \"green\"  \"blue\"  \n"
     ]
    }
   ],
   "source": [
    "#desc\n",
    "print(sort(colors, decreasing = TRUE))"
   ]
  },
  {
   "cell_type": "code",
   "execution_count": 1,
   "metadata": {},
   "outputs": [],
   "source": [
    "# using factor(vector) to create factor from vector\n",
    "gender = c('Male','Female','Female','Male','Female','Male')"
   ]
  },
  {
   "cell_type": "code",
   "execution_count": 2,
   "metadata": {},
   "outputs": [
    {
     "data": {
      "text/html": [
       "FALSE"
      ],
      "text/latex": [
       "FALSE"
      ],
      "text/markdown": [
       "FALSE"
      ],
      "text/plain": [
       "[1] FALSE"
      ]
     },
     "metadata": {},
     "output_type": "display_data"
    }
   ],
   "source": [
    "is.factor(gender)"
   ]
  },
  {
   "cell_type": "code",
   "execution_count": 3,
   "metadata": {},
   "outputs": [
    {
     "data": {
      "text/html": [
       "TRUE"
      ],
      "text/latex": [
       "TRUE"
      ],
      "text/markdown": [
       "TRUE"
      ],
      "text/plain": [
       "[1] TRUE"
      ]
     },
     "metadata": {},
     "output_type": "display_data"
    }
   ],
   "source": [
    "factor_gender = factor(gender)\n",
    "is.factor(factor_gender)"
   ]
  },
  {
   "cell_type": "code",
   "execution_count": 4,
   "metadata": {},
   "outputs": [
    {
     "name": "stdout",
     "output_type": "stream",
     "text": [
      "[1] Male   Female Female Male   Female Male  \n",
      "Levels: Female Male\n"
     ]
    }
   ],
   "source": [
    "print(factor_gender)"
   ]
  },
  {
   "cell_type": "code",
   "execution_count": 5,
   "metadata": {},
   "outputs": [
    {
     "name": "stdout",
     "output_type": "stream",
     "text": [
      "[1] Male   Female Female Male   Female Male  \n",
      "Levels: Male Female\n"
     ]
    }
   ],
   "source": [
    "new_order_factor = factor(factor_gender, levels = c('Male','Female'))\n",
    "print(new_order_factor)"
   ]
  },
  {
   "cell_type": "code",
   "execution_count": 6,
   "metadata": {},
   "outputs": [
    {
     "name": "stdout",
     "output_type": "stream",
     "text": [
      " [1] Red   Red   Red   Red   Red   Green Green Green Green Green Blue  Blue \n",
      "[13] Blue  Blue  Blue \n",
      "Levels: Red Green Blue\n"
     ]
    }
   ],
   "source": [
    "colors_factor = gl(3,5,labels=c('Red','Green','Blue'))\n",
    "print(colors_factor)"
   ]
  },
  {
   "cell_type": "code",
   "execution_count": null,
   "metadata": {},
   "outputs": [],
   "source": []
  }
 ],
 "metadata": {
  "kernelspec": {
   "display_name": "R",
   "language": "R",
   "name": "ir"
  },
  "language_info": {
   "codemirror_mode": "r",
   "file_extension": ".r",
   "mimetype": "text/x-r-source",
   "name": "R",
   "pygments_lexer": "r",
   "version": "4.0.2"
  }
 },
 "nbformat": 4,
 "nbformat_minor": 4
}
