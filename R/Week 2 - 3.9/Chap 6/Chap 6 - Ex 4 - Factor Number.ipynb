{
 "cells": [
  {
   "cell_type": "code",
   "execution_count": 1,
   "metadata": {},
   "outputs": [
    {
     "name": "stdout",
     "output_type": "stream",
     "text": [
      "[1] \"Vector 1, 2, 3, 3, 5, 3, 2, 4, NA, 11, 22, 47, 47, 11, 47, 11\"\n",
      "[1] \"Levels in factor: 1, 2, 3, 4, 5, 11, 22, 47\"\n",
      "[1] \"Number of levels in factor: 8\"\n"
     ]
    }
   ],
   "source": [
    "x = c(1,2,3,3,5,3,2,4,NA,11,22,47,47,11,47,11)\n",
    "print(paste('Vector', toString(x)))\n",
    "# tao factor\n",
    "ft = factor(x)\n",
    "# print(ft)\n",
    "print(paste('Levels in factor:', toString(levels(ft))))\n",
    "print(paste('Number of levels in factor:', nlevels(ft)))"
   ]
  },
  {
   "cell_type": "code",
   "execution_count": null,
   "metadata": {},
   "outputs": [],
   "source": []
  }
 ],
 "metadata": {
  "kernelspec": {
   "display_name": "R",
   "language": "R",
   "name": "ir"
  },
  "language_info": {
   "codemirror_mode": "r",
   "file_extension": ".r",
   "mimetype": "text/x-r-source",
   "name": "R",
   "pygments_lexer": "r",
   "version": "4.0.2"
  }
 },
 "nbformat": 4,
 "nbformat_minor": 4
}
