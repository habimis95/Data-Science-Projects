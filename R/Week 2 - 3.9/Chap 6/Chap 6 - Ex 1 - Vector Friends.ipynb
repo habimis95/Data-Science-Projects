{
 "cells": [
  {
   "cell_type": "code",
   "execution_count": 4,
   "metadata": {},
   "outputs": [
    {
     "name": "stdin",
     "output_type": "stream",
     "text": [
      "Input your friend's name:  Mi\n",
      "Continue: 1, Stop: !=1 1\n",
      "Input your friend's name:  Truc\n",
      "Continue: 1, Stop: !=1 1\n",
      "Input your friend's name:  Binh\n",
      "Continue: 1, Stop: !=1 2\n"
     ]
    }
   ],
   "source": [
    "names.vector = c('Minh','Thanh','Xuan')\n",
    "i = 1\n",
    "repeat{\n",
    "    len = length(names.vector)\n",
    "    names.vector[len+1] = readline(prompt=\"Input your friend's name: \")\n",
    "    i = as.integer(readline(prompt='Continue: 1, Stop: !=1'))\n",
    "    if(i!=1){\n",
    "        break\n",
    "    }\n",
    "}"
   ]
  },
  {
   "cell_type": "code",
   "execution_count": 5,
   "metadata": {},
   "outputs": [
    {
     "name": "stdout",
     "output_type": "stream",
     "text": [
      "[1] \"There are 6 friends in vector: Minh, Thanh, Xuan, Mi, Truc, Binh\"\n",
      "[1] \"Two first friends: Minh, Thanh\"\n",
      "[1] \"Second and third friends: Thanh, Xuan\"\n",
      "[1] \"Two last friends: Binh, Truc\"\n",
      "[1] \"Sort of my friends: Binh, Mi, Minh, Thanh, Truc, Xuan\"\n",
      "[1] \"Descending Sort of my friends: Xuan, Truc, Thanh, Minh, Mi, Binh\"\n"
     ]
    }
   ],
   "source": [
    "print(paste('There are', length(names.vector),'friends in vector:',\n",
    "           toString(names.vector)))\n",
    "print(paste('Two first friends:', toString(names.vector[1:2])))\n",
    "print(paste('Second and third friends:', toString(names.vector[c(2,3)])))\n",
    "print(paste('Two last friends:', \n",
    "           toString(names.vector[c(length(names.vector),\n",
    "                                   length(names.vector)-1)])))\n",
    "print(paste('Sort of my friends:', toString(sort(names.vector))))\n",
    "print(paste('Descending Sort of my friends:',\n",
    "           toString(sort(names.vector, decreasing = TRUE))))"
   ]
  },
  {
   "cell_type": "code",
   "execution_count": null,
   "metadata": {},
   "outputs": [],
   "source": []
  }
 ],
 "metadata": {
  "kernelspec": {
   "display_name": "R",
   "language": "R",
   "name": "ir"
  },
  "language_info": {
   "codemirror_mode": "r",
   "file_extension": ".r",
   "mimetype": "text/x-r-source",
   "name": "R",
   "pygments_lexer": "r",
   "version": "4.0.2"
  }
 },
 "nbformat": 4,
 "nbformat_minor": 4
}
