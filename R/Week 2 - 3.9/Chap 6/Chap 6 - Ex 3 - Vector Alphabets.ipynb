{
 "cells": [
  {
   "cell_type": "code",
   "execution_count": 1,
   "metadata": {},
   "outputs": [
    {
     "name": "stdout",
     "output_type": "stream",
     "text": [
      "[1] \"alphabets: a, b, c, d, e, f, g, h, i, j, k, l, m, n, o, p, q, r, s, t, u, v, w, x, y, z\"\n",
      "[1] \"vowels: a, e, i, o, u\"\n",
      "[1] \"consonants: b, c, d, f, g, h, j, k, l, m, n, p, q, r, s, t, v, w, x, y, z\"\n",
      "[1] \"consonants: ba, ce, di, fo, gu, ha, je, ki, lo, mu, na, pe, qi, ro, su, ta, ve, wi, xo, yu, za\"\n"
     ]
    }
   ],
   "source": [
    "alphabets = letters[1:26]\n",
    "vowels = c('a','e','i','o','u')\n",
    "consonants = alphabets[!(alphabets %in% vowels)]\n",
    "print(paste('alphabets:', toString(alphabets)))\n",
    "print(paste('vowels:', toString(vowels)))\n",
    "print(paste('consonants:', toString(consonants)))\n",
    "\n",
    "consonants_vowels = sub(' ','',paste(consonants,vowels))\n",
    "print(paste('consonants:',toString(consonants_vowels)))\n"
   ]
  },
  {
   "cell_type": "code",
   "execution_count": null,
   "metadata": {},
   "outputs": [],
   "source": []
  }
 ],
 "metadata": {
  "kernelspec": {
   "display_name": "R",
   "language": "R",
   "name": "ir"
  },
  "language_info": {
   "codemirror_mode": "r",
   "file_extension": ".r",
   "mimetype": "text/x-r-source",
   "name": "R",
   "pygments_lexer": "r",
   "version": "4.0.2"
  }
 },
 "nbformat": 4,
 "nbformat_minor": 4
}
