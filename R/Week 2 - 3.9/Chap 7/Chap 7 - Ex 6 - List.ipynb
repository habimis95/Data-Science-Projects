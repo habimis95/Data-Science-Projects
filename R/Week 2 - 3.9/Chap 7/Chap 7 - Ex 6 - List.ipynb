{
 "cells": [
  {
   "cell_type": "code",
   "execution_count": 1,
   "metadata": {},
   "outputs": [],
   "source": [
    "p = c(2,7,8)\n",
    "q = c('A','B','C')\n",
    "x = list(p,q)"
   ]
  },
  {
   "cell_type": "code",
   "execution_count": 3,
   "metadata": {},
   "outputs": [
    {
     "name": "stdout",
     "output_type": "stream",
     "text": [
      "[1] \"List x:\"\n",
      "[[1]]\n",
      "[1] 2 7 8\n",
      "\n",
      "[[2]]\n",
      "[1] \"A\" \"B\" \"C\"\n",
      "\n"
     ]
    }
   ],
   "source": [
    "print('List x:')\n",
    "print(x)"
   ]
  },
  {
   "cell_type": "code",
   "execution_count": 4,
   "metadata": {},
   "outputs": [
    {
     "name": "stdout",
     "output_type": "stream",
     "text": [
      "[1] \"list[2]: c(\\\"A\\\", \\\"B\\\", \\\"C\\\")\"\n",
      "[1] \"vector[2] of list[2]: B\"\n",
      "[1] \"List after changing\"\n",
      "[[1]]\n",
      "[1] 2 7 8\n",
      "\n",
      "[[2]]\n",
      "[1] \"A\" \"K\" \"C\"\n",
      "\n"
     ]
    }
   ],
   "source": [
    "# in gia tri cua x tai vi tri thu 2\n",
    "print(paste('list[2]:', toString(x[2])))\n",
    "# in gia tri pha ntu thu 2 cua vector thu 2 trong list\n",
    "print(paste('vector[2] of list[2]:', x[[2]][2]))\n",
    "# thay the phan tu thu 2 cua vector thu 2 trong list thanh 'K'\n",
    "x[[2]][2] = 'K'\n",
    "print('List after changing')\n",
    "print(x)"
   ]
  },
  {
   "cell_type": "code",
   "execution_count": 5,
   "metadata": {},
   "outputs": [
    {
     "name": "stdout",
     "output_type": "stream",
     "text": [
      "[1] \"List after insert:\"\n",
      "[[1]]\n",
      "[1] 2 7 8\n",
      "\n",
      "[[2]]\n",
      "[1] \"A\" \"K\" \"C\"\n",
      "\n",
      "[[3]]\n",
      "[1] 1 3 4\n",
      "\n",
      "[[1]]\n",
      "[1] 2 7 8\n",
      "\n",
      "[[2]]\n",
      "[1] \"A\" \"K\" \"C\"\n",
      "\n",
      "[[3]]\n",
      "[1] 1 3 4\n",
      "\n",
      "[[4]]\n",
      "[1] 1 3 4\n",
      "\n"
     ]
    }
   ],
   "source": [
    "# them t = c(1, 3, 4) vao list\n",
    "# cach 1\n",
    "t = c(1, 3, 4)\n",
    "x = c(x, list(t))\n",
    "print('List after insert:')\n",
    "print(x)\n",
    "# cach 2\n",
    "x[length(x)+1]=list(t)\n",
    "print(x)"
   ]
  },
  {
   "cell_type": "code",
   "execution_count": 6,
   "metadata": {},
   "outputs": [
    {
     "name": "stdout",
     "output_type": "stream",
     "text": [
      "[1] \"List a:\"\n",
      "$x\n",
      "[1] 5\n",
      "\n",
      "$y\n",
      "[1] 10\n",
      "\n",
      "$z\n",
      "[1] 15\n",
      "\n",
      "[1] \"Sum of list: 30\"\n"
     ]
    }
   ],
   "source": [
    "a = list('x'=5,'y'=10,'z'=15)\n",
    "print('List a:')\n",
    "print(a)\n",
    "# tinh tong cua list \n",
    "print(paste('Sum of list:', sum(unlist(a))))"
   ]
  },
  {
   "cell_type": "code",
   "execution_count": 7,
   "metadata": {},
   "outputs": [
    {
     "name": "stdout",
     "output_type": "stream",
     "text": [
      "[1] \"Newlist:\"\n",
      "$a\n",
      " [1]  1  2  3  4  5  6  7  8  9 10\n",
      "\n",
      "$b\n",
      "[1] \"Good morning\"\n",
      "\n",
      "$c\n",
      "[1] \"H1\"\n",
      "\n",
      "$a\n",
      " [1]  2  3  4  5  6  7  8  9 10 11\n",
      "\n",
      "$b\n",
      "[1] \"Good morning\"\n",
      "\n",
      "$c\n",
      "[1] \"H1\"\n",
      "\n"
     ]
    }
   ],
   "source": [
    "Newlist = list(a=1:10, b='Good morning', c='H1')\n",
    "print('Newlist:')\n",
    "print(Newlist)\n",
    "# cong them 1 vao cac phan tu cua element a trong list\n",
    "Newlist$a = Newlist$a+1\n",
    "print(Newlist)"
   ]
  },
  {
   "cell_type": "code",
   "execution_count": null,
   "metadata": {},
   "outputs": [],
   "source": []
  }
 ],
 "metadata": {
  "kernelspec": {
   "display_name": "R",
   "language": "R",
   "name": "ir"
  },
  "language_info": {
   "codemirror_mode": "r",
   "file_extension": ".r",
   "mimetype": "text/x-r-source",
   "name": "R",
   "pygments_lexer": "r",
   "version": "4.0.2"
  }
 },
 "nbformat": 4,
 "nbformat_minor": 4
}
