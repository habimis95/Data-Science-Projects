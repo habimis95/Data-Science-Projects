{
 "cells": [
  {
   "cell_type": "code",
   "execution_count": 1,
   "metadata": {},
   "outputs": [],
   "source": [
    "# tao array A3\n",
    "matrix_1 = matrix(c(1:9),nrow=3,byrow=TRUE)\n",
    "matrix_2 = matrix(c(10:18),nrow=3,byrow=TRUE)\n",
    "\n",
    "A3 = array(c(matrix_1, matrix_2), dim=c(3,3,2),\n",
    "          dimnames = list(c('r1','r2','r3'),\n",
    "                         c('c1','c2','c3'),\n",
    "                         c('matrix1','matrix2')))"
   ]
  },
  {
   "cell_type": "code",
   "execution_count": 3,
   "metadata": {},
   "outputs": [
    {
     "name": "stdout",
     "output_type": "stream",
     "text": [
      "[1] \"Array A3:\"\n",
      ", , matrix1\n",
      "\n",
      "   c1 c2 c3\n",
      "r1  1  2  3\n",
      "r2  4  5  6\n",
      "r3  7  8  9\n",
      "\n",
      ", , matrix2\n",
      "\n",
      "   c1 c2 c3\n",
      "r1 10 11 12\n",
      "r2 13 14 15\n",
      "r3 16 17 18\n",
      "\n"
     ]
    }
   ],
   "source": [
    "print('Array A3:')\n",
    "print(A3)"
   ]
  },
  {
   "cell_type": "code",
   "execution_count": 7,
   "metadata": {},
   "outputs": [
    {
     "name": "stdout",
     "output_type": "stream",
     "text": [
      "[1] \"Tong theo dong cua tat ca matrix\"\n",
      "r1 r2 r3 \n",
      "39 57 75 \n",
      "[1] \"Tong theo cot cua tat ca matrix\"\n",
      "c1 c2 c3 \n",
      "51 57 63 \n",
      "[1] \"Tong theo matrix cua array\"\n",
      "matrix1 matrix2 \n",
      "     45     126 \n",
      "[1] \"Tong dong 1, matrix1\"\n",
      "[1] 6\n",
      "[1] \"Tich cot 2, matrix2\"\n",
      "[1] 2618\n"
     ]
    }
   ],
   "source": [
    "# tong theo dong cua tat ca matrix\n",
    "print('Tong theo dong cua tat ca matrix')\n",
    "print(apply(A3,c(1),sum))\n",
    "# tong theo cot cua tat ca matrix\n",
    "print('Tong theo cot cua tat ca matrix')\n",
    "print(apply(A3,c(2),sum))\n",
    "# tong cua tat ca matrix\n",
    "print('Tong theo matrix cua array')\n",
    "print(apply(A3,c(3),sum))\n",
    "\n",
    "print('Tong dong 1, matrix1')\n",
    "print(sum(A3[1,,1]))\n",
    "print('Tich cot 2, matrix2')\n",
    "print(prod(A3[,2,2]))"
   ]
  },
  {
   "cell_type": "code",
   "execution_count": null,
   "metadata": {},
   "outputs": [],
   "source": []
  }
 ],
 "metadata": {
  "kernelspec": {
   "display_name": "R",
   "language": "R",
   "name": "ir"
  },
  "language_info": {
   "codemirror_mode": "r",
   "file_extension": ".r",
   "mimetype": "text/x-r-source",
   "name": "R",
   "pygments_lexer": "r",
   "version": "4.0.2"
  }
 },
 "nbformat": 4,
 "nbformat_minor": 4
}
