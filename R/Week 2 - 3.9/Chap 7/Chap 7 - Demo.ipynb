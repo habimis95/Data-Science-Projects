{
 "cells": [
  {
   "cell_type": "markdown",
   "metadata": {},
   "source": [
    "# MATRIX"
   ]
  },
  {
   "cell_type": "code",
   "execution_count": 1,
   "metadata": {},
   "outputs": [
    {
     "name": "stdout",
     "output_type": "stream",
     "text": [
      "     [,1] [,2] [,3]\n",
      "[1,]    1    2    3\n",
      "[2,]    4    5    6\n",
      "[3,]    7    8    9\n",
      "[4,]   10   11   12\n"
     ]
    }
   ],
   "source": [
    "# Elements are arranged sequentially by row\n",
    "m = matrix(c(1:12), nrow=4,ncol=3, byrow=TRUE)\n",
    "print(m)"
   ]
  },
  {
   "cell_type": "code",
   "execution_count": 3,
   "metadata": {},
   "outputs": [
    {
     "name": "stdout",
     "output_type": "stream",
     "text": [
      "     [,1] [,2] [,3]\n",
      "[1,]    1    5    9\n",
      "[2,]    2    6   10\n",
      "[3,]    3    7   11\n",
      "[4,]    4    8   12\n"
     ]
    }
   ],
   "source": [
    "# Elements are arranged sequentially by column\n",
    "n = matrix(c(1:12),nrow=4,byrow=FALSE)\n",
    "print(n)"
   ]
  },
  {
   "cell_type": "code",
   "execution_count": 4,
   "metadata": {},
   "outputs": [
    {
     "name": "stdout",
     "output_type": "stream",
     "text": [
      "     [,1] [,2] [,3] [,4]\n",
      "[1,]    1    2    3    4\n",
      "[2,]    5    6    7    8\n",
      "[3,]    9   10   11   12\n"
     ]
    }
   ],
   "source": [
    "n = matrix(c(1:12),ncol=4,byrow=TRUE)\n",
    "print(n)"
   ]
  },
  {
   "cell_type": "code",
   "execution_count": 5,
   "metadata": {},
   "outputs": [
    {
     "name": "stdout",
     "output_type": "stream",
     "text": [
      "     col1 col2 col3\n",
      "row1    1    2    3\n",
      "row2    4    5    6\n",
      "row3    7    8    9\n",
      "row4   10   11   12\n"
     ]
    }
   ],
   "source": [
    "# Define the column and row names\n",
    "rownames = c('row1','row2','row3','row4')\n",
    "colnames = c('col1','col2','col3')\n",
    "p = matrix(c(1:12),nrow=4, byrow=TRUE, dimnames = list(rownames,colnames))\n",
    "print(p)"
   ]
  },
  {
   "cell_type": "code",
   "execution_count": 8,
   "metadata": {},
   "outputs": [
    {
     "name": "stdout",
     "output_type": "stream",
     "text": [
      "[1] 3\n",
      "[1] 11\n",
      "col1 col2 col3 \n",
      "   4    5    6 \n",
      "row1 row2 row3 row4 \n",
      "   3    6    9   12 \n"
     ]
    }
   ],
   "source": [
    "# Access the element at 3rd column and 1st row\n",
    "print(p[1,3])\n",
    "\n",
    "# Access the element at 2nd column and 4th row\n",
    "print(p[4,2])\n",
    "\n",
    "# Access only the 2nd row\n",
    "print(p[2,])\n",
    "\n",
    "# Access only the 3rd column\n",
    "print(p[,3])"
   ]
  },
  {
   "cell_type": "markdown",
   "metadata": {},
   "source": [
    "# Operators in Matrix"
   ]
  },
  {
   "cell_type": "code",
   "execution_count": 9,
   "metadata": {},
   "outputs": [
    {
     "name": "stderr",
     "output_type": "stream",
     "text": [
      "Warning message in matrix(seq(1, 15, by = 1), nrow = 2, byrow = TRUE):\n",
      "\"data length [15] is not a sub-multiple or multiple of the number of rows [2]\"\n"
     ]
    },
    {
     "name": "stdout",
     "output_type": "stream",
     "text": [
      "     [,1] [,2] [,3] [,4] [,5] [,6] [,7] [,8]\n",
      "[1,]    1    2    3    4    5    6    7    8\n",
      "[2,]    9   10   11   12   13   14   15    1\n"
     ]
    }
   ],
   "source": [
    "m1 = matrix(seq(1,15, by = 1),nrow=2,byrow = TRUE)\n",
    "print(m1)"
   ]
  },
  {
   "cell_type": "code",
   "execution_count": 10,
   "metadata": {},
   "outputs": [
    {
     "name": "stderr",
     "output_type": "stream",
     "text": [
      "Warning message in matrix(seq(1, 15, by = 1), nrow = 2, byrow = TRUE):\n",
      "\"data length [15] is not a sub-multiple or multiple of the number of rows [2]\"\n"
     ]
    },
    {
     "name": "stdout",
     "output_type": "stream",
     "text": [
      "     [,1] [,2] [,3] [,4] [,5] [,6] [,7] [,8]\n",
      "[1,]    1    2    3    4    5    6    7    8\n",
      "[2,]    9   10   11   12   13   14   15    1\n"
     ]
    }
   ],
   "source": [
    "m2 = matrix(seq(1,15, by = 1),nrow=2,byrow = TRUE)\n",
    "print(m2)"
   ]
  },
  {
   "cell_type": "code",
   "execution_count": 12,
   "metadata": {},
   "outputs": [
    {
     "name": "stdout",
     "output_type": "stream",
     "text": [
      "Result of addition \n",
      "     [,1] [,2] [,3] [,4] [,5] [,6] [,7] [,8]\n",
      "[1,]    2    4    6    8   10   12   14   16\n",
      "[2,]   18   20   22   24   26   28   30    2\n"
     ]
    }
   ],
   "source": [
    "# Add the matrices\n",
    "result_add = m1 + m2\n",
    "cat('Result of addition','\\n')\n",
    "print(result_add)"
   ]
  },
  {
   "cell_type": "code",
   "execution_count": null,
   "metadata": {},
   "outputs": [],
   "source": [
    "# substract the matrices \n",
    "result_sub = m1 - m2\n",
    "cat('Result of subtraction')"
   ]
  },
  {
   "cell_type": "code",
   "execution_count": null,
   "metadata": {},
   "outputs": [],
   "source": []
  },
  {
   "cell_type": "code",
   "execution_count": null,
   "metadata": {},
   "outputs": [],
   "source": []
  },
  {
   "cell_type": "markdown",
   "metadata": {},
   "source": [
    "# ARRAY"
   ]
  },
  {
   "cell_type": "code",
   "execution_count": 13,
   "metadata": {},
   "outputs": [],
   "source": [
    "v1 = c(1:6)\n",
    "v2 = c(7:15)"
   ]
  },
  {
   "cell_type": "code",
   "execution_count": 14,
   "metadata": {},
   "outputs": [
    {
     "name": "stdout",
     "output_type": "stream",
     "text": [
      ", , 1\n",
      "\n",
      "     [,1] [,2]\n",
      "[1,]    1    4\n",
      "[2,]    2    5\n",
      "[3,]    3    6\n",
      "\n",
      ", , 2\n",
      "\n",
      "     [,1] [,2]\n",
      "[1,]    1    4\n",
      "[2,]    2    5\n",
      "[3,]    3    6\n",
      "\n"
     ]
    }
   ],
   "source": [
    "array1 = array(v1, dim=c(3,2,2))\n",
    "print(array1)"
   ]
  },
  {
   "cell_type": "code",
   "execution_count": 15,
   "metadata": {},
   "outputs": [
    {
     "name": "stdout",
     "output_type": "stream",
     "text": [
      ", , 1\n",
      "\n",
      "     [,1] [,2] [,3] [,4]\n",
      "[1,]    1    4    7   10\n",
      "[2,]    2    5    8   11\n",
      "[3,]    3    6    9   12\n",
      "\n",
      ", , 2\n",
      "\n",
      "     [,1] [,2] [,3] [,4]\n",
      "[1,]   13    1    4    7\n",
      "[2,]   14    2    5    8\n",
      "[3,]   15    3    6    9\n",
      "\n"
     ]
    }
   ],
   "source": [
    "array2 = array(c(v1,v2),dim=c(3,4,2))\n",
    "print(array2)"
   ]
  },
  {
   "cell_type": "code",
   "execution_count": 16,
   "metadata": {},
   "outputs": [
    {
     "name": "stdout",
     "output_type": "stream",
     "text": [
      ", , matrix1\n",
      "\n",
      "     col1 col2 col3 col4\n",
      "row1    1    4    7   10\n",
      "row2    2    5    8   11\n",
      "row3    3    6    9   12\n",
      "\n",
      ", , matrix2\n",
      "\n",
      "     col1 col2 col3 col4\n",
      "row1   13    1    4    7\n",
      "row2   14    2    5    8\n",
      "row3   15    3    6    9\n",
      "\n"
     ]
    }
   ],
   "source": [
    "row_names = c('row1','row2','row3')\n",
    "col_names = c('col1','col2','col3','col4')\n",
    "mat_names = c('matrix1','matrix2')\n",
    "array3 = array(c(v1,v2),dim=c(3,4,2),dimnames=list(row_names,col_names,mat_names))\n",
    "print(array3)"
   ]
  },
  {
   "cell_type": "code",
   "execution_count": 17,
   "metadata": {},
   "outputs": [
    {
     "name": "stdout",
     "output_type": "stream",
     "text": [
      "[1] 6\n"
     ]
    }
   ],
   "source": [
    "print(array3[3,2,1])"
   ]
  },
  {
   "cell_type": "code",
   "execution_count": 18,
   "metadata": {},
   "outputs": [
    {
     "name": "stdout",
     "output_type": "stream",
     "text": [
      "col1 col2 col3 col4 \n",
      "  13    1    4    7 \n"
     ]
    }
   ],
   "source": [
    "print(array3[1,,2])"
   ]
  },
  {
   "cell_type": "code",
   "execution_count": 19,
   "metadata": {},
   "outputs": [
    {
     "name": "stdout",
     "output_type": "stream",
     "text": [
      "row1 row2 row3 \n",
      "   7    8    9 \n"
     ]
    }
   ],
   "source": [
    "print(array3[,3,1])"
   ]
  },
  {
   "cell_type": "code",
   "execution_count": 20,
   "metadata": {},
   "outputs": [
    {
     "name": "stdout",
     "output_type": "stream",
     "text": [
      "     col1 col2 col3 col4\n",
      "row1   13    1    4    7\n",
      "row2   14    2    5    8\n",
      "row3   15    3    6    9\n"
     ]
    }
   ],
   "source": [
    "print(array3[,,2])"
   ]
  },
  {
   "cell_type": "code",
   "execution_count": 22,
   "metadata": {},
   "outputs": [
    {
     "name": "stdout",
     "output_type": "stream",
     "text": [
      "row1 row2 row3 \n",
      "  47   55   63 \n"
     ]
    }
   ],
   "source": [
    "print(apply(array3,c(1),sum))"
   ]
  },
  {
   "cell_type": "code",
   "execution_count": 23,
   "metadata": {},
   "outputs": [
    {
     "name": "stdout",
     "output_type": "stream",
     "text": [
      "col1 col2 col3 col4 \n",
      "   1    1    4    7 \n"
     ]
    }
   ],
   "source": [
    "print(apply(array3,c(2),min))"
   ]
  },
  {
   "cell_type": "code",
   "execution_count": 24,
   "metadata": {},
   "outputs": [
    {
     "name": "stdout",
     "output_type": "stream",
     "text": [
      "matrix1 matrix2 \n",
      "   6.50    7.25 \n"
     ]
    }
   ],
   "source": [
    "print(apply(array3,c(3),mean))"
   ]
  },
  {
   "cell_type": "code",
   "execution_count": 28,
   "metadata": {},
   "outputs": [
    {
     "data": {
      "text/html": [
       "<table>\n",
       "<caption>A matrix: 3 × 4 of type int</caption>\n",
       "<thead>\n",
       "\t<tr><th></th><th scope=col>col1</th><th scope=col>col2</th><th scope=col>col3</th><th scope=col>col4</th></tr>\n",
       "</thead>\n",
       "<tbody>\n",
       "\t<tr><th scope=row>row1</th><td>13</td><td>1</td><td>4</td><td>7</td></tr>\n",
       "\t<tr><th scope=row>row2</th><td>14</td><td>2</td><td>5</td><td>8</td></tr>\n",
       "\t<tr><th scope=row>row3</th><td>15</td><td>3</td><td>6</td><td>9</td></tr>\n",
       "</tbody>\n",
       "</table>\n"
      ],
      "text/latex": [
       "A matrix: 3 × 4 of type int\n",
       "\\begin{tabular}{r|llll}\n",
       "  & col1 & col2 & col3 & col4\\\\\n",
       "\\hline\n",
       "\trow1 & 13 & 1 & 4 & 7\\\\\n",
       "\trow2 & 14 & 2 & 5 & 8\\\\\n",
       "\trow3 & 15 & 3 & 6 & 9\\\\\n",
       "\\end{tabular}\n"
      ],
      "text/markdown": [
       "\n",
       "A matrix: 3 × 4 of type int\n",
       "\n",
       "| <!--/--> | col1 | col2 | col3 | col4 |\n",
       "|---|---|---|---|---|\n",
       "| row1 | 13 | 1 | 4 | 7 |\n",
       "| row2 | 14 | 2 | 5 | 8 |\n",
       "| row3 | 15 | 3 | 6 | 9 |\n",
       "\n"
      ],
      "text/plain": [
       "     col1 col2 col3 col4\n",
       "row1 13   1    4    7   \n",
       "row2 14   2    5    8   \n",
       "row3 15   3    6    9   "
      ]
     },
     "metadata": {},
     "output_type": "display_data"
    }
   ],
   "source": [
    "array3[,,2]"
   ]
  },
  {
   "cell_type": "markdown",
   "metadata": {},
   "source": [
    "# LIST"
   ]
  },
  {
   "cell_type": "code",
   "execution_count": 29,
   "metadata": {},
   "outputs": [
    {
     "name": "stdout",
     "output_type": "stream",
     "text": [
      "[[1]]\n",
      "[1] \"hello\"\n",
      "\n",
      "[[2]]\n",
      "[1] \"R\"\n",
      "\n",
      "[[3]]\n",
      "[1] 12\n",
      "\n",
      "[[4]]\n",
      "[1] 25.5\n",
      "\n",
      "[[5]]\n",
      "[1] 21 32 11\n",
      "\n",
      "[[6]]\n",
      "[1] TRUE\n",
      "\n"
     ]
    }
   ],
   "source": [
    "list_data = list('hello','R',12,25.5,c(21,32,11), TRUE)\n",
    "print(list_data)"
   ]
  },
  {
   "cell_type": "code",
   "execution_count": 35,
   "metadata": {},
   "outputs": [
    {
     "name": "stdout",
     "output_type": "stream",
     "text": [
      "$`Traffic Light`\n",
      "[1] \"Red\"    \"Green\"  \"Yellow\"\n",
      "\n",
      "$A_Matrix\n",
      "     [,1] [,2] [,3] [,4]\n",
      "[1,]    1    3    5    7\n",
      "[2,]    2    4    6    8\n",
      "\n",
      "$`A Inner List`\n",
      "$`A Inner List`[[1]]\n",
      "[1] \"green\"\n",
      "\n",
      "$`A Inner List`[[2]]\n",
      "[1] TRUE\n",
      "\n",
      "$`A Inner List`[[3]]\n",
      "[1] 12.5\n",
      "\n",
      "\n",
      "$Pass\n",
      "[1] TRUE\n",
      "\n"
     ]
    }
   ],
   "source": [
    "# Create a list containing a vector, a mtrix, list and logic value\n",
    "list_1 = list(c('Red','Green','Yellow'), matrix(c(1:8), nrow=2),\n",
    "             list('green',TRUE,12.5),TRUE)\n",
    "\n",
    "# Give names to the elements in the list\n",
    "names(list_1) = c('Traffic Light','A_Matrix','A Inner List', 'Pass') # ko nên dat ten co khoang trang\n",
    "print(list_1)"
   ]
  },
  {
   "cell_type": "code",
   "execution_count": 36,
   "metadata": {},
   "outputs": [
    {
     "name": "stdout",
     "output_type": "stream",
     "text": [
      "$`Traffic Light`\n",
      "[1] \"Red\"    \"Green\"  \"Yellow\"\n",
      "\n"
     ]
    }
   ],
   "source": [
    "# Access the first element of the list\n",
    "print(list_1[1])"
   ]
  },
  {
   "cell_type": "code",
   "execution_count": 37,
   "metadata": {},
   "outputs": [
    {
     "name": "stdout",
     "output_type": "stream",
     "text": [
      "     [,1] [,2] [,3] [,4]\n",
      "[1,]    1    3    5    7\n",
      "[2,]    2    4    6    8\n"
     ]
    }
   ],
   "source": [
    "# Access the list element using the name of the elenment\n",
    "print(list_1$A_Matrix)"
   ]
  },
  {
   "cell_type": "code",
   "execution_count": 40,
   "metadata": {},
   "outputs": [
    {
     "name": "stdout",
     "output_type": "stream",
     "text": [
      "$Pass\n",
      "[1] \"New element\"\n",
      "\n",
      "$<NA>\n",
      "NULL\n",
      "\n",
      "$`A Inner List`\n",
      "[1] TRUE\n",
      "\n"
     ]
    }
   ],
   "source": [
    "# Add element at the end of the list\n",
    "list_1[4] = 'New element'\n",
    "print(list_1[4])\n",
    "\n",
    "# Remove the last element\n",
    "list_1[4] = NULL\n",
    "#list_1[-4]\n",
    "\n",
    "# Print the 4th element\n",
    "print(list_1[4])\n",
    "\n",
    "# Update the 3rd element\n",
    "list_1[3] = TRUE\n",
    "print(list_1[3])"
   ]
  },
  {
   "cell_type": "markdown",
   "metadata": {},
   "source": [
    "# Merge List"
   ]
  },
  {
   "cell_type": "code",
   "execution_count": 41,
   "metadata": {},
   "outputs": [
    {
     "name": "stdout",
     "output_type": "stream",
     "text": [
      "[[1]]\n",
      "[1] 1\n",
      "\n",
      "[[2]]\n",
      "[1] TRUE\n",
      "\n",
      "[[3]]\n",
      "[1] \"RED\"    \"Green\"  \"Yellow\"\n",
      "\n",
      "[[4]]\n",
      "[1] TRUE\n",
      "\n",
      "[[5]]\n",
      "[1] \"hello\"\n",
      "\n",
      "[[6]]\n",
      "[1] 12.5\n",
      "\n"
     ]
    }
   ],
   "source": [
    "# Create 2 lists\n",
    "list1 = list(1, TRUE, c('RED','Green','Yellow'))\n",
    "list2 = list(TRUE,'hello',12.5)\n",
    "\n",
    "# Merge the 2 lists\n",
    "merged.list = c(list1,list2)\n",
    "\n",
    "# Print the merged list\n",
    "print(merged.list)"
   ]
  },
  {
   "cell_type": "markdown",
   "metadata": {},
   "source": [
    "# Transform LIST -> VECTOR"
   ]
  },
  {
   "cell_type": "code",
   "execution_count": 42,
   "metadata": {},
   "outputs": [
    {
     "name": "stdout",
     "output_type": "stream",
     "text": [
      "[1] 1 2 3 4 5\n",
      "[1]  6  7  8  9 10\n",
      "[1]  7  9 11 13 15\n"
     ]
    }
   ],
   "source": [
    "# create lists\n",
    "list1 = list(1:5)\n",
    "list2 = list(6:10)\n",
    "\n",
    "# convert the lists to vectors\n",
    "v1 = unlist(list1)\n",
    "v2 = unlist(list2)\n",
    "print(v1)\n",
    "print(v2)\n",
    "\n",
    "# Now add the vectors\n",
    "result = v1 + v2\n",
    "print(result)"
   ]
  },
  {
   "cell_type": "code",
   "execution_count": null,
   "metadata": {},
   "outputs": [],
   "source": []
  }
 ],
 "metadata": {
  "kernelspec": {
   "display_name": "R",
   "language": "R",
   "name": "ir"
  },
  "language_info": {
   "codemirror_mode": "r",
   "file_extension": ".r",
   "mimetype": "text/x-r-source",
   "name": "R",
   "pygments_lexer": "r",
   "version": "4.0.2"
  }
 },
 "nbformat": 4,
 "nbformat_minor": 4
}
