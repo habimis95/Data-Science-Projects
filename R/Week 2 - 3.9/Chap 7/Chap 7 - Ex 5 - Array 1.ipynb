{
 "cells": [
  {
   "cell_type": "code",
   "execution_count": 2,
   "metadata": {},
   "outputs": [],
   "source": [
    "v = c()\n",
    "i = 1\n",
    "while(i<=50){\n",
    "    x = floor(runif(1, min = 5, max = 50))\n",
    "    if(x%%2==0){\n",
    "        v[i]= x\n",
    "        i = i +1\n",
    "    }\n",
    "}"
   ]
  },
  {
   "cell_type": "code",
   "execution_count": 3,
   "metadata": {},
   "outputs": [
    {
     "name": "stdout",
     "output_type": "stream",
     "text": [
      " [1] 22 10 30 48 22  6  8 42 16 36 40 30 12  6 46 40 46 30 12 42 10 16 24 34  6\n",
      "[26] 36 28 24 44 20 12  8 40 10  8 20 30  8 42 48 24 36 10  6 48 26 26 18 28 18\n"
     ]
    }
   ],
   "source": [
    "print(v)"
   ]
  },
  {
   "cell_type": "code",
   "execution_count": 4,
   "metadata": {},
   "outputs": [
    {
     "name": "stdout",
     "output_type": "stream",
     "text": [
      "[1] \"Array A4:\"\n",
      ", , 1\n",
      "\n",
      "     [,1] [,2] [,3] [,4] [,5]\n",
      "[1,]   22    6   40   40   10\n",
      "[2,]   10    8   30   46   16\n",
      "[3,]   30   42   12   30   24\n",
      "[4,]   48   16    6   12   34\n",
      "[5,]   22   36   46   42    6\n",
      "\n",
      ", , 2\n",
      "\n",
      "     [,1] [,2] [,3] [,4] [,5]\n",
      "[1,]   36   12   20   24   26\n",
      "[2,]   28    8   30   36   26\n",
      "[3,]   24   40    8   10   18\n",
      "[4,]   44   10   42    6   28\n",
      "[5,]   20    8   48   48   18\n",
      "\n"
     ]
    }
   ],
   "source": [
    "A4 = array(v, dim=c(5,5,2))\n",
    "print('Array A4:')\n",
    "print(A4)"
   ]
  },
  {
   "cell_type": "code",
   "execution_count": 5,
   "metadata": {},
   "outputs": [
    {
     "name": "stdout",
     "output_type": "stream",
     "text": [
      "[1] 5\n",
      "[1] 5\n",
      "[1] 2\n"
     ]
    }
   ],
   "source": [
    "rows = nrow(A4)\n",
    "print(rows)\n",
    "\n",
    "cols = ncol(A4)\n",
    "print(cols)\n",
    "\n",
    "dims = dim(A4)[3]\n",
    "print(dims)"
   ]
  },
  {
   "cell_type": "code",
   "execution_count": 7,
   "metadata": {},
   "outputs": [
    {
     "name": "stdout",
     "output_type": "stream",
     "text": [
      "[1] \"A4[ 1 , 2 , 1 ] = 6\"\n",
      "[1] \"A4[ 2 , 3 , 1 ] = 30\"\n",
      "[1] \"A4[ 3 , 1 , 1 ] = 30\"\n",
      "[1] \"A4[ 3 , 2 , 1 ] = 42\"\n",
      "[1] \"A4[ 3 , 3 , 1 ] = 12\"\n",
      "[1] \"A4[ 3 , 4 , 1 ] = 30\"\n",
      "[1] \"A4[ 3 , 5 , 1 ] = 24\"\n",
      "[1] \"A4[ 4 , 1 , 1 ] = 48\"\n",
      "[1] \"A4[ 4 , 3 , 1 ] = 6\"\n",
      "[1] \"A4[ 4 , 4 , 1 ] = 12\"\n",
      "[1] \"A4[ 5 , 2 , 1 ] = 36\"\n",
      "[1] \"A4[ 5 , 4 , 1 ] = 42\"\n",
      "[1] \"A4[ 5 , 5 , 1 ] = 6\"\n",
      "[1] \"A4[ 1 , 1 , 2 ] = 36\"\n",
      "[1] \"A4[ 1 , 2 , 2 ] = 12\"\n",
      "[1] \"A4[ 1 , 4 , 2 ] = 24\"\n",
      "[1] \"A4[ 2 , 3 , 2 ] = 30\"\n",
      "[1] \"A4[ 2 , 4 , 2 ] = 36\"\n",
      "[1] \"A4[ 3 , 1 , 2 ] = 24\"\n",
      "[1] \"A4[ 3 , 5 , 2 ] = 18\"\n",
      "[1] \"A4[ 4 , 3 , 2 ] = 42\"\n",
      "[1] \"A4[ 4 , 4 , 2 ] = 6\"\n",
      "[1] \"A4[ 5 , 3 , 2 ] = 48\"\n",
      "[1] \"A4[ 5 , 4 , 2 ] = 48\"\n",
      "[1] \"A4[ 5 , 5 , 2 ] = 18\"\n",
      "[1] \"Tong= 666\"\n"
     ]
    }
   ],
   "source": [
    "i = 1\n",
    "j = 1 \n",
    "k = 1\n",
    "tong = 0\n",
    "while(i<=dims){\n",
    "    #print(paste(\"Matrix \",i))\n",
    "    j = 1\n",
    "    while(j<=rows){\n",
    "        #print(paste('row ', j))\n",
    "        k = 1\n",
    "        while(k<=cols){\n",
    "            #print(paste('col ', k))\n",
    "            if(A4[j,k,i]%%2==0 & A4[j,k,i]%%3==0 & A4[j,k,i]%%6==0){\n",
    "                print(paste('A4[',j,',',k,',',i,'] =', A4[j,k,i]))\n",
    "                tong = tong + A4[j,k,i]\n",
    "            }\n",
    "            k = k + 1\n",
    "        }\n",
    "        j = j + 1\n",
    "    }\n",
    "    i = i + 1\n",
    "}\n",
    "print(paste('Tong=', tong))"
   ]
  },
  {
   "cell_type": "code",
   "execution_count": null,
   "metadata": {},
   "outputs": [],
   "source": []
  }
 ],
 "metadata": {
  "kernelspec": {
   "display_name": "R",
   "language": "R",
   "name": "ir"
  },
  "language_info": {
   "codemirror_mode": "r",
   "file_extension": ".r",
   "mimetype": "text/x-r-source",
   "name": "R",
   "pygments_lexer": "r",
   "version": "4.0.2"
  }
 },
 "nbformat": 4,
 "nbformat_minor": 4
}
