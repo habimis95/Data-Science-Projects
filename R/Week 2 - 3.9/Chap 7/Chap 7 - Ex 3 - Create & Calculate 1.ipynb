{
 "cells": [
  {
   "cell_type": "code",
   "execution_count": 2,
   "metadata": {},
   "outputs": [
    {
     "name": "stdin",
     "output_type": "stream",
     "text": [
      "Nhap vao n:  5\n"
     ]
    }
   ],
   "source": [
    "n = as.integer(readline(prompt='Nhap vao n: '))"
   ]
  },
  {
   "cell_type": "code",
   "execution_count": 3,
   "metadata": {},
   "outputs": [
    {
     "name": "stdout",
     "output_type": "stream",
     "text": [
      "[1] \"A1\"\n",
      "         [,1]      [,2]      [,3]      [,4]     [,5]\n",
      "[1,] 17.21061  8.388498  5.471551 19.797797 17.52566\n",
      "[2,] 15.73601  2.582146  2.276348 14.715728 12.15544\n",
      "[3,] 10.94849 17.726904 23.333477 22.172376 17.58660\n",
      "[4,] 19.40750 23.184395  6.150426 12.382731 18.31673\n",
      "[5,] 15.64298  9.065460  1.890417  3.855248 16.01502\n"
     ]
    }
   ],
   "source": [
    "# tao A1 cp mxn phan tu ngau nhien\n",
    "A1 = matrix(runif(n*n, min = 1, max = n*n),n,n)\n",
    "print('A1')\n",
    "print(A1)"
   ]
  },
  {
   "cell_type": "code",
   "execution_count": 4,
   "metadata": {},
   "outputs": [
    {
     "name": "stdin",
     "output_type": "stream",
     "text": [
      "Nhap m:  3\n"
     ]
    }
   ],
   "source": [
    "m = as.integer(readline(prompt='Nhap m: '))"
   ]
  },
  {
   "cell_type": "code",
   "execution_count": 5,
   "metadata": {},
   "outputs": [
    {
     "name": "stdout",
     "output_type": "stream",
     "text": [
      "[1] \"A2\"\n",
      "          [,1]      [,2]      [,3]\n",
      "[1,] 11.581771 11.672741  7.458223\n",
      "[2,]  2.278505 12.809723 12.893407\n",
      "[3,] 14.873182  4.991766  9.938714\n",
      "[4,]  2.827946 11.067863 10.467871\n",
      "[5,]  6.767038  9.701846  6.150701\n"
     ]
    }
   ],
   "source": [
    "# tao A2 co n*m phan tu ngau nhien\n",
    "A2 = matrix(runif(n*m, min=1,max=n*m),n,m)\n",
    "print('A2')\n",
    "print(A2)"
   ]
  },
  {
   "cell_type": "code",
   "execution_count": 6,
   "metadata": {},
   "outputs": [
    {
     "name": "stdout",
     "output_type": "stream",
     "text": [
      "[1] \"Matrix M\"\n",
      "           [,1]        [,2]       [,3]\n",
      "[1,] -1.9809633  1.12673050  2.3555131\n",
      "[2,] -0.2308038 -0.18260374 -0.2133121\n",
      "[3,] -0.4450369  0.11546003  1.1133466\n",
      "[4,]  0.3543012  0.01793085 -0.2313962\n",
      "[5,]  2.4553778 -0.40933958 -1.8717029\n"
     ]
    }
   ],
   "source": [
    "# tinh M biet A1 * M = A2\n",
    "M = solve(A1,A2)\n",
    "print('Matrix M')\n",
    "print(M)"
   ]
  },
  {
   "cell_type": "code",
   "execution_count": 7,
   "metadata": {},
   "outputs": [
    {
     "name": "stdout",
     "output_type": "stream",
     "text": [
      "[1] \"Row 1\"\n",
      "[1] -1.980963  1.126730  2.355513\n"
     ]
    }
   ],
   "source": [
    "# hay in dong 1 cua M\n",
    "print('Row 1')\n",
    "print(M[1,])"
   ]
  },
  {
   "cell_type": "code",
   "execution_count": 8,
   "metadata": {},
   "outputs": [
    {
     "name": "stdout",
     "output_type": "stream",
     "text": [
      "[1] \"Column 1\"\n",
      "[1] -1.9809633 -0.2308038 -0.4450369  0.3543012  2.4553778\n"
     ]
    }
   ],
   "source": [
    "# hay in 1 cot cua M\n",
    "print('Column 1')\n",
    "print(M[,1])"
   ]
  },
  {
   "cell_type": "code",
   "execution_count": 9,
   "metadata": {},
   "outputs": [
    {
     "name": "stdout",
     "output_type": "stream",
     "text": [
      "[1] \"M[3][2]\"\n",
      "[1] 0.11546\n"
     ]
    }
   ],
   "source": [
    "# hay in gia tri dong 3 cot 2 cua M\n",
    "if(n>=3 && m>=2){\n",
    "    print('M[3][2]')\n",
    "    print(M[3,2])\n",
    "}"
   ]
  },
  {
   "cell_type": "code",
   "execution_count": null,
   "metadata": {},
   "outputs": [],
   "source": []
  }
 ],
 "metadata": {
  "kernelspec": {
   "display_name": "R",
   "language": "R",
   "name": "ir"
  },
  "language_info": {
   "codemirror_mode": "r",
   "file_extension": ".r",
   "mimetype": "text/x-r-source",
   "name": "R",
   "pygments_lexer": "r",
   "version": "4.0.2"
  }
 },
 "nbformat": 4,
 "nbformat_minor": 4
}
