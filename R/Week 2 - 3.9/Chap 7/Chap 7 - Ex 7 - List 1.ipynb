{
 "cells": [
  {
   "cell_type": "code",
   "execution_count": 2,
   "metadata": {},
   "outputs": [],
   "source": [
    "# cho 3 vector day, month, year => tao 1 list chua 3 element nay \n",
    "year = c(2008:2018)\n",
    "month = c(1:12)\n",
    "day = c(1:31)"
   ]
  },
  {
   "cell_type": "code",
   "execution_count": 3,
   "metadata": {},
   "outputs": [
    {
     "name": "stdout",
     "output_type": "stream",
     "text": [
      "[1] \"List year_month_day:\"\n",
      "$year\n",
      " [1] 2008 2009 2010 2011 2012 2013 2014 2015 2016 2017 2018\n",
      "\n",
      "$month\n",
      " [1]  1  2  3  4  5  6  7  8  9 10 11 12\n",
      "\n",
      "$day\n",
      " [1]  1  2  3  4  5  6  7  8  9 10 11 12 13 14 15 16 17 18 19 20 21 22 23 24 25\n",
      "[26] 26 27 28 29 30 31\n",
      "\n"
     ]
    }
   ],
   "source": [
    "# list\n",
    "year_month_day.list = list('year'=year,'month'=month,'day'=day)\n",
    "print('List year_month_day:')\n",
    "print(year_month_day.list)"
   ]
  },
  {
   "cell_type": "code",
   "execution_count": 4,
   "metadata": {},
   "outputs": [
    {
     "name": "stdout",
     "output_type": "stream",
     "text": [
      "[1] \"List year_month_day after changing: \"\n",
      "$year\n",
      " [1] 2010 2011 2012 2013 2014 2015 2016 2017 2018 2019 2020\n",
      "\n",
      "$month\n",
      " [1]  1  2  3  4  5  6  7  8  9 10 11 12\n",
      "\n",
      "$day\n",
      " [1]  1  2  3  4  5  6  7  8  9 10 11 12 13 14 15 16 17 18 19 20 21 22 23 24 25\n",
      "[26] 26 27 28 29 30 31\n",
      "\n"
     ]
    }
   ],
   "source": [
    "# cap nhat year thanh c(2010:2020)\n",
    "year_month_day.list$year = c(2010:2020)\n",
    "print('List year_month_day after changing: ')\n",
    "print(year_month_day.list)"
   ]
  },
  {
   "cell_type": "code",
   "execution_count": 5,
   "metadata": {},
   "outputs": [
    {
     "name": "stdout",
     "output_type": "stream",
     "text": [
      "[1] \"After drop the first year in year:\"\n",
      "$year\n",
      " [1] 2011 2012 2013 2014 2015 2016 2017 2018 2019 2020\n",
      "\n",
      "$month\n",
      " [1]  1  2  3  4  5  6  7  8  9 10 11 12\n",
      "\n",
      "$day\n",
      " [1]  1  2  3  4  5  6  7  8  9 10 11 12 13 14 15 16 17 18 19 20 21 22 23 24 25\n",
      "[26] 26 27 28 29 30 31\n",
      "\n"
     ]
    }
   ],
   "source": [
    "# bo nam dau tien trong year cua list\n",
    "# x = length(year_month_day.List$year)\n",
    "year_month_day.list$year = year_month_day.list$year[-1]\n",
    "print('After drop the first year in year:')\n",
    "print(year_month_day.list)"
   ]
  },
  {
   "cell_type": "code",
   "execution_count": 12,
   "metadata": {},
   "outputs": [
    {
     "name": "stdout",
     "output_type": "stream",
     "text": [
      "[1] \"List calculator:\"\n",
      "$`x*2`\n",
      "[1]  2  6  8 14 22 36 58\n",
      "\n",
      "$`x/2`\n",
      "[1]  0.5  1.5  2.0  3.5  5.5  9.0 14.5\n",
      "\n",
      "$`sqrt(x)`\n",
      "[1] 1.000000 1.732051 2.000000 2.645751 3.316625 4.242641 5.385165\n",
      "\n",
      "[1] \"3 phan tu giua\"\n",
      "[1] 2.000000 2.645751 3.316625\n"
     ]
    }
   ],
   "source": [
    "x = c(1,3,4,7,11,18,29)\n",
    "cal.list = list('x*2'=x*2,'x/2'=x/2,'sqrt(x)'=sqrt(x))\n",
    "print('List calculator:')\n",
    "print(cal.list)\n",
    "# tra ve cac phan tu 3-5 $sqrt(x)\n",
    "print('3 phan tu giua')\n",
    "print(cal.list$`sqrt(x)`[3:5])"
   ]
  },
  {
   "cell_type": "code",
   "execution_count": 14,
   "metadata": {},
   "outputs": [
    {
     "name": "stdout",
     "output_type": "stream",
     "text": [
      "[1] \"year_month_day_cal.list: \"\n",
      "$year\n",
      " [1] 2011 2012 2013 2014 2015 2016 2017 2018 2019 2020\n",
      "\n",
      "$month\n",
      " [1]  1  2  3  4  5  6  7  8  9 10 11 12\n",
      "\n",
      "$day\n",
      " [1]  1  2  3  4  5  6  7  8  9 10 11 12 13 14 15 16 17 18 19 20 21 22 23 24 25\n",
      "[26] 26 27 28 29 30 31\n",
      "\n",
      "$`x*2`\n",
      "[1]  2  6  8 14 22 36 58\n",
      "\n",
      "$`x/2`\n",
      "[1]  0.5  1.5  2.0  3.5  5.5  9.0 14.5\n",
      "\n",
      "$`sqrt(x)`\n",
      "[1] 1.000000 1.732051 2.000000 2.645751 3.316625 4.242641 5.385165\n",
      "\n"
     ]
    }
   ],
   "source": [
    "# tao 1 list moi co 2 list tren\n",
    "year_month_day_cal.list = c(year_month_day.list, cal.list)\n",
    "print('year_month_day_cal.list: ')\n",
    "print(year_month_day_cal.list)"
   ]
  },
  {
   "cell_type": "code",
   "execution_count": 15,
   "metadata": {},
   "outputs": [
    {
     "name": "stdout",
     "output_type": "stream",
     "text": [
      "[1] \"list_x2_day\"\n",
      "$year\n",
      " [1] 2011 2012 2013 2014 2015 2016 2017 2018 2019 2020\n",
      "\n",
      "$`x*2`\n",
      "[1]  2  6  8 14 22 36 58\n",
      "\n",
      "$day\n",
      " [1]  1  2  3  4  5  6  7  8  9 10 11 12 13 14 15 16 17 18 19 20 21 22 23 24 25\n",
      "[26] 26 27 28 29 30 31\n",
      "\n"
     ]
    }
   ],
   "source": [
    "# tao mot list con chua year, x82 va day tu list moi tao ra tren\n",
    "year_x2_day = year_month_day_cal.list[c('year','x*2','day')]\n",
    "print('list_x2_day')\n",
    "print(year_x2_day)"
   ]
  },
  {
   "cell_type": "code",
   "execution_count": 16,
   "metadata": {},
   "outputs": [
    {
     "name": "stdout",
     "output_type": "stream",
     "text": [
      "[1] \"length of x*2: 7\"\n",
      "[1] \"last value of year: 2020\"\n"
     ]
    }
   ],
   "source": [
    "# chieu dai cua x*2\n",
    "print(paste('length of x*2:', length(year_x2_day$`x*2`)))\n",
    "print(paste('last value of year:',\n",
    "           year_x2_day$year[length(year_x2_day$year)]))"
   ]
  },
  {
   "cell_type": "code",
   "execution_count": null,
   "metadata": {},
   "outputs": [],
   "source": []
  }
 ],
 "metadata": {
  "kernelspec": {
   "display_name": "R",
   "language": "R",
   "name": "ir"
  },
  "language_info": {
   "codemirror_mode": "r",
   "file_extension": ".r",
   "mimetype": "text/x-r-source",
   "name": "R",
   "pygments_lexer": "r",
   "version": "4.0.2"
  }
 },
 "nbformat": 4,
 "nbformat_minor": 4
}
