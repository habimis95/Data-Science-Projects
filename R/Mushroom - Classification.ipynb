{
 "cells": [
  {
   "cell_type": "markdown",
   "metadata": {},
   "source": [
    "# Data Exploring"
   ]
  },
  {
   "cell_type": "code",
   "execution_count": 1,
   "metadata": {},
   "outputs": [],
   "source": [
    "data = read.csv('Du lieu cung cap/mushroom.csv',sep = ',', header=TRUE, row.names=1)"
   ]
  },
  {
   "cell_type": "code",
   "execution_count": 2,
   "metadata": {},
   "outputs": [
    {
     "data": {
      "text/html": [
       "<table>\n",
       "<caption>A data.frame: 6 × 23</caption>\n",
       "<thead>\n",
       "\t<tr><th></th><th scope=col>Class</th><th scope=col>cap.shape</th><th scope=col>cap.surface</th><th scope=col>cap.color</th><th scope=col>bruises</th><th scope=col>odor</th><th scope=col>gill.attachment</th><th scope=col>gill.spacing</th><th scope=col>gill.size</th><th scope=col>gill.color</th><th scope=col>...</th><th scope=col>stalk.surface.below.ring</th><th scope=col>stalk.color.above.ring</th><th scope=col>stalk.color.below.ring</th><th scope=col>veil.type</th><th scope=col>veil.color</th><th scope=col>ring.number</th><th scope=col>ring.type</th><th scope=col>print</th><th scope=col>population</th><th scope=col>habitat</th></tr>\n",
       "\t<tr><th></th><th scope=col>&lt;chr&gt;</th><th scope=col>&lt;chr&gt;</th><th scope=col>&lt;chr&gt;</th><th scope=col>&lt;chr&gt;</th><th scope=col>&lt;chr&gt;</th><th scope=col>&lt;chr&gt;</th><th scope=col>&lt;chr&gt;</th><th scope=col>&lt;chr&gt;</th><th scope=col>&lt;chr&gt;</th><th scope=col>&lt;chr&gt;</th><th scope=col>...</th><th scope=col>&lt;chr&gt;</th><th scope=col>&lt;chr&gt;</th><th scope=col>&lt;chr&gt;</th><th scope=col>&lt;chr&gt;</th><th scope=col>&lt;chr&gt;</th><th scope=col>&lt;chr&gt;</th><th scope=col>&lt;chr&gt;</th><th scope=col>&lt;chr&gt;</th><th scope=col>&lt;chr&gt;</th><th scope=col>&lt;chr&gt;</th></tr>\n",
       "</thead>\n",
       "<tbody>\n",
       "\t<tr><th scope=row>1</th><td>Poisonous</td><td>x</td><td>s</td><td>n</td><td>t</td><td>None   </td><td>f</td><td>c</td><td>n</td><td>k</td><td>...</td><td>s</td><td>w</td><td>w</td><td>p</td><td>w</td><td>o</td><td>p</td><td>Buff     </td><td>s</td><td>u</td></tr>\n",
       "\t<tr><th scope=row>2</th><td>Edible   </td><td>x</td><td>s</td><td>y</td><td>t</td><td>Almonds</td><td>f</td><td>c</td><td>b</td><td>k</td><td>...</td><td>s</td><td>w</td><td>w</td><td>p</td><td>w</td><td>o</td><td>p</td><td>Chocolate</td><td>n</td><td>g</td></tr>\n",
       "\t<tr><th scope=row>3</th><td>Edible   </td><td>b</td><td>s</td><td>w</td><td>t</td><td>Fishy  </td><td>f</td><td>c</td><td>b</td><td>n</td><td>...</td><td>s</td><td>w</td><td>w</td><td>p</td><td>w</td><td>o</td><td>p</td><td>Chocolate</td><td>n</td><td>m</td></tr>\n",
       "\t<tr><th scope=row>4</th><td>Poisonous</td><td>x</td><td>y</td><td>w</td><td>t</td><td>None   </td><td>f</td><td>c</td><td>n</td><td>n</td><td>...</td><td>s</td><td>w</td><td>w</td><td>p</td><td>w</td><td>o</td><td>p</td><td>Buff     </td><td>s</td><td>u</td></tr>\n",
       "\t<tr><th scope=row>5</th><td>Edible   </td><td>x</td><td>s</td><td>g</td><td>f</td><td>Musty  </td><td>f</td><td>w</td><td>b</td><td>k</td><td>...</td><td>s</td><td>w</td><td>w</td><td>p</td><td>w</td><td>o</td><td>e</td><td>Chocolate</td><td>a</td><td>g</td></tr>\n",
       "\t<tr><th scope=row>6</th><td>Edible   </td><td>x</td><td>y</td><td>y</td><td>t</td><td>Almonds</td><td>f</td><td>c</td><td>b</td><td>n</td><td>...</td><td>s</td><td>w</td><td>w</td><td>p</td><td>w</td><td>o</td><td>p</td><td>Buff     </td><td>n</td><td>g</td></tr>\n",
       "</tbody>\n",
       "</table>\n"
      ],
      "text/latex": [
       "A data.frame: 6 × 23\n",
       "\\begin{tabular}{r|lllllllllllllllllllll}\n",
       "  & Class & cap.shape & cap.surface & cap.color & bruises & odor & gill.attachment & gill.spacing & gill.size & gill.color & ... & stalk.surface.below.ring & stalk.color.above.ring & stalk.color.below.ring & veil.type & veil.color & ring.number & ring.type & print & population & habitat\\\\\n",
       "  & <chr> & <chr> & <chr> & <chr> & <chr> & <chr> & <chr> & <chr> & <chr> & <chr> & ... & <chr> & <chr> & <chr> & <chr> & <chr> & <chr> & <chr> & <chr> & <chr> & <chr>\\\\\n",
       "\\hline\n",
       "\t1 & Poisonous & x & s & n & t & None    & f & c & n & k & ... & s & w & w & p & w & o & p & Buff      & s & u\\\\\n",
       "\t2 & Edible    & x & s & y & t & Almonds & f & c & b & k & ... & s & w & w & p & w & o & p & Chocolate & n & g\\\\\n",
       "\t3 & Edible    & b & s & w & t & Fishy   & f & c & b & n & ... & s & w & w & p & w & o & p & Chocolate & n & m\\\\\n",
       "\t4 & Poisonous & x & y & w & t & None    & f & c & n & n & ... & s & w & w & p & w & o & p & Buff      & s & u\\\\\n",
       "\t5 & Edible    & x & s & g & f & Musty   & f & w & b & k & ... & s & w & w & p & w & o & e & Chocolate & a & g\\\\\n",
       "\t6 & Edible    & x & y & y & t & Almonds & f & c & b & n & ... & s & w & w & p & w & o & p & Buff      & n & g\\\\\n",
       "\\end{tabular}\n"
      ],
      "text/markdown": [
       "\n",
       "A data.frame: 6 × 23\n",
       "\n",
       "| <!--/--> | Class &lt;chr&gt; | cap.shape &lt;chr&gt; | cap.surface &lt;chr&gt; | cap.color &lt;chr&gt; | bruises &lt;chr&gt; | odor &lt;chr&gt; | gill.attachment &lt;chr&gt; | gill.spacing &lt;chr&gt; | gill.size &lt;chr&gt; | gill.color &lt;chr&gt; | ... ... | stalk.surface.below.ring &lt;chr&gt; | stalk.color.above.ring &lt;chr&gt; | stalk.color.below.ring &lt;chr&gt; | veil.type &lt;chr&gt; | veil.color &lt;chr&gt; | ring.number &lt;chr&gt; | ring.type &lt;chr&gt; | print &lt;chr&gt; | population &lt;chr&gt; | habitat &lt;chr&gt; |\n",
       "|---|---|---|---|---|---|---|---|---|---|---|---|---|---|---|---|---|---|---|---|---|---|\n",
       "| 1 | Poisonous | x | s | n | t | None    | f | c | n | k | ... | s | w | w | p | w | o | p | Buff      | s | u |\n",
       "| 2 | Edible    | x | s | y | t | Almonds | f | c | b | k | ... | s | w | w | p | w | o | p | Chocolate | n | g |\n",
       "| 3 | Edible    | b | s | w | t | Fishy   | f | c | b | n | ... | s | w | w | p | w | o | p | Chocolate | n | m |\n",
       "| 4 | Poisonous | x | y | w | t | None    | f | c | n | n | ... | s | w | w | p | w | o | p | Buff      | s | u |\n",
       "| 5 | Edible    | x | s | g | f | Musty   | f | w | b | k | ... | s | w | w | p | w | o | e | Chocolate | a | g |\n",
       "| 6 | Edible    | x | y | y | t | Almonds | f | c | b | n | ... | s | w | w | p | w | o | p | Buff      | n | g |\n",
       "\n"
      ],
      "text/plain": [
       "  Class     cap.shape cap.surface cap.color bruises odor    gill.attachment\n",
       "1 Poisonous x         s           n         t       None    f              \n",
       "2 Edible    x         s           y         t       Almonds f              \n",
       "3 Edible    b         s           w         t       Fishy   f              \n",
       "4 Poisonous x         y           w         t       None    f              \n",
       "5 Edible    x         s           g         f       Musty   f              \n",
       "6 Edible    x         y           y         t       Almonds f              \n",
       "  gill.spacing gill.size gill.color ... stalk.surface.below.ring\n",
       "1 c            n         k          ... s                       \n",
       "2 c            b         k          ... s                       \n",
       "3 c            b         n          ... s                       \n",
       "4 c            n         n          ... s                       \n",
       "5 w            b         k          ... s                       \n",
       "6 c            b         n          ... s                       \n",
       "  stalk.color.above.ring stalk.color.below.ring veil.type veil.color\n",
       "1 w                      w                      p         w         \n",
       "2 w                      w                      p         w         \n",
       "3 w                      w                      p         w         \n",
       "4 w                      w                      p         w         \n",
       "5 w                      w                      p         w         \n",
       "6 w                      w                      p         w         \n",
       "  ring.number ring.type print     population habitat\n",
       "1 o           p         Buff      s          u      \n",
       "2 o           p         Chocolate n          g      \n",
       "3 o           p         Chocolate n          m      \n",
       "4 o           p         Buff      s          u      \n",
       "5 o           e         Chocolate a          g      \n",
       "6 o           p         Buff      n          g      "
      ]
     },
     "metadata": {},
     "output_type": "display_data"
    }
   ],
   "source": [
    "head(data)"
   ]
  },
  {
   "cell_type": "code",
   "execution_count": 3,
   "metadata": {},
   "outputs": [
    {
     "name": "stdout",
     "output_type": "stream",
     "text": [
      "[1] \"Number of rows: 8124\"\n",
      "[1] \"Number of cols: 23\"\n"
     ]
    }
   ],
   "source": [
    "print(paste('Number of rows:', nrow(data)))\n",
    "print(paste('Number of cols:', ncol(data)))"
   ]
  },
  {
   "cell_type": "code",
   "execution_count": 4,
   "metadata": {},
   "outputs": [
    {
     "data": {
      "text/plain": [
       "    Class            cap.shape         cap.surface         cap.color        \n",
       " Length:8124        Length:8124        Length:8124        Length:8124       \n",
       " Class :character   Class :character   Class :character   Class :character  \n",
       " Mode  :character   Mode  :character   Mode  :character   Mode  :character  \n",
       "   bruises              odor           gill.attachment    gill.spacing      \n",
       " Length:8124        Length:8124        Length:8124        Length:8124       \n",
       " Class :character   Class :character   Class :character   Class :character  \n",
       " Mode  :character   Mode  :character   Mode  :character   Mode  :character  \n",
       "  gill.size          gill.color        stalk.shape         stalk.root       \n",
       " Length:8124        Length:8124        Length:8124        Length:8124       \n",
       " Class :character   Class :character   Class :character   Class :character  \n",
       " Mode  :character   Mode  :character   Mode  :character   Mode  :character  \n",
       " stalk.surface.above.ring stalk.surface.below.ring stalk.color.above.ring\n",
       " Length:8124              Length:8124              Length:8124           \n",
       " Class :character         Class :character         Class :character      \n",
       " Mode  :character         Mode  :character         Mode  :character      \n",
       " stalk.color.below.ring  veil.type          veil.color       \n",
       " Length:8124            Length:8124        Length:8124       \n",
       " Class :character       Class :character   Class :character  \n",
       " Mode  :character       Mode  :character   Mode  :character  \n",
       " ring.number         ring.type            print            population       \n",
       " Length:8124        Length:8124        Length:8124        Length:8124       \n",
       " Class :character   Class :character   Class :character   Class :character  \n",
       " Mode  :character   Mode  :character   Mode  :character   Mode  :character  \n",
       "   habitat         \n",
       " Length:8124       \n",
       " Class :character  \n",
       " Mode  :character  "
      ]
     },
     "metadata": {},
     "output_type": "display_data"
    }
   ],
   "source": [
    "summary(data)"
   ]
  },
  {
   "cell_type": "code",
   "execution_count": 5,
   "metadata": {},
   "outputs": [
    {
     "name": "stdout",
     "output_type": "stream",
     "text": [
      "'data.frame':\t8124 obs. of  23 variables:\n",
      " $ Class                   : chr  \"Poisonous\" \"Edible\" \"Edible\" \"Poisonous\" ...\n",
      " $ cap.shape               : chr  \"x\" \"x\" \"b\" \"x\" ...\n",
      " $ cap.surface             : chr  \"s\" \"s\" \"s\" \"y\" ...\n",
      " $ cap.color               : chr  \"n\" \"y\" \"w\" \"w\" ...\n",
      " $ bruises                 : chr  \"t\" \"t\" \"t\" \"t\" ...\n",
      " $ odor                    : chr  \"None\" \"Almonds\" \"Fishy\" \"None\" ...\n",
      " $ gill.attachment         : chr  \"f\" \"f\" \"f\" \"f\" ...\n",
      " $ gill.spacing            : chr  \"c\" \"c\" \"c\" \"c\" ...\n",
      " $ gill.size               : chr  \"n\" \"b\" \"b\" \"n\" ...\n",
      " $ gill.color              : chr  \"k\" \"k\" \"n\" \"n\" ...\n",
      " $ stalk.shape             : chr  \"e\" \"e\" \"e\" \"e\" ...\n",
      " $ stalk.root              : chr  \"e\" \"c\" \"c\" \"e\" ...\n",
      " $ stalk.surface.above.ring: chr  \"s\" \"s\" \"s\" \"s\" ...\n",
      " $ stalk.surface.below.ring: chr  \"s\" \"s\" \"s\" \"s\" ...\n",
      " $ stalk.color.above.ring  : chr  \"w\" \"w\" \"w\" \"w\" ...\n",
      " $ stalk.color.below.ring  : chr  \"w\" \"w\" \"w\" \"w\" ...\n",
      " $ veil.type               : chr  \"p\" \"p\" \"p\" \"p\" ...\n",
      " $ veil.color              : chr  \"w\" \"w\" \"w\" \"w\" ...\n",
      " $ ring.number             : chr  \"o\" \"o\" \"o\" \"o\" ...\n",
      " $ ring.type               : chr  \"p\" \"p\" \"p\" \"p\" ...\n",
      " $ print                   : chr  \"Buff\" \"Chocolate\" \"Chocolate\" \"Buff\" ...\n",
      " $ population              : chr  \"s\" \"n\" \"n\" \"s\" ...\n",
      " $ habitat                 : chr  \"u\" \"g\" \"m\" \"u\" ...\n"
     ]
    }
   ],
   "source": [
    "str(data)"
   ]
  },
  {
   "cell_type": "code",
   "execution_count": 6,
   "metadata": {},
   "outputs": [
    {
     "name": "stderr",
     "output_type": "stream",
     "text": [
      "-- \u001b[1mAttaching packages\u001b[22m --------------------------------------- tidyverse 1.3.0 --\n",
      "\n",
      "\u001b[32mv\u001b[39m \u001b[34mggplot2\u001b[39m 3.3.2     \u001b[32mv\u001b[39m \u001b[34mpurrr  \u001b[39m 0.3.4\n",
      "\u001b[32mv\u001b[39m \u001b[34mtibble \u001b[39m 3.0.3     \u001b[32mv\u001b[39m \u001b[34mdplyr  \u001b[39m 1.0.2\n",
      "\u001b[32mv\u001b[39m \u001b[34mtidyr  \u001b[39m 1.1.1     \u001b[32mv\u001b[39m \u001b[34mstringr\u001b[39m 1.4.0\n",
      "\u001b[32mv\u001b[39m \u001b[34mreadr  \u001b[39m 1.3.1     \u001b[32mv\u001b[39m \u001b[34mforcats\u001b[39m 0.5.0\n",
      "\n",
      "-- \u001b[1mConflicts\u001b[22m ------------------------------------------ tidyverse_conflicts() --\n",
      "\u001b[31mx\u001b[39m \u001b[34mdplyr\u001b[39m::\u001b[32mfilter()\u001b[39m masks \u001b[34mstats\u001b[39m::filter()\n",
      "\u001b[31mx\u001b[39m \u001b[34mdplyr\u001b[39m::\u001b[32mlag()\u001b[39m    masks \u001b[34mstats\u001b[39m::lag()\n",
      "\n"
     ]
    }
   ],
   "source": [
    "library(tidyverse)"
   ]
  },
  {
   "cell_type": "code",
   "execution_count": 7,
   "metadata": {},
   "outputs": [
    {
     "data": {
      "text/html": [
       "<table>\n",
       "<caption>A tibble: 23 × 3</caption>\n",
       "<thead>\n",
       "\t<tr><th scope=col>index variable</th><th scope=col>variable name</th><th scope=col>number of levels</th></tr>\n",
       "\t<tr><th scope=col>&lt;chr&gt;</th><th scope=col>&lt;chr&gt;</th><th scope=col>&lt;dbl&gt;</th></tr>\n",
       "</thead>\n",
       "<tbody>\n",
       "\t<tr><td>1 </td><td>Class                   </td><td>0</td></tr>\n",
       "\t<tr><td>2 </td><td>cap.shape               </td><td>0</td></tr>\n",
       "\t<tr><td>3 </td><td>cap.surface             </td><td>0</td></tr>\n",
       "\t<tr><td>4 </td><td>cap.color               </td><td>0</td></tr>\n",
       "\t<tr><td>5 </td><td>bruises                 </td><td>0</td></tr>\n",
       "\t<tr><td>6 </td><td>odor                    </td><td>0</td></tr>\n",
       "\t<tr><td>7 </td><td>gill.attachment         </td><td>0</td></tr>\n",
       "\t<tr><td>8 </td><td>gill.spacing            </td><td>0</td></tr>\n",
       "\t<tr><td>9 </td><td>gill.size               </td><td>0</td></tr>\n",
       "\t<tr><td>10</td><td>gill.color              </td><td>0</td></tr>\n",
       "\t<tr><td>11</td><td>stalk.shape             </td><td>0</td></tr>\n",
       "\t<tr><td>12</td><td>stalk.root              </td><td>0</td></tr>\n",
       "\t<tr><td>13</td><td>stalk.surface.above.ring</td><td>0</td></tr>\n",
       "\t<tr><td>14</td><td>stalk.surface.below.ring</td><td>0</td></tr>\n",
       "\t<tr><td>15</td><td>stalk.color.above.ring  </td><td>0</td></tr>\n",
       "\t<tr><td>16</td><td>stalk.color.below.ring  </td><td>0</td></tr>\n",
       "\t<tr><td>17</td><td>veil.type               </td><td>0</td></tr>\n",
       "\t<tr><td>18</td><td>veil.color              </td><td>0</td></tr>\n",
       "\t<tr><td>19</td><td>ring.number             </td><td>0</td></tr>\n",
       "\t<tr><td>20</td><td>ring.type               </td><td>0</td></tr>\n",
       "\t<tr><td>21</td><td>print                   </td><td>0</td></tr>\n",
       "\t<tr><td>22</td><td>population              </td><td>0</td></tr>\n",
       "\t<tr><td>23</td><td>habitat                 </td><td>0</td></tr>\n",
       "</tbody>\n",
       "</table>\n"
      ],
      "text/latex": [
       "A tibble: 23 × 3\n",
       "\\begin{tabular}{lll}\n",
       " index variable & variable name & number of levels\\\\\n",
       " <chr> & <chr> & <dbl>\\\\\n",
       "\\hline\n",
       "\t 1  & Class                    & 0\\\\\n",
       "\t 2  & cap.shape                & 0\\\\\n",
       "\t 3  & cap.surface              & 0\\\\\n",
       "\t 4  & cap.color                & 0\\\\\n",
       "\t 5  & bruises                  & 0\\\\\n",
       "\t 6  & odor                     & 0\\\\\n",
       "\t 7  & gill.attachment          & 0\\\\\n",
       "\t 8  & gill.spacing             & 0\\\\\n",
       "\t 9  & gill.size                & 0\\\\\n",
       "\t 10 & gill.color               & 0\\\\\n",
       "\t 11 & stalk.shape              & 0\\\\\n",
       "\t 12 & stalk.root               & 0\\\\\n",
       "\t 13 & stalk.surface.above.ring & 0\\\\\n",
       "\t 14 & stalk.surface.below.ring & 0\\\\\n",
       "\t 15 & stalk.color.above.ring   & 0\\\\\n",
       "\t 16 & stalk.color.below.ring   & 0\\\\\n",
       "\t 17 & veil.type                & 0\\\\\n",
       "\t 18 & veil.color               & 0\\\\\n",
       "\t 19 & ring.number              & 0\\\\\n",
       "\t 20 & ring.type                & 0\\\\\n",
       "\t 21 & print                    & 0\\\\\n",
       "\t 22 & population               & 0\\\\\n",
       "\t 23 & habitat                  & 0\\\\\n",
       "\\end{tabular}\n"
      ],
      "text/markdown": [
       "\n",
       "A tibble: 23 × 3\n",
       "\n",
       "| index variable &lt;chr&gt; | variable name &lt;chr&gt; | number of levels &lt;dbl&gt; |\n",
       "|---|---|---|\n",
       "| 1  | Class                    | 0 |\n",
       "| 2  | cap.shape                | 0 |\n",
       "| 3  | cap.surface              | 0 |\n",
       "| 4  | cap.color                | 0 |\n",
       "| 5  | bruises                  | 0 |\n",
       "| 6  | odor                     | 0 |\n",
       "| 7  | gill.attachment          | 0 |\n",
       "| 8  | gill.spacing             | 0 |\n",
       "| 9  | gill.size                | 0 |\n",
       "| 10 | gill.color               | 0 |\n",
       "| 11 | stalk.shape              | 0 |\n",
       "| 12 | stalk.root               | 0 |\n",
       "| 13 | stalk.surface.above.ring | 0 |\n",
       "| 14 | stalk.surface.below.ring | 0 |\n",
       "| 15 | stalk.color.above.ring   | 0 |\n",
       "| 16 | stalk.color.below.ring   | 0 |\n",
       "| 17 | veil.type                | 0 |\n",
       "| 18 | veil.color               | 0 |\n",
       "| 19 | ring.number              | 0 |\n",
       "| 20 | ring.type                | 0 |\n",
       "| 21 | print                    | 0 |\n",
       "| 22 | population               | 0 |\n",
       "| 23 | habitat                  | 0 |\n",
       "\n"
      ],
      "text/plain": [
       "   index variable variable name            number of levels\n",
       "1  1              Class                    0               \n",
       "2  2              cap.shape                0               \n",
       "3  3              cap.surface              0               \n",
       "4  4              cap.color                0               \n",
       "5  5              bruises                  0               \n",
       "6  6              odor                     0               \n",
       "7  7              gill.attachment          0               \n",
       "8  8              gill.spacing             0               \n",
       "9  9              gill.size                0               \n",
       "10 10             gill.color               0               \n",
       "11 11             stalk.shape              0               \n",
       "12 12             stalk.root               0               \n",
       "13 13             stalk.surface.above.ring 0               \n",
       "14 14             stalk.surface.below.ring 0               \n",
       "15 15             stalk.color.above.ring   0               \n",
       "16 16             stalk.color.below.ring   0               \n",
       "17 17             veil.type                0               \n",
       "18 18             veil.color               0               \n",
       "19 19             ring.number              0               \n",
       "20 20             ring.type                0               \n",
       "21 21             print                    0               \n",
       "22 22             population               0               \n",
       "23 23             habitat                  0               "
      ]
     },
     "metadata": {},
     "output_type": "display_data"
    }
   ],
   "source": [
    "# Let’s counting and displaying the categories for each variable:\n",
    "number_class <- function(x){\n",
    "  x <- length(levels(x))\n",
    "}\n",
    "\n",
    "dframe <- data %>% map_dbl(function(.x) number_class(.x)) %>% tibble::enframe() %>% \n",
    "       rownames_to_column() %>% arrange(desc(value))\n",
    "colnames(dframe) <- c(\"index variable\", \"variable name\", \"number of levels\")\n",
    "\n",
    "dframe"
   ]
  },
  {
   "cell_type": "code",
   "execution_count": 8,
   "metadata": {},
   "outputs": [
    {
     "name": "stderr",
     "output_type": "stream",
     "text": [
      "Loading required package: Rcpp\n",
      "\n",
      "## \n",
      "## Amelia II: Multiple Imputation\n",
      "## (Version 1.7.6, built: 2019-11-24)\n",
      "## Copyright (C) 2005-2020 James Honaker, Gary King and Matthew Blackwell\n",
      "## Refer to http://gking.harvard.edu/amelia/ for more information\n",
      "## \n",
      "\n"
     ]
    },
    {
     "data": {
      "image/png": "[encoded data removed]",
      "text/plain": [
       "Plot with title \"Missing values vs observed\""
      ]
     },
     "metadata": {
      "image/png": {
       "height": 420,
       "width": 420
      }
     },
     "output_type": "display_data"
    }
   ],
   "source": [
    "# check missing value\n",
    "library(Amelia)\n",
    "missmap(data, main='Missing values vs observed')"
   ]
  },
  {
   "cell_type": "markdown",
   "metadata": {},
   "source": [
    "- Outliers not found"
   ]
  },
  {
   "cell_type": "code",
   "execution_count": 9,
   "metadata": {},
   "outputs": [
    {
     "name": "stdout",
     "output_type": "stream",
     "text": [
      "\n",
      "   Edible Poisonous \n",
      "     4208      3916 \n"
     ]
    }
   ],
   "source": [
    "# Check class bias\n",
    "print(table(data$Class))"
   ]
  },
  {
   "cell_type": "markdown",
   "metadata": {},
   "source": [
    "# Data Analysis\n",
    "- Now, I have plotted the histograms of each category and split them into two graphs according to their edibility. The objective of doing do is to find the attributes which are exclusive only in either class. The more exclusiveness hints towards a stronger correlation between the attribute and the edibility of the mushroom. The first three attributes - cap shape, cap surface and cap color are plotted below."
   ]
  },
  {
   "cell_type": "code",
   "execution_count": 10,
   "metadata": {},
   "outputs": [
    {
     "name": "stderr",
     "output_type": "stream",
     "text": [
      "\n",
      "Attaching package: 'gridExtra'\n",
      "\n",
      "\n",
      "The following object is masked from 'package:dplyr':\n",
      "\n",
      "    combine\n",
      "\n",
      "\n",
      "Warning message:\n",
      "\"Ignoring unknown parameters: binwidth, bins, pad\"\n"
     ]
    }
   ],
   "source": [
    "library(ggplot2)\n",
    "library(gridExtra)\n",
    "\n",
    "m1 <- ggplot(aes(x = cap.shape), data = data) +\n",
    "  geom_histogram(stat = \"count\") +\n",
    "  facet_wrap(~Class) +\n",
    "  xlab(\"Cap Shape\")"
   ]
  },
  {
   "cell_type": "code",
   "execution_count": 11,
   "metadata": {},
   "outputs": [
    {
     "name": "stderr",
     "output_type": "stream",
     "text": [
      "Warning message:\n",
      "\"Ignoring unknown parameters: binwidth, bins, pad\"\n"
     ]
    }
   ],
   "source": [
    "m2 <- ggplot(aes(x = cap.surface), data = data) +\n",
    "  geom_histogram(stat = \"count\") +\n",
    "  facet_wrap(~Class) +\n",
    "  xlab(\"Cap Surface\")"
   ]
  },
  {
   "cell_type": "code",
   "execution_count": 12,
   "metadata": {},
   "outputs": [
    {
     "name": "stderr",
     "output_type": "stream",
     "text": [
      "Warning message:\n",
      "\"Ignoring unknown parameters: binwidth, bins, pad\"\n"
     ]
    }
   ],
   "source": [
    "m3 <- ggplot(aes(x = cap.color), data = data) +\n",
    "  geom_histogram(stat = \"count\") +\n",
    "  facet_wrap(~Class) +\n",
    "  xlab(\"Cap Color\")"
   ]
  },
  {
   "cell_type": "code",
   "execution_count": 13,
   "metadata": {},
   "outputs": [
    {
     "data": {
      "image/png": "[encoded data removed]",
      "text/plain": [
       "plot without title"
      ]
     },
     "metadata": {
      "image/png": {
       "height": 420,
       "width": 420
      }
     },
     "output_type": "display_data"
    }
   ],
   "source": [
    "grid.arrange(m1, m2, m3, ncol = 2)"
   ]
  },
  {
   "cell_type": "code",
   "execution_count": null,
   "metadata": {},
   "outputs": [],
   "source": []
  }
 ],
 "metadata": {
  "kernelspec": {
   "display_name": "R",
   "language": "R",
   "name": "ir"
  },
  "language_info": {
   "codemirror_mode": "r",
   "file_extension": ".r",
   "mimetype": "text/x-r-source",
   "name": "R",
   "pygments_lexer": "r",
   "version": "4.0.2"
  }
 },
 "nbformat": 4,
 "nbformat_minor": 4
}
