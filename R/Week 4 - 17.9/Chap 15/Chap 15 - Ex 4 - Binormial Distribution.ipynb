{
 "cells": [
  {
   "cell_type": "markdown",
   "metadata": {},
   "source": [
    "# Vấn đề 1: Trắc nghiệm"
   ]
  },
  {
   "cell_type": "code",
   "execution_count": 1,
   "metadata": {},
   "outputs": [
    {
     "name": "stdout",
     "output_type": "stream",
     "text": [
      "[1] \"Probability of having four correct answer\"\n",
      "[1] 0.1328756\n"
     ]
    }
   ],
   "source": [
    "# English Multiple Choices\n",
    "p1 = dbinom(4, size = 12, prob = 0.2) # having 5 choices => prob = 1/5 = 0.2\n",
    "print('Probability of having four correct answer')\n",
    "print(p1)"
   ]
  },
  {
   "cell_type": "code",
   "execution_count": 2,
   "metadata": {},
   "outputs": [
    {
     "name": "stdout",
     "output_type": "stream",
     "text": [
      "[1] \"Probability of having four or less correct answers:\"\n",
      "[1] 0.9274445\n"
     ]
    }
   ],
   "source": [
    "# probability of having four or less correct answer \n",
    "p2 = pbinom(4, size=12, prob=0.2) # P(X <= 4)\n",
    "print('Probability of having four or less correct answers:')\n",
    "print(p2)"
   ]
  },
  {
   "cell_type": "markdown",
   "metadata": {},
   "source": [
    "# Vấn đề 2: Dùng thuốc"
   ]
  },
  {
   "cell_type": "code",
   "execution_count": 3,
   "metadata": {},
   "outputs": [
    {
     "name": "stdout",
     "output_type": "stream",
     "text": [
      "[1] \"probability that this medication is effective:\"\n",
      "[1] 0.2013266\n"
     ]
    }
   ],
   "source": [
    "# symptomatic relief\n",
    "p3 = dbinom(7, size=10, prob=0.8) # having 80%\n",
    "print('probability that this medication is effective:')\n",
    "print(p3)"
   ]
  },
  {
   "cell_type": "markdown",
   "metadata": {},
   "source": [
    "# Vấn đề 3: Bệnh đau tim"
   ]
  },
  {
   "cell_type": "code",
   "execution_count": 4,
   "metadata": {},
   "outputs": [
    {
     "name": "stdout",
     "output_type": "stream",
     "text": [
      "[1] \"probability that all survive:\"\n",
      "[1] 0.8153727\n"
     ]
    }
   ],
   "source": [
    "# probability that all survive\n",
    "p4 = dbinom(0, size = 5, prob = 0.04) # 0 person dies\n",
    "print('probability that all survive:')\n",
    "print(p4)"
   ]
  },
  {
   "cell_type": "code",
   "execution_count": null,
   "metadata": {},
   "outputs": [],
   "source": []
  }
 ],
 "metadata": {
  "kernelspec": {
   "display_name": "R",
   "language": "R",
   "name": "ir"
  },
  "language_info": {
   "codemirror_mode": "r",
   "file_extension": ".r",
   "mimetype": "text/x-r-source",
   "name": "R",
   "pygments_lexer": "r",
   "version": "4.0.2"
  }
 },
 "nbformat": 4,
 "nbformat_minor": 4
}
