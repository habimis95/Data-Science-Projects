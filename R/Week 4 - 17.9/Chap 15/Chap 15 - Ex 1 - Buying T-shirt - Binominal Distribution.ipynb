{
 "cells": [
  {
   "cell_type": "code",
   "execution_count": 6,
   "metadata": {},
   "outputs": [
    {
     "name": "stdout",
     "output_type": "stream",
     "text": [
      "[1] 0.2964755\n",
      "[1] 0.00122472\n",
      "[1] 0.7447017\n",
      "[1] 0.7447017\n"
     ]
    }
   ],
   "source": [
    "# What is the probability of 2 of them buying a t-shirt? P(X = 2)\n",
    "p1 = dbinom(2, size = 8, prob = 0.3)\n",
    "print(p1)\n",
    "\n",
    "# What is the probability of 7 of them buying a t-shirt? P(X = 7)\n",
    "p2 = dbinom(7, size = 8, prob = 0.3)\n",
    "print(p2)\n",
    "\n",
    "# What is the probability that at least 2 of the customers buy a t-shirt? P( X => 1)\n",
    "p3 = pbinom(1, size = 8, prob = 0.3, lower.tail = FALSE)\n",
    "print(p3) #OR\n",
    "p4 = dbinom(2, size = 8, prob = 0.3) +\n",
    " dbinom(3, size = 8, prob = 0.3) +\n",
    " dbinom(4, size = 8, prob = 0.3) +\n",
    " dbinom(5, size = 8, prob = 0.3) +\n",
    " dbinom(6, size = 8, prob = 0.3) +\n",
    " dbinom(7, size = 8, prob = 0.3) +\n",
    " dbinom(8, size = 8, prob = 0.3)\n",
    "print(p4)"
   ]
  },
  {
   "cell_type": "code",
   "execution_count": null,
   "metadata": {},
   "outputs": [],
   "source": []
  }
 ],
 "metadata": {
  "kernelspec": {
   "display_name": "R",
   "language": "R",
   "name": "ir"
  },
  "language_info": {
   "codemirror_mode": "r",
   "file_extension": ".r",
   "mimetype": "text/x-r-source",
   "name": "R",
   "pygments_lexer": "r",
   "version": "4.0.2"
  }
 },
 "nbformat": 4,
 "nbformat_minor": 4
}
