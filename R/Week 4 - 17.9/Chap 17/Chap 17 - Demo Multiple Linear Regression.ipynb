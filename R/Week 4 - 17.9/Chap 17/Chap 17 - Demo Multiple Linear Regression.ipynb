{
 "cells": [
  {
   "cell_type": "code",
   "execution_count": 23,
   "metadata": {},
   "outputs": [
    {
     "data": {
      "text/html": [
       "<table>\n",
       "<caption>A data.frame: 6 × 11</caption>\n",
       "<thead>\n",
       "\t<tr><th></th><th scope=col>mpg</th><th scope=col>cyl</th><th scope=col>disp</th><th scope=col>hp</th><th scope=col>drat</th><th scope=col>wt</th><th scope=col>qsec</th><th scope=col>vs</th><th scope=col>am</th><th scope=col>gear</th><th scope=col>carb</th></tr>\n",
       "\t<tr><th></th><th scope=col>&lt;dbl&gt;</th><th scope=col>&lt;dbl&gt;</th><th scope=col>&lt;dbl&gt;</th><th scope=col>&lt;dbl&gt;</th><th scope=col>&lt;dbl&gt;</th><th scope=col>&lt;dbl&gt;</th><th scope=col>&lt;dbl&gt;</th><th scope=col>&lt;dbl&gt;</th><th scope=col>&lt;dbl&gt;</th><th scope=col>&lt;dbl&gt;</th><th scope=col>&lt;dbl&gt;</th></tr>\n",
       "</thead>\n",
       "<tbody>\n",
       "\t<tr><th scope=row>Mazda RX4</th><td>21.0</td><td>6</td><td>160</td><td>110</td><td>3.90</td><td>2.620</td><td>16.46</td><td>0</td><td>1</td><td>4</td><td>4</td></tr>\n",
       "\t<tr><th scope=row>Mazda RX4 Wag</th><td>21.0</td><td>6</td><td>160</td><td>110</td><td>3.90</td><td>2.875</td><td>17.02</td><td>0</td><td>1</td><td>4</td><td>4</td></tr>\n",
       "\t<tr><th scope=row>Datsun 710</th><td>22.8</td><td>4</td><td>108</td><td> 93</td><td>3.85</td><td>2.320</td><td>18.61</td><td>1</td><td>1</td><td>4</td><td>1</td></tr>\n",
       "\t<tr><th scope=row>Hornet 4 Drive</th><td>21.4</td><td>6</td><td>258</td><td>110</td><td>3.08</td><td>3.215</td><td>19.44</td><td>1</td><td>0</td><td>3</td><td>1</td></tr>\n",
       "\t<tr><th scope=row>Hornet Sportabout</th><td>18.7</td><td>8</td><td>360</td><td>175</td><td>3.15</td><td>3.440</td><td>17.02</td><td>0</td><td>0</td><td>3</td><td>2</td></tr>\n",
       "\t<tr><th scope=row>Valiant</th><td>18.1</td><td>6</td><td>225</td><td>105</td><td>2.76</td><td>3.460</td><td>20.22</td><td>1</td><td>0</td><td>3</td><td>1</td></tr>\n",
       "</tbody>\n",
       "</table>\n"
      ],
      "text/latex": [
       "A data.frame: 6 × 11\n",
       "\\begin{tabular}{r|lllllllllll}\n",
       "  & mpg & cyl & disp & hp & drat & wt & qsec & vs & am & gear & carb\\\\\n",
       "  & <dbl> & <dbl> & <dbl> & <dbl> & <dbl> & <dbl> & <dbl> & <dbl> & <dbl> & <dbl> & <dbl>\\\\\n",
       "\\hline\n",
       "\tMazda RX4 & 21.0 & 6 & 160 & 110 & 3.90 & 2.620 & 16.46 & 0 & 1 & 4 & 4\\\\\n",
       "\tMazda RX4 Wag & 21.0 & 6 & 160 & 110 & 3.90 & 2.875 & 17.02 & 0 & 1 & 4 & 4\\\\\n",
       "\tDatsun 710 & 22.8 & 4 & 108 &  93 & 3.85 & 2.320 & 18.61 & 1 & 1 & 4 & 1\\\\\n",
       "\tHornet 4 Drive & 21.4 & 6 & 258 & 110 & 3.08 & 3.215 & 19.44 & 1 & 0 & 3 & 1\\\\\n",
       "\tHornet Sportabout & 18.7 & 8 & 360 & 175 & 3.15 & 3.440 & 17.02 & 0 & 0 & 3 & 2\\\\\n",
       "\tValiant & 18.1 & 6 & 225 & 105 & 2.76 & 3.460 & 20.22 & 1 & 0 & 3 & 1\\\\\n",
       "\\end{tabular}\n"
      ],
      "text/markdown": [
       "\n",
       "A data.frame: 6 × 11\n",
       "\n",
       "| <!--/--> | mpg &lt;dbl&gt; | cyl &lt;dbl&gt; | disp &lt;dbl&gt; | hp &lt;dbl&gt; | drat &lt;dbl&gt; | wt &lt;dbl&gt; | qsec &lt;dbl&gt; | vs &lt;dbl&gt; | am &lt;dbl&gt; | gear &lt;dbl&gt; | carb &lt;dbl&gt; |\n",
       "|---|---|---|---|---|---|---|---|---|---|---|---|\n",
       "| Mazda RX4 | 21.0 | 6 | 160 | 110 | 3.90 | 2.620 | 16.46 | 0 | 1 | 4 | 4 |\n",
       "| Mazda RX4 Wag | 21.0 | 6 | 160 | 110 | 3.90 | 2.875 | 17.02 | 0 | 1 | 4 | 4 |\n",
       "| Datsun 710 | 22.8 | 4 | 108 |  93 | 3.85 | 2.320 | 18.61 | 1 | 1 | 4 | 1 |\n",
       "| Hornet 4 Drive | 21.4 | 6 | 258 | 110 | 3.08 | 3.215 | 19.44 | 1 | 0 | 3 | 1 |\n",
       "| Hornet Sportabout | 18.7 | 8 | 360 | 175 | 3.15 | 3.440 | 17.02 | 0 | 0 | 3 | 2 |\n",
       "| Valiant | 18.1 | 6 | 225 | 105 | 2.76 | 3.460 | 20.22 | 1 | 0 | 3 | 1 |\n",
       "\n"
      ],
      "text/plain": [
       "                  mpg  cyl disp hp  drat wt    qsec  vs am gear carb\n",
       "Mazda RX4         21.0 6   160  110 3.90 2.620 16.46 0  1  4    4   \n",
       "Mazda RX4 Wag     21.0 6   160  110 3.90 2.875 17.02 0  1  4    4   \n",
       "Datsun 710        22.8 4   108   93 3.85 2.320 18.61 1  1  4    1   \n",
       "Hornet 4 Drive    21.4 6   258  110 3.08 3.215 19.44 1  0  3    1   \n",
       "Hornet Sportabout 18.7 8   360  175 3.15 3.440 17.02 0  0  3    2   \n",
       "Valiant           18.1 6   225  105 2.76 3.460 20.22 1  0  3    1   "
      ]
     },
     "metadata": {},
     "output_type": "display_data"
    },
    {
     "data": {
      "text/html": [
       "<table>\n",
       "<caption>A data.frame: 6 × 4</caption>\n",
       "<thead>\n",
       "\t<tr><th></th><th scope=col>mpg</th><th scope=col>disp</th><th scope=col>hp</th><th scope=col>wt</th></tr>\n",
       "\t<tr><th></th><th scope=col>&lt;dbl&gt;</th><th scope=col>&lt;dbl&gt;</th><th scope=col>&lt;dbl&gt;</th><th scope=col>&lt;dbl&gt;</th></tr>\n",
       "</thead>\n",
       "<tbody>\n",
       "\t<tr><th scope=row>Mazda RX4</th><td>21.0</td><td>160</td><td>110</td><td>2.620</td></tr>\n",
       "\t<tr><th scope=row>Mazda RX4 Wag</th><td>21.0</td><td>160</td><td>110</td><td>2.875</td></tr>\n",
       "\t<tr><th scope=row>Datsun 710</th><td>22.8</td><td>108</td><td> 93</td><td>2.320</td></tr>\n",
       "\t<tr><th scope=row>Hornet 4 Drive</th><td>21.4</td><td>258</td><td>110</td><td>3.215</td></tr>\n",
       "\t<tr><th scope=row>Hornet Sportabout</th><td>18.7</td><td>360</td><td>175</td><td>3.440</td></tr>\n",
       "\t<tr><th scope=row>Valiant</th><td>18.1</td><td>225</td><td>105</td><td>3.460</td></tr>\n",
       "</tbody>\n",
       "</table>\n"
      ],
      "text/latex": [
       "A data.frame: 6 × 4\n",
       "\\begin{tabular}{r|llll}\n",
       "  & mpg & disp & hp & wt\\\\\n",
       "  & <dbl> & <dbl> & <dbl> & <dbl>\\\\\n",
       "\\hline\n",
       "\tMazda RX4 & 21.0 & 160 & 110 & 2.620\\\\\n",
       "\tMazda RX4 Wag & 21.0 & 160 & 110 & 2.875\\\\\n",
       "\tDatsun 710 & 22.8 & 108 &  93 & 2.320\\\\\n",
       "\tHornet 4 Drive & 21.4 & 258 & 110 & 3.215\\\\\n",
       "\tHornet Sportabout & 18.7 & 360 & 175 & 3.440\\\\\n",
       "\tValiant & 18.1 & 225 & 105 & 3.460\\\\\n",
       "\\end{tabular}\n"
      ],
      "text/markdown": [
       "\n",
       "A data.frame: 6 × 4\n",
       "\n",
       "| <!--/--> | mpg &lt;dbl&gt; | disp &lt;dbl&gt; | hp &lt;dbl&gt; | wt &lt;dbl&gt; |\n",
       "|---|---|---|---|---|\n",
       "| Mazda RX4 | 21.0 | 160 | 110 | 2.620 |\n",
       "| Mazda RX4 Wag | 21.0 | 160 | 110 | 2.875 |\n",
       "| Datsun 710 | 22.8 | 108 |  93 | 2.320 |\n",
       "| Hornet 4 Drive | 21.4 | 258 | 110 | 3.215 |\n",
       "| Hornet Sportabout | 18.7 | 360 | 175 | 3.440 |\n",
       "| Valiant | 18.1 | 225 | 105 | 3.460 |\n",
       "\n"
      ],
      "text/plain": [
       "                  mpg  disp hp  wt   \n",
       "Mazda RX4         21.0 160  110 2.620\n",
       "Mazda RX4 Wag     21.0 160  110 2.875\n",
       "Datsun 710        22.8 108   93 2.320\n",
       "Hornet 4 Drive    21.4 258  110 3.215\n",
       "Hornet Sportabout 18.7 360  175 3.440\n",
       "Valiant           18.1 225  105 3.460"
      ]
     },
     "metadata": {},
     "output_type": "display_data"
    }
   ],
   "source": [
    "# data understanding\n",
    "head(mtcars)\n",
    "# get dataset columns for prediction\n",
    "input = mtcars[,c('mpg','disp','hp','wt')]\n",
    "head(input)"
   ]
  },
  {
   "cell_type": "code",
   "execution_count": 24,
   "metadata": {},
   "outputs": [
    {
     "data": {
      "image/png": "[encoded data removed]",
      "text/plain": [
       "plot without title"
      ]
     },
     "metadata": {
      "image/png": {
       "height": 420,
       "width": 420
      }
     },
     "output_type": "display_data"
    }
   ],
   "source": [
    "# visualization \n",
    "pairs(~mpg+disp+hp+wt, data=input)"
   ]
  },
  {
   "cell_type": "code",
   "execution_count": 4,
   "metadata": {},
   "outputs": [],
   "source": [
    "library('ggplot2')"
   ]
  },
  {
   "cell_type": "code",
   "execution_count": 5,
   "metadata": {},
   "outputs": [],
   "source": [
    "plot = ggplot(data = iris, aes(x=Petal.Width, y=Petal.Length))+ \n",
    "        geom_point() + geom_smooth(method='lm') + \n",
    "        theme_bw(base_size=14)"
   ]
  },
  {
   "cell_type": "code",
   "execution_count": 6,
   "metadata": {},
   "outputs": [
    {
     "name": "stderr",
     "output_type": "stream",
     "text": [
      "`geom_smooth()` using formula 'y ~ x'\n",
      "\n"
     ]
    },
    {
     "data": {
      "image/png": "[encoded data removed]",
      "text/plain": [
       "plot without title"
      ]
     },
     "metadata": {
      "image/png": {
       "height": 420,
       "width": 420
      }
     },
     "output_type": "display_data"
    }
   ],
   "source": [
    "plot"
   ]
  },
  {
   "cell_type": "code",
   "execution_count": 28,
   "metadata": {},
   "outputs": [
    {
     "data": {
      "image/png": "[encoded data removed]",
      "text/plain": [
       "Plot with title \"wt\""
      ]
     },
     "metadata": {
      "image/png": {
       "height": 420,
       "width": 420
      }
     },
     "output_type": "display_data"
    }
   ],
   "source": [
    "# boxplot to check for outliers\n",
    "par(mfrow=c(1,4)) # divide graph area in 4 columns \n",
    "boxplot(input$mpg, main='mpg',\n",
    "       sub=paste('Oulier rows:', boxplot.stats(input$mpg)$out)) # box plot for 'mpg'\n",
    "boxplot(input$disp, main='disp',\n",
    "       sub=paste('Oulier rows:', boxplot.stats(input$disp)$out)) # box plot for 'disp'\n",
    "boxplot(input$hp, main='hp',\n",
    "       sub=paste('Oulier rows:', boxplot.stats(input$hp)$out)) # box plot for 'hp'\n",
    "boxplot(input$wt, main='wt',\n",
    "       sub=paste('Oulier rows:', boxplot.stats(input$wt)$out)) # box plot for 'wt'"
   ]
  },
  {
   "cell_type": "code",
   "execution_count": 32,
   "metadata": {},
   "outputs": [
    {
     "name": "stdout",
     "output_type": "stream",
     "text": [
      "[1] \"Before drop: 32\"\n",
      "[1] \"After drop: 29\"\n"
     ]
    }
   ],
   "source": [
    "hp_outliers = boxplot.stats(input$hp)$out\n",
    "\n",
    "wt_outliers = c(boxplot.stats(input$wt)$out)\n",
    "\n",
    "# drop rows have outliers\n",
    "print(paste('Before drop:', nrow(input)))\n",
    "input = input[input$hp != hp_outliers[1],]\n",
    "input = input[input$wt != wt_outliers[1],]\n",
    "input = input[input$wt != wt_outliers[2],]\n",
    "print(paste('After drop:', nrow(input)))"
   ]
  },
  {
   "cell_type": "code",
   "execution_count": 33,
   "metadata": {},
   "outputs": [
    {
     "name": "stdout",
     "output_type": "stream",
     "text": [
      "[1] \"correlation between mpg and disp, hp, wt:\"\n",
      "[1] -0.8290389\n",
      "[1] -0.7997213\n",
      "[1] -0.8830596\n"
     ]
    }
   ],
   "source": [
    "# calculate correlation between mpg and disp, hp, wt\n",
    "print('correlation between mpg and disp, hp, wt:')\n",
    "print(cor(input$mpg, input$disp))\n",
    "print(cor(input$mpg, input$hp))\n",
    "print(cor(input$mpg, input$wt))"
   ]
  },
  {
   "cell_type": "code",
   "execution_count": 34,
   "metadata": {},
   "outputs": [
    {
     "name": "stdout",
     "output_type": "stream",
     "text": [
      "[1] \"Selected training row indexes\"\n",
      " [1] 17  5  1 25 10  4 18 29 15  7 24 28 14 19 26  2  3  9 12 16 23 20 11\n",
      "[1] \"Rows of training data and test data:\"\n",
      "[1] 23\n",
      "[1] 6\n"
     ]
    }
   ],
   "source": [
    "# Create the training (development) and test (validation) data samples from original data\n",
    "set.seed(42) # setting seed to reproduce results of random sampling\n",
    "trainingRowIndex = sample(1:nrow(input), 0.8*nrow(input)) # row indices for training data\n",
    "print('Selected training row indexes')\n",
    "print(trainingRowIndex)\n",
    "trainingData = input[trainingRowIndex,] # training data\n",
    "testData = input[-trainingRowIndex,] # test data\n",
    "print('Rows of training data and test data:')\n",
    "print(nrow(trainingData))\n",
    "print(nrow(testData))"
   ]
  },
  {
   "cell_type": "code",
   "execution_count": 38,
   "metadata": {},
   "outputs": [
    {
     "name": "stdout",
     "output_type": "stream",
     "text": [
      "[1] \"mse: 4.9035236695173\"\n",
      "[1] \"mse in test: 4.49282285889091\"\n"
     ]
    }
   ],
   "source": [
    "# Develop the model on the training data and use it to predict the Length on test data\n",
    "lmMod = lm(mpg~disp+hp+wt, data=trainingData) # build the model\n",
    "cPred = predict(lmMod, testData) # predict length\n",
    "\n",
    "# mean square error according to model\n",
    "mse = mean(lmMod$residuals^2)\n",
    "print(paste('mse:', mse))\n",
    "\n",
    "# mean square error of testData\n",
    "mse_test = mean((testData$mpg-cPred)^2)\n",
    "print(paste('mse in test:', mse_test))"
   ]
  },
  {
   "cell_type": "code",
   "execution_count": 41,
   "metadata": {},
   "outputs": [
    {
     "name": "stdout",
     "output_type": "stream",
     "text": [
      "\n",
      "Call:\n",
      "lm(formula = mpg ~ disp + hp + wt, data = trainingData)\n",
      "\n",
      "Residuals:\n",
      "    Min      1Q  Median      3Q     Max \n",
      "-3.5460 -1.2036 -0.3469  1.2579  5.1846 \n",
      "\n",
      "Coefficients:\n",
      "            Estimate Std. Error t value Pr(>|t|)    \n",
      "(Intercept) 41.14944    2.34868  17.520 3.48e-13 ***\n",
      "disp         0.01320    0.01101   1.199 0.245304    \n",
      "hp          -0.05281    0.02003  -2.637 0.016260 *  \n",
      "wt          -5.22157    1.22671  -4.257 0.000427 ***\n",
      "---\n",
      "Signif. codes:  0 '***' 0.001 '**' 0.01 '*' 0.05 '.' 0.1 ' ' 1\n",
      "\n",
      "Residual standard error: 2.436 on 19 degrees of freedom\n",
      "Multiple R-squared:  0.859,\tAdjusted R-squared:  0.8368 \n",
      "F-statistic:  38.6 on 3 and 19 DF,  p-value: 2.783e-08\n",
      "\n"
     ]
    }
   ],
   "source": [
    "# Review diagnostic measures\n",
    "print(summary(lmMod)) # model summary"
   ]
  },
  {
   "cell_type": "code",
   "execution_count": 44,
   "metadata": {},
   "outputs": [
    {
     "name": "stdout",
     "output_type": "stream",
     "text": [
      "#### The coefficient values ### \n",
      "(Intercept) \n",
      "   41.14944 \n",
      "    disp \n",
      "0.013202 \n",
      "         hp \n",
      "-0.05281201 \n",
      "       wt \n",
      "-5.221568 \n"
     ]
    }
   ],
   "source": [
    "# Get the Intercept and coefficients as vector elements\n",
    "cat('#### The coefficient values ###','\\n')\n",
    "\n",
    "b = coef(lmMod)[1]\n",
    "print(b)\n",
    "\n",
    "mdisp = coef(lmMod)[2]\n",
    "mhp = coef(lmMod)[3]\n",
    "mwt = coef(lmMod)[4]\n",
    "\n",
    "print(mdisp)\n",
    "print(mhp)\n",
    "print(mwt)"
   ]
  },
  {
   "cell_type": "code",
   "execution_count": 45,
   "metadata": {},
   "outputs": [
    {
     "name": "stdout",
     "output_type": "stream",
     "text": [
      "[1] \"Solution 1 - results:\"\n",
      "   disp \n",
      "23.4855 \n",
      "[1] \"Solution 2 - results:\"\n",
      "      1 \n",
      "23.4855 \n"
     ]
    }
   ],
   "source": [
    "# New predictions\n",
    "# disp = 221, hp = 102, wt = 2.91\n",
    "x1 = 221\n",
    "x2 = 102\n",
    "x3 = 2.91\n",
    "y = (mdisp*x1 + mhp*x2 + mwt*x3 + b)\n",
    "print('Solution 1 - results:')\n",
    "print(y)\n",
    "# Solution 2\n",
    "y1 = predict(lmMod, data.frame(disp = x1, hp = x2, wt = x3))\n",
    "print('Solution 2 - results:')\n",
    "print(y1)"
   ]
  },
  {
   "cell_type": "code",
   "execution_count": 46,
   "metadata": {},
   "outputs": [
    {
     "name": "stderr",
     "output_type": "stream",
     "text": [
      "Installing package into 'C:/Users/hv/Documents/R/win-library/4.0'\n",
      "(as 'lib' is unspecified)\n",
      "\n"
     ]
    },
    {
     "name": "stdout",
     "output_type": "stream",
     "text": [
      "package 'BMA' successfully unpacked and MD5 sums checked\n",
      "\n",
      "The downloaded binary packages are in\n",
      "\tC:\\Users\\hv\\AppData\\Local\\Temp\\RtmpSiPX43\\downloaded_packages\n"
     ]
    }
   ],
   "source": [
    "install.packages('BMA')"
   ]
  },
  {
   "cell_type": "code",
   "execution_count": null,
   "metadata": {},
   "outputs": [],
   "source": []
  }
 ],
 "metadata": {
  "kernelspec": {
   "display_name": "R",
   "language": "R",
   "name": "ir"
  },
  "language_info": {
   "codemirror_mode": "r",
   "file_extension": ".r",
   "mimetype": "text/x-r-source",
   "name": "R",
   "pygments_lexer": "r",
   "version": "4.0.2"
  }
 },
 "nbformat": 4,
 "nbformat_minor": 4
}
