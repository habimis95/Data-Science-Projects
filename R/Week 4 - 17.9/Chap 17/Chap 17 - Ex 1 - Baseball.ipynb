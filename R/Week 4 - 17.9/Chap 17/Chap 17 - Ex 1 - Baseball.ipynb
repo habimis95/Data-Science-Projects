{
 "cells": [
  {
   "cell_type": "code",
   "execution_count": 1,
   "metadata": {},
   "outputs": [
    {
     "name": "stdout",
     "output_type": "stream",
     "text": [
      "             Name Team       Position Height Weight   Age PosCategory\n",
      "1   Adam_Donachie  BAL        Catcher     74    180 22.99     Catcher\n",
      "2       Paul_Bako  BAL        Catcher     74    215 34.69     Catcher\n",
      "3 Ramon_Hernandez  BAL        Catcher     72    210 30.78     Catcher\n",
      "4    Kevin_Millar  BAL  First_Baseman     72    210 35.43   Infielder\n",
      "5     Chris_Gomez  BAL  First_Baseman     73    188 35.71   Infielder\n",
      "6   Brian_Roberts  BAL Second_Baseman     69    176 29.39   Infielder\n",
      "[1] TRUE\n",
      "[1] \"cols: 7\"\n",
      "[1] \"rows: 1015\"\n"
     ]
    }
   ],
   "source": [
    "# predict weight based on height\n",
    "# open and read csv file\n",
    "data = read.csv('Cung cap buoi 8/baseball.csv')\n",
    "print(head(data))\n",
    "print(is.data.frame(data))\n",
    "print(paste('cols:', ncol(data)))\n",
    "print(paste('rows:', nrow(data)))"
   ]
  },
  {
   "cell_type": "code",
   "execution_count": 2,
   "metadata": {},
   "outputs": [
    {
     "data": {
      "text/plain": [
       "     Name               Team             Position             Height     \n",
       " Length:1015        Length:1015        Length:1015        Min.   :67.00  \n",
       " Class :character   Class :character   Class :character   1st Qu.:72.00  \n",
       " Mode  :character   Mode  :character   Mode  :character   Median :74.00  \n",
       "                                                          Mean   :73.69  \n",
       "                                                          3rd Qu.:75.00  \n",
       "                                                          Max.   :83.00  \n",
       "     Weight           Age        PosCategory       \n",
       " Min.   :150.0   Min.   :20.90   Length:1015       \n",
       " 1st Qu.:186.0   1st Qu.:25.41   Class :character  \n",
       " Median :200.0   Median :27.90   Mode  :character  \n",
       " Mean   :201.3   Mean   :28.71                     \n",
       " 3rd Qu.:215.0   3rd Qu.:31.19                     \n",
       " Max.   :290.0   Max.   :48.52                     "
      ]
     },
     "metadata": {},
     "output_type": "display_data"
    }
   ],
   "source": [
    "summary(data)"
   ]
  },
  {
   "cell_type": "code",
   "execution_count": 3,
   "metadata": {},
   "outputs": [
    {
     "name": "stdout",
     "output_type": "stream",
     "text": [
      "'data.frame':\t1015 obs. of  7 variables:\n",
      " $ Name       : chr  \"Adam_Donachie\" \"Paul_Bako\" \"Ramon_Hernandez\" \"Kevin_Millar\" ...\n",
      " $ Team       : chr  \"BAL\" \"BAL\" \"BAL\" \"BAL\" ...\n",
      " $ Position   : chr  \"Catcher\" \"Catcher\" \"Catcher\" \"First_Baseman\" ...\n",
      " $ Height     : int  74 74 72 72 73 69 69 71 76 71 ...\n",
      " $ Weight     : int  180 215 210 210 188 176 209 200 231 180 ...\n",
      " $ Age        : num  23 34.7 30.8 35.4 35.7 ...\n",
      " $ PosCategory: chr  \"Catcher\" \"Catcher\" \"Catcher\" \"Infielder\" ...\n"
     ]
    }
   ],
   "source": [
    "str(data)"
   ]
  },
  {
   "cell_type": "code",
   "execution_count": 4,
   "metadata": {},
   "outputs": [
    {
     "name": "stdout",
     "output_type": "stream",
     "text": [
      "  Height Weight\n",
      "1     74    180\n",
      "2     74    215\n",
      "3     72    210\n",
      "4     72    210\n",
      "5     73    188\n",
      "6     69    176\n"
     ]
    }
   ],
   "source": [
    "baseball = data[c('Height', 'Weight')]\n",
    "print(head(baseball))"
   ]
  },
  {
   "cell_type": "code",
   "execution_count": 5,
   "metadata": {},
   "outputs": [
    {
     "name": "stdout",
     "output_type": "stream",
     "text": [
      "[1] \"After preprocessing data:\"\n",
      "  Height   Weight\n",
      "1 1.8796 81.64656\n",
      "2 1.8796 97.52228\n",
      "3 1.8288 95.25432\n",
      "4 1.8288 95.25432\n",
      "5 1.8542 85.27530\n",
      "6 1.7526 79.83219\n"
     ]
    }
   ],
   "source": [
    "baseball['Height'] = baseball['Height'] * 0.0254\n",
    "baseball['Weight'] = baseball['Weight'] * 0.453592\n",
    "print('After preprocessing data:')\n",
    "print(head(baseball))"
   ]
  },
  {
   "cell_type": "code",
   "execution_count": 6,
   "metadata": {},
   "outputs": [
    {
     "data": {
      "image/png": "[encoded data removed]",
      "text/plain": [
       "Plot with title \"Height vs Weight\""
      ]
     },
     "metadata": {
      "image/png": {
       "height": 420,
       "width": 420
      }
     },
     "output_type": "display_data"
    }
   ],
   "source": [
    "scatter.smooth(x=baseball$Height, y=baseball$Weight,\n",
    "              main = 'Height vs Weight')"
   ]
  },
  {
   "cell_type": "code",
   "execution_count": 7,
   "metadata": {},
   "outputs": [
    {
     "data": {
      "image/png": "[encoded data removed]",
      "text/plain": [
       "Plot with title \"Weight\""
      ]
     },
     "metadata": {
      "image/png": {
       "height": 420,
       "width": 420
      }
     },
     "output_type": "display_data"
    }
   ],
   "source": [
    "# Boxplot to check for outliers\n",
    "par(mfrow=c(1,2)) # divide graph area in 2 columns\n",
    "boxplot(baseball$Height, main='Height',\n",
    "       sub=paste('Outlier rows:',\n",
    "                boxplot.stats(baseball$Height)$out))\n",
    "boxplot(baseball$Weight, main='Weight',\n",
    "       sub=paste('Outlier rows:',\n",
    "                boxplot.stats(baseball$Weight)$out))"
   ]
  },
  {
   "cell_type": "code",
   "execution_count": 8,
   "metadata": {},
   "outputs": [
    {
     "name": "stdout",
     "output_type": "stream",
     "text": [
      "[1] 0.5315393\n",
      "[1] \"wt_outliers:\"\n",
      "[1] 117.9339 122.4698 131.5417 126.0986 117.9339 117.9339 117.9339\n",
      "[1] \"ht_outliers:\"\n",
      " [1] 2.0574 2.0320 2.0320 2.0320 2.0320 2.0828 2.0320 2.0574 2.0828 2.1082\n",
      "[11] 1.7018 1.7018\n"
     ]
    }
   ],
   "source": [
    "# calculate correlation between Width and Length\n",
    "print(cor(baseball$Height, baseball$Weight))\n",
    "\n",
    "wt_outliers = c(boxplot.stats(baseball$Weight)$out)\n",
    "print('wt_outliers:')\n",
    "print(wt_outliers)\n",
    "\n",
    "ht_outliers = c(boxplot.stats(baseball$Height)$out)\n",
    "print('ht_outliers:')\n",
    "print(ht_outliers)"
   ]
  },
  {
   "cell_type": "code",
   "execution_count": 9,
   "metadata": {},
   "outputs": [
    {
     "name": "stdout",
     "output_type": "stream",
     "text": [
      "[1] \"Before drop: 1015\"\n",
      "[1] \"After drop: 998\"\n"
     ]
    }
   ],
   "source": [
    "# drop rows have outliers\n",
    "print(paste('Before drop:', nrow(baseball)))\n",
    "for(record in wt_outliers){\n",
    "    baseball = baseball[baseball$Weight != record,]\n",
    "}\n",
    "for (record in ht_outliers){\n",
    "    baseball = baseball[baseball$Height != record,]\n",
    "}\n",
    "print(paste('After drop:', nrow(baseball)))"
   ]
  },
  {
   "cell_type": "code",
   "execution_count": 10,
   "metadata": {},
   "outputs": [
    {
     "name": "stdout",
     "output_type": "stream",
     "text": [
      "[1] \"Selected training row indexes:\"\n",
      "  [1] 561 997 321 153  74 228 146 634  49 128 303  24 839 356 601 165 622 532\n",
      " [19] 410 882 879 899 297 984 283 932 621 517 212 930 860 872 259 314 481 298\n",
      " [37] 987 158 299 911 406 965 648 292 836 992 972 348 197 516 226 504 946 355\n",
      " [55] 727 245 922 626 262 390 130 372   3 374 405 770 870 698 650  40 971  33\n",
      " [73] 103 993 109 329 669  76 777 491 547 733  16 357 732 248 325 630 642  82\n",
      " [91] 881 912 982 360 296 149 569 100 963 402  91 781 181  54 851 288 720 758\n",
      "[109]  60 285 849 620 377 853 638 427 442 112 584 889 513 141 718 311 474 811\n",
      "[127] 554  42 760 865 251 441 942  25 703 544 888 238 526 623 940 947 960 446\n",
      "[145] 892 369 512 891 885 754 799 224 774 214 294 607 518 764 783 546 426 471\n",
      "[163] 188 254 268 640 980  41 193 578 824 664  98 537 951 107 317  14 162 636\n",
      "[181] 706 843 863 697 796 959  37 138 850 773 918  78 968 668  97 741 483 182\n",
      "[199] 874 127 493 555 692 506 337 539 542 180 970 587 201 401  62 269 382 124\n",
      "[217]  63 998 573 628 769 540   2 671 956 848 208 771 803 785  12 705 670 563\n",
      "[235] 444 677 559 198  10 255 788 745 515 896 751 284 463 605 313  84 464 225\n",
      "[253] 780 102 171 489 662 694 567 566 685 421 797 207  85 995 240 990 139 156\n",
      "[271] 274 740 948 170 955 148 719 189 113  27 606 645  86 941 250 169 550 362\n",
      "[289] 457 115 213 724 838 845 438 625 792 699 469 762 105 202  88 370 391 398\n",
      "[307] 834 522 121 975 812 163 418  46 287 748 376 280 404 747 379 206 828 862\n",
      "[325] 301 358 647 159 653 378 702 895 514 920 387 859 790 265 873 627 594 409\n",
      "[343] 887 815  73 335 738 247 131 150  61  20 354 529 909 211 174 273  94 330\n",
      "[361] 429 179 994 304 473 346 231 366 116 108 326 689 805 618 926 345 258 393\n",
      "[379] 184 939 950 192 701 830 425 731 460  22 886 132 579 187  53  59 680 820\n",
      "[397]  87 925 902 793 910 598 936 977 660 964 475 168 602 496 218 332 655 110\n",
      "[415] 119 667 600 722 726 585 527  23 822 339 877 267 365 123 798 794 367 901\n",
      "[433] 458 742 857 281 511 536 528 596 847 903 195 691 341 674 725 375 408 564\n",
      "[451] 961 227 826 423 708 309 883  26 804 117 614 252 841 466 734 927 104 693\n",
      "[469] 938 553 256 126 729 144 683 237 136 249 503 757  95 560 233 678 954 331\n",
      "[487] 592 407 161 767 271  68 316 624 919 658 200 223 476 945 173 749 183 120\n",
      "[505] 176   8 352 827 931 494  75 574 505  18 359 967 133  31 312 672 210 486\n",
      "[523] 241 556 914 264 275 114 266 735 576 814 687 791 908  32 721 583 686 129\n",
      "[541]   7 203  11  77 447 101 580 143 688 531 928 633 177 412 478 315 118 641\n",
      "[559] 434  39 612 204 222 535 723 570 276 806 631 665 656 652 802 913 428 986\n",
      "[577] 318  69 467 966 866 485 242 178 392 709  30 440 307 603 277 465  83 125\n",
      "[595] 235 644 929 681 157 278 388 215 236 551 411 637 295   9 319 190  19  21\n",
      "[613] 363 646 937 855 324 413 996  92 582 185 155 154  57 816 232 291 186  13\n",
      "[631] 545 659 976 676 492 608 581 353 448  65 807 244  58 943  28 893 548 983\n",
      "[649] 499 152 172  34 934 753 635 417 649 395 613 565 445  72 985 166  99 380\n",
      "[667] 175   4 831 761 432 137 756 349 342 746 897 147 904 416 679 875 766 347\n",
      "[685] 861 229   1 935 196  71 142 973 737 795 482 712 782 619\n"
     ]
    }
   ],
   "source": [
    "# Create the training (development) and test (validation) data.\n",
    "# https://rafalab.github.io/dsbook/probability.html#monte-carlo-simulations-for-categorical-data\n",
    "set.seed(42) # setting seed to reproduce results of random sampling\n",
    "trainingRowIndex = sample(1:nrow(baseball), 0.7*nrow(baseball))\n",
    "print('Selected training row indexes:')\n",
    "print(trainingRowIndex)"
   ]
  },
  {
   "cell_type": "code",
   "execution_count": 11,
   "metadata": {},
   "outputs": [],
   "source": [
    "trainingData = baseball[trainingRowIndex,] # training data\n",
    "testData = baseball[-trainingRowIndex,] # test data"
   ]
  },
  {
   "cell_type": "code",
   "execution_count": 12,
   "metadata": {},
   "outputs": [
    {
     "name": "stdout",
     "output_type": "stream",
     "text": [
      "[1] \"Rows of training data and test data:\"\n",
      "[1] 698\n",
      "[1] 300\n"
     ]
    }
   ],
   "source": [
    "print('Rows of training data and test data:')\n",
    "print(nrow(trainingData))\n",
    "print(nrow(testData))"
   ]
  },
  {
   "cell_type": "code",
   "execution_count": 13,
   "metadata": {},
   "outputs": [
    {
     "name": "stdout",
     "output_type": "stream",
     "text": [
      "[1] \"mse: 62.1665992405895\"\n"
     ]
    }
   ],
   "source": [
    "# Develop the model on the training data and uise it to predict the Length on test data\n",
    "lmMod = lm(Weight ~ Height, data = trainingData) # Build the model\n",
    "iPred = predict(lmMod, testData) # predict length\n",
    "# mean square error according to model\n",
    "mse = mean(lmMod$residuals^2)\n",
    "print(paste('mse:', mse))"
   ]
  },
  {
   "cell_type": "code",
   "execution_count": 14,
   "metadata": {},
   "outputs": [
    {
     "name": "stdout",
     "output_type": "stream",
     "text": [
      "[1] \"mse in test: 57.1830374137476\"\n"
     ]
    }
   ],
   "source": [
    "# mean square error of testData\n",
    "mse_test = mean((testData$Weight - iPred)^2)\n",
    "print(paste('mse in test:', mse_test))"
   ]
  },
  {
   "cell_type": "code",
   "execution_count": 15,
   "metadata": {},
   "outputs": [
    {
     "data": {
      "text/html": [
       "0.224119248610725"
      ],
      "text/latex": [
       "0.224119248610725"
      ],
      "text/markdown": [
       "0.224119248610725"
      ],
      "text/plain": [
       "[1] 0.2241192"
      ]
     },
     "metadata": {},
     "output_type": "display_data"
    }
   ],
   "source": [
    "summary(lmMod)$r.squared\n",
    "# => r^2 has low value, this model fits ~ 27% data => not good!"
   ]
  },
  {
   "cell_type": "code",
   "execution_count": 16,
   "metadata": {},
   "outputs": [
    {
     "name": "stdout",
     "output_type": "stream",
     "text": [
      "\n",
      "Call:\n",
      "lm(formula = Weight ~ Height, data = trainingData)\n",
      "\n",
      "Residuals:\n",
      "     Min       1Q   Median       3Q      Max \n",
      "-22.8230  -5.6531  -0.1704   5.1062  27.6049 \n",
      "\n",
      "Coefficients:\n",
      "            Estimate Std. Error t value Pr(>|t|)    \n",
      "(Intercept)  -52.482     10.113   -5.19 2.76e-07 ***\n",
      "Height        76.675      5.408   14.18  < 2e-16 ***\n",
      "---\n",
      "Signif. codes:  0 '***' 0.001 '**' 0.01 '*' 0.05 '.' 0.1 ' ' 1\n",
      "\n",
      "Residual standard error: 7.896 on 696 degrees of freedom\n",
      "Multiple R-squared:  0.2241,\tAdjusted R-squared:  0.223 \n",
      "F-statistic:   201 on 1 and 696 DF,  p-value: < 2.2e-16\n",
      "\n"
     ]
    }
   ],
   "source": [
    "# Review diagnostic measures.\n",
    "print(summary(lmMod)) # model summary"
   ]
  },
  {
   "cell_type": "code",
   "execution_count": 17,
   "metadata": {},
   "outputs": [
    {
     "name": "stdout",
     "output_type": "stream",
     "text": [
      "(Intercept)      Height \n",
      "  -52.48233    76.67488 \n",
      "[1] \"sloop: 76.6748792521467\"\n",
      "[1] \"Intercept: -52.4823323447618\"\n"
     ]
    }
   ],
   "source": [
    "# model coefficients\n",
    "print(coef(lmMod))\n",
    "# get beta estimate for height\n",
    "beta_height = coef(lmMod)['Height']\n",
    "print(paste('sloop:', beta_height))\n",
    "Intercept = coef(lmMod)['(Intercept)']\n",
    "print(paste('Intercept:', Intercept))"
   ]
  },
  {
   "cell_type": "code",
   "execution_count": 18,
   "metadata": {},
   "outputs": [
    {
     "name": "stdout",
     "output_type": "stream",
     "text": [
      "[1] \"Solution 1 - results:\"\n",
      "[1] 83.61558 87.44932 95.11681\n"
     ]
    }
   ],
   "source": [
    "# new predictions\n",
    "# solution 1 \n",
    "x = c(1.775, 1.825, 1.925)\n",
    "y = Intercept + beta_height * x\n",
    "print('Solution 1 - results:')\n",
    "print(y)"
   ]
  },
  {
   "cell_type": "code",
   "execution_count": 19,
   "metadata": {},
   "outputs": [
    {
     "name": "stdout",
     "output_type": "stream",
     "text": [
      "[1] \"Solution 2 - results:\"\n",
      "       1        2        3 \n",
      "83.61558 87.44932 95.11681 \n"
     ]
    }
   ],
   "source": [
    "# solution 2\n",
    "y1 = predict(lmMod, data.frame(Height=x))\n",
    "print('Solution 2 - results:')\n",
    "print(y1)"
   ]
  },
  {
   "cell_type": "code",
   "execution_count": 20,
   "metadata": {},
   "outputs": [
    {
     "data": {
      "image/png": "[encoded data removed]",
      "text/plain": [
       "Plot with title \"Baseball regression\""
      ]
     },
     "metadata": {
      "image/png": {
       "height": 420,
       "width": 420
      }
     },
     "output_type": "display_data"
    }
   ],
   "source": [
    "# visualization \n",
    "plot(baseball$Height, baseball$Weight, \n",
    "     main = 'Baseball regression',\n",
    "     xlab='Height', ylab='Weight',\n",
    "     pch = 19, frame = FALSE, col = 'blue')\n",
    "lines(x, y, col='red', type = 'p')\n",
    "abline(lmMod, baseball, col = 'green')\n",
    "legend('topleft', c('dataset', 'data_predict'),\n",
    "      cex = 0.8, fill= c('blue','orange'))"
   ]
  },
  {
   "cell_type": "code",
   "execution_count": null,
   "metadata": {},
   "outputs": [],
   "source": []
  }
 ],
 "metadata": {
  "kernelspec": {
   "display_name": "R",
   "language": "R",
   "name": "ir"
  },
  "language_info": {
   "codemirror_mode": "r",
   "file_extension": ".r",
   "mimetype": "text/x-r-source",
   "name": "R",
   "pygments_lexer": "r",
   "version": "4.0.2"
  }
 },
 "nbformat": 4,
 "nbformat_minor": 4
}
