{
 "cells": [
  {
   "cell_type": "code",
   "execution_count": 1,
   "metadata": {},
   "outputs": [
    {
     "name": "stderr",
     "output_type": "stream",
     "text": [
      "Loading required package: survival\n",
      "\n",
      "Loading required package: leaps\n",
      "\n",
      "Loading required package: robustbase\n",
      "\n",
      "\n",
      "Attaching package: 'robustbase'\n",
      "\n",
      "\n",
      "The following object is masked from 'package:survival':\n",
      "\n",
      "    heart\n",
      "\n",
      "\n",
      "Loading required package: inline\n",
      "\n",
      "Loading required package: rrcov\n",
      "\n",
      "Scalable Robust Estimators with High Breakdown Point (version 1.5-5)\n",
      "\n",
      "\n"
     ]
    }
   ],
   "source": [
    "library(BMA)"
   ]
  },
  {
   "cell_type": "code",
   "execution_count": 2,
   "metadata": {},
   "outputs": [
    {
     "data": {
      "text/html": [
       "<style>\n",
       ".list-inline {list-style: none; margin:0; padding: 0}\n",
       ".list-inline>li {display: inline-block}\n",
       ".list-inline>li:not(:last-child)::after {content: \"\\00b7\"; padding: 0 .5ex}\n",
       "</style>\n",
       "<ol class=list-inline><li>'mpg'</li><li>'cyl'</li><li>'disp'</li><li>'hp'</li><li>'drat'</li><li>'wt'</li><li>'qsec'</li><li>'vs'</li><li>'am'</li><li>'gear'</li><li>'carb'</li></ol>\n"
      ],
      "text/latex": [
       "\\begin{enumerate*}\n",
       "\\item 'mpg'\n",
       "\\item 'cyl'\n",
       "\\item 'disp'\n",
       "\\item 'hp'\n",
       "\\item 'drat'\n",
       "\\item 'wt'\n",
       "\\item 'qsec'\n",
       "\\item 'vs'\n",
       "\\item 'am'\n",
       "\\item 'gear'\n",
       "\\item 'carb'\n",
       "\\end{enumerate*}\n"
      ],
      "text/markdown": [
       "1. 'mpg'\n",
       "2. 'cyl'\n",
       "3. 'disp'\n",
       "4. 'hp'\n",
       "5. 'drat'\n",
       "6. 'wt'\n",
       "7. 'qsec'\n",
       "8. 'vs'\n",
       "9. 'am'\n",
       "10. 'gear'\n",
       "11. 'carb'\n",
       "\n",
       "\n"
      ],
      "text/plain": [
       " [1] \"mpg\"  \"cyl\"  \"disp\" \"hp\"   \"drat\" \"wt\"   \"qsec\" \"vs\"   \"am\"   \"gear\"\n",
       "[11] \"carb\""
      ]
     },
     "metadata": {},
     "output_type": "display_data"
    }
   ],
   "source": [
    "cols = colnames(mtcars)\n",
    "cols"
   ]
  },
  {
   "cell_type": "code",
   "execution_count": 3,
   "metadata": {},
   "outputs": [],
   "source": [
    "yvar = mtcars[,('mpg')]\n",
    "xvars = mtcars[, cols[-1]]\n",
    "bma = bicreg(xvars, yvar, strict = F, OR=2)"
   ]
  },
  {
   "cell_type": "code",
   "execution_count": 4,
   "metadata": {},
   "outputs": [
    {
     "name": "stdout",
     "output_type": "stream",
     "text": [
      "\n",
      "Call:\n",
      "bicreg(x = xvars, y = yvar, strict = F, OR = 2)\n",
      "\n",
      "\n",
      "  5  models were selected\n",
      " Best  5  models (cumulative posterior probability =  1 ): \n",
      "\n",
      "           p!=0    EV        SD        model 1    model 2    model 3  \n",
      "Intercept  100.0  27.211564  13.82229    9.61778   39.68626   37.22727\n",
      "cyl         37.9  -0.489171   0.71049      .       -1.50779      .    \n",
      "disp         0.0   0.000000   0.00000      .          .          .    \n",
      "hp          31.5  -0.008011   0.01373      .          .       -0.03177\n",
      "drat         0.0   0.000000   0.00000      .          .          .    \n",
      "wt         100.0  -3.816159   0.93260   -3.91650   -3.19097   -3.87783\n",
      "qsec        45.2   0.505065   0.59539    1.22589      .          .    \n",
      "vs           0.0   0.000000   0.00000      .          .          .    \n",
      "am          28.8   0.845872   1.53016    2.93584      .          .    \n",
      "gear         0.0   0.000000   0.00000      .          .          .    \n",
      "carb         0.0   0.000000   0.00000      .          .          .    \n",
      "                                                                      \n",
      "nVar                                       3          2          2    \n",
      "r2                                       0.850      0.830      0.827  \n",
      "BIC                                    -50.23818  -49.81447  -49.17255\n",
      "post prob                                0.288      0.233      0.169  \n",
      "           model 4    model 5  \n",
      "Intercept   19.74622   38.75179\n",
      "cyl            .       -0.94162\n",
      "disp           .          .    \n",
      "hp             .       -0.01804\n",
      "drat           .          .    \n",
      "wt          -5.04798   -3.16697\n",
      "qsec         0.92920      .    \n",
      "vs             .          .    \n",
      "am             .          .    \n",
      "gear           .          .    \n",
      "carb           .          .    \n",
      "                               \n",
      "nVar           2          3    \n",
      "r2           0.826      0.843  \n",
      "BIC        -49.10426  -48.88168\n",
      "post prob    0.163      0.146  \n",
      "          p!=0     EV         SD         model 1     model 2     model 3    \n",
      "Intercept \"100.0\" \"27.211564\" \"13.82229\" \"  9.61778\" \" 39.68626\" \" 37.22727\"\n",
      "cyl       \" 37.9\" \"-0.489171\" \" 0.71049\" \"    .\"     \" -1.50779\" \"    .\"    \n",
      "disp      \"  0.0\" \" 0.000000\" \" 0.00000\" \"    .\"     \"    .\"     \"    .\"    \n",
      "hp        \" 31.5\" \"-0.008011\" \" 0.01373\" \"    .\"     \"    .\"     \" -0.03177\"\n",
      "drat      \"  0.0\" \" 0.000000\" \" 0.00000\" \"    .\"     \"    .\"     \"    .\"    \n",
      "wt        \"100.0\" \"-3.816159\" \" 0.93260\" \" -3.91650\" \" -3.19097\" \" -3.87783\"\n",
      "qsec      \" 45.2\" \" 0.505065\" \" 0.59539\" \"  1.22589\" \"    .\"     \"    .\"    \n",
      "vs        \"  0.0\" \" 0.000000\" \" 0.00000\" \"    .\"     \"    .\"     \"    .\"    \n",
      "am        \" 28.8\" \" 0.845872\" \" 1.53016\" \"  2.93584\" \"    .\"     \"    .\"    \n",
      "gear      \"  0.0\" \" 0.000000\" \" 0.00000\" \"    .\"     \"    .\"     \"    .\"    \n",
      "carb      \"  0.0\" \" 0.000000\" \" 0.00000\" \"    .\"     \"    .\"     \"    .\"    \n",
      "          \"\"      \"\"          \"\"         \"\"          \"\"          \"\"         \n",
      "nVar      \"\"      \"\"          \"\"         \"    3\"     \"    2\"     \"    2\"    \n",
      "r2        \"\"      \"\"          \"\"         \"  0.850\"   \"  0.830\"   \"  0.827\"  \n",
      "BIC       \"\"      \"\"          \"\"         \"-50.23818\" \"-49.81447\" \"-49.17255\"\n",
      "post prob \"\"      \"\"          \"\"         \"  0.288\"   \"  0.233\"   \"  0.169\"  \n",
      "          model 4     model 5    \n",
      "Intercept \" 19.74622\" \" 38.75179\"\n",
      "cyl       \"    .\"     \" -0.94162\"\n",
      "disp      \"    .\"     \"    .\"    \n",
      "hp        \"    .\"     \" -0.01804\"\n",
      "drat      \"    .\"     \"    .\"    \n",
      "wt        \" -5.04798\" \" -3.16697\"\n",
      "qsec      \"  0.92920\" \"    .\"    \n",
      "vs        \"    .\"     \"    .\"    \n",
      "am        \"    .\"     \"    .\"    \n",
      "gear      \"    .\"     \"    .\"    \n",
      "carb      \"    .\"     \"    .\"    \n",
      "          \"\"          \"\"         \n",
      "nVar      \"    2\"     \"    3\"    \n",
      "r2        \"  0.826\"   \"  0.843\"  \n",
      "BIC       \"-49.10426\" \"-48.88168\"\n",
      "post prob \"  0.163\"   \"  0.146\"  \n"
     ]
    }
   ],
   "source": [
    "print(summary(bma))"
   ]
  },
  {
   "cell_type": "code",
   "execution_count": 5,
   "metadata": {},
   "outputs": [
    {
     "data": {
      "image/png": "[encoded data removed]",
      "text/plain": [
       "Plot with title \"Models selected by BMA\""
      ]
     },
     "metadata": {
      "image/png": {
       "height": 420,
       "width": 420
      }
     },
     "output_type": "display_data"
    }
   ],
   "source": [
    "imageplot.bma(bma)"
   ]
  },
  {
   "cell_type": "code",
   "execution_count": 6,
   "metadata": {},
   "outputs": [
    {
     "name": "stderr",
     "output_type": "stream",
     "text": [
      "Loading required package: MASS\n",
      "\n",
      "Loading required package: boot\n",
      "\n",
      "\n",
      "Attaching package: 'boot'\n",
      "\n",
      "\n",
      "The following object is masked from 'package:robustbase':\n",
      "\n",
      "    salinity\n",
      "\n",
      "\n",
      "The following object is masked from 'package:survival':\n",
      "\n",
      "    aml\n",
      "\n",
      "\n",
      "Loading required package: survey\n",
      "\n",
      "Loading required package: grid\n",
      "\n",
      "Loading required package: Matrix\n",
      "\n",
      "\n",
      "Attaching package: 'survey'\n",
      "\n",
      "\n",
      "The following object is masked from 'package:graphics':\n",
      "\n",
      "    dotchart\n",
      "\n",
      "\n",
      "Loading required package: mitools\n",
      "\n",
      "This is the global version of package relaimpo.\n",
      "\n",
      "\n",
      "If you are a non-US user, a version with the interesting additional metric pmvd is available\n",
      "\n",
      "\n",
      "from Ulrike Groempings web site at prof.beuth-hochschule.de/groemping.\n",
      "\n",
      "\n"
     ]
    }
   ],
   "source": [
    "library('relaimpo')"
   ]
  },
  {
   "cell_type": "code",
   "execution_count": 9,
   "metadata": {},
   "outputs": [
    {
     "data": {
      "text/plain": [
       "Response variable: mpg \n",
       "Total response variance: 36.3241 \n",
       "Analysis based on 32 observations \n",
       "\n",
       "3 Regressors: \n",
       "wt qsec am \n",
       "Proportion of variance explained by model: 84.97%\n",
       "Metrics are normalized to sum to 100% (rela=TRUE). \n",
       "\n",
       "Relative importance metrics: \n",
       "\n",
       "           lmg\n",
       "wt   0.5640407\n",
       "qsec 0.1853428\n",
       "am   0.2506165\n",
       "\n",
       "Average coefficients for different model sizes: \n",
       "\n",
       "            1X       2Xs       3Xs\n",
       "wt   -5.344472 -5.200397 -3.916504\n",
       "qsec  1.412125  1.455534  1.225886\n",
       "am    7.244939  4.426358  2.935837"
      ]
     },
     "metadata": {},
     "output_type": "display_data"
    }
   ],
   "source": [
    "m = lm(mpg~ wt + qsec + am, data = mtcars)\n",
    "\n",
    "calc.relimp(m, type='lmg', rela=T, rank=T)"
   ]
  },
  {
   "cell_type": "code",
   "execution_count": null,
   "metadata": {},
   "outputs": [],
   "source": []
  }
 ],
 "metadata": {
  "kernelspec": {
   "display_name": "R",
   "language": "R",
   "name": "ir"
  },
  "language_info": {
   "codemirror_mode": "r",
   "file_extension": ".r",
   "mimetype": "text/x-r-source",
   "name": "R",
   "pygments_lexer": "r",
   "version": "4.0.2"
  }
 },
 "nbformat": 4,
 "nbformat_minor": 4
}
