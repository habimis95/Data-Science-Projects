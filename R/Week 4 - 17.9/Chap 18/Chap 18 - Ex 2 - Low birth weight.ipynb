{
 "cells": [
  {
   "cell_type": "code",
   "execution_count": 17,
   "metadata": {},
   "outputs": [],
   "source": [
    "library(corrplot)\n",
    "mydata = read.csv('birthweight_reduced.csv')"
   ]
  },
  {
   "cell_type": "code",
   "execution_count": 18,
   "metadata": {},
   "outputs": [
    {
     "name": "stdout",
     "output_type": "stream",
     "text": [
      "'data.frame':\t42 obs. of  17 variables:\n",
      " $ id              : int  1313 431 808 300 516 321 1363 575 822 1081 ...\n",
      " $ headcirumference: int  12 12 13 12 13 13 12 12 13 14 ...\n",
      " $ length          : int  17 19 19 18 18 19 19 19 19 21 ...\n",
      " $ Birthweight     : num  5.8 4.2 6.4 4.5 5.8 6.8 5.2 6.1 7.5 8 ...\n",
      " $ Gestation       : int  33 33 34 35 35 37 37 37 38 38 ...\n",
      " $ smoker          : int  0 1 0 1 1 0 1 1 0 0 ...\n",
      " $ motherage       : int  24 20 26 41 20 28 20 19 20 18 ...\n",
      " $ mnocig          : int  0 7 0 7 35 0 7 7 0 0 ...\n",
      " $ mheight         : int  58 63 65 65 67 62 64 65 62 67 ...\n",
      " $ mppwt           : int  99 109 140 125 125 118 104 132 103 109 ...\n",
      " $ fage            : int  26 20 25 37 23 39 20 20 22 20 ...\n",
      " $ fedyrs          : int  16 10 12 14 12 10 10 14 14 12 ...\n",
      " $ fnocig          : int  0 35 25 25 50 0 35 0 0 7 ...\n",
      " $ fheight         : int  66 71 69 68 73 67 73 72 70 67 ...\n",
      " $ lowbwt          : int  1 1 0 1 1 0 1 0 0 0 ...\n",
      " $ mage35          : int  0 0 0 1 0 0 0 0 0 0 ...\n",
      " $ LowBirthWeight  : chr  \"Low\" \"Low\" \"Normal\" \"Low\" ...\n",
      "NULL\n"
     ]
    }
   ],
   "source": [
    "print(str(mydata))"
   ]
  },
  {
   "cell_type": "code",
   "execution_count": 19,
   "metadata": {},
   "outputs": [
    {
     "name": "stdout",
     "output_type": "stream",
     "text": [
      "    id headcirumference length Birthweight Gestation smoker motherage mnocig\n",
      "1 1313               12     17         5.8        33      0        24      0\n",
      "2  431               12     19         4.2        33      1        20      7\n",
      "3  808               13     19         6.4        34      0        26      0\n",
      "4  300               12     18         4.5        35      1        41      7\n",
      "5  516               13     18         5.8        35      1        20     35\n",
      "6  321               13     19         6.8        37      0        28      0\n",
      "  mheight mppwt fage fedyrs fnocig fheight lowbwt mage35 LowBirthWeight\n",
      "1      58    99   26     16      0      66      1      0            Low\n",
      "2      63   109   20     10     35      71      1      0            Low\n",
      "3      65   140   25     12     25      69      0      0         Normal\n",
      "4      65   125   37     14     25      68      1      1            Low\n",
      "5      67   125   23     12     50      73      1      0            Low\n",
      "6      62   118   39     10      0      67      0      0         Normal\n"
     ]
    }
   ],
   "source": [
    "# View the first few rows of the data\n",
    "print(head(mydata))"
   ]
  },
  {
   "cell_type": "code",
   "execution_count": 20,
   "metadata": {},
   "outputs": [
    {
     "name": "stdout",
     "output_type": "stream",
     "text": [
      "     id headcirumference length Birthweight Gestation smoker motherage mnocig\n",
      "37 1764               15     22        10.0        41      1        32     12\n",
      "38  553               14     21         8.6        42      0        24      0\n",
      "39 1191               13     21         8.0        42      0        21      0\n",
      "40 1360               13     22        10.0        44      0        20      0\n",
      "41  223               13     19         8.5        45      1        28     25\n",
      "42 1187               14     20         8.9        44      0        20      0\n",
      "   mheight mppwt fage fedyrs fnocig fheight lowbwt mage35 LowBirthWeight\n",
      "37      68   154   38     14     25      71      0      0         Normal\n",
      "38      69   143   30     12      0      72      0      0         Normal\n",
      "39      65   132   21     10     25      73      0      0         Normal\n",
      "40      63   125   23     10     35      70      0      0         Normal\n",
      "41      64   118   30     16      0      72      0      0         Normal\n",
      "42      68   150   26     14     25      74      0      0         Normal\n"
     ]
    }
   ],
   "source": [
    "print(tail(mydata))"
   ]
  },
  {
   "cell_type": "code",
   "execution_count": 21,
   "metadata": {},
   "outputs": [
    {
     "name": "stdout",
     "output_type": "stream",
     "text": [
      "       id         headcirumference     length       Birthweight    \n",
      " Min.   :  27.0   Min.   :12.00    Min.   :17.00   Min.   : 4.200  \n",
      " 1st Qu.: 537.2   1st Qu.:13.00    1st Qu.:19.00   1st Qu.: 6.450  \n",
      " Median : 821.0   Median :13.00    Median :20.00   Median : 7.250  \n",
      " Mean   : 894.1   Mean   :13.26    Mean   :19.93   Mean   : 7.264  \n",
      " 3rd Qu.:1269.5   3rd Qu.:14.00    3rd Qu.:21.00   3rd Qu.: 8.000  \n",
      " Max.   :1764.0   Max.   :15.00    Max.   :22.00   Max.   :10.000  \n",
      "   Gestation         smoker         motherage         mnocig      \n",
      " Min.   :33.00   Min.   :0.0000   Min.   :18.00   Min.   : 0.000  \n",
      " 1st Qu.:38.00   1st Qu.:0.0000   1st Qu.:20.25   1st Qu.: 0.000  \n",
      " Median :39.50   Median :1.0000   Median :24.00   Median : 4.500  \n",
      " Mean   :39.19   Mean   :0.5238   Mean   :25.55   Mean   : 9.429  \n",
      " 3rd Qu.:41.00   3rd Qu.:1.0000   3rd Qu.:29.00   3rd Qu.:15.750  \n",
      " Max.   :45.00   Max.   :1.0000   Max.   :41.00   Max.   :50.000  \n",
      "    mheight         mppwt            fage          fedyrs          fnocig     \n",
      " Min.   :58.0   Min.   : 99.0   Min.   :19.0   Min.   :10.00   Min.   : 0.00  \n",
      " 1st Qu.:63.0   1st Qu.:115.0   1st Qu.:23.0   1st Qu.:12.00   1st Qu.: 0.00  \n",
      " Median :64.0   Median :125.0   Median :29.5   Median :14.00   Median :18.50  \n",
      " Mean   :64.4   Mean   :125.9   Mean   :28.9   Mean   :13.67   Mean   :17.19  \n",
      " 3rd Qu.:66.0   3rd Qu.:135.0   3rd Qu.:32.0   3rd Qu.:16.00   3rd Qu.:25.00  \n",
      " Max.   :71.0   Max.   :170.0   Max.   :46.0   Max.   :16.00   Max.   :50.00  \n",
      "    fheight          lowbwt           mage35        LowBirthWeight    \n",
      " Min.   :66.00   Min.   :0.0000   Min.   :0.00000   Length:42         \n",
      " 1st Qu.:69.00   1st Qu.:0.0000   1st Qu.:0.00000   Class :character  \n",
      " Median :71.00   Median :0.0000   Median :0.00000   Mode  :character  \n",
      " Mean   :70.76   Mean   :0.1429   Mean   :0.09524                     \n",
      " 3rd Qu.:72.00   3rd Qu.:0.0000   3rd Qu.:0.00000                     \n",
      " Max.   :78.00   Max.   :1.0000   Max.   :1.00000                     \n"
     ]
    }
   ],
   "source": [
    "print(summary(mydata))"
   ]
  },
  {
   "cell_type": "code",
   "execution_count": 22,
   "metadata": {},
   "outputs": [
    {
     "name": "stdout",
     "output_type": "stream",
     "text": [
      "[1] \"rows: 42\"\n",
      "[1] \"cols: 17\"\n"
     ]
    }
   ],
   "source": [
    "print(paste('rows:', nrow(mydata)))\n",
    "print(paste('cols:', ncol(mydata)))"
   ]
  },
  {
   "cell_type": "code",
   "execution_count": 23,
   "metadata": {},
   "outputs": [
    {
     "data": {
      "image/png": "[encoded data removed]",
      "text/plain": [
       "Plot with title \"Missing values vs observed\""
      ]
     },
     "metadata": {
      "image/png": {
       "height": 420,
       "width": 420
      }
     },
     "output_type": "display_data"
    }
   ],
   "source": [
    "# check missing value\n",
    "library(Amelia)\n",
    "missmap(mydata, main = 'Missing values vs observed')"
   ]
  },
  {
   "cell_type": "code",
   "execution_count": 24,
   "metadata": {},
   "outputs": [
    {
     "name": "stdout",
     "output_type": "stream",
     "text": [
      "\n",
      "   Low Normal \n",
      "     6     36 \n"
     ]
    }
   ],
   "source": [
    "# check class bias\n",
    "print(table(mydata$LowBirthWeight))"
   ]
  },
  {
   "cell_type": "code",
   "execution_count": 25,
   "metadata": {},
   "outputs": [
    {
     "data": {
      "text/html": [
       "<table>\n",
       "<caption>A matrix: 15 × 15 of type dbl</caption>\n",
       "<thead>\n",
       "\t<tr><th></th><th scope=col>headcirumference</th><th scope=col>length</th><th scope=col>Birthweight</th><th scope=col>Gestation</th><th scope=col>smoker</th><th scope=col>motherage</th><th scope=col>mnocig</th><th scope=col>mheight</th><th scope=col>mppwt</th><th scope=col>fage</th><th scope=col>fedyrs</th><th scope=col>fnocig</th><th scope=col>fheight</th><th scope=col>lowbwt</th><th scope=col>mage35</th></tr>\n",
       "</thead>\n",
       "<tbody>\n",
       "\t<tr><th scope=row>headcirumference</th><td> 1.000000000</td><td> 0.56532849</td><td> 0.736396310</td><td> 0.443974538</td><td>-0.17375085</td><td> 0.112108327</td><td>-0.131437996</td><td> 0.38129342</td><td> 0.35759351</td><td> 0.30136346</td><td> 0.083416559</td><td>-0.02773428</td><td> 0.040466392</td><td>-0.50024673</td><td>-0.005096869</td></tr>\n",
       "\t<tr><th scope=row>length</th><td> 0.565328491</td><td> 1.00000000</td><td> 0.697008279</td><td> 0.651402769</td><td>-0.23534939</td><td>-0.020718949</td><td>-0.157138028</td><td> 0.41473145</td><td> 0.30439408</td><td> 0.07890718</td><td>-0.050722880</td><td> 0.01971581</td><td> 0.187137302</td><td>-0.59224820</td><td> 0.021074827</td></tr>\n",
       "\t<tr><th scope=row>Birthweight</th><td> 0.736396310</td><td> 0.69700828</td><td> 1.000000000</td><td> 0.706291950</td><td>-0.30895001</td><td> 0.001040475</td><td>-0.151227745</td><td> 0.36794704</td><td> 0.38958065</td><td> 0.17679000</td><td> 0.073869580</td><td>-0.08892720</td><td> 0.024784274</td><td>-0.65180447</td><td>-0.108480485</td></tr>\n",
       "\t<tr><th scope=row>Gestation</th><td> 0.443974538</td><td> 0.65140277</td><td> 0.706291950</td><td> 1.000000000</td><td>-0.09474608</td><td> 0.010778455</td><td> 0.043194856</td><td> 0.23092930</td><td> 0.25051553</td><td> 0.14217533</td><td> 0.130986636</td><td>-0.11383061</td><td> 0.187866905</td><td>-0.60293498</td><td> 0.007394508</td></tr>\n",
       "\t<tr><th scope=row>smoker</th><td>-0.173750846</td><td>-0.23534939</td><td>-0.308950015</td><td>-0.094746078</td><td> 1.00000000</td><td> 0.212478786</td><td> 0.727218092</td><td> 0.03968201</td><td> 0.01258798</td><td> 0.19750145</td><td>-0.014890584</td><td> 0.41763296</td><td> 0.105835307</td><td> 0.25301216</td><td> 0.146938453</td></tr>\n",
       "\t<tr><th scope=row>motherage</th><td> 0.112108327</td><td>-0.02071895</td><td> 0.001040475</td><td> 0.010778455</td><td> 0.21247879</td><td> 1.000000000</td><td> 0.340294378</td><td> 0.04678404</td><td> 0.27764134</td><td> 0.80658442</td><td> 0.441682660</td><td> 0.09092664</td><td>-0.203603248</td><td>-0.07639372</td><td> 0.692663889</td></tr>\n",
       "\t<tr><th scope=row>mnocig</th><td>-0.131437996</td><td>-0.15713803</td><td>-0.151227745</td><td> 0.043194856</td><td> 0.72721809</td><td> 0.340294378</td><td> 1.000000000</td><td> 0.17194248</td><td> 0.15400811</td><td> 0.24842538</td><td> 0.198526204</td><td> 0.25730739</td><td> 0.008421145</td><td> 0.03538366</td><td> 0.290574154</td></tr>\n",
       "\t<tr><th scope=row>mheight</th><td> 0.381293418</td><td> 0.41473145</td><td> 0.367947042</td><td> 0.230929298</td><td> 0.03968201</td><td> 0.046784040</td><td> 0.171942477</td><td> 1.00000000</td><td> 0.67124662</td><td>-0.07166439</td><td> 0.016249430</td><td> 0.04909595</td><td> 0.272823984</td><td>-0.20080064</td><td> 0.108944153</td></tr>\n",
       "\t<tr><th scope=row>mppwt</th><td> 0.357593509</td><td> 0.30439408</td><td> 0.389580646</td><td> 0.250515534</td><td> 0.01258798</td><td> 0.277641336</td><td> 0.154008114</td><td> 0.67124662</td><td> 1.00000000</td><td> 0.25340070</td><td> 0.187700894</td><td> 0.05077141</td><td> 0.108319605</td><td>-0.33887910</td><td> 0.147704096</td></tr>\n",
       "\t<tr><th scope=row>fage</th><td> 0.301363456</td><td> 0.07890718</td><td> 0.176790000</td><td> 0.142175334</td><td> 0.19750145</td><td> 0.806584417</td><td> 0.248425377</td><td>-0.07166439</td><td> 0.25340070</td><td> 1.00000000</td><td> 0.300471472</td><td> 0.13586202</td><td>-0.298559496</td><td>-0.24509537</td><td> 0.351405036</td></tr>\n",
       "\t<tr><th scope=row>fedyrs</th><td> 0.083416559</td><td>-0.05072288</td><td> 0.073869580</td><td> 0.130986636</td><td>-0.01489058</td><td> 0.441682660</td><td> 0.198526204</td><td> 0.01624943</td><td> 0.18770089</td><td> 0.30047147</td><td> 1.000000000</td><td>-0.26310302</td><td>-0.005293266</td><td>-0.19127301</td><td> 0.278682026</td></tr>\n",
       "\t<tr><th scope=row>fnocig</th><td>-0.027734282</td><td> 0.01971581</td><td>-0.088927203</td><td>-0.113830614</td><td> 0.41763296</td><td> 0.090926636</td><td> 0.257307386</td><td> 0.04909595</td><td> 0.05077141</td><td> 0.13586202</td><td>-0.263103019</td><td> 1.00000000</td><td> 0.325491544</td><td> 0.26601285</td><td>-0.088989100</td></tr>\n",
       "\t<tr><th scope=row>fheight</th><td> 0.040466392</td><td> 0.18713730</td><td> 0.024784274</td><td> 0.187866905</td><td> 0.10583531</td><td>-0.203603248</td><td> 0.008421145</td><td> 0.27282398</td><td> 0.10831960</td><td>-0.29855950</td><td>-0.005293266</td><td> 0.32549154</td><td> 1.000000000</td><td> 0.10723627</td><td>-0.174569169</td></tr>\n",
       "\t<tr><th scope=row>lowbwt</th><td>-0.500246731</td><td>-0.59224820</td><td>-0.651804466</td><td>-0.602934976</td><td> 0.25301216</td><td>-0.076393724</td><td> 0.035383657</td><td>-0.20080064</td><td>-0.33887910</td><td>-0.24509537</td><td>-0.191273014</td><td> 0.26601285</td><td> 0.107236268</td><td> 1.00000000</td><td> 0.099339927</td></tr>\n",
       "\t<tr><th scope=row>mage35</th><td>-0.005096869</td><td> 0.02107483</td><td>-0.108480485</td><td> 0.007394508</td><td> 0.14693845</td><td> 0.692663889</td><td> 0.290574154</td><td> 0.10894415</td><td> 0.14770410</td><td> 0.35140504</td><td> 0.278682026</td><td>-0.08898910</td><td>-0.174569169</td><td> 0.09933993</td><td> 1.000000000</td></tr>\n",
       "</tbody>\n",
       "</table>\n"
      ],
      "text/latex": [
       "A matrix: 15 × 15 of type dbl\n",
       "\\begin{tabular}{r|lllllllllllllll}\n",
       "  & headcirumference & length & Birthweight & Gestation & smoker & motherage & mnocig & mheight & mppwt & fage & fedyrs & fnocig & fheight & lowbwt & mage35\\\\\n",
       "\\hline\n",
       "\theadcirumference &  1.000000000 &  0.56532849 &  0.736396310 &  0.443974538 & -0.17375085 &  0.112108327 & -0.131437996 &  0.38129342 &  0.35759351 &  0.30136346 &  0.083416559 & -0.02773428 &  0.040466392 & -0.50024673 & -0.005096869\\\\\n",
       "\tlength &  0.565328491 &  1.00000000 &  0.697008279 &  0.651402769 & -0.23534939 & -0.020718949 & -0.157138028 &  0.41473145 &  0.30439408 &  0.07890718 & -0.050722880 &  0.01971581 &  0.187137302 & -0.59224820 &  0.021074827\\\\\n",
       "\tBirthweight &  0.736396310 &  0.69700828 &  1.000000000 &  0.706291950 & -0.30895001 &  0.001040475 & -0.151227745 &  0.36794704 &  0.38958065 &  0.17679000 &  0.073869580 & -0.08892720 &  0.024784274 & -0.65180447 & -0.108480485\\\\\n",
       "\tGestation &  0.443974538 &  0.65140277 &  0.706291950 &  1.000000000 & -0.09474608 &  0.010778455 &  0.043194856 &  0.23092930 &  0.25051553 &  0.14217533 &  0.130986636 & -0.11383061 &  0.187866905 & -0.60293498 &  0.007394508\\\\\n",
       "\tsmoker & -0.173750846 & -0.23534939 & -0.308950015 & -0.094746078 &  1.00000000 &  0.212478786 &  0.727218092 &  0.03968201 &  0.01258798 &  0.19750145 & -0.014890584 &  0.41763296 &  0.105835307 &  0.25301216 &  0.146938453\\\\\n",
       "\tmotherage &  0.112108327 & -0.02071895 &  0.001040475 &  0.010778455 &  0.21247879 &  1.000000000 &  0.340294378 &  0.04678404 &  0.27764134 &  0.80658442 &  0.441682660 &  0.09092664 & -0.203603248 & -0.07639372 &  0.692663889\\\\\n",
       "\tmnocig & -0.131437996 & -0.15713803 & -0.151227745 &  0.043194856 &  0.72721809 &  0.340294378 &  1.000000000 &  0.17194248 &  0.15400811 &  0.24842538 &  0.198526204 &  0.25730739 &  0.008421145 &  0.03538366 &  0.290574154\\\\\n",
       "\tmheight &  0.381293418 &  0.41473145 &  0.367947042 &  0.230929298 &  0.03968201 &  0.046784040 &  0.171942477 &  1.00000000 &  0.67124662 & -0.07166439 &  0.016249430 &  0.04909595 &  0.272823984 & -0.20080064 &  0.108944153\\\\\n",
       "\tmppwt &  0.357593509 &  0.30439408 &  0.389580646 &  0.250515534 &  0.01258798 &  0.277641336 &  0.154008114 &  0.67124662 &  1.00000000 &  0.25340070 &  0.187700894 &  0.05077141 &  0.108319605 & -0.33887910 &  0.147704096\\\\\n",
       "\tfage &  0.301363456 &  0.07890718 &  0.176790000 &  0.142175334 &  0.19750145 &  0.806584417 &  0.248425377 & -0.07166439 &  0.25340070 &  1.00000000 &  0.300471472 &  0.13586202 & -0.298559496 & -0.24509537 &  0.351405036\\\\\n",
       "\tfedyrs &  0.083416559 & -0.05072288 &  0.073869580 &  0.130986636 & -0.01489058 &  0.441682660 &  0.198526204 &  0.01624943 &  0.18770089 &  0.30047147 &  1.000000000 & -0.26310302 & -0.005293266 & -0.19127301 &  0.278682026\\\\\n",
       "\tfnocig & -0.027734282 &  0.01971581 & -0.088927203 & -0.113830614 &  0.41763296 &  0.090926636 &  0.257307386 &  0.04909595 &  0.05077141 &  0.13586202 & -0.263103019 &  1.00000000 &  0.325491544 &  0.26601285 & -0.088989100\\\\\n",
       "\tfheight &  0.040466392 &  0.18713730 &  0.024784274 &  0.187866905 &  0.10583531 & -0.203603248 &  0.008421145 &  0.27282398 &  0.10831960 & -0.29855950 & -0.005293266 &  0.32549154 &  1.000000000 &  0.10723627 & -0.174569169\\\\\n",
       "\tlowbwt & -0.500246731 & -0.59224820 & -0.651804466 & -0.602934976 &  0.25301216 & -0.076393724 &  0.035383657 & -0.20080064 & -0.33887910 & -0.24509537 & -0.191273014 &  0.26601285 &  0.107236268 &  1.00000000 &  0.099339927\\\\\n",
       "\tmage35 & -0.005096869 &  0.02107483 & -0.108480485 &  0.007394508 &  0.14693845 &  0.692663889 &  0.290574154 &  0.10894415 &  0.14770410 &  0.35140504 &  0.278682026 & -0.08898910 & -0.174569169 &  0.09933993 &  1.000000000\\\\\n",
       "\\end{tabular}\n"
      ],
      "text/markdown": [
       "\n",
       "A matrix: 15 × 15 of type dbl\n",
       "\n",
       "| <!--/--> | headcirumference | length | Birthweight | Gestation | smoker | motherage | mnocig | mheight | mppwt | fage | fedyrs | fnocig | fheight | lowbwt | mage35 |\n",
       "|---|---|---|---|---|---|---|---|---|---|---|---|---|---|---|---|\n",
       "| headcirumference |  1.000000000 |  0.56532849 |  0.736396310 |  0.443974538 | -0.17375085 |  0.112108327 | -0.131437996 |  0.38129342 |  0.35759351 |  0.30136346 |  0.083416559 | -0.02773428 |  0.040466392 | -0.50024673 | -0.005096869 |\n",
       "| length |  0.565328491 |  1.00000000 |  0.697008279 |  0.651402769 | -0.23534939 | -0.020718949 | -0.157138028 |  0.41473145 |  0.30439408 |  0.07890718 | -0.050722880 |  0.01971581 |  0.187137302 | -0.59224820 |  0.021074827 |\n",
       "| Birthweight |  0.736396310 |  0.69700828 |  1.000000000 |  0.706291950 | -0.30895001 |  0.001040475 | -0.151227745 |  0.36794704 |  0.38958065 |  0.17679000 |  0.073869580 | -0.08892720 |  0.024784274 | -0.65180447 | -0.108480485 |\n",
       "| Gestation |  0.443974538 |  0.65140277 |  0.706291950 |  1.000000000 | -0.09474608 |  0.010778455 |  0.043194856 |  0.23092930 |  0.25051553 |  0.14217533 |  0.130986636 | -0.11383061 |  0.187866905 | -0.60293498 |  0.007394508 |\n",
       "| smoker | -0.173750846 | -0.23534939 | -0.308950015 | -0.094746078 |  1.00000000 |  0.212478786 |  0.727218092 |  0.03968201 |  0.01258798 |  0.19750145 | -0.014890584 |  0.41763296 |  0.105835307 |  0.25301216 |  0.146938453 |\n",
       "| motherage |  0.112108327 | -0.02071895 |  0.001040475 |  0.010778455 |  0.21247879 |  1.000000000 |  0.340294378 |  0.04678404 |  0.27764134 |  0.80658442 |  0.441682660 |  0.09092664 | -0.203603248 | -0.07639372 |  0.692663889 |\n",
       "| mnocig | -0.131437996 | -0.15713803 | -0.151227745 |  0.043194856 |  0.72721809 |  0.340294378 |  1.000000000 |  0.17194248 |  0.15400811 |  0.24842538 |  0.198526204 |  0.25730739 |  0.008421145 |  0.03538366 |  0.290574154 |\n",
       "| mheight |  0.381293418 |  0.41473145 |  0.367947042 |  0.230929298 |  0.03968201 |  0.046784040 |  0.171942477 |  1.00000000 |  0.67124662 | -0.07166439 |  0.016249430 |  0.04909595 |  0.272823984 | -0.20080064 |  0.108944153 |\n",
       "| mppwt |  0.357593509 |  0.30439408 |  0.389580646 |  0.250515534 |  0.01258798 |  0.277641336 |  0.154008114 |  0.67124662 |  1.00000000 |  0.25340070 |  0.187700894 |  0.05077141 |  0.108319605 | -0.33887910 |  0.147704096 |\n",
       "| fage |  0.301363456 |  0.07890718 |  0.176790000 |  0.142175334 |  0.19750145 |  0.806584417 |  0.248425377 | -0.07166439 |  0.25340070 |  1.00000000 |  0.300471472 |  0.13586202 | -0.298559496 | -0.24509537 |  0.351405036 |\n",
       "| fedyrs |  0.083416559 | -0.05072288 |  0.073869580 |  0.130986636 | -0.01489058 |  0.441682660 |  0.198526204 |  0.01624943 |  0.18770089 |  0.30047147 |  1.000000000 | -0.26310302 | -0.005293266 | -0.19127301 |  0.278682026 |\n",
       "| fnocig | -0.027734282 |  0.01971581 | -0.088927203 | -0.113830614 |  0.41763296 |  0.090926636 |  0.257307386 |  0.04909595 |  0.05077141 |  0.13586202 | -0.263103019 |  1.00000000 |  0.325491544 |  0.26601285 | -0.088989100 |\n",
       "| fheight |  0.040466392 |  0.18713730 |  0.024784274 |  0.187866905 |  0.10583531 | -0.203603248 |  0.008421145 |  0.27282398 |  0.10831960 | -0.29855950 | -0.005293266 |  0.32549154 |  1.000000000 |  0.10723627 | -0.174569169 |\n",
       "| lowbwt | -0.500246731 | -0.59224820 | -0.651804466 | -0.602934976 |  0.25301216 | -0.076393724 |  0.035383657 | -0.20080064 | -0.33887910 | -0.24509537 | -0.191273014 |  0.26601285 |  0.107236268 |  1.00000000 |  0.099339927 |\n",
       "| mage35 | -0.005096869 |  0.02107483 | -0.108480485 |  0.007394508 |  0.14693845 |  0.692663889 |  0.290574154 |  0.10894415 |  0.14770410 |  0.35140504 |  0.278682026 | -0.08898910 | -0.174569169 |  0.09933993 |  1.000000000 |\n",
       "\n"
      ],
      "text/plain": [
       "                 headcirumference length      Birthweight  Gestation   \n",
       "headcirumference  1.000000000      0.56532849  0.736396310  0.443974538\n",
       "length            0.565328491      1.00000000  0.697008279  0.651402769\n",
       "Birthweight       0.736396310      0.69700828  1.000000000  0.706291950\n",
       "Gestation         0.443974538      0.65140277  0.706291950  1.000000000\n",
       "smoker           -0.173750846     -0.23534939 -0.308950015 -0.094746078\n",
       "motherage         0.112108327     -0.02071895  0.001040475  0.010778455\n",
       "mnocig           -0.131437996     -0.15713803 -0.151227745  0.043194856\n",
       "mheight           0.381293418      0.41473145  0.367947042  0.230929298\n",
       "mppwt             0.357593509      0.30439408  0.389580646  0.250515534\n",
       "fage              0.301363456      0.07890718  0.176790000  0.142175334\n",
       "fedyrs            0.083416559     -0.05072288  0.073869580  0.130986636\n",
       "fnocig           -0.027734282      0.01971581 -0.088927203 -0.113830614\n",
       "fheight           0.040466392      0.18713730  0.024784274  0.187866905\n",
       "lowbwt           -0.500246731     -0.59224820 -0.651804466 -0.602934976\n",
       "mage35           -0.005096869      0.02107483 -0.108480485  0.007394508\n",
       "                 smoker      motherage    mnocig       mheight     mppwt      \n",
       "headcirumference -0.17375085  0.112108327 -0.131437996  0.38129342  0.35759351\n",
       "length           -0.23534939 -0.020718949 -0.157138028  0.41473145  0.30439408\n",
       "Birthweight      -0.30895001  0.001040475 -0.151227745  0.36794704  0.38958065\n",
       "Gestation        -0.09474608  0.010778455  0.043194856  0.23092930  0.25051553\n",
       "smoker            1.00000000  0.212478786  0.727218092  0.03968201  0.01258798\n",
       "motherage         0.21247879  1.000000000  0.340294378  0.04678404  0.27764134\n",
       "mnocig            0.72721809  0.340294378  1.000000000  0.17194248  0.15400811\n",
       "mheight           0.03968201  0.046784040  0.171942477  1.00000000  0.67124662\n",
       "mppwt             0.01258798  0.277641336  0.154008114  0.67124662  1.00000000\n",
       "fage              0.19750145  0.806584417  0.248425377 -0.07166439  0.25340070\n",
       "fedyrs           -0.01489058  0.441682660  0.198526204  0.01624943  0.18770089\n",
       "fnocig            0.41763296  0.090926636  0.257307386  0.04909595  0.05077141\n",
       "fheight           0.10583531 -0.203603248  0.008421145  0.27282398  0.10831960\n",
       "lowbwt            0.25301216 -0.076393724  0.035383657 -0.20080064 -0.33887910\n",
       "mage35            0.14693845  0.692663889  0.290574154  0.10894415  0.14770410\n",
       "                 fage        fedyrs       fnocig      fheight      lowbwt     \n",
       "headcirumference  0.30136346  0.083416559 -0.02773428  0.040466392 -0.50024673\n",
       "length            0.07890718 -0.050722880  0.01971581  0.187137302 -0.59224820\n",
       "Birthweight       0.17679000  0.073869580 -0.08892720  0.024784274 -0.65180447\n",
       "Gestation         0.14217533  0.130986636 -0.11383061  0.187866905 -0.60293498\n",
       "smoker            0.19750145 -0.014890584  0.41763296  0.105835307  0.25301216\n",
       "motherage         0.80658442  0.441682660  0.09092664 -0.203603248 -0.07639372\n",
       "mnocig            0.24842538  0.198526204  0.25730739  0.008421145  0.03538366\n",
       "mheight          -0.07166439  0.016249430  0.04909595  0.272823984 -0.20080064\n",
       "mppwt             0.25340070  0.187700894  0.05077141  0.108319605 -0.33887910\n",
       "fage              1.00000000  0.300471472  0.13586202 -0.298559496 -0.24509537\n",
       "fedyrs            0.30047147  1.000000000 -0.26310302 -0.005293266 -0.19127301\n",
       "fnocig            0.13586202 -0.263103019  1.00000000  0.325491544  0.26601285\n",
       "fheight          -0.29855950 -0.005293266  0.32549154  1.000000000  0.10723627\n",
       "lowbwt           -0.24509537 -0.191273014  0.26601285  0.107236268  1.00000000\n",
       "mage35            0.35140504  0.278682026 -0.08898910 -0.174569169  0.09933993\n",
       "                 mage35      \n",
       "headcirumference -0.005096869\n",
       "length            0.021074827\n",
       "Birthweight      -0.108480485\n",
       "Gestation         0.007394508\n",
       "smoker            0.146938453\n",
       "motherage         0.692663889\n",
       "mnocig            0.290574154\n",
       "mheight           0.108944153\n",
       "mppwt             0.147704096\n",
       "fage              0.351405036\n",
       "fedyrs            0.278682026\n",
       "fnocig           -0.088989100\n",
       "fheight          -0.174569169\n",
       "lowbwt            0.099339927\n",
       "mage35            1.000000000"
      ]
     },
     "metadata": {},
     "output_type": "display_data"
    }
   ],
   "source": [
    "# Boxplot to check for outliers\n",
    "# drop rows having outliers\n",
    "\n",
    "# calculating the correlation between each pair of numeric variables\n",
    "correlations = cor(mydata[,2:16])\n",
    "correlations"
   ]
  },
  {
   "cell_type": "code",
   "execution_count": 26,
   "metadata": {},
   "outputs": [
    {
     "data": {
      "image/png": "[encoded data removed]",
      "text/plain": [
       "Plot with title \"\""
      ]
     },
     "metadata": {
      "image/png": {
       "height": 420,
       "width": 420
      }
     },
     "output_type": "display_data"
    }
   ],
   "source": [
    "corrplot(correlations, method = 'circle')"
   ]
  },
  {
   "cell_type": "code",
   "execution_count": 27,
   "metadata": {},
   "outputs": [
    {
     "name": "stdout",
     "output_type": "stream",
     "text": [
      "  headcirumference length Birthweight Gestation smoker motherage mnocig mheight\n",
      "1               12     17         5.8        33      0        24      0      58\n",
      "2               12     19         4.2        33      1        20      7      63\n",
      "3               13     19         6.4        34      0        26      0      65\n",
      "4               12     18         4.5        35      1        41      7      65\n",
      "5               13     18         5.8        35      1        20     35      67\n",
      "6               13     19         6.8        37      0        28      0      62\n",
      "  mppwt fage fedyrs fnocig fheight lowbwt mage35 LowBirthWeight\n",
      "1    99   26     16      0      66      1      0            Low\n",
      "2   109   20     10     35      71      1      0            Low\n",
      "3   140   25     12     25      69      0      0         Normal\n",
      "4   125   37     14     25      68      1      1            Low\n",
      "5   125   23     12     50      73      1      0            Low\n",
      "6   118   39     10      0      67      0      0         Normal\n"
     ]
    }
   ],
   "source": [
    "# divided into train and test: 70 - 30\n",
    "mydata = mydata[,2:17]\n",
    "print(head(mydata))"
   ]
  },
  {
   "cell_type": "code",
   "execution_count": 28,
   "metadata": {},
   "outputs": [
    {
     "name": "stdout",
     "output_type": "stream",
     "text": [
      "[1] \"Rows of training data and test data:\"\n",
      "[1] 29\n",
      "[1] 13\n"
     ]
    }
   ],
   "source": [
    "n = nrow(mydata)\n",
    "trainIndex = sample(1:n, size = round(0.7*n), replace = FALSE)\n",
    "train = mydata[trainIndex ,]\n",
    "test = mydata[-trainIndex ,]\n",
    "print('Rows of training data and test data:')\n",
    "print(nrow(train))\n",
    "print(nrow(test))"
   ]
  },
  {
   "cell_type": "code",
   "execution_count": 35,
   "metadata": {},
   "outputs": [],
   "source": [
    "train$LowBirthWeight = as.factor(train$LowBirthWeight)"
   ]
  },
  {
   "cell_type": "code",
   "execution_count": 36,
   "metadata": {},
   "outputs": [
    {
     "name": "stdout",
     "output_type": "stream",
     "text": [
      "\n",
      "Call:\n",
      "glm(formula = LowBirthWeight ~ ., family = \"binomial\", data = train)\n",
      "\n",
      "Deviance Residuals: \n",
      "       Min          1Q      Median          3Q         Max  \n",
      "-3.971e-06   3.971e-06   3.971e-06   3.971e-06   3.971e-06  \n",
      "\n",
      "Coefficients:\n",
      "                   Estimate Std. Error z value Pr(>|z|)\n",
      "(Intercept)       2.557e+01  2.100e+06       0        1\n",
      "headcirumference -9.109e-07  9.990e+04       0        1\n",
      "length            2.216e-07  7.155e+04       0        1\n",
      "Birthweight       3.304e-07  7.563e+04       0        1\n",
      "Gestation         2.155e-08  3.079e+04       0        1\n",
      "smoker            1.524e-06  1.604e+05       0        1\n",
      "motherage         4.639e-08  3.330e+04       0        1\n",
      "mnocig           -6.636e-08  6.727e+03       0        1\n",
      "mheight          -3.049e-07  2.904e+04       0        1\n",
      "mppwt             3.031e-08  4.089e+03       0        1\n",
      "fage             -6.390e-10  2.148e+04       0        1\n",
      "fedyrs           -9.385e-08  2.541e+04       0        1\n",
      "fnocig           -3.801e-09  4.427e+03       0        1\n",
      "fheight           3.174e-08  2.366e+04       0        1\n",
      "lowbwt           -5.113e+01  2.897e+05       0        1\n",
      "mage35           -2.827e-07  3.839e+05       0        1\n",
      "\n",
      "(Dispersion parameter for binomial family taken to be 1)\n",
      "\n",
      "    Null deviance: 2.6662e+01  on 28  degrees of freedom\n",
      "Residual deviance: 4.5733e-10  on 13  degrees of freedom\n",
      "AIC: 32\n",
      "\n",
      "Number of Fisher Scoring iterations: 24\n",
      "\n"
     ]
    }
   ],
   "source": [
    "# estimate a logistic regression model using the glm (generalized linear model)\n",
    "mylogit = glm(LowBirthWeight ~ ., data = train, family = \"binomial\")\n",
    "print(summary(mylogit))"
   ]
  },
  {
   "cell_type": "code",
   "execution_count": 37,
   "metadata": {},
   "outputs": [
    {
     "name": "stdout",
     "output_type": "stream",
     "text": [
      "[1] \"Testdata admit vs predict:\"\n",
      "   Actual pred_value\n",
      "3  Normal     Normal\n",
      "5     Low        Low\n",
      "8  Normal     Normal\n",
      "9  Normal     Normal\n",
      "13 Normal     Normal\n",
      "14 Normal     Normal\n",
      "15 Normal     Normal\n",
      "16 Normal     Normal\n",
      "21 Normal     Normal\n",
      "24 Normal     Normal\n",
      "26 Normal     Normal\n",
      "34 Normal     Normal\n",
      "40 Normal     Normal\n"
     ]
    }
   ],
   "source": [
    "pred = predict(mylogit, \n",
    "               newdata = test,\n",
    "               type = 'response')\n",
    "pred_value = ifelse(pred > 0.5, 'Normal', 'Low')\n",
    "print('Testdata admit vs predict:')\n",
    "result = data.frame(Actual = test$LowBirthWeight, pred_value)\n",
    "print(result)"
   ]
  },
  {
   "cell_type": "code",
   "execution_count": 38,
   "metadata": {},
   "outputs": [
    {
     "name": "stdout",
     "output_type": "stream",
     "text": [
      "[1] \"Accuracy s2: 1\"\n"
     ]
    }
   ],
   "source": [
    "# solution 1\n",
    "misClasificError = mean(pred_value != test$LowBirthWeight)\n",
    "print(paste('Accuracy s2:', 1-misClasificError))"
   ]
  },
  {
   "cell_type": "code",
   "execution_count": 39,
   "metadata": {},
   "outputs": [
    {
     "data": {
      "text/html": [
       "<style>\n",
       ".list-inline {list-style: none; margin:0; padding: 0}\n",
       ".list-inline>li {display: inline-block}\n",
       ".list-inline>li:not(:last-child)::after {content: \"\\00b7\"; padding: 0 .5ex}\n",
       "</style>\n",
       "<ol class=list-inline><li>'headcirumference'</li><li>'length'</li><li>'Birthweight'</li><li>'Gestation'</li><li>'smoker'</li><li>'motherage'</li><li>'mnocig'</li><li>'mheight'</li><li>'mppwt'</li><li>'fage'</li><li>'fedyrs'</li><li>'fnocig'</li><li>'fheight'</li><li>'lowbwt'</li><li>'mage35'</li><li>'LowBirthWeight'</li></ol>\n"
      ],
      "text/latex": [
       "\\begin{enumerate*}\n",
       "\\item 'headcirumference'\n",
       "\\item 'length'\n",
       "\\item 'Birthweight'\n",
       "\\item 'Gestation'\n",
       "\\item 'smoker'\n",
       "\\item 'motherage'\n",
       "\\item 'mnocig'\n",
       "\\item 'mheight'\n",
       "\\item 'mppwt'\n",
       "\\item 'fage'\n",
       "\\item 'fedyrs'\n",
       "\\item 'fnocig'\n",
       "\\item 'fheight'\n",
       "\\item 'lowbwt'\n",
       "\\item 'mage35'\n",
       "\\item 'LowBirthWeight'\n",
       "\\end{enumerate*}\n"
      ],
      "text/markdown": [
       "1. 'headcirumference'\n",
       "2. 'length'\n",
       "3. 'Birthweight'\n",
       "4. 'Gestation'\n",
       "5. 'smoker'\n",
       "6. 'motherage'\n",
       "7. 'mnocig'\n",
       "8. 'mheight'\n",
       "9. 'mppwt'\n",
       "10. 'fage'\n",
       "11. 'fedyrs'\n",
       "12. 'fnocig'\n",
       "13. 'fheight'\n",
       "14. 'lowbwt'\n",
       "15. 'mage35'\n",
       "16. 'LowBirthWeight'\n",
       "\n",
       "\n"
      ],
      "text/plain": [
       " [1] \"headcirumference\" \"length\"           \"Birthweight\"      \"Gestation\"       \n",
       " [5] \"smoker\"           \"motherage\"        \"mnocig\"           \"mheight\"         \n",
       " [9] \"mppwt\"            \"fage\"             \"fedyrs\"           \"fnocig\"          \n",
       "[13] \"fheight\"          \"lowbwt\"           \"mage35\"           \"LowBirthWeight\"  "
      ]
     },
     "metadata": {},
     "output_type": "display_data"
    }
   ],
   "source": [
    "names(test)"
   ]
  },
  {
   "cell_type": "code",
   "execution_count": 40,
   "metadata": {},
   "outputs": [
    {
     "name": "stdout",
     "output_type": "stream",
     "text": [
      "[1] \"results:\"\n",
      "1 \n",
      "0 \n"
     ]
    }
   ],
   "source": [
    "# predict new\n",
    "# sample: (12, 18, 4.5, 35, 1, 41, 7, 65, 125, 37, 14, 25, 68, 1, 1)\n",
    "y1 = predict(mylogit,\n",
    "             newdata = data.frame(headcirumference = c(12),\n",
    "                                  length = c(18),\n",
    "                                  Birthweight = c(4.5),\n",
    "                                  Gestation = c(35),\n",
    "                                  smoker = c(1), \n",
    "                                  motherage = c(41), \n",
    "                                  mnocig = c(7),\n",
    "                                  mheight = c(65),\n",
    "                                  mppwt = c(125), \n",
    "                                  fage = c(37),\n",
    "                                  fedyrs = c(14),\n",
    "                                  fnocig = c(25), \n",
    "                                  fheight = c(68),\n",
    "                                  lowbwt = c(1),\n",
    "                                  mage35 = c(1)\n",
    "                                 ),\n",
    "            type = 'response')\n",
    "y1 = ifelse(y1 > 0.5, 1, 0)\n",
    "print('results:')\n",
    "print(y1)"
   ]
  },
  {
   "cell_type": "code",
   "execution_count": null,
   "metadata": {},
   "outputs": [],
   "source": []
  }
 ],
 "metadata": {
  "kernelspec": {
   "display_name": "R",
   "language": "R",
   "name": "ir"
  },
  "language_info": {
   "codemirror_mode": "r",
   "file_extension": ".r",
   "mimetype": "text/x-r-source",
   "name": "R",
   "pygments_lexer": "r",
   "version": "4.0.2"
  }
 },
 "nbformat": 4,
 "nbformat_minor": 4
}
