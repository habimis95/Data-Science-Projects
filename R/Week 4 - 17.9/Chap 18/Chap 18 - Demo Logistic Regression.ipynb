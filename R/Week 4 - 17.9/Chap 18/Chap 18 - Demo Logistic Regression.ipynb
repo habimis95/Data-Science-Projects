{
 "cells": [
  {
   "cell_type": "code",
   "execution_count": 1,
   "metadata": {},
   "outputs": [
    {
     "name": "stderr",
     "output_type": "stream",
     "text": [
      "corrplot 0.84 loaded\n",
      "\n"
     ]
    },
    {
     "name": "stdout",
     "output_type": "stream",
     "text": [
      "  admit gre  gpa rank\n",
      "1     0 380 3.61    3\n",
      "2     1 660 3.67    3\n",
      "3     1 800 4.00    1\n",
      "4     1 640 3.19    4\n",
      "5     0 520 2.93    4\n",
      "6     1 760 3.00    2\n",
      "    admit gre  gpa rank\n",
      "395     1 460 3.99    3\n",
      "396     0 620 4.00    2\n",
      "397     0 560 3.04    3\n",
      "398     0 460 2.63    2\n",
      "399     0 700 3.65    2\n",
      "400     0 600 3.89    3\n",
      "     admit             gre             gpa             rank      \n",
      " Min.   :0.0000   Min.   :220.0   Min.   :2.260   Min.   :1.000  \n",
      " 1st Qu.:0.0000   1st Qu.:520.0   1st Qu.:3.130   1st Qu.:2.000  \n",
      " Median :0.0000   Median :580.0   Median :3.395   Median :2.000  \n",
      " Mean   :0.3175   Mean   :587.7   Mean   :3.390   Mean   :2.485  \n",
      " 3rd Qu.:1.0000   3rd Qu.:660.0   3rd Qu.:3.670   3rd Qu.:3.000  \n",
      " Max.   :1.0000   Max.   :800.0   Max.   :4.000   Max.   :4.000  \n"
     ]
    }
   ],
   "source": [
    "library(corrplot)\n",
    "# Scale data again: log(right skew), standard, min-max\n",
    "mydata = read.csv('binary.csv')\n",
    "\n",
    "# View the first few rows of the data\n",
    "print(head(mydata))\n",
    "print(tail(mydata))\n",
    "print(summary(mydata))"
   ]
  },
  {
   "cell_type": "code",
   "execution_count": 3,
   "metadata": {},
   "outputs": [
    {
     "name": "stderr",
     "output_type": "stream",
     "text": [
      "Installing package into 'C:/Users/hv/Documents/R/win-library/4.0'\n",
      "(as 'lib' is unspecified)\n",
      "\n"
     ]
    },
    {
     "name": "stdout",
     "output_type": "stream",
     "text": [
      "package 'Amelia' successfully unpacked and MD5 sums checked\n",
      "\n",
      "The downloaded binary packages are in\n",
      "\tC:\\Users\\hv\\AppData\\Local\\Temp\\Rtmpoj4aRB\\downloaded_packages\n"
     ]
    }
   ],
   "source": [
    "install.packages('Amelia')"
   ]
  },
  {
   "cell_type": "code",
   "execution_count": 4,
   "metadata": {},
   "outputs": [
    {
     "name": "stderr",
     "output_type": "stream",
     "text": [
      "Loading required package: Rcpp\n",
      "\n",
      "## \n",
      "## Amelia II: Multiple Imputation\n",
      "## (Version 1.7.6, built: 2019-11-24)\n",
      "## Copyright (C) 2005-2020 James Honaker, Gary King and Matthew Blackwell\n",
      "## Refer to http://gking.harvard.edu/amelia/ for more information\n",
      "## \n",
      "\n"
     ]
    },
    {
     "data": {
      "image/png": "[encoded data removed]",
      "text/plain": [
       "Plot with title \"Missing values vs observed\""
      ]
     },
     "metadata": {
      "image/png": {
       "height": 420,
       "width": 420
      }
     },
     "output_type": "display_data"
    }
   ],
   "source": [
    "# Check missing value\n",
    "library(Amelia)\n",
    "missmap(mydata, main='Missing values vs observed')"
   ]
  },
  {
   "cell_type": "code",
   "execution_count": 6,
   "metadata": {},
   "outputs": [
    {
     "name": "stdout",
     "output_type": "stream",
     "text": [
      "\n",
      "  0   1 \n",
      "273 127 \n"
     ]
    }
   ],
   "source": [
    "# Count elements in each Class\n",
    "print(table(mydata$admit))"
   ]
  },
  {
   "cell_type": "code",
   "execution_count": 7,
   "metadata": {},
   "outputs": [
    {
     "data": {
      "image/png": "[encoded data removed]",
      "text/plain": [
       "Plot with title \"rank\""
      ]
     },
     "metadata": {
      "image/png": {
       "height": 420,
       "width": 420
      }
     },
     "output_type": "display_data"
    }
   ],
   "source": [
    "# Boxplot to check for outliers\n",
    "par(mfrow=c(1,3)) # divide graph area in 3 columns\n",
    "boxplot(mydata$gre, main='gre',\n",
    "       sub=paste('Outlier rows:', boxplot.stats(mydata$gre)$out)) # box plot for 'gre'\n",
    "boxplot(mydata$gpa, main='gpa',\n",
    "       sub=paste('Outlier rows:', boxplot.stats(mydata$gpa)$out)) # box plot for 'gpa'\n",
    "boxplot(mydata$rank, main='rank',\n",
    "       sub=paste('Outlier rows:', boxplot.stats(mydata$rank)$out)) # box plot for 'rank'"
   ]
  },
  {
   "cell_type": "code",
   "execution_count": 9,
   "metadata": {},
   "outputs": [
    {
     "name": "stdout",
     "output_type": "stream",
     "text": [
      "[1] \"gre_outliers:\"\n",
      "[1] 300 300 220 300\n",
      "[1] \"Numrows: 0\"\n",
      "[1] \"gpa_outliers:\"\n",
      "[1] 2.26\n",
      "[1] \"Numrows: 0\"\n",
      "[1] \"Before drop: 400\"\n",
      "[1] \"After drop: 395\"\n"
     ]
    }
   ],
   "source": [
    "gre_outliers = boxplot.stats(mydata$gre)$out\n",
    "print('gre_outliers:')\n",
    "print(gre_outliers)\n",
    "print(paste('Numrows:', sum(mydata$gre==gre_outliers[1]+sum(mydata$gre==gre_outliers[3]))))\n",
    "\n",
    "gpa_outliers = boxplot.stats(mydata$gpa)$out\n",
    "print('gpa_outliers:')\n",
    "print(gpa_outliers)\n",
    "print(paste('Numrows:', sum(mydata$gpa==gre_outliers[1])))\n",
    "\n",
    "# drop rows have outliers\n",
    "print(paste('Before drop:', nrow(mydata)))\n",
    "mydata = mydata[mydata$gre != gre_outliers[1],]\n",
    "mydata = mydata[mydata$gre != gre_outliers[3],]\n",
    "mydata = mydata[mydata$gpa != gpa_outliers[1],]\n",
    "print(paste('After drop:', nrow(mydata)))"
   ]
  },
  {
   "cell_type": "code",
   "execution_count": 10,
   "metadata": {},
   "outputs": [
    {
     "name": "stdout",
     "output_type": "stream",
     "text": [
      "            gre         gpa        rank\n",
      "gre   1.0000000  0.35937135 -0.10785090\n",
      "gpa   0.3593714  1.00000000 -0.03994452\n",
      "rank -0.1078509 -0.03994452  1.00000000\n"
     ]
    },
    {
     "data": {
      "image/png": "[encoded data removed]",
      "text/plain": [
       "Plot with title \"\""
      ]
     },
     "metadata": {
      "image/png": {
       "height": 420,
       "width": 420
      }
     },
     "output_type": "display_data"
    }
   ],
   "source": [
    "# calculating the correlation between each pair of numeric variables\n",
    "correlations = cor(mydata[,2:4])\n",
    "print(correlations)\n",
    "corrplot(correlations, method='circle')"
   ]
  },
  {
   "cell_type": "code",
   "execution_count": 11,
   "metadata": {},
   "outputs": [
    {
     "name": "stdout",
     "output_type": "stream",
     "text": [
      "[1] \"Rows of training data and test data:\"\n",
      "[1] 276\n",
      "[1] 119\n"
     ]
    }
   ],
   "source": [
    "# Create Train - Test set: 70 - 30\n",
    "n = nrow(mydata)\n",
    "trainIndex = sample(1:n, size=round(0.7*n), replace=FALSE)\n",
    "train = mydata[trainIndex , ]\n",
    "test = mydata[-trainIndex , ]\n",
    "print('Rows of training data and test data:')\n",
    "print(nrow(train))\n",
    "print(nrow(test))"
   ]
  },
  {
   "cell_type": "code",
   "execution_count": 15,
   "metadata": {},
   "outputs": [
    {
     "name": "stdout",
     "output_type": "stream",
     "text": [
      "\n",
      "Call:\n",
      "glm(formula = admit ~ gre + gpa + rank, family = \"binomial\", \n",
      "    data = train)\n",
      "\n",
      "Deviance Residuals: \n",
      "    Min       1Q   Median       3Q      Max  \n",
      "-1.5908  -0.8623  -0.5895   1.0770   2.2523  \n",
      "\n",
      "Coefficients:\n",
      "             Estimate Std. Error z value Pr(>|z|)    \n",
      "(Intercept) -2.348055   1.402785  -1.674   0.0942 .  \n",
      "gre          0.001344   0.001365   0.985   0.3248    \n",
      "gpa          0.745846   0.397131   1.878   0.0604 .  \n",
      "rank        -0.754690   0.158950  -4.748 2.05e-06 ***\n",
      "---\n",
      "Signif. codes:  0 '***' 0.001 '**' 0.01 '*' 0.05 '.' 0.1 ' ' 1\n",
      "\n",
      "(Dispersion parameter for binomial family taken to be 1)\n",
      "\n",
      "    Null deviance: 345.55  on 275  degrees of freedom\n",
      "Residual deviance: 309.46  on 272  degrees of freedom\n",
      "AIC: 317.46\n",
      "\n",
      "Number of Fisher Scoring iterations: 4\n",
      "\n"
     ]
    }
   ],
   "source": [
    "# estimates a logistic regression model using the glm (generalized linear model) function\n",
    "mylogit = glm(admit~ gre + gpa + rank, data=train, family='binomial')\n",
    "print(summary(mylogit))"
   ]
  },
  {
   "cell_type": "code",
   "execution_count": 16,
   "metadata": {},
   "outputs": [
    {
     "name": "stdout",
     "output_type": "stream",
     "text": [
      "[1] \"Testdata admit vs predict (10 rows:)\"\n",
      "    testAdmit pred_value.30.40.\n",
      "78          1                 0\n",
      "81          0                 0\n",
      "87          0                 0\n",
      "89          0                 1\n",
      "98          0                 0\n",
      "99          0                 0\n",
      "105         1                 0\n",
      "106         1                 0\n",
      "110         0                 0\n",
      "120         0                 0\n",
      "123         0                 0\n"
     ]
    }
   ],
   "source": [
    "pred = predict(mylogit, newdata = test, \n",
    "              type= 'response')\n",
    "pred_value = ifelse(pred > 0.5,1,0)\n",
    "print('Testdata admit vs predict (10 rows:)')\n",
    "result = data.frame(testAdmit = test$admit[30:40], pred_value[30:40])\n",
    "print(result)"
   ]
  },
  {
   "cell_type": "code",
   "execution_count": 18,
   "metadata": {},
   "outputs": [
    {
     "name": "stderr",
     "output_type": "stream",
     "text": [
      "Installing package into 'C:/Users/hv/Documents/R/win-library/4.0'\n",
      "(as 'lib' is unspecified)\n",
      "\n",
      "also installing the dependencies 'SQUAREM', 'lava', 'prodlim', 'iterators', 'gower', 'ipred', 'foreach', 'ModelMetrics', 'recipes', 'pROC'\n",
      "\n",
      "\n"
     ]
    },
    {
     "name": "stdout",
     "output_type": "stream",
     "text": [
      "package 'SQUAREM' successfully unpacked and MD5 sums checked\n",
      "package 'lava' successfully unpacked and MD5 sums checked\n",
      "package 'prodlim' successfully unpacked and MD5 sums checked\n",
      "package 'iterators' successfully unpacked and MD5 sums checked\n",
      "package 'gower' successfully unpacked and MD5 sums checked\n",
      "package 'ipred' successfully unpacked and MD5 sums checked\n",
      "package 'foreach' successfully unpacked and MD5 sums checked\n",
      "package 'ModelMetrics' successfully unpacked and MD5 sums checked\n",
      "package 'recipes' successfully unpacked and MD5 sums checked\n",
      "package 'pROC' successfully unpacked and MD5 sums checked\n",
      "package 'caret' successfully unpacked and MD5 sums checked\n",
      "\n",
      "The downloaded binary packages are in\n",
      "\tC:\\Users\\hv\\AppData\\Local\\Temp\\Rtmpoj4aRB\\downloaded_packages\n"
     ]
    }
   ],
   "source": [
    "install.packages('caret')"
   ]
  },
  {
   "cell_type": "code",
   "execution_count": 19,
   "metadata": {},
   "outputs": [
    {
     "name": "stderr",
     "output_type": "stream",
     "text": [
      "Loading required package: lattice\n",
      "\n",
      "Loading required package: ggplot2\n",
      "\n"
     ]
    }
   ],
   "source": [
    "library('caret')"
   ]
  },
  {
   "cell_type": "code",
   "execution_count": 22,
   "metadata": {},
   "outputs": [],
   "source": [
    "pred_value = factor(pred_value)\n",
    "test$admit = factor(test$admit)"
   ]
  },
  {
   "cell_type": "code",
   "execution_count": 23,
   "metadata": {},
   "outputs": [
    {
     "data": {
      "text/plain": [
       "Confusion Matrix and Statistics\n",
       "\n",
       "          Reference\n",
       "Prediction  0  1\n",
       "         0 74 32\n",
       "         1  7  6\n",
       "                                          \n",
       "               Accuracy : 0.6723          \n",
       "                 95% CI : (0.5802, 0.7555)\n",
       "    No Information Rate : 0.6807          \n",
       "    P-Value [Acc > NIR] : 0.6200370       \n",
       "                                          \n",
       "                  Kappa : 0.0866          \n",
       "                                          \n",
       " Mcnemar's Test P-Value : 0.0001215       \n",
       "                                          \n",
       "            Sensitivity : 0.9136          \n",
       "            Specificity : 0.1579          \n",
       "         Pos Pred Value : 0.6981          \n",
       "         Neg Pred Value : 0.4615          \n",
       "             Prevalence : 0.6807          \n",
       "         Detection Rate : 0.6218          \n",
       "   Detection Prevalence : 0.8908          \n",
       "      Balanced Accuracy : 0.5357          \n",
       "                                          \n",
       "       'Positive' Class : 0               \n",
       "                                          "
      ]
     },
     "metadata": {},
     "output_type": "display_data"
    }
   ],
   "source": [
    "confusionMatrix(pred_value, test$admit)"
   ]
  },
  {
   "cell_type": "code",
   "execution_count": 24,
   "metadata": {},
   "outputs": [
    {
     "name": "stdout",
     "output_type": "stream",
     "text": [
      "[1] \"Accuracy s1: 0.672268907563025\"\n",
      "[1] \"Accuracy s2: 0.672268907563025\"\n"
     ]
    }
   ],
   "source": [
    "# Solution 1\n",
    "accuracy = table(pred_value, test[,'admit'])\n",
    "accuracy = sum(diag(accuracy))/sum(accuracy)\n",
    "print(paste('Accuracy s1:', accuracy))\n",
    "# Solution 2\n",
    "misClassifierror = mean(pred_value != test$admit)\n",
    "print(paste('Accuracy s2:', 1- misClassifierror))"
   ]
  },
  {
   "cell_type": "code",
   "execution_count": 25,
   "metadata": {},
   "outputs": [
    {
     "name": "stdout",
     "output_type": "stream",
     "text": [
      "[1] \"results:\"\n",
      "1 2 \n",
      "0 1 \n"
     ]
    }
   ],
   "source": [
    "# make new prediction\n",
    "y1 = predict(mylogit,\n",
    "            newdata=data.frame(gre=c(580, 800),\n",
    "                               gpa=c(3.4,4),\n",
    "                               rank=c(3,1)),\n",
    "            type='response')\n",
    "y1 = ifelse(y1>0.5,1,0)\n",
    "print('results:')\n",
    "print(y1)"
   ]
  },
  {
   "cell_type": "code",
   "execution_count": null,
   "metadata": {},
   "outputs": [],
   "source": []
  }
 ],
 "metadata": {
  "kernelspec": {
   "display_name": "R",
   "language": "R",
   "name": "ir"
  },
  "language_info": {
   "codemirror_mode": "r",
   "file_extension": ".r",
   "mimetype": "text/x-r-source",
   "name": "R",
   "pygments_lexer": "r",
   "version": "4.0.2"
  }
 },
 "nbformat": 4,
 "nbformat_minor": 4
}
