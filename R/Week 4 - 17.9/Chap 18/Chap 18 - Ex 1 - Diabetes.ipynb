{
 "cells": [
  {
   "cell_type": "code",
   "execution_count": 2,
   "metadata": {},
   "outputs": [
    {
     "name": "stderr",
     "output_type": "stream",
     "text": [
      "corrplot 0.84 loaded\n",
      "\n"
     ]
    }
   ],
   "source": [
    "library(corrplot)\n",
    "mydata = read.csv('diabetes.csv')"
   ]
  },
  {
   "cell_type": "code",
   "execution_count": 3,
   "metadata": {},
   "outputs": [
    {
     "name": "stdout",
     "output_type": "stream",
     "text": [
      "  Pregnancies Glucose BloodPressure SkinThickness Insulin  BMI\n",
      "1           6     148            72            35       0 33.6\n",
      "2           1      85            66            29       0 26.6\n",
      "3           8     183            64             0       0 23.3\n",
      "4           1      89            66            23      94 28.1\n",
      "5           0     137            40            35     168 43.1\n",
      "6           5     116            74             0       0 25.6\n",
      "  DiabetesPedigreeFunction Age Outcome\n",
      "1                    0.627  50       1\n",
      "2                    0.351  31       0\n",
      "3                    0.672  32       1\n",
      "4                    0.167  21       0\n",
      "5                    2.288  33       1\n",
      "6                    0.201  30       0\n"
     ]
    }
   ],
   "source": [
    "# view the first few rows of the data\n",
    "print(head(mydata))"
   ]
  },
  {
   "cell_type": "code",
   "execution_count": 4,
   "metadata": {},
   "outputs": [
    {
     "name": "stdout",
     "output_type": "stream",
     "text": [
      "    Pregnancies Glucose BloodPressure SkinThickness Insulin  BMI\n",
      "763           9      89            62             0       0 22.5\n",
      "764          10     101            76            48     180 32.9\n",
      "765           2     122            70            27       0 36.8\n",
      "766           5     121            72            23     112 26.2\n",
      "767           1     126            60             0       0 30.1\n",
      "768           1      93            70            31       0 30.4\n",
      "    DiabetesPedigreeFunction Age Outcome\n",
      "763                    0.142  33       0\n",
      "764                    0.171  63       0\n",
      "765                    0.340  27       0\n",
      "766                    0.245  30       0\n",
      "767                    0.349  47       1\n",
      "768                    0.315  23       0\n"
     ]
    }
   ],
   "source": [
    "print(tail(mydata))"
   ]
  },
  {
   "cell_type": "code",
   "execution_count": 5,
   "metadata": {},
   "outputs": [
    {
     "name": "stdout",
     "output_type": "stream",
     "text": [
      "  Pregnancies        Glucose      BloodPressure    SkinThickness  \n",
      " Min.   : 0.000   Min.   :  0.0   Min.   :  0.00   Min.   : 0.00  \n",
      " 1st Qu.: 1.000   1st Qu.: 99.0   1st Qu.: 62.00   1st Qu.: 0.00  \n",
      " Median : 3.000   Median :117.0   Median : 72.00   Median :23.00  \n",
      " Mean   : 3.845   Mean   :120.9   Mean   : 69.11   Mean   :20.54  \n",
      " 3rd Qu.: 6.000   3rd Qu.:140.2   3rd Qu.: 80.00   3rd Qu.:32.00  \n",
      " Max.   :17.000   Max.   :199.0   Max.   :122.00   Max.   :99.00  \n",
      "    Insulin           BMI        DiabetesPedigreeFunction      Age       \n",
      " Min.   :  0.0   Min.   : 0.00   Min.   :0.0780           Min.   :21.00  \n",
      " 1st Qu.:  0.0   1st Qu.:27.30   1st Qu.:0.2437           1st Qu.:24.00  \n",
      " Median : 30.5   Median :32.00   Median :0.3725           Median :29.00  \n",
      " Mean   : 79.8   Mean   :31.99   Mean   :0.4719           Mean   :33.24  \n",
      " 3rd Qu.:127.2   3rd Qu.:36.60   3rd Qu.:0.6262           3rd Qu.:41.00  \n",
      " Max.   :846.0   Max.   :67.10   Max.   :2.4200           Max.   :81.00  \n",
      "    Outcome     \n",
      " Min.   :0.000  \n",
      " 1st Qu.:0.000  \n",
      " Median :0.000  \n",
      " Mean   :0.349  \n",
      " 3rd Qu.:1.000  \n",
      " Max.   :1.000  \n"
     ]
    }
   ],
   "source": [
    "print(summary(mydata))"
   ]
  },
  {
   "cell_type": "code",
   "execution_count": 6,
   "metadata": {},
   "outputs": [
    {
     "name": "stdout",
     "output_type": "stream",
     "text": [
      "function (..., list = character(), package = NULL, lib.loc = NULL, verbose = getOption(\"verbose\"), \n",
      "    envir = .GlobalEnv, overwrite = TRUE)  \n",
      "NULL\n"
     ]
    }
   ],
   "source": [
    "print(str(data))"
   ]
  },
  {
   "cell_type": "code",
   "execution_count": 7,
   "metadata": {},
   "outputs": [
    {
     "name": "stdout",
     "output_type": "stream",
     "text": [
      "[1] \"cols: 9\"\n",
      "[1] \"rows: 768\"\n"
     ]
    }
   ],
   "source": [
    "print(paste('cols:', ncol(mydata)))\n",
    "print(paste('rows:', nrow(mydata)))"
   ]
  },
  {
   "cell_type": "code",
   "execution_count": 8,
   "metadata": {},
   "outputs": [
    {
     "name": "stderr",
     "output_type": "stream",
     "text": [
      "Installing package into 'C:/Users/habiw/OneDrive/Documents/R/win-library/4.0'\n",
      "(as 'lib' is unspecified)\n",
      "\n"
     ]
    },
    {
     "name": "stdout",
     "output_type": "stream",
     "text": [
      "package 'Amelia' successfully unpacked and MD5 sums checked\n",
      "\n",
      "The downloaded binary packages are in\n",
      "\tC:\\Users\\habiw\\AppData\\Local\\Temp\\Rtmp8WT0gW\\downloaded_packages\n"
     ]
    },
    {
     "name": "stderr",
     "output_type": "stream",
     "text": [
      "Loading required package: Rcpp\n",
      "\n",
      "## \n",
      "## Amelia II: Multiple Imputation\n",
      "## (Version 1.7.6, built: 2019-11-24)\n",
      "## Copyright (C) 2005-2020 James Honaker, Gary King and Matthew Blackwell\n",
      "## Refer to http://gking.harvard.edu/amelia/ for more information\n",
      "## \n",
      "\n"
     ]
    }
   ],
   "source": [
    "# check missing value\n",
    "install.packages(\"Amelia\")\n",
    "library(Amelia)"
   ]
  },
  {
   "cell_type": "code",
   "execution_count": 9,
   "metadata": {},
   "outputs": [
    {
     "data": {
      "image/png": "[encoded data removed]",
      "text/plain": [
       "Plot with title \"Missing values vs observed\""
      ]
     },
     "metadata": {
      "image/png": {
       "height": 420,
       "width": 420
      }
     },
     "output_type": "display_data"
    }
   ],
   "source": [
    "missmap(mydata, main='Missing values vs observed')\n",
    "# => no missing values"
   ]
  },
  {
   "cell_type": "code",
   "execution_count": 10,
   "metadata": {},
   "outputs": [
    {
     "name": "stdout",
     "output_type": "stream",
     "text": [
      "\n",
      "  0   1 \n",
      "500 268 \n"
     ]
    }
   ],
   "source": [
    "# Check Class bias\n",
    "print(table(mydata$Outcome))"
   ]
  },
  {
   "cell_type": "code",
   "execution_count": 11,
   "metadata": {},
   "outputs": [
    {
     "name": "stdout",
     "output_type": "stream",
     "text": [
      "                         Pregnancies    Glucose BloodPressure SkinThickness\n",
      "Pregnancies               1.00000000 0.12945867    0.14128198   -0.08167177\n",
      "Glucose                   0.12945867 1.00000000    0.15258959    0.05732789\n",
      "BloodPressure             0.14128198 0.15258959    1.00000000    0.20737054\n",
      "SkinThickness            -0.08167177 0.05732789    0.20737054    1.00000000\n",
      "Insulin                  -0.07353461 0.33135711    0.08893338    0.43678257\n",
      "BMI                       0.01768309 0.22107107    0.28180529    0.39257320\n",
      "DiabetesPedigreeFunction -0.03352267 0.13733730    0.04126495    0.18392757\n",
      "Age                       0.54434123 0.26351432    0.23952795   -0.11397026\n",
      "Outcome                   0.22189815 0.46658140    0.06506836    0.07475223\n",
      "                             Insulin        BMI DiabetesPedigreeFunction\n",
      "Pregnancies              -0.07353461 0.01768309              -0.03352267\n",
      "Glucose                   0.33135711 0.22107107               0.13733730\n",
      "BloodPressure             0.08893338 0.28180529               0.04126495\n",
      "SkinThickness             0.43678257 0.39257320               0.18392757\n",
      "Insulin                   1.00000000 0.19785906               0.18507093\n",
      "BMI                       0.19785906 1.00000000               0.14064695\n",
      "DiabetesPedigreeFunction  0.18507093 0.14064695               1.00000000\n",
      "Age                      -0.04216295 0.03624187               0.03356131\n",
      "Outcome                   0.13054795 0.29269466               0.17384407\n",
      "                                 Age    Outcome\n",
      "Pregnancies               0.54434123 0.22189815\n",
      "Glucose                   0.26351432 0.46658140\n",
      "BloodPressure             0.23952795 0.06506836\n",
      "SkinThickness            -0.11397026 0.07475223\n",
      "Insulin                  -0.04216295 0.13054795\n",
      "BMI                       0.03624187 0.29269466\n",
      "DiabetesPedigreeFunction  0.03356131 0.17384407\n",
      "Age                       1.00000000 0.23835598\n",
      "Outcome                   0.23835598 1.00000000\n"
     ]
    }
   ],
   "source": [
    "# BoxPlot to check for outliers\n",
    "# Drop rows having outliers\n",
    "\n",
    "# calculating the correlation between each pair of numeric variables\n",
    "correlations = cor(mydata[,1:9])\n",
    "print(correlations)"
   ]
  },
  {
   "cell_type": "code",
   "execution_count": 12,
   "metadata": {},
   "outputs": [
    {
     "data": {
      "image/png": "[encoded data removed]",
      "text/plain": [
       "Plot with title \"\""
      ]
     },
     "metadata": {
      "image/png": {
       "height": 420,
       "width": 420
      }
     },
     "output_type": "display_data"
    }
   ],
   "source": [
    "corrplot(correlations, method='circle')"
   ]
  },
  {
   "cell_type": "code",
   "execution_count": 13,
   "metadata": {},
   "outputs": [
    {
     "name": "stdout",
     "output_type": "stream",
     "text": [
      "[1] \"Rows of training data and test data:\"\n",
      "[1] 538\n",
      "[1] 230\n"
     ]
    }
   ],
   "source": [
    "# divided into train and test: 70 - 30\n",
    "n = nrow(mydata)\n",
    "trainIndex = sample(1:n, size=round(0.7*n), replace=FALSE)\n",
    "train = mydata[trainIndex ,]\n",
    "test = mydata[-trainIndex ,]\n",
    "print('Rows of training data and test data:')\n",
    "print(nrow(train))\n",
    "print(nrow(test))"
   ]
  },
  {
   "cell_type": "code",
   "execution_count": 14,
   "metadata": {},
   "outputs": [
    {
     "name": "stdout",
     "output_type": "stream",
     "text": [
      "\n",
      "Call:\n",
      "glm(formula = Outcome ~ ., family = \"binomial\", data = train)\n",
      "\n",
      "Deviance Residuals: \n",
      "    Min       1Q   Median       3Q      Max  \n",
      "-2.4127  -0.7156  -0.4221   0.7677   2.7395  \n",
      "\n",
      "Coefficients:\n",
      "                          Estimate Std. Error z value Pr(>|z|)    \n",
      "(Intercept)              -8.323358   0.841446  -9.892  < 2e-16 ***\n",
      "Pregnancies               0.092071   0.038458   2.394   0.0167 *  \n",
      "Glucose                   0.031998   0.004314   7.416 1.20e-13 ***\n",
      "BloodPressure            -0.012276   0.006036  -2.034   0.0420 *  \n",
      "SkinThickness             0.004297   0.008506   0.505   0.6135    \n",
      "Insulin                  -0.001007   0.001096  -0.919   0.3582    \n",
      "BMI                       0.095216   0.017953   5.304 1.14e-07 ***\n",
      "DiabetesPedigreeFunction  0.703294   0.351321   2.002   0.0453 *  \n",
      "Age                       0.022480   0.011886   1.891   0.0586 .  \n",
      "---\n",
      "Signif. codes:  0 '***' 0.001 '**' 0.01 '*' 0.05 '.' 0.1 ' ' 1\n",
      "\n",
      "(Dispersion parameter for binomial family taken to be 1)\n",
      "\n",
      "    Null deviance: 696.28  on 537  degrees of freedom\n",
      "Residual deviance: 511.56  on 529  degrees of freedom\n",
      "AIC: 529.56\n",
      "\n",
      "Number of Fisher Scoring iterations: 5\n",
      "\n"
     ]
    }
   ],
   "source": [
    "# estimates a logistic regression model using the glm (generalized linear model)\n",
    "mylogit = glm(Outcome ~ ., data = train, family = 'binomial')\n",
    "print(summary(mylogit))"
   ]
  },
  {
   "cell_type": "code",
   "execution_count": 15,
   "metadata": {},
   "outputs": [
    {
     "name": "stdout",
     "output_type": "stream",
     "text": [
      "[1] \"Testdata admit vs predict (10 rows):\"\n",
      "    testAdmit pred_value.30.40.\n",
      "100         1                 1\n",
      "102         0                 0\n",
      "105         0                 0\n",
      "107         0                 0\n",
      "115         1                 1\n",
      "116         1                 1\n",
      "117         1                 0\n",
      "118         0                 0\n",
      "121         1                 1\n",
      "124         0                 0\n",
      "129         1                 0\n"
     ]
    }
   ],
   "source": [
    "pred = predict(mylogit, \n",
    "               newdata = test,\n",
    "              type = 'response')\n",
    "\n",
    "pred_value = ifelse(pred > 0.5, 1, 0)\n",
    "print('Testdata admit vs predict (10 rows):')\n",
    "result = data.frame(testAdmit = test$Outcome[30:40], pred_value[30:40])\n",
    "print(result)"
   ]
  },
  {
   "cell_type": "code",
   "execution_count": 16,
   "metadata": {},
   "outputs": [
    {
     "name": "stdout",
     "output_type": "stream",
     "text": [
      "100 102 105 107 115 116 117 118 121 124 129 \n",
      "  1   0   0   0   1   1   0   0   1   0   0 \n",
      " [1] 1 0 0 0 1 1 1 0 1 0 1\n"
     ]
    }
   ],
   "source": [
    "print(pred_value[30:40])\n",
    "print(test$Outcome[30:40])"
   ]
  },
  {
   "cell_type": "code",
   "execution_count": 17,
   "metadata": {},
   "outputs": [
    {
     "name": "stdout",
     "output_type": "stream",
     "text": [
      "[1] \"Accuracy s1: 0.795652173913043\"\n"
     ]
    }
   ],
   "source": [
    "# solution 1\n",
    "accuracy = table(pred_value, test[, 'Outcome'])\n",
    "accuracy = sum(diag(accuracy))/sum(accuracy)\n",
    "print(paste('Accuracy s1:', accuracy))"
   ]
  },
  {
   "cell_type": "code",
   "execution_count": 18,
   "metadata": {},
   "outputs": [
    {
     "name": "stdout",
     "output_type": "stream",
     "text": [
      "[1] \"Accuracy s2: 0.795652173913043\"\n"
     ]
    }
   ],
   "source": [
    "# solution 2\n",
    "misClasificError = mean(pred_value != test$Outcome)\n",
    "print(paste('Accuracy s2:', 1-misClasificError))"
   ]
  },
  {
   "cell_type": "code",
   "execution_count": 19,
   "metadata": {},
   "outputs": [
    {
     "data": {
      "text/plain": [
       "\n",
       "Call:\n",
       "glm(formula = Outcome ~ ., family = \"binomial\", data = train)\n",
       "\n",
       "Deviance Residuals: \n",
       "    Min       1Q   Median       3Q      Max  \n",
       "-2.4127  -0.7156  -0.4221   0.7677   2.7395  \n",
       "\n",
       "Coefficients:\n",
       "                          Estimate Std. Error z value Pr(>|z|)    \n",
       "(Intercept)              -8.323358   0.841446  -9.892  < 2e-16 ***\n",
       "Pregnancies               0.092071   0.038458   2.394   0.0167 *  \n",
       "Glucose                   0.031998   0.004314   7.416 1.20e-13 ***\n",
       "BloodPressure            -0.012276   0.006036  -2.034   0.0420 *  \n",
       "SkinThickness             0.004297   0.008506   0.505   0.6135    \n",
       "Insulin                  -0.001007   0.001096  -0.919   0.3582    \n",
       "BMI                       0.095216   0.017953   5.304 1.14e-07 ***\n",
       "DiabetesPedigreeFunction  0.703294   0.351321   2.002   0.0453 *  \n",
       "Age                       0.022480   0.011886   1.891   0.0586 .  \n",
       "---\n",
       "Signif. codes:  0 '***' 0.001 '**' 0.01 '*' 0.05 '.' 0.1 ' ' 1\n",
       "\n",
       "(Dispersion parameter for binomial family taken to be 1)\n",
       "\n",
       "    Null deviance: 696.28  on 537  degrees of freedom\n",
       "Residual deviance: 511.56  on 529  degrees of freedom\n",
       "AIC: 529.56\n",
       "\n",
       "Number of Fisher Scoring iterations: 5\n"
      ]
     },
     "metadata": {},
     "output_type": "display_data"
    }
   ],
   "source": [
    "summary(mylogit)"
   ]
  },
  {
   "cell_type": "code",
   "execution_count": 20,
   "metadata": {},
   "outputs": [
    {
     "name": "stdout",
     "output_type": "stream",
     "text": [
      "[1] \"Pregnancies\"              \"Glucose\"                 \n",
      "[3] \"BloodPressure\"            \"SkinThickness\"           \n",
      "[5] \"Insulin\"                  \"BMI\"                     \n",
      "[7] \"DiabetesPedigreeFunction\" \"Age\"                     \n",
      "[9] \"Outcome\"                 \n",
      "[1] \"results:\"\n",
      "1 2 3 \n",
      "1 0 0 \n"
     ]
    }
   ],
   "source": [
    "# make new prediction\n",
    "# 8, 176, 90, 34, 300, 33.7, 0.467, 58\n",
    "# 1, 100, 66, 15, 56, 23.6, 0.666, 26\n",
    "# 12, 88, 74, 40, 54, 35.3, 0.378, 48\n",
    "print(colnames(test))\n",
    "y1 = predict(mylogit, \n",
    "             newdata = data.frame(Pregnancies = c(8, 1, 12),\n",
    "                                  Glucose = c(176, 100, 88), \n",
    "                                  BloodPressure = c(90, 66, 74),\n",
    "                                  SkinThickness = c(34, 15, 40),\n",
    "                                  Insulin = c(300, 56, 54), \n",
    "                                  BMI = c(33.7, 23.6, 35.3), \n",
    "                                  DiabetesPedigreeFunction = c(0.467, 0.666, 0.378),\n",
    "                                  Age = c(58, 26, 48)),\n",
    "            type = 'response')\n",
    "y1 = ifelse(y1 > 0.5, 1, 0)\n",
    "print('results:')\n",
    "print(y1)"
   ]
  },
  {
   "cell_type": "code",
   "execution_count": null,
   "metadata": {},
   "outputs": [],
   "source": []
  }
 ],
 "metadata": {
  "kernelspec": {
   "display_name": "R",
   "language": "R",
   "name": "ir"
  },
  "language_info": {
   "codemirror_mode": "r",
   "file_extension": ".r",
   "mimetype": "text/x-r-source",
   "name": "R",
   "pygments_lexer": "r",
   "version": "4.0.2"
  }
 },
 "nbformat": 4,
 "nbformat_minor": 4
}
