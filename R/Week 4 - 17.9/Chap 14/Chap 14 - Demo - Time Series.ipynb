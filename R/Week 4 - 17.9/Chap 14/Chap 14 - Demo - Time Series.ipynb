{
 "cells": [
  {
   "cell_type": "code",
   "execution_count": 1,
   "metadata": {},
   "outputs": [],
   "source": [
    "rainfall = scan('Cung cap buoi 7/rain_fall.txt')"
   ]
  },
  {
   "cell_type": "code",
   "execution_count": 2,
   "metadata": {},
   "outputs": [
    {
     "data": {
      "text/html": [
       "<style>\n",
       ".list-inline {list-style: none; margin:0; padding: 0}\n",
       ".list-inline>li {display: inline-block}\n",
       ".list-inline>li:not(:last-child)::after {content: \"\\00b7\"; padding: 0 .5ex}\n",
       "</style>\n",
       "<ol class=list-inline><li>0.7</li><li>16.1</li><li>68.6</li><li>170.4</li><li>106.1</li><li>221.7</li><li>357.3</li><li>314.7</li><li>237.3</li><li>119.4</li><li>36.5</li><li>11.8</li><li>25.6</li><li>12.5</li><li>59.4</li><li>21.6</li><li>74.2</li><li>241.1</li><li>96.8</li><li>354.2</li><li>345.4</li><li>99.7</li><li>158</li><li>31.5</li><li>96.9</li><li>4.2</li><li>24.7</li><li>104.5</li><li>249</li><li>95.1</li><li>280.4</li><li>534.5</li><li>178.5</li><li>45</li><li>9.3</li><li>9</li><li>70.9</li><li>12.3</li><li>112.4</li><li>19.1</li><li>105.4</li><li>212.9</li><li>449.1</li><li>283.2</li><li>266.9</li><li>259.7</li><li>19.4</li><li>47.5</li><li>16.6</li><li>10</li><li>34</li><li>58.8</li><li>209</li><li>188.5</li><li>428.1</li><li>313.4</li><li>229.7</li><li>94.4</li><li>28.2</li><li>84.2</li></ol>\n"
      ],
      "text/latex": [
       "\\begin{enumerate*}\n",
       "\\item 0.7\n",
       "\\item 16.1\n",
       "\\item 68.6\n",
       "\\item 170.4\n",
       "\\item 106.1\n",
       "\\item 221.7\n",
       "\\item 357.3\n",
       "\\item 314.7\n",
       "\\item 237.3\n",
       "\\item 119.4\n",
       "\\item 36.5\n",
       "\\item 11.8\n",
       "\\item 25.6\n",
       "\\item 12.5\n",
       "\\item 59.4\n",
       "\\item 21.6\n",
       "\\item 74.2\n",
       "\\item 241.1\n",
       "\\item 96.8\n",
       "\\item 354.2\n",
       "\\item 345.4\n",
       "\\item 99.7\n",
       "\\item 158\n",
       "\\item 31.5\n",
       "\\item 96.9\n",
       "\\item 4.2\n",
       "\\item 24.7\n",
       "\\item 104.5\n",
       "\\item 249\n",
       "\\item 95.1\n",
       "\\item 280.4\n",
       "\\item 534.5\n",
       "\\item 178.5\n",
       "\\item 45\n",
       "\\item 9.3\n",
       "\\item 9\n",
       "\\item 70.9\n",
       "\\item 12.3\n",
       "\\item 112.4\n",
       "\\item 19.1\n",
       "\\item 105.4\n",
       "\\item 212.9\n",
       "\\item 449.1\n",
       "\\item 283.2\n",
       "\\item 266.9\n",
       "\\item 259.7\n",
       "\\item 19.4\n",
       "\\item 47.5\n",
       "\\item 16.6\n",
       "\\item 10\n",
       "\\item 34\n",
       "\\item 58.8\n",
       "\\item 209\n",
       "\\item 188.5\n",
       "\\item 428.1\n",
       "\\item 313.4\n",
       "\\item 229.7\n",
       "\\item 94.4\n",
       "\\item 28.2\n",
       "\\item 84.2\n",
       "\\end{enumerate*}\n"
      ],
      "text/markdown": [
       "1. 0.7\n",
       "2. 16.1\n",
       "3. 68.6\n",
       "4. 170.4\n",
       "5. 106.1\n",
       "6. 221.7\n",
       "7. 357.3\n",
       "8. 314.7\n",
       "9. 237.3\n",
       "10. 119.4\n",
       "11. 36.5\n",
       "12. 11.8\n",
       "13. 25.6\n",
       "14. 12.5\n",
       "15. 59.4\n",
       "16. 21.6\n",
       "17. 74.2\n",
       "18. 241.1\n",
       "19. 96.8\n",
       "20. 354.2\n",
       "21. 345.4\n",
       "22. 99.7\n",
       "23. 158\n",
       "24. 31.5\n",
       "25. 96.9\n",
       "26. 4.2\n",
       "27. 24.7\n",
       "28. 104.5\n",
       "29. 249\n",
       "30. 95.1\n",
       "31. 280.4\n",
       "32. 534.5\n",
       "33. 178.5\n",
       "34. 45\n",
       "35. 9.3\n",
       "36. 9\n",
       "37. 70.9\n",
       "38. 12.3\n",
       "39. 112.4\n",
       "40. 19.1\n",
       "41. 105.4\n",
       "42. 212.9\n",
       "43. 449.1\n",
       "44. 283.2\n",
       "45. 266.9\n",
       "46. 259.7\n",
       "47. 19.4\n",
       "48. 47.5\n",
       "49. 16.6\n",
       "50. 10\n",
       "51. 34\n",
       "52. 58.8\n",
       "53. 209\n",
       "54. 188.5\n",
       "55. 428.1\n",
       "56. 313.4\n",
       "57. 229.7\n",
       "58. 94.4\n",
       "59. 28.2\n",
       "60. 84.2\n",
       "\n",
       "\n"
      ],
      "text/plain": [
       " [1]   0.7  16.1  68.6 170.4 106.1 221.7 357.3 314.7 237.3 119.4  36.5  11.8\n",
       "[13]  25.6  12.5  59.4  21.6  74.2 241.1  96.8 354.2 345.4  99.7 158.0  31.5\n",
       "[25]  96.9   4.2  24.7 104.5 249.0  95.1 280.4 534.5 178.5  45.0   9.3   9.0\n",
       "[37]  70.9  12.3 112.4  19.1 105.4 212.9 449.1 283.2 266.9 259.7  19.4  47.5\n",
       "[49]  16.6  10.0  34.0  58.8 209.0 188.5 428.1 313.4 229.7  94.4  28.2  84.2"
      ]
     },
     "metadata": {},
     "output_type": "display_data"
    }
   ],
   "source": [
    "rainfall"
   ]
  },
  {
   "cell_type": "code",
   "execution_count": 5,
   "metadata": {},
   "outputs": [],
   "source": [
    "ts.rainfall = ts(rainfall, frequency = 12, start = c(2014, 1))"
   ]
  },
  {
   "cell_type": "code",
   "execution_count": 6,
   "metadata": {},
   "outputs": [
    {
     "data": {
      "text/html": [
       "<table>\n",
       "<caption>A Time Series: 5 × 12</caption>\n",
       "<thead>\n",
       "\t<tr><th></th><th scope=col>Jan</th><th scope=col>Feb</th><th scope=col>Mar</th><th scope=col>Apr</th><th scope=col>May</th><th scope=col>Jun</th><th scope=col>Jul</th><th scope=col>Aug</th><th scope=col>Sep</th><th scope=col>Oct</th><th scope=col>Nov</th><th scope=col>Dec</th></tr>\n",
       "</thead>\n",
       "<tbody>\n",
       "\t<tr><th scope=row>2014</th><td>  0.7</td><td> 16.1</td><td> 68.6</td><td>170.4</td><td>106.1</td><td>221.7</td><td>357.3</td><td>314.7</td><td>237.3</td><td>119.4</td><td> 36.5</td><td> 11.8</td></tr>\n",
       "\t<tr><th scope=row>2015</th><td> 25.6</td><td> 12.5</td><td> 59.4</td><td> 21.6</td><td> 74.2</td><td>241.1</td><td> 96.8</td><td>354.2</td><td>345.4</td><td> 99.7</td><td>158.0</td><td> 31.5</td></tr>\n",
       "\t<tr><th scope=row>2016</th><td> 96.9</td><td>  4.2</td><td> 24.7</td><td>104.5</td><td>249.0</td><td> 95.1</td><td>280.4</td><td>534.5</td><td>178.5</td><td> 45.0</td><td>  9.3</td><td>  9.0</td></tr>\n",
       "\t<tr><th scope=row>2017</th><td> 70.9</td><td> 12.3</td><td>112.4</td><td> 19.1</td><td>105.4</td><td>212.9</td><td>449.1</td><td>283.2</td><td>266.9</td><td>259.7</td><td> 19.4</td><td> 47.5</td></tr>\n",
       "\t<tr><th scope=row>2018</th><td> 16.6</td><td> 10.0</td><td> 34.0</td><td> 58.8</td><td>209.0</td><td>188.5</td><td>428.1</td><td>313.4</td><td>229.7</td><td> 94.4</td><td> 28.2</td><td> 84.2</td></tr>\n",
       "</tbody>\n",
       "</table>\n"
      ],
      "text/latex": [
       "A Time Series: 5 × 12\n",
       "\\begin{tabular}{r|llllllllllll}\n",
       "  & Jan & Feb & Mar & Apr & May & Jun & Jul & Aug & Sep & Oct & Nov & Dec\\\\\n",
       "\\hline\n",
       "\t2014 &   0.7 &  16.1 &  68.6 & 170.4 & 106.1 & 221.7 & 357.3 & 314.7 & 237.3 & 119.4 &  36.5 &  11.8\\\\\n",
       "\t2015 &  25.6 &  12.5 &  59.4 &  21.6 &  74.2 & 241.1 &  96.8 & 354.2 & 345.4 &  99.7 & 158.0 &  31.5\\\\\n",
       "\t2016 &  96.9 &   4.2 &  24.7 & 104.5 & 249.0 &  95.1 & 280.4 & 534.5 & 178.5 &  45.0 &   9.3 &   9.0\\\\\n",
       "\t2017 &  70.9 &  12.3 & 112.4 &  19.1 & 105.4 & 212.9 & 449.1 & 283.2 & 266.9 & 259.7 &  19.4 &  47.5\\\\\n",
       "\t2018 &  16.6 &  10.0 &  34.0 &  58.8 & 209.0 & 188.5 & 428.1 & 313.4 & 229.7 &  94.4 &  28.2 &  84.2\\\\\n",
       "\\end{tabular}\n"
      ],
      "text/markdown": [
       "\n",
       "A Time Series: 5 × 12\n",
       "\n",
       "| <!--/--> | Jan | Feb | Mar | Apr | May | Jun | Jul | Aug | Sep | Oct | Nov | Dec |\n",
       "|---|---|---|---|---|---|---|---|---|---|---|---|---|\n",
       "| 2014 |   0.7 |  16.1 |  68.6 | 170.4 | 106.1 | 221.7 | 357.3 | 314.7 | 237.3 | 119.4 |  36.5 |  11.8 |\n",
       "| 2015 |  25.6 |  12.5 |  59.4 |  21.6 |  74.2 | 241.1 |  96.8 | 354.2 | 345.4 |  99.7 | 158.0 |  31.5 |\n",
       "| 2016 |  96.9 |   4.2 |  24.7 | 104.5 | 249.0 |  95.1 | 280.4 | 534.5 | 178.5 |  45.0 |   9.3 |   9.0 |\n",
       "| 2017 |  70.9 |  12.3 | 112.4 |  19.1 | 105.4 | 212.9 | 449.1 | 283.2 | 266.9 | 259.7 |  19.4 |  47.5 |\n",
       "| 2018 |  16.6 |  10.0 |  34.0 |  58.8 | 209.0 | 188.5 | 428.1 | 313.4 | 229.7 |  94.4 |  28.2 |  84.2 |\n",
       "\n"
      ],
      "text/plain": [
       "     Jan   Feb   Mar   Apr   May   Jun   Jul   Aug   Sep   Oct   Nov   Dec  \n",
       "2014   0.7  16.1  68.6 170.4 106.1 221.7 357.3 314.7 237.3 119.4  36.5  11.8\n",
       "2015  25.6  12.5  59.4  21.6  74.2 241.1  96.8 354.2 345.4  99.7 158.0  31.5\n",
       "2016  96.9   4.2  24.7 104.5 249.0  95.1 280.4 534.5 178.5  45.0   9.3   9.0\n",
       "2017  70.9  12.3 112.4  19.1 105.4 212.9 449.1 283.2 266.9 259.7  19.4  47.5\n",
       "2018  16.6  10.0  34.0  58.8 209.0 188.5 428.1 313.4 229.7  94.4  28.2  84.2"
      ]
     },
     "metadata": {},
     "output_type": "display_data"
    }
   ],
   "source": [
    "ts.rainfall"
   ]
  },
  {
   "cell_type": "code",
   "execution_count": 7,
   "metadata": {},
   "outputs": [
    {
     "data": {
      "image/png": "[encoded data removed]",
      "text/plain": [
       "Plot with title \"Ha Noi rainfall from 01/2014 to 12/2018\""
      ]
     },
     "metadata": {
      "image/png": {
       "height": 420,
       "width": 420
      }
     },
     "output_type": "display_data"
    }
   ],
   "source": [
    "plot.ts(ts.rainfall, main='Ha Noi rainfall from 01/2014 to 12/2018', \n",
    "       ylab='mm',xlab='month',col='blue')"
   ]
  },
  {
   "cell_type": "markdown",
   "metadata": {},
   "source": [
    "## Remarks:\n",
    "- We can see that the highest volume of rain almost in summer, lowest in winter."
   ]
  },
  {
   "cell_type": "markdown",
   "metadata": {},
   "source": [
    "# Holt-Winters\n",
    "- Exponential Smoothing\n",
    "-- SES: resonance model"
   ]
  },
  {
   "cell_type": "code",
   "execution_count": 9,
   "metadata": {},
   "outputs": [],
   "source": [
    "forecast.rainfall = HoltWinters(ts.rainfall, beta=F,gamma=F)"
   ]
  },
  {
   "cell_type": "code",
   "execution_count": 10,
   "metadata": {},
   "outputs": [
    {
     "data": {
      "text/plain": [
       "Holt-Winters exponential smoothing without trend and without seasonal component.\n",
       "\n",
       "Call:\n",
       "HoltWinters(x = ts.rainfall, beta = F, gamma = F)\n",
       "\n",
       "Smoothing parameters:\n",
       " alpha: 0.8286106\n",
       " beta : FALSE\n",
       " gamma: FALSE\n",
       "\n",
       "Coefficients:\n",
       "      [,1]\n",
       "a 77.31102"
      ]
     },
     "metadata": {},
     "output_type": "display_data"
    }
   ],
   "source": [
    "forecast.rainfall"
   ]
  },
  {
   "cell_type": "code",
   "execution_count": 11,
   "metadata": {},
   "outputs": [
    {
     "data": {
      "text/html": [
       "<table>\n",
       "<caption>A Time Series: 59 × 2</caption>\n",
       "<thead>\n",
       "\t<tr><th></th><th scope=col>xhat</th><th scope=col>level</th></tr>\n",
       "</thead>\n",
       "<tbody>\n",
       "\t<tr><th scope=row>Feb 2014</th><td>  0.70000</td><td>  0.70000</td></tr>\n",
       "\t<tr><th scope=row>Mar 2014</th><td> 13.46060</td><td> 13.46060</td></tr>\n",
       "\t<tr><th scope=row>Apr 2014</th><td> 59.14969</td><td> 59.14969</td></tr>\n",
       "\t<tr><th scope=row>May 2014</th><td>151.33288</td><td>151.33288</td></tr>\n",
       "\t<tr><th scope=row>Jun 2014</th><td>113.85244</td><td>113.85244</td></tr>\n",
       "\t<tr><th scope=row>Jul 2014</th><td>203.21607</td><td>203.21607</td></tr>\n",
       "\t<tr><th scope=row>Aug 2014</th><td>330.89165</td><td>330.89165</td></tr>\n",
       "\t<tr><th scope=row>Sep 2014</th><td>317.47508</td><td>317.47508</td></tr>\n",
       "\t<tr><th scope=row>Oct 2014</th><td>251.04116</td><td>251.04116</td></tr>\n",
       "\t<tr><th scope=row>Nov 2014</th><td>141.96190</td><td>141.96190</td></tr>\n",
       "\t<tr><th scope=row>Dec 2014</th><td> 54.57505</td><td> 54.57505</td></tr>\n",
       "\t<tr><th scope=row>Jan 2015</th><td> 19.13119</td><td> 19.13119</td></tr>\n",
       "\t<tr><th scope=row>Feb 2015</th><td> 24.49131</td><td> 24.49131</td></tr>\n",
       "\t<tr><th scope=row>Mar 2015</th><td> 14.55518</td><td> 14.55518</td></tr>\n",
       "\t<tr><th scope=row>Apr 2015</th><td> 51.71407</td><td> 51.71407</td></tr>\n",
       "\t<tr><th scope=row>May 2015</th><td> 26.76123</td><td> 26.76123</td></tr>\n",
       "\t<tr><th scope=row>Jun 2015</th><td> 66.06950</td><td> 66.06950</td></tr>\n",
       "\t<tr><th scope=row>Jul 2015</th><td>211.10163</td><td>211.10163</td></tr>\n",
       "\t<tr><th scope=row>Aug 2015</th><td>116.39009</td><td>116.39009</td></tr>\n",
       "\t<tr><th scope=row>Sep 2015</th><td>313.44191</td><td>313.44191</td></tr>\n",
       "\t<tr><th scope=row>Oct 2015</th><td>339.92272</td><td>339.92272</td></tr>\n",
       "\t<tr><th scope=row>Nov 2015</th><td>140.87162</td><td>140.87162</td></tr>\n",
       "\t<tr><th scope=row>Dec 2015</th><td>155.06438</td><td>155.06438</td></tr>\n",
       "\t<tr><th scope=row>Jan 2016</th><td> 52.67762</td><td> 52.67762</td></tr>\n",
       "\t<tr><th scope=row>Feb 2016</th><td> 89.32075</td><td> 89.32075</td></tr>\n",
       "\t<tr><th scope=row>Mar 2016</th><td> 18.78879</td><td> 18.78879</td></tr>\n",
       "\t<tr><th scope=row>Apr 2016</th><td> 23.68688</td><td> 23.68688</td></tr>\n",
       "\t<tr><th scope=row>May 2016</th><td> 90.64949</td><td> 90.64949</td></tr>\n",
       "\t<tr><th scope=row>Jun 2016</th><td>221.86040</td><td>221.86040</td></tr>\n",
       "\t<tr><th scope=row>Jul 2016</th><td>116.82539</td><td>116.82539</td></tr>\n",
       "\t<tr><th scope=row>Aug 2016</th><td>252.36505</td><td>252.36505</td></tr>\n",
       "\t<tr><th scope=row>Sep 2016</th><td>486.14507</td><td>486.14507</td></tr>\n",
       "\t<tr><th scope=row>Oct 2016</th><td>231.22710</td><td>231.22710</td></tr>\n",
       "\t<tr><th scope=row>Nov 2016</th><td> 76.91735</td><td> 76.91735</td></tr>\n",
       "\t<tr><th scope=row>Dec 2016</th><td> 20.88890</td><td> 20.88890</td></tr>\n",
       "\t<tr><th scope=row>Jan 2017</th><td> 11.03763</td><td> 11.03763</td></tr>\n",
       "\t<tr><th scope=row>Feb 2017</th><td> 60.64023</td><td> 60.64023</td></tr>\n",
       "\t<tr><th scope=row>Mar 2017</th><td> 20.58500</td><td> 20.58500</td></tr>\n",
       "\t<tr><th scope=row>Apr 2017</th><td> 96.66388</td><td> 96.66388</td></tr>\n",
       "\t<tr><th scope=row>May 2017</th><td> 32.39363</td><td> 32.39363</td></tr>\n",
       "\t<tr><th scope=row>Jun 2017</th><td> 92.88748</td><td> 92.88748</td></tr>\n",
       "\t<tr><th scope=row>Jul 2017</th><td>192.33113</td><td>192.33113</td></tr>\n",
       "\t<tr><th scope=row>Aug 2017</th><td>405.09254</td><td>405.09254</td></tr>\n",
       "\t<tr><th scope=row>Sep 2017</th><td>304.09109</td><td>304.09109</td></tr>\n",
       "\t<tr><th scope=row>Oct 2017</th><td>273.27416</td><td>273.27416</td></tr>\n",
       "\t<tr><th scope=row>Nov 2017</th><td>262.02647</td><td>262.02647</td></tr>\n",
       "\t<tr><th scope=row>Dec 2017</th><td> 60.98360</td><td> 60.98360</td></tr>\n",
       "\t<tr><th scope=row>Jan 2018</th><td> 49.81095</td><td> 49.81095</td></tr>\n",
       "\t<tr><th scope=row>Feb 2018</th><td> 22.29200</td><td> 22.29200</td></tr>\n",
       "\t<tr><th scope=row>Mar 2018</th><td> 12.10672</td><td> 12.10672</td></tr>\n",
       "\t<tr><th scope=row>Apr 2018</th><td> 30.24772</td><td> 30.24772</td></tr>\n",
       "\t<tr><th scope=row>May 2018</th><td> 53.90644</td><td> 53.90644</td></tr>\n",
       "\t<tr><th scope=row>Jun 2018</th><td>182.41861</td><td>182.41861</td></tr>\n",
       "\t<tr><th scope=row>Jul 2018</th><td>187.45771</td><td>187.45771</td></tr>\n",
       "\t<tr><th scope=row>Aug 2018</th><td>386.85647</td><td>386.85647</td></tr>\n",
       "\t<tr><th scope=row>Sep 2018</th><td>325.98966</td><td>325.98966</td></tr>\n",
       "\t<tr><th scope=row>Oct 2018</th><td>246.20302</td><td>246.20302</td></tr>\n",
       "\t<tr><th scope=row>Nov 2018</th><td>120.41743</td><td>120.41743</td></tr>\n",
       "\t<tr><th scope=row>Dec 2018</th><td> 44.00509</td><td> 44.00509</td></tr>\n",
       "</tbody>\n",
       "</table>\n"
      ],
      "text/latex": [
       "A Time Series: 59 × 2\n",
       "\\begin{tabular}{r|ll}\n",
       "  & xhat & level\\\\\n",
       "\\hline\n",
       "\tFeb 2014 &   0.70000 &   0.70000\\\\\n",
       "\tMar 2014 &  13.46060 &  13.46060\\\\\n",
       "\tApr 2014 &  59.14969 &  59.14969\\\\\n",
       "\tMay 2014 & 151.33288 & 151.33288\\\\\n",
       "\tJun 2014 & 113.85244 & 113.85244\\\\\n",
       "\tJul 2014 & 203.21607 & 203.21607\\\\\n",
       "\tAug 2014 & 330.89165 & 330.89165\\\\\n",
       "\tSep 2014 & 317.47508 & 317.47508\\\\\n",
       "\tOct 2014 & 251.04116 & 251.04116\\\\\n",
       "\tNov 2014 & 141.96190 & 141.96190\\\\\n",
       "\tDec 2014 &  54.57505 &  54.57505\\\\\n",
       "\tJan 2015 &  19.13119 &  19.13119\\\\\n",
       "\tFeb 2015 &  24.49131 &  24.49131\\\\\n",
       "\tMar 2015 &  14.55518 &  14.55518\\\\\n",
       "\tApr 2015 &  51.71407 &  51.71407\\\\\n",
       "\tMay 2015 &  26.76123 &  26.76123\\\\\n",
       "\tJun 2015 &  66.06950 &  66.06950\\\\\n",
       "\tJul 2015 & 211.10163 & 211.10163\\\\\n",
       "\tAug 2015 & 116.39009 & 116.39009\\\\\n",
       "\tSep 2015 & 313.44191 & 313.44191\\\\\n",
       "\tOct 2015 & 339.92272 & 339.92272\\\\\n",
       "\tNov 2015 & 140.87162 & 140.87162\\\\\n",
       "\tDec 2015 & 155.06438 & 155.06438\\\\\n",
       "\tJan 2016 &  52.67762 &  52.67762\\\\\n",
       "\tFeb 2016 &  89.32075 &  89.32075\\\\\n",
       "\tMar 2016 &  18.78879 &  18.78879\\\\\n",
       "\tApr 2016 &  23.68688 &  23.68688\\\\\n",
       "\tMay 2016 &  90.64949 &  90.64949\\\\\n",
       "\tJun 2016 & 221.86040 & 221.86040\\\\\n",
       "\tJul 2016 & 116.82539 & 116.82539\\\\\n",
       "\tAug 2016 & 252.36505 & 252.36505\\\\\n",
       "\tSep 2016 & 486.14507 & 486.14507\\\\\n",
       "\tOct 2016 & 231.22710 & 231.22710\\\\\n",
       "\tNov 2016 &  76.91735 &  76.91735\\\\\n",
       "\tDec 2016 &  20.88890 &  20.88890\\\\\n",
       "\tJan 2017 &  11.03763 &  11.03763\\\\\n",
       "\tFeb 2017 &  60.64023 &  60.64023\\\\\n",
       "\tMar 2017 &  20.58500 &  20.58500\\\\\n",
       "\tApr 2017 &  96.66388 &  96.66388\\\\\n",
       "\tMay 2017 &  32.39363 &  32.39363\\\\\n",
       "\tJun 2017 &  92.88748 &  92.88748\\\\\n",
       "\tJul 2017 & 192.33113 & 192.33113\\\\\n",
       "\tAug 2017 & 405.09254 & 405.09254\\\\\n",
       "\tSep 2017 & 304.09109 & 304.09109\\\\\n",
       "\tOct 2017 & 273.27416 & 273.27416\\\\\n",
       "\tNov 2017 & 262.02647 & 262.02647\\\\\n",
       "\tDec 2017 &  60.98360 &  60.98360\\\\\n",
       "\tJan 2018 &  49.81095 &  49.81095\\\\\n",
       "\tFeb 2018 &  22.29200 &  22.29200\\\\\n",
       "\tMar 2018 &  12.10672 &  12.10672\\\\\n",
       "\tApr 2018 &  30.24772 &  30.24772\\\\\n",
       "\tMay 2018 &  53.90644 &  53.90644\\\\\n",
       "\tJun 2018 & 182.41861 & 182.41861\\\\\n",
       "\tJul 2018 & 187.45771 & 187.45771\\\\\n",
       "\tAug 2018 & 386.85647 & 386.85647\\\\\n",
       "\tSep 2018 & 325.98966 & 325.98966\\\\\n",
       "\tOct 2018 & 246.20302 & 246.20302\\\\\n",
       "\tNov 2018 & 120.41743 & 120.41743\\\\\n",
       "\tDec 2018 &  44.00509 &  44.00509\\\\\n",
       "\\end{tabular}\n"
      ],
      "text/markdown": [
       "\n",
       "A Time Series: 59 × 2\n",
       "\n",
       "| <!--/--> | xhat | level |\n",
       "|---|---|---|\n",
       "| Feb 2014 |   0.70000 |   0.70000 |\n",
       "| Mar 2014 |  13.46060 |  13.46060 |\n",
       "| Apr 2014 |  59.14969 |  59.14969 |\n",
       "| May 2014 | 151.33288 | 151.33288 |\n",
       "| Jun 2014 | 113.85244 | 113.85244 |\n",
       "| Jul 2014 | 203.21607 | 203.21607 |\n",
       "| Aug 2014 | 330.89165 | 330.89165 |\n",
       "| Sep 2014 | 317.47508 | 317.47508 |\n",
       "| Oct 2014 | 251.04116 | 251.04116 |\n",
       "| Nov 2014 | 141.96190 | 141.96190 |\n",
       "| Dec 2014 |  54.57505 |  54.57505 |\n",
       "| Jan 2015 |  19.13119 |  19.13119 |\n",
       "| Feb 2015 |  24.49131 |  24.49131 |\n",
       "| Mar 2015 |  14.55518 |  14.55518 |\n",
       "| Apr 2015 |  51.71407 |  51.71407 |\n",
       "| May 2015 |  26.76123 |  26.76123 |\n",
       "| Jun 2015 |  66.06950 |  66.06950 |\n",
       "| Jul 2015 | 211.10163 | 211.10163 |\n",
       "| Aug 2015 | 116.39009 | 116.39009 |\n",
       "| Sep 2015 | 313.44191 | 313.44191 |\n",
       "| Oct 2015 | 339.92272 | 339.92272 |\n",
       "| Nov 2015 | 140.87162 | 140.87162 |\n",
       "| Dec 2015 | 155.06438 | 155.06438 |\n",
       "| Jan 2016 |  52.67762 |  52.67762 |\n",
       "| Feb 2016 |  89.32075 |  89.32075 |\n",
       "| Mar 2016 |  18.78879 |  18.78879 |\n",
       "| Apr 2016 |  23.68688 |  23.68688 |\n",
       "| May 2016 |  90.64949 |  90.64949 |\n",
       "| Jun 2016 | 221.86040 | 221.86040 |\n",
       "| Jul 2016 | 116.82539 | 116.82539 |\n",
       "| Aug 2016 | 252.36505 | 252.36505 |\n",
       "| Sep 2016 | 486.14507 | 486.14507 |\n",
       "| Oct 2016 | 231.22710 | 231.22710 |\n",
       "| Nov 2016 |  76.91735 |  76.91735 |\n",
       "| Dec 2016 |  20.88890 |  20.88890 |\n",
       "| Jan 2017 |  11.03763 |  11.03763 |\n",
       "| Feb 2017 |  60.64023 |  60.64023 |\n",
       "| Mar 2017 |  20.58500 |  20.58500 |\n",
       "| Apr 2017 |  96.66388 |  96.66388 |\n",
       "| May 2017 |  32.39363 |  32.39363 |\n",
       "| Jun 2017 |  92.88748 |  92.88748 |\n",
       "| Jul 2017 | 192.33113 | 192.33113 |\n",
       "| Aug 2017 | 405.09254 | 405.09254 |\n",
       "| Sep 2017 | 304.09109 | 304.09109 |\n",
       "| Oct 2017 | 273.27416 | 273.27416 |\n",
       "| Nov 2017 | 262.02647 | 262.02647 |\n",
       "| Dec 2017 |  60.98360 |  60.98360 |\n",
       "| Jan 2018 |  49.81095 |  49.81095 |\n",
       "| Feb 2018 |  22.29200 |  22.29200 |\n",
       "| Mar 2018 |  12.10672 |  12.10672 |\n",
       "| Apr 2018 |  30.24772 |  30.24772 |\n",
       "| May 2018 |  53.90644 |  53.90644 |\n",
       "| Jun 2018 | 182.41861 | 182.41861 |\n",
       "| Jul 2018 | 187.45771 | 187.45771 |\n",
       "| Aug 2018 | 386.85647 | 386.85647 |\n",
       "| Sep 2018 | 325.98966 | 325.98966 |\n",
       "| Oct 2018 | 246.20302 | 246.20302 |\n",
       "| Nov 2018 | 120.41743 | 120.41743 |\n",
       "| Dec 2018 |  44.00509 |  44.00509 |\n",
       "\n"
      ],
      "text/plain": [
       "         xhat      level    \n",
       "Feb 2014   0.70000   0.70000\n",
       "Mar 2014  13.46060  13.46060\n",
       "Apr 2014  59.14969  59.14969\n",
       "May 2014 151.33288 151.33288\n",
       "Jun 2014 113.85244 113.85244\n",
       "Jul 2014 203.21607 203.21607\n",
       "Aug 2014 330.89165 330.89165\n",
       "Sep 2014 317.47508 317.47508\n",
       "Oct 2014 251.04116 251.04116\n",
       "Nov 2014 141.96190 141.96190\n",
       "Dec 2014  54.57505  54.57505\n",
       "Jan 2015  19.13119  19.13119\n",
       "Feb 2015  24.49131  24.49131\n",
       "Mar 2015  14.55518  14.55518\n",
       "Apr 2015  51.71407  51.71407\n",
       "May 2015  26.76123  26.76123\n",
       "Jun 2015  66.06950  66.06950\n",
       "Jul 2015 211.10163 211.10163\n",
       "Aug 2015 116.39009 116.39009\n",
       "Sep 2015 313.44191 313.44191\n",
       "Oct 2015 339.92272 339.92272\n",
       "Nov 2015 140.87162 140.87162\n",
       "Dec 2015 155.06438 155.06438\n",
       "Jan 2016  52.67762  52.67762\n",
       "Feb 2016  89.32075  89.32075\n",
       "Mar 2016  18.78879  18.78879\n",
       "Apr 2016  23.68688  23.68688\n",
       "May 2016  90.64949  90.64949\n",
       "Jun 2016 221.86040 221.86040\n",
       "Jul 2016 116.82539 116.82539\n",
       "Aug 2016 252.36505 252.36505\n",
       "Sep 2016 486.14507 486.14507\n",
       "Oct 2016 231.22710 231.22710\n",
       "Nov 2016  76.91735  76.91735\n",
       "Dec 2016  20.88890  20.88890\n",
       "Jan 2017  11.03763  11.03763\n",
       "Feb 2017  60.64023  60.64023\n",
       "Mar 2017  20.58500  20.58500\n",
       "Apr 2017  96.66388  96.66388\n",
       "May 2017  32.39363  32.39363\n",
       "Jun 2017  92.88748  92.88748\n",
       "Jul 2017 192.33113 192.33113\n",
       "Aug 2017 405.09254 405.09254\n",
       "Sep 2017 304.09109 304.09109\n",
       "Oct 2017 273.27416 273.27416\n",
       "Nov 2017 262.02647 262.02647\n",
       "Dec 2017  60.98360  60.98360\n",
       "Jan 2018  49.81095  49.81095\n",
       "Feb 2018  22.29200  22.29200\n",
       "Mar 2018  12.10672  12.10672\n",
       "Apr 2018  30.24772  30.24772\n",
       "May 2018  53.90644  53.90644\n",
       "Jun 2018 182.41861 182.41861\n",
       "Jul 2018 187.45771 187.45771\n",
       "Aug 2018 386.85647 386.85647\n",
       "Sep 2018 325.98966 325.98966\n",
       "Oct 2018 246.20302 246.20302\n",
       "Nov 2018 120.41743 120.41743\n",
       "Dec 2018  44.00509  44.00509"
      ]
     },
     "metadata": {},
     "output_type": "display_data"
    }
   ],
   "source": [
    "forecast.rainfall$fitted"
   ]
  },
  {
   "cell_type": "code",
   "execution_count": 12,
   "metadata": {},
   "outputs": [
    {
     "name": "stderr",
     "output_type": "stream",
     "text": [
      "Installing package into 'C:/Users/hv/Documents/R/win-library/4.0'\n",
      "(as 'lib' is unspecified)\n",
      "\n"
     ]
    },
    {
     "name": "stdout",
     "output_type": "stream",
     "text": [
      "package 'forecast' successfully unpacked and MD5 sums checked\n",
      "\n",
      "The downloaded binary packages are in\n",
      "\tC:\\Users\\hv\\AppData\\Local\\Temp\\RtmpwJyW1n\\downloaded_packages\n"
     ]
    }
   ],
   "source": [
    "install.packages(\"forecast\")"
   ]
  },
  {
   "cell_type": "code",
   "execution_count": 19,
   "metadata": {},
   "outputs": [],
   "source": [
    "library(\"forecast\")"
   ]
  },
  {
   "cell_type": "code",
   "execution_count": 23,
   "metadata": {},
   "outputs": [],
   "source": [
    "forecast.rainfall.new = forecast:::forecast.HoltWinters(forecast.rainfall, h=5)"
   ]
  },
  {
   "cell_type": "code",
   "execution_count": 45,
   "metadata": {},
   "outputs": [
    {
     "data": {
      "text/plain": [
       "NULL"
      ]
     },
     "metadata": {},
     "output_type": "display_data"
    }
   ],
   "source": [
    "forecast.rainfall.new$SES"
   ]
  },
  {
   "cell_type": "markdown",
   "metadata": {},
   "source": [
    "plot(forecast.rainfall.new)"
   ]
  },
  {
   "cell_type": "markdown",
   "metadata": {},
   "source": [
    "- As the above result, we can see that SES is not suitable for this data"
   ]
  },
  {
   "cell_type": "code",
   "execution_count": 27,
   "metadata": {},
   "outputs": [
    {
     "data": {
      "text/plain": [
       "         Point Forecast     Lo 80    Hi 80     Lo 95    Hi 95\n",
       "Jan 2019       77.31102  -80.6344 235.2564 -164.2457 318.8677\n",
       "Feb 2019       77.31102 -127.8111 282.4331 -236.3962 391.0182\n",
       "Mar 2019       77.31102 -166.0065 320.6285 -294.8110 449.4331\n",
       "Apr 2019       77.31102 -198.9710 353.5930 -345.2259 499.8479\n",
       "May 2019       77.31102 -228.4014 383.0234 -390.2358 544.8578"
      ]
     },
     "metadata": {},
     "output_type": "display_data"
    }
   ],
   "source": [
    "forecast.rainfall.new"
   ]
  },
  {
   "cell_type": "markdown",
   "metadata": {},
   "source": [
    "- Holt Exponential Smoothing(HES)"
   ]
  },
  {
   "cell_type": "code",
   "execution_count": 30,
   "metadata": {},
   "outputs": [],
   "source": [
    "HES.forecast = HoltWinters(log(ts.rainfall), gamma = F)"
   ]
  },
  {
   "cell_type": "code",
   "execution_count": 31,
   "metadata": {},
   "outputs": [
    {
     "data": {
      "text/plain": [
       "Holt-Winters exponential smoothing with trend and without seasonal component.\n",
       "\n",
       "Call:\n",
       "HoltWinters(x = log(ts.rainfall), gamma = F)\n",
       "\n",
       "Smoothing parameters:\n",
       " alpha: 0.6848052\n",
       " beta : 0.6830466\n",
       " gamma: FALSE\n",
       "\n",
       "Coefficients:\n",
       "        [,1]\n",
       "a  3.8463113\n",
       "b -0.1694587"
      ]
     },
     "metadata": {},
     "output_type": "display_data"
    }
   ],
   "source": [
    "HES.forecast"
   ]
  },
  {
   "cell_type": "code",
   "execution_count": 33,
   "metadata": {},
   "outputs": [
    {
     "data": {
      "text/html": [
       "108.584324593722"
      ],
      "text/latex": [
       "108.584324593722"
      ],
      "text/markdown": [
       "108.584324593722"
      ],
      "text/plain": [
       "[1] 108.5843"
      ]
     },
     "metadata": {},
     "output_type": "display_data"
    }
   ],
   "source": [
    "HES.forecast$SSE"
   ]
  },
  {
   "cell_type": "code",
   "execution_count": 34,
   "metadata": {},
   "outputs": [
    {
     "data": {
      "image/png": "[encoded data removed]",
      "text/plain": [
       "Plot with title \"Holt-Winters filtering\""
      ]
     },
     "metadata": {
      "image/png": {
       "height": 420,
       "width": 420
      }
     },
     "output_type": "display_data"
    }
   ],
   "source": [
    "plot(HES.forecast)"
   ]
  },
  {
   "cell_type": "code",
   "execution_count": 36,
   "metadata": {},
   "outputs": [],
   "source": [
    "HES.forecast.new = forecast:::forecast.HoltWinters(HES.forecast, h=5)"
   ]
  },
  {
   "cell_type": "code",
   "execution_count": 37,
   "metadata": {},
   "outputs": [
    {
     "data": {
      "text/plain": [
       "         Point Forecast      Lo 80     Hi 80      Lo 95     Hi 95\n",
       "Jan 2019       3.676853  1.9150629  5.438642  0.9824277  6.371277\n",
       "Feb 2019       3.507394  0.8190666  6.195721 -0.6040479  7.618836\n",
       "Mar 2019       3.337935 -0.5833061  7.259176 -2.6590857  9.334956\n",
       "Apr 2019       3.168476 -2.2082529  8.545206 -5.0545215 11.391474\n",
       "May 2019       2.999018 -4.0141548 10.012190 -7.7267041 13.724739"
      ]
     },
     "metadata": {},
     "output_type": "display_data"
    }
   ],
   "source": [
    "HES.forecast.new"
   ]
  },
  {
   "cell_type": "code",
   "execution_count": 38,
   "metadata": {},
   "outputs": [
    {
     "data": {
      "image/png": "[encoded data removed]",
      "text/plain": [
       "Plot with title \"Forecasts from HoltWinters\""
      ]
     },
     "metadata": {
      "image/png": {
       "height": 420,
       "width": 420
      }
     },
     "output_type": "display_data"
    }
   ],
   "source": [
    "plot(HES.forecast.new)"
   ]
  },
  {
   "cell_type": "markdown",
   "metadata": {},
   "source": [
    "## Remarks:\n",
    "- The trend is going down, not suitable to this data"
   ]
  },
  {
   "cell_type": "markdown",
   "metadata": {},
   "source": [
    "- Holt-Winter Exponential Smoothing (HWES)"
   ]
  },
  {
   "cell_type": "code",
   "execution_count": 39,
   "metadata": {},
   "outputs": [],
   "source": [
    "# use log to optimization\n",
    "HWES.forecast = HoltWinters(log(ts.rainfall))"
   ]
  },
  {
   "cell_type": "code",
   "execution_count": 40,
   "metadata": {},
   "outputs": [
    {
     "data": {
      "text/plain": [
       "Holt-Winters exponential smoothing with trend and additive seasonal component.\n",
       "\n",
       "Call:\n",
       "HoltWinters(x = log(ts.rainfall))\n",
       "\n",
       "Smoothing parameters:\n",
       " alpha: 0.008543883\n",
       " beta : 1\n",
       " gamma: 0.09435026\n",
       "\n",
       "Coefficients:\n",
       "           [,1]\n",
       "a    4.47766468\n",
       "b    0.02414736\n",
       "s1  -0.77223112\n",
       "s2  -1.71165645\n",
       "s3  -0.12523136\n",
       "s4  -0.87068073\n",
       "s5   0.34080168\n",
       "s6   1.12211650\n",
       "s7   1.54813501\n",
       "s8   1.43928012\n",
       "s9   1.13742642\n",
       "s10  0.45545767\n",
       "s11 -0.70032052\n",
       "s12 -1.39168999"
      ]
     },
     "metadata": {},
     "output_type": "display_data"
    }
   ],
   "source": [
    "HWES.forecast"
   ]
  },
  {
   "cell_type": "code",
   "execution_count": 41,
   "metadata": {},
   "outputs": [
    {
     "data": {
      "image/png": "[encoded data removed]",
      "text/plain": [
       "Plot with title \"Holt-Winters filtering\""
      ]
     },
     "metadata": {
      "image/png": {
       "height": 420,
       "width": 420
      }
     },
     "output_type": "display_data"
    }
   ],
   "source": [
    "plot(HWES.forecast)"
   ]
  },
  {
   "cell_type": "code",
   "execution_count": 43,
   "metadata": {},
   "outputs": [
    {
     "data": {
      "text/plain": [
       "         Point Forecast    Lo 80    Hi 80    Lo 95    Hi 95\n",
       "Jan 2019       3.729581 2.747478 4.711684 2.227584 5.231578\n",
       "Feb 2019       2.814303 1.832057 3.796549 1.312087 4.316519\n",
       "Mar 2019       4.424875 3.442306 5.407444 2.922166 5.927585\n",
       "Apr 2019       3.703573 2.720431 4.686715 2.199987 5.207159\n",
       "May 2019       4.939203 3.955166 5.923240 3.434249 6.444158"
      ]
     },
     "metadata": {},
     "output_type": "display_data"
    }
   ],
   "source": [
    "HWES.forecast.new = forecast:::forecast.HoltWinters(HWES.forecast, h = 5)\n",
    "HWES.forecast.new"
   ]
  },
  {
   "cell_type": "code",
   "execution_count": 44,
   "metadata": {},
   "outputs": [
    {
     "data": {
      "image/png": "[encoded data removed]",
      "text/plain": [
       "Plot with title \"Forecasts from HoltWinters\""
      ]
     },
     "metadata": {
      "image/png": {
       "height": 420,
       "width": 420
      }
     },
     "output_type": "display_data"
    }
   ],
   "source": [
    "plot(HWES.forecast.new)"
   ]
  },
  {
   "cell_type": "markdown",
   "metadata": {},
   "source": [
    "- The chart draw prediction in blue line, confident range 80 ~ 95% in grey"
   ]
  },
  {
   "cell_type": "code",
   "execution_count": 46,
   "metadata": {},
   "outputs": [],
   "source": [
    "x = data.frame(HWES.forecast.new)"
   ]
  },
  {
   "cell_type": "code",
   "execution_count": 47,
   "metadata": {},
   "outputs": [
    {
     "data": {
      "text/html": [
       "<table>\n",
       "<caption>A data.frame: 5 × 5</caption>\n",
       "<thead>\n",
       "\t<tr><th></th><th scope=col>Point.Forecast</th><th scope=col>Lo.80</th><th scope=col>Hi.80</th><th scope=col>Lo.95</th><th scope=col>Hi.95</th></tr>\n",
       "\t<tr><th></th><th scope=col>&lt;dbl&gt;</th><th scope=col>&lt;dbl&gt;</th><th scope=col>&lt;dbl&gt;</th><th scope=col>&lt;dbl&gt;</th><th scope=col>&lt;dbl&gt;</th></tr>\n",
       "</thead>\n",
       "<tbody>\n",
       "\t<tr><th scope=row>Jan 2019</th><td>3.729581</td><td>2.747478</td><td>4.711684</td><td>2.227584</td><td>5.231578</td></tr>\n",
       "\t<tr><th scope=row>Feb 2019</th><td>2.814303</td><td>1.832057</td><td>3.796549</td><td>1.312087</td><td>4.316519</td></tr>\n",
       "\t<tr><th scope=row>Mar 2019</th><td>4.424875</td><td>3.442306</td><td>5.407444</td><td>2.922166</td><td>5.927585</td></tr>\n",
       "\t<tr><th scope=row>Apr 2019</th><td>3.703573</td><td>2.720431</td><td>4.686715</td><td>2.199987</td><td>5.207159</td></tr>\n",
       "\t<tr><th scope=row>May 2019</th><td>4.939203</td><td>3.955166</td><td>5.923240</td><td>3.434249</td><td>6.444158</td></tr>\n",
       "</tbody>\n",
       "</table>\n"
      ],
      "text/latex": [
       "A data.frame: 5 × 5\n",
       "\\begin{tabular}{r|lllll}\n",
       "  & Point.Forecast & Lo.80 & Hi.80 & Lo.95 & Hi.95\\\\\n",
       "  & <dbl> & <dbl> & <dbl> & <dbl> & <dbl>\\\\\n",
       "\\hline\n",
       "\tJan 2019 & 3.729581 & 2.747478 & 4.711684 & 2.227584 & 5.231578\\\\\n",
       "\tFeb 2019 & 2.814303 & 1.832057 & 3.796549 & 1.312087 & 4.316519\\\\\n",
       "\tMar 2019 & 4.424875 & 3.442306 & 5.407444 & 2.922166 & 5.927585\\\\\n",
       "\tApr 2019 & 3.703573 & 2.720431 & 4.686715 & 2.199987 & 5.207159\\\\\n",
       "\tMay 2019 & 4.939203 & 3.955166 & 5.923240 & 3.434249 & 6.444158\\\\\n",
       "\\end{tabular}\n"
      ],
      "text/markdown": [
       "\n",
       "A data.frame: 5 × 5\n",
       "\n",
       "| <!--/--> | Point.Forecast &lt;dbl&gt; | Lo.80 &lt;dbl&gt; | Hi.80 &lt;dbl&gt; | Lo.95 &lt;dbl&gt; | Hi.95 &lt;dbl&gt; |\n",
       "|---|---|---|---|---|---|\n",
       "| Jan 2019 | 3.729581 | 2.747478 | 4.711684 | 2.227584 | 5.231578 |\n",
       "| Feb 2019 | 2.814303 | 1.832057 | 3.796549 | 1.312087 | 4.316519 |\n",
       "| Mar 2019 | 4.424875 | 3.442306 | 5.407444 | 2.922166 | 5.927585 |\n",
       "| Apr 2019 | 3.703573 | 2.720431 | 4.686715 | 2.199987 | 5.207159 |\n",
       "| May 2019 | 4.939203 | 3.955166 | 5.923240 | 3.434249 | 6.444158 |\n",
       "\n"
      ],
      "text/plain": [
       "         Point.Forecast Lo.80    Hi.80    Lo.95    Hi.95   \n",
       "Jan 2019 3.729581       2.747478 4.711684 2.227584 5.231578\n",
       "Feb 2019 2.814303       1.832057 3.796549 1.312087 4.316519\n",
       "Mar 2019 4.424875       3.442306 5.407444 2.922166 5.927585\n",
       "Apr 2019 3.703573       2.720431 4.686715 2.199987 5.207159\n",
       "May 2019 4.939203       3.955166 5.923240 3.434249 6.444158"
      ]
     },
     "metadata": {},
     "output_type": "display_data"
    }
   ],
   "source": [
    "x"
   ]
  },
  {
   "cell_type": "code",
   "execution_count": 48,
   "metadata": {},
   "outputs": [],
   "source": [
    "x$Forecast = exp(x$Point.Forecast)"
   ]
  },
  {
   "cell_type": "code",
   "execution_count": 49,
   "metadata": {},
   "outputs": [
    {
     "data": {
      "text/html": [
       "<table>\n",
       "<caption>A data.frame: 5 × 6</caption>\n",
       "<thead>\n",
       "\t<tr><th></th><th scope=col>Point.Forecast</th><th scope=col>Lo.80</th><th scope=col>Hi.80</th><th scope=col>Lo.95</th><th scope=col>Hi.95</th><th scope=col>Forecast</th></tr>\n",
       "\t<tr><th></th><th scope=col>&lt;dbl&gt;</th><th scope=col>&lt;dbl&gt;</th><th scope=col>&lt;dbl&gt;</th><th scope=col>&lt;dbl&gt;</th><th scope=col>&lt;dbl&gt;</th><th scope=col>&lt;dbl&gt;</th></tr>\n",
       "</thead>\n",
       "<tbody>\n",
       "\t<tr><th scope=row>Jan 2019</th><td>3.729581</td><td>2.747478</td><td>4.711684</td><td>2.227584</td><td>5.231578</td><td> 41.66164</td></tr>\n",
       "\t<tr><th scope=row>Feb 2019</th><td>2.814303</td><td>1.832057</td><td>3.796549</td><td>1.312087</td><td>4.316519</td><td> 16.68154</td></tr>\n",
       "\t<tr><th scope=row>Mar 2019</th><td>4.424875</td><td>3.442306</td><td>5.407444</td><td>2.922166</td><td>5.927585</td><td> 83.50240</td></tr>\n",
       "\t<tr><th scope=row>Apr 2019</th><td>3.703573</td><td>2.720431</td><td>4.686715</td><td>2.199987</td><td>5.207159</td><td> 40.59210</td></tr>\n",
       "\t<tr><th scope=row>May 2019</th><td>4.939203</td><td>3.955166</td><td>5.923240</td><td>3.434249</td><td>6.444158</td><td>139.65892</td></tr>\n",
       "</tbody>\n",
       "</table>\n"
      ],
      "text/latex": [
       "A data.frame: 5 × 6\n",
       "\\begin{tabular}{r|llllll}\n",
       "  & Point.Forecast & Lo.80 & Hi.80 & Lo.95 & Hi.95 & Forecast\\\\\n",
       "  & <dbl> & <dbl> & <dbl> & <dbl> & <dbl> & <dbl>\\\\\n",
       "\\hline\n",
       "\tJan 2019 & 3.729581 & 2.747478 & 4.711684 & 2.227584 & 5.231578 &  41.66164\\\\\n",
       "\tFeb 2019 & 2.814303 & 1.832057 & 3.796549 & 1.312087 & 4.316519 &  16.68154\\\\\n",
       "\tMar 2019 & 4.424875 & 3.442306 & 5.407444 & 2.922166 & 5.927585 &  83.50240\\\\\n",
       "\tApr 2019 & 3.703573 & 2.720431 & 4.686715 & 2.199987 & 5.207159 &  40.59210\\\\\n",
       "\tMay 2019 & 4.939203 & 3.955166 & 5.923240 & 3.434249 & 6.444158 & 139.65892\\\\\n",
       "\\end{tabular}\n"
      ],
      "text/markdown": [
       "\n",
       "A data.frame: 5 × 6\n",
       "\n",
       "| <!--/--> | Point.Forecast &lt;dbl&gt; | Lo.80 &lt;dbl&gt; | Hi.80 &lt;dbl&gt; | Lo.95 &lt;dbl&gt; | Hi.95 &lt;dbl&gt; | Forecast &lt;dbl&gt; |\n",
       "|---|---|---|---|---|---|---|\n",
       "| Jan 2019 | 3.729581 | 2.747478 | 4.711684 | 2.227584 | 5.231578 |  41.66164 |\n",
       "| Feb 2019 | 2.814303 | 1.832057 | 3.796549 | 1.312087 | 4.316519 |  16.68154 |\n",
       "| Mar 2019 | 4.424875 | 3.442306 | 5.407444 | 2.922166 | 5.927585 |  83.50240 |\n",
       "| Apr 2019 | 3.703573 | 2.720431 | 4.686715 | 2.199987 | 5.207159 |  40.59210 |\n",
       "| May 2019 | 4.939203 | 3.955166 | 5.923240 | 3.434249 | 6.444158 | 139.65892 |\n",
       "\n"
      ],
      "text/plain": [
       "         Point.Forecast Lo.80    Hi.80    Lo.95    Hi.95    Forecast \n",
       "Jan 2019 3.729581       2.747478 4.711684 2.227584 5.231578  41.66164\n",
       "Feb 2019 2.814303       1.832057 3.796549 1.312087 4.316519  16.68154\n",
       "Mar 2019 4.424875       3.442306 5.407444 2.922166 5.927585  83.50240\n",
       "Apr 2019 3.703573       2.720431 4.686715 2.199987 5.207159  40.59210\n",
       "May 2019 4.939203       3.955166 5.923240 3.434249 6.444158 139.65892"
      ]
     },
     "metadata": {},
     "output_type": "display_data"
    }
   ],
   "source": [
    "x"
   ]
  },
  {
   "cell_type": "code",
   "execution_count": null,
   "metadata": {},
   "outputs": [],
   "source": []
  }
 ],
 "metadata": {
  "kernelspec": {
   "display_name": "R",
   "language": "R",
   "name": "ir"
  },
  "language_info": {
   "codemirror_mode": "r",
   "file_extension": ".r",
   "mimetype": "text/x-r-source",
   "name": "R",
   "pygments_lexer": "r",
   "version": "4.0.2"
  }
 },
 "nbformat": 4,
 "nbformat_minor": 4
}
