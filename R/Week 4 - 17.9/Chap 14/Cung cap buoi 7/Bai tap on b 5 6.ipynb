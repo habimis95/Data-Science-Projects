{
 "cells": [
  {
   "cell_type": "code",
   "execution_count": 1,
   "metadata": {},
   "outputs": [
    {
     "name": "stderr",
     "output_type": "stream",
     "text": [
      "-- \u001b[1mAttaching packages\u001b[22m --------------------------------------- tidyverse 1.3.0 --\n",
      "\n",
      "\u001b[32mv\u001b[39m \u001b[34mtibble \u001b[39m 3.0.3     \u001b[32mv\u001b[39m \u001b[34mdplyr  \u001b[39m 1.0.2\n",
      "\u001b[32mv\u001b[39m \u001b[34mtidyr  \u001b[39m 1.1.1     \u001b[32mv\u001b[39m \u001b[34mstringr\u001b[39m 1.4.0\n",
      "\u001b[32mv\u001b[39m \u001b[34mreadr  \u001b[39m 1.3.1     \u001b[32mv\u001b[39m \u001b[34mforcats\u001b[39m 0.5.0\n",
      "\u001b[32mv\u001b[39m \u001b[34mpurrr  \u001b[39m 0.3.4     \n",
      "\n",
      "-- \u001b[1mConflicts\u001b[22m ------------------------------------------ tidyverse_conflicts() --\n",
      "\u001b[31mx\u001b[39m \u001b[34mdplyr\u001b[39m::\u001b[32mfilter()\u001b[39m masks \u001b[34mstats\u001b[39m::filter()\n",
      "\u001b[31mx\u001b[39m \u001b[34mdplyr\u001b[39m::\u001b[32mlag()\u001b[39m    masks \u001b[34mstats\u001b[39m::lag()\n",
      "\n"
     ]
    }
   ],
   "source": [
    "library('xlsx')\n",
    "library('ggplot2')\n",
    "library('ggExtra')\n",
    "library('tidyverse')\n",
    "library('mlbench')\n",
    "library('e1071')"
   ]
  },
  {
   "cell_type": "code",
   "execution_count": 2,
   "metadata": {},
   "outputs": [],
   "source": [
    "data = read.xlsx('canxi.xlsx', sheetName = 'Sheet1')"
   ]
  },
  {
   "cell_type": "code",
   "execution_count": 3,
   "metadata": {},
   "outputs": [
    {
     "data": {
      "text/html": [
       "<table>\n",
       "<caption>A data.frame: 6 × 3</caption>\n",
       "<thead>\n",
       "\t<tr><th></th><th scope=col>response_number</th><th scope=col>knowledge_score</th><th scope=col>calcium_intake</th></tr>\n",
       "\t<tr><th></th><th scope=col>&lt;dbl&gt;</th><th scope=col>&lt;dbl&gt;</th><th scope=col>&lt;dbl&gt;</th></tr>\n",
       "</thead>\n",
       "<tbody>\n",
       "\t<tr><th scope=row>1</th><td>1</td><td>1.0</td><td>0.450</td></tr>\n",
       "\t<tr><th scope=row>2</th><td>2</td><td>4.2</td><td>1.050</td></tr>\n",
       "\t<tr><th scope=row>3</th><td>3</td><td>3.8</td><td>0.900</td></tr>\n",
       "\t<tr><th scope=row>4</th><td>4</td><td>1.5</td><td>0.525</td></tr>\n",
       "\t<tr><th scope=row>5</th><td>5</td><td>2.2</td><td>0.710</td></tr>\n",
       "\t<tr><th scope=row>6</th><td>6</td><td>3.2</td><td>0.854</td></tr>\n",
       "</tbody>\n",
       "</table>\n"
      ],
      "text/latex": [
       "A data.frame: 6 × 3\n",
       "\\begin{tabular}{r|lll}\n",
       "  & response\\_number & knowledge\\_score & calcium\\_intake\\\\\n",
       "  & <dbl> & <dbl> & <dbl>\\\\\n",
       "\\hline\n",
       "\t1 & 1 & 1.0 & 0.450\\\\\n",
       "\t2 & 2 & 4.2 & 1.050\\\\\n",
       "\t3 & 3 & 3.8 & 0.900\\\\\n",
       "\t4 & 4 & 1.5 & 0.525\\\\\n",
       "\t5 & 5 & 2.2 & 0.710\\\\\n",
       "\t6 & 6 & 3.2 & 0.854\\\\\n",
       "\\end{tabular}\n"
      ],
      "text/markdown": [
       "\n",
       "A data.frame: 6 × 3\n",
       "\n",
       "| <!--/--> | response_number &lt;dbl&gt; | knowledge_score &lt;dbl&gt; | calcium_intake &lt;dbl&gt; |\n",
       "|---|---|---|---|\n",
       "| 1 | 1 | 1.0 | 0.450 |\n",
       "| 2 | 2 | 4.2 | 1.050 |\n",
       "| 3 | 3 | 3.8 | 0.900 |\n",
       "| 4 | 4 | 1.5 | 0.525 |\n",
       "| 5 | 5 | 2.2 | 0.710 |\n",
       "| 6 | 6 | 3.2 | 0.854 |\n",
       "\n"
      ],
      "text/plain": [
       "  response_number knowledge_score calcium_intake\n",
       "1 1               1.0             0.450         \n",
       "2 2               4.2             1.050         \n",
       "3 3               3.8             0.900         \n",
       "4 4               1.5             0.525         \n",
       "5 5               2.2             0.710         \n",
       "6 6               3.2             0.854         "
      ]
     },
     "metadata": {},
     "output_type": "display_data"
    }
   ],
   "source": [
    "head(data)"
   ]
  },
  {
   "cell_type": "code",
   "execution_count": 4,
   "metadata": {},
   "outputs": [
    {
     "data": {
      "text/html": [
       "<table>\n",
       "<caption>A data.frame: 6 × 3</caption>\n",
       "<thead>\n",
       "\t<tr><th></th><th scope=col>response_number</th><th scope=col>knowledge_score</th><th scope=col>calcium_intake</th></tr>\n",
       "\t<tr><th></th><th scope=col>&lt;dbl&gt;</th><th scope=col>&lt;dbl&gt;</th><th scope=col>&lt;dbl&gt;</th></tr>\n",
       "</thead>\n",
       "<tbody>\n",
       "\t<tr><th scope=row>15</th><td>15</td><td>2.2</td><td>0.583</td></tr>\n",
       "\t<tr><th scope=row>16</th><td>16</td><td>4.5</td><td>0.850</td></tr>\n",
       "\t<tr><th scope=row>17</th><td>17</td><td>1.8</td><td>0.798</td></tr>\n",
       "\t<tr><th scope=row>18</th><td>18</td><td>2.4</td><td>0.754</td></tr>\n",
       "\t<tr><th scope=row>19</th><td>19</td><td>3.0</td><td>0.805</td></tr>\n",
       "\t<tr><th scope=row>20</th><td>20</td><td>4.3</td><td>1.085</td></tr>\n",
       "</tbody>\n",
       "</table>\n"
      ],
      "text/latex": [
       "A data.frame: 6 × 3\n",
       "\\begin{tabular}{r|lll}\n",
       "  & response\\_number & knowledge\\_score & calcium\\_intake\\\\\n",
       "  & <dbl> & <dbl> & <dbl>\\\\\n",
       "\\hline\n",
       "\t15 & 15 & 2.2 & 0.583\\\\\n",
       "\t16 & 16 & 4.5 & 0.850\\\\\n",
       "\t17 & 17 & 1.8 & 0.798\\\\\n",
       "\t18 & 18 & 2.4 & 0.754\\\\\n",
       "\t19 & 19 & 3.0 & 0.805\\\\\n",
       "\t20 & 20 & 4.3 & 1.085\\\\\n",
       "\\end{tabular}\n"
      ],
      "text/markdown": [
       "\n",
       "A data.frame: 6 × 3\n",
       "\n",
       "| <!--/--> | response_number &lt;dbl&gt; | knowledge_score &lt;dbl&gt; | calcium_intake &lt;dbl&gt; |\n",
       "|---|---|---|---|\n",
       "| 15 | 15 | 2.2 | 0.583 |\n",
       "| 16 | 16 | 4.5 | 0.850 |\n",
       "| 17 | 17 | 1.8 | 0.798 |\n",
       "| 18 | 18 | 2.4 | 0.754 |\n",
       "| 19 | 19 | 3.0 | 0.805 |\n",
       "| 20 | 20 | 4.3 | 1.085 |\n",
       "\n"
      ],
      "text/plain": [
       "   response_number knowledge_score calcium_intake\n",
       "15 15              2.2             0.583         \n",
       "16 16              4.5             0.850         \n",
       "17 17              1.8             0.798         \n",
       "18 18              2.4             0.754         \n",
       "19 19              3.0             0.805         \n",
       "20 20              4.3             1.085         "
      ]
     },
     "metadata": {},
     "output_type": "display_data"
    }
   ],
   "source": [
    "tail(data)"
   ]
  },
  {
   "cell_type": "code",
   "execution_count": 5,
   "metadata": {},
   "outputs": [
    {
     "name": "stdout",
     "output_type": "stream",
     "text": [
      "'data.frame':\t20 obs. of  3 variables:\n",
      " $ response_number: num  1 2 3 4 5 6 7 8 9 10 ...\n",
      " $ knowledge_score: num  1 4.2 3.8 1.5 2.2 3.2 4 1.4 2.6 3.2 ...\n",
      " $ calcium_intake : num  0.45 1.05 0.9 0.525 0.71 0.854 0.8 0.493 0.73 0.894 ...\n"
     ]
    }
   ],
   "source": [
    "str(data)"
   ]
  },
  {
   "cell_type": "code",
   "execution_count": 6,
   "metadata": {},
   "outputs": [
    {
     "data": {
      "text/plain": [
       " response_number knowledge_score calcium_intake  \n",
       " Min.   : 1.00   Min.   :1.00    Min.   :0.4500  \n",
       " 1st Qu.: 5.75   1st Qu.:2.20    1st Qu.:0.7250  \n",
       " Median :10.50   Median :2.90    Median :0.7990  \n",
       " Mean   :10.50   Mean   :2.96    Mean   :0.7851  \n",
       " 3rd Qu.:15.25   3rd Qu.:3.85    3rd Qu.:0.8955  \n",
       " Max.   :20.00   Max.   :4.80    Max.   :1.0850  "
      ]
     },
     "metadata": {},
     "output_type": "display_data"
    }
   ],
   "source": [
    "summary(data)"
   ]
  },
  {
   "cell_type": "code",
   "execution_count": 8,
   "metadata": {},
   "outputs": [
    {
     "data": {
      "image/png": "[encoded data removed]",
      "text/plain": [
       "Plot with title \"Histogram of data$knowledge_score\""
      ]
     },
     "metadata": {
      "image/png": {
       "height": 420,
       "width": 420
      }
     },
     "output_type": "display_data"
    }
   ],
   "source": [
    "hist(data$knowledge_score, breaks=10)"
   ]
  },
  {
   "cell_type": "markdown",
   "metadata": {},
   "source": [
    "# Remarks:\n",
    "- The distribution is not a standard distribution\n",
    "- Mode of the distribution is around 2 ~ 2.5"
   ]
  },
  {
   "cell_type": "markdown",
   "metadata": {},
   "source": [
    "## Descriptive Statistics\n",
    "- knowledge_score"
   ]
  },
  {
   "cell_type": "code",
   "execution_count": 10,
   "metadata": {},
   "outputs": [
    {
     "data": {
      "text/html": [
       "2.96"
      ],
      "text/latex": [
       "2.96"
      ],
      "text/markdown": [
       "2.96"
      ],
      "text/plain": [
       "[1] 2.96"
      ]
     },
     "metadata": {},
     "output_type": "display_data"
    }
   ],
   "source": [
    "mean(data$knowledge_score)"
   ]
  },
  {
   "cell_type": "code",
   "execution_count": 11,
   "metadata": {},
   "outputs": [
    {
     "data": {
      "text/html": [
       "2.9"
      ],
      "text/latex": [
       "2.9"
      ],
      "text/markdown": [
       "2.9"
      ],
      "text/plain": [
       "[1] 2.9"
      ]
     },
     "metadata": {},
     "output_type": "display_data"
    }
   ],
   "source": [
    "median(data$knowledge_score)"
   ]
  },
  {
   "cell_type": "code",
   "execution_count": 18,
   "metadata": {},
   "outputs": [
    {
     "data": {
      "text/html": [
       "'numeric'"
      ],
      "text/latex": [
       "'numeric'"
      ],
      "text/markdown": [
       "'numeric'"
      ],
      "text/plain": [
       "[1] \"numeric\""
      ]
     },
     "metadata": {},
     "output_type": "display_data"
    }
   ],
   "source": [
    "mode(data$knowledge_score)"
   ]
  },
  {
   "cell_type": "code",
   "execution_count": 13,
   "metadata": {},
   "outputs": [
    {
     "data": {
      "text/html": [
       "4.8"
      ],
      "text/latex": [
       "4.8"
      ],
      "text/markdown": [
       "4.8"
      ],
      "text/plain": [
       "[1] 4.8"
      ]
     },
     "metadata": {},
     "output_type": "display_data"
    }
   ],
   "source": [
    "max(data$knowledge_score)"
   ]
  },
  {
   "cell_type": "code",
   "execution_count": 14,
   "metadata": {},
   "outputs": [
    {
     "data": {
      "text/html": [
       "1"
      ],
      "text/latex": [
       "1"
      ],
      "text/markdown": [
       "1"
      ],
      "text/plain": [
       "[1] 1"
      ]
     },
     "metadata": {},
     "output_type": "display_data"
    }
   ],
   "source": [
    "min(data$knowledge_score)"
   ]
  },
  {
   "cell_type": "code",
   "execution_count": 15,
   "metadata": {},
   "outputs": [
    {
     "data": {
      "text/html": [
       "<style>\n",
       ".list-inline {list-style: none; margin:0; padding: 0}\n",
       ".list-inline>li {display: inline-block}\n",
       ".list-inline>li:not(:last-child)::after {content: \"\\00b7\"; padding: 0 .5ex}\n",
       "</style>\n",
       "<ol class=list-inline><li>1</li><li>4.8</li></ol>\n"
      ],
      "text/latex": [
       "\\begin{enumerate*}\n",
       "\\item 1\n",
       "\\item 4.8\n",
       "\\end{enumerate*}\n"
      ],
      "text/markdown": [
       "1. 1\n",
       "2. 4.8\n",
       "\n",
       "\n"
      ],
      "text/plain": [
       "[1] 1.0 4.8"
      ]
     },
     "metadata": {},
     "output_type": "display_data"
    }
   ],
   "source": [
    "range(data$knowledge_score)"
   ]
  },
  {
   "cell_type": "markdown",
   "metadata": {},
   "source": [
    "- calcium_intake"
   ]
  },
  {
   "cell_type": "code",
   "execution_count": 19,
   "metadata": {},
   "outputs": [
    {
     "data": {
      "text/html": [
       "0.7851"
      ],
      "text/latex": [
       "0.7851"
      ],
      "text/markdown": [
       "0.7851"
      ],
      "text/plain": [
       "[1] 0.7851"
      ]
     },
     "metadata": {},
     "output_type": "display_data"
    }
   ],
   "source": [
    "mean(data$calcium_intake)"
   ]
  },
  {
   "cell_type": "code",
   "execution_count": 20,
   "metadata": {},
   "outputs": [
    {
     "data": {
      "text/html": [
       "0.799"
      ],
      "text/latex": [
       "0.799"
      ],
      "text/markdown": [
       "0.799"
      ],
      "text/plain": [
       "[1] 0.799"
      ]
     },
     "metadata": {},
     "output_type": "display_data"
    }
   ],
   "source": [
    "median(data$calcium_intake)"
   ]
  },
  {
   "cell_type": "code",
   "execution_count": 21,
   "metadata": {},
   "outputs": [
    {
     "data": {
      "text/html": [
       "'numeric'"
      ],
      "text/latex": [
       "'numeric'"
      ],
      "text/markdown": [
       "'numeric'"
      ],
      "text/plain": [
       "[1] \"numeric\""
      ]
     },
     "metadata": {},
     "output_type": "display_data"
    }
   ],
   "source": [
    "mode(data$calcium_intake)"
   ]
  },
  {
   "cell_type": "code",
   "execution_count": 22,
   "metadata": {},
   "outputs": [
    {
     "data": {
      "text/html": [
       "1.085"
      ],
      "text/latex": [
       "1.085"
      ],
      "text/markdown": [
       "1.085"
      ],
      "text/plain": [
       "[1] 1.085"
      ]
     },
     "metadata": {},
     "output_type": "display_data"
    }
   ],
   "source": [
    "max(data$calcium_intake)"
   ]
  },
  {
   "cell_type": "code",
   "execution_count": 23,
   "metadata": {},
   "outputs": [
    {
     "data": {
      "text/html": [
       "0.45"
      ],
      "text/latex": [
       "0.45"
      ],
      "text/markdown": [
       "0.45"
      ],
      "text/plain": [
       "[1] 0.45"
      ]
     },
     "metadata": {},
     "output_type": "display_data"
    }
   ],
   "source": [
    "min(data$calcium_intake)"
   ]
  },
  {
   "cell_type": "code",
   "execution_count": 24,
   "metadata": {},
   "outputs": [
    {
     "data": {
      "text/html": [
       "<style>\n",
       ".list-inline {list-style: none; margin:0; padding: 0}\n",
       ".list-inline>li {display: inline-block}\n",
       ".list-inline>li:not(:last-child)::after {content: \"\\00b7\"; padding: 0 .5ex}\n",
       "</style>\n",
       "<ol class=list-inline><li>0.45</li><li>1.085</li></ol>\n"
      ],
      "text/latex": [
       "\\begin{enumerate*}\n",
       "\\item 0.45\n",
       "\\item 1.085\n",
       "\\end{enumerate*}\n"
      ],
      "text/markdown": [
       "1. 0.45\n",
       "2. 1.085\n",
       "\n",
       "\n"
      ],
      "text/plain": [
       "[1] 0.450 1.085"
      ]
     },
     "metadata": {},
     "output_type": "display_data"
    }
   ],
   "source": [
    "range(data$calcium_intake)"
   ]
  },
  {
   "cell_type": "code",
   "execution_count": 28,
   "metadata": {},
   "outputs": [
    {
     "data": {
      "text/html": [
       "<style>\n",
       ".dl-inline {width: auto; margin:0; padding: 0}\n",
       ".dl-inline>dt, .dl-inline>dd {float: none; width: auto; display: inline-block}\n",
       ".dl-inline>dt::after {content: \":\\0020\"; padding-right: .5ex}\n",
       ".dl-inline>dt:not(:first-of-type) {padding-left: .5ex}\n",
       "</style><dl class=dl-inline><dt>20%</dt><dd>0.6846</dd><dt>35%</dt><dd>0.74665</dd><dt>65%</dt><dd>0.8514</dd><dt>90%</dt><dd>0.9915</dd></dl>\n"
      ],
      "text/latex": [
       "\\begin{description*}\n",
       "\\item[20\\textbackslash{}\\%] 0.6846\n",
       "\\item[35\\textbackslash{}\\%] 0.74665\n",
       "\\item[65\\textbackslash{}\\%] 0.8514\n",
       "\\item[90\\textbackslash{}\\%] 0.9915\n",
       "\\end{description*}\n"
      ],
      "text/markdown": [
       "20%\n",
       ":   0.684635%\n",
       ":   0.7466565%\n",
       ":   0.851490%\n",
       ":   0.9915\n",
       "\n"
      ],
      "text/plain": [
       "    20%     35%     65%     90% \n",
       "0.68460 0.74665 0.85140 0.99150 "
      ]
     },
     "metadata": {},
     "output_type": "display_data"
    }
   ],
   "source": [
    "calcium_intake_quantile = quantile(data$calcium_intake, c(0.2, 0.35, 0.65, 0.9))\n",
    "calcium_intake_quantile"
   ]
  },
  {
   "cell_type": "code",
   "execution_count": 30,
   "metadata": {},
   "outputs": [
    {
     "data": {
      "image/png": "[encoded data removed]",
      "text/plain": [
       "plot without title"
      ]
     },
     "metadata": {
      "image/png": {
       "height": 420,
       "width": 420
      }
     },
     "output_type": "display_data"
    }
   ],
   "source": [
    "plot(c(0.2, 0.35, 0.65, 0.9), calcium_intake_quantile, type='o')"
   ]
  },
  {
   "cell_type": "code",
   "execution_count": 31,
   "metadata": {},
   "outputs": [
    {
     "data": {
      "image/png": "[encoded data removed]",
      "text/plain": [
       "plot without title"
      ]
     },
     "metadata": {
      "image/png": {
       "height": 420,
       "width": 420
      }
     },
     "output_type": "display_data"
    }
   ],
   "source": [
    "boxplot(data$knowledge_score)"
   ]
  },
  {
   "cell_type": "markdown",
   "metadata": {},
   "source": [
    "- No outliers"
   ]
  },
  {
   "cell_type": "code",
   "execution_count": 32,
   "metadata": {},
   "outputs": [
    {
     "data": {
      "image/png": "[encoded data removed]",
      "text/plain": [
       "plot without title"
      ]
     },
     "metadata": {
      "image/png": {
       "height": 420,
       "width": 420
      }
     },
     "output_type": "display_data"
    }
   ],
   "source": [
    "boxplot(data$calcium_intake)"
   ]
  },
  {
   "cell_type": "markdown",
   "metadata": {},
   "source": [
    "- There is lower outliers"
   ]
  },
  {
   "cell_type": "code",
   "execution_count": 33,
   "metadata": {},
   "outputs": [
    {
     "ename": "ERROR",
     "evalue": "Error in outlier.replace(data$calcium_intake, value = mean): could not find function \"outlier.replace\"\n",
     "output_type": "error",
     "traceback": [
      "Error in outlier.replace(data$calcium_intake, value = mean): could not find function \"outlier.replace\"\nTraceback:\n"
     ]
    }
   ],
   "source": [
    "outlier.replace(data$calcium_intake, value=mean)"
   ]
  },
  {
   "cell_type": "code",
   "execution_count": null,
   "metadata": {},
   "outputs": [],
   "source": []
  }
 ],
 "metadata": {
  "kernelspec": {
   "display_name": "R",
   "language": "R",
   "name": "ir"
  },
  "language_info": {
   "codemirror_mode": "r",
   "file_extension": ".r",
   "mimetype": "text/x-r-source",
   "name": "R",
   "pygments_lexer": "r",
   "version": "4.0.2"
  }
 },
 "nbformat": 4,
 "nbformat_minor": 4
}
