{
 "cells": [
  {
   "cell_type": "code",
   "execution_count": 1,
   "metadata": {},
   "outputs": [],
   "source": [
    "# tinh bmi\n",
    "bmi.function = function(height, weight){\n",
    "    bmi = weight/(height*height)\n",
    "    # print(bmi)\n",
    "    return(bmi)\n",
    "}"
   ]
  },
  {
   "cell_type": "code",
   "execution_count": 2,
   "metadata": {},
   "outputs": [],
   "source": [
    "danh_gia_bmi.function = function(bmi){\n",
    "    result = ''\n",
    "    if(bmi<18.5){\n",
    "        result = 'Gay'       \n",
    "    }else if(bmi<25){\n",
    "        result = 'Binh thuong'\n",
    "    }else{\n",
    "        result = 'Thua can'\n",
    "    }\n",
    "    return(result)\n",
    "}"
   ]
  },
  {
   "cell_type": "code",
   "execution_count": 4,
   "metadata": {},
   "outputs": [
    {
     "name": "stdin",
     "output_type": "stream",
     "text": [
      "Input height (m): 1.70\n",
      "Input weight (kg): 64\n"
     ]
    },
    {
     "name": "stdout",
     "output_type": "stream",
     "text": [
      "[1] \"BMI: 22.1453287197232\"\n",
      "[1] \"Ket qua: Binh thuong\"\n"
     ]
    }
   ],
   "source": [
    "height = as.numeric(readline(prompt='Input height (m):'))\n",
    "weight = as.numeric(readline(prompt='Input weight (kg):'))\n",
    "\n",
    "bmi = bmi.function(height, weight)\n",
    "danh_gia = danh_gia_bmi.function(bmi)\n",
    "print(paste('BMI:', bmi))\n",
    "print(paste('Ket qua:', danh_gia))"
   ]
  },
  {
   "cell_type": "code",
   "execution_count": null,
   "metadata": {},
   "outputs": [],
   "source": []
  }
 ],
 "metadata": {
  "kernelspec": {
   "display_name": "R",
   "language": "R",
   "name": "ir"
  },
  "language_info": {
   "codemirror_mode": "r",
   "file_extension": ".r",
   "mimetype": "text/x-r-source",
   "name": "R",
   "pygments_lexer": "r",
   "version": "4.0.2"
  }
 },
 "nbformat": 4,
 "nbformat_minor": 4
}
