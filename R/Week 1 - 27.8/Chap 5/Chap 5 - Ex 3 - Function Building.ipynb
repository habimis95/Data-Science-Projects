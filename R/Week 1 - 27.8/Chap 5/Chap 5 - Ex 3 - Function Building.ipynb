{
 "cells": [
  {
   "cell_type": "code",
   "execution_count": 2,
   "metadata": {},
   "outputs": [],
   "source": [
    "# tao thu vien function de tai su dung khi can\n",
    "source('https://raw.githubusercontent.com/habimis95/R/master/function.R')"
   ]
  },
  {
   "cell_type": "code",
   "execution_count": 6,
   "metadata": {},
   "outputs": [
    {
     "name": "stdin",
     "output_type": "stream",
     "text": [
      "So kw tieu thu:  30\n"
     ]
    }
   ],
   "source": [
    "# Tinh tien dien\n",
    "so_kw = as.integer(readline(prompt='So kw tieu thu: '))"
   ]
  },
  {
   "cell_type": "code",
   "execution_count": 7,
   "metadata": {},
   "outputs": [
    {
     "name": "stdin",
     "output_type": "stream",
     "text": [
      "So kw tieu thu:  30\n"
     ]
    },
    {
     "name": "stdout",
     "output_type": "stream",
     "text": [
      "[1] \"Tien dien:  50340 VND\"\n"
     ]
    }
   ],
   "source": [
    "tien_dien = electricity_bill.function(so_kw)\n",
    "print(paste('Tien dien: ', tien_dien, 'VND'))"
   ]
  },
  {
   "cell_type": "code",
   "execution_count": 10,
   "metadata": {},
   "outputs": [
    {
     "name": "stdin",
     "output_type": "stream",
     "text": [
      "Nhap n: 3\n"
     ]
    }
   ],
   "source": [
    "# Kiem tra so nguyen to\n",
    "n = as.integer(readline(prompt='Nhap n:'))\n"
   ]
  },
  {
   "cell_type": "code",
   "execution_count": 11,
   "metadata": {},
   "outputs": [
    {
     "name": "stdin",
     "output_type": "stream",
     "text": [
      "Nhap n: 3\n"
     ]
    },
    {
     "name": "stdout",
     "output_type": "stream",
     "text": [
      "[1] \"3 is a prime number\"\n"
     ]
    }
   ],
   "source": [
    "test = prime_check.function(n)"
   ]
  },
  {
   "cell_type": "code",
   "execution_count": 4,
   "metadata": {},
   "outputs": [
    {
     "name": "stdin",
     "output_type": "stream",
     "text": [
      "Nhap 1 chon GO-BIKE, 2 chon GO-SEND:  1\n",
      "So km: 30\n"
     ]
    },
    {
     "name": "stdout",
     "output_type": "stream",
     "text": [
      "[1] \"Tien xe: 110800 VND\"\n",
      "[1] \"Tien xe:  110.800 VND\"\n"
     ]
    }
   ],
   "source": [
    "# tinh cuoc GO-BIKE\n",
    "\n",
    "cuoc = delivery_bill.function(chon_loai, km)"
   ]
  },
  {
   "cell_type": "code",
   "execution_count": null,
   "metadata": {},
   "outputs": [],
   "source": []
  },
  {
   "cell_type": "code",
   "execution_count": null,
   "metadata": {},
   "outputs": [],
   "source": []
  }
 ],
 "metadata": {
  "kernelspec": {
   "display_name": "R",
   "language": "R",
   "name": "ir"
  },
  "language_info": {
   "codemirror_mode": "r",
   "file_extension": ".r",
   "mimetype": "text/x-r-source",
   "name": "R",
   "pygments_lexer": "r",
   "version": "4.0.2"
  }
 },
 "nbformat": 4,
 "nbformat_minor": 4
}
