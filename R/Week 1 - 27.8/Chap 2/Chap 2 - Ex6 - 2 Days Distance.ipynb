{
 "cells": [
  {
   "cell_type": "code",
   "execution_count": 1,
   "metadata": {},
   "outputs": [
    {
     "name": "stdin",
     "output_type": "stream",
     "text": [
      "Input date: dd-mm-YYYY: 01-03-2020\n"
     ]
    }
   ],
   "source": [
    "date_1 = readline(prompt='Input date: dd-mm-YYYY:')\n",
    "date_1 = as.Date(date_1, format('%d-%m-%Y'))"
   ]
  },
  {
   "cell_type": "code",
   "execution_count": 2,
   "metadata": {},
   "outputs": [],
   "source": [
    "now_date=Sys.Date()\n",
    "distance = now_date - date_1"
   ]
  },
  {
   "cell_type": "code",
   "execution_count": 4,
   "metadata": {},
   "outputs": [
    {
     "name": "stdout",
     "output_type": "stream",
     "text": [
      "[1] \"Input date: 2020-03-01\"\n",
      "[1] \"Now: 2020-08-26\"\n",
      "[1] \"Distance between 2020-08-26 and 2020-03-01 is 178\"\n"
     ]
    }
   ],
   "source": [
    "print(paste('Input date:', date_1))\n",
    "print(paste('Now:', now_date))\n",
    "print(paste('Distance between', now_date, 'and', date_1, 'is', distance))"
   ]
  },
  {
   "cell_type": "code",
   "execution_count": null,
   "metadata": {},
   "outputs": [],
   "source": []
  }
 ],
 "metadata": {
  "kernelspec": {
   "display_name": "R",
   "language": "R",
   "name": "ir"
  },
  "language_info": {
   "codemirror_mode": "r",
   "file_extension": ".r",
   "mimetype": "text/x-r-source",
   "name": "R",
   "pygments_lexer": "r",
   "version": "4.0.2"
  }
 },
 "nbformat": 4,
 "nbformat_minor": 4
}
