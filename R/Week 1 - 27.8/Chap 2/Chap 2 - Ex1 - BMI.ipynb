{
 "cells": [
  {
   "cell_type": "code",
   "execution_count": 4,
   "metadata": {},
   "outputs": [
    {
     "name": "stdin",
     "output_type": "stream",
     "text": [
      "Enter name:  john\n",
      "Enter year of birth:  2000\n",
      "Enter weight(kg):  70\n",
      "Enter height(m):  1.75\n"
     ]
    }
   ],
   "source": [
    "name = readline(prompt='Enter name: ')\n",
    "\n",
    "birth_year = readline(prompt='Enter year of birth: ')\n",
    "birth_year = as.integer(birth_year)\n",
    "\n",
    "weight = readline(prompt='Enter weight(kg): ')\n",
    "weight = as.integer(weight)\n",
    "\n",
    "height = readline(prompt='Enter height(m): ')\n",
    "height = as.integer(height)\n",
    "\n",
    "bmi = weight/(height^2)"
   ]
  },
  {
   "cell_type": "code",
   "execution_count": 5,
   "metadata": {},
   "outputs": [
    {
     "name": "stdout",
     "output_type": "stream",
     "text": [
      "[1] \"Name:  john , Year of Birth:  2000\"\n",
      "[1] \"Height:  1 (m), Weight:  70 (kg), BMI:  70\"\n"
     ]
    }
   ],
   "source": [
    "print(paste('Name: ',name, ', Year of Birth: ', birth_year))\n",
    "print(paste('Height: ',round(height,2), '(m), Weight: ', round(weight,2), '(kg), BMI: ', round(bmi,2)))"
   ]
  },
  {
   "cell_type": "code",
   "execution_count": null,
   "metadata": {},
   "outputs": [],
   "source": []
  }
 ],
 "metadata": {
  "kernelspec": {
   "display_name": "R",
   "language": "R",
   "name": "ir"
  },
  "language_info": {
   "codemirror_mode": "r",
   "file_extension": ".r",
   "mimetype": "text/x-r-source",
   "name": "R",
   "pygments_lexer": "r",
   "version": "4.0.2"
  }
 },
 "nbformat": 4,
 "nbformat_minor": 4
}
