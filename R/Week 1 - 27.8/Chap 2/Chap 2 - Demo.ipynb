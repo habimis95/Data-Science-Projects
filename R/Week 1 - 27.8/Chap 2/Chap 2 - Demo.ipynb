{
 "cells": [
  {
   "cell_type": "code",
   "execution_count": 1,
   "metadata": {},
   "outputs": [
    {
     "name": "stdout",
     "output_type": "stream",
     "text": [
      "[1] \"character\"\n"
     ]
    }
   ],
   "source": [
    "fruit <- c('aaplel','pear','orange','banana')\n",
    "print(class(fruit))"
   ]
  },
  {
   "cell_type": "markdown",
   "metadata": {},
   "source": [
    "# Factor"
   ]
  },
  {
   "cell_type": "code",
   "execution_count": 3,
   "metadata": {},
   "outputs": [
    {
     "name": "stdout",
     "output_type": "stream",
     "text": [
      "[1] green  green  yellow red    red    red    green  white \n",
      "Levels: green red white yellow\n",
      "[1] 4\n"
     ]
    }
   ],
   "source": [
    "# Create a vector\n",
    "apple_colors <- c('green','green','yellow','red','red','red','green','white')\n",
    "# Create a factor object\n",
    "factor_apple <- factor(apple_colors)\n",
    "# Print the factor\n",
    "print(factor_apple)\n",
    "print(nlevels(factor_apple))"
   ]
  },
  {
   "cell_type": "markdown",
   "metadata": {},
   "source": [
    "# List"
   ]
  },
  {
   "cell_type": "code",
   "execution_count": null,
   "metadata": {},
   "outputs": [],
   "source": []
  },
  {
   "cell_type": "markdown",
   "metadata": {},
   "source": [
    "# Matrix"
   ]
  },
  {
   "cell_type": "code",
   "execution_count": 4,
   "metadata": {},
   "outputs": [
    {
     "name": "stdout",
     "output_type": "stream",
     "text": [
      "     [,1] [,2] [,3] [,4]\n",
      "[1,]    1    2    3    4\n",
      "[2,]    5    6    7    8\n",
      "     [,1] [,2] [,3]\n",
      "[1,]    1    4    7\n",
      "[2,]    2    5    8\n",
      "[3,]    3    6    9\n"
     ]
    }
   ],
   "source": [
    "M = matrix(c(1,2,3,4,5,6,7,8), nrow = 2, ncol = 4, byrow=TRUE)\n",
    "print(M)\n",
    "M = matrix(c(1,2,3,4,5,6,7,8,9), nrow = 3)\n",
    "print(M)"
   ]
  },
  {
   "cell_type": "markdown",
   "metadata": {},
   "source": [
    "# Array\n",
    " - R viết: số dòng, cố cột, số ma trận\n",
    " - Python: số ma trận, số dòng , số cột"
   ]
  },
  {
   "cell_type": "code",
   "execution_count": 6,
   "metadata": {},
   "outputs": [
    {
     "name": "stdout",
     "output_type": "stream",
     "text": [
      ", , 1\n",
      "\n",
      "     [,1]     [,2]    \n",
      "[1,] \"red\"    \"red\"   \n",
      "[2,] \"green\"  \"green\" \n",
      "[3,] \"yellow\" \"yellow\"\n",
      "\n",
      ", , 2\n",
      "\n",
      "     [,1]     [,2]    \n",
      "[1,] \"red\"    \"red\"   \n",
      "[2,] \"green\"  \"green\" \n",
      "[3,] \"yellow\" \"yellow\"\n",
      "\n",
      ", , 3\n",
      "\n",
      "     [,1]     [,2]    \n",
      "[1,] \"red\"    \"red\"   \n",
      "[2,] \"green\"  \"green\" \n",
      "[3,] \"yellow\" \"yellow\"\n",
      "\n"
     ]
    }
   ],
   "source": [
    "a <- array(c('red','green','yellow'),dim=c(3,2,3))\n",
    "print(a)"
   ]
  },
  {
   "cell_type": "markdown",
   "metadata": {},
   "source": [
    "# Data Frame"
   ]
  },
  {
   "cell_type": "code",
   "execution_count": 8,
   "metadata": {},
   "outputs": [
    {
     "name": "stdout",
     "output_type": "stream",
     "text": [
      "  gender height weight age\n",
      "1   Male  152.0     81  42\n",
      "2   Male  171.5     93  38\n",
      "3 Female  165.0     78  26\n"
     ]
    }
   ],
   "source": [
    "# Create the data Frame\n",
    "BMI <- data.frame(\n",
    "gender = c('Male','Male','Female'),\n",
    "height = c(152,171.5,165),\n",
    "weight = c(81,93,78),\n",
    "age = c(42,38,26))\n",
    "print(BMI)"
   ]
  },
  {
   "cell_type": "markdown",
   "metadata": {},
   "source": [
    "# Variables"
   ]
  },
  {
   "cell_type": "code",
   "execution_count": 13,
   "metadata": {},
   "outputs": [
    {
     "name": "stdout",
     "output_type": "stream",
     "text": [
      "[1] \"red\"   \"green\" \"blue\" \n",
      "[1] 10.0 15.5  7.0\n",
      "[1]  TRUE FALSE  TRUE  TRUE\n"
     ]
    }
   ],
   "source": [
    "# cach 1\n",
    "colors <- c('red','green','blue')\n",
    "print(colors)\n",
    "# cach 2\n",
    "numbers = c(10,15.5,7)\n",
    "print(numbers)\n",
    "# cach 3 \n",
    "c(TRUE,FALSE,TRUE,TRUE) -> pass\n",
    "print(pass)"
   ]
  },
  {
   "cell_type": "code",
   "execution_count": 11,
   "metadata": {},
   "outputs": [
    {
     "data": {
      "text/html": [
       "\n",
       "<table width=\"100%\" summary=\"page for Reserved {base}\"><tr><td>Reserved {base}</td><td style=\"text-align: right;\">R Documentation</td></tr></table>\n",
       "\n",
       "<h2>Reserved Words in R</h2>\n",
       "\n",
       "<h3>Description</h3>\n",
       "\n",
       "<p>The reserved words in <span style=\"font-family: Courier New, Courier; color: #666666;\"><b>R</b></span>'s parser are\n",
       "</p>\n",
       "<p><code>if</code> <code>else</code> <code>repeat</code> <code>while</code>\n",
       "<code>function</code> <code>for</code> <code>in</code>\n",
       "<code>next</code> <code>break</code>\n",
       "</p>\n",
       "<p><code>TRUE</code> <code>FALSE</code> <code>NULL</code>\n",
       "<code>Inf</code> <code>NaN</code>\n",
       "<code>NA</code> <code>NA_integer_</code> <code>NA_real_</code>\n",
       "<code>NA_complex_</code> <code>NA_character_</code>\n",
       "</p>\n",
       "<p><code>...</code> and <code>..1</code>, <code>..2</code> etc, which are used to refer to\n",
       "arguments passed down from a calling function, see <code>...</code>.\n",
       "</p>\n",
       "\n",
       "\n",
       "<h3>Details</h3>\n",
       "\n",
       "<p>Reserved words outside quotes are always parsed to be\n",
       "references to the objects linked to in the &lsquo;Description&rsquo;, and\n",
       "hence they are not allowed as syntactic names (see\n",
       "<code>make.names</code>).  They <b>are</b> allowed as non-syntactic\n",
       "names, e.g. inside backtick quotes.\n",
       "</p>\n",
       "\n",
       "<hr /><div style=\"text-align: center;\">[Package <em>base</em> version 4.0.2 ]</div>"
      ],
      "text/latex": [
       "\\inputencoding{utf8}\n",
       "\\HeaderA{Reserved}{Reserved Words in R}{Reserved}\n",
       "\\aliasA{reserved}{Reserved}{reserved}\n",
       "\\keyword{programming}{Reserved}\n",
       "\\keyword{documentation}{Reserved}\n",
       "%\n",
       "\\begin{Description}\\relax\n",
       "The reserved words in \\R{}'s parser are\n",
       "\n",
       "\\code{\\LinkA{if}{if}} \\code{\\LinkA{else}{else}} \\code{\\LinkA{repeat}{repeat}} \\code{\\LinkA{while}{while}}\n",
       "\\code{\\LinkA{function}{function}} \\code{\\LinkA{for}{for}} \\code{in}\n",
       "\\code{\\LinkA{next}{next}} \\code{\\LinkA{break}{break}}\n",
       "\n",
       "\\code{\\LinkA{TRUE}{TRUE}} \\code{\\LinkA{FALSE}{FALSE}} \\code{\\LinkA{NULL}{NULL}}\n",
       "\\code{\\LinkA{Inf}{Inf}} \\code{\\LinkA{NaN}{NaN}}\n",
       "\\code{\\LinkA{NA}{NA}} \\code{\\LinkA{NA\\_integer\\_}{NA.Rul.integer.Rul.}} \\code{\\LinkA{NA\\_real\\_}{NA.Rul.real.Rul.}}\n",
       "\\code{\\LinkA{NA\\_complex\\_}{NA.Rul.complex.Rul.}} \\code{\\LinkA{NA\\_character\\_}{NA.Rul.character.Rul.}}\n",
       "\n",
       "\\code{...} and \\code{..1}, \\code{..2} etc, which are used to refer to\n",
       "arguments passed down from a calling function, see \\code{\\LinkA{...}{...}}.\n",
       "\\end{Description}\n",
       "%\n",
       "\\begin{Details}\\relax\n",
       "Reserved words outside \\LinkA{quotes}{Quotes} are always parsed to be\n",
       "references to the objects linked to in the `Description', and\n",
       "hence they are not allowed as syntactic names (see\n",
       "\\code{\\LinkA{make.names}{make.names}}).  They \\bold{are} allowed as non-syntactic\n",
       "names, e.g.~inside \\LinkA{backtick}{backtick} quotes.\n",
       "\\end{Details}"
      ],
      "text/plain": [
       "Reserved                 package:base                  R Documentation\n",
       "\n",
       "_\bR_\be_\bs_\be_\br_\bv_\be_\bd _\bW_\bo_\br_\bd_\bs _\bi_\bn _\bR\n",
       "\n",
       "_\bD_\be_\bs_\bc_\br_\bi_\bp_\bt_\bi_\bo_\bn:\n",
       "\n",
       "     The reserved words in R's parser are\n",
       "\n",
       "     'if' 'else' 'repeat' 'while' 'function' 'for' 'in' 'next' 'break'\n",
       "\n",
       "     'TRUE' 'FALSE' 'NULL' 'Inf' 'NaN' 'NA' 'NA_integer_' 'NA_real_'\n",
       "     'NA_complex_' 'NA_character_'\n",
       "\n",
       "     '...' and '..1', '..2' etc, which are used to refer to arguments\n",
       "     passed down from a calling function, see '...'.\n",
       "\n",
       "_\bD_\be_\bt_\ba_\bi_\bl_\bs:\n",
       "\n",
       "     Reserved words outside quotes are always parsed to be references\n",
       "     to the objects linked to in the 'Description', and hence they are\n",
       "     not allowed as syntactic names (see 'make.names').  They *are*\n",
       "     allowed as non-syntactic names, e.g. inside backtick quotes.\n"
      ]
     },
     "metadata": {},
     "output_type": "display_data"
    }
   ],
   "source": [
    "?reserved"
   ]
  },
  {
   "cell_type": "code",
   "execution_count": 14,
   "metadata": {},
   "outputs": [
    {
     "name": "stdout",
     "output_type": "stream",
     "text": [
      "[1] \"a\"            \"apple_colors\" \"BMI\"          \"colors\"       \"factor_apple\"\n",
      "[6] \"fruit\"        \"M\"            \"numbers\"      \"pass\"        \n"
     ]
    }
   ],
   "source": [
    "print(ls())"
   ]
  },
  {
   "cell_type": "markdown",
   "metadata": {},
   "source": [
    "# Operators"
   ]
  },
  {
   "cell_type": "code",
   "execution_count": 15,
   "metadata": {},
   "outputs": [
    {
     "name": "stdout",
     "output_type": "stream",
     "text": [
      "[1] 3.0 6.5 7.0\n"
     ]
    }
   ],
   "source": [
    "# Arithmetic Operators\n",
    "v <- c(2,5.5,6)\n",
    "t <- c(8,3,4)\n",
    "print(v+1)"
   ]
  },
  {
   "cell_type": "code",
   "execution_count": 16,
   "metadata": {},
   "outputs": [
    {
     "name": "stdout",
     "output_type": "stream",
     "text": [
      "[1] -6.0  2.5  2.0\n"
     ]
    }
   ],
   "source": [
    "print(v-t)"
   ]
  },
  {
   "cell_type": "code",
   "execution_count": 17,
   "metadata": {},
   "outputs": [
    {
     "name": "stdout",
     "output_type": "stream",
     "text": [
      "[1] 0.250000 1.833333 1.500000\n"
     ]
    }
   ],
   "source": [
    "print(v/t)"
   ]
  },
  {
   "cell_type": "code",
   "execution_count": 18,
   "metadata": {},
   "outputs": [
    {
     "name": "stdout",
     "output_type": "stream",
     "text": [
      "[1] 2.0 2.5 2.0\n"
     ]
    }
   ],
   "source": [
    "print(v%%t)"
   ]
  },
  {
   "cell_type": "code",
   "execution_count": 19,
   "metadata": {},
   "outputs": [
    {
     "name": "stdout",
     "output_type": "stream",
     "text": [
      "[1] 0 1 1\n"
     ]
    }
   ],
   "source": [
    "\n",
    "print(v%/%t)"
   ]
  },
  {
   "cell_type": "code",
   "execution_count": 20,
   "metadata": {},
   "outputs": [
    {
     "name": "stdout",
     "output_type": "stream",
     "text": [
      "[1]  256.000  166.375 1296.000\n"
     ]
    }
   ],
   "source": [
    "print(v^t)"
   ]
  },
  {
   "cell_type": "code",
   "execution_count": 21,
   "metadata": {},
   "outputs": [
    {
     "name": "stdout",
     "output_type": "stream",
     "text": [
      "[1] FALSE  TRUE  TRUE\n"
     ]
    }
   ],
   "source": [
    "print(v>t)"
   ]
  },
  {
   "cell_type": "markdown",
   "metadata": {},
   "source": [
    "# Nhập"
   ]
  },
  {
   "cell_type": "code",
   "execution_count": 26,
   "metadata": {},
   "outputs": [
    {
     "name": "stdin",
     "output_type": "stream",
     "text": [
      "Enter name: Tran Hai Binh\n"
     ]
    }
   ],
   "source": [
    "name <- readline(prompt = 'Enter name:')"
   ]
  },
  {
   "cell_type": "code",
   "execution_count": 30,
   "metadata": {},
   "outputs": [
    {
     "name": "stdin",
     "output_type": "stream",
     "text": [
      "Enter age: 25\n"
     ]
    },
    {
     "ename": "ERROR",
     "evalue": "Error in as.interger(age): could not find function \"as.interger\"\n",
     "output_type": "error",
     "traceback": [
      "Error in as.interger(age): could not find function \"as.interger\"\nTraceback:\n"
     ]
    }
   ],
   "source": [
    "age = readline(prompt='Enter age:') \n",
    "age = as.interger(age)"
   ]
  },
  {
   "cell_type": "code",
   "execution_count": 31,
   "metadata": {},
   "outputs": [
    {
     "ename": "ERROR",
     "evalue": "Error in as.interger(readline(age)): could not find function \"as.interger\"\n",
     "output_type": "error",
     "traceback": [
      "Error in as.interger(readline(age)): could not find function \"as.interger\"\nTraceback:\n"
     ]
    }
   ],
   "source": [
    "age = as.interger(readline(age))"
   ]
  },
  {
   "cell_type": "markdown",
   "metadata": {},
   "source": [
    "# Xuất"
   ]
  },
  {
   "cell_type": "code",
   "execution_count": 33,
   "metadata": {},
   "outputs": [
    {
     "name": "stdout",
     "output_type": "stream",
     "text": [
      "[1] \"Export\"\n"
     ]
    }
   ],
   "source": [
    "print('Export')"
   ]
  },
  {
   "cell_type": "code",
   "execution_count": 34,
   "metadata": {},
   "outputs": [
    {
     "name": "stdout",
     "output_type": "stream",
     "text": [
      "colors are  red green blue \n"
     ]
    }
   ],
   "source": [
    "colors = c('red','green','blue')\n",
    "cat('colors are ', colors,'\\n')"
   ]
  },
  {
   "cell_type": "markdown",
   "metadata": {},
   "source": [
    "# String"
   ]
  },
  {
   "cell_type": "code",
   "execution_count": 35,
   "metadata": {},
   "outputs": [],
   "source": [
    "a = 'onee'\n",
    "b = 'two'\n",
    "c = 'three'"
   ]
  },
  {
   "cell_type": "code",
   "execution_count": 36,
   "metadata": {},
   "outputs": [
    {
     "name": "stdout",
     "output_type": "stream",
     "text": [
      "[1] \"onee two three\"\n"
     ]
    }
   ],
   "source": [
    "print(paste(a,b,c))"
   ]
  },
  {
   "cell_type": "code",
   "execution_count": 37,
   "metadata": {},
   "outputs": [
    {
     "name": "stdout",
     "output_type": "stream",
     "text": [
      "[1] \"onee-two-three\"\n"
     ]
    }
   ],
   "source": [
    "print(paste(a,b,c, sep = '-'))"
   ]
  },
  {
   "cell_type": "code",
   "execution_count": 38,
   "metadata": {},
   "outputs": [
    {
     "name": "stdout",
     "output_type": "stream",
     "text": [
      "[1] \"oneetwothree\"\n"
     ]
    }
   ],
   "source": [
    "print(paste(a,b,c, sep = ''))"
   ]
  },
  {
   "cell_type": "code",
   "execution_count": 39,
   "metadata": {},
   "outputs": [
    {
     "name": "stdout",
     "output_type": "stream",
     "text": [
      "[1] \"THIS IS A STRING\"\n",
      "[1] \"this is a string\"\n",
      "[1] 16\n"
     ]
    }
   ],
   "source": [
    "s = 'This is a string'\n",
    "print(toupper(s))\n",
    "print(tolower(s))\n",
    "print(nchar(s))"
   ]
  },
  {
   "cell_type": "code",
   "execution_count": 40,
   "metadata": {},
   "outputs": [
    {
     "name": "stdout",
     "output_type": "stream",
     "text": [
      "[1] \"Today-is-a-NEw-year-day\"\n"
     ]
    }
   ],
   "source": [
    "s1 = 'Today is a NEw year day'\n",
    "print(chartr(' ','-', s1))"
   ]
  },
  {
   "cell_type": "code",
   "execution_count": 41,
   "metadata": {},
   "outputs": [
    {
     "name": "stdout",
     "output_type": "stream",
     "text": [
      "[1] \"Today is a NEw year day\"\n"
     ]
    }
   ],
   "source": [
    "print(s1)"
   ]
  },
  {
   "cell_type": "code",
   "execution_count": 42,
   "metadata": {},
   "outputs": [
    {
     "name": "stdout",
     "output_type": "stream",
     "text": [
      "[1] \"Today\" \"is\"    \"a\"     \"NEw\"   \"year\"  \"day\"  \n"
     ]
    }
   ],
   "source": [
    "character_list = strsplit(s1,' ')\n",
    "word_list = unlist(character_list)\n",
    "print(word_list)"
   ]
  },
  {
   "cell_type": "code",
   "execution_count": 43,
   "metadata": {},
   "outputs": [
    {
     "name": "stdout",
     "output_type": "stream",
     "text": [
      "[1] \"Today\" \"is\"    \"a\"     \"NEw\"   \"year\"  \"day\"  \n",
      "[1] \"a\"     \"day\"   \"is\"    \"NEw\"   \"Today\" \"year\" \n"
     ]
    }
   ],
   "source": [
    "print(word_list)\n",
    "sorted_list = sort(word_list)\n",
    "print(sorted_list)"
   ]
  },
  {
   "cell_type": "code",
   "execution_count": 44,
   "metadata": {},
   "outputs": [
    {
     "name": "stdout",
     "output_type": "stream",
     "text": [
      "[1] \"Sat Aug 22 10:49:51 2020\"\n"
     ]
    }
   ],
   "source": [
    "print(date())"
   ]
  },
  {
   "cell_type": "code",
   "execution_count": 45,
   "metadata": {},
   "outputs": [
    {
     "name": "stdout",
     "output_type": "stream",
     "text": [
      "[1] \"2020-08-22\"\n"
     ]
    }
   ],
   "source": [
    "print(Sys.Date())"
   ]
  },
  {
   "cell_type": "code",
   "execution_count": 46,
   "metadata": {},
   "outputs": [
    {
     "name": "stdout",
     "output_type": "stream",
     "text": [
      "[1] \"20-10-2018\"\n",
      "[1] \"2018-10-20\"\n"
     ]
    }
   ],
   "source": [
    "d1 = '20-10-2018'\n",
    "print(d1)\n",
    "print(as.Date('20/10/2018', format('%d/%m/%Y')))"
   ]
  },
  {
   "cell_type": "code",
   "execution_count": 47,
   "metadata": {},
   "outputs": [
    {
     "name": "stdout",
     "output_type": "stream",
     "text": [
      "[1] \"August 22 2020\"\n"
     ]
    }
   ],
   "source": [
    "print(format(Sys.Date(), format='%B %d %Y'))"
   ]
  },
  {
   "cell_type": "code",
   "execution_count": 48,
   "metadata": {},
   "outputs": [
    {
     "name": "stdout",
     "output_type": "stream",
     "text": [
      "Time difference of 964 days\n"
     ]
    },
    {
     "data": {
      "text/plain": [
       "Time difference of 137.7143 weeks"
      ]
     },
     "metadata": {},
     "output_type": "display_data"
    }
   ],
   "source": [
    "distance = Sys.Date() - as.Date('2018-01-01')\n",
    "print(distance)\n",
    "difftime(Sys.Date(), as.Date('2018-01-01'),units='weeks')"
   ]
  },
  {
   "cell_type": "code",
   "execution_count": null,
   "metadata": {},
   "outputs": [],
   "source": []
  }
 ],
 "metadata": {
  "kernelspec": {
   "display_name": "R",
   "language": "R",
   "name": "ir"
  },
  "language_info": {
   "codemirror_mode": "r",
   "file_extension": ".r",
   "mimetype": "text/x-r-source",
   "name": "R",
   "pygments_lexer": "r",
   "version": "4.0.2"
  }
 },
 "nbformat": 4,
 "nbformat_minor": 4
}
