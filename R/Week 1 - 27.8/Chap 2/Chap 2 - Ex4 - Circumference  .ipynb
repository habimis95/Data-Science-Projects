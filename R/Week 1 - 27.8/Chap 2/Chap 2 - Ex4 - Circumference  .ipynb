{
 "cells": [
  {
   "cell_type": "code",
   "execution_count": 5,
   "metadata": {},
   "outputs": [
    {
     "name": "stdin",
     "output_type": "stream",
     "text": [
      "Input S of circle:  10\n"
     ]
    }
   ],
   "source": [
    "S = readline(prompt='Input S of circle: ')\n",
    "S = as.double(s)"
   ]
  },
  {
   "cell_type": "code",
   "execution_count": 6,
   "metadata": {},
   "outputs": [],
   "source": [
    "PI = 3.14\n",
    "\n",
    "R = sqrt(S/PI)\n",
    "P = 2 * PI * R"
   ]
  },
  {
   "cell_type": "code",
   "execution_count": 7,
   "metadata": {},
   "outputs": [
    {
     "name": "stdout",
     "output_type": "stream",
     "text": [
      "[1] \"R of circle: 1.78\"\n",
      "[1] \"P of circle: 11.21\"\n"
     ]
    }
   ],
   "source": [
    "print(paste('R of circle:',round(R,2)))\n",
    "print(paste('P of circle:',round(P,2)))"
   ]
  },
  {
   "cell_type": "code",
   "execution_count": null,
   "metadata": {},
   "outputs": [],
   "source": []
  }
 ],
 "metadata": {
  "kernelspec": {
   "display_name": "R",
   "language": "R",
   "name": "ir"
  },
  "language_info": {
   "codemirror_mode": "r",
   "file_extension": ".r",
   "mimetype": "text/x-r-source",
   "name": "R",
   "pygments_lexer": "r",
   "version": "4.0.2"
  }
 },
 "nbformat": 4,
 "nbformat_minor": 4
}
