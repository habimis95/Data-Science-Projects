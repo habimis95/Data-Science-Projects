{
 "cells": [
  {
   "cell_type": "code",
   "execution_count": 1,
   "metadata": {},
   "outputs": [
    {
     "name": "stdin",
     "output_type": "stream",
     "text": [
      "Input your date dd-mm-YYYY: 03-03-2020\n"
     ]
    }
   ],
   "source": [
    "date_str = readline(prompt='Input your date dd-mm-YYYY:')\n",
    "date_1 = as.Date(date_str, format('%d-%m-%Y'))"
   ]
  },
  {
   "cell_type": "code",
   "execution_count": 6,
   "metadata": {},
   "outputs": [
    {
     "name": "stdout",
     "output_type": "stream",
     "text": [
      "[1] \"2020-03-03 is Tuesday\"\n",
      "[1] \"7 continuing days: 2020-03-03, 2020-03-04, 2020-03-05, 2020-03-06, 2020-03-07, 2020-03-08, 2020-03-09\"\n"
     ]
    }
   ],
   "source": [
    "if(is.na(date_1)){\n",
    "    print(paste(date_str,'Can not create a date'))\n",
    "}else{\n",
    "    print(paste(date_1,'is',weekdays.Date(date_1)))\n",
    "    seven_days = seq(date_1, length=7, by=1)\n",
    "    print(paste('7 continuing days:', toString(seven_days)))\n",
    "}"
   ]
  },
  {
   "cell_type": "code",
   "execution_count": null,
   "metadata": {},
   "outputs": [],
   "source": []
  }
 ],
 "metadata": {
  "kernelspec": {
   "display_name": "R",
   "language": "R",
   "name": "ir"
  },
  "language_info": {
   "codemirror_mode": "r",
   "file_extension": ".r",
   "mimetype": "text/x-r-source",
   "name": "R",
   "pygments_lexer": "r",
   "version": "4.0.2"
  }
 },
 "nbformat": 4,
 "nbformat_minor": 4
}
