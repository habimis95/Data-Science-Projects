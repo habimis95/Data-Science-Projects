{
 "cells": [
  {
   "cell_type": "code",
   "execution_count": 1,
   "metadata": {},
   "outputs": [
    {
     "name": "stdin",
     "output_type": "stream",
     "text": [
      "Input s1: This is R programming language\n",
      "Input s2: for Data Science\n",
      "Input s3: and Machine Learning\n",
      "Input index: 10\n",
      "Find_string: language\n",
      "Replace_string: LANGUAGE\n"
     ]
    }
   ],
   "source": [
    "str1 = readline(prompt='Input s1:')\n",
    "str2 = readline(prompt='Input s2:')\n",
    "str3 = readline(prompt='Input s3:')\n",
    "\n",
    "index = as.integer(readline(prompt='Input index:'))\n",
    "str_find = readline(prompt='Find_string:')\n",
    "str_replace = readline(prompt='Replace_string:')"
   ]
  },
  {
   "cell_type": "code",
   "execution_count": 2,
   "metadata": {},
   "outputs": [],
   "source": [
    "str4 = substring(str1, index)\n",
    "str5 = substring(str1,1,index)\n",
    "\n",
    "# thay the 1 chuoi voi 1 chuoi dau tien thoa\n",
    "str_new = sub(str_find,str_replace,str1)\n",
    "\n",
    "#thay the 1 chuoi cho tat ca cac chuoi thoa\n",
    "str_new = gsub(str_find,str_replace,str1)"
   ]
  },
  {
   "cell_type": "code",
   "execution_count": 3,
   "metadata": {},
   "outputs": [
    {
     "name": "stdout",
     "output_type": "stream",
     "text": [
      "[1] \"str4 (index ->):  programming language\"\n",
      "[1] \"str5 (-> index): This is R \"\n",
      "[1] \"Lenght of str1: 30 , Lenght of str2 16 , Lenght of str3 20\"\n",
      "[1] \"After replace: This is R programming LANGUAGE\"\n"
     ]
    }
   ],
   "source": [
    "print(paste('str4 (index ->):', str4))\n",
    "print(paste('str5 (-> index):', str5))\n",
    "\n",
    "print(paste('Lenght of str1:', nchar(str1),\n",
    "            ', Lenght of str2', nchar(str2),\n",
    "            ', Lenght of str3', nchar(str3)))\n",
    "\n",
    "print(paste('After replace:', str_new))"
   ]
  },
  {
   "cell_type": "code",
   "execution_count": null,
   "metadata": {},
   "outputs": [],
   "source": []
  }
 ],
 "metadata": {
  "kernelspec": {
   "display_name": "R",
   "language": "R",
   "name": "ir"
  },
  "language_info": {
   "codemirror_mode": "r",
   "file_extension": ".r",
   "mimetype": "text/x-r-source",
   "name": "R",
   "pygments_lexer": "r",
   "version": "4.0.2"
  }
 },
 "nbformat": 4,
 "nbformat_minor": 4
}
