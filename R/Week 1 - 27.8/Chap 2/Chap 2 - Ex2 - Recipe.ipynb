{
 "cells": [
  {
   "cell_type": "code",
   "execution_count": 1,
   "metadata": {},
   "outputs": [
    {
     "name": "stdin",
     "output_type": "stream",
     "text": [
      "Total of foods and drinks:  500000\n",
      "Tax (10-20 %):  10\n",
      "Tip (5-10 %): 5\n"
     ]
    }
   ],
   "source": [
    "lai_suat_nam = readline(prompt = 'Total of foods and drinks: ')\n",
    "sum_of_food_and_drink=as.integer(sum_of_food_and_drink)\n",
    "\n",
    "tax = readline(prompt = 'Tax (10-20 %): ')\n",
    "tax=as.integer(tax)\n",
    "\n",
    "tip = readline(prompt='Tip (5-10 %):')\n",
    "tip=as.integer(tip)"
   ]
  },
  {
   "cell_type": "code",
   "execution_count": 2,
   "metadata": {},
   "outputs": [],
   "source": [
    "tax.m = sum_of_food_and_drink* tax/100\n",
    "tip.m = sum_of_food_and_drink*tip/100\n",
    "\n",
    "total = sum_of_food_and_drink + tax.m + tip.m"
   ]
  },
  {
   "cell_type": "code",
   "execution_count": 4,
   "metadata": {},
   "outputs": [
    {
     "name": "stdout",
     "output_type": "stream",
     "text": [
      "[1] \"Total of foods and drinks:  500000 VND\"\n",
      "[1] \"tax 50000 VND\"\n",
      "[1] \"tip 25000 VND\"\n",
      "[1] \"You need to pay (total):  575000 VND\"\n"
     ]
    }
   ],
   "source": [
    "print(paste('Total of foods and drinks: ', sum_of_food_and_drink, 'VND'))\n",
    "print(paste('tax', tax.m, 'VND'))\n",
    "print(paste('tip', tip.m, 'VND'))\n",
    "print(paste('You need to pay (total): ', total, 'VND'))"
   ]
  },
  {
   "cell_type": "code",
   "execution_count": null,
   "metadata": {},
   "outputs": [],
   "source": []
  }
 ],
 "metadata": {
  "kernelspec": {
   "display_name": "R",
   "language": "R",
   "name": "ir"
  },
  "language_info": {
   "codemirror_mode": "r",
   "file_extension": ".r",
   "mimetype": "text/x-r-source",
   "name": "R",
   "pygments_lexer": "r",
   "version": "4.0.2"
  }
 },
 "nbformat": 4,
 "nbformat_minor": 4
}
