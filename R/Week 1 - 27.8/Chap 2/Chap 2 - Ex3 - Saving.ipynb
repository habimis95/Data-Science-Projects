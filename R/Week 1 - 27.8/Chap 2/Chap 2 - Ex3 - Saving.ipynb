{
 "cells": [
  {
   "cell_type": "code",
   "execution_count": 2,
   "metadata": {},
   "outputs": [
    {
     "name": "stdin",
     "output_type": "stream",
     "text": [
      "Input interest rate/year (%):  7\n",
      "Input amount of money:  10000000\n",
      "Input number of days:  265\n"
     ]
    }
   ],
   "source": [
    "lai_suat_nam = readline(prompt='Input interest rate/year (%): ')\n",
    "lai_suat_nam = as.integer(lai_suat_nam)\n",
    "\n",
    "so_tien = readline(prompt='Input amount of money: ')\n",
    "so_tien = as.integer(so_tien)\n",
    "\n",
    "so_ngay_gui = readline(prompt='Input number of days: ')\n",
    "so_ngay_gui = as.integer(so_ngay_gui)\n"
   ]
  },
  {
   "cell_type": "code",
   "execution_count": 2,
   "metadata": {},
   "outputs": [
    {
     "name": "stdout",
     "output_type": "stream",
     "text": [
      "[1] \"Name:  john , Year of Birth:  2000\"\n",
      "[1] \"Height:  70 (m), Weight:  1 (kg), BMI:  0\"\n"
     ]
    }
   ],
   "source": [
    "print(paste('Name: ',name, ', Year of Birth: ', birth_year))\n",
    "print(paste('Height: ',round(height,2), '(m), Weight: ', round(weight,2), '(kg), BMI: ', round(bmi,2)))"
   ]
  },
  {
   "cell_type": "code",
   "execution_count": 3,
   "metadata": {},
   "outputs": [],
   "source": [
    "lai_suat_ngay = (lai_suat_nam/365)/100"
   ]
  },
  {
   "cell_type": "code",
   "execution_count": 4,
   "metadata": {},
   "outputs": [],
   "source": [
    "tien_lai = so_tien * lai_suat_ngay * so_ngay_gui\n",
    "tien_gui_va_lai = so_tien + tien_lai"
   ]
  },
  {
   "cell_type": "code",
   "execution_count": 5,
   "metadata": {},
   "outputs": [],
   "source": [
    "result = paste('Interest rate/day: ', lai_suat_ngay,\n",
    "               '\\nAmount of money:', so_tien, 'after ', so_ngay_gui,\n",
    "               'days => Saving interst money: ', round(tien_lai,2),\n",
    "               '\\nSum: ',\n",
    "                format(tien_gui_va_lai, big.mark='.', decimal.mark=',',\n",
    "                      nsmall=2), sep='')"
   ]
  },
  {
   "cell_type": "code",
   "execution_count": 6,
   "metadata": {},
   "outputs": [
    {
     "name": "stdout",
     "output_type": "stream",
     "text": [
      "Interest rate/day: 0.000191780821917808\n",
      "Amount of money:10000000after 265days => Saving interst money: 508219.18\n",
      "Sum: 10.508.219,18"
     ]
    }
   ],
   "source": [
    "cat(result)"
   ]
  },
  {
   "cell_type": "code",
   "execution_count": null,
   "metadata": {},
   "outputs": [],
   "source": []
  }
 ],
 "metadata": {
  "kernelspec": {
   "display_name": "R",
   "language": "R",
   "name": "ir"
  },
  "language_info": {
   "codemirror_mode": "r",
   "file_extension": ".r",
   "mimetype": "text/x-r-source",
   "name": "R",
   "pygments_lexer": "r",
   "version": "4.0.2"
  }
 },
 "nbformat": 4,
 "nbformat_minor": 4
}
