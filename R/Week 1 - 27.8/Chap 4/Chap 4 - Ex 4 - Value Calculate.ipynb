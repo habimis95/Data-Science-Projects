{
 "cells": [
  {
   "cell_type": "code",
   "execution_count": 1,
   "metadata": {},
   "outputs": [
    {
     "name": "stdin",
     "output_type": "stream",
     "text": [
      "Input n:  10\n"
     ]
    },
    {
     "name": "stdout",
     "output_type": "stream",
     "text": [
      "Sum of primes:   2 + 3 + 5 + 7 + = 17"
     ]
    }
   ],
   "source": [
    "# sum of integer <= n\n",
    "n = as.integer(readline(prompt='Input n: '))\n",
    "\n",
    "begin = 1\n",
    "s = ''\n",
    "sum_primes = 0\n",
    "while(begin<=n){\n",
    "    # test prime\n",
    "    i=1\n",
    "    count=0\n",
    "    while(i<=begin){\n",
    "        if(begin%%i==0){\n",
    "            count = count + 1\n",
    "        }\n",
    "        i = i + 1\n",
    "    }\n",
    "    if(count==2){\n",
    "        sum_primes=sum_primes + begin\n",
    "        s = paste(s, begin, '+')\n",
    "    }\n",
    "    begin = begin + 1    \n",
    "}\n",
    "s = paste('Sum of primes: ',s,'=',sum_primes)\n",
    "cat(s)"
   ]
  },
  {
   "cell_type": "code",
   "execution_count": null,
   "metadata": {},
   "outputs": [],
   "source": []
  }
 ],
 "metadata": {
  "kernelspec": {
   "display_name": "R",
   "language": "R",
   "name": "ir"
  },
  "language_info": {
   "codemirror_mode": "r",
   "file_extension": ".r",
   "mimetype": "text/x-r-source",
   "name": "R",
   "pygments_lexer": "r",
   "version": "4.0.2"
  }
 },
 "nbformat": 4,
 "nbformat_minor": 4
}
