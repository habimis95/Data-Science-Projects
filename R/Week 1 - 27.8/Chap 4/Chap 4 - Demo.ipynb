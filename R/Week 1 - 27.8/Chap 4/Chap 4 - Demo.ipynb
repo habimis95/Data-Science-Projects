{
 "cells": [
  {
   "cell_type": "markdown",
   "metadata": {},
   "source": [
    "# Repeat\n",
    "    - Carry first, check later\n",
    "    - Unidentify number of loop time"
   ]
  },
  {
   "cell_type": "code",
   "execution_count": 1,
   "metadata": {},
   "outputs": [
    {
     "name": "stdout",
     "output_type": "stream",
     "text": [
      "[1] 1\n",
      "[1] 2\n",
      "[1] 3\n",
      "[1] 4\n",
      "[1] 5\n",
      "[1] 6\n",
      "[1] 7\n",
      "[1] 8\n",
      "[1] 9\n",
      "[1] 10\n"
     ]
    }
   ],
   "source": [
    "x = 1 \n",
    "repeat{\n",
    "    print(x)\n",
    "    x = x + 1\n",
    "    if(x>10){\n",
    "        break\n",
    "    }\n",
    "}"
   ]
  },
  {
   "cell_type": "markdown",
   "metadata": {},
   "source": [
    "# While\n",
    "    - Check conditions first, carry after\n",
    "    - Unidentify number of loop"
   ]
  },
  {
   "cell_type": "code",
   "execution_count": 2,
   "metadata": {},
   "outputs": [
    {
     "name": "stdout",
     "output_type": "stream",
     "text": [
      "[1] \"Time:  1\"\n",
      "[1] \"Time:  2\"\n",
      "[1] \"Time:  3\"\n",
      "[1] \"Time:  4\"\n",
      "[1] \"Time:  5\"\n"
     ]
    }
   ],
   "source": [
    "x = 1 \n",
    "while(x < 6){\n",
    "    print(paste('Time: ', x))\n",
    "    x = x + 1\n",
    "}"
   ]
  },
  {
   "cell_type": "code",
   "execution_count": 3,
   "metadata": {},
   "outputs": [
    {
     "name": "stderr",
     "output_type": "stream",
     "text": [
      "Playing...\n",
      "\n"
     ]
    },
    {
     "name": "stdin",
     "output_type": "stream",
     "text": [
      "Continue(1), Stop(!=1) 1\n"
     ]
    },
    {
     "name": "stderr",
     "output_type": "stream",
     "text": [
      "Playing...\n",
      "\n"
     ]
    },
    {
     "name": "stdin",
     "output_type": "stream",
     "text": [
      "Continue(1), Stop(!=1) 2\n"
     ]
    }
   ],
   "source": [
    "i = 1\n",
    "while(i==1){\n",
    "    #print('Playing...') R_studio\n",
    "    message('Playing...')\n",
    "    i = readline(prompt='Continue(1), Stop(!=1)')\n",
    "    i = as.numeric(i)\n",
    "    }"
   ]
  },
  {
   "cell_type": "code",
   "execution_count": 5,
   "metadata": {},
   "outputs": [
    {
     "name": "stderr",
     "output_type": "stream",
     "text": [
      "Playing....\n",
      "\n"
     ]
    },
    {
     "name": "stdin",
     "output_type": "stream",
     "text": [
      "Continue(1), Stop(!=1) 1\n"
     ]
    },
    {
     "name": "stderr",
     "output_type": "stream",
     "text": [
      "Playing....\n",
      "\n"
     ]
    },
    {
     "name": "stdin",
     "output_type": "stream",
     "text": [
      "Continue(1), Stop(!=1) 2\n"
     ]
    },
    {
     "name": "stderr",
     "output_type": "stream",
     "text": [
      "Playing....\n",
      "\n"
     ]
    },
    {
     "name": "stdin",
     "output_type": "stream",
     "text": [
      "Continue(1), Stop(!=1) 3\n"
     ]
    },
    {
     "name": "stderr",
     "output_type": "stream",
     "text": [
      "Playing....\n",
      "\n"
     ]
    },
    {
     "name": "stdin",
     "output_type": "stream",
     "text": [
      "Continue(1), Stop(!=1) 4\n"
     ]
    },
    {
     "name": "stderr",
     "output_type": "stream",
     "text": [
      "Playing....\n",
      "\n"
     ]
    },
    {
     "name": "stdin",
     "output_type": "stream",
     "text": [
      "Continue(1), Stop(!=1) 5\n"
     ]
    },
    {
     "name": "stderr",
     "output_type": "stream",
     "text": [
      "Playing....\n",
      "\n"
     ]
    },
    {
     "name": "stdin",
     "output_type": "stream",
     "text": [
      "Continue(1), Stop(!=1) 6\n"
     ]
    },
    {
     "name": "stderr",
     "output_type": "stream",
     "text": [
      "Playing....\n",
      "\n"
     ]
    },
    {
     "name": "stdin",
     "output_type": "stream",
     "text": [
      "Continue(1), Stop(!=1) 7\n"
     ]
    }
   ],
   "source": [
    "repeat{\n",
    "    message('Playing....')\n",
    "    i = readline(prompt='Continue(1), Stop(!=1)')\n",
    "    i = as.numeric(i)\n",
    "    if(i>6){\n",
    "        break\n",
    "    }\n",
    "}"
   ]
  },
  {
   "cell_type": "code",
   "execution_count": 6,
   "metadata": {},
   "outputs": [
    {
     "name": "stdout",
     "output_type": "stream",
     "text": [
      "[1] \"A\"\n",
      "[1] \"B\"\n",
      "[1] \"C\"\n",
      "[1] \"D\"\n",
      "[1] \"E\"\n",
      "[1] \"F\"\n",
      "[1] \"G\"\n",
      "[1] \"H\"\n",
      "[1] \"I\"\n",
      "[1] \"J\"\n"
     ]
    }
   ],
   "source": [
    "v = LETTERS[1:10]\n",
    "for (c in v){\n",
    "    print(c)\n",
    "}"
   ]
  },
  {
   "cell_type": "code",
   "execution_count": 7,
   "metadata": {},
   "outputs": [
    {
     "name": "stdout",
     "output_type": "stream",
     "text": [
      "[1] \"red\"\n",
      "[1] \"green\"\n",
      "[1] \"yellow\"\n",
      "[1] \"blue\"\n",
      "[1] \"black\"\n",
      "[1] \"white\"\n"
     ]
    }
   ],
   "source": [
    "colors = c('red','green','yellow','blue','black','white')\n",
    "for (color in colors){\n",
    "    print(color)\n",
    "}"
   ]
  },
  {
   "cell_type": "markdown",
   "metadata": {},
   "source": [
    "# Break & Next"
   ]
  },
  {
   "cell_type": "code",
   "execution_count": 8,
   "metadata": {},
   "outputs": [
    {
     "name": "stdout",
     "output_type": "stream",
     "text": [
      "[1] \"A\"\n",
      "[1] \"B\"\n",
      "[1] \"C\"\n",
      "[1] \"D\"\n",
      "[1] \"F\"\n",
      "[1] \"G\"\n",
      "[1] \"H\"\n",
      "[1] \"I\"\n",
      "[1] \"J\"\n"
     ]
    }
   ],
   "source": [
    "v = LETTERS[1:10]\n",
    "for(i in v){\n",
    "    if(i=='E'){\n",
    "        next\n",
    "    }\n",
    "    print(i)\n",
    "}"
   ]
  },
  {
   "cell_type": "code",
   "execution_count": 10,
   "metadata": {},
   "outputs": [
    {
     "name": "stdout",
     "output_type": "stream",
     "text": [
      "[1] \"a\"\n",
      "[1] \"b\"\n",
      "[1] \"c\"\n",
      "[1] \"d\"\n",
      "[1] \"e\"\n",
      "[1] \"f\"\n",
      "[1] \"g\"\n",
      "[1] \"h\"\n",
      "[1] \"i\"\n",
      "[1] \"j\"\n"
     ]
    }
   ],
   "source": [
    "v = letters[1:10]\n",
    "for(i in v){\n",
    "    if(i!='e'){\n",
    "        NULL    }\n",
    "    print(i)\n",
    "}"
   ]
  },
  {
   "cell_type": "code",
   "execution_count": null,
   "metadata": {},
   "outputs": [],
   "source": []
  }
 ],
 "metadata": {
  "kernelspec": {
   "display_name": "R",
   "language": "R",
   "name": "ir"
  },
  "language_info": {
   "codemirror_mode": "r",
   "file_extension": ".r",
   "mimetype": "text/x-r-source",
   "name": "R",
   "pygments_lexer": "r",
   "version": "4.0.2"
  }
 },
 "nbformat": 4,
 "nbformat_minor": 4
}
