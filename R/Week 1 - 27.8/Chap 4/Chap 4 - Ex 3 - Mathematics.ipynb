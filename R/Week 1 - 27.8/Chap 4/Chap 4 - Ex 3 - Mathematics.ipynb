{
 "cells": [
  {
   "cell_type": "code",
   "execution_count": 1,
   "metadata": {},
   "outputs": [
    {
     "name": "stdin",
     "output_type": "stream",
     "text": [
      "Input n:  7\n"
     ]
    },
    {
     "name": "stdout",
     "output_type": "stream",
     "text": [
      " \n",
      " 7 x 1 = 7 \n",
      " 7 x 2 = 14 \n",
      " 7 x 3 = 21 \n",
      " 7 x 4 = 28 \n",
      " 7 x 5 = 35 \n",
      " 7 x 6 = 42 \n",
      " 7 x 7 = 49 \n",
      " 7 x 8 = 56 \n",
      " 7 x 9 = 63"
     ]
    }
   ],
   "source": [
    "# bang cuu chuong\n",
    "n = as.integer(readline(prompt='Input n: '))\n",
    "s = ''\n",
    "danh_sach = c(1,2,3,4,5,6,7,8,9)\n",
    "for(i in danh_sach){\n",
    "    s = paste(s, '\\n', n, 'x', i, '=', n*i)\n",
    "}\n",
    "cat(s)"
   ]
  },
  {
   "cell_type": "code",
   "execution_count": 2,
   "metadata": {},
   "outputs": [
    {
     "name": "stdin",
     "output_type": "stream",
     "text": [
      "Input begin: 3\n",
      "Input end: 6\n"
     ]
    },
    {
     "name": "stdout",
     "output_type": "stream",
     "text": [
      " \t 3 x 1 = 3 \t 4 x 1 = 4 \t 5 x 1 = 5 \t 6 x 1 = 6 \n",
      " \t 3 x 2 = 6 \t 4 x 2 = 8 \t 5 x 2 = 10 \t 6 x 2 = 12 \n",
      " \t 3 x 3 = 9 \t 4 x 3 = 12 \t 5 x 3 = 15 \t 6 x 3 = 18 \n",
      " \t 3 x 4 = 12 \t 4 x 4 = 16 \t 5 x 4 = 20 \t 6 x 4 = 24 \n",
      " \t 3 x 5 = 15 \t 4 x 5 = 20 \t 5 x 5 = 25 \t 6 x 5 = 30 \n",
      " \t 3 x 6 = 18 \t 4 x 6 = 24 \t 5 x 6 = 30 \t 6 x 6 = 36 \n",
      " \t 3 x 7 = 21 \t 4 x 7 = 28 \t 5 x 7 = 35 \t 6 x 7 = 42 \n",
      " \t 3 x 8 = 24 \t 4 x 8 = 32 \t 5 x 8 = 40 \t 6 x 8 = 48 \n",
      " \t 3 x 9 = 27 \t 4 x 9 = 36 \t 5 x 9 = 45 \t 6 x 9 = 54 \n"
     ]
    }
   ],
   "source": [
    "# bang cuu chuong tu a den b\n",
    "begin = as.integer(readline(prompt='Input begin:'))\n",
    "end = as.integer(readline(prompt='Input end:'))\n",
    "s = ''\n",
    "danh_sach = c(1,2,3,4,5,6,7,8,9)\n",
    "danh_sach_begin_end = c(begin:end)\n",
    "for(i in danh_sach){\n",
    "    for(j in danh_sach_begin_end){\n",
    "        s = paste(s, '\\t',j,'x',i,'=',j*i)\n",
    "    }\n",
    "    s = paste(s, '\\n')\n",
    "}\n",
    "cat(s)"
   ]
  },
  {
   "cell_type": "code",
   "execution_count": null,
   "metadata": {},
   "outputs": [],
   "source": []
  }
 ],
 "metadata": {
  "kernelspec": {
   "display_name": "R",
   "language": "R",
   "name": "ir"
  },
  "language_info": {
   "codemirror_mode": "r",
   "file_extension": ".r",
   "mimetype": "text/x-r-source",
   "name": "R",
   "pygments_lexer": "r",
   "version": "4.0.2"
  }
 },
 "nbformat": 4,
 "nbformat_minor": 4
}
