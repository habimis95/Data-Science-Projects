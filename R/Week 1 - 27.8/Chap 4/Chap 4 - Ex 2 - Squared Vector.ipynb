{
 "cells": [
  {
   "cell_type": "code",
   "execution_count": 1,
   "metadata": {},
   "outputs": [
    {
     "name": "stdin",
     "output_type": "stream",
     "text": [
      "Please input n:  2\n"
     ]
    }
   ],
   "source": [
    "n = as.integer(readline(prompt='Please input n: '))"
   ]
  },
  {
   "cell_type": "code",
   "execution_count": 2,
   "metadata": {},
   "outputs": [
    {
     "name": "stdout",
     "output_type": "stream",
     "text": [
      "[1] 7 2\n"
     ]
    }
   ],
   "source": [
    "vector_random = round(runif(n,1,10),0)\n",
    "print(vector_random)"
   ]
  },
  {
   "cell_type": "code",
   "execution_count": 3,
   "metadata": {},
   "outputs": [],
   "source": [
    "# x = vector_random * vector_random\n",
    "# x\n",
    "square = c()"
   ]
  },
  {
   "cell_type": "code",
   "execution_count": 4,
   "metadata": {},
   "outputs": [],
   "source": [
    "for (value in vector_random){\n",
    "    square = c(square, value^2)\n",
    "}"
   ]
  },
  {
   "cell_type": "code",
   "execution_count": 5,
   "metadata": {},
   "outputs": [
    {
     "name": "stdout",
     "output_type": "stream",
     "text": [
      "[1] 49  4\n"
     ]
    }
   ],
   "source": [
    "print(square)"
   ]
  },
  {
   "cell_type": "code",
   "execution_count": 6,
   "metadata": {},
   "outputs": [
    {
     "name": "stdout",
     "output_type": "stream",
     "text": [
      "[1] 49  4  4\n",
      "[1] 49  4  4  4\n"
     ]
    }
   ],
   "source": [
    "start = 1 \n",
    "repeat{\n",
    "    square=c(square,value^2)\n",
    "    start = start + 1\n",
    "    print(square)\n",
    "    if(start>n){\n",
    "        break\n",
    "    }\n",
    "}"
   ]
  },
  {
   "cell_type": "code",
   "execution_count": null,
   "metadata": {},
   "outputs": [],
   "source": [
    "# run forever \n",
    "start = 1 \n",
    "while(start <n){\n",
    "    square = c(square, value^2)\n",
    "    print(square)\n",
    "    start=start+1\n",
    "}"
   ]
  },
  {
   "cell_type": "code",
   "execution_count": null,
   "metadata": {},
   "outputs": [],
   "source": []
  }
 ],
 "metadata": {
  "kernelspec": {
   "display_name": "R",
   "language": "R",
   "name": "ir"
  },
  "language_info": {
   "codemirror_mode": "r",
   "file_extension": ".r",
   "mimetype": "text/x-r-source",
   "name": "R",
   "pygments_lexer": "r",
   "version": "4.0.2"
  }
 },
 "nbformat": 4,
 "nbformat_minor": 4
}
