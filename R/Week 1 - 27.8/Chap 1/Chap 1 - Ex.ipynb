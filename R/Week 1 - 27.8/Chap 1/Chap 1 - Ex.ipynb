{
 "cells": [
  {
   "cell_type": "markdown",
   "metadata": {},
   "source": [
    "# Chapter 1: Tổng quan R"
   ]
  },
  {
   "cell_type": "markdown",
   "metadata": {},
   "source": [
    "## Exersize 1:\n",
    "    - VIết chương trình tính tổng hiệu tích thương của 2 số a và ba ( với giá trị tùy chọn)"
   ]
  },
  {
   "cell_type": "code",
   "execution_count": 3,
   "metadata": {},
   "outputs": [],
   "source": [
    "a = 5\n",
    "b = 7\n",
    "tong = a + b \n",
    "hieu = a - b\n",
    "tich = a * b\n",
    "thuong = a/b"
   ]
  },
  {
   "cell_type": "code",
   "execution_count": 4,
   "metadata": {},
   "outputs": [
    {
     "name": "stdout",
     "output_type": "stream",
     "text": [
      "[1] \"a= 5\"\n",
      "[1] \"b= 7\"\n"
     ]
    }
   ],
   "source": [
    "print(paste('a=', a))\n",
    "print(paste('b=', b))"
   ]
  },
  {
   "cell_type": "code",
   "execution_count": 5,
   "metadata": {},
   "outputs": [
    {
     "name": "stdout",
     "output_type": "stream",
     "text": [
      "[1] \"Tong = 12\"\n",
      "[1] \"Hieu = -2\"\n",
      "[1] \"Tich = 35\"\n",
      "[1] \"Thuong = 0.714285714285714\"\n"
     ]
    }
   ],
   "source": [
    "print(paste('Tong =', tong))\n",
    "print(paste('Hieu =', hieu))\n",
    "print(paste('Tich =', tich))\n",
    "print(paste('Thuong =', thuong))"
   ]
  },
  {
   "cell_type": "code",
   "execution_count": null,
   "metadata": {},
   "outputs": [],
   "source": []
  }
 ],
 "metadata": {
  "kernelspec": {
   "display_name": "R",
   "language": "R",
   "name": "ir"
  },
  "language_info": {
   "codemirror_mode": "r",
   "file_extension": ".r",
   "mimetype": "text/x-r-source",
   "name": "R",
   "pygments_lexer": "r",
   "version": "4.0.2"
  }
 },
 "nbformat": 4,
 "nbformat_minor": 4
}
