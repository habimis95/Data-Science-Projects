{
 "cells": [
  {
   "cell_type": "markdown",
   "metadata": {},
   "source": [
    "# If"
   ]
  },
  {
   "cell_type": "code",
   "execution_count": 1,
   "metadata": {},
   "outputs": [
    {
     "name": "stdin",
     "output_type": "stream",
     "text": [
      "Input mark:  5\n"
     ]
    },
    {
     "name": "stdout",
     "output_type": "stream",
     "text": [
      "[1] \"pass\"\n"
     ]
    }
   ],
   "source": [
    "mark = readline(prompt='Input mark: ')\n",
    "mark = as.numeric(mark)\n",
    "if(mark>=5){\n",
    "    print('pass')\n",
    "} else {\n",
    "    print('fail')\n",
    "}"
   ]
  },
  {
   "cell_type": "code",
   "execution_count": 9,
   "metadata": {},
   "outputs": [
    {
     "name": "stdin",
     "output_type": "stream",
     "text": [
      "Input mark:  5\n"
     ]
    },
    {
     "name": "stdout",
     "output_type": "stream",
     "text": [
      "[1] \"weak\"\n"
     ]
    }
   ],
   "source": [
    "mark = readline(prompt='Input mark: ')\n",
    "mark = as.numeric(mark)\n",
    "if(mark>=5){\n",
    "    print('weak')\n",
    "}   else if (mark<7) {\n",
    "    print('average')\n",
    "}   else if (mark<8) {\n",
    "    print('good')\n",
    "}   else if (mark<9) {\n",
    "    print('very good')\n",
    "}   else{\n",
    "        print('Excellent')\n",
    "    }"
   ]
  },
  {
   "cell_type": "code",
   "execution_count": null,
   "metadata": {},
   "outputs": [],
   "source": []
  },
  {
   "cell_type": "code",
   "execution_count": null,
   "metadata": {},
   "outputs": [],
   "source": []
  },
  {
   "cell_type": "code",
   "execution_count": null,
   "metadata": {},
   "outputs": [],
   "source": []
  },
  {
   "cell_type": "code",
   "execution_count": null,
   "metadata": {},
   "outputs": [],
   "source": []
  },
  {
   "cell_type": "markdown",
   "metadata": {},
   "source": [
    "# Switch"
   ]
  },
  {
   "cell_type": "code",
   "execution_count": 10,
   "metadata": {},
   "outputs": [
    {
     "name": "stdout",
     "output_type": "stream",
     "text": [
      "[1] \"cat\"\n"
     ]
    }
   ],
   "source": [
    "X = switch(2,'dog','cat','goat')\n",
    "print(X)"
   ]
  },
  {
   "cell_type": "code",
   "execution_count": 11,
   "metadata": {},
   "outputs": [
    {
     "name": "stdout",
     "output_type": "stream",
     "text": [
      "NULL\n"
     ]
    }
   ],
   "source": [
    "X = switch(4,'dog','cat','goat')\n",
    "print(X)"
   ]
  },
  {
   "cell_type": "code",
   "execution_count": 12,
   "metadata": {},
   "outputs": [
    {
     "name": "stdout",
     "output_type": "stream",
     "text": [
      "[1] \"black\"\n"
     ]
    }
   ],
   "source": [
    "y = switch('color','color'='black','shape'='straight','length'=20)\n",
    "print(y)"
   ]
  },
  {
   "cell_type": "code",
   "execution_count": 13,
   "metadata": {},
   "outputs": [
    {
     "name": "stdout",
     "output_type": "stream",
     "text": [
      "NULL\n"
     ]
    }
   ],
   "source": [
    "y = switch('from','color'='black','shape'='straight','length'=20)\n",
    "print(y)"
   ]
  },
  {
   "cell_type": "code",
   "execution_count": 14,
   "metadata": {},
   "outputs": [
    {
     "name": "stdin",
     "output_type": "stream",
     "text": [
      "Input number 1:  1\n",
      "Input number 2:  2\n",
      "Input one ARITHMETIC OPERATOR: -\n"
     ]
    },
    {
     "name": "stdout",
     "output_type": "stream",
     "text": [
      "[1] \"Sun: -1\"\n"
     ]
    }
   ],
   "source": [
    "number1 = as.integer(readline(prompt='Input number 1: '))\n",
    "number2 = as.integer(readline(prompt='Input number 2: '))\n",
    "operator = readline(prompt='Input one ARITHMETIC OPERATOR:')\n",
    "switch(operator,\n",
    "      '+' = print(paste('Sum:',number1 + number2)),\n",
    "      '-' = print(paste('Sun:',number1 - number2)),\n",
    "      '*' = print(paste('Mul:',number1 * number2)),\n",
    "      '/' = print(paste('Div:',number1 / number2)),\n",
    "       print('Nothing')\n",
    "       )"
   ]
  },
  {
   "cell_type": "code",
   "execution_count": null,
   "metadata": {},
   "outputs": [],
   "source": []
  }
 ],
 "metadata": {
  "kernelspec": {
   "display_name": "R",
   "language": "R",
   "name": "ir"
  },
  "language_info": {
   "codemirror_mode": "r",
   "file_extension": ".r",
   "mimetype": "text/x-r-source",
   "name": "R",
   "pygments_lexer": "r",
   "version": "4.0.2"
  }
 },
 "nbformat": 4,
 "nbformat_minor": 4
}
