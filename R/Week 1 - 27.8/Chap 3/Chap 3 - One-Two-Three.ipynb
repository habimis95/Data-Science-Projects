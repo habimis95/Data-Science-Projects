{
 "cells": [
  {
   "cell_type": "code",
   "execution_count": 1,
   "metadata": {},
   "outputs": [
    {
     "name": "stdin",
     "output_type": "stream",
     "text": [
      "Player 1 inputs: scissors/ rock/ paper:  rock\n",
      "Player 2 inputs: scissors/ rock/ paper:  paper\n"
     ]
    }
   ],
   "source": [
    "# play: one - two - three\n",
    "player_1 = readline(prompt='Player 1 inputs: scissors/ rock/ paper: ')\n",
    "player_2 = readline(prompt='Player 2 inputs: scissors/ rock/ paper: ')"
   ]
  },
  {
   "cell_type": "code",
   "execution_count": 2,
   "metadata": {},
   "outputs": [],
   "source": [
    "# so sanh va kiem tra\n",
    "result = ''\n",
    "if(player_1=='scissors'){\n",
    "    if(player_2=='scissors'){\n",
    "        result = 'The same!'\n",
    "    }else if(player_2=='rock'){\n",
    "        result='player 2 is the winner'\n",
    "    }else{\n",
    "        result = 'player 1 is the winner'\n",
    "    }\n",
    "}   else if(player_1=='rock'){\n",
    "    if(player_2 =='scissors'){\n",
    "        result='player 1 is the winner'\n",
    "    }else if(player_2=='rock'){\n",
    "        result='The same!'\n",
    "    }else{\n",
    "        result = 'player 2 is the winner'\n",
    "    }\n",
    "} else{\n",
    "    #player 1: paper\n",
    "    if(player_2 == 'scissors'){\n",
    "        result = 'player 2 is the winner'\n",
    "    }else if(player_2 =='rock'){\n",
    "        result = 'player 1 is the winner'\n",
    "    }else{\n",
    "        result='The same!'\n",
    "    }\n",
    "}"
   ]
  },
  {
   "cell_type": "code",
   "execution_count": 3,
   "metadata": {},
   "outputs": [
    {
     "name": "stdout",
     "output_type": "stream",
     "text": [
      "[1] \"Player 1 chooses rock\"\n",
      "[1] \"Player 2 chooses paper\"\n",
      "[1] \"player 2 is the winner\"\n"
     ]
    }
   ],
   "source": [
    "print(paste('Player 1 chooses', player_1))\n",
    "print(paste('Player 2 chooses', player_2))\n",
    "print(result)"
   ]
  },
  {
   "cell_type": "code",
   "execution_count": null,
   "metadata": {},
   "outputs": [],
   "source": []
  }
 ],
 "metadata": {
  "kernelspec": {
   "display_name": "R",
   "language": "R",
   "name": "ir"
  },
  "language_info": {
   "codemirror_mode": "r",
   "file_extension": ".r",
   "mimetype": "text/x-r-source",
   "name": "R",
   "pygments_lexer": "r",
   "version": "4.0.2"
  }
 },
 "nbformat": 4,
 "nbformat_minor": 4
}
