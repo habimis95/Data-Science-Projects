{
 "cells": [
  {
   "cell_type": "code",
   "execution_count": 1,
   "metadata": {},
   "outputs": [
    {
     "name": "stdin",
     "output_type": "stream",
     "text": [
      "So kw tieu thu:  200\n"
     ]
    }
   ],
   "source": [
    "muc1=1678\n",
    "muc2=1734\n",
    "muc3=2014\n",
    "muc4=2536\n",
    "muc5=2834\n",
    "muc6=2927\n",
    "bac50=50\n",
    "bac100=100\n",
    "tien_dien=0\n",
    "so_kw=as.integer(readline(prompt='So kw tieu thu: '))\n",
    "if(so_kw<=50){\n",
    "    tien_dien=so_kw*muc1\n",
    "}   else if(so_kw<=100){\n",
    "    tien_dien=bac50*muc1+(so_kw-bac50)*muc2\n",
    "}   else if(so_kw<=200){\n",
    "    tien_dien=bac50*muc1+bac50*muc2+(so_kw - bac100)*muc3\n",
    "}   else if(so_kw<=300){\n",
    "    tien_dien=bac50*muc1+bac50*muc2+bac100*muc3+(so_kw-bac50-bac50=bac100)*muc4\n",
    "}   else if(so_kw<=400){\n",
    "    tien_dien=bac50*muc1+bac50*muc2+bac100*muc3+bac100*muc4+(so_kw - bac50 - bac50 - bac100 - bac100)*muc5\n",
    "}   else{ \n",
    "    tien_dien=bac50*muc1+bac50*muc2+bac100*muc3+bac100*muc4+bac100*muc5(so_kw - bac50 - bac50 - bac100 - bac100 - bac100)*muc6\n",
    "}\n",
    "    "
   ]
  },
  {
   "cell_type": "code",
   "execution_count": 4,
   "metadata": {},
   "outputs": [
    {
     "name": "stdout",
     "output_type": "stream",
     "text": [
      "[1] \"Tien dien phai tra =  372000\"\n",
      "[1] \"Tien dien phai tra =  372.000\"\n"
     ]
    }
   ],
   "source": [
    "print(paste('Tien dien phai tra = ', tien_dien))\n",
    "print(paste('Tien dien phai tra = ', paste(format(tien_dien, big.mark='.',decimal.mark=','),sep='' )))\n",
    "        "
   ]
  },
  {
   "cell_type": "code",
   "execution_count": null,
   "metadata": {},
   "outputs": [],
   "source": []
  }
 ],
 "metadata": {
  "kernelspec": {
   "display_name": "R",
   "language": "R",
   "name": "ir"
  },
  "language_info": {
   "codemirror_mode": "r",
   "file_extension": ".r",
   "mimetype": "text/x-r-source",
   "name": "R",
   "pygments_lexer": "r",
   "version": "4.0.2"
  }
 },
 "nbformat": 4,
 "nbformat_minor": 4
}
