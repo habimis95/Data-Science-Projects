{
 "cells": [
  {
   "cell_type": "code",
   "execution_count": 1,
   "metadata": {},
   "outputs": [],
   "source": [
    "vip1=1000000\n",
    "vip2=900000\n",
    "vip3=850000\n",
    "standard1=700000\n",
    "standard2=550000"
   ]
  },
  {
   "cell_type": "code",
   "execution_count": 2,
   "metadata": {},
   "outputs": [
    {
     "name": "stdin",
     "output_type": "stream",
     "text": [
      "Nhap ma so (1/2/3/4/5):  1\n",
      "Nhap so ngay:  3\n"
     ]
    }
   ],
   "source": [
    "ma_so=as.integer(readline(prompt='Nhap ma so (1/2/3/4/5): '))\n",
    "so_ngay = as.integer(readline(prompt='Nhap so ngay: '))"
   ]
  },
  {
   "cell_type": "code",
   "execution_count": 3,
   "metadata": {},
   "outputs": [],
   "source": [
    "# Lay don gia\n",
    "\n",
    "don_gia_phong = switch(ma_so, vip1,vip2,vip3,standard1,standard2)\n"
   ]
  },
  {
   "cell_type": "code",
   "execution_count": 6,
   "metadata": {},
   "outputs": [
    {
     "name": "stdout",
     "output_type": "stream",
     "text": [
      "[1] \"Tien phai thanh toan:  2700000 vnd\"\n"
     ]
    }
   ],
   "source": [
    "# tinh tien\n",
    "tien = 0 \n",
    "if(so_ngay<3){\n",
    "    tien=don_gia_phong*so_ngay\n",
    "}else if(so_ngay<7){\n",
    "    tien=don_gia_phong*so_ngay*0.9\n",
    "}else{\n",
    "    tien=don_gia_phong*so_ngay*0.8\n",
    "}\n",
    "         print(paste('Tien phai thanh toan: ',tien,'vnd'))"
   ]
  },
  {
   "cell_type": "code",
   "execution_count": null,
   "metadata": {},
   "outputs": [],
   "source": []
  }
 ],
 "metadata": {
  "kernelspec": {
   "display_name": "R",
   "language": "R",
   "name": "ir"
  },
  "language_info": {
   "codemirror_mode": "r",
   "file_extension": ".r",
   "mimetype": "text/x-r-source",
   "name": "R",
   "pygments_lexer": "r",
   "version": "4.0.2"
  }
 },
 "nbformat": 4,
 "nbformat_minor": 4
}
