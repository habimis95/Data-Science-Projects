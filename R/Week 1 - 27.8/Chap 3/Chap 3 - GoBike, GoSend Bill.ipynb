{
 "cells": [
  {
   "cell_type": "code",
   "execution_count": 1,
   "metadata": {},
   "outputs": [],
   "source": [
    "toi_thieu_2km_bike=10000\n",
    "km_bike=3600\n",
    "\n",
    "toi_thieu_2km_send = 15000\n",
    "km_send = 4000"
   ]
  },
  {
   "cell_type": "code",
   "execution_count": 2,
   "metadata": {},
   "outputs": [
    {
     "name": "stdin",
     "output_type": "stream",
     "text": [
      "Nhap 1 chon GO-BIKE, 2 chon GO-SEND:  2\n",
      "So km: 10\n"
     ]
    }
   ],
   "source": [
    "chon_loai = as.integer(readline(prompt='Nhap 1 chon GO-BIKE, 2 chon GO-SEND: '))\n",
    "\n",
    "sokm = as.numeric(readline(prompt='So km:'))\n",
    "\n"
   ]
  },
  {
   "cell_type": "code",
   "execution_count": 5,
   "metadata": {},
   "outputs": [],
   "source": [
    "tien_xe = 0 \n",
    "if(chon_loai==1){\n",
    "    if(sokm<2){\n",
    "    tien_xe=toi_thieu_2km_bike\n",
    "    }else{\n",
    "    tien_xe=toi_thieu_2km_bike  + (sokm - 2)*km_bike\n",
    "    }\n",
    "}else if(chon_loai==2){\n",
    "    if(sokm<2){\n",
    "        tien_xe = toi_thieu_2km_send\n",
    "    }else{\n",
    "        tien_xe = toi_thieu_2km_send + (sokm - 2)*km_send\n",
    "    }\n",
    "}else {\n",
    "    print('Chi co 2 loai la GO-BIKE va GO-SEND')\n",
    "}\n"
   ]
  },
  {
   "cell_type": "code",
   "execution_count": 6,
   "metadata": {},
   "outputs": [
    {
     "name": "stdout",
     "output_type": "stream",
     "text": [
      "[1] \"Tien xe: 47000 VND\"\n",
      "[1] \"Tien xe:  47.000 VND\"\n"
     ]
    }
   ],
   "source": [
    "print(paste('Tien xe:', tien_xe, 'VND'))\n",
    "chuoi_tien = paste(format(tien_xe, big.mark='.', decimal.mark=','),sep='')\n",
    "\n",
    "print(paste('Tien xe: ', chuoi_tien,'VND'))"
   ]
  },
  {
   "cell_type": "code",
   "execution_count": null,
   "metadata": {},
   "outputs": [],
   "source": []
  }
 ],
 "metadata": {
  "kernelspec": {
   "display_name": "R",
   "language": "R",
   "name": "ir"
  },
  "language_info": {
   "codemirror_mode": "r",
   "file_extension": ".r",
   "mimetype": "text/x-r-source",
   "name": "R",
   "pygments_lexer": "r",
   "version": "4.0.2"
  }
 },
 "nbformat": 4,
 "nbformat_minor": 4
}
