{
 "cells": [
  {
   "cell_type": "code",
   "execution_count": 1,
   "metadata": {},
   "outputs": [
    {
     "name": "stdin",
     "output_type": "stream",
     "text": [
      "Input a string:  tran hai binh\n"
     ]
    },
    {
     "name": "stdout",
     "output_type": "stream",
     "text": [
      "[1] \"tran hai binh\"\n"
     ]
    }
   ],
   "source": [
    "#1. Nhap vao mot chuoi. In chuoi\n",
    "str = readline(prompt='Input a string: ')\n",
    "print(chuoi)"
   ]
  },
  {
   "cell_type": "code",
   "execution_count": 2,
   "metadata": {},
   "outputs": [
    {
     "name": "stdin",
     "output_type": "stream",
     "text": [
      "Input a character:  a\n"
     ]
    },
    {
     "name": "stdout",
     "output_type": "stream",
     "text": [
      "[1] \"a\"\n"
     ]
    }
   ],
   "source": [
    "#1. Nhap vao mot ky tu. In ky tu\n",
    "char = readline(prompt='Input a character: ')\n",
    "print(char)"
   ]
  },
  {
   "cell_type": "code",
   "execution_count": 10,
   "metadata": {},
   "outputs": [
    {
     "ename": "ERROR",
     "evalue": "Error in match(x, table, nomatch = 0L): 'match' requires vector arguments\n",
     "output_type": "error",
     "traceback": [
      "Error in match(x, table, nomatch = 0L): 'match' requires vector arguments\nTraceback:\n",
      "1. char %in% unlist(str)"
     ]
    }
   ],
   "source": [
    "if (char %in% unlist(str)){\n",
    "   new_string =  str\n",
    "   print(chartr(char, toupper(char), new_string) )\n",
    "}"
   ]
  },
  {
   "cell_type": "code",
   "execution_count": 2,
   "metadata": {},
   "outputs": [
    {
     "ename": "ERROR",
     "evalue": "Error in as.character(x): cannot coerce type 'closure' to vector of type 'character'\n",
     "output_type": "error",
     "traceback": [
      "Error in as.character(x): cannot coerce type 'closure' to vector of type 'character'\nTraceback:\n",
      "1. gsub(char, toupper(char), str)"
     ]
    }
   ],
   "source": [
    "str_new = gsub(char,toupper(char),str)\n",
    "print(str_new)"
   ]
  },
  {
   "cell_type": "code",
   "execution_count": null,
   "metadata": {},
   "outputs": [],
   "source": []
  },
  {
   "cell_type": "code",
   "execution_count": null,
   "metadata": {},
   "outputs": [],
   "source": []
  }
 ],
 "metadata": {
  "kernelspec": {
   "display_name": "R",
   "language": "R",
   "name": "ir"
  },
  "language_info": {
   "codemirror_mode": "r",
   "file_extension": ".r",
   "mimetype": "text/x-r-source",
   "name": "R",
   "pygments_lexer": "r",
   "version": "4.0.2"
  }
 },
 "nbformat": 4,
 "nbformat_minor": 4
}
