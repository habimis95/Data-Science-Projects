{
 "cells": [
  {
   "cell_type": "markdown",
   "metadata": {},
   "source": [
    "# Exercise 1"
   ]
  },
  {
   "cell_type": "code",
   "execution_count": 6,
   "metadata": {},
   "outputs": [
    {
     "name": "stdout",
     "output_type": "stream",
     "text": [
      "[1] \"Content of file:\"\n",
      "    V1  V2  V3  V4\n",
      "1  130 145 126 146\n",
      "2  164 130 132 152\n",
      "3  145 129 133 155\n",
      "4  140 127 139 137\n",
      "5  131 126 145 148\n",
      "6  125 132 126 126\n",
      "7  126 135 131 129\n",
      "8  147 136 129 136\n",
      "9  156 146 130 146\n",
      "10 132 142 132 132\n"
     ]
    }
   ],
   "source": [
    "df = read.csv('life_batteries.txt', sep='\\t', header = F)\n",
    "print('Content of file:')\n",
    "print(df)"
   ]
  },
  {
   "cell_type": "code",
   "execution_count": 2,
   "metadata": {},
   "outputs": [
    {
     "data": {
      "text/html": [
       "<style>\n",
       ".list-inline {list-style: none; margin:0; padding: 0}\n",
       ".list-inline>li {display: inline-block}\n",
       ".list-inline>li:not(:last-child)::after {content: \"\\00b7\"; padding: 0 .5ex}\n",
       "</style>\n",
       "<ol class=list-inline><li>130</li><li>164</li><li>145</li><li>140</li><li>131</li><li>125</li><li>126</li><li>147</li><li>156</li><li>132</li><li>145</li><li>130</li><li>129</li><li>127</li><li>126</li><li>132</li><li>135</li><li>136</li><li>146</li><li>142</li><li>126</li><li>132</li><li>133</li><li>139</li><li>145</li><li>126</li><li>131</li><li>129</li><li>130</li><li>132</li><li>146</li><li>152</li><li>155</li><li>137</li><li>148</li><li>126</li><li>129</li><li>136</li><li>146</li><li>132</li></ol>\n"
      ],
      "text/latex": [
       "\\begin{enumerate*}\n",
       "\\item 130\n",
       "\\item 164\n",
       "\\item 145\n",
       "\\item 140\n",
       "\\item 131\n",
       "\\item 125\n",
       "\\item 126\n",
       "\\item 147\n",
       "\\item 156\n",
       "\\item 132\n",
       "\\item 145\n",
       "\\item 130\n",
       "\\item 129\n",
       "\\item 127\n",
       "\\item 126\n",
       "\\item 132\n",
       "\\item 135\n",
       "\\item 136\n",
       "\\item 146\n",
       "\\item 142\n",
       "\\item 126\n",
       "\\item 132\n",
       "\\item 133\n",
       "\\item 139\n",
       "\\item 145\n",
       "\\item 126\n",
       "\\item 131\n",
       "\\item 129\n",
       "\\item 130\n",
       "\\item 132\n",
       "\\item 146\n",
       "\\item 152\n",
       "\\item 155\n",
       "\\item 137\n",
       "\\item 148\n",
       "\\item 126\n",
       "\\item 129\n",
       "\\item 136\n",
       "\\item 146\n",
       "\\item 132\n",
       "\\end{enumerate*}\n"
      ],
      "text/markdown": [
       "1. 130\n",
       "2. 164\n",
       "3. 145\n",
       "4. 140\n",
       "5. 131\n",
       "6. 125\n",
       "7. 126\n",
       "8. 147\n",
       "9. 156\n",
       "10. 132\n",
       "11. 145\n",
       "12. 130\n",
       "13. 129\n",
       "14. 127\n",
       "15. 126\n",
       "16. 132\n",
       "17. 135\n",
       "18. 136\n",
       "19. 146\n",
       "20. 142\n",
       "21. 126\n",
       "22. 132\n",
       "23. 133\n",
       "24. 139\n",
       "25. 145\n",
       "26. 126\n",
       "27. 131\n",
       "28. 129\n",
       "29. 130\n",
       "30. 132\n",
       "31. 146\n",
       "32. 152\n",
       "33. 155\n",
       "34. 137\n",
       "35. 148\n",
       "36. 126\n",
       "37. 129\n",
       "38. 136\n",
       "39. 146\n",
       "40. 132\n",
       "\n",
       "\n"
      ],
      "text/plain": [
       " [1] 130 164 145 140 131 125 126 147 156 132 145 130 129 127 126 132 135 136 146\n",
       "[20] 142 126 132 133 139 145 126 131 129 130 132 146 152 155 137 148 126 129 136\n",
       "[39] 146 132"
      ]
     },
     "metadata": {},
     "output_type": "display_data"
    }
   ],
   "source": [
    "data = c(df$V1, df$V2, df$V3, df$V4)\n",
    "data"
   ]
  },
  {
   "cell_type": "code",
   "execution_count": 3,
   "metadata": {},
   "outputs": [
    {
     "data": {
      "image/png": "[encoded data removed]",
      "text/plain": [
       "Plot with title \"Life Batteries\""
      ]
     },
     "metadata": {
      "image/png": {
       "height": 420,
       "width": 420
      }
     },
     "output_type": "display_data"
    }
   ],
   "source": [
    "par(mfrow=c(1,2))\n",
    "hist(data, main = 'Life Batteries', xlab='Hours', \n",
    "     xlim = c(110,max(data)+10), ylim = c(0, 20), col='orange',\n",
    "     border = 'blue', breaks=5)\n",
    "\n",
    "# Create the histogram\n",
    "hist(data, main = 'Life Batteries',\n",
    "     xlab='Hours',\n",
    "     xlim = c(110,max(data)+10),\n",
    "     col='orange',\n",
    "     breaks=10, border='blue',\n",
    "     # so lieu tren y theo hang ngang\n",
    "    las = 1, \n",
    "    freq = FALSE)\n",
    "lines(density(data))"
   ]
  },
  {
   "cell_type": "markdown",
   "metadata": {},
   "source": [
    "# Conclusion:\n",
    "- The chart shows that alomost data centered around range 130, which some data points over 150. We can conclude that the center of data is somewhere around 130-139\n",
    "- From 2 histogram charts above, we can determine many solutions about distribution and central tendency:"
   ]
  },
  {
   "cell_type": "code",
   "execution_count": 4,
   "metadata": {},
   "outputs": [
    {
     "data": {
      "text/plain": [
       "   Min. 1st Qu.  Median    Mean 3rd Qu.    Max. \n",
       "  125.0   129.8   132.5   136.8   145.0   164.0 "
      ]
     },
     "metadata": {},
     "output_type": "display_data"
    }
   ],
   "source": [
    "summary(data)"
   ]
  },
  {
   "cell_type": "code",
   "execution_count": 5,
   "metadata": {},
   "outputs": [
    {
     "data": {
      "text/html": [
       "95.874358974359"
      ],
      "text/latex": [
       "95.874358974359"
      ],
      "text/markdown": [
       "95.874358974359"
      ],
      "text/plain": [
       "[1] 95.87436"
      ]
     },
     "metadata": {},
     "output_type": "display_data"
    }
   ],
   "source": [
    "var(data)"
   ]
  },
  {
   "cell_type": "code",
   "execution_count": 7,
   "metadata": {},
   "outputs": [
    {
     "data": {
      "text/html": [
       "9.79154528020777"
      ],
      "text/latex": [
       "9.79154528020777"
      ],
      "text/markdown": [
       "9.79154528020777"
      ],
      "text/plain": [
       "[1] 9.791545"
      ]
     },
     "metadata": {},
     "output_type": "display_data"
    }
   ],
   "source": [
    "sd(data)"
   ]
  },
  {
   "cell_type": "code",
   "execution_count": 8,
   "metadata": {},
   "outputs": [],
   "source": [
    "library(\"moments\")"
   ]
  },
  {
   "cell_type": "code",
   "execution_count": 9,
   "metadata": {},
   "outputs": [
    {
     "data": {
      "text/html": [
       "0.845528704908616"
      ],
      "text/latex": [
       "0.845528704908616"
      ],
      "text/markdown": [
       "0.845528704908616"
      ],
      "text/plain": [
       "[1] 0.8455287"
      ]
     },
     "metadata": {},
     "output_type": "display_data"
    }
   ],
   "source": [
    "skewness(data)"
   ]
  },
  {
   "cell_type": "markdown",
   "metadata": {},
   "source": [
    "- Right skew distribution"
   ]
  },
  {
   "cell_type": "code",
   "execution_count": 10,
   "metadata": {},
   "outputs": [
    {
     "data": {
      "text/html": [
       "2.92386761692244"
      ],
      "text/latex": [
       "2.92386761692244"
      ],
      "text/markdown": [
       "2.92386761692244"
      ],
      "text/plain": [
       "[1] 2.923868"
      ]
     },
     "metadata": {},
     "output_type": "display_data"
    }
   ],
   "source": [
    "kurtosis(data)"
   ]
  },
  {
   "cell_type": "markdown",
   "metadata": {},
   "source": [
    "- < 3 => This Distribution is lower than the Standard Distribution"
   ]
  },
  {
   "cell_type": "markdown",
   "metadata": {},
   "source": [
    "# Exercise 2"
   ]
  },
  {
   "cell_type": "code",
   "execution_count": 12,
   "metadata": {},
   "outputs": [
    {
     "name": "stdout",
     "output_type": "stream",
     "text": [
      "[1] \"Content of file:\"\n",
      "    V1  V2  V3  V4\n",
      "1  134 130 140 151\n",
      "2  143 134 136 144\n",
      "3  150 135 160 141\n",
      "4  143 140 138 141\n",
      "5  148 146 140 146\n",
      "6  151 138 151 139\n",
      "7  151 128 146 147\n",
      "8  152 142 144 134\n",
      "9  142 146 142 136\n",
      "10 122 134 145 147\n"
     ]
    }
   ],
   "source": [
    "df2 = read.csv('life_batteries_2.txt', sep='\\t', header=F)\n",
    "print('Content of file:')\n",
    "print(df2)"
   ]
  },
  {
   "cell_type": "code",
   "execution_count": 21,
   "metadata": {},
   "outputs": [
    {
     "data": {
      "text/html": [
       "<style>\n",
       ".list-inline {list-style: none; margin:0; padding: 0}\n",
       ".list-inline>li {display: inline-block}\n",
       ".list-inline>li:not(:last-child)::after {content: \"\\00b7\"; padding: 0 .5ex}\n",
       "</style>\n",
       "<ol class=list-inline><li>134</li><li>143</li><li>150</li><li>143</li><li>148</li><li>151</li><li>151</li><li>152</li><li>142</li><li>122</li><li>130</li><li>134</li><li>135</li><li>140</li><li>146</li><li>138</li><li>128</li><li>142</li><li>146</li><li>134</li><li>140</li><li>136</li><li>160</li><li>138</li><li>140</li><li>151</li><li>146</li><li>144</li><li>142</li><li>145</li><li>151</li><li>144</li><li>141</li><li>141</li><li>146</li><li>139</li><li>147</li><li>134</li><li>136</li><li>147</li></ol>\n"
      ],
      "text/latex": [
       "\\begin{enumerate*}\n",
       "\\item 134\n",
       "\\item 143\n",
       "\\item 150\n",
       "\\item 143\n",
       "\\item 148\n",
       "\\item 151\n",
       "\\item 151\n",
       "\\item 152\n",
       "\\item 142\n",
       "\\item 122\n",
       "\\item 130\n",
       "\\item 134\n",
       "\\item 135\n",
       "\\item 140\n",
       "\\item 146\n",
       "\\item 138\n",
       "\\item 128\n",
       "\\item 142\n",
       "\\item 146\n",
       "\\item 134\n",
       "\\item 140\n",
       "\\item 136\n",
       "\\item 160\n",
       "\\item 138\n",
       "\\item 140\n",
       "\\item 151\n",
       "\\item 146\n",
       "\\item 144\n",
       "\\item 142\n",
       "\\item 145\n",
       "\\item 151\n",
       "\\item 144\n",
       "\\item 141\n",
       "\\item 141\n",
       "\\item 146\n",
       "\\item 139\n",
       "\\item 147\n",
       "\\item 134\n",
       "\\item 136\n",
       "\\item 147\n",
       "\\end{enumerate*}\n"
      ],
      "text/markdown": [
       "1. 134\n",
       "2. 143\n",
       "3. 150\n",
       "4. 143\n",
       "5. 148\n",
       "6. 151\n",
       "7. 151\n",
       "8. 152\n",
       "9. 142\n",
       "10. 122\n",
       "11. 130\n",
       "12. 134\n",
       "13. 135\n",
       "14. 140\n",
       "15. 146\n",
       "16. 138\n",
       "17. 128\n",
       "18. 142\n",
       "19. 146\n",
       "20. 134\n",
       "21. 140\n",
       "22. 136\n",
       "23. 160\n",
       "24. 138\n",
       "25. 140\n",
       "26. 151\n",
       "27. 146\n",
       "28. 144\n",
       "29. 142\n",
       "30. 145\n",
       "31. 151\n",
       "32. 144\n",
       "33. 141\n",
       "34. 141\n",
       "35. 146\n",
       "36. 139\n",
       "37. 147\n",
       "38. 134\n",
       "39. 136\n",
       "40. 147\n",
       "\n",
       "\n"
      ],
      "text/plain": [
       " [1] 134 143 150 143 148 151 151 152 142 122 130 134 135 140 146 138 128 142 146\n",
       "[20] 134 140 136 160 138 140 151 146 144 142 145 151 144 141 141 146 139 147 134\n",
       "[39] 136 147"
      ]
     },
     "metadata": {},
     "output_type": "display_data"
    }
   ],
   "source": [
    "data2 = c(df2$V1,df2$V2,df2$V3,df2$V4)\n",
    "data2"
   ]
  },
  {
   "cell_type": "code",
   "execution_count": 22,
   "metadata": {},
   "outputs": [
    {
     "data": {
      "image/png": "[encoded data removed]",
      "text/plain": [
       "Plot with title \"Life Batteries 2\""
      ]
     },
     "metadata": {
      "image/png": {
       "height": 420,
       "width": 420
      }
     },
     "output_type": "display_data"
    }
   ],
   "source": [
    "par(mfrow=c(1,2))\n",
    "hist(data2, main = 'Life Batteries 2', xlab='Hours', \n",
    "     xlim = c(110,max(data2)+10), ylim = c(0, 20), col='orange',\n",
    "     border = 'blue', breaks=5)\n",
    "\n",
    "# Create the histogram\n",
    "hist(data2, main = 'Life Batteries 2',\n",
    "     xlab='Hours',\n",
    "     xlim = c(110,max(data2)+10),\n",
    "     col='orange',\n",
    "     breaks=10, border='blue',\n",
    "     # so lieu tren y theo hang ngang\n",
    "    las = 1, \n",
    "    freq = FALSE)\n",
    "lines(density(data2))"
   ]
  },
  {
   "cell_type": "markdown",
   "metadata": {},
   "source": [
    "# Conclusion:\n",
    "- There are more data points in Battery 2 in range 140 than Battery 1. Otherwise, the variation of Battery 2 is lower than Battery 1.\n",
    "- As those results, we can conclude that Battery 2 is a better label (mean is higher & variation is lower). However, the validity of this conclusion depends on ways of collecting data."
   ]
  },
  {
   "cell_type": "code",
   "execution_count": 23,
   "metadata": {},
   "outputs": [
    {
     "data": {
      "text/plain": [
       "   Min. 1st Qu.  Median    Mean 3rd Qu.    Max. \n",
       "  122.0   137.5   142.0   141.9   146.2   160.0 "
      ]
     },
     "metadata": {},
     "output_type": "display_data"
    }
   ],
   "source": [
    "summary(data2)"
   ]
  },
  {
   "cell_type": "code",
   "execution_count": 24,
   "metadata": {},
   "outputs": [
    {
     "data": {
      "text/html": [
       "55.199358974359"
      ],
      "text/latex": [
       "55.199358974359"
      ],
      "text/markdown": [
       "55.199358974359"
      ],
      "text/plain": [
       "[1] 55.19936"
      ]
     },
     "metadata": {},
     "output_type": "display_data"
    }
   ],
   "source": [
    "var(data2)"
   ]
  },
  {
   "cell_type": "code",
   "execution_count": 25,
   "metadata": {},
   "outputs": [
    {
     "data": {
      "text/html": [
       "7.42962710870195"
      ],
      "text/latex": [
       "7.42962710870195"
      ],
      "text/markdown": [
       "7.42962710870195"
      ],
      "text/plain": [
       "[1] 7.429627"
      ]
     },
     "metadata": {},
     "output_type": "display_data"
    }
   ],
   "source": [
    "sd(data2)"
   ]
  },
  {
   "cell_type": "code",
   "execution_count": 26,
   "metadata": {},
   "outputs": [
    {
     "data": {
      "text/html": [
       "-0.251033897416653"
      ],
      "text/latex": [
       "-0.251033897416653"
      ],
      "text/markdown": [
       "-0.251033897416653"
      ],
      "text/plain": [
       "[1] -0.2510339"
      ]
     },
     "metadata": {},
     "output_type": "display_data"
    }
   ],
   "source": [
    "skewness(data2)"
   ]
  },
  {
   "cell_type": "markdown",
   "metadata": {},
   "source": [
    "- Left skew distribution"
   ]
  },
  {
   "cell_type": "code",
   "execution_count": 27,
   "metadata": {},
   "outputs": [
    {
     "data": {
      "text/html": [
       "3.35670280005492"
      ],
      "text/latex": [
       "3.35670280005492"
      ],
      "text/markdown": [
       "3.35670280005492"
      ],
      "text/plain": [
       "[1] 3.356703"
      ]
     },
     "metadata": {},
     "output_type": "display_data"
    }
   ],
   "source": [
    "kurtosis(data2)"
   ]
  },
  {
   "cell_type": "markdown",
   "metadata": {},
   "source": [
    "- Distribution is higher than the Standard Distribution"
   ]
  },
  {
   "cell_type": "markdown",
   "metadata": {},
   "source": [
    "# Remarks:\n",
    "- Those results shows that the Battery 2 has longer life expectency than the Battery 1 and the Battery 2 has a lower variance\n",
    "- The Battery 1 has skewness > 0: Right skew distribution\n",
    "- The Battery 2 has skewness < 0: Left skew distribution\n",
    "- The Battery 1 has kurtosis < 3: This Distribution is lower than the Standard Distribution\n",
    "- The Battery 2 has kurtosis > 3: This Distribution is higher than the Standard Distribution"
   ]
  },
  {
   "cell_type": "code",
   "execution_count": 28,
   "metadata": {},
   "outputs": [
    {
     "data": {
      "image/png": "[encoded data removed]",
      "text/plain": [
       "Plot with title \"Battery 2\""
      ]
     },
     "metadata": {
      "image/png": {
       "height": 420,
       "width": 420
      }
     },
     "output_type": "display_data"
    }
   ],
   "source": [
    "par(mfrow=c(1,2))\n",
    "boxplot(data, main='Battery 1')\n",
    "boxplot(data2, main='Battery 2')"
   ]
  },
  {
   "cell_type": "markdown",
   "metadata": {},
   "source": [
    "# Remarks:\n",
    "- The Battery 1 data has no outliers, except the Battery 2\n",
    "- The distribution of Battery 2 is more center than the distribution of Battery 1\n",
    "- The above charts support for the conclusion: the range of Battery 2 is lower than Battery 1 (less changing) and move to the right (higher center)."
   ]
  },
  {
   "cell_type": "code",
   "execution_count": null,
   "metadata": {},
   "outputs": [],
   "source": []
  }
 ],
 "metadata": {
  "kernelspec": {
   "display_name": "R",
   "language": "R",
   "name": "ir"
  },
  "language_info": {
   "codemirror_mode": "r",
   "file_extension": ".r",
   "mimetype": "text/x-r-source",
   "name": "R",
   "pygments_lexer": "r",
   "version": "4.0.2"
  }
 },
 "nbformat": 4,
 "nbformat_minor": 4
}
