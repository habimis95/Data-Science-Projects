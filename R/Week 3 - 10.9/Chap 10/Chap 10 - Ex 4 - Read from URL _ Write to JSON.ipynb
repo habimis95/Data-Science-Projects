{
 "cells": [
  {
   "cell_type": "code",
   "execution_count": 1,
   "metadata": {},
   "outputs": [],
   "source": [
    "library(httr)\n",
    "library('jsonlite')"
   ]
  },
  {
   "cell_type": "code",
   "execution_count": 2,
   "metadata": {},
   "outputs": [
    {
     "name": "stdout",
     "output_type": "stream",
     "text": [
      "[1] \"data.frame\"\n",
      "   pk                     name      fee                            image\n",
      "1   2           Asanzo 50 inch  9000000 images/asanzo_4k_50_11690000.jpg\n",
      "2  11 Dell Vostro V3568 XF6C61 11999000           images/Dell_vostro.jpg\n",
      "3  12   Macbook Air 2017 MQD32 18990000             images/MacbooAir.jpg\n",
      "4   3        Panasonic 40 inch  6590000 images/panansonic_40_6590000.jpg\n",
      "5   5          Samsung 32 inch  5999000    images/samsung_32_5990000.jpg\n",
      "6   9  Samsung Galaxy J2 Prime  2690000          images/SamsungPrime.jpg\n",
      "7   6            Sharp 45 inch  7490000      images/sharp_45_7490000.jpg\n",
      "8   7             Sony 48 inch 11599000      images/sony_48_11599000.png\n",
      "9   4             Sony 55 inch 20590000      images/sony_55_20590000.jpg\n",
      "10  8              TCL 55 inch  9900000        images/tcl_55_9900000.jpg\n",
      "11  1          Toshiba 32 inch  4590000     images/toshiba32_4590000.jpg\n",
      "12 10  iPad WiFi 32GB New 2018  8390000     images/iPad_Samsung_Wifi.jpg\n"
     ]
    }
   ],
   "source": [
    "# doc noi dung tu internet\n",
    "URL = 'http://phuong13021982.pythonanywhere.com/mystore/product_service/'\n",
    "getURL = GET(URL)\n",
    "content = rawToChar(getURL$content)\n",
    "json = fromJSON(content)\n",
    "Tivis = data.frame(json)\n",
    "print(class(Tivis))\n",
    "# bo cot description\n",
    "Tivis$description = NULL\n",
    "print(Tivis)"
   ]
  },
  {
   "cell_type": "code",
   "execution_count": 3,
   "metadata": {},
   "outputs": [],
   "source": [
    "# ghi noi dung nay vao tap tin tivi.json\n",
    "Tivis_json = toJSON(Tivis)\n",
    "write(Tivis_json, file='Cung cap buoi 5/Du_lieu/Binh_tivis_new.json')"
   ]
  },
  {
   "cell_type": "code",
   "execution_count": 4,
   "metadata": {},
   "outputs": [
    {
     "name": "stdout",
     "output_type": "stream",
     "text": [
      "[1] \"json data read from file:\"\n"
     ]
    },
    {
     "data": {
      "text/html": [
       "<table>\n",
       "<caption>A data.frame: 12 × 4</caption>\n",
       "<thead>\n",
       "\t<tr><th></th><th scope=col>pk</th><th scope=col>name</th><th scope=col>fee</th><th scope=col>image</th></tr>\n",
       "\t<tr><th></th><th scope=col>&lt;int&gt;</th><th scope=col>&lt;chr&gt;</th><th scope=col>&lt;int&gt;</th><th scope=col>&lt;chr&gt;</th></tr>\n",
       "</thead>\n",
       "<tbody>\n",
       "\t<tr><th scope=row>1</th><td> 2</td><td>Asanzo 50 inch          </td><td> 9000000</td><td>images/asanzo_4k_50_11690000.jpg</td></tr>\n",
       "\t<tr><th scope=row>2</th><td>11</td><td>Dell Vostro V3568 XF6C61</td><td>11999000</td><td>images/Dell_vostro.jpg          </td></tr>\n",
       "\t<tr><th scope=row>3</th><td>12</td><td>Macbook Air 2017 MQD32  </td><td>18990000</td><td>images/MacbooAir.jpg            </td></tr>\n",
       "\t<tr><th scope=row>4</th><td> 3</td><td>Panasonic 40 inch       </td><td> 6590000</td><td>images/panansonic_40_6590000.jpg</td></tr>\n",
       "\t<tr><th scope=row>5</th><td> 5</td><td>Samsung 32 inch         </td><td> 5999000</td><td>images/samsung_32_5990000.jpg   </td></tr>\n",
       "\t<tr><th scope=row>6</th><td> 9</td><td>Samsung Galaxy J2 Prime </td><td> 2690000</td><td>images/SamsungPrime.jpg         </td></tr>\n",
       "\t<tr><th scope=row>7</th><td> 6</td><td>Sharp 45 inch           </td><td> 7490000</td><td>images/sharp_45_7490000.jpg     </td></tr>\n",
       "\t<tr><th scope=row>8</th><td> 7</td><td>Sony 48 inch            </td><td>11599000</td><td>images/sony_48_11599000.png     </td></tr>\n",
       "\t<tr><th scope=row>9</th><td> 4</td><td>Sony 55 inch            </td><td>20590000</td><td>images/sony_55_20590000.jpg     </td></tr>\n",
       "\t<tr><th scope=row>10</th><td> 8</td><td>TCL 55 inch             </td><td> 9900000</td><td>images/tcl_55_9900000.jpg       </td></tr>\n",
       "\t<tr><th scope=row>11</th><td> 1</td><td>Toshiba 32 inch         </td><td> 4590000</td><td>images/toshiba32_4590000.jpg    </td></tr>\n",
       "\t<tr><th scope=row>12</th><td>10</td><td>iPad WiFi 32GB New 2018 </td><td> 8390000</td><td>images/iPad_Samsung_Wifi.jpg    </td></tr>\n",
       "</tbody>\n",
       "</table>\n"
      ],
      "text/latex": [
       "A data.frame: 12 × 4\n",
       "\\begin{tabular}{r|llll}\n",
       "  & pk & name & fee & image\\\\\n",
       "  & <int> & <chr> & <int> & <chr>\\\\\n",
       "\\hline\n",
       "\t1 &  2 & Asanzo 50 inch           &  9000000 & images/asanzo\\_4k\\_50\\_11690000.jpg\\\\\n",
       "\t2 & 11 & Dell Vostro V3568 XF6C61 & 11999000 & images/Dell\\_vostro.jpg          \\\\\n",
       "\t3 & 12 & Macbook Air 2017 MQD32   & 18990000 & images/MacbooAir.jpg            \\\\\n",
       "\t4 &  3 & Panasonic 40 inch        &  6590000 & images/panansonic\\_40\\_6590000.jpg\\\\\n",
       "\t5 &  5 & Samsung 32 inch          &  5999000 & images/samsung\\_32\\_5990000.jpg   \\\\\n",
       "\t6 &  9 & Samsung Galaxy J2 Prime  &  2690000 & images/SamsungPrime.jpg         \\\\\n",
       "\t7 &  6 & Sharp 45 inch            &  7490000 & images/sharp\\_45\\_7490000.jpg     \\\\\n",
       "\t8 &  7 & Sony 48 inch             & 11599000 & images/sony\\_48\\_11599000.png     \\\\\n",
       "\t9 &  4 & Sony 55 inch             & 20590000 & images/sony\\_55\\_20590000.jpg     \\\\\n",
       "\t10 &  8 & TCL 55 inch              &  9900000 & images/tcl\\_55\\_9900000.jpg       \\\\\n",
       "\t11 &  1 & Toshiba 32 inch          &  4590000 & images/toshiba32\\_4590000.jpg    \\\\\n",
       "\t12 & 10 & iPad WiFi 32GB New 2018  &  8390000 & images/iPad\\_Samsung\\_Wifi.jpg    \\\\\n",
       "\\end{tabular}\n"
      ],
      "text/markdown": [
       "\n",
       "A data.frame: 12 × 4\n",
       "\n",
       "| <!--/--> | pk &lt;int&gt; | name &lt;chr&gt; | fee &lt;int&gt; | image &lt;chr&gt; |\n",
       "|---|---|---|---|---|\n",
       "| 1 |  2 | Asanzo 50 inch           |  9000000 | images/asanzo_4k_50_11690000.jpg |\n",
       "| 2 | 11 | Dell Vostro V3568 XF6C61 | 11999000 | images/Dell_vostro.jpg           |\n",
       "| 3 | 12 | Macbook Air 2017 MQD32   | 18990000 | images/MacbooAir.jpg             |\n",
       "| 4 |  3 | Panasonic 40 inch        |  6590000 | images/panansonic_40_6590000.jpg |\n",
       "| 5 |  5 | Samsung 32 inch          |  5999000 | images/samsung_32_5990000.jpg    |\n",
       "| 6 |  9 | Samsung Galaxy J2 Prime  |  2690000 | images/SamsungPrime.jpg          |\n",
       "| 7 |  6 | Sharp 45 inch            |  7490000 | images/sharp_45_7490000.jpg      |\n",
       "| 8 |  7 | Sony 48 inch             | 11599000 | images/sony_48_11599000.png      |\n",
       "| 9 |  4 | Sony 55 inch             | 20590000 | images/sony_55_20590000.jpg      |\n",
       "| 10 |  8 | TCL 55 inch              |  9900000 | images/tcl_55_9900000.jpg        |\n",
       "| 11 |  1 | Toshiba 32 inch          |  4590000 | images/toshiba32_4590000.jpg     |\n",
       "| 12 | 10 | iPad WiFi 32GB New 2018  |  8390000 | images/iPad_Samsung_Wifi.jpg     |\n",
       "\n"
      ],
      "text/plain": [
       "   pk name                     fee      image                           \n",
       "1   2 Asanzo 50 inch            9000000 images/asanzo_4k_50_11690000.jpg\n",
       "2  11 Dell Vostro V3568 XF6C61 11999000 images/Dell_vostro.jpg          \n",
       "3  12 Macbook Air 2017 MQD32   18990000 images/MacbooAir.jpg            \n",
       "4   3 Panasonic 40 inch         6590000 images/panansonic_40_6590000.jpg\n",
       "5   5 Samsung 32 inch           5999000 images/samsung_32_5990000.jpg   \n",
       "6   9 Samsung Galaxy J2 Prime   2690000 images/SamsungPrime.jpg         \n",
       "7   6 Sharp 45 inch             7490000 images/sharp_45_7490000.jpg     \n",
       "8   7 Sony 48 inch             11599000 images/sony_48_11599000.png     \n",
       "9   4 Sony 55 inch             20590000 images/sony_55_20590000.jpg     \n",
       "10  8 TCL 55 inch               9900000 images/tcl_55_9900000.jpg       \n",
       "11  1 Toshiba 32 inch           4590000 images/toshiba32_4590000.jpg    \n",
       "12 10 iPad WiFi 32GB New 2018   8390000 images/iPad_Samsung_Wifi.jpg    "
      ]
     },
     "metadata": {},
     "output_type": "display_data"
    }
   ],
   "source": [
    "# Give the input file name to the fucntion\n",
    "result = fromJSON(txt='Cung cap buoi 5/Du_lieu/Binh_tivis_new.json')\n",
    "# Print the result\n",
    "print('json data read from file:')\n",
    "data = data.frame(result)\n",
    "data"
   ]
  },
  {
   "cell_type": "code",
   "execution_count": null,
   "metadata": {},
   "outputs": [],
   "source": []
  }
 ],
 "metadata": {
  "kernelspec": {
   "display_name": "R",
   "language": "R",
   "name": "ir"
  },
  "language_info": {
   "codemirror_mode": "r",
   "file_extension": ".r",
   "mimetype": "text/x-r-source",
   "name": "R",
   "pygments_lexer": "r",
   "version": "4.0.2"
  }
 },
 "nbformat": 4,
 "nbformat_minor": 4
}
