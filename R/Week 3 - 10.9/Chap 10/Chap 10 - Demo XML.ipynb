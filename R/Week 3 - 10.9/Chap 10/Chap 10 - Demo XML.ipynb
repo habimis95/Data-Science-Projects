{
 "cells": [
  {
   "cell_type": "code",
   "execution_count": 1,
   "metadata": {},
   "outputs": [],
   "source": [
    "library('XML')\n",
    "library('methods')"
   ]
  },
  {
   "cell_type": "code",
   "execution_count": 2,
   "metadata": {},
   "outputs": [],
   "source": [
    "data = xmlToDataFrame('Cung cap buoi 5/Du_lieu/cd.xml')"
   ]
  },
  {
   "cell_type": "code",
   "execution_count": 3,
   "metadata": {},
   "outputs": [
    {
     "data": {
      "text/html": [
       "<table>\n",
       "<caption>A data.frame: 26 × 6</caption>\n",
       "<thead>\n",
       "\t<tr><th scope=col>TITLE</th><th scope=col>ARTIST</th><th scope=col>COUNTRY</th><th scope=col>COMPANY</th><th scope=col>PRICE</th><th scope=col>YEAR</th></tr>\n",
       "\t<tr><th scope=col>&lt;chr&gt;</th><th scope=col>&lt;chr&gt;</th><th scope=col>&lt;chr&gt;</th><th scope=col>&lt;chr&gt;</th><th scope=col>&lt;chr&gt;</th><th scope=col>&lt;chr&gt;</th></tr>\n",
       "</thead>\n",
       "<tbody>\n",
       "\t<tr><td>Empire Burlesque        </td><td>Bob Dylan        </td><td>USA   </td><td>Columbia      </td><td>10.90</td><td>1985</td></tr>\n",
       "\t<tr><td>Hide your heart         </td><td>Bonnie Tyler     </td><td>UK    </td><td>CBS Records   </td><td>9.90 </td><td>1988</td></tr>\n",
       "\t<tr><td>Greatest Hits           </td><td>Dolly Parton     </td><td>USA   </td><td>RCA           </td><td>9.90 </td><td>1982</td></tr>\n",
       "\t<tr><td>Still got the blues     </td><td>Gary Moore       </td><td>UK    </td><td>Virgin records</td><td>10.20</td><td>1990</td></tr>\n",
       "\t<tr><td>Eros                    </td><td>Eros Ramazzotti  </td><td>EU    </td><td>BMG           </td><td>9.90 </td><td>1997</td></tr>\n",
       "\t<tr><td>One night only          </td><td>Bee Gees         </td><td>UK    </td><td>Polydor       </td><td>10.90</td><td>1998</td></tr>\n",
       "\t<tr><td>Sylvias Mother          </td><td>Dr.Hook          </td><td>UK    </td><td>CBS           </td><td>8.10 </td><td>1973</td></tr>\n",
       "\t<tr><td>Maggie May              </td><td>Rod Stewart      </td><td>UK    </td><td>Pickwick      </td><td>8.50 </td><td>1990</td></tr>\n",
       "\t<tr><td>Romanza                 </td><td>Andrea Bocelli   </td><td>EU    </td><td>Polydor       </td><td>10.80</td><td>1996</td></tr>\n",
       "\t<tr><td>When a man loves a woman</td><td>Percy Sledge     </td><td>USA   </td><td>Atlantic      </td><td>8.70 </td><td>1987</td></tr>\n",
       "\t<tr><td>Black angel             </td><td>Savage Rose      </td><td>EU    </td><td>Mega          </td><td>10.90</td><td>1995</td></tr>\n",
       "\t<tr><td>1999 Grammy Nominees    </td><td>Many             </td><td>USA   </td><td>Grammy        </td><td>10.20</td><td>1999</td></tr>\n",
       "\t<tr><td>For the good times      </td><td>Kenny Rogers     </td><td>UK    </td><td>Mucik Master  </td><td>8.70 </td><td>1995</td></tr>\n",
       "\t<tr><td>Big Willie style        </td><td>Will Smith       </td><td>USA   </td><td>Columbia      </td><td>9.90 </td><td>1997</td></tr>\n",
       "\t<tr><td>Tupelo Honey            </td><td>Van Morrison     </td><td>UK    </td><td>Polydor       </td><td>8.20 </td><td>1971</td></tr>\n",
       "\t<tr><td>Soulsville              </td><td>Jorn Hoel        </td><td>Norway</td><td>WEA           </td><td>7.90 </td><td>1996</td></tr>\n",
       "\t<tr><td>The very best of        </td><td>Cat Stevens      </td><td>UK    </td><td>Island        </td><td>8.90 </td><td>1990</td></tr>\n",
       "\t<tr><td>Stop                    </td><td>Sam Brown        </td><td>UK    </td><td>A and M       </td><td>8.90 </td><td>1988</td></tr>\n",
       "\t<tr><td>Bridge of Spies         </td><td>T'Pau            </td><td>UK    </td><td>Siren         </td><td>7.90 </td><td>1987</td></tr>\n",
       "\t<tr><td>Private Dancer          </td><td>Tina Turner      </td><td>UK    </td><td>Capitol       </td><td>8.90 </td><td>1983</td></tr>\n",
       "\t<tr><td>Midt om natten          </td><td>Kim Larsen       </td><td>EU    </td><td>Medley        </td><td>7.80 </td><td>1983</td></tr>\n",
       "\t<tr><td>Pavarotti Gala Concert  </td><td>Luciano Pavarotti</td><td>UK    </td><td>DECCA         </td><td>9.90 </td><td>1991</td></tr>\n",
       "\t<tr><td>The dock of the bay     </td><td>Otis Redding     </td><td>USA   </td><td>Stax Records  </td><td>7.90 </td><td>1968</td></tr>\n",
       "\t<tr><td>Picture book            </td><td>Simply Red       </td><td>EU    </td><td>Elektra       </td><td>7.20 </td><td>1985</td></tr>\n",
       "\t<tr><td>Red                     </td><td>The Communards   </td><td>UK    </td><td>London        </td><td>7.80 </td><td>1987</td></tr>\n",
       "\t<tr><td>Unchain my heart        </td><td>Joe Cocker       </td><td>USA   </td><td>EMI           </td><td>8.20 </td><td>1987</td></tr>\n",
       "</tbody>\n",
       "</table>\n"
      ],
      "text/latex": [
       "A data.frame: 26 × 6\n",
       "\\begin{tabular}{llllll}\n",
       " TITLE & ARTIST & COUNTRY & COMPANY & PRICE & YEAR\\\\\n",
       " <chr> & <chr> & <chr> & <chr> & <chr> & <chr>\\\\\n",
       "\\hline\n",
       "\t Empire Burlesque         & Bob Dylan         & USA    & Columbia       & 10.90 & 1985\\\\\n",
       "\t Hide your heart          & Bonnie Tyler      & UK     & CBS Records    & 9.90  & 1988\\\\\n",
       "\t Greatest Hits            & Dolly Parton      & USA    & RCA            & 9.90  & 1982\\\\\n",
       "\t Still got the blues      & Gary Moore        & UK     & Virgin records & 10.20 & 1990\\\\\n",
       "\t Eros                     & Eros Ramazzotti   & EU     & BMG            & 9.90  & 1997\\\\\n",
       "\t One night only           & Bee Gees          & UK     & Polydor        & 10.90 & 1998\\\\\n",
       "\t Sylvias Mother           & Dr.Hook           & UK     & CBS            & 8.10  & 1973\\\\\n",
       "\t Maggie May               & Rod Stewart       & UK     & Pickwick       & 8.50  & 1990\\\\\n",
       "\t Romanza                  & Andrea Bocelli    & EU     & Polydor        & 10.80 & 1996\\\\\n",
       "\t When a man loves a woman & Percy Sledge      & USA    & Atlantic       & 8.70  & 1987\\\\\n",
       "\t Black angel              & Savage Rose       & EU     & Mega           & 10.90 & 1995\\\\\n",
       "\t 1999 Grammy Nominees     & Many              & USA    & Grammy         & 10.20 & 1999\\\\\n",
       "\t For the good times       & Kenny Rogers      & UK     & Mucik Master   & 8.70  & 1995\\\\\n",
       "\t Big Willie style         & Will Smith        & USA    & Columbia       & 9.90  & 1997\\\\\n",
       "\t Tupelo Honey             & Van Morrison      & UK     & Polydor        & 8.20  & 1971\\\\\n",
       "\t Soulsville               & Jorn Hoel         & Norway & WEA            & 7.90  & 1996\\\\\n",
       "\t The very best of         & Cat Stevens       & UK     & Island         & 8.90  & 1990\\\\\n",
       "\t Stop                     & Sam Brown         & UK     & A and M        & 8.90  & 1988\\\\\n",
       "\t Bridge of Spies          & T'Pau             & UK     & Siren          & 7.90  & 1987\\\\\n",
       "\t Private Dancer           & Tina Turner       & UK     & Capitol        & 8.90  & 1983\\\\\n",
       "\t Midt om natten           & Kim Larsen        & EU     & Medley         & 7.80  & 1983\\\\\n",
       "\t Pavarotti Gala Concert   & Luciano Pavarotti & UK     & DECCA          & 9.90  & 1991\\\\\n",
       "\t The dock of the bay      & Otis Redding      & USA    & Stax Records   & 7.90  & 1968\\\\\n",
       "\t Picture book             & Simply Red        & EU     & Elektra        & 7.20  & 1985\\\\\n",
       "\t Red                      & The Communards    & UK     & London         & 7.80  & 1987\\\\\n",
       "\t Unchain my heart         & Joe Cocker        & USA    & EMI            & 8.20  & 1987\\\\\n",
       "\\end{tabular}\n"
      ],
      "text/markdown": [
       "\n",
       "A data.frame: 26 × 6\n",
       "\n",
       "| TITLE &lt;chr&gt; | ARTIST &lt;chr&gt; | COUNTRY &lt;chr&gt; | COMPANY &lt;chr&gt; | PRICE &lt;chr&gt; | YEAR &lt;chr&gt; |\n",
       "|---|---|---|---|---|---|\n",
       "| Empire Burlesque         | Bob Dylan         | USA    | Columbia       | 10.90 | 1985 |\n",
       "| Hide your heart          | Bonnie Tyler      | UK     | CBS Records    | 9.90  | 1988 |\n",
       "| Greatest Hits            | Dolly Parton      | USA    | RCA            | 9.90  | 1982 |\n",
       "| Still got the blues      | Gary Moore        | UK     | Virgin records | 10.20 | 1990 |\n",
       "| Eros                     | Eros Ramazzotti   | EU     | BMG            | 9.90  | 1997 |\n",
       "| One night only           | Bee Gees          | UK     | Polydor        | 10.90 | 1998 |\n",
       "| Sylvias Mother           | Dr.Hook           | UK     | CBS            | 8.10  | 1973 |\n",
       "| Maggie May               | Rod Stewart       | UK     | Pickwick       | 8.50  | 1990 |\n",
       "| Romanza                  | Andrea Bocelli    | EU     | Polydor        | 10.80 | 1996 |\n",
       "| When a man loves a woman | Percy Sledge      | USA    | Atlantic       | 8.70  | 1987 |\n",
       "| Black angel              | Savage Rose       | EU     | Mega           | 10.90 | 1995 |\n",
       "| 1999 Grammy Nominees     | Many              | USA    | Grammy         | 10.20 | 1999 |\n",
       "| For the good times       | Kenny Rogers      | UK     | Mucik Master   | 8.70  | 1995 |\n",
       "| Big Willie style         | Will Smith        | USA    | Columbia       | 9.90  | 1997 |\n",
       "| Tupelo Honey             | Van Morrison      | UK     | Polydor        | 8.20  | 1971 |\n",
       "| Soulsville               | Jorn Hoel         | Norway | WEA            | 7.90  | 1996 |\n",
       "| The very best of         | Cat Stevens       | UK     | Island         | 8.90  | 1990 |\n",
       "| Stop                     | Sam Brown         | UK     | A and M        | 8.90  | 1988 |\n",
       "| Bridge of Spies          | T'Pau             | UK     | Siren          | 7.90  | 1987 |\n",
       "| Private Dancer           | Tina Turner       | UK     | Capitol        | 8.90  | 1983 |\n",
       "| Midt om natten           | Kim Larsen        | EU     | Medley         | 7.80  | 1983 |\n",
       "| Pavarotti Gala Concert   | Luciano Pavarotti | UK     | DECCA          | 9.90  | 1991 |\n",
       "| The dock of the bay      | Otis Redding      | USA    | Stax Records   | 7.90  | 1968 |\n",
       "| Picture book             | Simply Red        | EU     | Elektra        | 7.20  | 1985 |\n",
       "| Red                      | The Communards    | UK     | London         | 7.80  | 1987 |\n",
       "| Unchain my heart         | Joe Cocker        | USA    | EMI            | 8.20  | 1987 |\n",
       "\n"
      ],
      "text/plain": [
       "   TITLE                    ARTIST            COUNTRY COMPANY        PRICE YEAR\n",
       "1  Empire Burlesque         Bob Dylan         USA     Columbia       10.90 1985\n",
       "2  Hide your heart          Bonnie Tyler      UK      CBS Records    9.90  1988\n",
       "3  Greatest Hits            Dolly Parton      USA     RCA            9.90  1982\n",
       "4  Still got the blues      Gary Moore        UK      Virgin records 10.20 1990\n",
       "5  Eros                     Eros Ramazzotti   EU      BMG            9.90  1997\n",
       "6  One night only           Bee Gees          UK      Polydor        10.90 1998\n",
       "7  Sylvias Mother           Dr.Hook           UK      CBS            8.10  1973\n",
       "8  Maggie May               Rod Stewart       UK      Pickwick       8.50  1990\n",
       "9  Romanza                  Andrea Bocelli    EU      Polydor        10.80 1996\n",
       "10 When a man loves a woman Percy Sledge      USA     Atlantic       8.70  1987\n",
       "11 Black angel              Savage Rose       EU      Mega           10.90 1995\n",
       "12 1999 Grammy Nominees     Many              USA     Grammy         10.20 1999\n",
       "13 For the good times       Kenny Rogers      UK      Mucik Master   8.70  1995\n",
       "14 Big Willie style         Will Smith        USA     Columbia       9.90  1997\n",
       "15 Tupelo Honey             Van Morrison      UK      Polydor        8.20  1971\n",
       "16 Soulsville               Jorn Hoel         Norway  WEA            7.90  1996\n",
       "17 The very best of         Cat Stevens       UK      Island         8.90  1990\n",
       "18 Stop                     Sam Brown         UK      A and M        8.90  1988\n",
       "19 Bridge of Spies          T'Pau             UK      Siren          7.90  1987\n",
       "20 Private Dancer           Tina Turner       UK      Capitol        8.90  1983\n",
       "21 Midt om natten           Kim Larsen        EU      Medley         7.80  1983\n",
       "22 Pavarotti Gala Concert   Luciano Pavarotti UK      DECCA          9.90  1991\n",
       "23 The dock of the bay      Otis Redding      USA     Stax Records   7.90  1968\n",
       "24 Picture book             Simply Red        EU      Elektra        7.20  1985\n",
       "25 Red                      The Communards    UK      London         7.80  1987\n",
       "26 Unchain my heart         Joe Cocker        USA     EMI            8.20  1987"
      ]
     },
     "metadata": {},
     "output_type": "display_data"
    }
   ],
   "source": [
    "data"
   ]
  },
  {
   "cell_type": "code",
   "execution_count": 4,
   "metadata": {},
   "outputs": [
    {
     "name": "stderr",
     "output_type": "stream",
     "text": [
      "-- \u001b[1mAttaching packages\u001b[22m --------------------------------------- tidyverse 1.3.0 --\n",
      "\n",
      "\u001b[32mv\u001b[39m \u001b[34mggplot2\u001b[39m 3.3.2     \u001b[32mv\u001b[39m \u001b[34mpurrr  \u001b[39m 0.3.4\n",
      "\u001b[32mv\u001b[39m \u001b[34mtibble \u001b[39m 3.0.3     \u001b[32mv\u001b[39m \u001b[34mdplyr  \u001b[39m 1.0.2\n",
      "\u001b[32mv\u001b[39m \u001b[34mtidyr  \u001b[39m 1.1.1     \u001b[32mv\u001b[39m \u001b[34mstringr\u001b[39m 1.4.0\n",
      "\u001b[32mv\u001b[39m \u001b[34mreadr  \u001b[39m 1.3.1     \u001b[32mv\u001b[39m \u001b[34mforcats\u001b[39m 0.5.0\n",
      "\n",
      "-- \u001b[1mConflicts\u001b[22m ------------------------------------------ tidyverse_conflicts() --\n",
      "\u001b[31mx\u001b[39m \u001b[34mdplyr\u001b[39m::\u001b[32mfilter()\u001b[39m masks \u001b[34mstats\u001b[39m::filter()\n",
      "\u001b[31mx\u001b[39m \u001b[34mdplyr\u001b[39m::\u001b[32mlag()\u001b[39m    masks \u001b[34mstats\u001b[39m::lag()\n",
      "\n"
     ]
    }
   ],
   "source": [
    "library(tidyverse)"
   ]
  },
  {
   "cell_type": "code",
   "execution_count": 6,
   "metadata": {},
   "outputs": [],
   "source": [
    "cd_usa = data %>% filter(COUNTRY=='USA')"
   ]
  },
  {
   "cell_type": "code",
   "execution_count": 7,
   "metadata": {},
   "outputs": [
    {
     "data": {
      "text/html": [
       "<table>\n",
       "<caption>A data.frame: 7 × 6</caption>\n",
       "<thead>\n",
       "\t<tr><th scope=col>TITLE</th><th scope=col>ARTIST</th><th scope=col>COUNTRY</th><th scope=col>COMPANY</th><th scope=col>PRICE</th><th scope=col>YEAR</th></tr>\n",
       "\t<tr><th scope=col>&lt;chr&gt;</th><th scope=col>&lt;chr&gt;</th><th scope=col>&lt;chr&gt;</th><th scope=col>&lt;chr&gt;</th><th scope=col>&lt;chr&gt;</th><th scope=col>&lt;chr&gt;</th></tr>\n",
       "</thead>\n",
       "<tbody>\n",
       "\t<tr><td>Empire Burlesque        </td><td>Bob Dylan   </td><td>USA</td><td>Columbia    </td><td>10.90</td><td>1985</td></tr>\n",
       "\t<tr><td>Greatest Hits           </td><td>Dolly Parton</td><td>USA</td><td>RCA         </td><td>9.90 </td><td>1982</td></tr>\n",
       "\t<tr><td>When a man loves a woman</td><td>Percy Sledge</td><td>USA</td><td>Atlantic    </td><td>8.70 </td><td>1987</td></tr>\n",
       "\t<tr><td>1999 Grammy Nominees    </td><td>Many        </td><td>USA</td><td>Grammy      </td><td>10.20</td><td>1999</td></tr>\n",
       "\t<tr><td>Big Willie style        </td><td>Will Smith  </td><td>USA</td><td>Columbia    </td><td>9.90 </td><td>1997</td></tr>\n",
       "\t<tr><td>The dock of the bay     </td><td>Otis Redding</td><td>USA</td><td>Stax Records</td><td>7.90 </td><td>1968</td></tr>\n",
       "\t<tr><td>Unchain my heart        </td><td>Joe Cocker  </td><td>USA</td><td>EMI         </td><td>8.20 </td><td>1987</td></tr>\n",
       "</tbody>\n",
       "</table>\n"
      ],
      "text/latex": [
       "A data.frame: 7 × 6\n",
       "\\begin{tabular}{llllll}\n",
       " TITLE & ARTIST & COUNTRY & COMPANY & PRICE & YEAR\\\\\n",
       " <chr> & <chr> & <chr> & <chr> & <chr> & <chr>\\\\\n",
       "\\hline\n",
       "\t Empire Burlesque         & Bob Dylan    & USA & Columbia     & 10.90 & 1985\\\\\n",
       "\t Greatest Hits            & Dolly Parton & USA & RCA          & 9.90  & 1982\\\\\n",
       "\t When a man loves a woman & Percy Sledge & USA & Atlantic     & 8.70  & 1987\\\\\n",
       "\t 1999 Grammy Nominees     & Many         & USA & Grammy       & 10.20 & 1999\\\\\n",
       "\t Big Willie style         & Will Smith   & USA & Columbia     & 9.90  & 1997\\\\\n",
       "\t The dock of the bay      & Otis Redding & USA & Stax Records & 7.90  & 1968\\\\\n",
       "\t Unchain my heart         & Joe Cocker   & USA & EMI          & 8.20  & 1987\\\\\n",
       "\\end{tabular}\n"
      ],
      "text/markdown": [
       "\n",
       "A data.frame: 7 × 6\n",
       "\n",
       "| TITLE &lt;chr&gt; | ARTIST &lt;chr&gt; | COUNTRY &lt;chr&gt; | COMPANY &lt;chr&gt; | PRICE &lt;chr&gt; | YEAR &lt;chr&gt; |\n",
       "|---|---|---|---|---|---|\n",
       "| Empire Burlesque         | Bob Dylan    | USA | Columbia     | 10.90 | 1985 |\n",
       "| Greatest Hits            | Dolly Parton | USA | RCA          | 9.90  | 1982 |\n",
       "| When a man loves a woman | Percy Sledge | USA | Atlantic     | 8.70  | 1987 |\n",
       "| 1999 Grammy Nominees     | Many         | USA | Grammy       | 10.20 | 1999 |\n",
       "| Big Willie style         | Will Smith   | USA | Columbia     | 9.90  | 1997 |\n",
       "| The dock of the bay      | Otis Redding | USA | Stax Records | 7.90  | 1968 |\n",
       "| Unchain my heart         | Joe Cocker   | USA | EMI          | 8.20  | 1987 |\n",
       "\n"
      ],
      "text/plain": [
       "  TITLE                    ARTIST       COUNTRY COMPANY      PRICE YEAR\n",
       "1 Empire Burlesque         Bob Dylan    USA     Columbia     10.90 1985\n",
       "2 Greatest Hits            Dolly Parton USA     RCA          9.90  1982\n",
       "3 When a man loves a woman Percy Sledge USA     Atlantic     8.70  1987\n",
       "4 1999 Grammy Nominees     Many         USA     Grammy       10.20 1999\n",
       "5 Big Willie style         Will Smith   USA     Columbia     9.90  1997\n",
       "6 The dock of the bay      Otis Redding USA     Stax Records 7.90  1968\n",
       "7 Unchain my heart         Joe Cocker   USA     EMI          8.20  1987"
      ]
     },
     "metadata": {},
     "output_type": "display_data"
    }
   ],
   "source": [
    "cd_usa"
   ]
  },
  {
   "cell_type": "code",
   "execution_count": 11,
   "metadata": {},
   "outputs": [],
   "source": [
    "# create xml file from data frame\n",
    "doc = newXMLDoc()\n",
    "# Simple creation of an XML tree using these functions\n",
    "top = newXMLNode('CATALOG', doc=doc)\n",
    "for(row in 1:nrow(cd_usa)){\n",
    "    cdnode = newXMLNode('CD', parent=top)\n",
    "    newXMLNode('TITLE', cd_usa[row, 'TITLE'], parent=cdnode)\n",
    "    newXMLNode('ARTIST', cd_usa[row, 'ARTIST'], parent=cdnode)\n",
    "    newXMLNode('COUNTRY', cd_usa[row, 'COUNTRY'], parent=cdnode)\n",
    "    newXMLNode('COMPANY', cd_usa[row, 'COMPANY'], parent=cdnode)\n",
    "    newXMLNode('PRICE', cd_usa[row, 'PRICE'], parent=cdnode)\n",
    "    newXMLNode('YEAR', cd_usa[row, 'YEAR'], parent=cdnode)\n",
    "}\n",
    "cat(saveXML(doc,\n",
    "           indent=TRUE,\n",
    "           prefix='<?xml version=\\'1.0\\'encoding=\\'utf-8\\'standalone=\\'n\\'?>\\n'),\n",
    "            file= 'Cung cap buoi 5/Du_lieu/HaiBinh_cd_usa.xml')"
   ]
  },
  {
   "cell_type": "code",
   "execution_count": 13,
   "metadata": {},
   "outputs": [],
   "source": [
    "url = 'http://www.w3schools.com/xml/cd_catalog.xml'\n",
    "download.file(url, destfile = 'Binh_cd.xml')"
   ]
  },
  {
   "cell_type": "code",
   "execution_count": null,
   "metadata": {},
   "outputs": [],
   "source": [
    "cd = xmlToDataFrame"
   ]
  }
 ],
 "metadata": {
  "kernelspec": {
   "display_name": "R",
   "language": "R",
   "name": "ir"
  },
  "language_info": {
   "codemirror_mode": "r",
   "file_extension": ".r",
   "mimetype": "text/x-r-source",
   "name": "R",
   "pygments_lexer": "r",
   "version": "4.0.2"
  }
 },
 "nbformat": 4,
 "nbformat_minor": 4
}
