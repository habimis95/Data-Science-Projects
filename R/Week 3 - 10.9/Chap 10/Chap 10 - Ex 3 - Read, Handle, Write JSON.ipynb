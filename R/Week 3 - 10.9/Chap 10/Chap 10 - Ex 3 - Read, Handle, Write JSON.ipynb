{
 "cells": [
  {
   "cell_type": "code",
   "execution_count": 1,
   "metadata": {},
   "outputs": [],
   "source": [
    "# load the package required to read JSON files\n",
    "library('rjson')"
   ]
  },
  {
   "cell_type": "code",
   "execution_count": 5,
   "metadata": {},
   "outputs": [
    {
     "name": "stdout",
     "output_type": "stream",
     "text": [
      "[1] \"Data type: list\"\n",
      "  Tree  age circumference\n",
      "1    1  118            30\n",
      "2    1  484            58\n",
      "3    1  664            87\n",
      "4    1 1004           115\n",
      "5    1 1231           120\n",
      "6    1 1372           142\n"
     ]
    }
   ],
   "source": [
    "# Give the input file name to the function\n",
    "result = fromJSON(file = 'Cung cap buoi 5/Du_lieu/orange.json')\n",
    "# cho biet kieu du lieu cua orange\n",
    "print(paste('Data type:', class(result)))\n",
    "# neu khong phai la data frame thi doi thanh data frame\n",
    "# in ket qua \n",
    "data = data.frame(result)\n",
    "print(head(data))"
   ]
  },
  {
   "cell_type": "code",
   "execution_count": 6,
   "metadata": {},
   "outputs": [
    {
     "name": "stdout",
     "output_type": "stream",
     "text": [
      "[1] \"Max year:\"\n",
      "  Tree  age circumference\n",
      "7    1 1582           145\n"
     ]
    }
   ],
   "source": [
    "# cho biet trong nhung cay cam nay co cay nao co tuoi tho cao nhat\n",
    "data_max_year = data[which.max(data$age),]\n",
    "print('Max year:')\n",
    "print(data_max_year)"
   ]
  },
  {
   "cell_type": "code",
   "execution_count": 7,
   "metadata": {},
   "outputs": [
    {
     "name": "stdout",
     "output_type": "stream",
     "text": [
      "[1] \"Min year:\"\n",
      "  Tree age circumference\n",
      "1    1 118            30\n"
     ]
    }
   ],
   "source": [
    "# cho biet trong nhung cay cam nay co cay nao co tuoi tho thap nhat\n",
    "data_max_year = data[which.min(data$age),]\n",
    "print('Min year:')\n",
    "print(data_max_year)"
   ]
  },
  {
   "cell_type": "code",
   "execution_count": 9,
   "metadata": {},
   "outputs": [
    {
     "name": "stdout",
     "output_type": "stream",
     "text": [
      "   Tree  age circumference\n",
      "4     1 1004           115\n",
      "5     1 1231           120\n",
      "6     1 1372           142\n",
      "7     1 1582           145\n",
      "11    2 1004           156\n",
      "12    2 1231           172\n",
      "[1] \"data.frame\"\n",
      "[1] \"Number of rows: 20\"\n"
     ]
    }
   ],
   "source": [
    "# danh sach cac cay trong co circumference > 100 va age > 1000\n",
    "large_100_age_1000 = subset(data, data$age>1000 & data$circumference>100)\n",
    "print(head(large_100_age_1000))\n",
    "print(class(large_100_age_1000))\n",
    "print(paste(\"Number of rows:\", nrow(large_100_age_1000)))"
   ]
  },
  {
   "cell_type": "code",
   "execution_count": 10,
   "metadata": {},
   "outputs": [],
   "source": [
    "# ghi vao file\n",
    "# doc file de kiem tra ket qua\n",
    "large_100_age_1000_json = toJSON(large_100_age_1000)\n",
    "write(large_100_age_1000_json, file='Cung cap buoi 5/Du_lieu/Binh_large_100_age_1000_new.json')"
   ]
  },
  {
   "cell_type": "code",
   "execution_count": 11,
   "metadata": {},
   "outputs": [
    {
     "name": "stdout",
     "output_type": "stream",
     "text": [
      "  Tree  age circumference\n",
      "1    1 1004           115\n",
      "2    1 1231           120\n",
      "3    1 1372           142\n",
      "4    1 1582           145\n",
      "5    2 1004           156\n",
      "6    2 1231           172\n"
     ]
    }
   ],
   "source": [
    "# Give the input file name to the function\n",
    "result = fromJSON(file ='Cung cap buoi 5/Du_lieu/Binh_large_100_age_1000_new.json')\n",
    "# in ket qua\n",
    "data = data.frame(result)\n",
    "print(head(data))"
   ]
  },
  {
   "cell_type": "code",
   "execution_count": null,
   "metadata": {},
   "outputs": [],
   "source": []
  }
 ],
 "metadata": {
  "kernelspec": {
   "display_name": "R",
   "language": "R",
   "name": "ir"
  },
  "language_info": {
   "codemirror_mode": "r",
   "file_extension": ".r",
   "mimetype": "text/x-r-source",
   "name": "R",
   "pygments_lexer": "r",
   "version": "4.0.2"
  }
 },
 "nbformat": 4,
 "nbformat_minor": 4
}
