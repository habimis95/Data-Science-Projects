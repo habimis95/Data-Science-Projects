{
 "cells": [
  {
   "cell_type": "code",
   "execution_count": 23,
   "metadata": {},
   "outputs": [],
   "source": [
    "data = read.csv('Tech_comp.csv')"
   ]
  },
  {
   "cell_type": "code",
   "execution_count": 24,
   "metadata": {},
   "outputs": [
    {
     "data": {
      "text/html": [
       "<table>\n",
       "<caption>A data.frame: 4 × 5</caption>\n",
       "<thead>\n",
       "\t<tr><th></th><th scope=col>Company</th><th scope=col>Women..all</th><th scope=col>Women..tech.</th><th scope=col>Men..all.</th><th scope=col>Men..tech.</th></tr>\n",
       "\t<tr><th></th><th scope=col>&lt;chr&gt;</th><th scope=col>&lt;int&gt;</th><th scope=col>&lt;int&gt;</th><th scope=col>&lt;int&gt;</th><th scope=col>&lt;int&gt;</th></tr>\n",
       "</thead>\n",
       "<tbody>\n",
       "\t<tr><th scope=row>1</th><td>Facebook</td><td>32</td><td>16</td><td>84</td><td>68</td></tr>\n",
       "\t<tr><th scope=row>2</th><td>Google  </td><td>30</td><td>18</td><td>82</td><td>70</td></tr>\n",
       "\t<tr><th scope=row>3</th><td>Apple   </td><td>30</td><td>20</td><td>80</td><td>70</td></tr>\n",
       "\t<tr><th scope=row>4</th><td>Yahoo   </td><td>37</td><td>15</td><td>85</td><td>62</td></tr>\n",
       "</tbody>\n",
       "</table>\n"
      ],
      "text/latex": [
       "A data.frame: 4 × 5\n",
       "\\begin{tabular}{r|lllll}\n",
       "  & Company & Women..all & Women..tech. & Men..all. & Men..tech.\\\\\n",
       "  & <chr> & <int> & <int> & <int> & <int>\\\\\n",
       "\\hline\n",
       "\t1 & Facebook & 32 & 16 & 84 & 68\\\\\n",
       "\t2 & Google   & 30 & 18 & 82 & 70\\\\\n",
       "\t3 & Apple    & 30 & 20 & 80 & 70\\\\\n",
       "\t4 & Yahoo    & 37 & 15 & 85 & 62\\\\\n",
       "\\end{tabular}\n"
      ],
      "text/markdown": [
       "\n",
       "A data.frame: 4 × 5\n",
       "\n",
       "| <!--/--> | Company &lt;chr&gt; | Women..all &lt;int&gt; | Women..tech. &lt;int&gt; | Men..all. &lt;int&gt; | Men..tech. &lt;int&gt; |\n",
       "|---|---|---|---|---|---|\n",
       "| 1 | Facebook | 32 | 16 | 84 | 68 |\n",
       "| 2 | Google   | 30 | 18 | 82 | 70 |\n",
       "| 3 | Apple    | 30 | 20 | 80 | 70 |\n",
       "| 4 | Yahoo    | 37 | 15 | 85 | 62 |\n",
       "\n"
      ],
      "text/plain": [
       "  Company  Women..all Women..tech. Men..all. Men..tech.\n",
       "1 Facebook 32         16           84        68        \n",
       "2 Google   30         18           82        70        \n",
       "3 Apple    30         20           80        70        \n",
       "4 Yahoo    37         15           85        62        "
      ]
     },
     "metadata": {},
     "output_type": "display_data"
    }
   ],
   "source": [
    "head(data)"
   ]
  },
  {
   "cell_type": "code",
   "execution_count": 25,
   "metadata": {},
   "outputs": [],
   "source": [
    "library(tidyverse)"
   ]
  },
  {
   "cell_type": "code",
   "execution_count": 26,
   "metadata": {},
   "outputs": [],
   "source": [
    "data = data %>% \n",
    "  rename(\n",
    "    Women_all = Women..all,\n",
    "    Women_tech = Women..tech.,\n",
    "    Men_all = Men..all.,\n",
    "    Men_tech = Men..tech.\n",
    "    )"
   ]
  },
  {
   "cell_type": "code",
   "execution_count": 27,
   "metadata": {},
   "outputs": [],
   "source": [
    "data = mutate(data, Men_non_tech = Men_all - Men_tech)\n",
    "data = mutate(data, Women_non_tech = Women_all - Women_tech)"
   ]
  },
  {
   "cell_type": "code",
   "execution_count": 28,
   "metadata": {},
   "outputs": [
    {
     "data": {
      "text/html": [
       "<table>\n",
       "<caption>A data.frame: 4 × 7</caption>\n",
       "<thead>\n",
       "\t<tr><th scope=col>Company</th><th scope=col>Women_all</th><th scope=col>Women_tech</th><th scope=col>Men_all</th><th scope=col>Men_tech</th><th scope=col>Men_non_tech</th><th scope=col>Women_non_tech</th></tr>\n",
       "\t<tr><th scope=col>&lt;chr&gt;</th><th scope=col>&lt;int&gt;</th><th scope=col>&lt;int&gt;</th><th scope=col>&lt;int&gt;</th><th scope=col>&lt;int&gt;</th><th scope=col>&lt;int&gt;</th><th scope=col>&lt;int&gt;</th></tr>\n",
       "</thead>\n",
       "<tbody>\n",
       "\t<tr><td>Facebook</td><td>32</td><td>16</td><td>84</td><td>68</td><td>16</td><td>16</td></tr>\n",
       "\t<tr><td>Google  </td><td>30</td><td>18</td><td>82</td><td>70</td><td>12</td><td>12</td></tr>\n",
       "\t<tr><td>Apple   </td><td>30</td><td>20</td><td>80</td><td>70</td><td>10</td><td>10</td></tr>\n",
       "\t<tr><td>Yahoo   </td><td>37</td><td>15</td><td>85</td><td>62</td><td>23</td><td>22</td></tr>\n",
       "</tbody>\n",
       "</table>\n"
      ],
      "text/latex": [
       "A data.frame: 4 × 7\n",
       "\\begin{tabular}{lllllll}\n",
       " Company & Women\\_all & Women\\_tech & Men\\_all & Men\\_tech & Men\\_non\\_tech & Women\\_non\\_tech\\\\\n",
       " <chr> & <int> & <int> & <int> & <int> & <int> & <int>\\\\\n",
       "\\hline\n",
       "\t Facebook & 32 & 16 & 84 & 68 & 16 & 16\\\\\n",
       "\t Google   & 30 & 18 & 82 & 70 & 12 & 12\\\\\n",
       "\t Apple    & 30 & 20 & 80 & 70 & 10 & 10\\\\\n",
       "\t Yahoo    & 37 & 15 & 85 & 62 & 23 & 22\\\\\n",
       "\\end{tabular}\n"
      ],
      "text/markdown": [
       "\n",
       "A data.frame: 4 × 7\n",
       "\n",
       "| Company &lt;chr&gt; | Women_all &lt;int&gt; | Women_tech &lt;int&gt; | Men_all &lt;int&gt; | Men_tech &lt;int&gt; | Men_non_tech &lt;int&gt; | Women_non_tech &lt;int&gt; |\n",
       "|---|---|---|---|---|---|---|\n",
       "| Facebook | 32 | 16 | 84 | 68 | 16 | 16 |\n",
       "| Google   | 30 | 18 | 82 | 70 | 12 | 12 |\n",
       "| Apple    | 30 | 20 | 80 | 70 | 10 | 10 |\n",
       "| Yahoo    | 37 | 15 | 85 | 62 | 23 | 22 |\n",
       "\n"
      ],
      "text/plain": [
       "  Company  Women_all Women_tech Men_all Men_tech Men_non_tech Women_non_tech\n",
       "1 Facebook 32        16         84      68       16           16            \n",
       "2 Google   30        18         82      70       12           12            \n",
       "3 Apple    30        20         80      70       10           10            \n",
       "4 Yahoo    37        15         85      62       23           22            "
      ]
     },
     "metadata": {},
     "output_type": "display_data"
    }
   ],
   "source": [
    "data"
   ]
  },
  {
   "cell_type": "code",
   "execution_count": 68,
   "metadata": {},
   "outputs": [
    {
     "data": {
      "image/png": "[encoded data removed]",
      "text/plain": [
       "Plot with title \"Comparision between Men tech vs Men non tech\""
      ]
     },
     "metadata": {
      "image/png": {
       "height": 420,
       "width": 420
      }
     },
     "output_type": "display_data"
    }
   ],
   "source": [
    "# plot chart\n",
    "plot(data$Men_tech, type = 'o', col='red', ylim=c(10,100),\n",
    "    xaxt = \"n\", xlab='Company', ylab='Number',\n",
    "     main='Comparision between Men tech vs Men non tech')\n",
    "# axis\n",
    "axis(1, at=1:4, labels= c('Facebook','Google','Apple','Yahoo'))\n",
    "# add line: Men_non_tech\n",
    "lines(data$Men_non_tech, type = 'o', col = 'blue')\n",
    "# legend\n",
    "legend('topleft', c('Men tech','Men non tech'), cex=0.8, fill=c('red','blue'))"
   ]
  },
  {
   "cell_type": "code",
   "execution_count": 71,
   "metadata": {},
   "outputs": [
    {
     "data": {
      "image/png": "[encoded data removed]",
      "text/plain": [
       "Plot with title \"Comparision between Men tech vs Men non tech\""
      ]
     },
     "metadata": {
      "image/png": {
       "height": 420,
       "width": 420
      }
     },
     "output_type": "display_data"
    }
   ],
   "source": [
    "# plot chart\n",
    "plot(data$Women_tech, type = 'o', col='red', ylim=c(10,50),\n",
    "    xaxt = \"n\", xlab='Company', ylab='Number',\n",
    "     main='Comparision between Men tech vs Men non tech')\n",
    "# axis\n",
    "axis(1, at=1:4, labels= c('Facebook','Google','Apple','Yahoo'))\n",
    "# add line: Men_non_tech\n",
    "lines(data$Women_non_tech, type = 'o', col = 'blue')\n",
    "# legend\n",
    "legend('topleft', c('Women tech','Women non tech'), cex=0.8, fill=c('red','blue'))"
   ]
  },
  {
   "cell_type": "code",
   "execution_count": null,
   "metadata": {},
   "outputs": [],
   "source": []
  }
 ],
 "metadata": {
  "kernelspec": {
   "display_name": "R",
   "language": "R",
   "name": "ir"
  },
  "language_info": {
   "codemirror_mode": "r",
   "file_extension": ".r",
   "mimetype": "text/x-r-source",
   "name": "R",
   "pygments_lexer": "r",
   "version": "4.0.2"
  }
 },
 "nbformat": 4,
 "nbformat_minor": 4
}
