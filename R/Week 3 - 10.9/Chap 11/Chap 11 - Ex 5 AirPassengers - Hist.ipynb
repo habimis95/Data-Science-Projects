{
 "cells": [
  {
   "cell_type": "code",
   "execution_count": 1,
   "metadata": {},
   "outputs": [
    {
     "name": "stdout",
     "output_type": "stream",
     "text": [
      " Time-Series [1:144] from 1949 to 1961: 112 118 132 129 121 135 148 148 136 119 ...\n",
      "NULL\n"
     ]
    }
   ],
   "source": [
    "print(str(AirPassengers))"
   ]
  },
  {
   "cell_type": "code",
   "execution_count": 6,
   "metadata": {},
   "outputs": [
    {
     "data": {
      "text/html": [
       "<table>\n",
       "<caption>A Time Series: 12 × 12</caption>\n",
       "<thead>\n",
       "\t<tr><th></th><th scope=col>Jan</th><th scope=col>Feb</th><th scope=col>Mar</th><th scope=col>Apr</th><th scope=col>May</th><th scope=col>Jun</th><th scope=col>Jul</th><th scope=col>Aug</th><th scope=col>Sep</th><th scope=col>Oct</th><th scope=col>Nov</th><th scope=col>Dec</th></tr>\n",
       "</thead>\n",
       "<tbody>\n",
       "\t<tr><th scope=row>1949</th><td>112</td><td>118</td><td>132</td><td>129</td><td>121</td><td>135</td><td>148</td><td>148</td><td>136</td><td>119</td><td>104</td><td>118</td></tr>\n",
       "\t<tr><th scope=row>1950</th><td>115</td><td>126</td><td>141</td><td>135</td><td>125</td><td>149</td><td>170</td><td>170</td><td>158</td><td>133</td><td>114</td><td>140</td></tr>\n",
       "\t<tr><th scope=row>1951</th><td>145</td><td>150</td><td>178</td><td>163</td><td>172</td><td>178</td><td>199</td><td>199</td><td>184</td><td>162</td><td>146</td><td>166</td></tr>\n",
       "\t<tr><th scope=row>1952</th><td>171</td><td>180</td><td>193</td><td>181</td><td>183</td><td>218</td><td>230</td><td>242</td><td>209</td><td>191</td><td>172</td><td>194</td></tr>\n",
       "\t<tr><th scope=row>1953</th><td>196</td><td>196</td><td>236</td><td>235</td><td>229</td><td>243</td><td>264</td><td>272</td><td>237</td><td>211</td><td>180</td><td>201</td></tr>\n",
       "\t<tr><th scope=row>1954</th><td>204</td><td>188</td><td>235</td><td>227</td><td>234</td><td>264</td><td>302</td><td>293</td><td>259</td><td>229</td><td>203</td><td>229</td></tr>\n",
       "\t<tr><th scope=row>1955</th><td>242</td><td>233</td><td>267</td><td>269</td><td>270</td><td>315</td><td>364</td><td>347</td><td>312</td><td>274</td><td>237</td><td>278</td></tr>\n",
       "\t<tr><th scope=row>1956</th><td>284</td><td>277</td><td>317</td><td>313</td><td>318</td><td>374</td><td>413</td><td>405</td><td>355</td><td>306</td><td>271</td><td>306</td></tr>\n",
       "\t<tr><th scope=row>1957</th><td>315</td><td>301</td><td>356</td><td>348</td><td>355</td><td>422</td><td>465</td><td>467</td><td>404</td><td>347</td><td>305</td><td>336</td></tr>\n",
       "\t<tr><th scope=row>1958</th><td>340</td><td>318</td><td>362</td><td>348</td><td>363</td><td>435</td><td>491</td><td>505</td><td>404</td><td>359</td><td>310</td><td>337</td></tr>\n",
       "\t<tr><th scope=row>1959</th><td>360</td><td>342</td><td>406</td><td>396</td><td>420</td><td>472</td><td>548</td><td>559</td><td>463</td><td>407</td><td>362</td><td>405</td></tr>\n",
       "\t<tr><th scope=row>1960</th><td>417</td><td>391</td><td>419</td><td>461</td><td>472</td><td>535</td><td>622</td><td>606</td><td>508</td><td>461</td><td>390</td><td>432</td></tr>\n",
       "</tbody>\n",
       "</table>\n"
      ],
      "text/latex": [
       "A Time Series: 12 × 12\n",
       "\\begin{tabular}{r|llllllllllll}\n",
       "  & Jan & Feb & Mar & Apr & May & Jun & Jul & Aug & Sep & Oct & Nov & Dec\\\\\n",
       "\\hline\n",
       "\t1949 & 112 & 118 & 132 & 129 & 121 & 135 & 148 & 148 & 136 & 119 & 104 & 118\\\\\n",
       "\t1950 & 115 & 126 & 141 & 135 & 125 & 149 & 170 & 170 & 158 & 133 & 114 & 140\\\\\n",
       "\t1951 & 145 & 150 & 178 & 163 & 172 & 178 & 199 & 199 & 184 & 162 & 146 & 166\\\\\n",
       "\t1952 & 171 & 180 & 193 & 181 & 183 & 218 & 230 & 242 & 209 & 191 & 172 & 194\\\\\n",
       "\t1953 & 196 & 196 & 236 & 235 & 229 & 243 & 264 & 272 & 237 & 211 & 180 & 201\\\\\n",
       "\t1954 & 204 & 188 & 235 & 227 & 234 & 264 & 302 & 293 & 259 & 229 & 203 & 229\\\\\n",
       "\t1955 & 242 & 233 & 267 & 269 & 270 & 315 & 364 & 347 & 312 & 274 & 237 & 278\\\\\n",
       "\t1956 & 284 & 277 & 317 & 313 & 318 & 374 & 413 & 405 & 355 & 306 & 271 & 306\\\\\n",
       "\t1957 & 315 & 301 & 356 & 348 & 355 & 422 & 465 & 467 & 404 & 347 & 305 & 336\\\\\n",
       "\t1958 & 340 & 318 & 362 & 348 & 363 & 435 & 491 & 505 & 404 & 359 & 310 & 337\\\\\n",
       "\t1959 & 360 & 342 & 406 & 396 & 420 & 472 & 548 & 559 & 463 & 407 & 362 & 405\\\\\n",
       "\t1960 & 417 & 391 & 419 & 461 & 472 & 535 & 622 & 606 & 508 & 461 & 390 & 432\\\\\n",
       "\\end{tabular}\n"
      ],
      "text/markdown": [
       "\n",
       "A Time Series: 12 × 12\n",
       "\n",
       "| <!--/--> | Jan | Feb | Mar | Apr | May | Jun | Jul | Aug | Sep | Oct | Nov | Dec |\n",
       "|---|---|---|---|---|---|---|---|---|---|---|---|---|\n",
       "| 1949 | 112 | 118 | 132 | 129 | 121 | 135 | 148 | 148 | 136 | 119 | 104 | 118 |\n",
       "| 1950 | 115 | 126 | 141 | 135 | 125 | 149 | 170 | 170 | 158 | 133 | 114 | 140 |\n",
       "| 1951 | 145 | 150 | 178 | 163 | 172 | 178 | 199 | 199 | 184 | 162 | 146 | 166 |\n",
       "| 1952 | 171 | 180 | 193 | 181 | 183 | 218 | 230 | 242 | 209 | 191 | 172 | 194 |\n",
       "| 1953 | 196 | 196 | 236 | 235 | 229 | 243 | 264 | 272 | 237 | 211 | 180 | 201 |\n",
       "| 1954 | 204 | 188 | 235 | 227 | 234 | 264 | 302 | 293 | 259 | 229 | 203 | 229 |\n",
       "| 1955 | 242 | 233 | 267 | 269 | 270 | 315 | 364 | 347 | 312 | 274 | 237 | 278 |\n",
       "| 1956 | 284 | 277 | 317 | 313 | 318 | 374 | 413 | 405 | 355 | 306 | 271 | 306 |\n",
       "| 1957 | 315 | 301 | 356 | 348 | 355 | 422 | 465 | 467 | 404 | 347 | 305 | 336 |\n",
       "| 1958 | 340 | 318 | 362 | 348 | 363 | 435 | 491 | 505 | 404 | 359 | 310 | 337 |\n",
       "| 1959 | 360 | 342 | 406 | 396 | 420 | 472 | 548 | 559 | 463 | 407 | 362 | 405 |\n",
       "| 1960 | 417 | 391 | 419 | 461 | 472 | 535 | 622 | 606 | 508 | 461 | 390 | 432 |\n",
       "\n"
      ],
      "text/plain": [
       "     Jan Feb Mar Apr May Jun Jul Aug Sep Oct Nov Dec\n",
       "1949 112 118 132 129 121 135 148 148 136 119 104 118\n",
       "1950 115 126 141 135 125 149 170 170 158 133 114 140\n",
       "1951 145 150 178 163 172 178 199 199 184 162 146 166\n",
       "1952 171 180 193 181 183 218 230 242 209 191 172 194\n",
       "1953 196 196 236 235 229 243 264 272 237 211 180 201\n",
       "1954 204 188 235 227 234 264 302 293 259 229 203 229\n",
       "1955 242 233 267 269 270 315 364 347 312 274 237 278\n",
       "1956 284 277 317 313 318 374 413 405 355 306 271 306\n",
       "1957 315 301 356 348 355 422 465 467 404 347 305 336\n",
       "1958 340 318 362 348 363 435 491 505 404 359 310 337\n",
       "1959 360 342 406 396 420 472 548 559 463 407 362 405\n",
       "1960 417 391 419 461 472 535 622 606 508 461 390 432"
      ]
     },
     "metadata": {},
     "output_type": "display_data"
    }
   ],
   "source": [
    "AirPassengers"
   ]
  },
  {
   "cell_type": "code",
   "execution_count": 16,
   "metadata": {},
   "outputs": [
    {
     "data": {
      "image/png": "[encoded data removed]",
      "text/plain": [
       "Plot with title \"Air Passengers\""
      ]
     },
     "metadata": {
      "image/png": {
       "height": 420,
       "width": 420
      }
     },
     "output_type": "display_data"
    }
   ],
   "source": [
    "hist(AirPassengers, main = 'Air Passengers', ylab='Density',\n",
    "     labels = TRUE,\n",
    "    col=rainbow(10),breaks=10,freq=FALSE)"
   ]
  },
  {
   "cell_type": "code",
   "execution_count": null,
   "metadata": {},
   "outputs": [],
   "source": []
  }
 ],
 "metadata": {
  "kernelspec": {
   "display_name": "R",
   "language": "R",
   "name": "ir"
  },
  "language_info": {
   "codemirror_mode": "r",
   "file_extension": ".r",
   "mimetype": "text/x-r-source",
   "name": "R",
   "pygments_lexer": "r",
   "version": "4.0.2"
  }
 },
 "nbformat": 4,
 "nbformat_minor": 4
}
