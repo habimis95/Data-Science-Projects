{
 "cells": [
  {
   "cell_type": "code",
   "execution_count": 1,
   "metadata": {},
   "outputs": [
    {
     "name": "stdout",
     "output_type": "stream",
     "text": [
      "        V1 V2 V3 V4 V5 V6 V7 V8 V9 V10 V11 V12 V13 V14 V15 V16 V17 V18\n",
      "1 aardvark  1  0  0  1  0  0  1  1   1   1   0   0   4   0   0   1   1\n",
      "2 antelope  1  0  0  1  0  0  0  1   1   1   0   0   4   1   0   1   1\n",
      "3     bass  0  0  1  0  0  1  1  1   1   0   0   1   0   1   0   0   4\n",
      "4     bear  1  0  0  1  0  0  1  1   1   1   0   0   4   0   0   1   1\n",
      "5     boar  1  0  0  1  0  0  1  1   1   1   0   0   4   1   0   1   1\n",
      "6  buffalo  1  0  0  1  0  0  0  1   1   1   0   0   4   1   0   1   1\n",
      "[1] \"Is dataframe? TRUE\"\n"
     ]
    }
   ],
   "source": [
    "library(rpart)\n",
    "data = read.csv('Cung cap buoi 9/zoo.data.txt', header = FALSE)\n",
    "print(head(data))\n",
    "print(paste('Is dataframe?', is.data.frame(data)))"
   ]
  },
  {
   "cell_type": "code",
   "execution_count": 2,
   "metadata": {},
   "outputs": [
    {
     "data": {
      "text/html": [
       "<table>\n",
       "<caption>A data.frame: 6 × 18</caption>\n",
       "<thead>\n",
       "\t<tr><th></th><th scope=col>V1</th><th scope=col>V2</th><th scope=col>V3</th><th scope=col>V4</th><th scope=col>V5</th><th scope=col>V6</th><th scope=col>V7</th><th scope=col>V8</th><th scope=col>V9</th><th scope=col>V10</th><th scope=col>V11</th><th scope=col>V12</th><th scope=col>V13</th><th scope=col>V14</th><th scope=col>V15</th><th scope=col>V16</th><th scope=col>V17</th><th scope=col>V18</th></tr>\n",
       "\t<tr><th></th><th scope=col>&lt;chr&gt;</th><th scope=col>&lt;int&gt;</th><th scope=col>&lt;int&gt;</th><th scope=col>&lt;int&gt;</th><th scope=col>&lt;int&gt;</th><th scope=col>&lt;int&gt;</th><th scope=col>&lt;int&gt;</th><th scope=col>&lt;int&gt;</th><th scope=col>&lt;int&gt;</th><th scope=col>&lt;int&gt;</th><th scope=col>&lt;int&gt;</th><th scope=col>&lt;int&gt;</th><th scope=col>&lt;int&gt;</th><th scope=col>&lt;int&gt;</th><th scope=col>&lt;int&gt;</th><th scope=col>&lt;int&gt;</th><th scope=col>&lt;int&gt;</th><th scope=col>&lt;int&gt;</th></tr>\n",
       "</thead>\n",
       "<tbody>\n",
       "\t<tr><th scope=row>96</th><td>vulture</td><td>0</td><td>1</td><td>1</td><td>0</td><td>1</td><td>0</td><td>1</td><td>0</td><td>1</td><td>1</td><td>0</td><td>0</td><td>2</td><td>1</td><td>0</td><td>1</td><td>2</td></tr>\n",
       "\t<tr><th scope=row>97</th><td>wallaby</td><td>1</td><td>0</td><td>0</td><td>1</td><td>0</td><td>0</td><td>0</td><td>1</td><td>1</td><td>1</td><td>0</td><td>0</td><td>2</td><td>1</td><td>0</td><td>1</td><td>1</td></tr>\n",
       "\t<tr><th scope=row>98</th><td>wasp   </td><td>1</td><td>0</td><td>1</td><td>0</td><td>1</td><td>0</td><td>0</td><td>0</td><td>0</td><td>1</td><td>1</td><td>0</td><td>6</td><td>0</td><td>0</td><td>0</td><td>6</td></tr>\n",
       "\t<tr><th scope=row>99</th><td>wolf   </td><td>1</td><td>0</td><td>0</td><td>1</td><td>0</td><td>0</td><td>1</td><td>1</td><td>1</td><td>1</td><td>0</td><td>0</td><td>4</td><td>1</td><td>0</td><td>1</td><td>1</td></tr>\n",
       "\t<tr><th scope=row>100</th><td>worm   </td><td>0</td><td>0</td><td>1</td><td>0</td><td>0</td><td>0</td><td>0</td><td>0</td><td>0</td><td>1</td><td>0</td><td>0</td><td>0</td><td>0</td><td>0</td><td>0</td><td>7</td></tr>\n",
       "\t<tr><th scope=row>101</th><td>wren   </td><td>0</td><td>1</td><td>1</td><td>0</td><td>1</td><td>0</td><td>0</td><td>0</td><td>1</td><td>1</td><td>0</td><td>0</td><td>2</td><td>1</td><td>0</td><td>0</td><td>2</td></tr>\n",
       "</tbody>\n",
       "</table>\n"
      ],
      "text/latex": [
       "A data.frame: 6 × 18\n",
       "\\begin{tabular}{r|llllllllllllllllll}\n",
       "  & V1 & V2 & V3 & V4 & V5 & V6 & V7 & V8 & V9 & V10 & V11 & V12 & V13 & V14 & V15 & V16 & V17 & V18\\\\\n",
       "  & <chr> & <int> & <int> & <int> & <int> & <int> & <int> & <int> & <int> & <int> & <int> & <int> & <int> & <int> & <int> & <int> & <int> & <int>\\\\\n",
       "\\hline\n",
       "\t96 & vulture & 0 & 1 & 1 & 0 & 1 & 0 & 1 & 0 & 1 & 1 & 0 & 0 & 2 & 1 & 0 & 1 & 2\\\\\n",
       "\t97 & wallaby & 1 & 0 & 0 & 1 & 0 & 0 & 0 & 1 & 1 & 1 & 0 & 0 & 2 & 1 & 0 & 1 & 1\\\\\n",
       "\t98 & wasp    & 1 & 0 & 1 & 0 & 1 & 0 & 0 & 0 & 0 & 1 & 1 & 0 & 6 & 0 & 0 & 0 & 6\\\\\n",
       "\t99 & wolf    & 1 & 0 & 0 & 1 & 0 & 0 & 1 & 1 & 1 & 1 & 0 & 0 & 4 & 1 & 0 & 1 & 1\\\\\n",
       "\t100 & worm    & 0 & 0 & 1 & 0 & 0 & 0 & 0 & 0 & 0 & 1 & 0 & 0 & 0 & 0 & 0 & 0 & 7\\\\\n",
       "\t101 & wren    & 0 & 1 & 1 & 0 & 1 & 0 & 0 & 0 & 1 & 1 & 0 & 0 & 2 & 1 & 0 & 0 & 2\\\\\n",
       "\\end{tabular}\n"
      ],
      "text/markdown": [
       "\n",
       "A data.frame: 6 × 18\n",
       "\n",
       "| <!--/--> | V1 &lt;chr&gt; | V2 &lt;int&gt; | V3 &lt;int&gt; | V4 &lt;int&gt; | V5 &lt;int&gt; | V6 &lt;int&gt; | V7 &lt;int&gt; | V8 &lt;int&gt; | V9 &lt;int&gt; | V10 &lt;int&gt; | V11 &lt;int&gt; | V12 &lt;int&gt; | V13 &lt;int&gt; | V14 &lt;int&gt; | V15 &lt;int&gt; | V16 &lt;int&gt; | V17 &lt;int&gt; | V18 &lt;int&gt; |\n",
       "|---|---|---|---|---|---|---|---|---|---|---|---|---|---|---|---|---|---|---|\n",
       "| 96 | vulture | 0 | 1 | 1 | 0 | 1 | 0 | 1 | 0 | 1 | 1 | 0 | 0 | 2 | 1 | 0 | 1 | 2 |\n",
       "| 97 | wallaby | 1 | 0 | 0 | 1 | 0 | 0 | 0 | 1 | 1 | 1 | 0 | 0 | 2 | 1 | 0 | 1 | 1 |\n",
       "| 98 | wasp    | 1 | 0 | 1 | 0 | 1 | 0 | 0 | 0 | 0 | 1 | 1 | 0 | 6 | 0 | 0 | 0 | 6 |\n",
       "| 99 | wolf    | 1 | 0 | 0 | 1 | 0 | 0 | 1 | 1 | 1 | 1 | 0 | 0 | 4 | 1 | 0 | 1 | 1 |\n",
       "| 100 | worm    | 0 | 0 | 1 | 0 | 0 | 0 | 0 | 0 | 0 | 1 | 0 | 0 | 0 | 0 | 0 | 0 | 7 |\n",
       "| 101 | wren    | 0 | 1 | 1 | 0 | 1 | 0 | 0 | 0 | 1 | 1 | 0 | 0 | 2 | 1 | 0 | 0 | 2 |\n",
       "\n"
      ],
      "text/plain": [
       "    V1      V2 V3 V4 V5 V6 V7 V8 V9 V10 V11 V12 V13 V14 V15 V16 V17 V18\n",
       "96  vulture 0  1  1  0  1  0  1  0  1   1   0   0   2   1   0   1   2  \n",
       "97  wallaby 1  0  0  1  0  0  0  1  1   1   0   0   2   1   0   1   1  \n",
       "98  wasp    1  0  1  0  1  0  0  0  0   1   1   0   6   0   0   0   6  \n",
       "99  wolf    1  0  0  1  0  0  1  1  1   1   0   0   4   1   0   1   1  \n",
       "100 worm    0  0  1  0  0  0  0  0  0   1   0   0   0   0   0   0   7  \n",
       "101 wren    0  1  1  0  1  0  0  0  1   1   0   0   2   1   0   0   2  "
      ]
     },
     "metadata": {},
     "output_type": "display_data"
    }
   ],
   "source": [
    "tail(data)"
   ]
  },
  {
   "cell_type": "code",
   "execution_count": 3,
   "metadata": {},
   "outputs": [
    {
     "name": "stdout",
     "output_type": "stream",
     "text": [
      "[1] \"cols: 18\"\n",
      "[1] \"rows: 101\"\n"
     ]
    }
   ],
   "source": [
    "print(paste('cols:', ncol(data)))\n",
    "print(paste('rows:', nrow(data)))"
   ]
  },
  {
   "cell_type": "code",
   "execution_count": 4,
   "metadata": {},
   "outputs": [
    {
     "data": {
      "text/plain": [
       "      V1                  V2               V3              V4        \n",
       " Length:101         Min.   :0.0000   Min.   :0.000   Min.   :0.0000  \n",
       " Class :character   1st Qu.:0.0000   1st Qu.:0.000   1st Qu.:0.0000  \n",
       " Mode  :character   Median :0.0000   Median :0.000   Median :1.0000  \n",
       "                    Mean   :0.4257   Mean   :0.198   Mean   :0.5842  \n",
       "                    3rd Qu.:1.0000   3rd Qu.:0.000   3rd Qu.:1.0000  \n",
       "                    Max.   :1.0000   Max.   :1.000   Max.   :1.0000  \n",
       "       V5               V6               V7               V8        \n",
       " Min.   :0.0000   Min.   :0.0000   Min.   :0.0000   Min.   :0.0000  \n",
       " 1st Qu.:0.0000   1st Qu.:0.0000   1st Qu.:0.0000   1st Qu.:0.0000  \n",
       " Median :0.0000   Median :0.0000   Median :0.0000   Median :1.0000  \n",
       " Mean   :0.4059   Mean   :0.2376   Mean   :0.3564   Mean   :0.5545  \n",
       " 3rd Qu.:1.0000   3rd Qu.:0.0000   3rd Qu.:1.0000   3rd Qu.:1.0000  \n",
       " Max.   :1.0000   Max.   :1.0000   Max.   :1.0000   Max.   :1.0000  \n",
       "       V9             V10              V11              V12         \n",
       " Min.   :0.000   Min.   :0.0000   Min.   :0.0000   Min.   :0.00000  \n",
       " 1st Qu.:0.000   1st Qu.:1.0000   1st Qu.:1.0000   1st Qu.:0.00000  \n",
       " Median :1.000   Median :1.0000   Median :1.0000   Median :0.00000  \n",
       " Mean   :0.604   Mean   :0.8218   Mean   :0.7921   Mean   :0.07921  \n",
       " 3rd Qu.:1.000   3rd Qu.:1.0000   3rd Qu.:1.0000   3rd Qu.:0.00000  \n",
       " Max.   :1.000   Max.   :1.0000   Max.   :1.0000   Max.   :1.00000  \n",
       "      V13              V14             V15              V16        \n",
       " Min.   :0.0000   Min.   :0.000   Min.   :0.0000   Min.   :0.0000  \n",
       " 1st Qu.:0.0000   1st Qu.:2.000   1st Qu.:0.0000   1st Qu.:0.0000  \n",
       " Median :0.0000   Median :4.000   Median :1.0000   Median :0.0000  \n",
       " Mean   :0.1683   Mean   :2.842   Mean   :0.7426   Mean   :0.1287  \n",
       " 3rd Qu.:0.0000   3rd Qu.:4.000   3rd Qu.:1.0000   3rd Qu.:0.0000  \n",
       " Max.   :1.0000   Max.   :8.000   Max.   :1.0000   Max.   :1.0000  \n",
       "      V17              V18       \n",
       " Min.   :0.0000   Min.   :1.000  \n",
       " 1st Qu.:0.0000   1st Qu.:1.000  \n",
       " Median :0.0000   Median :2.000  \n",
       " Mean   :0.4356   Mean   :2.832  \n",
       " 3rd Qu.:1.0000   3rd Qu.:4.000  \n",
       " Max.   :1.0000   Max.   :7.000  "
      ]
     },
     "metadata": {},
     "output_type": "display_data"
    }
   ],
   "source": [
    "summary(data)"
   ]
  },
  {
   "cell_type": "code",
   "execution_count": 5,
   "metadata": {},
   "outputs": [
    {
     "name": "stdout",
     "output_type": "stream",
     "text": [
      "'data.frame':\t101 obs. of  18 variables:\n",
      " $ V1 : chr  \"aardvark\" \"antelope\" \"bass\" \"bear\" ...\n",
      " $ V2 : int  1 1 0 1 1 1 1 0 0 1 ...\n",
      " $ V3 : int  0 0 0 0 0 0 0 0 0 0 ...\n",
      " $ V4 : int  0 0 1 0 0 0 0 1 1 0 ...\n",
      " $ V5 : int  1 1 0 1 1 1 1 0 0 1 ...\n",
      " $ V6 : int  0 0 0 0 0 0 0 0 0 0 ...\n",
      " $ V7 : int  0 0 1 0 0 0 0 1 1 0 ...\n",
      " $ V8 : int  1 0 1 1 1 0 0 0 1 0 ...\n",
      " $ V9 : int  1 1 1 1 1 1 1 1 1 1 ...\n",
      " $ V10: int  1 1 1 1 1 1 1 1 1 1 ...\n",
      " $ V11: int  1 1 0 1 1 1 1 0 0 1 ...\n",
      " $ V12: int  0 0 0 0 0 0 0 0 0 0 ...\n",
      " $ V13: int  0 0 1 0 0 0 0 1 1 0 ...\n",
      " $ V14: int  4 4 0 4 4 4 4 0 0 4 ...\n",
      " $ V15: int  0 1 1 0 1 1 1 1 1 0 ...\n",
      " $ V16: int  0 0 0 0 0 0 1 1 0 1 ...\n",
      " $ V17: int  1 1 0 1 1 1 1 0 0 0 ...\n",
      " $ V18: int  1 1 4 1 1 1 1 4 4 1 ...\n"
     ]
    }
   ],
   "source": [
    "str(data)"
   ]
  },
  {
   "cell_type": "code",
   "execution_count": 6,
   "metadata": {},
   "outputs": [
    {
     "name": "stdout",
     "output_type": "stream",
     "text": [
      "  V2 V3 V4 V5 V6 V7 V8 V9 V10 V11 V12 V13 V14 V15 V16 V17 V18\n",
      "1  1  0  0  1  0  0  1  1   1   1   0   0   4   0   0   1   1\n",
      "2  1  0  0  1  0  0  0  1   1   1   0   0   4   1   0   1   1\n",
      "3  0  0  1  0  0  1  1  1   1   0   0   1   0   1   0   0   4\n",
      "4  1  0  0  1  0  0  1  1   1   1   0   0   4   0   0   1   1\n",
      "5  1  0  0  1  0  0  1  1   1   1   0   0   4   1   0   1   1\n",
      "6  1  0  0  1  0  0  0  1   1   1   0   0   4   1   0   1   1\n"
     ]
    }
   ],
   "source": [
    "# Column 18: type\n",
    "data = subset(data, select=-V1)\n",
    "print(head(data))"
   ]
  },
  {
   "cell_type": "code",
   "execution_count": 7,
   "metadata": {},
   "outputs": [
    {
     "name": "stdout",
     "output_type": "stream",
     "text": [
      "[1] \"Selected training row indexes:\"\n",
      " [1]  49  65  25  74  18 101  47  24  71  89  37  20  26   3  41  27  36   5  34\n",
      "[20]  88  58  42  94  30  43  15  22  81   8  85  68  97  69   4  50  96  92  67\n",
      "[39]   6  63   2  52  82  54  21  61  55  38  10  40  84  33  66  39  72  45  80\n",
      "[58]   9  29  12  90  44  35  77  16  28  51  95  56  70  79  17  32  48  14\n",
      "[1] \"Rows of training data and test data:\"\n",
      "[1] 75\n",
      "[1] 26\n"
     ]
    }
   ],
   "source": [
    "# Create the training and test data\n",
    "set.seed(42)\n",
    "trainingRowIndex = sample(1:nrow(data), 0.75*nrow(data))\n",
    "print('Selected training row indexes:')\n",
    "print(trainingRowIndex)\n",
    "trainingData = data[trainingRowIndex,] # training data\n",
    "testData = data[-trainingRowIndex,] # test data\n",
    "print('Rows of training data and test data:')\n",
    "print(nrow(trainingData))\n",
    "print(nrow(testData))"
   ]
  },
  {
   "cell_type": "code",
   "execution_count": 8,
   "metadata": {},
   "outputs": [
    {
     "name": "stdout",
     "output_type": "stream",
     "text": [
      "n= 75 \n",
      "\n",
      "node), split, n, loss, yval, (yprob)\n",
      "      * denotes terminal node\n",
      "\n",
      "  1) root 75 43 1 (0.43 0.23 0.053 0.093 0.04 0.08 0.08)  \n",
      "    2) V5>=0.5 32  0 1 (1 0 0 0 0 0 0) *\n",
      "    3) V5< 0.5 43 26 2 (0 0.4 0.093 0.16 0.07 0.14 0.14)  \n",
      "      6) V3>=0.5 17  0 2 (0 1 0 0 0 0 0) *\n",
      "      7) V3< 0.5 26 19 4 (0 0 0.15 0.27 0.12 0.23 0.23)  \n",
      "       14) V13>=0.5 7  0 4 (0 0 0 1 0 0 0) *\n",
      "       15) V13< 0.5 19 13 6 (0 0 0.21 0 0.16 0.32 0.32)  \n",
      "         30) V9>=0.5 7  3 3 (0 0 0.57 0 0.43 0 0)  \n",
      "           60) V15>=0.5 4  0 3 (0 0 1 0 0 0 0) *\n",
      "           61) V15< 0.5 3  0 5 (0 0 0 0 1 0 0) *\n",
      "         31) V9< 0.5 12  6 6 (0 0 0 0 0 0.5 0.5)  \n",
      "           62) V11>=0.5 7  1 6 (0 0 0 0 0 0.86 0.14)  \n",
      "            124) V14>=3 6  0 6 (0 0 0 0 0 1 0) *\n",
      "            125) V14< 3 1  0 7 (0 0 0 0 0 0 1) *\n",
      "           63) V11< 0.5 5  0 7 (0 0 0 0 0 0 1) *\n"
     ]
    }
   ],
   "source": [
    "# Build model\n",
    "# use: control = list(maxdepth = 15)\n",
    "data.tree = rpart(V18 ~ V2 + V3 + V4 + V5 + V6 + V7 + V8 + V9 + V10 + V11 + V12 + V13 + V14 + V15 + V16 + V17,\n",
    "                  data = trainingData,\n",
    "                  method = 'class',\n",
    "                  minbucket=1)\n",
    "print(data.tree)"
   ]
  },
  {
   "cell_type": "code",
   "execution_count": 9,
   "metadata": {},
   "outputs": [
    {
     "data": {
      "image/png": "[encoded data removed]",
      "text/plain": [
       "plot without title"
      ]
     },
     "metadata": {
      "image/png": {
       "height": 420,
       "width": 420
      }
     },
     "output_type": "display_data"
    }
   ],
   "source": [
    "# draw tree\n",
    "library(rpart.plot)\n",
    "prp(data.tree, type = 2, extra='auto', nn=TRUE, branch = 1, varlen=0, yesno=2)"
   ]
  },
  {
   "cell_type": "code",
   "execution_count": 10,
   "metadata": {},
   "outputs": [],
   "source": [
    "# test model\n",
    "pred_new = predict(data.tree, testData, type='class')"
   ]
  },
  {
   "cell_type": "code",
   "execution_count": 11,
   "metadata": {},
   "outputs": [
    {
     "name": "stdout",
     "output_type": "stream",
     "text": [
      "[1] \"Predict vs Actual:\"\n",
      "    Predict Actual\n",
      "1         1      1\n",
      "7         1      1\n",
      "11        1      1\n",
      "13        4      4\n",
      "19        4      4\n",
      "23        1      1\n",
      "31        6      6\n",
      "46        1      1\n",
      "53        3      5\n",
      "57        2      2\n",
      "59        2      2\n",
      "60        2      2\n",
      "62        4      4\n",
      "64        1      1\n",
      "73        6      7\n",
      "75        1      1\n",
      "76        1      1\n",
      "78        7      7\n",
      "83        4      4\n",
      "86        7      7\n",
      "87        4      4\n",
      "91        6      3\n",
      "93        4      4\n",
      "98        6      6\n",
      "99        1      1\n",
      "100       7      7\n"
     ]
    }
   ],
   "source": [
    "print('Predict vs Actual:')\n",
    "result = data.frame(Predict = pred_new, Actual = testData$V18)\n",
    "print(result)"
   ]
  },
  {
   "cell_type": "code",
   "execution_count": 12,
   "metadata": {},
   "outputs": [
    {
     "name": "stdout",
     "output_type": "stream",
     "text": [
      "[1] \"Accuracy s2: 0.884615384615385\"\n"
     ]
    }
   ],
   "source": [
    "# Solution 2\n",
    "misClasificError = mean(pred_new != testData$V18)\n",
    "print(paste('Accuracy s2:', 1-misClasificError))"
   ]
  },
  {
   "cell_type": "code",
   "execution_count": 13,
   "metadata": {},
   "outputs": [
    {
     "name": "stdout",
     "output_type": "stream",
     "text": [
      "[1] 1 1 7\n",
      "    V2 V3 V4 V5 V6 V7 V8 V9 V10 V11 V12 V13 V14 V15 V16 V17\n",
      "1    1  0  0  1  0  0  1  1   1   1   0   0   4   0   0   1\n",
      "10   1  0  0  1  0  0  0  1   1   1   0   0   4   0   1   0\n",
      "100  0  0  1  0  0  0  0  0   0   1   0   0   0   0   0   0\n"
     ]
    }
   ],
   "source": [
    "# predict new values\n",
    "newCase = data[c(1,10,100),]\n",
    "print(newCase$V18)\n",
    "newCase$V18 = NULL\n",
    "print(newCase)"
   ]
  },
  {
   "cell_type": "code",
   "execution_count": 14,
   "metadata": {},
   "outputs": [
    {
     "name": "stdout",
     "output_type": "stream",
     "text": [
      "[1] \"New predictionss:\"\n",
      "  1  10 100 \n",
      "  1   1   7 \n",
      "Levels: 1 2 3 4 5 6 7\n"
     ]
    }
   ],
   "source": [
    "print('New predictionss:')\n",
    "pred_new = predict(data.tree, newCase, type='class')\n",
    "print(pred_new)"
   ]
  },
  {
   "cell_type": "code",
   "execution_count": 15,
   "metadata": {},
   "outputs": [
    {
     "name": "stdout",
     "output_type": "stream",
     "text": [
      "[1] \"New predictions:\"\n",
      "1 2 \n",
      "1 6 \n",
      "Levels: 1 2 3 4 5 6 7\n"
     ]
    }
   ],
   "source": [
    "newdata = data.frame(V2=c(1, 1),\n",
    "                     V3=c(0, 0),\n",
    "                     V4=c(0, 1),\n",
    "                     V5=c(1, 0),\n",
    "                     V6=c(0, 1),\n",
    "                     V7=c(0, 0),\n",
    "                     V8=c(1, 0),\n",
    "                     V9=c(1, 0),\n",
    "                     V10=c(1, 0),\n",
    "                     V11=c(0, 1),\n",
    "                     V12=c(0, 1),\n",
    "                     V13=c(0, 0),\n",
    "                     V14=c(4, 6),\n",
    "                     V15=c(0, 0),\n",
    "                     V16=c(0, 0),\n",
    "                     V17=c(1, 0))\n",
    "print('New predictions:')\n",
    "pred_new = predict(data.tree, newdata, type='class')\n",
    "print(pred_new)"
   ]
  },
  {
   "cell_type": "code",
   "execution_count": null,
   "metadata": {},
   "outputs": [],
   "source": []
  }
 ],
 "metadata": {
  "kernelspec": {
   "display_name": "R",
   "language": "R",
   "name": "ir"
  },
  "language_info": {
   "codemirror_mode": "r",
   "file_extension": ".r",
   "mimetype": "text/x-r-source",
   "name": "R",
   "pygments_lexer": "r",
   "version": "4.0.2"
  }
 },
 "nbformat": 4,
 "nbformat_minor": 4
}
