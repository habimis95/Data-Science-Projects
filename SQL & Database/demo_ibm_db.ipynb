{
 "cells": [
  {
   "cell_type": "code",
   "execution_count": 1,
   "metadata": {},
   "outputs": [],
   "source": [
    "import ibm_db"
   ]
  },
  {
   "cell_type": "code",
   "execution_count": 5,
   "metadata": {},
   "outputs": [],
   "source": [
    "chuoi_ket_noi='DATABASE=BLUDB;HOSTNAME=dashdb-txn-sbox-yp-lon02-02.services.eu-gb.bluemix.net;PORT=50000;PROTOCOL=TCPIP;UID=nsd23966;PWD=pjv9lhws;'\n",
    "cnn = ibm_db.connect(chuoi_ket_noi,'','')"
   ]
  },
  {
   "cell_type": "code",
   "execution_count": 8,
   "metadata": {},
   "outputs": [
    {
     "data": {
      "text/plain": [
       "<ibm_db.IBM_DBStatement at 0x5ac7d98>"
      ]
     },
     "execution_count": 8,
     "metadata": {},
     "output_type": "execute_result"
    }
   ],
   "source": [
    "sql = \"\"\"\n",
    "create Table TestTable2(\n",
    "    id int primary key not null,\n",
    "    Name varchar(30)\n",
    ")\n",
    "\"\"\"\n",
    "ibm_db.exec_immediate(cnn, sql)"
   ]
  },
  {
   "cell_type": "code",
   "execution_count": 10,
   "metadata": {},
   "outputs": [
    {
     "data": {
      "text/plain": [
       "<ibm_db.IBM_DBStatement at 0x5ac7e68>"
      ]
     },
     "execution_count": 10,
     "metadata": {},
     "output_type": "execute_result"
    }
   ],
   "source": [
    "sql = \"\"\"\n",
    "insert into TestTable2 values(1, 'John'),(2, 'Mark')\n",
    "\"\"\"\n",
    "ibm_db.exec_immediate(cnn, sql)"
   ]
  },
  {
   "cell_type": "code",
   "execution_count": 16,
   "metadata": {},
   "outputs": [],
   "source": [
    "sql = \"select * from TestTable2\"\n",
    "results = ibm_db.exec_immediate(cnn, sql)"
   ]
  },
  {
   "cell_type": "code",
   "execution_count": 17,
   "metadata": {},
   "outputs": [
    {
     "name": "stdout",
     "output_type": "stream",
     "text": [
      "{'ID': 1, 0: 1, 'NAME': 'John', 1: 'John'}\n",
      "{'ID': 2, 0: 2, 'NAME': 'Mark', 1: 'Mark'}\n"
     ]
    }
   ],
   "source": [
    "dic = ibm_db.fetch_both(results)\n",
    "while dic != False:\n",
    "    print(dic)\n",
    "    dic = ibm_db.fetch_both(results)"
   ]
  },
  {
   "cell_type": "code",
   "execution_count": 19,
   "metadata": {},
   "outputs": [
    {
     "name": "stdout",
     "output_type": "stream",
     "text": [
      "(1, 'John')\n",
      "(2, 'Mark')\n"
     ]
    }
   ],
   "source": [
    "sql = \"select * from TestTable2\"\n",
    "results = ibm_db.exec_immediate(cnn, sql)\n",
    "tup = ibm_db.fetch_tuple(results)\n",
    "while tup != False:\n",
    "    print(tup)\n",
    "    tup = ibm_db.fetch_tuple(results)"
   ]
  },
  {
   "cell_type": "code",
   "execution_count": 20,
   "metadata": {},
   "outputs": [
    {
     "name": "stdout",
     "output_type": "stream",
     "text": [
      "{'ID': 1, 'NAME': 'John'}\n",
      "{'ID': 2, 'NAME': 'Mark'}\n"
     ]
    }
   ],
   "source": [
    "sql = \"select * from TestTable2\"\n",
    "results = ibm_db.exec_immediate(cnn, sql)\n",
    "dic = ibm_db.fetch_assoc(results)\n",
    "while dic != False:\n",
    "    print(dic)\n",
    "    dic = ibm_db.fetch_assoc(results)"
   ]
  },
  {
   "cell_type": "code",
   "execution_count": 23,
   "metadata": {},
   "outputs": [
    {
     "name": "stdout",
     "output_type": "stream",
     "text": [
      "1 , John\n",
      "2 , Mark\n"
     ]
    }
   ],
   "source": [
    "sql = \"select * from TestTable2\"\n",
    "results = ibm_db.exec_immediate(cnn, sql)\n",
    "while ibm_db.fetch_row(results) != False:\n",
    "    print(ibm_db.result(results, 'ID'),',',ibm_db.result(results, 'NAME'))"
   ]
  },
  {
   "cell_type": "code",
   "execution_count": 14,
   "metadata": {},
   "outputs": [],
   "source": [
    "sql = \"Select * from TestTable2 where Name = ?\"\n",
    "stmt = ibm_db.prepare(cnn, sql)\n",
    "ibm_db.bind_param(stmt, 1, 'Mark')\n",
    "results = ibm_db.execute(stmt)"
   ]
  },
  {
   "cell_type": "code",
   "execution_count": 26,
   "metadata": {},
   "outputs": [],
   "source": [
    "import ibm_db_dbi\n",
    "import pandas as pd"
   ]
  },
  {
   "cell_type": "code",
   "execution_count": 25,
   "metadata": {},
   "outputs": [],
   "source": [
    "pCon = ibm_db_dbi.Connection(cnn)"
   ]
  },
  {
   "cell_type": "code",
   "execution_count": 29,
   "metadata": {},
   "outputs": [
    {
     "data": {
      "text/html": [
       "<div>\n",
       "<style scoped>\n",
       "    .dataframe tbody tr th:only-of-type {\n",
       "        vertical-align: middle;\n",
       "    }\n",
       "\n",
       "    .dataframe tbody tr th {\n",
       "        vertical-align: top;\n",
       "    }\n",
       "\n",
       "    .dataframe thead th {\n",
       "        text-align: right;\n",
       "    }\n",
       "</style>\n",
       "<table border=\"1\" class=\"dataframe\">\n",
       "  <thead>\n",
       "    <tr style=\"text-align: right;\">\n",
       "      <th></th>\n",
       "      <th>ID</th>\n",
       "      <th>NAME</th>\n",
       "    </tr>\n",
       "  </thead>\n",
       "  <tbody>\n",
       "    <tr>\n",
       "      <th>0</th>\n",
       "      <td>1</td>\n",
       "      <td>John</td>\n",
       "    </tr>\n",
       "    <tr>\n",
       "      <th>1</th>\n",
       "      <td>2</td>\n",
       "      <td>Mark</td>\n",
       "    </tr>\n",
       "  </tbody>\n",
       "</table>\n",
       "</div>"
      ],
      "text/plain": [
       "   ID  NAME\n",
       "0   1  John\n",
       "1   2  Mark"
      ]
     },
     "execution_count": 29,
     "metadata": {},
     "output_type": "execute_result"
    }
   ],
   "source": [
    "df = pd.read_sql(\"select * from TestTable2\", pCon)\n",
    "df"
   ]
  },
  {
   "cell_type": "code",
   "execution_count": null,
   "metadata": {},
   "outputs": [],
   "source": []
  }
 ],
 "metadata": {
  "kernelspec": {
   "display_name": "Python 3",
   "language": "python",
   "name": "python3"
  },
  "language_info": {
   "codemirror_mode": {
    "name": "ipython",
    "version": 3
   },
   "file_extension": ".py",
   "mimetype": "text/x-python",
   "name": "python",
   "nbconvert_exporter": "python",
   "pygments_lexer": "ipython3",
   "version": "3.6.8"
  }
 },
 "nbformat": 4,
 "nbformat_minor": 2
}
