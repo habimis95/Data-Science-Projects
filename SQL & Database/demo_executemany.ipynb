{
 "cells": [
  {
   "cell_type": "code",
   "execution_count": 1,
   "metadata": {},
   "outputs": [],
   "source": [
    "from mysql.connector import connect"
   ]
  },
  {
   "cell_type": "code",
   "execution_count": 2,
   "metadata": {},
   "outputs": [],
   "source": [
    "# Tạo kết nối\n",
    "connection = connect(host='localhost', database='salesdb', user='root', password='', port='3308')"
   ]
  },
  {
   "cell_type": "code",
   "execution_count": 3,
   "metadata": {},
   "outputs": [],
   "source": [
    "#tạo cursor\n",
    "cursor = connection.cursor()"
   ]
  },
  {
   "cell_type": "code",
   "execution_count": 4,
   "metadata": {},
   "outputs": [
    {
     "data": {
      "text/plain": [
       "'SELECT * FROM customers where City = %s; SELECT * FROM products where SupplierId = 1;'"
      ]
     },
     "execution_count": 4,
     "metadata": {},
     "output_type": "execute_result"
    }
   ],
   "source": [
    "# Tạo câu lệnh truy vấn\n",
    "sql = \"SELECT * FROM customers where City = %s; SELECT * FROM products where SupplierId = 1;\"\n",
    "sql"
   ]
  },
  {
   "cell_type": "code",
   "execution_count": 5,
   "metadata": {},
   "outputs": [],
   "source": [
    "sql1 = \"SELECT * FROM customers where City = %s limit %s\"\n",
    "sql2 = \"SELECT * FROM products where SupplierId = 1\"\n",
    "lst_sql = [sql1, sql2]\n",
    "sql = ';'.join(lst_sql)"
   ]
  },
  {
   "cell_type": "code",
   "execution_count": 6,
   "metadata": {},
   "outputs": [
    {
     "name": "stdout",
     "output_type": "stream",
     "text": [
      "Nhập Tên thành phố: London\n",
      "Số dòng: 4\n"
     ]
    }
   ],
   "source": [
    "city = input('Nhập Tên thành phố: ')\n",
    "sodong = eval(input('Số dòng: '))\n",
    "data = (city, sodong)"
   ]
  },
  {
   "cell_type": "code",
   "execution_count": 7,
   "metadata": {},
   "outputs": [
    {
     "name": "stdout",
     "output_type": "stream",
     "text": [
      "MySQLCursor: SELECT * FROM customers where City = 'Lo..\n",
      "(4, 'Thomas', 'Hardy', 'London', 'UK', '(171) 555-7788')\n",
      "(11, 'Victoria', 'Ashworth', 'London', 'UK', '(171) 555-1212')\n",
      "(16, 'Elizabeth', 'Brown', 'London', 'UK', '(171) 555-2282')\n",
      "(19, 'Ann', 'Devon', 'London', 'UK', '(171) 555-0297')\n",
      "MySQLCursor: SELECT * FROM products where SupplierId ..\n",
      "(1, 'Chai', 1, Decimal('18.00'), '10 boxes x 20 bags', 0)\n",
      "(2, 'Chang', 1, Decimal('19.00'), '24 - 12 oz bottles', 0)\n",
      "(3, 'Aniseed Syrup', 1, Decimal('10.00'), '12 - 550 ml bottles', 0)\n"
     ]
    }
   ],
   "source": [
    "result = cursor.execute(sql, data, multi=True)\n",
    "\n",
    "for kq in result:\n",
    "    print(kq)\n",
    "    for row in kq:\n",
    "        print(row)"
   ]
  },
  {
   "cell_type": "code",
   "execution_count": null,
   "metadata": {},
   "outputs": [],
   "source": []
  }
 ],
 "metadata": {
  "kernelspec": {
   "display_name": "Python 3",
   "language": "python",
   "name": "python3"
  },
  "language_info": {
   "codemirror_mode": {
    "name": "ipython",
    "version": 3
   },
   "file_extension": ".py",
   "mimetype": "text/x-python",
   "name": "python",
   "nbconvert_exporter": "python",
   "pygments_lexer": "ipython3",
   "version": "3.6.8"
  }
 },
 "nbformat": 4,
 "nbformat_minor": 2
}
