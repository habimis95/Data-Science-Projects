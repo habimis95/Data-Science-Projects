{
 "cells": [
  {
   "cell_type": "code",
   "execution_count": 1,
   "metadata": {
    "colab": {
     "base_uri": "https://localhost:8080/",
     "height": 319
    },
    "colab_type": "code",
    "executionInfo": {
     "elapsed": 1838,
     "status": "error",
     "timestamp": 1590889024408,
     "user": {
      "displayName": "Hai Binh Tran",
      "photoUrl": "https://lh3.googleusercontent.com/a-/AOh14GjZNTcgMROnTd7dOgIj01fb80UjzkhGaU8lylAp=s64",
      "userId": "03597462868253351581"
     },
     "user_tz": -420
    },
    "id": "VsygojUcXkDa",
    "outputId": "ba023f17-c871-4330-cc91-43915ba41e29"
   },
   "outputs": [],
   "source": [
    "from mysql.connector import connect, Error"
   ]
  },
  {
   "cell_type": "code",
   "execution_count": 3,
   "metadata": {
    "colab": {},
    "colab_type": "code",
    "id": "LpFA06JsXkDm"
   },
   "outputs": [],
   "source": [
    "conn = connect(host='localhost', database='salesdb', user='root', password='')\n",
    "cursor = conn.cursor()"
   ]
  },
  {
   "cell_type": "code",
   "execution_count": 4,
   "metadata": {
    "colab": {},
    "colab_type": "code",
    "id": "6nJ1GpyNXkD1"
   },
   "outputs": [],
   "source": [
    "#2\n",
    "sql2 = \"select * from customers where country='brazil'\""
   ]
  },
  {
   "cell_type": "code",
   "execution_count": 10,
   "metadata": {
    "colab": {},
    "colab_type": "code",
    "id": "NrMlodiUXkD8"
   },
   "outputs": [],
   "source": [
    "cursor.execute(sql2)"
   ]
  },
  {
   "cell_type": "code",
   "execution_count": 11,
   "metadata": {
    "colab": {},
    "colab_type": "code",
    "id": "Iat7s4a0XkEC"
   },
   "outputs": [],
   "source": [
    "#first row \n",
    "row = cursor.fetchone()"
   ]
  },
  {
   "cell_type": "code",
   "execution_count": 12,
   "metadata": {
    "colab": {},
    "colab_type": "code",
    "id": "8AqT4crLXkEL",
    "outputId": "a837ade0-acc6-43a6-906e-a80adfa2b2b4"
   },
   "outputs": [
    {
     "name": "stdout",
     "output_type": "stream",
     "text": [
      "(15, 'Pedro', 'Afonso', 'Sao Paulo', 'Brazil', '(11) 555-7647')\n",
      "(21, 'Aria', 'Cruz', 'Sao Paulo', 'Brazil', '(11) 555-9857')\n",
      "(31, 'André', 'Fonseca', 'Campinas', 'Brazil', '(11) 555-9482')\n",
      "(34, 'Mario', 'Pontes', 'Rio de Janeiro', 'Brazil', '(21) 555-0091')\n",
      "(61, 'Bernardo', 'Batista', 'Rio de Janeiro', 'Brazil', '(21) 555-4252')\n",
      "(62, 'Lúcia', 'Carvalho', 'Sao Paulo', 'Brazil', '(11) 555-1189')\n",
      "(67, 'Janete', 'Limeira', 'Rio de Janeiro', 'Brazil', '(21) 555-3412')\n",
      "(81, 'Anabela', 'Domingues', 'Sao Paulo', 'Brazil', '(11) 555-2167')\n",
      "(88, 'Paula', 'Parente', 'Resende', 'Brazil', '(14) 555-8122')\n"
     ]
    }
   ],
   "source": [
    "#Loop over the remaining resulf set\n",
    "while row:\n",
    "    print(row)\n",
    "    row = cursor.fetchone()"
   ]
  },
  {
   "cell_type": "code",
   "execution_count": 20,
   "metadata": {
    "colab": {},
    "colab_type": "code",
    "id": "zuCZjTuSXkES"
   },
   "outputs": [],
   "source": [
    "#3\n",
    "sql3 = \"select * from suppliers where fax is null\""
   ]
  },
  {
   "cell_type": "code",
   "execution_count": 16,
   "metadata": {},
   "outputs": [],
   "source": [
    "cursor.execute(sql3)"
   ]
  },
  {
   "cell_type": "code",
   "execution_count": 17,
   "metadata": {},
   "outputs": [],
   "source": [
    "#first row\n",
    "row = cursor.fetchone()"
   ]
  },
  {
   "cell_type": "code",
   "execution_count": 18,
   "metadata": {
    "colab": {},
    "colab_type": "code",
    "id": "SmvG2kwdXkEY"
   },
   "outputs": [
    {
     "name": "stdout",
     "output_type": "stream",
     "text": [
      "(1, 'Exotic Liquids', 'Charlotte Cooper', None, 'London', 'UK', '(171) 555-2222', None)\n",
      "(2, 'New Orleans Ca6/Delights', 'Shelley Burke', None, 'New Orleans', 'USA', '(100) 555-4822', None)\n",
      "(4, 'Tokyo Traders', 'Yoshi Nagase', None, 'Tokyo', 'Japan', '(03) 3555-5011', None)\n",
      "(5, \"Cooperativa de Quesos 'Las Cabras'\", 'Antonio del Valle Saavedra', None, 'Oviedo', 'Spain', '(98) 598 76 54', None)\n",
      "(6, \"Mayumi's\", 'Mayumi Ohno', None, 'Osaka', 'Japan', '(06) 431-7877', None)\n",
      "(8, 'Specialty Biscuits, Ltd.', 'Peter Wilson', None, 'Manchester', 'UK', '(161) 555-4448', None)\n",
      "(10, 'Refrescos Americanas LTDA', 'Carlos Diaz', None, 'Sao Paulo', 'Brazil', '(11) 555 4640', None)\n",
      "(11, 'Heli Süßwaren GmbH & Co. KG', 'Petra Winkler', None, 'Berlin', 'Germany', '(010) 9984510', None)\n",
      "(12, 'Plutzer Lebensmittelgroßmärkte AG', 'Martin Bein', None, 'Frankfurt', 'Germany', '(069) 992755', None)\n",
      "(15, 'Norske Meierier', 'Beate Vileid', None, 'Sandvika', 'Norway', '(0);2-953010', None)\n",
      "(16, 'Bigfoot Breweries', 'Cheryl Saylor', None, 'Bend', 'USA', '(503) 555-9931', None)\n",
      "(17, 'Svensk Sjöföda AB', 'Michael Björn', None, 'Stockholm', 'Sweden', '08-123 45 67', None)\n",
      "(20, 'Leka Trading', 'Chandra Leka', None, 'Singapore', 'Singapore', '555-8787', None)\n",
      "(23, 'Karkki Oy', 'Anne Heikkonen', None, 'Lappeenranta', 'Finland', '(953) 10956', None)\n",
      "(25, 'Ma Maison', 'Jean-Guy Lauzon', None, 'Montréal', 'Canada', '(514) 555-9022', None)\n",
      "(27, 'Escargots Nouveaux', 'Marie Delamare', None, 'Montceau', 'France', '85.57.00.07', None)\n"
     ]
    }
   ],
   "source": [
    "while row:\n",
    "    print(row)\n",
    "    row = cursor.fetchone()"
   ]
  },
  {
   "cell_type": "code",
   "execution_count": 21,
   "metadata": {
    "colab": {},
    "colab_type": "code",
    "id": "xsqQ5D5lXkEe"
   },
   "outputs": [],
   "source": [
    "#4\n",
    "sql4=\"select * from products where UnitPrice between 30 and 60\"\n"
   ]
  },
  {
   "cell_type": "code",
   "execution_count": 22,
   "metadata": {},
   "outputs": [],
   "source": [
    "cursor.execute(sql4)"
   ]
  },
  {
   "cell_type": "code",
   "execution_count": 23,
   "metadata": {},
   "outputs": [],
   "source": [
    "#first row\n",
    "row = cursor.fetchone()"
   ]
  },
  {
   "cell_type": "code",
   "execution_count": 24,
   "metadata": {},
   "outputs": [
    {
     "name": "stdout",
     "output_type": "stream",
     "text": [
      "(7, \"Uncle Bob's Organic Dried Pears\", 3, Decimal('30'), '12 - 1 lb pkgs.', 0)\n",
      "(8, 'Northwoods Cranberry Sauce', 3, Decimal('40'), '12 - 12 oz jars', 0)\n",
      "(10, 'Ikura', 4, Decimal('31'), '12 - 200 ml jars', 0)\n",
      "(12, 'Queso Manchego La Pastora', 5, Decimal('38'), '10 - 500 g pkgs.', 0)\n",
      "(17, 'Alice Mutton', 7, Decimal('39'), '20 - 1 kg tins', 1)\n",
      "(26, 'Gumbär Gummibärchen', 11, Decimal('31'), '100 - 250 g bags', 0)\n",
      "(27, 'Schoggi Schokolade', 11, Decimal('44'), '100 - 100 g pieces', 0)\n",
      "(28, 'Rössle Sauerkraut', 12, Decimal('46'), '25 - 825 g cans', 1)\n",
      "(32, 'Mascarpone Fabioli', 14, Decimal('32'), '24 - 200 g pkgs.', 0)\n",
      "(43, 'Ipoh Coffee', 20, Decimal('46'), '16 - 500 g tins', 0)\n",
      "(51, 'Manjimup Dried Apples', 24, Decimal('53'), '50 - 300 g pkgs.', 0)\n",
      "(53, 'Perth Pasties', 24, Decimal('33'), '48 pieces', 1)\n",
      "(56, 'Gnocchi di nonna Alice', 26, Decimal('38'), '24 - 250 g pkgs.', 0)\n",
      "(59, 'Raclette Courdavault', 28, Decimal('55'), '5 kg pkg.', 0)\n",
      "(60, 'Camembert Pierrot', 28, Decimal('34'), '15 - 300 g rounds', 0)\n",
      "(62, 'Tarte au sucre', 29, Decimal('49'), '48 pies', 0)\n",
      "(63, 'Vegie-spread', 7, Decimal('44'), '15 - 625 g jars', 0)\n",
      "(64, 'Wimmers gute Semmelknödel', 12, Decimal('33'), '20 bags x 4 pieces', 0)\n",
      "(69, 'Gudbrandsdalsost', 15, Decimal('36'), '10 kg pkg.', 0)\n",
      "(72, 'Mozzarella di Giovanni', 14, Decimal('35'), '24 - 200 g pkgs.', 0)\n"
     ]
    }
   ],
   "source": [
    "while row:\n",
    "    print(row)\n",
    "    row = cursor.fetchone()"
   ]
  },
  {
   "cell_type": "code",
   "execution_count": null,
   "metadata": {},
   "outputs": [],
   "source": []
  }
 ],
 "metadata": {
  "colab": {
   "name": "Chap4-Excersise2.ipynb",
   "provenance": []
  },
  "kernelspec": {
   "display_name": "Python 3",
   "language": "python",
   "name": "python3"
  },
  "language_info": {
   "codemirror_mode": {
    "name": "ipython",
    "version": 3
   },
   "file_extension": ".py",
   "mimetype": "text/x-python",
   "name": "python",
   "nbconvert_exporter": "python",
   "pygments_lexer": "ipython3",
   "version": "3.7.4"
  }
 },
 "nbformat": 4,
 "nbformat_minor": 4
}
