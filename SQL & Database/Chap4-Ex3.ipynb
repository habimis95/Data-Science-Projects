{
 "cells": [
  {
   "cell_type": "code",
   "execution_count": 3,
   "metadata": {},
   "outputs": [],
   "source": [
    "from mysql.connector import connect, Error"
   ]
  },
  {
   "cell_type": "code",
   "execution_count": 4,
   "metadata": {},
   "outputs": [],
   "source": [
    "conn = connect(host='localhost', database='salesdb', user='root',password='')\n",
    "cursor = conn.cursor()"
   ]
  },
  {
   "cell_type": "code",
   "execution_count": 5,
   "metadata": {},
   "outputs": [],
   "source": [
    "#1\n",
    "sql1= \"\"\"select p.Id as ProductID, ProductName, UnitPrice, CompanyName from Products p inner join Suppliers s on p.SupplierID=s.ID order by CompanyName\"\"\""
   ]
  },
  {
   "cell_type": "code",
   "execution_count": 17,
   "metadata": {},
   "outputs": [],
   "source": [
    "cursor.execute(sql1)"
   ]
  },
  {
   "cell_type": "code",
   "execution_count": 18,
   "metadata": {},
   "outputs": [],
   "source": [
    "#first row\n",
    "row = cursor.fetchone()\n"
   ]
  },
  {
   "cell_type": "code",
   "execution_count": 19,
   "metadata": {},
   "outputs": [
    {
     "name": "stdout",
     "output_type": "stream",
     "text": [
      "(39, 'Chartreuse verte', Decimal('18'), 'Aux joyeux ecclésiastiques')\n",
      "(38, 'Côte de Blaye', Decimal('264'), 'Aux joyeux ecclésiastiques')\n",
      "(34, 'Sasquatch Ale', Decimal('14'), 'Bigfoot Breweries')\n",
      "(35, 'Steeleye Stout', Decimal('18'), 'Bigfoot Breweries')\n",
      "(67, 'Laughing Lumberjack Lager', Decimal('14'), 'Bigfoot Breweries')\n",
      "(11, 'Queso Cabrales', Decimal('21'), \"Cooperativa de Quesos 'Las Cabras'\")\n",
      "(12, 'Queso Manchego La Pastora', Decimal('38'), \"Cooperativa de Quesos 'Las Cabras'\")\n",
      "(58, 'Escargots de Bourgogne', Decimal('13'), 'Escargots Nouveaux')\n",
      "(1, 'Chai', Decimal('18'), 'Exotic Liquids')\n",
      "(2, 'Chang', Decimal('19'), 'Exotic Liquids')\n",
      "(3, 'Aniseed Syrup', Decimal('10'), 'Exotic Liquids')\n",
      "(61, \"Sirop d'érable\", Decimal('29'), \"Forêts d'érables\")\n",
      "(62, 'Tarte au sucre', Decimal('49'), \"Forêts d'érables\")\n",
      "(31, 'Gorgonzola Telino', Decimal('13'), 'Formaggi Fortini s.r.l.')\n",
      "(32, 'Mascarpone Fabioli', Decimal('32'), 'Formaggi Fortini s.r.l.')\n",
      "(72, 'Mozzarella di Giovanni', Decimal('35'), 'Formaggi Fortini s.r.l.')\n",
      "(51, 'Manjimup Dried Apples', Decimal('53'), \"G'day, Mate\")\n",
      "(52, 'Filo Mix', Decimal('7'), \"G'day, Mate\")\n",
      "(53, 'Perth Pasties', Decimal('33'), \"G'day, Mate\")\n",
      "(59, 'Raclette Courdavault', Decimal('55'), 'Gai pâturage')\n",
      "(60, 'Camembert Pierrot', Decimal('34'), 'Gai pâturage')\n",
      "(7, \"Uncle Bob's Organic Dried Pears\", Decimal('30'), \"Grandma Kelly's Homestead\")\n",
      "(8, 'Northwoods Cranberry Sauce', Decimal('40'), \"Grandma Kelly's Homestead\")\n",
      "(6, \"Grandma's Boysenberry Spread\", Decimal('25'), \"Grandma Kelly's Homestead\")\n",
      "(25, 'NuNuCa Nuß-Nougat-Creme', Decimal('14'), 'Heli Süßwaren GmbH & Co. KG')\n",
      "(26, 'Gumbär Gummibärchen', Decimal('31'), 'Heli Süßwaren GmbH & Co. KG')\n",
      "(27, 'Schoggi Schokolade', Decimal('44'), 'Heli Süßwaren GmbH & Co. KG')\n",
      "(49, 'Maxilaku', Decimal('20'), 'Karkki Oy')\n",
      "(50, 'Valkoinen suklaa', Decimal('16'), 'Karkki Oy')\n",
      "(76, 'Lakkalikööri', Decimal('18'), 'Karkki Oy')\n",
      "(42, 'Singaporean Hokkien Fried Mee', Decimal('14'), 'Leka Trading')\n",
      "(43, 'Ipoh Coffee', Decimal('46'), 'Leka Trading')\n",
      "(44, 'Gula Malacca', Decimal('19'), 'Leka Trading')\n",
      "(45, 'Rogede sild', Decimal('10'), 'Lyngbysild')\n",
      "(46, 'Spegesild', Decimal('12'), 'Lyngbysild')\n",
      "(55, 'Pâté chinois', Decimal('24'), 'Ma Maison')\n",
      "(54, 'Tourtière', Decimal('7'), 'Ma Maison')\n",
      "(15, 'Genen Shouyu', Decimal('16'), \"Mayumi's\")\n",
      "(13, 'Konbu', Decimal('6'), \"Mayumi's\")\n",
      "(14, 'Tofu', Decimal('23'), \"Mayumi's\")\n",
      "(40, 'Boston Crab Meat', Decimal('18'), 'New England Seafood Cannery')\n",
      "(41, \"Jack's New England Clam Chowder\", Decimal('10'), 'New England Seafood Cannery')\n",
      "(65, 'Louisiana Fiery Hot Pepper Sauce', Decimal('21'), 'New Orleans Ca6/Delights')\n",
      "(66, 'Louisiana Hot Spiced Okra', Decimal('17'), 'New Orleans Ca6/Delights')\n",
      "(4, \"Chef Anton's Ca6/Seasoning\", Decimal('22'), 'New Orleans Ca6/Delights')\n",
      "(5, \"Chef Anton's Gumbo Mix\", Decimal('21'), 'New Orleans Ca6/Delights')\n",
      "(30, 'Nord-Ost Matjeshering', Decimal('26'), 'Nord-Ost-Fisch Handelsgesellschaft mbH')\n",
      "(71, 'Flotemysost', Decimal('22'), 'Norske Meierier')\n",
      "(33, 'Geitost', Decimal('3'), 'Norske Meierier')\n",
      "(69, 'Gudbrandsdalsost', Decimal('36'), 'Norske Meierier')\n",
      "(56, 'Gnocchi di nonna Alice', Decimal('38'), 'Pasta Buttini s.r.l.')\n",
      "(57, 'Ravioli Angelo', Decimal('20'), 'Pasta Buttini s.r.l.')\n",
      "(63, 'Vegie-spread', Decimal('44'), 'Pavlova, Ltd.')\n",
      "(16, 'Pavlova', Decimal('17'), 'Pavlova, Ltd.')\n",
      "(17, 'Alice Mutton', Decimal('39'), 'Pavlova, Ltd.')\n",
      "(18, 'Carnarvon Tigers', Decimal('63'), 'Pavlova, Ltd.')\n",
      "(70, 'Outback Lager', Decimal('15'), 'Pavlova, Ltd.')\n",
      "(23, 'Tunnbröd', Decimal('9'), 'PB Knäckebröd AB')\n",
      "(22, \"Gustaf's Knäckebröd\", Decimal('21'), 'PB Knäckebröd AB')\n",
      "(64, 'Wimmers gute Semmelknödel', Decimal('33'), 'Plutzer Lebensmittelgroßmärkte AG')\n",
      "(75, 'Rhönbräu Klosterbier', Decimal('8'), 'Plutzer Lebensmittelgroßmärkte AG')\n",
      "(28, 'Rössle Sauerkraut', Decimal('46'), 'Plutzer Lebensmittelgroßmärkte AG')\n",
      "(77, 'Original Frankfurter grüne Soße', Decimal('13'), 'Plutzer Lebensmittelgroßmärkte AG')\n",
      "(29, 'Thüringer Rostbratwurst', Decimal('124'), 'Plutzer Lebensmittelgroßmärkte AG')\n",
      "(24, 'Guaraná Fantástica', Decimal('5'), 'Refrescos Americanas LTDA')\n",
      "(19, 'Teatime Chocolate Biscuits', Decimal('9'), 'Specialty Biscuits, Ltd.')\n",
      "(68, 'Scottish Longbreads', Decimal('13'), 'Specialty Biscuits, Ltd.')\n",
      "(20, \"Sir Rodney's Marmalade\", Decimal('81'), 'Specialty Biscuits, Ltd.')\n",
      "(21, \"Sir Rodney's Scones\", Decimal('10'), 'Specialty Biscuits, Ltd.')\n",
      "(73, 'Röd Kaviar', Decimal('15'), 'Svensk Sjöföda AB')\n",
      "(36, 'Inlagd Sill', Decimal('19'), 'Svensk Sjöföda AB')\n",
      "(37, 'Gravad lax', Decimal('26'), 'Svensk Sjöföda AB')\n",
      "(9, 'Mishi Kobe Niku', Decimal('97'), 'Tokyo Traders')\n",
      "(74, 'Longlife Tofu', Decimal('10'), 'Tokyo Traders')\n",
      "(10, 'Ikura', Decimal('31'), 'Tokyo Traders')\n",
      "(47, 'Zaanse koeken', Decimal('10'), 'Zaanse Snoepfabriek')\n",
      "(48, 'Chocolade', Decimal('13'), 'Zaanse Snoepfabriek')\n",
      "(78, 'Stroopwafels', Decimal('10'), 'Zaanse Snoepfabriek')\n"
     ]
    }
   ],
   "source": [
    "# Loop over the remaining result set\n",
    "while row:\n",
    "    print(row)\n",
    "    row=cursor.fetchone()\n",
    "    "
   ]
  },
  {
   "cell_type": "code",
   "execution_count": 22,
   "metadata": {},
   "outputs": [],
   "source": [
    "#2\n",
    "sql2 = \"\"\"select o.Id as Order_ID, o.OrderDate, p.ProductName, oi.Quantity, (oi.UnitPrice * oi.Quantity) as SalePrice from Orders o inner join OrderItems oi on o.Id=oi.OrderId inner join Customers c on o.CustomerId=c.Id inner join products p on oi.ProductId=p.Id where c.Firstname='Thomas' and c.LastName='Hardy'\"\"\""
   ]
  },
  {
   "cell_type": "code",
   "execution_count": 23,
   "metadata": {},
   "outputs": [],
   "source": [
    "cursor.execute(sql2)"
   ]
  },
  {
   "cell_type": "code",
   "execution_count": 24,
   "metadata": {},
   "outputs": [],
   "source": [
    "#first row:\n",
    "row = cursor.fetchone()"
   ]
  },
  {
   "cell_type": "code",
   "execution_count": 25,
   "metadata": {},
   "outputs": [
    {
     "name": "stdout",
     "output_type": "stream",
     "text": [
      "(108, datetime.datetime(2012, 11, 15, 0, 0), 'Guaraná Fantástica', 25, Decimal('100'))\n",
      "(108, datetime.datetime(2012, 11, 15, 0, 0), 'Ravioli Angelo', 25, Decimal('400'))\n",
      "(136, datetime.datetime(2012, 12, 16, 0, 0), 'Konbu', 20, Decimal('100'))\n",
      "(136, datetime.datetime(2012, 12, 16, 0, 0), 'Valkoinen suklaa', 15, Decimal('195'))\n",
      "(136, datetime.datetime(2012, 12, 16, 0, 0), 'Gnocchi di nonna Alice', 20, Decimal('600'))\n",
      "(206, datetime.datetime(2013, 2, 21, 0, 0), 'Chocolade', 15, Decimal('150'))\n",
      "(206, datetime.datetime(2013, 2, 21, 0, 0), 'Outback Lager', 25, Decimal('300'))\n",
      "(311, datetime.datetime(2013, 6, 4, 0, 0), 'Zaanse koeken', 25, Decimal('250'))\n",
      "(311, datetime.datetime(2013, 6, 4, 0, 0), 'Manjimup Dried Apples', 20, Decimal('1060'))\n",
      "(311, datetime.datetime(2013, 6, 4, 0, 0), 'Filo Mix', 30, Decimal('210'))\n",
      "(311, datetime.datetime(2013, 6, 4, 0, 0), 'Perth Pasties', 18, Decimal('594'))\n",
      "(311, datetime.datetime(2013, 6, 4, 0, 0), 'Röd Kaviar', 3, Decimal('45'))\n",
      "(460, datetime.datetime(2013, 10, 16, 0, 0), 'Pâté chinois', 21, Decimal('504'))\n",
      "(460, datetime.datetime(2013, 10, 16, 0, 0), 'Ravioli Angelo', 40, Decimal('800'))\n",
      "(460, datetime.datetime(2013, 10, 16, 0, 0), 'Outback Lager', 28, Decimal('420'))\n",
      "(494, datetime.datetime(2013, 11, 14, 0, 0), 'Chang', 15, Decimal('285'))\n",
      "(496, datetime.datetime(2013, 11, 17, 0, 0), 'Spegesild', 28, Decimal('336'))\n",
      "(521, datetime.datetime(2013, 12, 8, 0, 0), \"Gustaf's Knäckebröd\", 4, Decimal('84'))\n",
      "(521, datetime.datetime(2013, 12, 8, 0, 0), 'Gorgonzola Telino', 50, Decimal('650'))\n",
      "(521, datetime.datetime(2013, 12, 8, 0, 0), 'Camembert Pierrot', 15, Decimal('510'))\n",
      "(521, datetime.datetime(2013, 12, 8, 0, 0), 'Flotemysost', 12, Decimal('264'))\n",
      "(546, datetime.datetime(2013, 12, 24, 0, 0), \"Jack's New England Clam Chowder\", 14, Decimal('140'))\n",
      "(546, datetime.datetime(2013, 12, 24, 0, 0), 'Filo Mix', 8, Decimal('56'))\n",
      "(617, datetime.datetime(2014, 2, 2, 0, 0), 'Steeleye Stout', 4, Decimal('72'))\n",
      "(617, datetime.datetime(2014, 2, 2, 0, 0), 'Laughing Lumberjack Lager', 15, Decimal('210'))\n",
      "(673, datetime.datetime(2014, 3, 3, 0, 0), 'Valkoinen suklaa', 24, Decimal('384'))\n",
      "(706, datetime.datetime(2014, 3, 16, 0, 0), \"Sir Rodney's Marmalade\", 50, Decimal('4050'))\n",
      "(706, datetime.datetime(2014, 3, 16, 0, 0), 'Gorgonzola Telino', 50, Decimal('650'))\n",
      "(769, datetime.datetime(2014, 4, 10, 0, 0), 'Gorgonzola Telino', 15, Decimal('195'))\n",
      "(769, datetime.datetime(2014, 4, 10, 0, 0), 'Inlagd Sill', 16, Decimal('304'))\n"
     ]
    }
   ],
   "source": [
    "# loop over the remaining result:\n",
    "while row:\n",
    "    print(row)\n",
    "    row = cursor.fetchone()"
   ]
  },
  {
   "cell_type": "code",
   "execution_count": 1,
   "metadata": {},
   "outputs": [],
   "source": [
    "#3.\n",
    "sql3 = \"\"\"select * from customers where Id not in (select CustomerId from Orders)\"\"\""
   ]
  },
  {
   "cell_type": "code",
   "execution_count": 6,
   "metadata": {},
   "outputs": [],
   "source": [
    "cursor.execute(sql3)"
   ]
  },
  {
   "cell_type": "code",
   "execution_count": 7,
   "metadata": {},
   "outputs": [],
   "source": [
    "#first row:\n",
    "row = cursor.fetchone()"
   ]
  },
  {
   "cell_type": "code",
   "execution_count": 8,
   "metadata": {},
   "outputs": [
    {
     "name": "stdout",
     "output_type": "stream",
     "text": [
      "(22, 'Diego', 'Roel', 'Madrid', 'Spain', '(91) 555 94 44')\n",
      "(57, 'Marie', 'Bertrand', 'Paris', 'France', '(1) 42.34.22.66')\n"
     ]
    }
   ],
   "source": [
    "#loop:\n",
    "while row:\n",
    "    print(row)\n",
    "    row=cursor.fetchone()"
   ]
  },
  {
   "cell_type": "code",
   "execution_count": 9,
   "metadata": {},
   "outputs": [],
   "source": [
    "#4\n",
    "sql4=\"\"\"select* from suppliers s inner join products p on s.Id=p.SupplierId where p.IsDiscontinued\"\"\""
   ]
  },
  {
   "cell_type": "code",
   "execution_count": 11,
   "metadata": {},
   "outputs": [],
   "source": [
    "cursor.execute(sql4)"
   ]
  },
  {
   "cell_type": "code",
   "execution_count": 12,
   "metadata": {},
   "outputs": [],
   "source": [
    "#first row:\n",
    "row = cursor.fetchone()\n"
   ]
  },
  {
   "cell_type": "code",
   "execution_count": 13,
   "metadata": {},
   "outputs": [
    {
     "name": "stdout",
     "output_type": "stream",
     "text": [
      "(2, 'New Orleans Ca6/Delights', 'Shelley Burke', None, 'New Orleans', 'USA', '(100) 555-4822', None, 5, \"Chef Anton's Gumbo Mix\", 2, Decimal('21'), '36 boxes', 1)\n",
      "(4, 'Tokyo Traders', 'Yoshi Nagase', None, 'Tokyo', 'Japan', '(03) 3555-5011', None, 9, 'Mishi Kobe Niku', 4, Decimal('97'), '18 - 500 g pkgs.', 1)\n",
      "(7, 'Pavlova, Ltd.', 'Ian Devling', None, 'Melbourne', 'Australia', '(03) 444-2343', '(03) 444-6588', 17, 'Alice Mutton', 7, Decimal('39'), '20 - 1 kg tins', 1)\n",
      "(10, 'Refrescos Americanas LTDA', 'Carlos Diaz', None, 'Sao Paulo', 'Brazil', '(11) 555 4640', None, 24, 'Guaraná Fantástica', 10, Decimal('5'), '12 - 355 ml cans', 1)\n",
      "(12, 'Plutzer Lebensmittelgroßmärkte AG', 'Martin Bein', None, 'Frankfurt', 'Germany', '(069) 992755', None, 28, 'Rössle Sauerkraut', 12, Decimal('46'), '25 - 825 g cans', 1)\n",
      "(12, 'Plutzer Lebensmittelgroßmärkte AG', 'Martin Bein', None, 'Frankfurt', 'Germany', '(069) 992755', None, 29, 'Thüringer Rostbratwurst', 12, Decimal('124'), '50 bags x 30 sausgs.', 1)\n",
      "(20, 'Leka Trading', 'Chandra Leka', None, 'Singapore', 'Singapore', '555-8787', None, 42, 'Singaporean Hokkien Fried Mee', 20, Decimal('14'), '32 - 1 kg pkgs.', 1)\n",
      "(24, \"G'day, Mate\", 'Wendy Mackenzie', None, 'Sydney', 'Australia', '(02) 555-5914', '(02) 555-4873', 53, 'Perth Pasties', 24, Decimal('33'), '48 pieces', 1)\n"
     ]
    }
   ],
   "source": [
    "#loop:\n",
    "while row:\n",
    "    print(row)\n",
    "    row = cursor.fetchone()"
   ]
  },
  {
   "cell_type": "code",
   "execution_count": 26,
   "metadata": {},
   "outputs": [],
   "source": [
    "#5\n",
    "sql5 = \"\"\"select \"Customer\" as Type, Id, CONCAT(FirstName, ' ' , LastName) AS 'Name', City, Country, Phone from customers where Id not in (select CustomerId from Orders)\n",
    "          union\n",
    "          select \"Supplier\" as Type, s.Id,CompanyName, City, Country, Phone from suppliers s inner join products p on s.Id=p.SupplierId where p.IsDiscontinued\"\"\""
   ]
  },
  {
   "cell_type": "code",
   "execution_count": 27,
   "metadata": {},
   "outputs": [],
   "source": [
    "cursor.execute(sql5)"
   ]
  },
  {
   "cell_type": "code",
   "execution_count": 28,
   "metadata": {},
   "outputs": [],
   "source": [
    "#first row:\n",
    "row = cursor.fetchone()"
   ]
  },
  {
   "cell_type": "code",
   "execution_count": 30,
   "metadata": {},
   "outputs": [
    {
     "name": "stdout",
     "output_type": "stream",
     "text": [
      "('Customer', 22, 'Diego Roel', 'Madrid', 'Spain', '(91) 555 94 44')\n",
      "('Customer', 57, 'Marie Bertrand', 'Paris', 'France', '(1) 42.34.22.66')\n",
      "('Supplier', 2, 'New Orleans Ca6/Delights', 'New Orleans', 'USA', '(100) 555-4822')\n",
      "('Supplier', 4, 'Tokyo Traders', 'Tokyo', 'Japan', '(03) 3555-5011')\n",
      "('Supplier', 7, 'Pavlova, Ltd.', 'Melbourne', 'Australia', '(03) 444-2343')\n",
      "('Supplier', 10, 'Refrescos Americanas LTDA', 'Sao Paulo', 'Brazil', '(11) 555 4640')\n",
      "('Supplier', 12, 'Plutzer Lebensmittelgroßmärkte AG', 'Frankfurt', 'Germany', '(069) 992755')\n",
      "('Supplier', 20, 'Leka Trading', 'Singapore', 'Singapore', '555-8787')\n",
      "('Supplier', 24, \"G'day, Mate\", 'Sydney', 'Australia', '(02) 555-5914')\n"
     ]
    }
   ],
   "source": [
    "#loop:\n",
    "while row:\n",
    "    print(row)\n",
    "    row = cursor.fetchone()"
   ]
  },
  {
   "cell_type": "code",
   "execution_count": 51,
   "metadata": {},
   "outputs": [],
   "source": [
    "#6\n",
    "sql6 = \"\"\"select * from Orders o right join Customers c on o.CustomerId=c.Id order by OrderDate limit 10\"\"\""
   ]
  },
  {
   "cell_type": "code",
   "execution_count": 52,
   "metadata": {},
   "outputs": [],
   "source": [
    "cursor.execute(sql6)"
   ]
  },
  {
   "cell_type": "code",
   "execution_count": 53,
   "metadata": {},
   "outputs": [],
   "source": [
    "#first row:\n",
    "row = cursor.fetchone()"
   ]
  },
  {
   "cell_type": "code",
   "execution_count": 54,
   "metadata": {},
   "outputs": [
    {
     "name": "stdout",
     "output_type": "stream",
     "text": [
      "(None, None, None, None, None, 57, 'Marie', 'Bertrand', 'Paris', 'France', '(1) 42.34.22.66')\n",
      "(None, None, None, None, None, 22, 'Diego', 'Roel', 'Madrid', 'Spain', '(91) 555 94 44')\n",
      "(1, datetime.datetime(2012, 7, 4, 0, 0), '542378', 85, Decimal('440'), 85, 'Paul', 'Henriot', 'Reims', 'France', '26.47.15.10')\n",
      "(2, datetime.datetime(2012, 7, 5, 0, 0), '542379', 79, Decimal('1863'), 79, 'Karin', 'Josephs', 'Münster', 'Germany', '0251-031259')\n",
      "(3, datetime.datetime(2012, 7, 8, 0, 0), '542380', 34, Decimal('1813'), 34, 'Mario', 'Pontes', 'Rio de Janeiro', 'Brazil', '(21) 555-0091')\n",
      "(4, datetime.datetime(2012, 7, 8, 0, 0), '542381', 84, Decimal('671'), 84, 'Mary', 'Saveley', 'Lyon', 'France', '78.32.54.86')\n",
      "(5, datetime.datetime(2012, 7, 9, 0, 0), '542382', 76, Decimal('3730'), 76, 'Pascale', 'Cartrain', 'Charleroi', 'Belgium', '(071) 23 67 22 20')\n",
      "(6, datetime.datetime(2012, 7, 10, 0, 0), '542383', 34, Decimal('1445'), 34, 'Mario', 'Pontes', 'Rio de Janeiro', 'Brazil', '(21) 555-0091')\n",
      "(7, datetime.datetime(2012, 7, 11, 0, 0), '542384', 14, Decimal('625'), 14, 'Yang', 'Wang', 'Bern', 'Switzerland', '0452-076545')\n",
      "(8, datetime.datetime(2012, 7, 12, 0, 0), '542385', 68, Decimal('2491'), 68, 'Michael', 'Holz', 'Genève', 'Switzerland', '0897-034214')\n"
     ]
    }
   ],
   "source": [
    "#loop:\n",
    "while row:\n",
    "    print(row)\n",
    "    row = cursor.fetchone()"
   ]
  },
  {
   "cell_type": "code",
   "execution_count": null,
   "metadata": {},
   "outputs": [],
   "source": []
  }
 ],
 "metadata": {
  "kernelspec": {
   "display_name": "Python 3",
   "language": "python",
   "name": "python3"
  },
  "language_info": {
   "codemirror_mode": {
    "name": "ipython",
    "version": 3
   },
   "file_extension": ".py",
   "mimetype": "text/x-python",
   "name": "python",
   "nbconvert_exporter": "python",
   "pygments_lexer": "ipython3",
   "version": "3.7.4"
  }
 },
 "nbformat": 4,
 "nbformat_minor": 4
}
