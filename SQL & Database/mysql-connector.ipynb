{
 "cells": [
  {
   "cell_type": "code",
   "execution_count": 1,
   "metadata": {
    "colab": {
     "base_uri": "https://localhost:8080/",
     "height": 319
    },
    "colab_type": "code",
    "executionInfo": {
     "elapsed": 1044,
     "status": "error",
     "timestamp": 1590889502183,
     "user": {
      "displayName": "Hai Binh Tran",
      "photoUrl": "https://lh3.googleusercontent.com/a-/AOh14GjZNTcgMROnTd7dOgIj01fb80UjzkhGaU8lylAp=s64",
      "userId": "03597462868253351581"
     },
     "user_tz": -420
    },
    "id": "mbxZaSZrYC85",
    "outputId": "849cb44d-75d6-4d08-8c9b-7eaf321a5d31"
   },
   "outputs": [],
   "source": [
    "from mysql.connector import connect, Error"
   ]
  },
  {
   "cell_type": "code",
   "execution_count": 2,
   "metadata": {
    "colab": {
     "base_uri": "https://localhost:8080/",
     "height": 172
    },
    "colab_type": "code",
    "executionInfo": {
     "elapsed": 858,
     "status": "error",
     "timestamp": 1590889504848,
     "user": {
      "displayName": "Hai Binh Tran",
      "photoUrl": "https://lh3.googleusercontent.com/a-/AOh14GjZNTcgMROnTd7dOgIj01fb80UjzkhGaU8lylAp=s64",
      "userId": "03597462868253351581"
     },
     "user_tz": -420
    },
    "id": "gayNP4NdYC9G",
    "outputId": "275dd415-64ed-4b37-d6bf-ecd2eda7fc54"
   },
   "outputs": [],
   "source": [
    "connection = connect(host='localhost', database='salesdb', user='root', password='', port='3306')"
   ]
  },
  {
   "cell_type": "code",
   "execution_count": 3,
   "metadata": {
    "colab": {},
    "colab_type": "code",
    "id": "7g3bO2dgYC9R"
   },
   "outputs": [],
   "source": [
    "cursor = connection.cursor()"
   ]
  },
  {
   "cell_type": "code",
   "execution_count": 4,
   "metadata": {
    "colab": {},
    "colab_type": "code",
    "id": "2cgoQYDdYC9b",
    "outputId": "d8afd8a4-9af2-4acd-ecb1-e2107055d5e2"
   },
   "outputs": [
    {
     "data": {
      "text/plain": [
       "<mysql.connector.connection_cext.CMySQLConnection at 0x294206b8688>"
      ]
     },
     "execution_count": 4,
     "metadata": {},
     "output_type": "execute_result"
    }
   ],
   "source": [
    "connection"
   ]
  },
  {
   "cell_type": "code",
   "execution_count": 5,
   "metadata": {
    "colab": {},
    "colab_type": "code",
    "id": "21snB3jXYC9i"
   },
   "outputs": [],
   "source": [
    "sql = \"\"\"\n",
    "    create table Customers(\n",
    "        Id int auto_increment not null primary key,\n",
    "        Firstname varchar(40) not null,\n",
    "        Lastname varchar(40) not null,\n",
    "        City varchar(40),\n",
    "        Country varchar(40),\n",
    "        Phone varchar(20));    \n",
    "    create table Suppliers(\n",
    "        Id int auto_increment not null primary key,\n",
    "        CompanyName varchar(40) not null,\n",
    "        ContactName varchar(50) not null,\n",
    "        ContactTitle varchar(40),\n",
    "        City varchar(40),\n",
    "        Country varchar(40),\n",
    "        Phone varchar(30),\n",
    "        Fax varchar(30));    \n",
    "    create table Products(\n",
    "        Id int auto_increment not null primary key,\n",
    "        ProductName varchar(50),\n",
    "        SupplierId int not null, \n",
    "        foreign key (SupplierId) references Suppliers(Id),\n",
    "        UnitPrice decimal,\n",
    "        Package varchar(30),\n",
    "        IsDiscontinued bit);    \n",
    "    create table Orders(\n",
    "        Id int not null primary key,\n",
    "        OrderDate datetime not null,\n",
    "        OrderNumber varchar(10) not null, \n",
    "        CustomerID int not null, \n",
    "        foreign key (CustomerID) references Customers(Id),\n",
    "        TotalAmount Decimal);    \n",
    "    create table OrderItems(\n",
    "        Id int not null primary key,\n",
    "        OrderID int not null, \n",
    "        foreign key (OrderID) references Orders(Id),\n",
    "        ProductId int not null, \n",
    "        foreign key (ProductId) references Products(Id),\n",
    "        UnitPrice decimal,\n",
    "        Quantity int\n",
    "    )\n",
    "\"\"\""
   ]
  },
  {
   "cell_type": "code",
   "execution_count": 6,
   "metadata": {
    "colab": {},
    "colab_type": "code",
    "id": "IeO-zjFoYC9r"
   },
   "outputs": [
    {
     "name": "stdout",
     "output_type": "stream",
     "text": [
      "Lỗi:  1050 (42S01): Table 'customers' already exists\n"
     ]
    }
   ],
   "source": [
    "try:\n",
    "    result = cursor.execute(sql, multi=True)\n",
    "    result.send(None)\n",
    "except Exception as er:\n",
    "    print('Lỗi: ',er)\n",
    "else:\n",
    "    connection.commit()"
   ]
  },
  {
   "cell_type": "code",
   "execution_count": null,
   "metadata": {
    "colab": {},
    "colab_type": "code",
    "id": "jHAKGRqbYC9x"
   },
   "outputs": [],
   "source": []
  }
 ],
 "metadata": {
  "colab": {
   "name": "mysql-connector.ipynb",
   "provenance": []
  },
  "kernelspec": {
   "display_name": "Python 3",
   "language": "python",
   "name": "python3"
  },
  "language_info": {
   "codemirror_mode": {
    "name": "ipython",
    "version": 3
   },
   "file_extension": ".py",
   "mimetype": "text/x-python",
   "name": "python",
   "nbconvert_exporter": "python",
   "pygments_lexer": "ipython3",
   "version": "3.7.4"
  }
 },
 "nbformat": 4,
 "nbformat_minor": 4
}
