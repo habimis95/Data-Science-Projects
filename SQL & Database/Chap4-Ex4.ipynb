{
 "cells": [
  {
   "cell_type": "code",
   "execution_count": 1,
   "metadata": {},
   "outputs": [],
   "source": [
    "from mysql.connector import connect, Error"
   ]
  },
  {
   "cell_type": "code",
   "execution_count": 2,
   "metadata": {},
   "outputs": [],
   "source": [
    "conn = connect(host='localhost', database='salesdb', user='root', password='')\n",
    "cursor = conn.cursor()"
   ]
  },
  {
   "cell_type": "code",
   "execution_count": 5,
   "metadata": {},
   "outputs": [
    {
     "name": "stdin",
     "output_type": "stream",
     "text": [
      "Nhập tên nhà cung cấp:  Tokyo Traders\n"
     ]
    }
   ],
   "source": [
    "#1\n",
    "sql1=\"\"\"select p.*, CompanyName\n",
    "        from products p inner join Suppliers sp on p.SupplierId=sp.Id\n",
    "        where CompanyName=%s\"\"\"\n",
    "name = input(\"Nhập tên nhà cung cấp: \")\n",
    "data = (name,)\n",
    "cursor.execute(sql1, data)"
   ]
  },
  {
   "cell_type": "code",
   "execution_count": 6,
   "metadata": {},
   "outputs": [],
   "source": [
    "#first row:\n",
    "row = cursor.fetchone()"
   ]
  },
  {
   "cell_type": "code",
   "execution_count": 7,
   "metadata": {},
   "outputs": [
    {
     "name": "stdout",
     "output_type": "stream",
     "text": [
      "(9, 'Mishi Kobe Niku', 4, Decimal('97'), '18 - 500 g pkgs.', 1, 'Tokyo Traders')\n",
      "(10, 'Ikura', 4, Decimal('31'), '12 - 200 ml jars', 0, 'Tokyo Traders')\n",
      "(74, 'Longlife Tofu', 4, Decimal('10'), '5 kg pkg.', 0, 'Tokyo Traders')\n"
     ]
    }
   ],
   "source": [
    "#loop:\n",
    "while row:\n",
    "    print(row)\n",
    "    row=cursor.fetchone()"
   ]
  },
  {
   "cell_type": "code",
   "execution_count": 1,
   "metadata": {},
   "outputs": [
    {
     "name": "stdin",
     "output_type": "stream",
     "text": [
      "Nhập giá trị đơn giá tăng thêm:  3\n",
      "Nhập tên nhà cung cấp:  Tokyo Traders\n"
     ]
    }
   ],
   "source": [
    "#2\n",
    "sql2=\"\"\"update products p inner join suppliers sp on p.supplierid=sp.id\n",
    "        set p.UnitPrice = p.UnitPrice + %s\n",
    "        where sp.CompanyName= %s\"\"\"\n",
    "unitPrice = input(\"Nhập giá trị đơn giá tăng thêm: \")\n",
    "name = input(\"Nhập tên nhà cung cấp: \")\n",
    "data = (unitPrice, name)"
   ]
  },
  {
   "cell_type": "code",
   "execution_count": 6,
   "metadata": {},
   "outputs": [],
   "source": [
    "#for data in data_list:\n",
    "cursor.execute(sql2, data)"
   ]
  },
  {
   "cell_type": "code",
   "execution_count": 9,
   "metadata": {},
   "outputs": [],
   "source": [
    "#check:\n",
    "sql3 = \"\"\"select p.* from products p inner join suppliers s on p.SupplierId=s.Id where s.CompanyName='Tokyo Traders'\"\"\"\n",
    "cursor.execute(sql3)"
   ]
  },
  {
   "cell_type": "code",
   "execution_count": 10,
   "metadata": {},
   "outputs": [],
   "source": [
    "#first row:\n",
    "row = cursor.fetchone()"
   ]
  },
  {
   "cell_type": "code",
   "execution_count": 11,
   "metadata": {},
   "outputs": [
    {
     "name": "stdout",
     "output_type": "stream",
     "text": [
      "(9, 'Mishi Kobe Niku', 4, Decimal('100'), '18 - 500 g pkgs.', 1)\n",
      "(10, 'Ikura', 4, Decimal('34'), '12 - 200 ml jars', 0)\n",
      "(74, 'Longlife Tofu', 4, Decimal('13'), '5 kg pkg.', 0)\n"
     ]
    }
   ],
   "source": [
    "#loop:\n",
    "while row:\n",
    "    print(row)\n",
    "    row=cursor.fetchone()"
   ]
  },
  {
   "cell_type": "code",
   "execution_count": 6,
   "metadata": {},
   "outputs": [
    {
     "name": "stdin",
     "output_type": "stream",
     "text": [
      "Nhập ID của sản phẩm:  9999\n",
      "Nhập tên của sản phẩm:  vang bon so chin\n",
      "Nhập ID của nhà cung cấp:  9999\n",
      "Nhập đơn giá của sản phẩm:  9999\n",
      "Nhập khối lượng của sản phẩm:  9999\n",
      "Sản phẩm đã dừng bán(0: No, 1: Yes):  0\n",
      "Bạn có muốn nhập tiếp(Y/N)?:  m\n",
      "Sai cú pháp. Bạn có muốn tiếp tục (Y/N):  m\n",
      "Sai cú pháp. Bạn có muốn tiếp tục (Y/N):  m\n",
      "Sai cú pháp. Bạn có muốn tiếp tục (Y/N):  m\n",
      "Sai cú pháp. Bạn có muốn tiếp tục (Y/N):  m\n",
      "Sai cú pháp. Bạn có muốn tiếp tục (Y/N):  n\n",
      "Sai cú pháp. Bạn có muốn tiếp tục (Y/N):  N\n"
     ]
    }
   ],
   "source": [
    "#3\n",
    "enterProduct = True\n",
    "while enterProduct == True:\n",
    "    sql4=\"\"\"update Products\n",
    "            set Id = '%s'\n",
    "            ProductName = '%s'\n",
    "            SupplierId = '%s'\n",
    "            UnitPrice = '%s'\n",
    "            Package = '%s'\n",
    "            IsDiscontinued = '%s'\"\"\"\n",
    "    Id = input(\"Nhập ID của sản phẩm: \")\n",
    "    ProductName = input(\"Nhập tên của sản phẩm: \")\n",
    "    SupplierId = input(\"Nhập ID của nhà cung cấp: \")\n",
    "    UnitPrice = input(\"Nhập đơn giá của sản phẩm: \") \n",
    "    Package = input(\"Nhập khối lượng của sản phẩm: \") \n",
    "    IsDiscontinued = input(\"Sản phẩm đã dừng bán(0: No, 1: Yes): \")\n",
    "    data = (Id,ProductName, SupplierId, UnitPrice, Package, IsDiscontinued)\n",
    "    \n",
    "    ask=input(\"Bạn có muốn nhập tiếp(Y/N)?: \")\n",
    "    while True:\n",
    "        if str(ask) == 'Y':\n",
    "            enterProduct = True\n",
    "            break\n",
    "        elif str(ask) == 'N':\n",
    "            enterProduct = False\n",
    "            break\n",
    "        else:\n",
    "            ask = input(\"Sai cú pháp. Bạn có muốn tiếp tục (Y/N): \")"
   ]
  },
  {
   "cell_type": "code",
   "execution_count": null,
   "metadata": {},
   "outputs": [],
   "source": [
    "cursor.execute(sql4, data)"
   ]
  },
  {
   "cell_type": "code",
   "execution_count": null,
   "metadata": {},
   "outputs": [],
   "source": []
  }
 ],
 "metadata": {
  "kernelspec": {
   "display_name": "Python 3",
   "language": "python",
   "name": "python3"
  },
  "language_info": {
   "codemirror_mode": {
    "name": "ipython",
    "version": 3
   },
   "file_extension": ".py",
   "mimetype": "text/x-python",
   "name": "python",
   "nbconvert_exporter": "python",
   "pygments_lexer": "ipython3",
   "version": "3.7.4"
  }
 },
 "nbformat": 4,
 "nbformat_minor": 4
}
