{
 "cells": [
  {
   "cell_type": "markdown",
   "metadata": {},
   "source": [
    "* 1.1 Kết nối đến Database Sqlite có tên Thi.db:\n"
   ]
  },
  {
   "cell_type": "code",
   "execution_count": 1,
   "metadata": {},
   "outputs": [],
   "source": [
    "import sqlite3\n",
    "conn = sqlite3.connect('Thi.db')"
   ]
  },
  {
   "cell_type": "code",
   "execution_count": 2,
   "metadata": {},
   "outputs": [],
   "source": [
    "c = conn.cursor()"
   ]
  },
  {
   "cell_type": "markdown",
   "metadata": {},
   "source": [
    "* 1.2 Thực hiện câu lệnh tạo cấu trúc bảng:"
   ]
  },
  {
   "cell_type": "code",
   "execution_count": 3,
   "metadata": {},
   "outputs": [
    {
     "data": {
      "text/plain": [
       "<sqlite3.Cursor at 0x2737cf67ea0>"
      ]
     },
     "execution_count": 3,
     "metadata": {},
     "output_type": "execute_result"
    }
   ],
   "source": [
    "#Create table\n",
    "c.execute(\"\"\"create table PHONG_BAN(\n",
    "                Mapb varchar(2) PRIMARY KEY,\n",
    "                Tenphong varchar(50))\"\"\")"
   ]
  },
  {
   "cell_type": "code",
   "execution_count": 4,
   "metadata": {},
   "outputs": [
    {
     "data": {
      "text/plain": [
       "<sqlite3.Cursor at 0x2737cf67ea0>"
      ]
     },
     "execution_count": 4,
     "metadata": {},
     "output_type": "execute_result"
    }
   ],
   "source": [
    " c.execute(\"\"\" create table NHAN_VIEN(\n",
    "                Manv varchar(3) PRIMARY KEY,\n",
    "                Tennv varchar(50),\n",
    "                Mapb varchar(20))\"\"\")"
   ]
  },
  {
   "cell_type": "code",
   "execution_count": 5,
   "metadata": {},
   "outputs": [
    {
     "data": {
      "text/plain": [
       "<sqlite3.Cursor at 0x2737cf67ea0>"
      ]
     },
     "execution_count": 5,
     "metadata": {},
     "output_type": "execute_result"
    }
   ],
   "source": [
    " c.execute(\"\"\"create table DE_NGHI(\n",
    "                Sotu varchar(7) PRIMARY KEY,\n",
    "                Ngay_tu DateTime,\n",
    "                Manv varchar(3),\n",
    "                Sotien_tu int)\"\"\")"
   ]
  },
  {
   "cell_type": "code",
   "execution_count": 6,
   "metadata": {},
   "outputs": [
    {
     "data": {
      "text/plain": [
       "<sqlite3.Cursor at 0x2737cf67ea0>"
      ]
     },
     "execution_count": 6,
     "metadata": {},
     "output_type": "execute_result"
    }
   ],
   "source": [
    " c.execute(\"\"\"create table PHIEU_CHI(\n",
    "                Sopc varchar(5),\n",
    "                Ngay_chi DateTime,\n",
    "                Sotu varchar(7),\n",
    "                Manv varchar(3),\n",
    "                Sotien_chi int);\"\"\")"
   ]
  },
  {
   "cell_type": "markdown",
   "metadata": {},
   "source": [
    "* 1.3 Thực hiện câu lệnh SQL để thêm dữ liệu vào các bảng "
   ]
  },
  {
   "cell_type": "code",
   "execution_count": 7,
   "metadata": {},
   "outputs": [
    {
     "data": {
      "text/plain": [
       "<sqlite3.Cursor at 0x2737cf67ea0>"
      ]
     },
     "execution_count": 7,
     "metadata": {},
     "output_type": "execute_result"
    }
   ],
   "source": [
    "c.execute(\"insert into PHONG_BAN values ('KT', 'Phòng kế toán'), ('NS', 'Phòng nhân sự'), ('TV', 'Phòng Tư vấn - chăm sóc khách hàng'), ('MH', 'Phòng mua hàng'),  ('KD', 'Phòng kinh doanh')\")"
   ]
  },
  {
   "cell_type": "code",
   "execution_count": 8,
   "metadata": {},
   "outputs": [
    {
     "data": {
      "text/plain": [
       "<sqlite3.Cursor at 0x2737cf67ea0>"
      ]
     },
     "execution_count": 8,
     "metadata": {},
     "output_type": "execute_result"
    }
   ],
   "source": [
    "c.execute(\"insert into NHAN_VIEN values ('A01', 'Hoàng Ngọc Anh', 'MH'),('B01', 'Trần Văn Bình', 'NS'),('C01', 'Lê Thị Châu', 'KD'),('C02', 'Nguyễn Văn Chính', 'KD'),('D01', 'Lê Văn Dũng', 'KT'),('E01', 'Nguyễn Thị Thu Thủy', 'TV')\")"
   ]
  },
  {
   "cell_type": "code",
   "execution_count": 9,
   "metadata": {},
   "outputs": [
    {
     "data": {
      "text/plain": [
       "<sqlite3.Cursor at 0x2737cf67ea0>"
      ]
     },
     "execution_count": 9,
     "metadata": {},
     "output_type": "execute_result"
    }
   ],
   "source": [
    "c.execute(\"insert into DE_NGHI values ('2005001', '2005-04-15', 'A01', 10000000 ),('2005002', '2005-04-20', 'B01', 2000000 ),('2005003', '2005-04-28', 'C01', 3500000 ),('2005004', '2005-05-10', 'C02', 5000000 ),('2005005', '2005-07-12', 'A01', 4000000),('2005006', '2005-08-14', 'C01', 3000000 )\")"
   ]
  },
  {
   "cell_type": "code",
   "execution_count": 10,
   "metadata": {},
   "outputs": [
    {
     "data": {
      "text/plain": [
       "<sqlite3.Cursor at 0x2737cf67ea0>"
      ]
     },
     "execution_count": 10,
     "metadata": {},
     "output_type": "execute_result"
    }
   ],
   "source": [
    "c.execute(\"insert into PHIEU_CHI values('PC001', '2005-04-15','2005001', 'A01', 10000000),('PC002', '2005-04-21','2005002','B01',2000000 ),('PC003','2005-04-28','2005003','C01',3500000),('PC004', '2005-05-11','2005004','C02', 2000000),('PC005', '2005-05-13','2005004','C02',1000000),('PC006','2005-07-15', '2005005', 'A01', 2000000)\")"
   ]
  },
  {
   "cell_type": "code",
   "execution_count": 11,
   "metadata": {},
   "outputs": [],
   "source": [
    "conn.commit()"
   ]
  },
  {
   "cell_type": "markdown",
   "metadata": {},
   "source": [
    "* 2.1 Liệt kê danh sách các nhân viên có tên lót là Văn"
   ]
  },
  {
   "cell_type": "code",
   "execution_count": 12,
   "metadata": {},
   "outputs": [
    {
     "name": "stdout",
     "output_type": "stream",
     "text": [
      "('B01', 'Trần Văn Bình', 'NS')\n",
      "('C02', 'Nguyễn Văn Chính', 'KD')\n",
      "('D01', 'Lê Văn Dũng', 'KT')\n"
     ]
    }
   ],
   "source": [
    "c.execute(\"\"\"select * from NHAN_VIEN where Tennv like'%Văn%' \"\"\")\n",
    "for row in c:\n",
    "    print(row)"
   ]
  },
  {
   "cell_type": "markdown",
   "metadata": {},
   "source": [
    "* 2.2 Liệt kê các nhân viên với tổng số tiền tạm ứng của mỗi nhân viên"
   ]
  },
  {
   "cell_type": "code",
   "execution_count": 13,
   "metadata": {},
   "outputs": [
    {
     "name": "stdout",
     "output_type": "stream",
     "text": [
      "('A01', 'Hoàng Ngọc Anh', 14000000)\n",
      "('B01', 'Trần Văn Bình', 2000000)\n",
      "('C01', 'Lê Thị Châu', 6500000)\n",
      "('C02', 'Nguyễn Văn Chính', 5000000)\n"
     ]
    }
   ],
   "source": [
    "c.execute(\"\"\"select n.Manv, n.Tennv , sum(d.Sotien_tu) from NHAN_VIEN n inner join DE_NGHI d on n.Manv=d.Manv group by n.Manv\"\"\")\n",
    "for row in c:\n",
    "    print(row)"
   ]
  },
  {
   "cell_type": "markdown",
   "metadata": {},
   "source": [
    "* 2. 3 Liệt kê các phiếu đề nghị tạm ứng mà chưa có phiếu chi"
   ]
  },
  {
   "cell_type": "code",
   "execution_count": 14,
   "metadata": {},
   "outputs": [
    {
     "name": "stdout",
     "output_type": "stream",
     "text": [
      "('2005006', '2005-08-14', 'C01', 3000000)\n"
     ]
    }
   ],
   "source": [
    "c.execute(\"\"\"select d.Sotu, d.Ngay_tu, d.Manv, d.Sotien_tu from DE_NGHI d where d.Sotu not in (select Sotu from PHIEU_CHI) \"\"\")\n",
    "for row in c:\n",
    "    print(row)"
   ]
  },
  {
   "cell_type": "markdown",
   "metadata": {},
   "source": [
    "* 2.4 Liệt kê các phiếu đề nghị tạm ứng có Số tiền tạm ứng lớn hơn Số tiền tạm ứng trung bình"
   ]
  },
  {
   "cell_type": "code",
   "execution_count": 15,
   "metadata": {},
   "outputs": [
    {
     "name": "stdout",
     "output_type": "stream",
     "text": [
      "('2005001', '2005-04-15', 'A01', 10000000)\n",
      "('2005004', '2005-05-10', 'C02', 5000000)\n"
     ]
    }
   ],
   "source": [
    "c.execute(\"\"\"select * from DE_NGHI where Sotien_tu > (select avg(Sotien_tu) from DE_NGHI)\"\"\")\n",
    "for row in c:\n",
    "    print(row)"
   ]
  },
  {
   "cell_type": "markdown",
   "metadata": {},
   "source": [
    "* 2.5 Liệt kê các phiếu tạm ứng chưa được chi đủ số tiền đề nghị tạm ứng"
   ]
  },
  {
   "cell_type": "code",
   "execution_count": 16,
   "metadata": {},
   "outputs": [
    {
     "name": "stdout",
     "output_type": "stream",
     "text": [
      "('2005004', '2005-05-10', 'C02', 5000000)\n",
      "('2005005', '2005-07-12', 'A01', 4000000)\n"
     ]
    }
   ],
   "source": [
    "c.execute(\"\"\"select d.* from DE_NGHI d left join (select sum(Sotien_chi) as tienCHi, Sotu from PHIEU_CHI group by Sotu) pc on d.Sotu=pc.Sotu  where tienChi < Sotien_tu\"\"\")\n",
    "for row in c:\n",
    "    print(row)"
   ]
  },
  {
   "cell_type": "markdown",
   "metadata": {},
   "source": [
    "* 2.6 Liệt kê danh sách các nhân viên có nhiều đề nghị tạm ứng nhất"
   ]
  },
  {
   "cell_type": "code",
   "execution_count": 17,
   "metadata": {},
   "outputs": [
    {
     "name": "stdout",
     "output_type": "stream",
     "text": [
      "('A01', 'Hoàng Ngọc Anh', '2005-04-15', 10000000)\n",
      "('C01', 'Lê Thị Châu', '2005-04-28', 3500000)\n"
     ]
    }
   ],
   "source": [
    "c.execute(\"\"\"\n",
    "            select d.Manv, n.Tennv, d.Ngay_tu, d.Sotien_tu from DE_NGHI d inner join NHAN_VIEN n on d.Manv=n.Manv\n",
    "            group by d.Manv\n",
    "            having count(Sotu)  = (select max(countTu) from (select distinct count(Sotu) as countTu, Manv\n",
    "            from DE_NGHI\n",
    "            group by Manv)) \n",
    "            \n",
    "              \n",
    "             \"\"\"\n",
    "         )\n",
    "for row in c:\n",
    "    print(row)"
   ]
  },
  {
   "cell_type": "markdown",
   "metadata": {},
   "source": [
    "* 3.1 Tổng số tiền tạm ứng của phong"
   ]
  },
  {
   "cell_type": "code",
   "execution_count": 18,
   "metadata": {},
   "outputs": [],
   "source": [
    "import pandas as pd\n"
   ]
  },
  {
   "cell_type": "code",
   "execution_count": 19,
   "metadata": {},
   "outputs": [
    {
     "data": {
      "text/html": [
       "<div>\n",
       "<style scoped>\n",
       "    .dataframe tbody tr th:only-of-type {\n",
       "        vertical-align: middle;\n",
       "    }\n",
       "\n",
       "    .dataframe tbody tr th {\n",
       "        vertical-align: top;\n",
       "    }\n",
       "\n",
       "    .dataframe thead th {\n",
       "        text-align: right;\n",
       "    }\n",
       "</style>\n",
       "<table border=\"1\" class=\"dataframe\">\n",
       "  <thead>\n",
       "    <tr style=\"text-align: right;\">\n",
       "      <th></th>\n",
       "      <th>Mapb</th>\n",
       "      <th>Tenphong</th>\n",
       "      <th>Tổng tiền tạm ứng</th>\n",
       "    </tr>\n",
       "  </thead>\n",
       "  <tbody>\n",
       "    <tr>\n",
       "      <th>0</th>\n",
       "      <td>KD</td>\n",
       "      <td>Phòng kinh doanh</td>\n",
       "      <td>11500000</td>\n",
       "    </tr>\n",
       "    <tr>\n",
       "      <th>1</th>\n",
       "      <td>MH</td>\n",
       "      <td>Phòng mua hàng</td>\n",
       "      <td>14000000</td>\n",
       "    </tr>\n",
       "    <tr>\n",
       "      <th>2</th>\n",
       "      <td>NS</td>\n",
       "      <td>Phòng nhân sự</td>\n",
       "      <td>2000000</td>\n",
       "    </tr>\n",
       "  </tbody>\n",
       "</table>\n",
       "</div>"
      ],
      "text/plain": [
       "  Mapb          Tenphong  Tổng tiền tạm ứng\n",
       "0   KD  Phòng kinh doanh           11500000\n",
       "1   MH    Phòng mua hàng           14000000\n",
       "2   NS     Phòng nhân sự            2000000"
      ]
     },
     "execution_count": 19,
     "metadata": {},
     "output_type": "execute_result"
    }
   ],
   "source": [
    "df = pd.read_sql('select pb.Mapb, pb.Tenphong, sum(d.Sotien_tu) as \"Tổng tiền tạm ứng\" from DE_NGHI d inner join NHAN_VIEN n on d.Manv=n.Manv inner join PHONG_BAN pb on pb.Mapb=n.Mapb group by pb.Mapb ', conn)\n",
    "df"
   ]
  },
  {
   "cell_type": "code",
   "execution_count": 20,
   "metadata": {},
   "outputs": [
    {
     "data": {
      "image/png": "[encoded data removed]",
      "text/plain": [
       "<Figure size 432x288 with 1 Axes>"
      ]
     },
     "metadata": {
      "needs_background": "light"
     },
     "output_type": "display_data"
    }
   ],
   "source": [
    "import matplotlib.pyplot as plt\n",
    "%matplotlib inline\n",
    "fig, ax = plt.subplots()\n",
    "ax.set_ylabel('Tiên')\n",
    "ax.set_title('Số tiền đề nghị tạm ứng của các phòng')\n",
    "plt.bar(df['Tenphong'], df['Tổng tiền tạm ứng'])\n",
    "plt.show()"
   ]
  },
  {
   "cell_type": "code",
   "execution_count": 22,
   "metadata": {},
   "outputs": [
    {
     "data": {
      "image/png": "[encoded data removed]",
      "text/plain": [
       "<Figure size 432x288 with 1 Axes>"
      ]
     },
     "metadata": {},
     "output_type": "display_data"
    }
   ],
   "source": [
    "fig1, ax1 = plt.subplots()\n",
    "ax1.pie(df['Tổng tiền tạm ứng'],  labels=df['Tenphong'], autopct='%1.1f%%',\n",
    "        shadow=True, startangle=90)\n",
    "ax1.axis('equal')  # Equal aspect ratio ensures that pie is drawn as a circle.\n",
    "plt.legend( df['Tenphong'], loc=\"best\")\n",
    "plt.show()"
   ]
  },
  {
   "cell_type": "code",
   "execution_count": null,
   "metadata": {},
   "outputs": [],
   "source": []
  }
 ],
 "metadata": {
  "kernelspec": {
   "display_name": "Python 3",
   "language": "python",
   "name": "python3"
  },
  "language_info": {
   "codemirror_mode": {
    "name": "ipython",
    "version": 3
   },
   "file_extension": ".py",
   "mimetype": "text/x-python",
   "name": "python",
   "nbconvert_exporter": "python",
   "pygments_lexer": "ipython3",
   "version": "3.7.4"
  }
 },
 "nbformat": 4,
 "nbformat_minor": 4
}
