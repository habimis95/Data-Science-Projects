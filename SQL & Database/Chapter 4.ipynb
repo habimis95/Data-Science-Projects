{
 "cells": [
  {
   "cell_type": "code",
   "execution_count": 6,
   "metadata": {},
   "outputs": [],
   "source": [
    "from mysql.connector import connect, Error"
   ]
  },
  {
   "cell_type": "code",
   "execution_count": 7,
   "metadata": {},
   "outputs": [],
   "source": [
    "db= connect(host='localhost',database='salesdb2',user='root',password='',port='3308')\n",
    "cursor=db.cursor()"
   ]
  },
  {
   "cell_type": "code",
   "execution_count": 8,
   "metadata": {},
   "outputs": [],
   "source": [
    "Cus=\"\"\"create table customers  (id int primary key,\n",
    "                                Lastname varchar(40) not null, \n",
    "                                Fisrtname varchar(40) not null,\n",
    "                                city varchar(40), \n",
    "                                country varchar(40),\n",
    "                                phone varchar(20))\"\"\"\n",
    "Sup=\"\"\"create table Suppliers  (id int primary key,\n",
    "                                companyname varchar(40) not null, \n",
    "                                contactname varchar(50) not null,\n",
    "                                contacttitle varchar(40), \n",
    "                                city varchar(40),\n",
    "                                country varchar(40),\n",
    "                                phone varchar(30),\n",
    "                                fax varchar(30))\"\"\"\n",
    "Pro=\"\"\"create table products  (id int primary key,\n",
    "                                productname varchar(50) not null, \n",
    "                                supplierid int not null,\n",
    "                                unitprice decimal, \n",
    "                                package varchar(30),\n",
    "                                isdiscontinued bit)\"\"\"\n",
    "Ord=\"\"\"create table orders  (id int primary key,\n",
    "                                Orderdate datetime not null, \n",
    "                                Ordernumber varchar(10) not null,\n",
    "                                customerId int not null, \n",
    "                                totalamount decimal)\"\"\"\n",
    "Ode=\"\"\"create table orderitems  (id int primary key,\n",
    "                                Orderid int not null, \n",
    "                                productid int not null,\n",
    "                                unitprice decimal, \n",
    "                                quantity int)\"\"\"\n",
    "\n",
    "\n",
    "\n"
   ]
  },
  {
   "cell_type": "code",
   "execution_count": 11,
   "metadata": {},
   "outputs": [],
   "source": [
    "queries=[Cus,Sup,Pro,Ord,Ode]\n",
    "try:\n",
    "    result = cursor.execute(';'.join(queries),multi=True)\n",
    "    result.send(None)\n",
    "except Exception as er:\n",
    "    print('Lỗi: ', er)"
   ]
  },
  {
   "cell_type": "code",
   "execution_count": null,
   "metadata": {},
   "outputs": [],
   "source": [
    "cursor.execute(Cus)"
   ]
  },
  {
   "cell_type": "code",
   "execution_count": null,
   "metadata": {},
   "outputs": [],
   "source": [
    "cursor.execute(Ode)"
   ]
  },
  {
   "cell_type": "code",
   "execution_count": 10,
   "metadata": {},
   "outputs": [],
   "source": [
    "db.commit()"
   ]
  },
  {
   "cell_type": "code",
   "execution_count": null,
   "metadata": {},
   "outputs": [],
   "source": []
  }
 ],
 "metadata": {
  "kernelspec": {
   "display_name": "Python 3",
   "language": "python",
   "name": "python3"
  },
  "language_info": {
   "codemirror_mode": {
    "name": "ipython",
    "version": 3
   },
   "file_extension": ".py",
   "mimetype": "text/x-python",
   "name": "python",
   "nbconvert_exporter": "python",
   "pygments_lexer": "ipython3",
   "version": "3.6.8"
  }
 },
 "nbformat": 4,
 "nbformat_minor": 2
}
