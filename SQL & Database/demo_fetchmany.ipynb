{
 "cells": [
  {
   "cell_type": "code",
   "execution_count": 1,
   "metadata": {},
   "outputs": [],
   "source": [
    "from mysql.connector import connect"
   ]
  },
  {
   "cell_type": "code",
   "execution_count": 12,
   "metadata": {},
   "outputs": [],
   "source": [
    "# Tạo kết nối\n",
    "connection = connect(host='localhost', database='salesdb', user='root', password='', port='3308')\n",
    "#tạo cursor\n",
    "cursor = connection.cursor()"
   ]
  },
  {
   "cell_type": "code",
   "execution_count": 13,
   "metadata": {},
   "outputs": [],
   "source": [
    "#tạo câu lệnh truy vấn\n",
    "sql = \"Select * from Customers where city = 'London' limit 5\""
   ]
  },
  {
   "cell_type": "code",
   "execution_count": 14,
   "metadata": {},
   "outputs": [],
   "source": [
    "result = cursor.execute(sql)"
   ]
  },
  {
   "cell_type": "code",
   "execution_count": 15,
   "metadata": {},
   "outputs": [
    {
     "name": "stdout",
     "output_type": "stream",
     "text": [
      "[(4, 'Thomas', 'Hardy', 'London', 'UK', '(171) 555-7788'), (11, 'Victoria', 'Ashworth', 'London', 'UK', '(171) 555-1212'), (16, 'Elizabeth', 'Brown', 'London', 'UK', '(171) 555-2282')]\n"
     ]
    }
   ],
   "source": [
    "print(cursor.fetchmany(3))"
   ]
  },
  {
   "cell_type": "code",
   "execution_count": 16,
   "metadata": {},
   "outputs": [
    {
     "name": "stdout",
     "output_type": "stream",
     "text": [
      "[(19, 'Ann', 'Devon', 'London', 'UK', '(171) 555-0297'), (53, 'Simon', 'Crowther', 'London', 'UK', '(171) 555-7733')]\n"
     ]
    }
   ],
   "source": [
    "print(cursor.fetchmany(4))"
   ]
  },
  {
   "cell_type": "code",
   "execution_count": 17,
   "metadata": {},
   "outputs": [
    {
     "name": "stdout",
     "output_type": "stream",
     "text": [
      "[]\n"
     ]
    }
   ],
   "source": [
    "print(cursor.fetchmany(2))"
   ]
  },
  {
   "cell_type": "code",
   "execution_count": 18,
   "metadata": {},
   "outputs": [
    {
     "name": "stdout",
     "output_type": "stream",
     "text": [
      "('Id', 'FirstName', 'LastName', 'City', 'Country', 'Phone')\n"
     ]
    }
   ],
   "source": [
    "print(cursor.column_names)"
   ]
  },
  {
   "cell_type": "code",
   "execution_count": 19,
   "metadata": {},
   "outputs": [
    {
     "name": "stdout",
     "output_type": "stream",
     "text": [
      "True\n"
     ]
    }
   ],
   "source": [
    "print(cursor.with_rows)"
   ]
  },
  {
   "cell_type": "code",
   "execution_count": 20,
   "metadata": {},
   "outputs": [
    {
     "name": "stdout",
     "output_type": "stream",
     "text": [
      "[('Id', 3, None, None, None, None, 0, 20483), ('FirstName', 253, None, None, None, None, 0, 4097), ('LastName', 253, None, None, None, None, 0, 4097), ('City', 253, None, None, None, None, 1, 0), ('Country', 253, None, None, None, None, 1, 0), ('Phone', 253, None, None, None, None, 1, 0)]\n"
     ]
    }
   ],
   "source": [
    "print(cursor.description)"
   ]
  },
  {
   "cell_type": "code",
   "execution_count": 21,
   "metadata": {},
   "outputs": [
    {
     "name": "stdout",
     "output_type": "stream",
     "text": [
      "Select * from Customers where city = 'London' limit 5\n"
     ]
    }
   ],
   "source": [
    "print(cursor.statement)"
   ]
  },
  {
   "cell_type": "code",
   "execution_count": 22,
   "metadata": {},
   "outputs": [
    {
     "name": "stdout",
     "output_type": "stream",
     "text": [
      "5\n"
     ]
    }
   ],
   "source": [
    "print(cursor.rowcount)"
   ]
  },
  {
   "cell_type": "code",
   "execution_count": null,
   "metadata": {},
   "outputs": [],
   "source": []
  }
 ],
 "metadata": {
  "kernelspec": {
   "display_name": "Python 3",
   "language": "python",
   "name": "python3"
  },
  "language_info": {
   "codemirror_mode": {
    "name": "ipython",
    "version": 3
   },
   "file_extension": ".py",
   "mimetype": "text/x-python",
   "name": "python",
   "nbconvert_exporter": "python",
   "pygments_lexer": "ipython3",
   "version": "3.6.8"
  }
 },
 "nbformat": 4,
 "nbformat_minor": 2
}
