{
 "cells": [
  {
   "cell_type": "code",
   "execution_count": 1,
   "metadata": {},
   "outputs": [],
   "source": [
    "from mysql.connector import connect"
   ]
  },
  {
   "cell_type": "code",
   "execution_count": 46,
   "metadata": {},
   "outputs": [],
   "source": [
    "# Tạo kết nối\n",
    "connection = connect(host='localhost', database='salesdb', user='root', password='', port='3308')"
   ]
  },
  {
   "cell_type": "code",
   "execution_count": 47,
   "metadata": {},
   "outputs": [],
   "source": [
    "#tạo cursor\n",
    "cursor = connection.cursor()"
   ]
  },
  {
   "cell_type": "code",
   "execution_count": 30,
   "metadata": {},
   "outputs": [],
   "source": [
    "sql_tables = [\n",
    "    \"\"\"\n",
    "    create table Customers (\n",
    "       Id                   int not null,\n",
    "       FirstName            varchar(40)         not null,\n",
    "       LastName             varchar(40)         not null,\n",
    "       City                 varchar(40)         null,\n",
    "       Country              varchar(40)         null,\n",
    "       Phone                varchar(20)         null,\n",
    "       constraint PK_CUSTOMERS primary key (Id)\n",
    "    );\"\"\",\n",
    "    \"\"\"\n",
    "    create table Orders (\n",
    "       Id                   int,\n",
    "       OrderDate            datetime not null,\n",
    "       OrderNumber          varchar(10)         null,\n",
    "       CustomerId           int                  not null,\n",
    "       TotalAmount          decimal(12,2)        null,\n",
    "       constraint PK_ORDERS primary key (Id)\n",
    "    );\"\"\",\n",
    "    \"\"\"\n",
    "    create table OrderItems (\n",
    "       Id                   int,\n",
    "       OrderId              int not null,\n",
    "       ProductId            int not null,\n",
    "       UnitPrice            decimal(12,2) not null,\n",
    "       Quantity             int not null,\n",
    "       constraint PK_ORDERITEMS primary key (Id)\n",
    "    );\"\"\",\n",
    "    \"\"\"\n",
    "    create table Products (\n",
    "       Id                   int,\n",
    "       ProductName          varchar(50)         not null,\n",
    "       SupplierId           int                  not null,\n",
    "       UnitPrice            decimal(12,2)        null,\n",
    "       Package              varchar(30)         null,\n",
    "       IsDiscontinued       bit                  not null,\n",
    "       constraint PK_PRODUCTS primary key (Id)\n",
    "    );\"\"\",\n",
    "    \"\"\"\n",
    "    create table Suppliers (\n",
    "       Id                   int,\n",
    "       CompanyName          varchar(40)         not null,\n",
    "       ContactName          varchar(50)         null,\n",
    "       ContactTitle         varchar(40)         null,\n",
    "       City                 varchar(40)         null,\n",
    "       Country              varchar(40)         null,\n",
    "       Phone                varchar(30)         null,\n",
    "       Fax                  varchar(30)         null,\n",
    "       constraint PK_SUPPLIERS primary key (Id)\n",
    "    );\n",
    "    \"\"\"\n",
    "]"
   ]
  },
  {
   "cell_type": "code",
   "execution_count": 31,
   "metadata": {},
   "outputs": [],
   "source": [
    "for sql in sql_tables:\n",
    "    cursor.execute(sql)"
   ]
  },
  {
   "cell_type": "code",
   "execution_count": null,
   "metadata": {},
   "outputs": [],
   "source": []
  }
 ],
 "metadata": {
  "kernelspec": {
   "display_name": "Python 3",
   "language": "python",
   "name": "python3"
  },
  "language_info": {
   "codemirror_mode": {
    "name": "ipython",
    "version": 3
   },
   "file_extension": ".py",
   "mimetype": "text/x-python",
   "name": "python",
   "nbconvert_exporter": "python",
   "pygments_lexer": "ipython3",
   "version": "3.6.8"
  }
 },
 "nbformat": 4,
 "nbformat_minor": 2
}
