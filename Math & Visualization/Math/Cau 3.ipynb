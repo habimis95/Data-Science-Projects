{
 "cells": [
  {
   "cell_type": "code",
   "execution_count": 26,
   "metadata": {},
   "outputs": [],
   "source": [
    "import pandas as pd\n",
    "import numpy as np\n",
    "import matplotlib.pyplot as plt\n",
    "import seaborn as sb\n",
    "from scipy.stats import ttest_ind, ttest_rel,t\n",
    "import math"
   ]
  },
  {
   "cell_type": "markdown",
   "metadata": {},
   "source": [
    "3.1) Đọc và xem thông tin của dữ liệu"
   ]
  },
  {
   "cell_type": "code",
   "execution_count": 2,
   "metadata": {},
   "outputs": [
    {
     "data": {
      "text/plain": [
       "'134\\t130\\t140\\t151\\n143\\t134\\t136\\t144\\n150\\t135\\t160\\t141\\n143\\t140\\t138\\t141\\n148\\t146\\t140\\t146\\n151\\t138\\t151\\t139\\n151\\t128\\t146\\t147\\n152\\t142\\t144\\t134\\n142\\t146\\t142\\t136\\n122\\t134\\t145\\t147'"
      ]
     },
     "execution_count": 2,
     "metadata": {},
     "output_type": "execute_result"
    }
   ],
   "source": [
    "f1=open(\"Data\\Mau_1.txt\",'r')\n",
    "content1 =f1.read()\n",
    "f1.close()\n",
    "content1"
   ]
  },
  {
   "cell_type": "code",
   "execution_count": 3,
   "metadata": {},
   "outputs": [
    {
     "data": {
      "text/plain": [
       "'130\\t145\\t126\\t146\\n164\\t130\\t132\\t152\\n145\\t129\\t133\\t155\\n140\\t127\\t139\\t137\\n131\\t126\\t145\\t148\\n125\\t132\\t126\\t126\\n126\\t135\\t131\\t129\\n147\\t136\\t129\\t136\\n156\\t146\\t130\\t146\\n132\\t142\\t132\\t132\\n'"
      ]
     },
     "execution_count": 3,
     "metadata": {},
     "output_type": "execute_result"
    }
   ],
   "source": [
    "f2=open(\"Data\\Mau_2.txt\",'r')\n",
    "content2 =f2.read()\n",
    "f1.close()\n",
    "content2"
   ]
  },
  {
   "cell_type": "code",
   "execution_count": 4,
   "metadata": {},
   "outputs": [
    {
     "name": "stdout",
     "output_type": "stream",
     "text": [
      "[134, 130, 140, 151, 143, 134, 136, 144, 150, 135, 160, 141, 143, 140, 138, 141, 148, 146, 140, 146, 151, 138, 151, 139, 151, 128, 146, 147, 152, 142, 144, 134, 142, 146, 142, 136, 122, 134, 145, 147]\n"
     ]
    }
   ],
   "source": [
    "df1=content1.split()\n",
    "df1=list(map(int,df1))\n",
    "df1_array=np.array(df1)\n",
    "print(df1)"
   ]
  },
  {
   "cell_type": "code",
   "execution_count": 5,
   "metadata": {},
   "outputs": [
    {
     "name": "stdout",
     "output_type": "stream",
     "text": [
      "[130, 145, 126, 146, 164, 130, 132, 152, 145, 129, 133, 155, 140, 127, 139, 137, 131, 126, 145, 148, 125, 132, 126, 126, 126, 135, 131, 129, 147, 136, 129, 136, 156, 146, 130, 146, 132, 142, 132, 132]\n"
     ]
    }
   ],
   "source": [
    "df2=content2.split()\n",
    "df2=list(map(int,df2))\n",
    "df2_array=np.array(df2)\n",
    "print(df2)"
   ]
  },
  {
   "cell_type": "markdown",
   "metadata": {},
   "source": [
    "3.2.b) Dùng các hàm thống kê có sẵn"
   ]
  },
  {
   "cell_type": "code",
   "execution_count": 9,
   "metadata": {},
   "outputs": [
    {
     "name": "stdout",
     "output_type": "stream",
     "text": [
      "Statistics=2.61, p=0.01\n"
     ]
    }
   ],
   "source": [
    "t_stat,p = ttest_rel(df1,df2)\n",
    "print(\"Statistics=%.2f, p=%.2f\"%(t_stat,p))"
   ]
  },
  {
   "cell_type": "code",
   "execution_count": 7,
   "metadata": {},
   "outputs": [
    {
     "name": "stdout",
     "output_type": "stream",
     "text": [
      "Reject null hypothesis that the means are equal\n"
     ]
    }
   ],
   "source": [
    "alpha=0.05\n",
    "if p > alpha:\n",
    "    print('Accept null hypothesis that the means are equal')\n",
    "else:\n",
    "    print('Reject null hypothesis that the means are equal')"
   ]
  },
  {
   "cell_type": "markdown",
   "metadata": {},
   "source": [
    "3.2.a) Tính toán truyền thống"
   ]
  },
  {
   "cell_type": "code",
   "execution_count": 27,
   "metadata": {},
   "outputs": [],
   "source": [
    "def dependent_ttest(data1,data2,alpha):\n",
    "    # calculate means\n",
    "    mean1, mean2 = np.mean(data1), np.mean(data2)\n",
    "    # number of paired samples\n",
    "    n = len(data1)\n",
    "    # sum squared difference between observations\n",
    "    d1 = sum([(data1[i]-data2[i])**2 for i in range(n)])\n",
    "    # sum difference between observations\n",
    "    d2 = sum([(data1[i]-data2[i]) for i in range(n)])\n",
    "    # standard deviation of the diference between the means\n",
    "    sd = np.sqrt((d1 - (d2**2/n))/(n-1))\n",
    "    # standard error on the difference between the means\n",
    "    sed = sd/np.sqrt(n)\n",
    "    # calculate the t statistic\n",
    "    t_stat = (mean1 - mean2)/sed\n",
    "    # degrees of freedom\n",
    "    df = n-1\n",
    "    # calculate the critical value\n",
    "    cv = t.ppf(1.0-alpha, df)\n",
    "    # calculate the p-value\n",
    "    p = (1.0 - t.cdf(abs(t_stat),df)) * 2.0\n",
    "    # return everything\n",
    "    return t_stat, df, cv, p"
   ]
  },
  {
   "cell_type": "code",
   "execution_count": 29,
   "metadata": {},
   "outputs": [
    {
     "name": "stdout",
     "output_type": "stream",
     "text": [
      "t=2.613,df=39, cv=1.685, p=0.013\n",
      "Reject null hypothesis that the means are equal\n",
      "Reject null hypothesis that the means are equal\n"
     ]
    }
   ],
   "source": [
    "alpha =0.05\n",
    "t_stat , df, cv,p = dependent_ttest(df1,df2,alpha)\n",
    "print('t=%.3f,df=%d, cv=%.3f, p=%.3f'%(t_stat,df,cv,p))\n",
    "# interpret via critical value\n",
    "if abs(t_stat)<=cv:\n",
    "    print('Accept null hypothesis that the means are equal')\n",
    "else:\n",
    "    print('Reject null hypothesis that the means are equal')\n",
    "# interpret via p-value\n",
    "if p > alpha:\n",
    "    print('Accept null hypothesis that the means are equal')\n",
    "else:\n",
    "    print('Reject null hypothesis that the means are equal')"
   ]
  },
  {
   "cell_type": "code",
   "execution_count": null,
   "metadata": {},
   "outputs": [],
   "source": []
  }
 ],
 "metadata": {
  "kernelspec": {
   "display_name": "Python 3",
   "language": "python",
   "name": "python3"
  },
  "language_info": {
   "codemirror_mode": {
    "name": "ipython",
    "version": 3
   },
   "file_extension": ".py",
   "mimetype": "text/x-python",
   "name": "python",
   "nbconvert_exporter": "python",
   "pygments_lexer": "ipython3",
   "version": "3.7.4"
  }
 },
 "nbformat": 4,
 "nbformat_minor": 2
}
