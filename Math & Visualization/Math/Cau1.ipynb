{
 "cells": [
  {
   "cell_type": "code",
   "execution_count": 1,
   "metadata": {},
   "outputs": [],
   "source": [
    "import pandas as pd\n",
    "import numpy as np\n",
    "import matplotlib.pyplot as plt\n",
    "import seaborn as sb\n",
    "from sklearn.decomposition import PCA"
   ]
  },
  {
   "cell_type": "code",
   "execution_count": 2,
   "metadata": {},
   "outputs": [],
   "source": [
    "data = pd.read_csv('Data\\Phan_lop.csv', index_col = None)"
   ]
  },
  {
   "cell_type": "code",
   "execution_count": 3,
   "metadata": {},
   "outputs": [
    {
     "data": {
      "text/html": [
       "<div>\n",
       "<style scoped>\n",
       "    .dataframe tbody tr th:only-of-type {\n",
       "        vertical-align: middle;\n",
       "    }\n",
       "\n",
       "    .dataframe tbody tr th {\n",
       "        vertical-align: top;\n",
       "    }\n",
       "\n",
       "    .dataframe thead th {\n",
       "        text-align: right;\n",
       "    }\n",
       "</style>\n",
       "<table border=\"1\" class=\"dataframe\">\n",
       "  <thead>\n",
       "    <tr style=\"text-align: right;\">\n",
       "      <th></th>\n",
       "      <th>f1</th>\n",
       "      <th>f2</th>\n",
       "      <th>f3</th>\n",
       "      <th>f4</th>\n",
       "      <th>f5</th>\n",
       "      <th>f6</th>\n",
       "      <th>f7</th>\n",
       "      <th>f8</th>\n",
       "      <th>f9</th>\n",
       "      <th>f10</th>\n",
       "      <th>f11</th>\n",
       "      <th>f12</th>\n",
       "      <th>Class</th>\n",
       "    </tr>\n",
       "  </thead>\n",
       "  <tbody>\n",
       "    <tr>\n",
       "      <th>0</th>\n",
       "      <td>-2.403589</td>\n",
       "      <td>-0.218339</td>\n",
       "      <td>-3.015506</td>\n",
       "      <td>2.187585</td>\n",
       "      <td>-1.415101</td>\n",
       "      <td>-0.000049</td>\n",
       "      <td>2.920957</td>\n",
       "      <td>-4.165317</td>\n",
       "      <td>-2.237563</td>\n",
       "      <td>1.567810</td>\n",
       "      <td>4.056278</td>\n",
       "      <td>-5.816942</td>\n",
       "      <td>3</td>\n",
       "    </tr>\n",
       "    <tr>\n",
       "      <th>1</th>\n",
       "      <td>-0.922966</td>\n",
       "      <td>6.564721</td>\n",
       "      <td>8.542600</td>\n",
       "      <td>-3.676891</td>\n",
       "      <td>1.526910</td>\n",
       "      <td>-6.132242</td>\n",
       "      <td>-1.284702</td>\n",
       "      <td>-7.841047</td>\n",
       "      <td>10.161966</td>\n",
       "      <td>-1.933277</td>\n",
       "      <td>8.959247</td>\n",
       "      <td>-2.492584</td>\n",
       "      <td>4</td>\n",
       "    </tr>\n",
       "    <tr>\n",
       "      <th>2</th>\n",
       "      <td>9.381326</td>\n",
       "      <td>-0.157043</td>\n",
       "      <td>9.674137</td>\n",
       "      <td>4.059390</td>\n",
       "      <td>9.150245</td>\n",
       "      <td>-8.320246</td>\n",
       "      <td>10.076978</td>\n",
       "      <td>-11.596349</td>\n",
       "      <td>-2.900057</td>\n",
       "      <td>-1.890156</td>\n",
       "      <td>0.390029</td>\n",
       "      <td>-5.383296</td>\n",
       "      <td>0</td>\n",
       "    </tr>\n",
       "    <tr>\n",
       "      <th>3</th>\n",
       "      <td>-7.610665</td>\n",
       "      <td>-10.375051</td>\n",
       "      <td>0.398027</td>\n",
       "      <td>-6.178855</td>\n",
       "      <td>5.848558</td>\n",
       "      <td>2.276540</td>\n",
       "      <td>-1.726164</td>\n",
       "      <td>9.378226</td>\n",
       "      <td>1.146725</td>\n",
       "      <td>-9.630693</td>\n",
       "      <td>-8.620247</td>\n",
       "      <td>-0.552103</td>\n",
       "      <td>2</td>\n",
       "    </tr>\n",
       "    <tr>\n",
       "      <th>4</th>\n",
       "      <td>8.586239</td>\n",
       "      <td>-4.265564</td>\n",
       "      <td>4.788978</td>\n",
       "      <td>4.309953</td>\n",
       "      <td>2.938052</td>\n",
       "      <td>-4.294121</td>\n",
       "      <td>6.980088</td>\n",
       "      <td>-9.878268</td>\n",
       "      <td>-5.017204</td>\n",
       "      <td>0.154492</td>\n",
       "      <td>7.647917</td>\n",
       "      <td>-1.004416</td>\n",
       "      <td>0</td>\n",
       "    </tr>\n",
       "  </tbody>\n",
       "</table>\n",
       "</div>"
      ],
      "text/plain": [
       "         f1         f2        f3        f4        f5        f6         f7  \\\n",
       "0 -2.403589  -0.218339 -3.015506  2.187585 -1.415101 -0.000049   2.920957   \n",
       "1 -0.922966   6.564721  8.542600 -3.676891  1.526910 -6.132242  -1.284702   \n",
       "2  9.381326  -0.157043  9.674137  4.059390  9.150245 -8.320246  10.076978   \n",
       "3 -7.610665 -10.375051  0.398027 -6.178855  5.848558  2.276540  -1.726164   \n",
       "4  8.586239  -4.265564  4.788978  4.309953  2.938052 -4.294121   6.980088   \n",
       "\n",
       "          f8         f9       f10       f11       f12  Class  \n",
       "0  -4.165317  -2.237563  1.567810  4.056278 -5.816942      3  \n",
       "1  -7.841047  10.161966 -1.933277  8.959247 -2.492584      4  \n",
       "2 -11.596349  -2.900057 -1.890156  0.390029 -5.383296      0  \n",
       "3   9.378226   1.146725 -9.630693 -8.620247 -0.552103      2  \n",
       "4  -9.878268  -5.017204  0.154492  7.647917 -1.004416      0  "
      ]
     },
     "execution_count": 3,
     "metadata": {},
     "output_type": "execute_result"
    }
   ],
   "source": [
    "data.head()"
   ]
  },
  {
   "cell_type": "code",
   "execution_count": 4,
   "metadata": {},
   "outputs": [
    {
     "name": "stdout",
     "output_type": "stream",
     "text": [
      "<class 'pandas.core.frame.DataFrame'>\n",
      "RangeIndex: 1000 entries, 0 to 999\n",
      "Data columns (total 13 columns):\n",
      "f1       1000 non-null float64\n",
      "f2       1000 non-null float64\n",
      "f3       1000 non-null float64\n",
      "f4       1000 non-null float64\n",
      "f5       1000 non-null float64\n",
      "f6       1000 non-null float64\n",
      "f7       1000 non-null float64\n",
      "f8       1000 non-null float64\n",
      "f9       1000 non-null float64\n",
      "f10      1000 non-null float64\n",
      "f11      1000 non-null float64\n",
      "f12      1000 non-null float64\n",
      "Class    1000 non-null int64\n",
      "dtypes: float64(12), int64(1)\n",
      "memory usage: 101.6 KB\n"
     ]
    }
   ],
   "source": [
    "data.info()"
   ]
  },
  {
   "cell_type": "code",
   "execution_count": 5,
   "metadata": {},
   "outputs": [
    {
     "data": {
      "text/plain": [
       "(1000, 13)"
      ]
     },
     "execution_count": 5,
     "metadata": {},
     "output_type": "execute_result"
    }
   ],
   "source": [
    "data.shape"
   ]
  },
  {
   "cell_type": "code",
   "execution_count": 6,
   "metadata": {},
   "outputs": [
    {
     "data": {
      "text/html": [
       "<div>\n",
       "<style scoped>\n",
       "    .dataframe tbody tr th:only-of-type {\n",
       "        vertical-align: middle;\n",
       "    }\n",
       "\n",
       "    .dataframe tbody tr th {\n",
       "        vertical-align: top;\n",
       "    }\n",
       "\n",
       "    .dataframe thead th {\n",
       "        text-align: right;\n",
       "    }\n",
       "</style>\n",
       "<table border=\"1\" class=\"dataframe\">\n",
       "  <thead>\n",
       "    <tr style=\"text-align: right;\">\n",
       "      <th></th>\n",
       "      <th>f1</th>\n",
       "      <th>f2</th>\n",
       "      <th>f3</th>\n",
       "      <th>f4</th>\n",
       "      <th>f5</th>\n",
       "      <th>f6</th>\n",
       "      <th>f7</th>\n",
       "      <th>f8</th>\n",
       "      <th>f9</th>\n",
       "      <th>f10</th>\n",
       "      <th>f11</th>\n",
       "      <th>f12</th>\n",
       "    </tr>\n",
       "  </thead>\n",
       "  <tbody>\n",
       "    <tr>\n",
       "      <th>0</th>\n",
       "      <td>-2.403589</td>\n",
       "      <td>-0.218339</td>\n",
       "      <td>-3.015506</td>\n",
       "      <td>2.187585</td>\n",
       "      <td>-1.415101</td>\n",
       "      <td>-0.000049</td>\n",
       "      <td>2.920957</td>\n",
       "      <td>-4.165317</td>\n",
       "      <td>-2.237563</td>\n",
       "      <td>1.567810</td>\n",
       "      <td>4.056278</td>\n",
       "      <td>-5.816942</td>\n",
       "    </tr>\n",
       "    <tr>\n",
       "      <th>1</th>\n",
       "      <td>-0.922966</td>\n",
       "      <td>6.564721</td>\n",
       "      <td>8.542600</td>\n",
       "      <td>-3.676891</td>\n",
       "      <td>1.526910</td>\n",
       "      <td>-6.132242</td>\n",
       "      <td>-1.284702</td>\n",
       "      <td>-7.841047</td>\n",
       "      <td>10.161966</td>\n",
       "      <td>-1.933277</td>\n",
       "      <td>8.959247</td>\n",
       "      <td>-2.492584</td>\n",
       "    </tr>\n",
       "    <tr>\n",
       "      <th>2</th>\n",
       "      <td>9.381326</td>\n",
       "      <td>-0.157043</td>\n",
       "      <td>9.674137</td>\n",
       "      <td>4.059390</td>\n",
       "      <td>9.150245</td>\n",
       "      <td>-8.320246</td>\n",
       "      <td>10.076978</td>\n",
       "      <td>-11.596349</td>\n",
       "      <td>-2.900057</td>\n",
       "      <td>-1.890156</td>\n",
       "      <td>0.390029</td>\n",
       "      <td>-5.383296</td>\n",
       "    </tr>\n",
       "    <tr>\n",
       "      <th>3</th>\n",
       "      <td>-7.610665</td>\n",
       "      <td>-10.375051</td>\n",
       "      <td>0.398027</td>\n",
       "      <td>-6.178855</td>\n",
       "      <td>5.848558</td>\n",
       "      <td>2.276540</td>\n",
       "      <td>-1.726164</td>\n",
       "      <td>9.378226</td>\n",
       "      <td>1.146725</td>\n",
       "      <td>-9.630693</td>\n",
       "      <td>-8.620247</td>\n",
       "      <td>-0.552103</td>\n",
       "    </tr>\n",
       "    <tr>\n",
       "      <th>4</th>\n",
       "      <td>8.586239</td>\n",
       "      <td>-4.265564</td>\n",
       "      <td>4.788978</td>\n",
       "      <td>4.309953</td>\n",
       "      <td>2.938052</td>\n",
       "      <td>-4.294121</td>\n",
       "      <td>6.980088</td>\n",
       "      <td>-9.878268</td>\n",
       "      <td>-5.017204</td>\n",
       "      <td>0.154492</td>\n",
       "      <td>7.647917</td>\n",
       "      <td>-1.004416</td>\n",
       "    </tr>\n",
       "  </tbody>\n",
       "</table>\n",
       "</div>"
      ],
      "text/plain": [
       "         f1         f2        f3        f4        f5        f6         f7  \\\n",
       "0 -2.403589  -0.218339 -3.015506  2.187585 -1.415101 -0.000049   2.920957   \n",
       "1 -0.922966   6.564721  8.542600 -3.676891  1.526910 -6.132242  -1.284702   \n",
       "2  9.381326  -0.157043  9.674137  4.059390  9.150245 -8.320246  10.076978   \n",
       "3 -7.610665 -10.375051  0.398027 -6.178855  5.848558  2.276540  -1.726164   \n",
       "4  8.586239  -4.265564  4.788978  4.309953  2.938052 -4.294121   6.980088   \n",
       "\n",
       "          f8         f9       f10       f11       f12  \n",
       "0  -4.165317  -2.237563  1.567810  4.056278 -5.816942  \n",
       "1  -7.841047  10.161966 -1.933277  8.959247 -2.492584  \n",
       "2 -11.596349  -2.900057 -1.890156  0.390029 -5.383296  \n",
       "3   9.378226   1.146725 -9.630693 -8.620247 -0.552103  \n",
       "4  -9.878268  -5.017204  0.154492  7.647917 -1.004416  "
      ]
     },
     "execution_count": 6,
     "metadata": {},
     "output_type": "execute_result"
    }
   ],
   "source": [
    "X = data[['f1','f2','f3','f4','f5','f6','f7','f8','f9','f10','f11','f12']]\n",
    "X.head()"
   ]
  },
  {
   "cell_type": "markdown",
   "metadata": {},
   "source": [
    "1.1) Áp dụng phương pháp PCA để giảm chiều dữ liệu"
   ]
  },
  {
   "cell_type": "code",
   "execution_count": 36,
   "metadata": {},
   "outputs": [],
   "source": [
    "pca = PCA(.9)"
   ]
  },
  {
   "cell_type": "code",
   "execution_count": 37,
   "metadata": {},
   "outputs": [
    {
     "data": {
      "text/plain": [
       "PCA(copy=True, iterated_power='auto', n_components=0.9, random_state=None,\n",
       "    svd_solver='auto', tol=0.0, whiten=False)"
      ]
     },
     "execution_count": 37,
     "metadata": {},
     "output_type": "execute_result"
    }
   ],
   "source": [
    "pca.fit(X)"
   ]
  },
  {
   "cell_type": "code",
   "execution_count": 38,
   "metadata": {},
   "outputs": [
    {
     "name": "stdout",
     "output_type": "stream",
     "text": [
      "5\n"
     ]
    }
   ],
   "source": [
    "# Số chiều sau khi giảm\n",
    "print(pca.n_components_)"
   ]
  },
  {
   "cell_type": "code",
   "execution_count": 39,
   "metadata": {},
   "outputs": [
    {
     "data": {
      "text/plain": [
       "array([0.36812308, 0.28414549, 0.14599145, 0.08918693, 0.04557636])"
      ]
     },
     "execution_count": 39,
     "metadata": {},
     "output_type": "execute_result"
    }
   ],
   "source": [
    "# tỉ lệ phương sai được giữ lại\n",
    "pca.explained_variance_ratio_"
   ]
  },
  {
   "cell_type": "code",
   "execution_count": 40,
   "metadata": {},
   "outputs": [
    {
     "name": "stdout",
     "output_type": "stream",
     "text": [
      "0.9330233130887621\n"
     ]
    }
   ],
   "source": [
    "print(sum(pca.explained_variance_ratio_))"
   ]
  },
  {
   "cell_type": "code",
   "execution_count": 41,
   "metadata": {},
   "outputs": [
    {
     "name": "stdout",
     "output_type": "stream",
     "text": [
      "[[ -0.68924659  -1.06885009  -2.14483586  -7.03902333   7.5439572 ]\n",
      " [ -4.74083618  -3.44303139  -9.13467586  12.45344731   6.506586  ]\n",
      " [-16.81542157  -8.4921817   -5.19784764  -2.81250602  -7.62966037]\n",
      " [ -3.68358611  24.98158927   2.32107578  -3.01596388   0.50161857]\n",
      " [ -9.03347151  -9.44750599  -0.53472217  -3.6837844   -5.05315701]]\n"
     ]
    }
   ],
   "source": [
    "B = pca.transform(X)\n",
    "print(B[0:5])"
   ]
  },
  {
   "cell_type": "markdown",
   "metadata": {},
   "source": [
    "Nhận xét: Ta đã yêu cầu scikit-learn chọn số lượng thành phần chính tối thiểu sao cho ít nhất 90% của phương sai (thông tin) được giữ lại. Do đó, dữ liệu gốc đã giảm xuống còn 5 chiều."
   ]
  },
  {
   "cell_type": "markdown",
   "metadata": {},
   "source": [
    "1.3) Giảm chiều xuống còn k=2"
   ]
  },
  {
   "cell_type": "code",
   "execution_count": 42,
   "metadata": {},
   "outputs": [
    {
     "data": {
      "text/plain": [
       "PCA(copy=True, iterated_power='auto', n_components=2, random_state=None,\n",
       "    svd_solver='auto', tol=0.0, whiten=False)"
      ]
     },
     "execution_count": 42,
     "metadata": {},
     "output_type": "execute_result"
    }
   ],
   "source": [
    "pca1 = PCA(2)\n",
    "pca1.fit(X)"
   ]
  },
  {
   "cell_type": "code",
   "execution_count": 43,
   "metadata": {},
   "outputs": [
    {
     "name": "stdout",
     "output_type": "stream",
     "text": [
      "[[ -0.68924659  -1.06885009]\n",
      " [ -4.74083618  -3.44303139]\n",
      " [-16.81542157  -8.4921817 ]\n",
      " [ -3.68358611  24.98158927]\n",
      " [ -9.03347151  -9.44750599]]\n"
     ]
    }
   ],
   "source": [
    "B1 = pca1.transform(X)\n",
    "print(B1[0:5])"
   ]
  },
  {
   "cell_type": "code",
   "execution_count": 48,
   "metadata": {},
   "outputs": [
    {
     "data": {
      "text/plain": [
       "array([0.36812308, 0.28414549, 0.14599145, 0.08918693, 0.04557636])"
      ]
     },
     "execution_count": 48,
     "metadata": {},
     "output_type": "execute_result"
    }
   ],
   "source": [
    "# tỉ lệ phương sai được giữ lại\n",
    "pca.explained_variance_ratio_"
   ]
  },
  {
   "cell_type": "code",
   "execution_count": 44,
   "metadata": {},
   "outputs": [
    {
     "name": "stdout",
     "output_type": "stream",
     "text": [
      "0.6522685692035568\n"
     ]
    }
   ],
   "source": [
    "print(sum(pca1.explained_variance_ratio_))"
   ]
  },
  {
   "cell_type": "code",
   "execution_count": 45,
   "metadata": {},
   "outputs": [
    {
     "data": {
      "text/html": [
       "<div>\n",
       "<style scoped>\n",
       "    .dataframe tbody tr th:only-of-type {\n",
       "        vertical-align: middle;\n",
       "    }\n",
       "\n",
       "    .dataframe tbody tr th {\n",
       "        vertical-align: top;\n",
       "    }\n",
       "\n",
       "    .dataframe thead th {\n",
       "        text-align: right;\n",
       "    }\n",
       "</style>\n",
       "<table border=\"1\" class=\"dataframe\">\n",
       "  <thead>\n",
       "    <tr style=\"text-align: right;\">\n",
       "      <th></th>\n",
       "      <th>principal component 1</th>\n",
       "      <th>principal component 2</th>\n",
       "    </tr>\n",
       "  </thead>\n",
       "  <tbody>\n",
       "    <tr>\n",
       "      <th>0</th>\n",
       "      <td>-0.689247</td>\n",
       "      <td>-1.068850</td>\n",
       "    </tr>\n",
       "    <tr>\n",
       "      <th>1</th>\n",
       "      <td>-4.740836</td>\n",
       "      <td>-3.443031</td>\n",
       "    </tr>\n",
       "    <tr>\n",
       "      <th>2</th>\n",
       "      <td>-16.815422</td>\n",
       "      <td>-8.492182</td>\n",
       "    </tr>\n",
       "    <tr>\n",
       "      <th>3</th>\n",
       "      <td>-3.683586</td>\n",
       "      <td>24.981589</td>\n",
       "    </tr>\n",
       "    <tr>\n",
       "      <th>4</th>\n",
       "      <td>-9.033472</td>\n",
       "      <td>-9.447506</td>\n",
       "    </tr>\n",
       "  </tbody>\n",
       "</table>\n",
       "</div>"
      ],
      "text/plain": [
       "   principal component 1  principal component 2\n",
       "0              -0.689247              -1.068850\n",
       "1              -4.740836              -3.443031\n",
       "2             -16.815422              -8.492182\n",
       "3              -3.683586              24.981589\n",
       "4              -9.033472              -9.447506"
      ]
     },
     "execution_count": 45,
     "metadata": {},
     "output_type": "execute_result"
    }
   ],
   "source": [
    "principalDf = pd.DataFrame(data = B1,\n",
    "                           columns = ['principal component 1', 'principal component 2'])\n",
    "principalDf.head()"
   ]
  },
  {
   "cell_type": "code",
   "execution_count": 46,
   "metadata": {},
   "outputs": [
    {
     "data": {
      "text/html": [
       "<div>\n",
       "<style scoped>\n",
       "    .dataframe tbody tr th:only-of-type {\n",
       "        vertical-align: middle;\n",
       "    }\n",
       "\n",
       "    .dataframe tbody tr th {\n",
       "        vertical-align: top;\n",
       "    }\n",
       "\n",
       "    .dataframe thead th {\n",
       "        text-align: right;\n",
       "    }\n",
       "</style>\n",
       "<table border=\"1\" class=\"dataframe\">\n",
       "  <thead>\n",
       "    <tr style=\"text-align: right;\">\n",
       "      <th></th>\n",
       "      <th>principal component 1</th>\n",
       "      <th>principal component 2</th>\n",
       "      <th>Class</th>\n",
       "    </tr>\n",
       "  </thead>\n",
       "  <tbody>\n",
       "    <tr>\n",
       "      <th>0</th>\n",
       "      <td>-0.689247</td>\n",
       "      <td>-1.068850</td>\n",
       "      <td>3</td>\n",
       "    </tr>\n",
       "    <tr>\n",
       "      <th>1</th>\n",
       "      <td>-4.740836</td>\n",
       "      <td>-3.443031</td>\n",
       "      <td>4</td>\n",
       "    </tr>\n",
       "    <tr>\n",
       "      <th>2</th>\n",
       "      <td>-16.815422</td>\n",
       "      <td>-8.492182</td>\n",
       "      <td>0</td>\n",
       "    </tr>\n",
       "    <tr>\n",
       "      <th>3</th>\n",
       "      <td>-3.683586</td>\n",
       "      <td>24.981589</td>\n",
       "      <td>2</td>\n",
       "    </tr>\n",
       "    <tr>\n",
       "      <th>4</th>\n",
       "      <td>-9.033472</td>\n",
       "      <td>-9.447506</td>\n",
       "      <td>0</td>\n",
       "    </tr>\n",
       "  </tbody>\n",
       "</table>\n",
       "</div>"
      ],
      "text/plain": [
       "   principal component 1  principal component 2  Class\n",
       "0              -0.689247              -1.068850      3\n",
       "1              -4.740836              -3.443031      4\n",
       "2             -16.815422              -8.492182      0\n",
       "3              -3.683586              24.981589      2\n",
       "4              -9.033472              -9.447506      0"
      ]
     },
     "execution_count": 46,
     "metadata": {},
     "output_type": "execute_result"
    }
   ],
   "source": [
    "finalDf = pd.concat([principalDf, data[['Class']]], axis = 1)\n",
    "finalDf.head()"
   ]
  },
  {
   "cell_type": "code",
   "execution_count": 52,
   "metadata": {},
   "outputs": [
    {
     "data": {
      "image/png": "[encoded data removed]",
      "text/plain": [
       "<Figure size 576x576 with 1 Axes>"
      ]
     },
     "metadata": {
      "needs_background": "light"
     },
     "output_type": "display_data"
    }
   ],
   "source": [
    "plt.figure(figsize=(8,8))\n",
    "sb.scatterplot(x=\"principal component 1\",y=\"principal component 2\",data=finalDf,hue=\"Class\",style='Class')\n",
    "plt.show()"
   ]
  },
  {
   "cell_type": "markdown",
   "metadata": {},
   "source": [
    "Nhận xét: Dựa vào thuộc tính explained_variance_ratio_ được tính ở trên thì ta thấy rằng sau khi giảm chiều xuống còn k=2, ta còn giữ lại được khoảng 65% của phương sai (hay giữ lại khoảng 65% thông tin liên quan đến dữ liệu gốc). "
   ]
  },
  {
   "cell_type": "code",
   "execution_count": null,
   "metadata": {},
   "outputs": [],
   "source": []
  },
  {
   "cell_type": "code",
   "execution_count": null,
   "metadata": {},
   "outputs": [],
   "source": []
  }
 ],
 "metadata": {
  "kernelspec": {
   "display_name": "Python 3",
   "language": "python",
   "name": "python3"
  },
  "language_info": {
   "codemirror_mode": {
    "name": "ipython",
    "version": 3
   },
   "file_extension": ".py",
   "mimetype": "text/x-python",
   "name": "python",
   "nbconvert_exporter": "python",
   "pygments_lexer": "ipython3",
   "version": "3.7.4"
  }
 },
 "nbformat": 4,
 "nbformat_minor": 2
}
