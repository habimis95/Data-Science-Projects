{
 "cells": [
  {
   "cell_type": "code",
   "execution_count": 1,
   "metadata": {},
   "outputs": [],
   "source": [
    "import pandas as pd\n",
    "import numpy as np\n",
    "import matplotlib.pyplot as plt\n",
    "import seaborn as sb\n",
    "from scipy import stats"
   ]
  },
  {
   "cell_type": "code",
   "execution_count": 10,
   "metadata": {},
   "outputs": [],
   "source": [
    "data = pd.read_excel('Data\\IQ2.xls', index_col = 0)"
   ]
  },
  {
   "cell_type": "markdown",
   "metadata": {},
   "source": [
    "2.1) Thể hiện những thông tin của dữ liệu"
   ]
  },
  {
   "cell_type": "code",
   "execution_count": 9,
   "metadata": {},
   "outputs": [
    {
     "data": {
      "text/html": [
       "<div>\n",
       "<style scoped>\n",
       "    .dataframe tbody tr th:only-of-type {\n",
       "        vertical-align: middle;\n",
       "    }\n",
       "\n",
       "    .dataframe tbody tr th {\n",
       "        vertical-align: top;\n",
       "    }\n",
       "\n",
       "    .dataframe thead th {\n",
       "        text-align: right;\n",
       "    }\n",
       "</style>\n",
       "<table border=\"1\" class=\"dataframe\">\n",
       "  <thead>\n",
       "    <tr style=\"text-align: right;\">\n",
       "      <th></th>\n",
       "      <th>diemToan</th>\n",
       "      <th>diemAV</th>\n",
       "      <th>IQ</th>\n",
       "    </tr>\n",
       "    <tr>\n",
       "      <th>stt</th>\n",
       "      <th></th>\n",
       "      <th></th>\n",
       "      <th></th>\n",
       "    </tr>\n",
       "  </thead>\n",
       "  <tbody>\n",
       "    <tr>\n",
       "      <th>1</th>\n",
       "      <td>2.0</td>\n",
       "      <td>7.0</td>\n",
       "      <td>68</td>\n",
       "    </tr>\n",
       "    <tr>\n",
       "      <th>2</th>\n",
       "      <td>8.4</td>\n",
       "      <td>6.4</td>\n",
       "      <td>137</td>\n",
       "    </tr>\n",
       "    <tr>\n",
       "      <th>3</th>\n",
       "      <td>7.6</td>\n",
       "      <td>7.8</td>\n",
       "      <td>135</td>\n",
       "    </tr>\n",
       "    <tr>\n",
       "      <th>4</th>\n",
       "      <td>3.0</td>\n",
       "      <td>2.5</td>\n",
       "      <td>79</td>\n",
       "    </tr>\n",
       "    <tr>\n",
       "      <th>5</th>\n",
       "      <td>4.4</td>\n",
       "      <td>3.8</td>\n",
       "      <td>107</td>\n",
       "    </tr>\n",
       "  </tbody>\n",
       "</table>\n",
       "</div>"
      ],
      "text/plain": [
       "     diemToan  diemAV   IQ\n",
       "stt                       \n",
       "1         2.0     7.0   68\n",
       "2         8.4     6.4  137\n",
       "3         7.6     7.8  135\n",
       "4         3.0     2.5   79\n",
       "5         4.4     3.8  107"
      ]
     },
     "execution_count": 9,
     "metadata": {},
     "output_type": "execute_result"
    }
   ],
   "source": [
    "data.head()"
   ]
  },
  {
   "cell_type": "code",
   "execution_count": 5,
   "metadata": {},
   "outputs": [
    {
     "data": {
      "text/html": [
       "<div>\n",
       "<style scoped>\n",
       "    .dataframe tbody tr th:only-of-type {\n",
       "        vertical-align: middle;\n",
       "    }\n",
       "\n",
       "    .dataframe tbody tr th {\n",
       "        vertical-align: top;\n",
       "    }\n",
       "\n",
       "    .dataframe thead th {\n",
       "        text-align: right;\n",
       "    }\n",
       "</style>\n",
       "<table border=\"1\" class=\"dataframe\">\n",
       "  <thead>\n",
       "    <tr style=\"text-align: right;\">\n",
       "      <th></th>\n",
       "      <th>diemToan</th>\n",
       "      <th>diemAV</th>\n",
       "      <th>IQ</th>\n",
       "    </tr>\n",
       "    <tr>\n",
       "      <th>stt</th>\n",
       "      <th></th>\n",
       "      <th></th>\n",
       "      <th></th>\n",
       "    </tr>\n",
       "  </thead>\n",
       "  <tbody>\n",
       "    <tr>\n",
       "      <th>16</th>\n",
       "      <td>9.0</td>\n",
       "      <td>9.2</td>\n",
       "      <td>128</td>\n",
       "    </tr>\n",
       "    <tr>\n",
       "      <th>17</th>\n",
       "      <td>3.6</td>\n",
       "      <td>6.3</td>\n",
       "      <td>120</td>\n",
       "    </tr>\n",
       "    <tr>\n",
       "      <th>18</th>\n",
       "      <td>4.8</td>\n",
       "      <td>8.1</td>\n",
       "      <td>113</td>\n",
       "    </tr>\n",
       "    <tr>\n",
       "      <th>19</th>\n",
       "      <td>6.0</td>\n",
       "      <td>5.2</td>\n",
       "      <td>121</td>\n",
       "    </tr>\n",
       "    <tr>\n",
       "      <th>20</th>\n",
       "      <td>8.6</td>\n",
       "      <td>6.7</td>\n",
       "      <td>138</td>\n",
       "    </tr>\n",
       "  </tbody>\n",
       "</table>\n",
       "</div>"
      ],
      "text/plain": [
       "     diemToan  diemAV   IQ\n",
       "stt                       \n",
       "16        9.0     9.2  128\n",
       "17        3.6     6.3  120\n",
       "18        4.8     8.1  113\n",
       "19        6.0     5.2  121\n",
       "20        8.6     6.7  138"
      ]
     },
     "execution_count": 5,
     "metadata": {},
     "output_type": "execute_result"
    }
   ],
   "source": [
    "data.tail()"
   ]
  },
  {
   "cell_type": "code",
   "execution_count": 6,
   "metadata": {},
   "outputs": [
    {
     "name": "stdout",
     "output_type": "stream",
     "text": [
      "<class 'pandas.core.frame.DataFrame'>\n",
      "Int64Index: 20 entries, 1 to 20\n",
      "Data columns (total 3 columns):\n",
      "diemToan    20 non-null float64\n",
      "diemAV      20 non-null float64\n",
      "IQ          20 non-null int64\n",
      "dtypes: float64(2), int64(1)\n",
      "memory usage: 640.0 bytes\n"
     ]
    }
   ],
   "source": [
    "data.info()"
   ]
  },
  {
   "cell_type": "code",
   "execution_count": 7,
   "metadata": {},
   "outputs": [
    {
     "data": {
      "text/plain": [
       "(20, 3)"
      ]
     },
     "execution_count": 7,
     "metadata": {},
     "output_type": "execute_result"
    }
   ],
   "source": [
    "data.shape"
   ]
  },
  {
   "cell_type": "markdown",
   "metadata": {},
   "source": [
    "- Vẽ biểu đồ phân bố tần số của diemToan"
   ]
  },
  {
   "cell_type": "code",
   "execution_count": 8,
   "metadata": {},
   "outputs": [
    {
     "name": "stderr",
     "output_type": "stream",
     "text": [
      "c:\\program files\\python36\\lib\\site-packages\\scipy\\stats\\stats.py:1713: FutureWarning: Using a non-tuple sequence for multidimensional indexing is deprecated; use `arr[tuple(seq)]` instead of `arr[seq]`. In the future this will be interpreted as an array index, `arr[np.array(seq)]`, which will result either in an error or a different result.\n",
      "  return np.add.reduce(sorted[indexer] * weights, axis=axis) / sumval\n"
     ]
    },
    {
     "data": {
      "image/png": "[encoded data removed]",
      "text/plain": [
       "<Figure size 576x576 with 2 Axes>"
      ]
     },
     "metadata": {
      "needs_background": "light"
     },
     "output_type": "display_data"
    }
   ],
   "source": [
    "plt.figure(figsize=(8,8))\n",
    "plt.subplot(1,2,1)\n",
    "plt.hist(data['diemToan'])\n",
    "plt.xticks(np.arange(0, 11, step=1))\n",
    "plt.subplot(1,2,2)\n",
    "sb.distplot(data['diemToan'],bins=10)\n",
    "plt.xticks(np.arange(0, 11, step=1))\n",
    "plt.show()"
   ]
  },
  {
   "cell_type": "markdown",
   "metadata": {},
   "source": [
    "- Vẽ biểu đồ phân bố tần số của diemAV"
   ]
  },
  {
   "cell_type": "code",
   "execution_count": 62,
   "metadata": {},
   "outputs": [
    {
     "data": {
      "image/png": "[encoded data removed]",
      "text/plain": [
       "<Figure size 576x576 with 2 Axes>"
      ]
     },
     "metadata": {
      "needs_background": "light"
     },
     "output_type": "display_data"
    }
   ],
   "source": [
    "plt.figure(figsize=(8,8))\n",
    "plt.subplot(1,2,1)\n",
    "plt.hist(data['diemAV'])\n",
    "plt.xticks(np.arange(0, 11, step=1))\n",
    "plt.subplot(1,2,2)\n",
    "sb.distplot(data['diemAV'],bins=10)\n",
    "plt.xticks(np.arange(0, 11, step=1))\n",
    "plt.show()"
   ]
  },
  {
   "cell_type": "code",
   "execution_count": 15,
   "metadata": {},
   "outputs": [
    {
     "data": {
      "text/plain": [
       "array([2. , 8.4, 7.6, 3. , 4.4, 6.4, 8. , 2.8, 5.2, 6.4, 7.6, 5. , 9.6,\n",
       "       5.6, 4.4, 9. , 3.6, 4.8, 6. , 8.6])"
      ]
     },
     "execution_count": 15,
     "metadata": {},
     "output_type": "execute_result"
    }
   ],
   "source": [
    "diemToan = data['diemToan'].values\n",
    "diemToan"
   ]
  },
  {
   "cell_type": "code",
   "execution_count": 18,
   "metadata": {},
   "outputs": [
    {
     "data": {
      "text/plain": [
       "array([7. , 6.4, 7.8, 2.5, 3.8, 7.2, 8.4, 6.8, 5. , 8.9, 9.2, 5.4, 8.7,\n",
       "       7.4, 7.2, 9.2, 6.3, 8.1, 5.2, 6.7])"
      ]
     },
     "execution_count": 18,
     "metadata": {},
     "output_type": "execute_result"
    }
   ],
   "source": [
    "diemAV = data['diemAV'].values\n",
    "diemAV"
   ]
  },
  {
   "cell_type": "markdown",
   "metadata": {},
   "source": [
    "2.2) Các giá trị mean, median, variance của diemToan và diemAV"
   ]
  },
  {
   "cell_type": "code",
   "execution_count": 20,
   "metadata": {},
   "outputs": [
    {
     "data": {
      "text/plain": [
       "5.92"
      ]
     },
     "execution_count": 20,
     "metadata": {},
     "output_type": "execute_result"
    }
   ],
   "source": [
    "# Tìm mean của diemToan\n",
    "mean_diemToan = np.mean(diemToan)\n",
    "mean_diemToan"
   ]
  },
  {
   "cell_type": "code",
   "execution_count": 21,
   "metadata": {},
   "outputs": [
    {
     "data": {
      "text/plain": [
       "5.8"
      ]
     },
     "execution_count": 21,
     "metadata": {},
     "output_type": "execute_result"
    }
   ],
   "source": [
    "# Tìm median của diemToan\n",
    "median_diemToan = np.median(diemToan)\n",
    "median_diemToan"
   ]
  },
  {
   "cell_type": "code",
   "execution_count": 22,
   "metadata": {},
   "outputs": [
    {
     "data": {
      "text/plain": [
       "4.6575999999999995"
      ]
     },
     "execution_count": 22,
     "metadata": {},
     "output_type": "execute_result"
    }
   ],
   "source": [
    "# Tìm phương sai (variance) của diemToan\n",
    "var_diemToan = np.var(diemToan)\n",
    "var_diemToan"
   ]
  },
  {
   "cell_type": "code",
   "execution_count": 23,
   "metadata": {},
   "outputs": [
    {
     "data": {
      "text/plain": [
       "6.859999999999999"
      ]
     },
     "execution_count": 23,
     "metadata": {},
     "output_type": "execute_result"
    }
   ],
   "source": [
    "# Tìm mean của diemAV\n",
    "mean_diemAV = np.mean(diemAV)\n",
    "mean_diemAV"
   ]
  },
  {
   "cell_type": "code",
   "execution_count": 24,
   "metadata": {},
   "outputs": [
    {
     "data": {
      "text/plain": [
       "7.1"
      ]
     },
     "execution_count": 24,
     "metadata": {},
     "output_type": "execute_result"
    }
   ],
   "source": [
    "# Tìm median của diemAV\n",
    "median_diemAV = np.median(diemAV)\n",
    "median_diemAV"
   ]
  },
  {
   "cell_type": "code",
   "execution_count": 25,
   "metadata": {},
   "outputs": [
    {
     "data": {
      "text/plain": [
       "3.0553999999999997"
      ]
     },
     "execution_count": 25,
     "metadata": {},
     "output_type": "execute_result"
    }
   ],
   "source": [
    "# Tìm phương sai (variance) của diemAV\n",
    "var_diemAV = np.var(diemAV)\n",
    "var_diemAV"
   ]
  },
  {
   "cell_type": "markdown",
   "metadata": {},
   "source": [
    "2.3) Biểu đồ boxplot của diemToan, diemAV và IQ"
   ]
  },
  {
   "cell_type": "code",
   "execution_count": 26,
   "metadata": {},
   "outputs": [
    {
     "data": {
      "text/plain": [
       "<matplotlib.axes._subplots.AxesSubplot at 0x1977cac8>"
      ]
     },
     "execution_count": 26,
     "metadata": {},
     "output_type": "execute_result"
    },
    {
     "data": {
      "image/png": "[encoded data removed]",
      "text/plain": [
       "<Figure size 432x288 with 1 Axes>"
      ]
     },
     "metadata": {
      "needs_background": "light"
     },
     "output_type": "display_data"
    }
   ],
   "source": [
    "sb.boxplot(data['diemToan'])"
   ]
  },
  {
   "cell_type": "code",
   "execution_count": 27,
   "metadata": {},
   "outputs": [
    {
     "data": {
      "text/plain": [
       "<matplotlib.axes._subplots.AxesSubplot at 0x1c0323c8>"
      ]
     },
     "execution_count": 27,
     "metadata": {},
     "output_type": "execute_result"
    },
    {
     "data": {
      "image/png": "[encoded data removed]",
      "text/plain": [
       "<Figure size 432x288 with 1 Axes>"
      ]
     },
     "metadata": {
      "needs_background": "light"
     },
     "output_type": "display_data"
    }
   ],
   "source": [
    "sb.boxplot(data['diemAV'])"
   ]
  },
  {
   "cell_type": "code",
   "execution_count": 28,
   "metadata": {},
   "outputs": [
    {
     "data": {
      "text/plain": [
       "<matplotlib.axes._subplots.AxesSubplot at 0x1bf0c4e0>"
      ]
     },
     "execution_count": 28,
     "metadata": {},
     "output_type": "execute_result"
    },
    {
     "data": {
      "image/png": "[encoded data removed]",
      "text/plain": [
       "<Figure size 432x288 with 1 Axes>"
      ]
     },
     "metadata": {
      "needs_background": "light"
     },
     "output_type": "display_data"
    }
   ],
   "source": [
    "sb.boxplot(data['IQ'])"
   ]
  },
  {
   "cell_type": "markdown",
   "metadata": {},
   "source": [
    "2.4) Xác định outliers của diemToan, diemAV và IQ"
   ]
  },
  {
   "cell_type": "code",
   "execution_count": 58,
   "metadata": {},
   "outputs": [
    {
     "name": "stdout",
     "output_type": "stream",
     "text": [
      "Indexes of outliers in diemToan:  []\n",
      "outliers values of diemToan:  []\n"
     ]
    }
   ],
   "source": [
    "diemToan_z_score=stats.zscore(data['diemToan'])\n",
    "outliers=diemToan_z_score[[(n<=-2.5)|(n>=2.5) for n in diemToan_z_score]]\n",
    "indexes = [diemToan_z_score.tolist().index(i) for i in outliers]\n",
    "print('Indexes of outliers in diemToan: ',indexes)\n",
    "print('outliers values of diemToan: ',diemToan[indexes])"
   ]
  },
  {
   "cell_type": "code",
   "execution_count": 59,
   "metadata": {},
   "outputs": [
    {
     "name": "stdout",
     "output_type": "stream",
     "text": [
      "Indexes of outliers in diemAV:  []\n",
      "outliers values of diemAV:  []\n"
     ]
    }
   ],
   "source": [
    "diemAV_z_score=stats.zscore(diemAV)\n",
    "outliers=diemAV_z_score[[(n<=-2.5)|(n>=2.5) for n in diemAV_z_score]]\n",
    "indexes = [diemAV_z_score.tolist().index(i) for i in outliers]\n",
    "print('Indexes of outliers in diemAV: ',indexes)\n",
    "print('outliers values of diemAV: ',diemAV[indexes])"
   ]
  },
  {
   "cell_type": "code",
   "execution_count": 60,
   "metadata": {},
   "outputs": [
    {
     "name": "stdout",
     "output_type": "stream",
     "text": [
      "Indexes of outliers in IQ:  []\n",
      "outliers values of IQ:  []\n"
     ]
    }
   ],
   "source": [
    "IQ = np.array(data['IQ'])\n",
    "IQ_z_score=stats.zscore(data['IQ'])\n",
    "outliers=IQ_z_score[[(n<=-2.5)|(n>=2.5) for n in IQ_z_score]]\n",
    "indexes = [IQ_z_score.tolist().index(i) for i in outliers]\n",
    "print('Indexes of outliers in IQ: ',indexes)\n",
    "print('outliers values of IQ: ',IQ[indexes])"
   ]
  },
  {
   "cell_type": "markdown",
   "metadata": {},
   "source": [
    "2.5) Vẽ biểu đồ thể hiện mối quan hệ giữa diemToan và IQ. Tính giá trị tương quan giữa diemToan và IQ"
   ]
  },
  {
   "cell_type": "code",
   "execution_count": 63,
   "metadata": {},
   "outputs": [
    {
     "data": {
      "image/png": "[encoded data removed]",
      "text/plain": [
       "<Figure size 576x576 with 1 Axes>"
      ]
     },
     "metadata": {
      "needs_background": "light"
     },
     "output_type": "display_data"
    }
   ],
   "source": [
    "plt.figure(figsize=(8,8))\n",
    "sb.regplot(x='diemToan',y='IQ',data=data)\n",
    "plt.title(\"Biểu đồ thể hiện mối quan hệ giữa diemToan và IQ\")\n",
    "plt.show()"
   ]
  },
  {
   "cell_type": "code",
   "execution_count": 64,
   "metadata": {},
   "outputs": [
    {
     "data": {
      "text/plain": [
       "0.872418870304112"
      ]
     },
     "execution_count": 64,
     "metadata": {},
     "output_type": "execute_result"
    }
   ],
   "source": [
    "#Pandas corelation: default is Pearson\n",
    "data['diemToan'].corr(data['IQ'])"
   ]
  },
  {
   "cell_type": "code",
   "execution_count": 65,
   "metadata": {},
   "outputs": [
    {
     "data": {
      "text/plain": [
       "(0.8724188703041121, 5.304738079748869e-07)"
      ]
     },
     "execution_count": 65,
     "metadata": {},
     "output_type": "execute_result"
    }
   ],
   "source": [
    "stats.pearsonr(data['diemToan'],data['IQ'])"
   ]
  },
  {
   "cell_type": "markdown",
   "metadata": {},
   "source": [
    "Nhận xét: Dựa vào biểu đồ, ta nhận thấy diemToan và IQ tương quan dương với nhau. Với việc tính toán giá trị tương quan thì cho ta biết diemToan và IQ tương quan mạnh với nhau. Vì vậy, có thể dựa vào diemToan để dựa đoán IQ"
   ]
  },
  {
   "cell_type": "markdown",
   "metadata": {},
   "source": [
    "2.6) Vẽ biểu đồ thể hiện mối quan hệ giữa diemToan và IQ. Tính giá trị tương quan giữa diemToan và IQ"
   ]
  },
  {
   "cell_type": "code",
   "execution_count": 66,
   "metadata": {},
   "outputs": [
    {
     "data": {
      "image/png": "[encoded data removed]",
      "text/plain": [
       "<Figure size 576x576 with 1 Axes>"
      ]
     },
     "metadata": {
      "needs_background": "light"
     },
     "output_type": "display_data"
    }
   ],
   "source": [
    "plt.figure(figsize=(8,8))\n",
    "sb.regplot(x='diemAV',y='IQ',data=data)\n",
    "plt.title(\"Biểu đồ thể hiện mối quan hệ giữa diemAV và IQ\")\n",
    "plt.show()"
   ]
  },
  {
   "cell_type": "code",
   "execution_count": 71,
   "metadata": {},
   "outputs": [
    {
     "data": {
      "text/plain": [
       "array([[1.        , 0.47152203],\n",
       "       [0.47152203, 1.        ]])"
      ]
     },
     "execution_count": 71,
     "metadata": {},
     "output_type": "execute_result"
    }
   ],
   "source": [
    "Sigma = np.corrcoef(diemAV,IQ)\n",
    "Sigma"
   ]
  },
  {
   "cell_type": "code",
   "execution_count": 72,
   "metadata": {},
   "outputs": [
    {
     "data": {
      "text/plain": [
       "(0.47152202875062094, 0.03583549248975986)"
      ]
     },
     "execution_count": 72,
     "metadata": {},
     "output_type": "execute_result"
    }
   ],
   "source": [
    "stats.pearsonr(data['diemAV'],data['IQ'])"
   ]
  },
  {
   "cell_type": "code",
   "execution_count": 74,
   "metadata": {},
   "outputs": [
    {
     "data": {
      "text/plain": [
       "SpearmanrResult(correlation=0.5062147251722573, pvalue=0.022760253013121137)"
      ]
     },
     "execution_count": 74,
     "metadata": {},
     "output_type": "execute_result"
    }
   ],
   "source": [
    "# Spearman's corelation\n",
    "stats.spearmanr(data['diemAV'],data['IQ'])"
   ]
  },
  {
   "cell_type": "markdown",
   "metadata": {},
   "source": [
    "Nhận xét: Dựa vào biểu đồ, ta nhận thấy diemAV và IQ không có mối tương quan. Với việc tính toán giá trị tương quan thì cho ta biết diemAV và IQ tương quan yếu với nhau. Vì vậy, khó có thể dựa vào diemAV để dựa đoán IQ"
   ]
  },
  {
   "cell_type": "markdown",
   "metadata": {},
   "source": [
    "2.7) Dựa vào kết quả trên, ta chọn diemToan để dự đoán giá trị IQ."
   ]
  },
  {
   "cell_type": "markdown",
   "metadata": {},
   "source": [
    "2.8) Xây dựng hệ phương trình y=mx+b, với x là diemToan, y là IQ"
   ]
  },
  {
   "cell_type": "code",
   "execution_count": 76,
   "metadata": {},
   "outputs": [],
   "source": [
    "from gradient_descent_2 import gradient_descent_2"
   ]
  },
  {
   "cell_type": "code",
   "execution_count": 77,
   "metadata": {},
   "outputs": [
    {
     "name": "stdout",
     "output_type": "stream",
     "text": [
      "Iter 0 | J: 6059.502\n",
      "Iter 1 | J: 2310.170\n",
      "Iter 2 | J: 986.482\n",
      "Iter 3 | J: 518.960\n",
      "Iter 4 | J: 353.633\n",
      "Iter 5 | J: 294.971\n",
      "Iter 6 | J: 273.959\n",
      "Iter 7 | J: 266.237\n",
      "Iter 8 | J: 263.206\n",
      "Iter 9 | J: 261.831\n",
      "Iter 10 | J: 261.042\n",
      "Iter 11 | J: 260.461\n",
      "Iter 12 | J: 259.953\n",
      "Iter 13 | J: 259.472\n",
      "Iter 14 | J: 259.001\n",
      "Iter 15 | J: 258.534\n",
      "Iter 16 | J: 258.070\n",
      "Iter 17 | J: 257.607\n",
      "Iter 18 | J: 257.145\n",
      "Iter 19 | J: 256.685\n",
      "Iter 20 | J: 256.225\n",
      "Iter 21 | J: 255.767\n",
      "Iter 22 | J: 255.309\n",
      "Iter 23 | J: 254.853\n",
      "Iter 24 | J: 254.397\n",
      "Iter 25 | J: 253.943\n",
      "Iter 26 | J: 253.490\n",
      "Iter 27 | J: 253.038\n",
      "Iter 28 | J: 252.586\n",
      "Iter 29 | J: 252.136\n",
      "Iter 30 | J: 251.687\n",
      "Iter 31 | J: 251.239\n",
      "Iter 32 | J: 250.792\n",
      "Iter 33 | J: 250.346\n",
      "Iter 34 | J: 249.901\n",
      "Iter 35 | J: 249.457\n",
      "Iter 36 | J: 249.014\n",
      "Iter 37 | J: 248.572\n",
      "Iter 38 | J: 248.131\n",
      "Iter 39 | J: 247.691\n",
      "Iter 40 | J: 247.252\n",
      "Iter 41 | J: 246.814\n",
      "Iter 42 | J: 246.377\n",
      "Iter 43 | J: 245.941\n",
      "Iter 44 | J: 245.506\n",
      "Iter 45 | J: 245.072\n",
      "Iter 46 | J: 244.639\n",
      "Iter 47 | J: 244.208\n",
      "Iter 48 | J: 243.777\n",
      "Iter 49 | J: 243.347\n",
      "Iter 50 | J: 242.918\n",
      "Iter 51 | J: 242.490\n",
      "Iter 52 | J: 242.063\n",
      "Iter 53 | J: 241.637\n",
      "Iter 54 | J: 241.212\n",
      "Iter 55 | J: 240.788\n",
      "Iter 56 | J: 240.364\n",
      "Iter 57 | J: 239.942\n",
      "Iter 58 | J: 239.521\n",
      "Iter 59 | J: 239.101\n",
      "Iter 60 | J: 238.682\n",
      "Iter 61 | J: 238.263\n",
      "Iter 62 | J: 237.846\n",
      "Iter 63 | J: 237.430\n",
      "Iter 64 | J: 237.014\n",
      "Iter 65 | J: 236.600\n",
      "Iter 66 | J: 236.186\n",
      "Iter 67 | J: 235.774\n",
      "Iter 68 | J: 235.362\n",
      "Iter 69 | J: 234.952\n",
      "Iter 70 | J: 234.542\n",
      "Iter 71 | J: 234.133\n",
      "Iter 72 | J: 233.725\n",
      "Iter 73 | J: 233.318\n",
      "Iter 74 | J: 232.912\n",
      "Iter 75 | J: 232.507\n",
      "Iter 76 | J: 232.103\n",
      "Iter 77 | J: 231.700\n",
      "Iter 78 | J: 231.298\n",
      "Iter 79 | J: 230.897\n",
      "Iter 80 | J: 230.496\n",
      "Iter 81 | J: 230.097\n",
      "Iter 82 | J: 229.698\n",
      "Iter 83 | J: 229.300\n",
      "Iter 84 | J: 228.904\n",
      "Iter 85 | J: 228.508\n",
      "Iter 86 | J: 228.113\n",
      "Iter 87 | J: 227.719\n",
      "Iter 88 | J: 227.326\n",
      "Iter 89 | J: 226.934\n",
      "Iter 90 | J: 226.542\n",
      "Iter 91 | J: 226.152\n",
      "Iter 92 | J: 225.762\n",
      "Iter 93 | J: 225.374\n",
      "Iter 94 | J: 224.986\n",
      "Iter 95 | J: 224.599\n",
      "Iter 96 | J: 224.213\n",
      "Iter 97 | J: 223.828\n",
      "Iter 98 | J: 223.444\n",
      "Iter 99 | J: 223.060\n",
      "Iter 100 | J: 222.678\n",
      "Iter 101 | J: 222.296\n",
      "Iter 102 | J: 221.916\n",
      "Iter 103 | J: 221.536\n",
      "Iter 104 | J: 221.157\n",
      "Iter 105 | J: 220.779\n",
      "Iter 106 | J: 220.402\n",
      "Iter 107 | J: 220.025\n",
      "Iter 108 | J: 219.650\n",
      "Iter 109 | J: 219.275\n",
      "Iter 110 | J: 218.902\n",
      "Iter 111 | J: 218.529\n",
      "Iter 112 | J: 218.157\n",
      "Iter 113 | J: 217.785\n",
      "Iter 114 | J: 217.415\n",
      "Iter 115 | J: 217.046\n",
      "Iter 116 | J: 216.677\n",
      "Iter 117 | J: 216.309\n",
      "Iter 118 | J: 215.942\n",
      "Iter 119 | J: 215.576\n",
      "Iter 120 | J: 215.211\n",
      "Iter 121 | J: 214.846\n",
      "Iter 122 | J: 214.483\n",
      "Iter 123 | J: 214.120\n",
      "Iter 124 | J: 213.758\n",
      "Iter 125 | J: 213.397\n",
      "Iter 126 | J: 213.037\n",
      "Iter 127 | J: 212.677\n",
      "Iter 128 | J: 212.319\n",
      "Iter 129 | J: 211.961\n",
      "Iter 130 | J: 211.604\n",
      "Iter 131 | J: 211.248\n",
      "Iter 132 | J: 210.892\n",
      "Iter 133 | J: 210.538\n",
      "Iter 134 | J: 210.184\n",
      "Iter 135 | J: 209.831\n",
      "Iter 136 | J: 209.479\n",
      "Iter 137 | J: 209.128\n",
      "Iter 138 | J: 208.777\n",
      "Iter 139 | J: 208.428\n",
      "Iter 140 | J: 208.079\n",
      "Iter 141 | J: 207.731\n",
      "Iter 142 | J: 207.383\n",
      "Iter 143 | J: 207.037\n",
      "Iter 144 | J: 206.691\n",
      "Iter 145 | J: 206.346\n",
      "Iter 146 | J: 206.002\n",
      "Iter 147 | J: 205.659\n",
      "Iter 148 | J: 205.316\n",
      "Iter 149 | J: 204.975\n",
      "Iter 150 | J: 204.634\n",
      "Iter 151 | J: 204.294\n",
      "Iter 152 | J: 203.954\n",
      "Iter 153 | J: 203.616\n",
      "Iter 154 | J: 203.278\n",
      "Iter 155 | J: 202.941\n",
      "Iter 156 | J: 202.604\n",
      "Iter 157 | J: 202.269\n",
      "Iter 158 | J: 201.934\n",
      "Iter 159 | J: 201.600\n",
      "Iter 160 | J: 201.267\n",
      "Iter 161 | J: 200.934\n",
      "Iter 162 | J: 200.603\n",
      "Iter 163 | J: 200.272\n",
      "Iter 164 | J: 199.942\n",
      "Iter 165 | J: 199.612\n",
      "Iter 166 | J: 199.284\n",
      "Iter 167 | J: 198.956\n",
      "Iter 168 | J: 198.629\n",
      "Iter 169 | J: 198.302\n",
      "Iter 170 | J: 197.976\n",
      "Iter 171 | J: 197.652\n",
      "Iter 172 | J: 197.327\n",
      "Iter 173 | J: 197.004\n",
      "Iter 174 | J: 196.681\n",
      "Iter 175 | J: 196.359\n",
      "Iter 176 | J: 196.038\n",
      "Iter 177 | J: 195.718\n",
      "Iter 178 | J: 195.398\n",
      "Iter 179 | J: 195.079\n",
      "Iter 180 | J: 194.761\n",
      "Iter 181 | J: 194.443\n",
      "Iter 182 | J: 194.126\n",
      "Iter 183 | J: 193.810\n",
      "Iter 184 | J: 193.495\n",
      "Iter 185 | J: 193.180\n",
      "Iter 186 | J: 192.867\n",
      "Iter 187 | J: 192.553\n",
      "Iter 188 | J: 192.241\n",
      "Iter 189 | J: 191.929\n",
      "Iter 190 | J: 191.618\n",
      "Iter 191 | J: 191.308\n",
      "Iter 192 | J: 190.998\n",
      "Iter 193 | J: 190.689\n",
      "Iter 194 | J: 190.381\n",
      "Iter 195 | J: 190.074\n",
      "Iter 196 | J: 189.767\n",
      "Iter 197 | J: 189.461\n",
      "Iter 198 | J: 189.155\n",
      "Iter 199 | J: 188.851\n",
      "Iter 200 | J: 188.547\n",
      "Iter 201 | J: 188.243\n",
      "Iter 202 | J: 187.941\n",
      "Iter 203 | J: 187.639\n",
      "Iter 204 | J: 187.338\n",
      "Iter 205 | J: 187.037\n",
      "Iter 206 | J: 186.737\n",
      "Iter 207 | J: 186.438\n",
      "Iter 208 | J: 186.140\n",
      "Iter 209 | J: 185.842\n",
      "Iter 210 | J: 185.545\n",
      "Iter 211 | J: 185.249\n",
      "Iter 212 | J: 184.953\n",
      "Iter 213 | J: 184.658\n",
      "Iter 214 | J: 184.364\n",
      "Iter 215 | J: 184.070\n",
      "Iter 216 | J: 183.777\n",
      "Iter 217 | J: 183.485\n",
      "Iter 218 | J: 183.193\n",
      "Iter 219 | J: 182.902\n",
      "Iter 220 | J: 182.612\n",
      "Iter 221 | J: 182.322\n",
      "Iter 222 | J: 182.033\n",
      "Iter 223 | J: 181.745\n",
      "Iter 224 | J: 181.457\n",
      "Iter 225 | J: 181.170\n",
      "Iter 226 | J: 180.884\n",
      "Iter 227 | J: 180.598\n",
      "Iter 228 | J: 180.313\n",
      "Iter 229 | J: 180.028\n",
      "Iter 230 | J: 179.745\n",
      "Iter 231 | J: 179.462\n",
      "Iter 232 | J: 179.179\n",
      "Iter 233 | J: 178.897\n",
      "Iter 234 | J: 178.616\n",
      "Iter 235 | J: 178.336\n",
      "Iter 236 | J: 178.056\n",
      "Iter 237 | J: 177.777\n",
      "Iter 238 | J: 177.498\n",
      "Iter 239 | J: 177.220\n",
      "Iter 240 | J: 176.943\n",
      "Iter 241 | J: 176.666\n",
      "Iter 242 | J: 176.390\n",
      "Iter 243 | J: 176.115\n",
      "Iter 244 | J: 175.840\n",
      "Iter 245 | J: 175.566\n",
      "Iter 246 | J: 175.292\n",
      "Iter 247 | J: 175.020\n",
      "Iter 248 | J: 174.747\n",
      "Iter 249 | J: 174.476\n",
      "Iter 250 | J: 174.205\n",
      "Iter 251 | J: 173.934\n",
      "Iter 252 | J: 173.665\n",
      "Iter 253 | J: 173.395\n",
      "Iter 254 | J: 173.127\n",
      "Iter 255 | J: 172.859\n",
      "Iter 256 | J: 172.592\n",
      "Iter 257 | J: 172.325\n",
      "Iter 258 | J: 172.059\n",
      "Iter 259 | J: 171.793\n",
      "Iter 260 | J: 171.529\n",
      "Iter 261 | J: 171.264\n",
      "Iter 262 | J: 171.001\n",
      "Iter 263 | J: 170.738\n",
      "Iter 264 | J: 170.475\n",
      "Iter 265 | J: 170.213\n",
      "Iter 266 | J: 169.952\n",
      "Iter 267 | J: 169.692\n",
      "Iter 268 | J: 169.432\n",
      "Iter 269 | J: 169.172\n",
      "Iter 270 | J: 168.913\n",
      "Iter 271 | J: 168.655\n",
      "Iter 272 | J: 168.397\n",
      "Iter 273 | J: 168.140\n",
      "Iter 274 | J: 167.884\n",
      "Iter 275 | J: 167.628\n",
      "Iter 276 | J: 167.373\n",
      "Iter 277 | J: 167.118\n",
      "Iter 278 | J: 166.864\n",
      "Iter 279 | J: 166.610\n",
      "Iter 280 | J: 166.357\n",
      "Iter 281 | J: 166.105\n",
      "Iter 282 | J: 165.853\n",
      "Iter 283 | J: 165.602\n",
      "Iter 284 | J: 165.351\n",
      "Iter 285 | J: 165.101\n",
      "Iter 286 | J: 164.852\n",
      "Iter 287 | J: 164.603\n",
      "Iter 288 | J: 164.354\n",
      "Iter 289 | J: 164.107\n",
      "Iter 290 | J: 163.859\n",
      "Iter 291 | J: 163.613\n",
      "Iter 292 | J: 163.367\n",
      "Iter 293 | J: 163.121\n",
      "Iter 294 | J: 162.876\n",
      "Iter 295 | J: 162.632\n",
      "Iter 296 | J: 162.388\n",
      "Iter 297 | J: 162.145\n",
      "Iter 298 | J: 161.902\n",
      "Iter 299 | J: 161.660\n",
      "Iter 300 | J: 161.418\n",
      "Iter 301 | J: 161.177\n",
      "Iter 302 | J: 160.937\n",
      "Iter 303 | J: 160.697\n",
      "Iter 304 | J: 160.457\n",
      "Iter 305 | J: 160.219\n",
      "Iter 306 | J: 159.980\n",
      "Iter 307 | J: 159.742\n",
      "Iter 308 | J: 159.505\n",
      "Iter 309 | J: 159.269\n",
      "Iter 310 | J: 159.032\n",
      "Iter 311 | J: 158.797\n",
      "Iter 312 | J: 158.562\n",
      "Iter 313 | J: 158.327\n",
      "Iter 314 | J: 158.093\n",
      "Iter 315 | J: 157.860\n",
      "Iter 316 | J: 157.627\n",
      "Iter 317 | J: 157.395\n",
      "Iter 318 | J: 157.163\n",
      "Iter 319 | J: 156.932\n",
      "Iter 320 | J: 156.701\n",
      "Iter 321 | J: 156.471\n",
      "Iter 322 | J: 156.241\n",
      "Iter 323 | J: 156.012\n",
      "Iter 324 | J: 155.783\n",
      "Iter 325 | J: 155.555\n",
      "Iter 326 | J: 155.327\n",
      "Iter 327 | J: 155.100\n",
      "Iter 328 | J: 154.874\n",
      "Iter 329 | J: 154.648\n",
      "Iter 330 | J: 154.422\n",
      "Iter 331 | J: 154.197\n",
      "Iter 332 | J: 153.973\n",
      "Iter 333 | J: 153.749\n",
      "Iter 334 | J: 153.525\n",
      "Iter 335 | J: 153.302\n",
      "Iter 336 | J: 153.080\n",
      "Iter 337 | J: 152.858\n",
      "Iter 338 | J: 152.636\n",
      "Iter 339 | J: 152.416\n",
      "Iter 340 | J: 152.195\n",
      "Iter 341 | J: 151.975\n",
      "Iter 342 | J: 151.756\n",
      "Iter 343 | J: 151.537\n",
      "Iter 344 | J: 151.319\n",
      "Iter 345 | J: 151.101\n",
      "Iter 346 | J: 150.883\n",
      "Iter 347 | J: 150.666\n",
      "Iter 348 | J: 150.450\n",
      "Iter 349 | J: 150.234\n",
      "Iter 350 | J: 150.019\n",
      "Iter 351 | J: 149.804\n",
      "Iter 352 | J: 149.589\n",
      "Iter 353 | J: 149.376\n",
      "Iter 354 | J: 149.162\n",
      "Iter 355 | J: 148.949\n",
      "Iter 356 | J: 148.737\n",
      "Iter 357 | J: 148.525\n",
      "Iter 358 | J: 148.313\n",
      "Iter 359 | J: 148.102\n",
      "Iter 360 | J: 147.892\n",
      "Iter 361 | J: 147.682\n",
      "Iter 362 | J: 147.472\n",
      "Iter 363 | J: 147.263\n",
      "Iter 364 | J: 147.055\n",
      "Iter 365 | J: 146.846\n",
      "Iter 366 | J: 146.639\n",
      "Iter 367 | J: 146.432\n",
      "Iter 368 | J: 146.225\n",
      "Iter 369 | J: 146.019\n",
      "Iter 370 | J: 145.813\n",
      "Iter 371 | J: 145.608\n",
      "Iter 372 | J: 145.403\n",
      "Iter 373 | J: 145.199\n",
      "Iter 374 | J: 144.995\n",
      "Iter 375 | J: 144.791\n",
      "Iter 376 | J: 144.589\n",
      "Iter 377 | J: 144.386\n",
      "Iter 378 | J: 144.184\n",
      "Iter 379 | J: 143.983\n",
      "Iter 380 | J: 143.782\n",
      "Iter 381 | J: 143.581\n",
      "Iter 382 | J: 143.381\n",
      "Iter 383 | J: 143.181\n",
      "Iter 384 | J: 142.982\n",
      "Iter 385 | J: 142.783\n",
      "Iter 386 | J: 142.585\n",
      "Iter 387 | J: 142.387\n",
      "Iter 388 | J: 142.190\n",
      "Iter 389 | J: 141.993\n",
      "Iter 390 | J: 141.796\n",
      "Iter 391 | J: 141.600\n",
      "Iter 392 | J: 141.405\n",
      "Iter 393 | J: 141.209\n",
      "Iter 394 | J: 141.015\n",
      "Iter 395 | J: 140.820\n",
      "Iter 396 | J: 140.627\n",
      "Iter 397 | J: 140.433\n",
      "Iter 398 | J: 140.240\n",
      "Iter 399 | J: 140.048\n",
      "Iter 400 | J: 139.856\n",
      "Iter 401 | J: 139.664\n",
      "Iter 402 | J: 139.473\n",
      "Iter 403 | J: 139.282\n",
      "Iter 404 | J: 139.092\n",
      "Iter 405 | J: 138.902\n",
      "Iter 406 | J: 138.713\n",
      "Iter 407 | J: 138.524\n",
      "Iter 408 | J: 138.335\n",
      "Iter 409 | J: 138.147\n",
      "Iter 410 | J: 137.960\n",
      "Iter 411 | J: 137.772\n",
      "Iter 412 | J: 137.585\n",
      "Iter 413 | J: 137.399\n",
      "Iter 414 | J: 137.213\n",
      "Iter 415 | J: 137.028\n",
      "Iter 416 | J: 136.842\n",
      "Iter 417 | J: 136.658\n",
      "Iter 418 | J: 136.474\n",
      "Iter 419 | J: 136.290\n",
      "Iter 420 | J: 136.106\n",
      "Iter 421 | J: 135.923\n",
      "Iter 422 | J: 135.741\n",
      "Iter 423 | J: 135.559\n",
      "Iter 424 | J: 135.377\n",
      "Iter 425 | J: 135.196\n",
      "Iter 426 | J: 135.015\n",
      "Iter 427 | J: 134.834\n",
      "Iter 428 | J: 134.654\n",
      "Iter 429 | J: 134.474\n",
      "Iter 430 | J: 134.295\n",
      "Iter 431 | J: 134.116\n",
      "Iter 432 | J: 133.938\n",
      "Iter 433 | J: 133.760\n",
      "Iter 434 | J: 133.582\n",
      "Iter 435 | J: 133.405\n",
      "Iter 436 | J: 133.228\n",
      "Iter 437 | J: 133.052\n",
      "Iter 438 | J: 132.876\n",
      "Iter 439 | J: 132.700\n",
      "Iter 440 | J: 132.525\n",
      "Iter 441 | J: 132.350\n",
      "Iter 442 | J: 132.176\n",
      "Iter 443 | J: 132.002\n",
      "Iter 444 | J: 131.828\n",
      "Iter 445 | J: 131.655\n",
      "Iter 446 | J: 131.482\n",
      "Iter 447 | J: 131.310\n",
      "Iter 448 | J: 131.138\n",
      "Iter 449 | J: 130.966\n",
      "Iter 450 | J: 130.795\n",
      "Iter 451 | J: 130.624\n",
      "Iter 452 | J: 130.454\n",
      "Iter 453 | J: 130.284\n",
      "Iter 454 | J: 130.114\n",
      "Iter 455 | J: 129.945\n",
      "Iter 456 | J: 129.776\n",
      "Iter 457 | J: 129.608\n",
      "Iter 458 | J: 129.440\n",
      "Iter 459 | J: 129.272\n",
      "Iter 460 | J: 129.105\n",
      "Iter 461 | J: 128.938\n",
      "Iter 462 | J: 128.771\n",
      "Iter 463 | J: 128.605\n",
      "Iter 464 | J: 128.439\n",
      "Iter 465 | J: 128.274\n",
      "Iter 466 | J: 128.109\n",
      "Iter 467 | J: 127.944\n",
      "Iter 468 | J: 127.780\n",
      "Iter 469 | J: 127.616\n",
      "Iter 470 | J: 127.452\n",
      "Iter 471 | J: 127.289\n",
      "Iter 472 | J: 127.126\n",
      "Iter 473 | J: 126.964\n",
      "Iter 474 | J: 126.802\n",
      "Iter 475 | J: 126.640\n",
      "Iter 476 | J: 126.479\n",
      "Iter 477 | J: 126.318\n",
      "Iter 478 | J: 126.158\n",
      "Iter 479 | J: 125.997\n",
      "Iter 480 | J: 125.838\n",
      "Iter 481 | J: 125.678\n",
      "Iter 482 | J: 125.519\n",
      "Iter 483 | J: 125.360\n",
      "Iter 484 | J: 125.202\n",
      "Iter 485 | J: 125.044\n",
      "Iter 486 | J: 124.887\n",
      "Iter 487 | J: 124.729\n",
      "Iter 488 | J: 124.572\n",
      "Iter 489 | J: 124.416\n",
      "Iter 490 | J: 124.260\n",
      "Iter 491 | J: 124.104\n",
      "Iter 492 | J: 123.948\n",
      "Iter 493 | J: 123.793\n",
      "Iter 494 | J: 123.638\n",
      "Iter 495 | J: 123.484\n",
      "Iter 496 | J: 123.330\n",
      "Iter 497 | J: 123.176\n",
      "Iter 498 | J: 123.023\n",
      "Iter 499 | J: 122.870\n",
      "Iter 500 | J: 122.717\n",
      "Iter 501 | J: 122.565\n",
      "Iter 502 | J: 122.413\n",
      "Iter 503 | J: 122.262\n",
      "Iter 504 | J: 122.110\n",
      "Iter 505 | J: 121.959\n",
      "Iter 506 | J: 121.809\n",
      "Iter 507 | J: 121.659\n",
      "Iter 508 | J: 121.509\n",
      "Iter 509 | J: 121.359\n",
      "Iter 510 | J: 121.210\n",
      "Iter 511 | J: 121.061\n",
      "Iter 512 | J: 120.913\n",
      "Iter 513 | J: 120.765\n",
      "Iter 514 | J: 120.617\n",
      "Iter 515 | J: 120.469\n",
      "Iter 516 | J: 120.322\n",
      "Iter 517 | J: 120.176\n",
      "Iter 518 | J: 120.029\n",
      "Iter 519 | J: 119.883\n",
      "Iter 520 | J: 119.737\n",
      "Iter 521 | J: 119.592\n",
      "Iter 522 | J: 119.447\n",
      "Iter 523 | J: 119.302\n",
      "Iter 524 | J: 119.157\n",
      "Iter 525 | J: 119.013\n",
      "Iter 526 | J: 118.869\n",
      "Iter 527 | J: 118.726\n",
      "Iter 528 | J: 118.583\n",
      "Iter 529 | J: 118.440\n",
      "Iter 530 | J: 118.298\n",
      "Iter 531 | J: 118.155\n",
      "Iter 532 | J: 118.014\n",
      "Iter 533 | J: 117.872\n",
      "Iter 534 | J: 117.731\n",
      "Iter 535 | J: 117.590\n",
      "Iter 536 | J: 117.450\n",
      "Iter 537 | J: 117.309\n",
      "Iter 538 | J: 117.170\n",
      "Iter 539 | J: 117.030\n",
      "Iter 540 | J: 116.891\n",
      "Iter 541 | J: 116.752\n",
      "Iter 542 | J: 116.613\n",
      "Iter 543 | J: 116.475\n",
      "Iter 544 | J: 116.337\n",
      "Iter 545 | J: 116.199\n",
      "Iter 546 | J: 116.062\n",
      "Iter 547 | J: 115.925\n",
      "Iter 548 | J: 115.788\n",
      "Iter 549 | J: 115.652\n",
      "Iter 550 | J: 115.516\n",
      "Iter 551 | J: 115.380\n",
      "Iter 552 | J: 115.245\n",
      "Iter 553 | J: 115.109\n",
      "Iter 554 | J: 114.975\n",
      "Iter 555 | J: 114.840\n",
      "Iter 556 | J: 114.706\n",
      "Iter 557 | J: 114.572\n",
      "Iter 558 | J: 114.438\n",
      "Iter 559 | J: 114.305\n",
      "Iter 560 | J: 114.172\n",
      "Iter 561 | J: 114.039\n",
      "Iter 562 | J: 113.907\n",
      "Iter 563 | J: 113.775\n",
      "Iter 564 | J: 113.643\n",
      "Iter 565 | J: 113.512\n",
      "Iter 566 | J: 113.381\n",
      "Iter 567 | J: 113.250\n",
      "Iter 568 | J: 113.119\n",
      "Iter 569 | J: 112.989\n",
      "Iter 570 | J: 112.859\n",
      "Iter 571 | J: 112.729\n",
      "Iter 572 | J: 112.600\n",
      "Iter 573 | J: 112.471\n",
      "Iter 574 | J: 112.342\n",
      "Iter 575 | J: 112.213\n",
      "Iter 576 | J: 112.085\n",
      "Iter 577 | J: 111.957\n",
      "Iter 578 | J: 111.830\n",
      "Iter 579 | J: 111.702\n",
      "Iter 580 | J: 111.575\n",
      "Iter 581 | J: 111.449\n",
      "Iter 582 | J: 111.322\n",
      "Iter 583 | J: 111.196\n",
      "Iter 584 | J: 111.070\n",
      "Iter 585 | J: 110.945\n",
      "Iter 586 | J: 110.819\n",
      "Iter 587 | J: 110.694\n",
      "Iter 588 | J: 110.570\n",
      "Iter 589 | J: 110.445\n",
      "Iter 590 | J: 110.321\n",
      "Iter 591 | J: 110.197\n",
      "Iter 592 | J: 110.074\n",
      "Iter 593 | J: 109.950\n",
      "Iter 594 | J: 109.827\n",
      "Iter 595 | J: 109.705\n",
      "Iter 596 | J: 109.582\n",
      "Iter 597 | J: 109.460\n",
      "Iter 598 | J: 109.338\n",
      "Iter 599 | J: 109.217\n",
      "Iter 600 | J: 109.095\n",
      "Iter 601 | J: 108.974\n",
      "Iter 602 | J: 108.854\n",
      "Iter 603 | J: 108.733\n",
      "Iter 604 | J: 108.613\n",
      "Iter 605 | J: 108.493\n",
      "Iter 606 | J: 108.373\n",
      "Iter 607 | J: 108.254\n",
      "Iter 608 | J: 108.135\n",
      "Iter 609 | J: 108.016\n",
      "Iter 610 | J: 107.897\n",
      "Iter 611 | J: 107.779\n",
      "Iter 612 | J: 107.661\n",
      "Iter 613 | J: 107.543\n",
      "Iter 614 | J: 107.426\n",
      "Iter 615 | J: 107.309\n",
      "Iter 616 | J: 107.192\n",
      "Iter 617 | J: 107.075\n",
      "Iter 618 | J: 106.959\n",
      "Iter 619 | J: 106.842\n",
      "Iter 620 | J: 106.727\n",
      "Iter 621 | J: 106.611\n",
      "Iter 622 | J: 106.496\n",
      "Iter 623 | J: 106.381\n",
      "Iter 624 | J: 106.266\n",
      "Iter 625 | J: 106.151\n",
      "Iter 626 | J: 106.037\n",
      "Iter 627 | J: 105.923\n",
      "Iter 628 | J: 105.809\n",
      "Iter 629 | J: 105.696\n",
      "Iter 630 | J: 105.582\n",
      "Iter 631 | J: 105.469\n",
      "Iter 632 | J: 105.357\n",
      "Iter 633 | J: 105.244\n",
      "Iter 634 | J: 105.132\n",
      "Iter 635 | J: 105.020\n",
      "Iter 636 | J: 104.908\n",
      "Iter 637 | J: 104.797\n",
      "Iter 638 | J: 104.686\n",
      "Iter 639 | J: 104.575\n",
      "Iter 640 | J: 104.464\n",
      "Iter 641 | J: 104.354\n",
      "Iter 642 | J: 104.244\n",
      "Iter 643 | J: 104.134\n",
      "Iter 644 | J: 104.024\n",
      "Iter 645 | J: 103.915\n",
      "Iter 646 | J: 103.805\n",
      "Iter 647 | J: 103.697\n",
      "Iter 648 | J: 103.588\n",
      "Iter 649 | J: 103.479\n",
      "Iter 650 | J: 103.371\n",
      "Iter 651 | J: 103.263\n",
      "Iter 652 | J: 103.156\n",
      "Iter 653 | J: 103.048\n",
      "Iter 654 | J: 102.941\n",
      "Iter 655 | J: 102.834\n",
      "Iter 656 | J: 102.728\n",
      "Iter 657 | J: 102.621\n",
      "Iter 658 | J: 102.515\n",
      "Iter 659 | J: 102.409\n",
      "Iter 660 | J: 102.303\n",
      "Iter 661 | J: 102.198\n",
      "Iter 662 | J: 102.093\n",
      "Iter 663 | J: 101.988\n",
      "Iter 664 | J: 101.883\n",
      "Iter 665 | J: 101.778\n",
      "Iter 666 | J: 101.674\n",
      "Iter 667 | J: 101.570\n",
      "Iter 668 | J: 101.466\n",
      "Iter 669 | J: 101.363\n",
      "Iter 670 | J: 101.259\n",
      "Iter 671 | J: 101.156\n",
      "Iter 672 | J: 101.054\n",
      "Iter 673 | J: 100.951\n",
      "Iter 674 | J: 100.849\n",
      "Iter 675 | J: 100.747\n",
      "Iter 676 | J: 100.645\n",
      "Iter 677 | J: 100.543\n",
      "Iter 678 | J: 100.442\n",
      "Iter 679 | J: 100.340\n",
      "Iter 680 | J: 100.239\n",
      "Iter 681 | J: 100.139\n",
      "Iter 682 | J: 100.038\n",
      "Iter 683 | J: 99.938\n",
      "Iter 684 | J: 99.838\n",
      "Iter 685 | J: 99.738\n",
      "Iter 686 | J: 99.638\n",
      "Iter 687 | J: 99.539\n",
      "Iter 688 | J: 99.440\n",
      "Iter 689 | J: 99.341\n",
      "Iter 690 | J: 99.242\n",
      "Iter 691 | J: 99.144\n",
      "Iter 692 | J: 99.046\n",
      "Iter 693 | J: 98.948\n",
      "Iter 694 | J: 98.850\n",
      "Iter 695 | J: 98.753\n",
      "Iter 696 | J: 98.655\n",
      "Iter 697 | J: 98.558\n",
      "Iter 698 | J: 98.461\n",
      "Iter 699 | J: 98.365\n",
      "Iter 700 | J: 98.268\n",
      "Iter 701 | J: 98.172\n",
      "Iter 702 | J: 98.076\n",
      "Iter 703 | J: 97.980\n",
      "Iter 704 | J: 97.885\n",
      "Iter 705 | J: 97.789\n",
      "Iter 706 | J: 97.694\n",
      "Iter 707 | J: 97.599\n",
      "Iter 708 | J: 97.505\n",
      "Iter 709 | J: 97.410\n",
      "Iter 710 | J: 97.316\n",
      "Iter 711 | J: 97.222\n",
      "Iter 712 | J: 97.128\n",
      "Iter 713 | J: 97.035\n",
      "Iter 714 | J: 96.941\n",
      "Iter 715 | J: 96.848\n",
      "Iter 716 | J: 96.755\n",
      "Iter 717 | J: 96.662\n",
      "Iter 718 | J: 96.570\n",
      "Iter 719 | J: 96.478\n",
      "Iter 720 | J: 96.385\n",
      "Iter 721 | J: 96.294\n",
      "Iter 722 | J: 96.202\n",
      "Iter 723 | J: 96.110\n",
      "Iter 724 | J: 96.019\n",
      "Iter 725 | J: 95.928\n",
      "Iter 726 | J: 95.837\n",
      "Iter 727 | J: 95.747\n",
      "Iter 728 | J: 95.656\n",
      "Iter 729 | J: 95.566\n",
      "Iter 730 | J: 95.476\n",
      "Iter 731 | J: 95.386\n",
      "Iter 732 | J: 95.297\n",
      "Iter 733 | J: 95.207\n",
      "Iter 734 | J: 95.118\n",
      "Iter 735 | J: 95.029\n",
      "Iter 736 | J: 94.940\n",
      "Iter 737 | J: 94.852\n",
      "Iter 738 | J: 94.763\n",
      "Iter 739 | J: 94.675\n",
      "Iter 740 | J: 94.587\n",
      "Iter 741 | J: 94.499\n",
      "Iter 742 | J: 94.412\n",
      "Iter 743 | J: 94.324\n",
      "Iter 744 | J: 94.237\n",
      "Iter 745 | J: 94.150\n",
      "Iter 746 | J: 94.064\n",
      "Iter 747 | J: 93.977\n",
      "Iter 748 | J: 93.891\n",
      "Iter 749 | J: 93.805\n",
      "Iter 750 | J: 93.719\n",
      "Iter 751 | J: 93.633\n",
      "Iter 752 | J: 93.547\n",
      "Iter 753 | J: 93.462\n",
      "Iter 754 | J: 93.377\n",
      "Iter 755 | J: 93.292\n",
      "Iter 756 | J: 93.207\n",
      "Iter 757 | J: 93.122\n",
      "Iter 758 | J: 93.038\n",
      "Iter 759 | J: 92.954\n",
      "Iter 760 | J: 92.870\n",
      "Iter 761 | J: 92.786\n",
      "Iter 762 | J: 92.702\n",
      "Iter 763 | J: 92.619\n",
      "Iter 764 | J: 92.535\n",
      "Iter 765 | J: 92.452\n",
      "Iter 766 | J: 92.370\n",
      "Iter 767 | J: 92.287\n",
      "Iter 768 | J: 92.204\n",
      "Iter 769 | J: 92.122\n",
      "Iter 770 | J: 92.040\n",
      "Iter 771 | J: 91.958\n",
      "Iter 772 | J: 91.876\n",
      "Iter 773 | J: 91.795\n",
      "Iter 774 | J: 91.713\n",
      "Iter 775 | J: 91.632\n",
      "Iter 776 | J: 91.551\n",
      "Iter 777 | J: 91.470\n",
      "Iter 778 | J: 91.390\n",
      "Iter 779 | J: 91.309\n",
      "Iter 780 | J: 91.229\n",
      "Iter 781 | J: 91.149\n",
      "Iter 782 | J: 91.069\n",
      "Iter 783 | J: 90.990\n",
      "Iter 784 | J: 90.910\n",
      "Iter 785 | J: 90.831\n",
      "Iter 786 | J: 90.752\n",
      "Iter 787 | J: 90.673\n",
      "Iter 788 | J: 90.594\n",
      "Iter 789 | J: 90.515\n",
      "Iter 790 | J: 90.437\n",
      "Iter 791 | J: 90.359\n",
      "Iter 792 | J: 90.281\n",
      "Iter 793 | J: 90.203\n",
      "Iter 794 | J: 90.125\n",
      "Iter 795 | J: 90.047\n",
      "Iter 796 | J: 89.970\n",
      "Iter 797 | J: 89.893\n",
      "Iter 798 | J: 89.816\n",
      "Iter 799 | J: 89.739\n",
      "Iter 800 | J: 89.662\n",
      "Iter 801 | J: 89.586\n",
      "Iter 802 | J: 89.510\n",
      "Iter 803 | J: 89.434\n",
      "Iter 804 | J: 89.358\n",
      "Iter 805 | J: 89.282\n",
      "Iter 806 | J: 89.206\n",
      "Iter 807 | J: 89.131\n",
      "Iter 808 | J: 89.056\n",
      "Iter 809 | J: 88.981\n",
      "Iter 810 | J: 88.906\n",
      "Iter 811 | J: 88.831\n",
      "Iter 812 | J: 88.756\n",
      "Iter 813 | J: 88.682\n",
      "Iter 814 | J: 88.608\n",
      "Iter 815 | J: 88.534\n",
      "Iter 816 | J: 88.460\n",
      "Iter 817 | J: 88.386\n",
      "Iter 818 | J: 88.313\n",
      "Iter 819 | J: 88.239\n",
      "Iter 820 | J: 88.166\n",
      "Iter 821 | J: 88.093\n",
      "Iter 822 | J: 88.020\n",
      "Iter 823 | J: 87.947\n",
      "Iter 824 | J: 87.875\n",
      "Iter 825 | J: 87.802\n",
      "Iter 826 | J: 87.730\n",
      "Iter 827 | J: 87.658\n",
      "Iter 828 | J: 87.586\n",
      "Iter 829 | J: 87.515\n",
      "Iter 830 | J: 87.443\n",
      "Iter 831 | J: 87.372\n",
      "Iter 832 | J: 87.301\n",
      "Iter 833 | J: 87.229\n",
      "Iter 834 | J: 87.159\n",
      "Iter 835 | J: 87.088\n",
      "Iter 836 | J: 87.017\n",
      "Iter 837 | J: 86.947\n",
      "Iter 838 | J: 86.877\n",
      "Iter 839 | J: 86.807\n",
      "Iter 840 | J: 86.737\n",
      "Iter 841 | J: 86.667\n",
      "Iter 842 | J: 86.597\n",
      "Iter 843 | J: 86.528\n",
      "Iter 844 | J: 86.459\n",
      "Iter 845 | J: 86.389\n",
      "Iter 846 | J: 86.321\n",
      "Iter 847 | J: 86.252\n",
      "Iter 848 | J: 86.183\n",
      "Iter 849 | J: 86.115\n",
      "Iter 850 | J: 86.046\n",
      "Iter 851 | J: 85.978\n",
      "Iter 852 | J: 85.910\n",
      "Iter 853 | J: 85.842\n",
      "Iter 854 | J: 85.775\n",
      "Iter 855 | J: 85.707\n",
      "Iter 856 | J: 85.640\n",
      "Iter 857 | J: 85.572\n",
      "Iter 858 | J: 85.505\n",
      "Iter 859 | J: 85.438\n",
      "Iter 860 | J: 85.372\n",
      "Iter 861 | J: 85.305\n",
      "Iter 862 | J: 85.238\n",
      "Iter 863 | J: 85.172\n",
      "Iter 864 | J: 85.106\n",
      "Iter 865 | J: 85.040\n",
      "Iter 866 | J: 84.974\n",
      "Iter 867 | J: 84.908\n",
      "Iter 868 | J: 84.843\n",
      "Iter 869 | J: 84.777\n",
      "Iter 870 | J: 84.712\n",
      "Iter 871 | J: 84.647\n",
      "Iter 872 | J: 84.582\n",
      "Iter 873 | J: 84.517\n",
      "Iter 874 | J: 84.453\n",
      "Iter 875 | J: 84.388\n",
      "Iter 876 | J: 84.324\n",
      "Iter 877 | J: 84.259\n",
      "Iter 878 | J: 84.195\n",
      "Iter 879 | J: 84.131\n",
      "Iter 880 | J: 84.068\n",
      "Iter 881 | J: 84.004\n",
      "Iter 882 | J: 83.941\n",
      "Iter 883 | J: 83.877\n",
      "Iter 884 | J: 83.814\n",
      "Iter 885 | J: 83.751\n",
      "Iter 886 | J: 83.688\n",
      "Iter 887 | J: 83.625\n",
      "Iter 888 | J: 83.563\n",
      "Iter 889 | J: 83.500\n",
      "Iter 890 | J: 83.438\n",
      "Iter 891 | J: 83.376\n",
      "Iter 892 | J: 83.314\n",
      "Iter 893 | J: 83.252\n",
      "Iter 894 | J: 83.190\n",
      "Iter 895 | J: 83.128\n",
      "Iter 896 | J: 83.067\n",
      "Iter 897 | J: 83.006\n",
      "Iter 898 | J: 82.944\n",
      "Iter 899 | J: 82.883\n",
      "Iter 900 | J: 82.822\n",
      "Iter 901 | J: 82.762\n",
      "Iter 902 | J: 82.701\n",
      "Iter 903 | J: 82.640\n",
      "Iter 904 | J: 82.580\n",
      "Iter 905 | J: 82.520\n",
      "Iter 906 | J: 82.460\n",
      "Iter 907 | J: 82.400\n",
      "Iter 908 | J: 82.340\n",
      "Iter 909 | J: 82.280\n",
      "Iter 910 | J: 82.221\n",
      "Iter 911 | J: 82.161\n",
      "Iter 912 | J: 82.102\n",
      "Iter 913 | J: 82.043\n",
      "Iter 914 | J: 81.984\n",
      "Iter 915 | J: 81.925\n",
      "Iter 916 | J: 81.866\n",
      "Iter 917 | J: 81.808\n",
      "Iter 918 | J: 81.749\n",
      "Iter 919 | J: 81.691\n",
      "Iter 920 | J: 81.633\n",
      "Iter 921 | J: 81.575\n",
      "Iter 922 | J: 81.517\n",
      "Iter 923 | J: 81.459\n",
      "Iter 924 | J: 81.402\n",
      "Iter 925 | J: 81.344\n",
      "Iter 926 | J: 81.287\n",
      "Iter 927 | J: 81.229\n",
      "Iter 928 | J: 81.172\n",
      "Iter 929 | J: 81.115\n",
      "Iter 930 | J: 81.058\n",
      "Iter 931 | J: 81.002\n",
      "Iter 932 | J: 80.945\n",
      "Iter 933 | J: 80.889\n",
      "Iter 934 | J: 80.832\n",
      "Iter 935 | J: 80.776\n",
      "Iter 936 | J: 80.720\n",
      "Iter 937 | J: 80.664\n",
      "Iter 938 | J: 80.608\n",
      "Iter 939 | J: 80.552\n",
      "Iter 940 | J: 80.497\n",
      "Iter 941 | J: 80.441\n",
      "Iter 942 | J: 80.386\n",
      "Iter 943 | J: 80.331\n",
      "Iter 944 | J: 80.276\n",
      "Iter 945 | J: 80.221\n",
      "Iter 946 | J: 80.166\n",
      "Iter 947 | J: 80.111\n",
      "Iter 948 | J: 80.057\n",
      "Iter 949 | J: 80.002\n",
      "Iter 950 | J: 79.948\n",
      "Iter 951 | J: 79.894\n",
      "Iter 952 | J: 79.840\n",
      "Iter 953 | J: 79.786\n",
      "Iter 954 | J: 79.732\n",
      "Iter 955 | J: 79.678\n",
      "Iter 956 | J: 79.625\n",
      "Iter 957 | J: 79.571\n",
      "Iter 958 | J: 79.518\n",
      "Iter 959 | J: 79.465\n",
      "Iter 960 | J: 79.412\n",
      "Iter 961 | J: 79.359\n",
      "Iter 962 | J: 79.306\n",
      "Iter 963 | J: 79.253\n",
      "Iter 964 | J: 79.201\n",
      "Iter 965 | J: 79.148\n",
      "Iter 966 | J: 79.096\n",
      "Iter 967 | J: 79.044\n",
      "Iter 968 | J: 78.992\n",
      "Iter 969 | J: 78.940\n",
      "Iter 970 | J: 78.888\n",
      "Iter 971 | J: 78.836\n",
      "Iter 972 | J: 78.784\n",
      "Iter 973 | J: 78.733\n",
      "Iter 974 | J: 78.681\n",
      "Iter 975 | J: 78.630\n",
      "Iter 976 | J: 78.579\n",
      "Iter 977 | J: 78.528\n",
      "Iter 978 | J: 78.477\n",
      "Iter 979 | J: 78.426\n",
      "Iter 980 | J: 78.375\n",
      "Iter 981 | J: 78.325\n",
      "Iter 982 | J: 78.274\n",
      "Iter 983 | J: 78.224\n",
      "Iter 984 | J: 78.174\n",
      "Iter 985 | J: 78.124\n",
      "Iter 986 | J: 78.074\n",
      "Iter 987 | J: 78.024\n",
      "Iter 988 | J: 77.974\n",
      "Iter 989 | J: 77.924\n",
      "Iter 990 | J: 77.875\n",
      "Iter 991 | J: 77.825\n",
      "Iter 992 | J: 77.776\n",
      "Iter 993 | J: 77.727\n",
      "Iter 994 | J: 77.678\n",
      "Iter 995 | J: 77.629\n",
      "Iter 996 | J: 77.580\n",
      "Iter 997 | J: 77.531\n",
      "Iter 998 | J: 77.483\n",
      "Iter 999 | J: 77.434\n"
     ]
    }
   ],
   "source": [
    "m = diemToan.size\n",
    "X = np.c_[np.ones(m),diemToan]\n",
    "y = IQ\n",
    "alpha=0.01\n",
    "theta = gradient_descent_2(alpha,X,y,1000)"
   ]
  },
  {
   "cell_type": "code",
   "execution_count": 78,
   "metadata": {},
   "outputs": [
    {
     "data": {
      "text/plain": [
       "array([[1. , 2. ],\n",
       "       [1. , 8.4],\n",
       "       [1. , 7.6],\n",
       "       [1. , 3. ],\n",
       "       [1. , 4.4]])"
      ]
     },
     "execution_count": 78,
     "metadata": {},
     "output_type": "execute_result"
    }
   ],
   "source": [
    "X[0:5]"
   ]
  },
  {
   "cell_type": "code",
   "execution_count": 79,
   "metadata": {},
   "outputs": [
    {
     "name": "stdout",
     "output_type": "stream",
     "text": [
      "m =  11.611847919445205 b = 44.28350236491087\n"
     ]
    }
   ],
   "source": [
    "print(\"m = \",theta[1], \"b =\",theta[0])"
   ]
  },
  {
   "cell_type": "code",
   "execution_count": 80,
   "metadata": {},
   "outputs": [],
   "source": [
    "for i in range(X.shape[1]):\n",
    "    IQ_predict = theta[1]*X+theta[0]"
   ]
  },
  {
   "cell_type": "code",
   "execution_count": 81,
   "metadata": {},
   "outputs": [
    {
     "data": {
      "image/png": "[encoded data removed]",
      "text/plain": [
       "<Figure size 864x576 with 1 Axes>"
      ]
     },
     "metadata": {
      "needs_background": "light"
     },
     "output_type": "display_data"
    }
   ],
   "source": [
    "plt.figure(figsize=(12,8))\n",
    "plt.xlim(0,10)\n",
    "plt.ylim(60,200)\n",
    "plt.scatter(X[:,1],IQ,color='green')\n",
    "plt.plot(X,IQ_predict)\n",
    "plt.xlabel(\"diemToan\")\n",
    "plt.ylabel(\"IQ\")\n",
    "plt.show()"
   ]
  },
  {
   "cell_type": "code",
   "execution_count": 82,
   "metadata": {},
   "outputs": [
    {
     "data": {
      "text/plain": [
       "array([ 68., 102., 137., 155.])"
      ]
     },
     "execution_count": 82,
     "metadata": {},
     "output_type": "execute_result"
    }
   ],
   "source": [
    "diem = np.array([2.0,5.0,8.0,9.5])\n",
    "I_Q = theta[1]*diem+theta[0]\n",
    "I_Q=np.round(I_Q)\n",
    "I_Q"
   ]
  },
  {
   "cell_type": "code",
   "execution_count": null,
   "metadata": {},
   "outputs": [],
   "source": []
  }
 ],
 "metadata": {
  "kernelspec": {
   "display_name": "Python 3",
   "language": "python",
   "name": "python3"
  },
  "language_info": {
   "codemirror_mode": {
    "name": "ipython",
    "version": 3
   },
   "file_extension": ".py",
   "mimetype": "text/x-python",
   "name": "python",
   "nbconvert_exporter": "python",
   "pygments_lexer": "ipython3",
   "version": "3.7.4"
  }
 },
 "nbformat": 4,
 "nbformat_minor": 2
}
