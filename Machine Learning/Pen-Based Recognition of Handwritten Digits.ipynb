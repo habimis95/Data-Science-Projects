{
 "cells": [
  {
   "cell_type": "code",
   "execution_count": 32,
   "metadata": {},
   "outputs": [],
   "source": [
    "import pandas as pd\n",
    "import numpy as np\n",
    "import matplotlib.pyplot as plt\n",
    "%matplotlib inline\n",
    "import seaborn as sns"
   ]
  },
  {
   "cell_type": "code",
   "execution_count": 33,
   "metadata": {},
   "outputs": [
    {
     "data": {
      "text/html": [
       "<div>\n",
       "<style scoped>\n",
       "    .dataframe tbody tr th:only-of-type {\n",
       "        vertical-align: middle;\n",
       "    }\n",
       "\n",
       "    .dataframe tbody tr th {\n",
       "        vertical-align: top;\n",
       "    }\n",
       "\n",
       "    .dataframe thead th {\n",
       "        text-align: right;\n",
       "    }\n",
       "</style>\n",
       "<table border=\"1\" class=\"dataframe\">\n",
       "  <thead>\n",
       "    <tr style=\"text-align: right;\">\n",
       "      <th></th>\n",
       "      <th>0</th>\n",
       "      <th>57</th>\n",
       "      <th>31</th>\n",
       "      <th>68</th>\n",
       "      <th>72</th>\n",
       "      <th>90</th>\n",
       "      <th>100</th>\n",
       "      <th>100.1</th>\n",
       "      <th>76</th>\n",
       "      <th>75</th>\n",
       "      <th>50</th>\n",
       "      <th>51</th>\n",
       "      <th>28</th>\n",
       "      <th>25</th>\n",
       "      <th>16</th>\n",
       "      <th>0</th>\n",
       "      <th>1</th>\n",
       "    </tr>\n",
       "  </thead>\n",
       "  <tbody>\n",
       "    <tr>\n",
       "      <th>0</th>\n",
       "      <td>99</td>\n",
       "      <td>80</td>\n",
       "      <td>63</td>\n",
       "      <td>100</td>\n",
       "      <td>25</td>\n",
       "      <td>76</td>\n",
       "      <td>79</td>\n",
       "      <td>68</td>\n",
       "      <td>100</td>\n",
       "      <td>62</td>\n",
       "      <td>97</td>\n",
       "      <td>23</td>\n",
       "      <td>54</td>\n",
       "      <td>0</td>\n",
       "      <td>0</td>\n",
       "      <td>16</td>\n",
       "      <td>9</td>\n",
       "    </tr>\n",
       "    <tr>\n",
       "      <th>1</th>\n",
       "      <td>0</td>\n",
       "      <td>73</td>\n",
       "      <td>19</td>\n",
       "      <td>99</td>\n",
       "      <td>72</td>\n",
       "      <td>100</td>\n",
       "      <td>70</td>\n",
       "      <td>73</td>\n",
       "      <td>32</td>\n",
       "      <td>48</td>\n",
       "      <td>5</td>\n",
       "      <td>18</td>\n",
       "      <td>46</td>\n",
       "      <td>0</td>\n",
       "      <td>100</td>\n",
       "      <td>72</td>\n",
       "      <td>2</td>\n",
       "    </tr>\n",
       "    <tr>\n",
       "      <th>2</th>\n",
       "      <td>12</td>\n",
       "      <td>77</td>\n",
       "      <td>20</td>\n",
       "      <td>62</td>\n",
       "      <td>78</td>\n",
       "      <td>40</td>\n",
       "      <td>50</td>\n",
       "      <td>0</td>\n",
       "      <td>1</td>\n",
       "      <td>17</td>\n",
       "      <td>0</td>\n",
       "      <td>64</td>\n",
       "      <td>23</td>\n",
       "      <td>98</td>\n",
       "      <td>100</td>\n",
       "      <td>100</td>\n",
       "      <td>5</td>\n",
       "    </tr>\n",
       "    <tr>\n",
       "      <th>3</th>\n",
       "      <td>0</td>\n",
       "      <td>98</td>\n",
       "      <td>36</td>\n",
       "      <td>42</td>\n",
       "      <td>80</td>\n",
       "      <td>85</td>\n",
       "      <td>68</td>\n",
       "      <td>42</td>\n",
       "      <td>56</td>\n",
       "      <td>0</td>\n",
       "      <td>25</td>\n",
       "      <td>23</td>\n",
       "      <td>50</td>\n",
       "      <td>37</td>\n",
       "      <td>100</td>\n",
       "      <td>32</td>\n",
       "      <td>7</td>\n",
       "    </tr>\n",
       "    <tr>\n",
       "      <th>4</th>\n",
       "      <td>29</td>\n",
       "      <td>91</td>\n",
       "      <td>6</td>\n",
       "      <td>57</td>\n",
       "      <td>66</td>\n",
       "      <td>39</td>\n",
       "      <td>30</td>\n",
       "      <td>0</td>\n",
       "      <td>81</td>\n",
       "      <td>19</td>\n",
       "      <td>3</td>\n",
       "      <td>72</td>\n",
       "      <td>39</td>\n",
       "      <td>97</td>\n",
       "      <td>100</td>\n",
       "      <td>100</td>\n",
       "      <td>5</td>\n",
       "    </tr>\n",
       "  </tbody>\n",
       "</table>\n",
       "</div>"
      ],
      "text/plain": [
       "    0   57   31   68   72   90   100   100.1   76   75   50   51   28   25  \\\n",
       "0  99   80   63  100   25   76    79      68  100   62   97   23   54    0   \n",
       "1   0   73   19   99   72  100    70      73   32   48    5   18   46    0   \n",
       "2  12   77   20   62   78   40    50       0    1   17    0   64   23   98   \n",
       "3   0   98   36   42   80   85    68      42   56    0   25   23   50   37   \n",
       "4  29   91    6   57   66   39    30       0   81   19    3   72   39   97   \n",
       "\n",
       "    16    0   1  \n",
       "0    0   16   9  \n",
       "1  100   72   2  \n",
       "2  100  100   5  \n",
       "3  100   32   7  \n",
       "4  100  100   5  "
      ]
     },
     "execution_count": 33,
     "metadata": {},
     "output_type": "execute_result"
    }
   ],
   "source": [
    "data = pd.read_csv('data/penbased-5an-nn.csv')\n",
    "data.head()"
   ]
  },
  {
   "cell_type": "code",
   "execution_count": 34,
   "metadata": {},
   "outputs": [
    {
     "name": "stdout",
     "output_type": "stream",
     "text": [
      "<class 'pandas.core.frame.DataFrame'>\n",
      "RangeIndex: 10991 entries, 0 to 10990\n",
      "Data columns (total 17 columns):\n",
      " #   Column  Non-Null Count  Dtype\n",
      "---  ------  --------------  -----\n",
      " 0   0       10991 non-null  int64\n",
      " 1    57     10991 non-null  int64\n",
      " 2    31     10991 non-null  int64\n",
      " 3    68     10991 non-null  int64\n",
      " 4    72     10991 non-null  int64\n",
      " 5    90     10991 non-null  int64\n",
      " 6    100    10991 non-null  int64\n",
      " 7    100.1  10991 non-null  int64\n",
      " 8    76     10991 non-null  int64\n",
      " 9    75     10991 non-null  int64\n",
      " 10   50     10991 non-null  int64\n",
      " 11   51     10991 non-null  int64\n",
      " 12   28     10991 non-null  int64\n",
      " 13   25     10991 non-null  int64\n",
      " 14   16     10991 non-null  int64\n",
      " 15   0      10991 non-null  int64\n",
      " 16   1      10991 non-null  int64\n",
      "dtypes: int64(17)\n",
      "memory usage: 1.4 MB\n"
     ]
    }
   ],
   "source": [
    "data.info()"
   ]
  },
  {
   "cell_type": "code",
   "execution_count": 35,
   "metadata": {},
   "outputs": [
    {
     "data": {
      "text/html": [
       "<div>\n",
       "<style scoped>\n",
       "    .dataframe tbody tr th:only-of-type {\n",
       "        vertical-align: middle;\n",
       "    }\n",
       "\n",
       "    .dataframe tbody tr th {\n",
       "        vertical-align: top;\n",
       "    }\n",
       "\n",
       "    .dataframe thead th {\n",
       "        text-align: right;\n",
       "    }\n",
       "</style>\n",
       "<table border=\"1\" class=\"dataframe\">\n",
       "  <thead>\n",
       "    <tr style=\"text-align: right;\">\n",
       "      <th></th>\n",
       "      <th>0</th>\n",
       "      <th>57</th>\n",
       "      <th>31</th>\n",
       "      <th>68</th>\n",
       "      <th>72</th>\n",
       "      <th>90</th>\n",
       "      <th>100</th>\n",
       "      <th>100.1</th>\n",
       "      <th>76</th>\n",
       "      <th>75</th>\n",
       "      <th>50</th>\n",
       "      <th>51</th>\n",
       "      <th>28</th>\n",
       "      <th>25</th>\n",
       "      <th>16</th>\n",
       "      <th>0</th>\n",
       "    </tr>\n",
       "  </thead>\n",
       "  <tbody>\n",
       "    <tr>\n",
       "      <th>0</th>\n",
       "      <td>99</td>\n",
       "      <td>80</td>\n",
       "      <td>63</td>\n",
       "      <td>100</td>\n",
       "      <td>25</td>\n",
       "      <td>76</td>\n",
       "      <td>79</td>\n",
       "      <td>68</td>\n",
       "      <td>100</td>\n",
       "      <td>62</td>\n",
       "      <td>97</td>\n",
       "      <td>23</td>\n",
       "      <td>54</td>\n",
       "      <td>0</td>\n",
       "      <td>0</td>\n",
       "      <td>16</td>\n",
       "    </tr>\n",
       "    <tr>\n",
       "      <th>1</th>\n",
       "      <td>0</td>\n",
       "      <td>73</td>\n",
       "      <td>19</td>\n",
       "      <td>99</td>\n",
       "      <td>72</td>\n",
       "      <td>100</td>\n",
       "      <td>70</td>\n",
       "      <td>73</td>\n",
       "      <td>32</td>\n",
       "      <td>48</td>\n",
       "      <td>5</td>\n",
       "      <td>18</td>\n",
       "      <td>46</td>\n",
       "      <td>0</td>\n",
       "      <td>100</td>\n",
       "      <td>72</td>\n",
       "    </tr>\n",
       "    <tr>\n",
       "      <th>2</th>\n",
       "      <td>12</td>\n",
       "      <td>77</td>\n",
       "      <td>20</td>\n",
       "      <td>62</td>\n",
       "      <td>78</td>\n",
       "      <td>40</td>\n",
       "      <td>50</td>\n",
       "      <td>0</td>\n",
       "      <td>1</td>\n",
       "      <td>17</td>\n",
       "      <td>0</td>\n",
       "      <td>64</td>\n",
       "      <td>23</td>\n",
       "      <td>98</td>\n",
       "      <td>100</td>\n",
       "      <td>100</td>\n",
       "    </tr>\n",
       "    <tr>\n",
       "      <th>3</th>\n",
       "      <td>0</td>\n",
       "      <td>98</td>\n",
       "      <td>36</td>\n",
       "      <td>42</td>\n",
       "      <td>80</td>\n",
       "      <td>85</td>\n",
       "      <td>68</td>\n",
       "      <td>42</td>\n",
       "      <td>56</td>\n",
       "      <td>0</td>\n",
       "      <td>25</td>\n",
       "      <td>23</td>\n",
       "      <td>50</td>\n",
       "      <td>37</td>\n",
       "      <td>100</td>\n",
       "      <td>32</td>\n",
       "    </tr>\n",
       "    <tr>\n",
       "      <th>4</th>\n",
       "      <td>29</td>\n",
       "      <td>91</td>\n",
       "      <td>6</td>\n",
       "      <td>57</td>\n",
       "      <td>66</td>\n",
       "      <td>39</td>\n",
       "      <td>30</td>\n",
       "      <td>0</td>\n",
       "      <td>81</td>\n",
       "      <td>19</td>\n",
       "      <td>3</td>\n",
       "      <td>72</td>\n",
       "      <td>39</td>\n",
       "      <td>97</td>\n",
       "      <td>100</td>\n",
       "      <td>100</td>\n",
       "    </tr>\n",
       "  </tbody>\n",
       "</table>\n",
       "</div>"
      ],
      "text/plain": [
       "    0   57   31   68   72   90   100   100.1   76   75   50   51   28   25  \\\n",
       "0  99   80   63  100   25   76    79      68  100   62   97   23   54    0   \n",
       "1   0   73   19   99   72  100    70      73   32   48    5   18   46    0   \n",
       "2  12   77   20   62   78   40    50       0    1   17    0   64   23   98   \n",
       "3   0   98   36   42   80   85    68      42   56    0   25   23   50   37   \n",
       "4  29   91    6   57   66   39    30       0   81   19    3   72   39   97   \n",
       "\n",
       "    16    0  \n",
       "0    0   16  \n",
       "1  100   72  \n",
       "2  100  100  \n",
       "3  100   32  \n",
       "4  100  100  "
      ]
     },
     "execution_count": 35,
     "metadata": {},
     "output_type": "execute_result"
    }
   ],
   "source": [
    "X = data.iloc[:,:-1]\n",
    "X.head()"
   ]
  },
  {
   "cell_type": "code",
   "execution_count": 36,
   "metadata": {},
   "outputs": [
    {
     "data": {
      "text/plain": [
       "Text(0, 0.5, 'Power spectral density (normalized)')"
      ]
     },
     "execution_count": 36,
     "metadata": {},
     "output_type": "execute_result"
    },
    {
     "data": {
      "image/png": "[encoded data removed]",
      "text/plain": [
       "<Figure size 1440x720 with 1 Axes>"
      ]
     },
     "metadata": {
      "needs_background": "light"
     },
     "output_type": "display_data"
    }
   ],
   "source": [
    "X.plot.box(figsize=(20,10),xticks=[])\n",
    "plt.title('Boxplots of all frequency bins')\n",
    "plt.xlabel('Frequency bin')\n",
    "plt.ylabel('Power spectral density (normalized)')"
   ]
  },
  {
   "cell_type": "code",
   "execution_count": 37,
   "metadata": {},
   "outputs": [
    {
     "data": {
      "text/html": [
       "<div>\n",
       "<style scoped>\n",
       "    .dataframe tbody tr th:only-of-type {\n",
       "        vertical-align: middle;\n",
       "    }\n",
       "\n",
       "    .dataframe tbody tr th {\n",
       "        vertical-align: top;\n",
       "    }\n",
       "\n",
       "    .dataframe thead th {\n",
       "        text-align: right;\n",
       "    }\n",
       "</style>\n",
       "<table border=\"1\" class=\"dataframe\">\n",
       "  <thead>\n",
       "    <tr style=\"text-align: right;\">\n",
       "      <th></th>\n",
       "      <th>0</th>\n",
       "      <th>57</th>\n",
       "      <th>31</th>\n",
       "      <th>68</th>\n",
       "      <th>72</th>\n",
       "      <th>90</th>\n",
       "      <th>100</th>\n",
       "      <th>100.1</th>\n",
       "      <th>76</th>\n",
       "      <th>75</th>\n",
       "      <th>50</th>\n",
       "      <th>51</th>\n",
       "      <th>28</th>\n",
       "      <th>25</th>\n",
       "      <th>16</th>\n",
       "      <th>0</th>\n",
       "    </tr>\n",
       "  </thead>\n",
       "  <tbody>\n",
       "    <tr>\n",
       "      <th>count</th>\n",
       "      <td>10991.000000</td>\n",
       "      <td>10991.000000</td>\n",
       "      <td>10991.000000</td>\n",
       "      <td>10991.000000</td>\n",
       "      <td>10991.000000</td>\n",
       "      <td>10991.000000</td>\n",
       "      <td>10991.000000</td>\n",
       "      <td>10991.000000</td>\n",
       "      <td>10991.000000</td>\n",
       "      <td>10991.000000</td>\n",
       "      <td>10991.000000</td>\n",
       "      <td>10991.000000</td>\n",
       "      <td>10991.000000</td>\n",
       "      <td>10991.000000</td>\n",
       "      <td>10991.000000</td>\n",
       "      <td>10991.000000</td>\n",
       "    </tr>\n",
       "    <tr>\n",
       "      <th>mean</th>\n",
       "      <td>39.508871</td>\n",
       "      <td>83.221545</td>\n",
       "      <td>41.047402</td>\n",
       "      <td>82.075789</td>\n",
       "      <td>49.762351</td>\n",
       "      <td>64.790738</td>\n",
       "      <td>51.256937</td>\n",
       "      <td>44.672550</td>\n",
       "      <td>56.447457</td>\n",
       "      <td>34.553362</td>\n",
       "      <td>60.087799</td>\n",
       "      <td>35.705031</td>\n",
       "      <td>54.604495</td>\n",
       "      <td>35.654990</td>\n",
       "      <td>47.384678</td>\n",
       "      <td>29.787644</td>\n",
       "    </tr>\n",
       "    <tr>\n",
       "      <th>std</th>\n",
       "      <td>34.184852</td>\n",
       "      <td>19.043429</td>\n",
       "      <td>26.652911</td>\n",
       "      <td>21.033956</td>\n",
       "      <td>33.840402</td>\n",
       "      <td>27.323980</td>\n",
       "      <td>30.510892</td>\n",
       "      <td>29.880944</td>\n",
       "      <td>33.935001</td>\n",
       "      <td>27.597455</td>\n",
       "      <td>36.955062</td>\n",
       "      <td>27.482024</td>\n",
       "      <td>22.819212</td>\n",
       "      <td>33.128173</td>\n",
       "      <td>41.268168</td>\n",
       "      <td>35.722195</td>\n",
       "    </tr>\n",
       "    <tr>\n",
       "      <th>min</th>\n",
       "      <td>0.000000</td>\n",
       "      <td>0.000000</td>\n",
       "      <td>0.000000</td>\n",
       "      <td>0.000000</td>\n",
       "      <td>0.000000</td>\n",
       "      <td>0.000000</td>\n",
       "      <td>0.000000</td>\n",
       "      <td>0.000000</td>\n",
       "      <td>0.000000</td>\n",
       "      <td>0.000000</td>\n",
       "      <td>0.000000</td>\n",
       "      <td>0.000000</td>\n",
       "      <td>0.000000</td>\n",
       "      <td>0.000000</td>\n",
       "      <td>0.000000</td>\n",
       "      <td>0.000000</td>\n",
       "    </tr>\n",
       "    <tr>\n",
       "      <th>25%</th>\n",
       "      <td>7.000000</td>\n",
       "      <td>75.000000</td>\n",
       "      <td>20.000000</td>\n",
       "      <td>70.000000</td>\n",
       "      <td>18.000000</td>\n",
       "      <td>48.000000</td>\n",
       "      <td>28.000000</td>\n",
       "      <td>23.000000</td>\n",
       "      <td>28.000000</td>\n",
       "      <td>8.000000</td>\n",
       "      <td>24.000000</td>\n",
       "      <td>12.000000</td>\n",
       "      <td>41.000000</td>\n",
       "      <td>6.000000</td>\n",
       "      <td>0.000000</td>\n",
       "      <td>0.000000</td>\n",
       "    </tr>\n",
       "    <tr>\n",
       "      <th>50%</th>\n",
       "      <td>33.000000</td>\n",
       "      <td>88.000000</td>\n",
       "      <td>40.000000</td>\n",
       "      <td>89.000000</td>\n",
       "      <td>53.000000</td>\n",
       "      <td>70.000000</td>\n",
       "      <td>54.000000</td>\n",
       "      <td>43.000000</td>\n",
       "      <td>59.000000</td>\n",
       "      <td>34.000000</td>\n",
       "      <td>72.000000</td>\n",
       "      <td>31.000000</td>\n",
       "      <td>53.000000</td>\n",
       "      <td>28.000000</td>\n",
       "      <td>41.000000</td>\n",
       "      <td>11.000000</td>\n",
       "    </tr>\n",
       "    <tr>\n",
       "      <th>75%</th>\n",
       "      <td>66.000000</td>\n",
       "      <td>100.000000</td>\n",
       "      <td>59.000000</td>\n",
       "      <td>100.000000</td>\n",
       "      <td>78.000000</td>\n",
       "      <td>86.000000</td>\n",
       "      <td>74.000000</td>\n",
       "      <td>64.500000</td>\n",
       "      <td>88.000000</td>\n",
       "      <td>55.000000</td>\n",
       "      <td>96.000000</td>\n",
       "      <td>57.000000</td>\n",
       "      <td>68.000000</td>\n",
       "      <td>51.000000</td>\n",
       "      <td>100.000000</td>\n",
       "      <td>55.000000</td>\n",
       "    </tr>\n",
       "    <tr>\n",
       "      <th>max</th>\n",
       "      <td>100.000000</td>\n",
       "      <td>100.000000</td>\n",
       "      <td>100.000000</td>\n",
       "      <td>100.000000</td>\n",
       "      <td>100.000000</td>\n",
       "      <td>100.000000</td>\n",
       "      <td>100.000000</td>\n",
       "      <td>100.000000</td>\n",
       "      <td>100.000000</td>\n",
       "      <td>100.000000</td>\n",
       "      <td>100.000000</td>\n",
       "      <td>100.000000</td>\n",
       "      <td>100.000000</td>\n",
       "      <td>100.000000</td>\n",
       "      <td>100.000000</td>\n",
       "      <td>100.000000</td>\n",
       "    </tr>\n",
       "  </tbody>\n",
       "</table>\n",
       "</div>"
      ],
      "text/plain": [
       "                  0            57            31            68            72  \\\n",
       "count  10991.000000  10991.000000  10991.000000  10991.000000  10991.000000   \n",
       "mean      39.508871     83.221545     41.047402     82.075789     49.762351   \n",
       "std       34.184852     19.043429     26.652911     21.033956     33.840402   \n",
       "min        0.000000      0.000000      0.000000      0.000000      0.000000   \n",
       "25%        7.000000     75.000000     20.000000     70.000000     18.000000   \n",
       "50%       33.000000     88.000000     40.000000     89.000000     53.000000   \n",
       "75%       66.000000    100.000000     59.000000    100.000000     78.000000   \n",
       "max      100.000000    100.000000    100.000000    100.000000    100.000000   \n",
       "\n",
       "                 90           100         100.1            76            75  \\\n",
       "count  10991.000000  10991.000000  10991.000000  10991.000000  10991.000000   \n",
       "mean      64.790738     51.256937     44.672550     56.447457     34.553362   \n",
       "std       27.323980     30.510892     29.880944     33.935001     27.597455   \n",
       "min        0.000000      0.000000      0.000000      0.000000      0.000000   \n",
       "25%       48.000000     28.000000     23.000000     28.000000      8.000000   \n",
       "50%       70.000000     54.000000     43.000000     59.000000     34.000000   \n",
       "75%       86.000000     74.000000     64.500000     88.000000     55.000000   \n",
       "max      100.000000    100.000000    100.000000    100.000000    100.000000   \n",
       "\n",
       "                 50            51            28            25            16  \\\n",
       "count  10991.000000  10991.000000  10991.000000  10991.000000  10991.000000   \n",
       "mean      60.087799     35.705031     54.604495     35.654990     47.384678   \n",
       "std       36.955062     27.482024     22.819212     33.128173     41.268168   \n",
       "min        0.000000      0.000000      0.000000      0.000000      0.000000   \n",
       "25%       24.000000     12.000000     41.000000      6.000000      0.000000   \n",
       "50%       72.000000     31.000000     53.000000     28.000000     41.000000   \n",
       "75%       96.000000     57.000000     68.000000     51.000000    100.000000   \n",
       "max      100.000000    100.000000    100.000000    100.000000    100.000000   \n",
       "\n",
       "                  0  \n",
       "count  10991.000000  \n",
       "mean      29.787644  \n",
       "std       35.722195  \n",
       "min        0.000000  \n",
       "25%        0.000000  \n",
       "50%       11.000000  \n",
       "75%       55.000000  \n",
       "max      100.000000  "
      ]
     },
     "execution_count": 37,
     "metadata": {},
     "output_type": "execute_result"
    }
   ],
   "source": [
    "X.describe()"
   ]
  },
  {
   "cell_type": "code",
   "execution_count": 38,
   "metadata": {},
   "outputs": [
    {
     "data": {
      "text/plain": [
       "0    9\n",
       "1    2\n",
       "2    5\n",
       "3    7\n",
       "4    5\n",
       "Name:  1, dtype: int64"
      ]
     },
     "execution_count": 38,
     "metadata": {},
     "output_type": "execute_result"
    }
   ],
   "source": [
    "y = data.iloc[:,-1]\n",
    "y.head()"
   ]
  },
  {
   "cell_type": "code",
   "execution_count": 39,
   "metadata": {},
   "outputs": [],
   "source": [
    "# Select Model\n",
    "from sklearn.neighbors import KNeighborsClassifier\n",
    "from sklearn.naive_bayes import GaussianNB\n",
    "from sklearn.tree import DecisionTreeClassifier\n",
    "from sklearn.svm import SVC\n",
    "from sklearn.model_selection import cross_val_score,KFold,train_test_split\n",
    "from sklearn.metrics import accuracy_score,precision_score,confusion_matrix,classification_report"
   ]
  },
  {
   "cell_type": "code",
   "execution_count": 40,
   "metadata": {},
   "outputs": [],
   "source": [
    "X_train, X_test, y_train, y_test = train_test_split(X,y,test_size=0.3,\n",
    "                                                    random_state=42)"
   ]
  },
  {
   "cell_type": "code",
   "execution_count": 41,
   "metadata": {},
   "outputs": [
    {
     "name": "stdout",
     "output_type": "stream",
     "text": [
      "accuracy is:  96.27046694966647 for k_value: 1\n",
      "accuracy is:  95.57307459066101 for k_value: 2\n",
      "accuracy is:  96.42207398423287 for k_value: 3\n",
      "accuracy is:  96.30078835657974 for k_value: 4\n",
      "accuracy is:  96.33110976349303 for k_value: 5\n",
      "accuracy is:  96.02789569436023 for k_value: 6\n",
      "accuracy is:  96.11885991510006 for k_value: 7\n",
      "accuracy is:  96.0582171012735 for k_value: 8\n",
      "accuracy is:  95.84596725288054 for k_value: 9\n",
      "\n"
     ]
    },
    {
     "data": {
      "text/plain": [
       "Text(0, 0.5, 'test accuracy')"
      ]
     },
     "execution_count": 41,
     "metadata": {},
     "output_type": "execute_result"
    },
    {
     "data": {
      "image/png": "[encoded data removed]",
      "text/plain": [
       "<Figure size 432x288 with 1 Axes>"
      ]
     },
     "metadata": {
      "needs_background": "light"
     },
     "output_type": "display_data"
    }
   ],
   "source": [
    "list_k = []\n",
    "list_acc = []\n",
    "for k_value in range(1,10):\n",
    "    list_k.append(k_value)\n",
    "    model = KNeighborsClassifier(n_neighbors=k_value)\n",
    "    model.fit(X_train,y_train)\n",
    "    y_pred = model.predict(X_test)\n",
    "    acc = accuracy_score(y_test,y_pred)*100\n",
    "    list_acc.append(acc)\n",
    "    print('accuracy is: ',acc,'for k_value:',k_value)\n",
    "vitri = list_acc.index(max(list_acc))\n",
    "k = list_k[vitri]\n",
    "print('')\n",
    "plt.plot(list_k,list_acc)\n",
    "plt.xlabel('number of neighbor k')\n",
    "plt.ylabel('test accuracy')"
   ]
  },
  {
   "cell_type": "code",
   "execution_count": 42,
   "metadata": {},
   "outputs": [],
   "source": [
    "models = [\n",
    "    GaussianNB(),\n",
    "    KNeighborsClassifier(n_neighbors=3),\n",
    "    DecisionTreeClassifier(),\n",
    "    SVC(),\n",
    "]"
   ]
  },
  {
   "cell_type": "code",
   "execution_count": 43,
   "metadata": {},
   "outputs": [],
   "source": [
    "CV = 10\n",
    "cv_df = pd.DataFrame(index=range(CV * len(models)))\n",
    "entries = []\n",
    "i=0\n",
    "for model in models:\n",
    "    model_name = model.__class__.__name__\n",
    "    accuracies = cross_val_score(model, X_train, y_train, cv=CV) \n",
    "    entries.append([model_name, accuracies.mean()])\n",
    "    i += 1\n",
    "cv_df = pd.DataFrame(entries, columns=['model_name', 'accuracy'])"
   ]
  },
  {
   "cell_type": "code",
   "execution_count": 44,
   "metadata": {},
   "outputs": [
    {
     "data": {
      "text/html": [
       "<div>\n",
       "<style scoped>\n",
       "    .dataframe tbody tr th:only-of-type {\n",
       "        vertical-align: middle;\n",
       "    }\n",
       "\n",
       "    .dataframe tbody tr th {\n",
       "        vertical-align: top;\n",
       "    }\n",
       "\n",
       "    .dataframe thead th {\n",
       "        text-align: right;\n",
       "    }\n",
       "</style>\n",
       "<table border=\"1\" class=\"dataframe\">\n",
       "  <thead>\n",
       "    <tr style=\"text-align: right;\">\n",
       "      <th></th>\n",
       "      <th>model_name</th>\n",
       "      <th>accuracy</th>\n",
       "    </tr>\n",
       "  </thead>\n",
       "  <tbody>\n",
       "    <tr>\n",
       "      <th>0</th>\n",
       "      <td>GaussianNB</td>\n",
       "      <td>0.799552</td>\n",
       "    </tr>\n",
       "    <tr>\n",
       "      <th>1</th>\n",
       "      <td>KNeighborsClassifier</td>\n",
       "      <td>0.960093</td>\n",
       "    </tr>\n",
       "    <tr>\n",
       "      <th>2</th>\n",
       "      <td>DecisionTreeClassifier</td>\n",
       "      <td>0.892887</td>\n",
       "    </tr>\n",
       "    <tr>\n",
       "      <th>3</th>\n",
       "      <td>SVC</td>\n",
       "      <td>0.957495</td>\n",
       "    </tr>\n",
       "  </tbody>\n",
       "</table>\n",
       "</div>"
      ],
      "text/plain": [
       "               model_name  accuracy\n",
       "0              GaussianNB  0.799552\n",
       "1    KNeighborsClassifier  0.960093\n",
       "2  DecisionTreeClassifier  0.892887\n",
       "3                     SVC  0.957495"
      ]
     },
     "execution_count": 44,
     "metadata": {},
     "output_type": "execute_result"
    }
   ],
   "source": [
    "cv_df"
   ]
  },
  {
   "cell_type": "markdown",
   "metadata": {},
   "source": [
    "# KNN and DecisionTree have high accuracy\n"
   ]
  },
  {
   "cell_type": "code",
   "execution_count": 45,
   "metadata": {},
   "outputs": [
    {
     "name": "stdout",
     "output_type": "stream",
     "text": [
      "accuracy: 0.9642207398423287\n",
      "training score: 0.978161965423112\n",
      "test score: 0.9642207398423287\n"
     ]
    }
   ],
   "source": [
    "# Fit KNN\n",
    "model_knn = KNeighborsClassifier(n_neighbors=3)\n",
    "model_knn.fit(X_train,y_train)\n",
    "y_pred_knn = model_knn.predict(X_test)\n",
    "print('accuracy:',accuracy_score(y_test,y_pred_knn))\n",
    "print(\"training score:\",model_knn.score(X_train,y_train))\n",
    "print(\"test score:\",model_knn.score(X_test,y_test))"
   ]
  },
  {
   "cell_type": "code",
   "execution_count": 46,
   "metadata": {},
   "outputs": [
    {
     "data": {
      "text/plain": [
       "array([[340,   0,   0,   0,   4,   0,   1,   0,   1,   0],\n",
       "       [  0, 313,  18,   4,   0,   3,   0,   2,   0,   2],\n",
       "       [  0,  10, 320,   1,   0,   0,   1,   3,   0,   0],\n",
       "       [  0,   3,   0, 314,   1,   1,   0,   0,   0,   1],\n",
       "       [  1,   0,   0,   0, 344,   2,   4,   0,   0,   1],\n",
       "       [  0,   1,   0,   7,   1, 311,   0,   0,   1,   1],\n",
       "       [  0,   0,   0,   0,   1,   1, 305,   0,   0,   0],\n",
       "       [  0,   8,   3,   2,   0,   1,   0, 325,   0,   0],\n",
       "       [  4,   1,   1,   1,   0,   0,   0,   2, 312,   1],\n",
       "       [  1,   4,   0,   4,   4,   4,   0,   0,   0, 296]], dtype=int64)"
      ]
     },
     "execution_count": 46,
     "metadata": {},
     "output_type": "execute_result"
    }
   ],
   "source": [
    "confusion_matrix(y_test,y_pred_knn)"
   ]
  },
  {
   "cell_type": "code",
   "execution_count": 47,
   "metadata": {},
   "outputs": [
    {
     "data": {
      "text/plain": [
       "<matplotlib.axes._subplots.AxesSubplot at 0x16dcd0345c8>"
      ]
     },
     "execution_count": 47,
     "metadata": {},
     "output_type": "execute_result"
    },
    {
     "data": {
      "image/png": "[encoded data removed]",
      "text/plain": [
       "<Figure size 432x288 with 2 Axes>"
      ]
     },
     "metadata": {
      "needs_background": "light"
     },
     "output_type": "display_data"
    }
   ],
   "source": [
    "sns.heatmap(confusion_matrix(y_test,y_pred_knn))"
   ]
  },
  {
   "cell_type": "code",
   "execution_count": 48,
   "metadata": {},
   "outputs": [
    {
     "name": "stdout",
     "output_type": "stream",
     "text": [
      "              precision    recall  f1-score   support\n",
      "\n",
      "           0       0.98      0.98      0.98       346\n",
      "           1       0.92      0.92      0.92       342\n",
      "           2       0.94      0.96      0.95       335\n",
      "           3       0.94      0.98      0.96       320\n",
      "           4       0.97      0.98      0.97       352\n",
      "           5       0.96      0.97      0.96       322\n",
      "           6       0.98      0.99      0.99       307\n",
      "           7       0.98      0.96      0.97       339\n",
      "           8       0.99      0.97      0.98       322\n",
      "           9       0.98      0.95      0.96       313\n",
      "\n",
      "    accuracy                           0.96      3298\n",
      "   macro avg       0.96      0.96      0.96      3298\n",
      "weighted avg       0.96      0.96      0.96      3298\n",
      "\n"
     ]
    }
   ],
   "source": [
    "print(classification_report(y_test,y_pred_knn))"
   ]
  },
  {
   "cell_type": "code",
   "execution_count": 49,
   "metadata": {},
   "outputs": [
    {
     "name": "stdout",
     "output_type": "stream",
     "text": [
      "Accuracy: 0.8887204366282595\n",
      "training score: 1.0\n",
      "test score: 0.8887204366282595\n"
     ]
    }
   ],
   "source": [
    "# Fit DecisionTree model\n",
    "clf=DecisionTreeClassifier()\n",
    "clf.fit(X_train,y_train)\n",
    "y_pred_1=clf.predict(X_test)\n",
    "print(\"Accuracy:\",accuracy_score(y_test, y_pred_1))\n",
    "print(\"training score:\",clf.score(X_train,y_train))\n",
    "print(\"test score:\",clf.score(X_test,y_test))"
   ]
  },
  {
   "cell_type": "code",
   "execution_count": 50,
   "metadata": {},
   "outputs": [
    {
     "data": {
      "text/plain": [
       "array([[331,   0,   0,   0,   3,   0,   2,   1,   6,   3],\n",
       "       [  0, 291,  25,   2,   4,   1,   1,   9,   2,   7],\n",
       "       [  0,  26, 294,   1,   1,   1,   0,   8,   2,   2],\n",
       "       [  0,   6,   5, 291,   2,   8,   1,   3,   1,   3],\n",
       "       [  0,   3,   0,   0, 330,   3,   4,   2,   1,   9],\n",
       "       [  0,   2,   1,  13,   4, 271,   1,   5,   8,  17],\n",
       "       [  5,   2,   1,   2,   2,   1, 288,   1,   2,   3],\n",
       "       [  0,   7,   3,   6,   1,   4,   1, 302,  13,   2],\n",
       "       [ 14,   1,   7,   1,   2,   7,   5,  17, 262,   6],\n",
       "       [  0,   6,   1,  10,   8,  11,   2,   2,   2, 271]], dtype=int64)"
      ]
     },
     "execution_count": 50,
     "metadata": {},
     "output_type": "execute_result"
    }
   ],
   "source": [
    "confusion_matrix(y_test,y_pred_1)"
   ]
  },
  {
   "cell_type": "code",
   "execution_count": 51,
   "metadata": {},
   "outputs": [
    {
     "data": {
      "text/plain": [
       "<matplotlib.axes._subplots.AxesSubplot at 0x16dcd032948>"
      ]
     },
     "execution_count": 51,
     "metadata": {},
     "output_type": "execute_result"
    },
    {
     "data": {
      "image/png": "[encoded data removed]",
      "text/plain": [
       "<Figure size 432x288 with 2 Axes>"
      ]
     },
     "metadata": {
      "needs_background": "light"
     },
     "output_type": "display_data"
    }
   ],
   "source": [
    "sns.heatmap(confusion_matrix(y_test,y_pred_1))"
   ]
  },
  {
   "cell_type": "code",
   "execution_count": 52,
   "metadata": {},
   "outputs": [
    {
     "name": "stdout",
     "output_type": "stream",
     "text": [
      "              precision    recall  f1-score   support\n",
      "\n",
      "           0       0.95      0.96      0.95       346\n",
      "           1       0.85      0.85      0.85       342\n",
      "           2       0.87      0.88      0.88       335\n",
      "           3       0.89      0.91      0.90       320\n",
      "           4       0.92      0.94      0.93       352\n",
      "           5       0.88      0.84      0.86       322\n",
      "           6       0.94      0.94      0.94       307\n",
      "           7       0.86      0.89      0.88       339\n",
      "           8       0.88      0.81      0.84       322\n",
      "           9       0.84      0.87      0.85       313\n",
      "\n",
      "    accuracy                           0.89      3298\n",
      "   macro avg       0.89      0.89      0.89      3298\n",
      "weighted avg       0.89      0.89      0.89      3298\n",
      "\n"
     ]
    }
   ],
   "source": [
    "print(classification_report(y_test,y_pred_1))"
   ]
  },
  {
   "cell_type": "markdown",
   "metadata": {},
   "source": [
    "It seems DecisionTree is a bit overfiting\n",
    "\n",
    "So I chose KNN because this model is more suitable for accuracy"
   ]
  },
  {
   "cell_type": "markdown",
   "metadata": {},
   "source": [
    "# Reduce Dimension PCA"
   ]
  },
  {
   "cell_type": "code",
   "execution_count": 53,
   "metadata": {},
   "outputs": [],
   "source": [
    "from sklearn.decomposition import PCA"
   ]
  },
  {
   "cell_type": "code",
   "execution_count": 54,
   "metadata": {},
   "outputs": [],
   "source": [
    "pca = PCA(.95)"
   ]
  },
  {
   "cell_type": "code",
   "execution_count": 55,
   "metadata": {},
   "outputs": [
    {
     "data": {
      "text/plain": [
       "PCA(n_components=0.95)"
      ]
     },
     "execution_count": 55,
     "metadata": {},
     "output_type": "execute_result"
    }
   ],
   "source": [
    "pca.fit(X_train)"
   ]
  },
  {
   "cell_type": "code",
   "execution_count": 56,
   "metadata": {},
   "outputs": [
    {
     "data": {
      "text/plain": [
       "11"
      ]
     },
     "execution_count": 56,
     "metadata": {},
     "output_type": "execute_result"
    }
   ],
   "source": [
    "pca.n_components_"
   ]
  },
  {
   "cell_type": "code",
   "execution_count": 57,
   "metadata": {},
   "outputs": [],
   "source": [
    "X_train = pca.transform(X_train)"
   ]
  },
  {
   "cell_type": "code",
   "execution_count": 58,
   "metadata": {},
   "outputs": [],
   "source": [
    "X_test = pca.transform(X_test)"
   ]
  },
  {
   "cell_type": "code",
   "execution_count": 59,
   "metadata": {},
   "outputs": [
    {
     "name": "stdout",
     "output_type": "stream",
     "text": [
      "accuracy is:  95.0879320800485 for k_value: 1\n",
      "accuracy is:  94.45118253486962 for k_value: 2\n",
      "accuracy is:  95.63371740448757 for k_value: 3\n",
      "accuracy is:  95.0879320800485 for k_value: 4\n",
      "accuracy is:  95.30018192844148 for k_value: 5\n",
      "accuracy is:  95.30018192844148 for k_value: 6\n",
      "accuracy is:  95.0879320800485 for k_value: 7\n",
      "accuracy is:  94.84536082474226 for k_value: 8\n",
      "accuracy is:  95.0879320800485 for k_value: 9\n",
      "\n"
     ]
    },
    {
     "data": {
      "text/plain": [
       "Text(0, 0.5, 'test accuracy')"
      ]
     },
     "execution_count": 59,
     "metadata": {},
     "output_type": "execute_result"
    },
    {
     "data": {
      "image/png": "[encoded data removed]",
      "text/plain": [
       "<Figure size 432x288 with 1 Axes>"
      ]
     },
     "metadata": {
      "needs_background": "light"
     },
     "output_type": "display_data"
    }
   ],
   "source": [
    "list_k = []\n",
    "list_acc = []\n",
    "for k_value in range(1,10):\n",
    "    list_k.append(k_value)\n",
    "    model = KNeighborsClassifier(n_neighbors=k_value)\n",
    "    model.fit(X_train,y_train)\n",
    "    y_pred = model.predict(X_test)\n",
    "    acc = accuracy_score(y_test,y_pred)*100\n",
    "    list_acc.append(acc)\n",
    "    print('accuracy is: ',acc,'for k_value:',k_value)\n",
    "vitri = list_acc.index(max(list_acc))\n",
    "k = list_k[vitri]\n",
    "print('')\n",
    "plt.plot(list_k,list_acc)\n",
    "plt.xlabel('number of neighbor k')\n",
    "plt.ylabel('test accuracy')"
   ]
  },
  {
   "cell_type": "code",
   "execution_count": 60,
   "metadata": {},
   "outputs": [
    {
     "name": "stdout",
     "output_type": "stream",
     "text": [
      "accuracy: 0.9563371740448757\n",
      "training score: 0.9716625503704667\n",
      "test score: 0.9563371740448757\n"
     ]
    }
   ],
   "source": [
    "model_knn = KNeighborsClassifier(n_neighbors=3)\n",
    "model_knn.fit(X_train,y_train)\n",
    "y_pred_knn = model_knn.predict(X_test)\n",
    "print('accuracy:',accuracy_score(y_test,y_pred_knn))\n",
    "print(\"training score:\",model_knn.score(X_train,y_train))\n",
    "print(\"test score:\",model_knn.score(X_test,y_test))"
   ]
  },
  {
   "cell_type": "markdown",
   "metadata": {},
   "source": [
    "# Conclusion: Accuracy does not change significantly => it is not necessary to use PCA"
   ]
  },
  {
   "cell_type": "code",
   "execution_count": null,
   "metadata": {},
   "outputs": [],
   "source": []
  }
 ],
 "metadata": {
  "kernelspec": {
   "display_name": "Python 3",
   "language": "python",
   "name": "python3"
  },
  "language_info": {
   "codemirror_mode": {
    "name": "ipython",
    "version": 3
   },
   "file_extension": ".py",
   "mimetype": "text/x-python",
   "name": "python",
   "nbconvert_exporter": "python",
   "pygments_lexer": "ipython3",
   "version": "3.7.4"
  }
 },
 "nbformat": 4,
 "nbformat_minor": 4
}
